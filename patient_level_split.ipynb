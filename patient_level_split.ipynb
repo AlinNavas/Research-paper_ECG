{
 "cells": [
  {
   "cell_type": "code",
   "execution_count": 1,
   "metadata": {},
   "outputs": [],
   "source": [
    "import glob\n",
    "import numpy as np"
   ]
  },
  {
   "cell_type": "code",
   "execution_count": 2,
   "metadata": {},
   "outputs": [
    {
     "name": "stdout",
     "output_type": "stream",
     "text": [
      "Loading  ./data/preprocessed/all_data.csv\n"
     ]
    }
   ],
   "source": [
    "\n",
    "\n",
    "length = 277\n",
    "data = np.empty(shape=[0, length])\n",
    "\n",
    "all_data = glob.glob('./data/preprocessed/all_data.csv')\n",
    "\n",
    "for j in all_data:\n",
    "    print('Loading ', j)\n",
    "    csvrows = np.loadtxt(j, delimiter=',')\n",
    "    data = np.append(data, csvrows, axis=0)\n"
   ]
  },
  {
   "cell_type": "code",
   "execution_count": 3,
   "metadata": {},
   "outputs": [
    {
     "name": "stdout",
     "output_type": "stream",
     "text": [
      "(139912, 277)\n"
     ]
    }
   ],
   "source": [
    "\n",
    "print(data.shape)\n",
    "DS1 = {101, 101, 106, 108,\n",
    "109, 112, 114, 115, 116, 118, 119, 122, 124, 201, 203, 205, 207, 208, 209, 215, 220, 223,230}\n",
    "DS2 = { 100, 103, 105,\n",
    "111, 113, 117, 121, 123, 200, 202, 210, 212, 213, 214, 219, 221, 222, 228, 231, 232, 233, 234}\n",
    "\n",
    "DS1_data = np.empty(shape=[0, length])  \n",
    "DS2_data = np.empty(shape=[0, length])\n",
    "\n",
    "for i in range(data.shape[0]):\n",
    "    if int(data[i][-1]) in DS1:\n",
    "        DS1_data = np.append(DS1_data, [data[i]], axis=0)\n",
    "    else:\n",
    "        DS2_data = np.append(DS2_data, [data[i]], axis=0)"
   ]
  },
  {
   "cell_type": "code",
   "execution_count": 4,
   "metadata": {},
   "outputs": [
    {
     "data": {
      "text/plain": [
       "((72795, 277), (67117, 277))"
      ]
     },
     "execution_count": 4,
     "metadata": {},
     "output_type": "execute_result"
    }
   ],
   "source": [
    "DS1_data.shape, DS2_data.shape\n"
   ]
  },
  {
   "cell_type": "code",
   "execution_count": 5,
   "metadata": {},
   "outputs": [],
   "source": [
    "\n",
    "with open('./data/train_test/DS1_data.csv', \"wb\") as fin:\n",
    "    np.savetxt(fin, DS1_data, delimiter=\",\", fmt='%f')\n",
    "\n",
    "with open('./data/train_test/DS2_data.csv', \"wb\") as fin:\n",
    "    np.savetxt(fin, DS1_data, delimiter=\",\", fmt='%f')"
   ]
  }
 ],
 "metadata": {
  "kernelspec": {
   "display_name": "base",
   "language": "python",
   "name": "python3"
  },
  "language_info": {
   "codemirror_mode": {
    "name": "ipython",
    "version": 3
   },
   "file_extension": ".py",
   "mimetype": "text/x-python",
   "name": "python",
   "nbconvert_exporter": "python",
   "pygments_lexer": "ipython3",
   "version": "3.10.9"
  }
 },
 "nbformat": 4,
 "nbformat_minor": 2
}
