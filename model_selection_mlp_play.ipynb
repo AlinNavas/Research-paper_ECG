{
 "cells": [
  {
   "cell_type": "code",
   "execution_count": 7,
   "metadata": {},
   "outputs": [],
   "source": [
    "import numpy as np\n",
    "import pickle\n",
    "import glob\n",
    "import matplotlib.pyplot as plt\n",
    "import pandas as pd\n",
    "from scipy import *\n",
    "import os\n",
    "import seaborn as sns\n",
    "import tensorflow as tf\n",
    "from tensorflow.keras.utils import to_categorical\n",
    "from tensorflow.keras.models import Sequential\n",
    "from sklearn.model_selection import train_test_split\n",
    "from sklearn import *\n",
    "from sklearn.metrics import *\n",
    "sns.set()\n",
    "import warnings\n",
    "warnings.filterwarnings(\"ignore\")\n",
    "length = 277\n"
   ]
  },
  {
   "cell_type": "code",
   "execution_count": 8,
   "metadata": {},
   "outputs": [
    {
     "name": "stdout",
     "output_type": "stream",
     "text": [
      "[name: \"/device:CPU:0\"\n",
      "device_type: \"CPU\"\n",
      "memory_limit: 268435456\n",
      "locality {\n",
      "}\n",
      "incarnation: 16223728225098454317\n",
      "xla_global_id: -1\n",
      "]\n"
     ]
    }
   ],
   "source": [
    "from tensorflow.python.client import device_lib\n",
    "print(device_lib.list_local_devices())"
   ]
  },
  {
   "cell_type": "code",
   "execution_count": 9,
   "metadata": {},
   "outputs": [
    {
     "name": "stdout",
     "output_type": "stream",
     "text": [
      "(16607, 277)\n",
      "(67116, 277)\n",
      "X_train shape: (13285, 275)\n",
      "X_val shape: (3322, 275)\n",
      "y_train shape: (13285,)\n",
      "y_val shape: (3322,)\n"
     ]
    }
   ],
   "source": [
    "train_values = pd.read_csv('./data/train_test/train_patients.csv').values\n",
    "test_values = pd.read_csv('./data/train_test/test_patients.csv').values\n",
    "\n",
    "print(train_values.shape)\n",
    "print(test_values.shape)\n",
    "\n",
    "\n",
    "# Separate the training and testing data, and one-hot encode Y:\n",
    "X_train = train_values[:,:-2]\n",
    "X_test = test_values[:,:-2]\n",
    "y_train = train_values[:,-2]\n",
    "y_test = test_values[:,-2]\n",
    "X_test1 = X_test.reshape(-1, X_train.shape[1], 1)\n",
    "y_test1=to_categorical(y_test)\n",
    "\n",
    "\n",
    "X_train, X_val, y_train, y_val = train_test_split(X_train, y_train, test_size=0.2, random_state=42,stratify=y_train)\n",
    "\n",
    "print(\"X_train shape:\", X_train.shape)\n",
    "print(\"X_val shape:\", X_val.shape)\n",
    "print(\"y_train shape:\", y_train.shape)\n",
    "print(\"y_val shape:\", y_val.shape)\n",
    "X_train1 = X_train.reshape(-1, X_train.shape[1], 1)\n",
    "y_train1=to_categorical(y_train)\n",
    "\n",
    "X_val1 = X_val.reshape(-1, X_train.shape[1], 1)\n",
    "y_val1=to_categorical(y_val)\n"
   ]
  },
  {
   "cell_type": "code",
   "execution_count": 10,
   "metadata": {},
   "outputs": [
    {
     "name": "stderr",
     "output_type": "stream",
     "text": [
      "[I 2024-03-19 19:58:44,230] A new study created in memory with name: no-name-c51a1804-8ab7-47a4-92aa-8cd47c366d64\n"
     ]
    },
    {
     "name": "stdout",
     "output_type": "stream",
     "text": [
      "Epoch 1/50\n",
      "416/416 [==============================] - 2s 4ms/step - loss: 0.5551 - accuracy: 0.8263 - val_loss: 0.3109 - val_accuracy: 0.9064\n",
      "Epoch 2/50\n",
      "416/416 [==============================] - 1s 3ms/step - loss: 0.3526 - accuracy: 0.8921 - val_loss: 0.2572 - val_accuracy: 0.9118\n",
      "Epoch 3/50\n",
      "416/416 [==============================] - 1s 3ms/step - loss: 0.2795 - accuracy: 0.9148 - val_loss: 0.1871 - val_accuracy: 0.9422\n",
      "Epoch 4/50\n",
      "416/416 [==============================] - 1s 3ms/step - loss: 0.2470 - accuracy: 0.9221 - val_loss: 0.1730 - val_accuracy: 0.9449\n",
      "Epoch 5/50\n",
      "416/416 [==============================] - 1s 3ms/step - loss: 0.2119 - accuracy: 0.9329 - val_loss: 0.1507 - val_accuracy: 0.9533\n",
      "Epoch 6/50\n",
      "416/416 [==============================] - 1s 3ms/step - loss: 0.1881 - accuracy: 0.9368 - val_loss: 0.1177 - val_accuracy: 0.9642\n",
      "Epoch 7/50\n",
      "416/416 [==============================] - 1s 3ms/step - loss: 0.1735 - accuracy: 0.9429 - val_loss: 0.1078 - val_accuracy: 0.9660\n",
      "Epoch 8/50\n",
      "416/416 [==============================] - 2s 6ms/step - loss: 0.1556 - accuracy: 0.9493 - val_loss: 0.1119 - val_accuracy: 0.9639\n",
      "Epoch 9/50\n",
      "416/416 [==============================] - 7s 18ms/step - loss: 0.1456 - accuracy: 0.9520 - val_loss: 0.1046 - val_accuracy: 0.9678\n",
      "Epoch 10/50\n",
      "416/416 [==============================] - 3s 7ms/step - loss: 0.1376 - accuracy: 0.9538 - val_loss: 0.0975 - val_accuracy: 0.9687\n",
      "Epoch 11/50\n",
      "416/416 [==============================] - 1s 3ms/step - loss: 0.1285 - accuracy: 0.9575 - val_loss: 0.0918 - val_accuracy: 0.9714\n",
      "Epoch 12/50\n",
      "416/416 [==============================] - 1s 3ms/step - loss: 0.1241 - accuracy: 0.9589 - val_loss: 0.0818 - val_accuracy: 0.9753\n",
      "Epoch 13/50\n",
      "416/416 [==============================] - 1s 3ms/step - loss: 0.1119 - accuracy: 0.9632 - val_loss: 0.0802 - val_accuracy: 0.9747\n",
      "Epoch 14/50\n",
      "416/416 [==============================] - 1s 3ms/step - loss: 0.1142 - accuracy: 0.9615 - val_loss: 0.0750 - val_accuracy: 0.9774\n",
      "Epoch 15/50\n",
      "416/416 [==============================] - 1s 3ms/step - loss: 0.1071 - accuracy: 0.9646 - val_loss: 0.0752 - val_accuracy: 0.9777\n",
      "Epoch 16/50\n",
      "416/416 [==============================] - 1s 3ms/step - loss: 0.1046 - accuracy: 0.9652 - val_loss: 0.0682 - val_accuracy: 0.9774\n",
      "Epoch 17/50\n",
      "416/416 [==============================] - 1s 3ms/step - loss: 0.0920 - accuracy: 0.9685 - val_loss: 0.0763 - val_accuracy: 0.9759\n",
      "Epoch 18/50\n",
      "416/416 [==============================] - 1s 3ms/step - loss: 0.0937 - accuracy: 0.9699 - val_loss: 0.0694 - val_accuracy: 0.9801\n",
      "Epoch 19/50\n",
      "416/416 [==============================] - 1s 3ms/step - loss: 0.0910 - accuracy: 0.9705 - val_loss: 0.0666 - val_accuracy: 0.9801\n",
      "Epoch 20/50\n",
      "416/416 [==============================] - 1s 3ms/step - loss: 0.0912 - accuracy: 0.9698 - val_loss: 0.0720 - val_accuracy: 0.9771\n",
      "Epoch 21/50\n",
      "416/416 [==============================] - 1s 3ms/step - loss: 0.0905 - accuracy: 0.9691 - val_loss: 0.0648 - val_accuracy: 0.9819\n",
      "Epoch 22/50\n",
      "416/416 [==============================] - 1s 3ms/step - loss: 0.0841 - accuracy: 0.9723 - val_loss: 0.0663 - val_accuracy: 0.9792\n",
      "Epoch 23/50\n",
      "416/416 [==============================] - 1s 3ms/step - loss: 0.0869 - accuracy: 0.9689 - val_loss: 0.0681 - val_accuracy: 0.9813\n",
      "Epoch 24/50\n",
      "416/416 [==============================] - 1s 3ms/step - loss: 0.0791 - accuracy: 0.9728 - val_loss: 0.0665 - val_accuracy: 0.9780\n",
      "Epoch 25/50\n",
      "416/416 [==============================] - 1s 3ms/step - loss: 0.0751 - accuracy: 0.9753 - val_loss: 0.0587 - val_accuracy: 0.9822\n",
      "Epoch 26/50\n",
      "416/416 [==============================] - 1s 3ms/step - loss: 0.0684 - accuracy: 0.9777 - val_loss: 0.0577 - val_accuracy: 0.9819\n",
      "Epoch 27/50\n",
      "416/416 [==============================] - 1s 3ms/step - loss: 0.0710 - accuracy: 0.9755 - val_loss: 0.0578 - val_accuracy: 0.9840\n",
      "Epoch 28/50\n",
      "416/416 [==============================] - 1s 3ms/step - loss: 0.0660 - accuracy: 0.9782 - val_loss: 0.0643 - val_accuracy: 0.9792\n",
      "Epoch 29/50\n",
      "416/416 [==============================] - 1s 3ms/step - loss: 0.0660 - accuracy: 0.9773 - val_loss: 0.0606 - val_accuracy: 0.9816\n",
      "Epoch 30/50\n",
      "416/416 [==============================] - 1s 3ms/step - loss: 0.0658 - accuracy: 0.9788 - val_loss: 0.0624 - val_accuracy: 0.9819\n",
      "Epoch 31/50\n",
      "416/416 [==============================] - 1s 3ms/step - loss: 0.0646 - accuracy: 0.9792 - val_loss: 0.0645 - val_accuracy: 0.9783\n"
     ]
    },
    {
     "name": "stderr",
     "output_type": "stream",
     "text": [
      "[I 2024-03-19 19:59:35,693] Trial 0 finished with value: 0.9783263206481934 and parameters: {'num_layers': 2, 'layer_size': 172, 'dropout_rate': 0.1248062459518126, 'use_batch_norm': True, 'activation': 'tanh', 'learning_rate': 0.0006269130974735595}. Best is trial 0 with value: 0.9783263206481934.\n"
     ]
    },
    {
     "name": "stdout",
     "output_type": "stream",
     "text": [
      "Epoch 1/50\n",
      "416/416 [==============================] - 2s 3ms/step - loss: 0.6375 - accuracy: 0.7911 - val_loss: 0.2680 - val_accuracy: 0.9163\n",
      "Epoch 2/50\n",
      "416/416 [==============================] - 1s 3ms/step - loss: 0.3398 - accuracy: 0.8924 - val_loss: 0.1870 - val_accuracy: 0.9416\n",
      "Epoch 3/50\n",
      "416/416 [==============================] - 1s 3ms/step - loss: 0.2781 - accuracy: 0.9090 - val_loss: 0.1632 - val_accuracy: 0.9449\n",
      "Epoch 4/50\n",
      "416/416 [==============================] - 1s 3ms/step - loss: 0.2432 - accuracy: 0.9195 - val_loss: 0.1377 - val_accuracy: 0.9530\n",
      "Epoch 5/50\n",
      "416/416 [==============================] - 1s 3ms/step - loss: 0.2200 - accuracy: 0.9274 - val_loss: 0.1292 - val_accuracy: 0.9591\n",
      "Epoch 6/50\n",
      "416/416 [==============================] - 1s 3ms/step - loss: 0.2042 - accuracy: 0.9328 - val_loss: 0.1184 - val_accuracy: 0.9594\n",
      "Epoch 7/50\n",
      "416/416 [==============================] - 1s 3ms/step - loss: 0.1939 - accuracy: 0.9374 - val_loss: 0.1175 - val_accuracy: 0.9600\n",
      "Epoch 8/50\n",
      "416/416 [==============================] - 1s 3ms/step - loss: 0.1881 - accuracy: 0.9371 - val_loss: 0.1103 - val_accuracy: 0.9666\n",
      "Epoch 9/50\n",
      "416/416 [==============================] - 1s 3ms/step - loss: 0.1679 - accuracy: 0.9444 - val_loss: 0.1005 - val_accuracy: 0.9651\n",
      "Epoch 10/50\n",
      "416/416 [==============================] - 1s 3ms/step - loss: 0.1647 - accuracy: 0.9446 - val_loss: 0.0894 - val_accuracy: 0.9741\n",
      "Epoch 11/50\n",
      "416/416 [==============================] - 1s 3ms/step - loss: 0.1591 - accuracy: 0.9483 - val_loss: 0.0980 - val_accuracy: 0.9699\n",
      "Epoch 12/50\n",
      "416/416 [==============================] - 1s 3ms/step - loss: 0.1529 - accuracy: 0.9486 - val_loss: 0.0837 - val_accuracy: 0.9717\n",
      "Epoch 13/50\n",
      "416/416 [==============================] - 1s 3ms/step - loss: 0.1437 - accuracy: 0.9521 - val_loss: 0.0934 - val_accuracy: 0.9699\n",
      "Epoch 14/50\n",
      "416/416 [==============================] - 1s 3ms/step - loss: 0.1366 - accuracy: 0.9569 - val_loss: 0.0835 - val_accuracy: 0.9750\n",
      "Epoch 15/50\n",
      "416/416 [==============================] - 1s 3ms/step - loss: 0.1308 - accuracy: 0.9550 - val_loss: 0.0954 - val_accuracy: 0.9678\n",
      "Epoch 16/50\n",
      "416/416 [==============================] - 1s 3ms/step - loss: 0.1303 - accuracy: 0.9568 - val_loss: 0.0744 - val_accuracy: 0.9771\n",
      "Epoch 17/50\n",
      "416/416 [==============================] - 1s 3ms/step - loss: 0.1275 - accuracy: 0.9560 - val_loss: 0.0767 - val_accuracy: 0.9765\n",
      "Epoch 18/50\n",
      "416/416 [==============================] - 1s 3ms/step - loss: 0.1221 - accuracy: 0.9575 - val_loss: 0.0782 - val_accuracy: 0.9735\n",
      "Epoch 19/50\n",
      "416/416 [==============================] - 1s 3ms/step - loss: 0.1183 - accuracy: 0.9596 - val_loss: 0.0785 - val_accuracy: 0.9759\n",
      "Epoch 20/50\n",
      "416/416 [==============================] - 1s 3ms/step - loss: 0.1217 - accuracy: 0.9588 - val_loss: 0.0698 - val_accuracy: 0.9777\n",
      "Epoch 21/50\n",
      "416/416 [==============================] - 1s 3ms/step - loss: 0.1207 - accuracy: 0.9598 - val_loss: 0.0679 - val_accuracy: 0.9780\n",
      "Epoch 22/50\n",
      "416/416 [==============================] - 1s 3ms/step - loss: 0.1128 - accuracy: 0.9612 - val_loss: 0.0709 - val_accuracy: 0.9780\n",
      "Epoch 23/50\n",
      "416/416 [==============================] - 1s 3ms/step - loss: 0.1094 - accuracy: 0.9623 - val_loss: 0.0652 - val_accuracy: 0.9819\n",
      "Epoch 24/50\n",
      "416/416 [==============================] - 1s 3ms/step - loss: 0.1206 - accuracy: 0.9610 - val_loss: 0.0669 - val_accuracy: 0.9795\n",
      "Epoch 25/50\n",
      "416/416 [==============================] - 1s 3ms/step - loss: 0.1021 - accuracy: 0.9660 - val_loss: 0.0667 - val_accuracy: 0.9801\n",
      "Epoch 26/50\n",
      "416/416 [==============================] - 1s 3ms/step - loss: 0.0998 - accuracy: 0.9658 - val_loss: 0.0663 - val_accuracy: 0.9810\n",
      "Epoch 27/50\n",
      "416/416 [==============================] - 1s 3ms/step - loss: 0.1063 - accuracy: 0.9639 - val_loss: 0.0658 - val_accuracy: 0.9807\n",
      "Epoch 28/50\n",
      "416/416 [==============================] - 1s 3ms/step - loss: 0.0918 - accuracy: 0.9692 - val_loss: 0.0604 - val_accuracy: 0.9828\n",
      "Epoch 29/50\n",
      "416/416 [==============================] - 1s 3ms/step - loss: 0.1020 - accuracy: 0.9636 - val_loss: 0.0637 - val_accuracy: 0.9792\n",
      "Epoch 30/50\n",
      "416/416 [==============================] - 1s 3ms/step - loss: 0.0942 - accuracy: 0.9673 - val_loss: 0.0660 - val_accuracy: 0.9795\n",
      "Epoch 31/50\n",
      "416/416 [==============================] - 1s 3ms/step - loss: 0.0909 - accuracy: 0.9701 - val_loss: 0.0616 - val_accuracy: 0.9810\n",
      "Epoch 32/50\n",
      "416/416 [==============================] - 1s 3ms/step - loss: 0.0928 - accuracy: 0.9686 - val_loss: 0.0625 - val_accuracy: 0.9825\n",
      "Epoch 33/50\n",
      "416/416 [==============================] - 1s 3ms/step - loss: 0.0876 - accuracy: 0.9701 - val_loss: 0.0617 - val_accuracy: 0.9813\n"
     ]
    },
    {
     "name": "stderr",
     "output_type": "stream",
     "text": [
      "[I 2024-03-19 20:00:21,858] Trial 1 finished with value: 0.9813365340232849 and parameters: {'num_layers': 2, 'layer_size': 133, 'dropout_rate': 0.18550895913745297, 'use_batch_norm': True, 'activation': 'relu', 'learning_rate': 0.0005097814609911406}. Best is trial 1 with value: 0.9813365340232849.\n"
     ]
    },
    {
     "name": "stdout",
     "output_type": "stream",
     "text": [
      "Epoch 1/50\n",
      "416/416 [==============================] - 1s 2ms/step - loss: 0.9827 - accuracy: 0.6609 - val_loss: 0.4821 - val_accuracy: 0.8480\n",
      "Epoch 2/50\n",
      "416/416 [==============================] - 1s 2ms/step - loss: 0.5620 - accuracy: 0.8211 - val_loss: 0.3755 - val_accuracy: 0.8787\n",
      "Epoch 3/50\n",
      "416/416 [==============================] - 1s 2ms/step - loss: 0.4546 - accuracy: 0.8571 - val_loss: 0.3159 - val_accuracy: 0.8970\n",
      "Epoch 4/50\n",
      "416/416 [==============================] - 1s 2ms/step - loss: 0.3952 - accuracy: 0.8767 - val_loss: 0.2785 - val_accuracy: 0.9136\n",
      "Epoch 5/50\n",
      "416/416 [==============================] - 1s 2ms/step - loss: 0.3504 - accuracy: 0.8938 - val_loss: 0.2515 - val_accuracy: 0.9205\n",
      "Epoch 6/50\n",
      "416/416 [==============================] - 1s 2ms/step - loss: 0.3193 - accuracy: 0.9024 - val_loss: 0.2286 - val_accuracy: 0.9284\n",
      "Epoch 7/50\n",
      "416/416 [==============================] - 1s 2ms/step - loss: 0.2926 - accuracy: 0.9115 - val_loss: 0.2117 - val_accuracy: 0.9296\n",
      "Epoch 8/50\n",
      "416/416 [==============================] - 1s 2ms/step - loss: 0.2838 - accuracy: 0.9137 - val_loss: 0.2018 - val_accuracy: 0.9383\n",
      "Epoch 9/50\n",
      "416/416 [==============================] - 1s 2ms/step - loss: 0.2632 - accuracy: 0.9180 - val_loss: 0.1916 - val_accuracy: 0.9383\n",
      "Epoch 10/50\n",
      "416/416 [==============================] - 1s 2ms/step - loss: 0.2504 - accuracy: 0.9223 - val_loss: 0.1813 - val_accuracy: 0.9392\n",
      "Epoch 11/50\n",
      "416/416 [==============================] - 1s 2ms/step - loss: 0.2407 - accuracy: 0.9263 - val_loss: 0.1766 - val_accuracy: 0.9455\n",
      "Epoch 12/50\n",
      "416/416 [==============================] - 1s 2ms/step - loss: 0.2348 - accuracy: 0.9277 - val_loss: 0.1643 - val_accuracy: 0.9479\n",
      "Epoch 13/50\n",
      "416/416 [==============================] - 1s 2ms/step - loss: 0.2245 - accuracy: 0.9313 - val_loss: 0.1602 - val_accuracy: 0.9503\n",
      "Epoch 14/50\n",
      "416/416 [==============================] - 1s 2ms/step - loss: 0.2167 - accuracy: 0.9317 - val_loss: 0.1524 - val_accuracy: 0.9485\n",
      "Epoch 15/50\n",
      "416/416 [==============================] - 1s 2ms/step - loss: 0.2154 - accuracy: 0.9349 - val_loss: 0.1490 - val_accuracy: 0.9524\n",
      "Epoch 16/50\n",
      "416/416 [==============================] - 1s 2ms/step - loss: 0.2044 - accuracy: 0.9372 - val_loss: 0.1460 - val_accuracy: 0.9509\n",
      "Epoch 17/50\n",
      "416/416 [==============================] - 1s 2ms/step - loss: 0.2043 - accuracy: 0.9357 - val_loss: 0.1421 - val_accuracy: 0.9509\n",
      "Epoch 18/50\n",
      "416/416 [==============================] - 1s 2ms/step - loss: 0.1927 - accuracy: 0.9388 - val_loss: 0.1359 - val_accuracy: 0.9579\n",
      "Epoch 19/50\n",
      "416/416 [==============================] - 1s 2ms/step - loss: 0.1920 - accuracy: 0.9390 - val_loss: 0.1347 - val_accuracy: 0.9573\n",
      "Epoch 20/50\n",
      "416/416 [==============================] - 1s 2ms/step - loss: 0.1862 - accuracy: 0.9427 - val_loss: 0.1327 - val_accuracy: 0.9579\n",
      "Epoch 21/50\n",
      "416/416 [==============================] - 1s 2ms/step - loss: 0.1789 - accuracy: 0.9452 - val_loss: 0.1278 - val_accuracy: 0.9582\n",
      "Epoch 22/50\n",
      "416/416 [==============================] - 1s 2ms/step - loss: 0.1779 - accuracy: 0.9457 - val_loss: 0.1266 - val_accuracy: 0.9570\n",
      "Epoch 23/50\n",
      "416/416 [==============================] - 1s 2ms/step - loss: 0.1698 - accuracy: 0.9470 - val_loss: 0.1270 - val_accuracy: 0.9564\n",
      "Epoch 24/50\n",
      "416/416 [==============================] - 1s 2ms/step - loss: 0.1719 - accuracy: 0.9461 - val_loss: 0.1228 - val_accuracy: 0.9609\n",
      "Epoch 25/50\n",
      "416/416 [==============================] - 1s 2ms/step - loss: 0.1693 - accuracy: 0.9477 - val_loss: 0.1220 - val_accuracy: 0.9603\n",
      "Epoch 26/50\n",
      "416/416 [==============================] - 1s 2ms/step - loss: 0.1649 - accuracy: 0.9481 - val_loss: 0.1181 - val_accuracy: 0.9612\n",
      "Epoch 27/50\n",
      "416/416 [==============================] - 1s 2ms/step - loss: 0.1642 - accuracy: 0.9491 - val_loss: 0.1152 - val_accuracy: 0.9630\n",
      "Epoch 28/50\n",
      "416/416 [==============================] - 1s 2ms/step - loss: 0.1613 - accuracy: 0.9493 - val_loss: 0.1138 - val_accuracy: 0.9603\n",
      "Epoch 29/50\n",
      "416/416 [==============================] - 1s 2ms/step - loss: 0.1545 - accuracy: 0.9522 - val_loss: 0.1127 - val_accuracy: 0.9612\n",
      "Epoch 30/50\n",
      "416/416 [==============================] - 1s 2ms/step - loss: 0.1554 - accuracy: 0.9505 - val_loss: 0.1111 - val_accuracy: 0.9591\n",
      "Epoch 31/50\n",
      "416/416 [==============================] - 1s 2ms/step - loss: 0.1552 - accuracy: 0.9535 - val_loss: 0.1080 - val_accuracy: 0.9615\n",
      "Epoch 32/50\n",
      "416/416 [==============================] - 1s 2ms/step - loss: 0.1521 - accuracy: 0.9547 - val_loss: 0.1071 - val_accuracy: 0.9648\n",
      "Epoch 33/50\n",
      "416/416 [==============================] - 1s 2ms/step - loss: 0.1505 - accuracy: 0.9547 - val_loss: 0.1074 - val_accuracy: 0.9639\n",
      "Epoch 34/50\n",
      "416/416 [==============================] - 1s 2ms/step - loss: 0.1483 - accuracy: 0.9534 - val_loss: 0.1078 - val_accuracy: 0.9651\n",
      "Epoch 35/50\n",
      "416/416 [==============================] - 1s 2ms/step - loss: 0.1457 - accuracy: 0.9557 - val_loss: 0.1083 - val_accuracy: 0.9621\n",
      "Epoch 36/50\n",
      "416/416 [==============================] - 1s 2ms/step - loss: 0.1499 - accuracy: 0.9540 - val_loss: 0.1082 - val_accuracy: 0.9672\n"
     ]
    },
    {
     "name": "stderr",
     "output_type": "stream",
     "text": [
      "[I 2024-03-19 20:00:56,142] Trial 2 finished with value: 0.9671884179115295 and parameters: {'num_layers': 1, 'layer_size': 81, 'dropout_rate': 0.1907760123015208, 'use_batch_norm': False, 'activation': 'relu', 'learning_rate': 0.00016181724286239138}. Best is trial 1 with value: 0.9813365340232849.\n"
     ]
    },
    {
     "name": "stdout",
     "output_type": "stream",
     "text": [
      "Epoch 1/50\n",
      "416/416 [==============================] - 2s 4ms/step - loss: 0.3683 - accuracy: 0.8808 - val_loss: 0.1819 - val_accuracy: 0.9422\n",
      "Epoch 2/50\n",
      "416/416 [==============================] - 1s 4ms/step - loss: 0.1942 - accuracy: 0.9401 - val_loss: 0.1275 - val_accuracy: 0.9561\n",
      "Epoch 3/50\n",
      "416/416 [==============================] - 1s 4ms/step - loss: 0.1626 - accuracy: 0.9469 - val_loss: 0.1116 - val_accuracy: 0.9639\n",
      "Epoch 4/50\n",
      "416/416 [==============================] - 1s 4ms/step - loss: 0.1249 - accuracy: 0.9602 - val_loss: 0.0927 - val_accuracy: 0.9759\n",
      "Epoch 5/50\n",
      "416/416 [==============================] - 1s 4ms/step - loss: 0.1178 - accuracy: 0.9612 - val_loss: 0.1130 - val_accuracy: 0.9666\n",
      "Epoch 6/50\n",
      "416/416 [==============================] - 1s 4ms/step - loss: 0.1116 - accuracy: 0.9634 - val_loss: 0.0977 - val_accuracy: 0.9687\n",
      "Epoch 7/50\n",
      "416/416 [==============================] - 1s 4ms/step - loss: 0.0982 - accuracy: 0.9673 - val_loss: 0.0791 - val_accuracy: 0.9747\n",
      "Epoch 8/50\n",
      "416/416 [==============================] - 1s 4ms/step - loss: 0.0904 - accuracy: 0.9700 - val_loss: 0.0810 - val_accuracy: 0.9738\n",
      "Epoch 9/50\n",
      "416/416 [==============================] - 1s 4ms/step - loss: 0.0795 - accuracy: 0.9753 - val_loss: 0.0933 - val_accuracy: 0.9726\n",
      "Epoch 10/50\n",
      "416/416 [==============================] - 2s 4ms/step - loss: 0.0801 - accuracy: 0.9734 - val_loss: 0.0759 - val_accuracy: 0.9804\n",
      "Epoch 11/50\n",
      "416/416 [==============================] - 2s 4ms/step - loss: 0.0849 - accuracy: 0.9746 - val_loss: 0.0817 - val_accuracy: 0.9744\n",
      "Epoch 12/50\n",
      "416/416 [==============================] - 2s 4ms/step - loss: 0.0693 - accuracy: 0.9773 - val_loss: 0.0923 - val_accuracy: 0.9741\n",
      "Epoch 13/50\n",
      "416/416 [==============================] - 2s 4ms/step - loss: 0.0743 - accuracy: 0.9773 - val_loss: 0.0821 - val_accuracy: 0.9807\n",
      "Epoch 14/50\n",
      "416/416 [==============================] - 2s 4ms/step - loss: 0.0742 - accuracy: 0.9762 - val_loss: 0.0902 - val_accuracy: 0.9789\n",
      "Epoch 15/50\n",
      "416/416 [==============================] - 2s 4ms/step - loss: 0.0619 - accuracy: 0.9789 - val_loss: 0.0824 - val_accuracy: 0.9795\n"
     ]
    },
    {
     "name": "stderr",
     "output_type": "stream",
     "text": [
      "[I 2024-03-19 20:01:19,374] Trial 3 finished with value: 0.979530394077301 and parameters: {'num_layers': 2, 'layer_size': 312, 'dropout_rate': 0.16657345853508188, 'use_batch_norm': False, 'activation': 'relu', 'learning_rate': 0.0008495452042067824}. Best is trial 1 with value: 0.9813365340232849.\n"
     ]
    },
    {
     "name": "stdout",
     "output_type": "stream",
     "text": [
      "Epoch 1/50\n",
      "416/416 [==============================] - 2s 4ms/step - loss: 0.4337 - accuracy: 0.8579 - val_loss: 0.2201 - val_accuracy: 0.9262\n",
      "Epoch 2/50\n",
      "416/416 [==============================] - 2s 4ms/step - loss: 0.2466 - accuracy: 0.9231 - val_loss: 0.1885 - val_accuracy: 0.9293\n",
      "Epoch 3/50\n",
      "416/416 [==============================] - 2s 4ms/step - loss: 0.2011 - accuracy: 0.9377 - val_loss: 0.1422 - val_accuracy: 0.9497\n",
      "Epoch 4/50\n",
      "416/416 [==============================] - 2s 4ms/step - loss: 0.1726 - accuracy: 0.9476 - val_loss: 0.1342 - val_accuracy: 0.9557\n",
      "Epoch 5/50\n",
      "416/416 [==============================] - 2s 4ms/step - loss: 0.1504 - accuracy: 0.9540 - val_loss: 0.1048 - val_accuracy: 0.9696\n",
      "Epoch 6/50\n",
      "416/416 [==============================] - 2s 4ms/step - loss: 0.1380 - accuracy: 0.9588 - val_loss: 0.1019 - val_accuracy: 0.9687\n",
      "Epoch 7/50\n",
      "416/416 [==============================] - 2s 4ms/step - loss: 0.1273 - accuracy: 0.9617 - val_loss: 0.0976 - val_accuracy: 0.9720\n",
      "Epoch 8/50\n",
      "416/416 [==============================] - 2s 4ms/step - loss: 0.1182 - accuracy: 0.9646 - val_loss: 0.0950 - val_accuracy: 0.9711\n",
      "Epoch 9/50\n",
      "416/416 [==============================] - 2s 4ms/step - loss: 0.1133 - accuracy: 0.9645 - val_loss: 0.0876 - val_accuracy: 0.9723\n",
      "Epoch 10/50\n",
      "416/416 [==============================] - 2s 4ms/step - loss: 0.1048 - accuracy: 0.9682 - val_loss: 0.0861 - val_accuracy: 0.9720\n",
      "Epoch 11/50\n",
      "416/416 [==============================] - 2s 4ms/step - loss: 0.0973 - accuracy: 0.9700 - val_loss: 0.0875 - val_accuracy: 0.9732\n",
      "Epoch 12/50\n",
      "416/416 [==============================] - 2s 4ms/step - loss: 0.0917 - accuracy: 0.9727 - val_loss: 0.0826 - val_accuracy: 0.9777\n",
      "Epoch 13/50\n",
      "416/416 [==============================] - 2s 4ms/step - loss: 0.0906 - accuracy: 0.9730 - val_loss: 0.0803 - val_accuracy: 0.9750\n",
      "Epoch 14/50\n",
      "416/416 [==============================] - 2s 4ms/step - loss: 0.0831 - accuracy: 0.9762 - val_loss: 0.0755 - val_accuracy: 0.9792\n",
      "Epoch 15/50\n",
      "416/416 [==============================] - 2s 4ms/step - loss: 0.0795 - accuracy: 0.9770 - val_loss: 0.0750 - val_accuracy: 0.9768\n",
      "Epoch 16/50\n",
      "416/416 [==============================] - 2s 4ms/step - loss: 0.0776 - accuracy: 0.9768 - val_loss: 0.0718 - val_accuracy: 0.9765\n",
      "Epoch 17/50\n",
      "416/416 [==============================] - 2s 4ms/step - loss: 0.0750 - accuracy: 0.9779 - val_loss: 0.0688 - val_accuracy: 0.9807\n",
      "Epoch 18/50\n",
      "416/416 [==============================] - 2s 4ms/step - loss: 0.0679 - accuracy: 0.9793 - val_loss: 0.0714 - val_accuracy: 0.9777\n",
      "Epoch 19/50\n",
      "416/416 [==============================] - 2s 4ms/step - loss: 0.0680 - accuracy: 0.9810 - val_loss: 0.0629 - val_accuracy: 0.9810\n",
      "Epoch 20/50\n",
      "416/416 [==============================] - 2s 4ms/step - loss: 0.0632 - accuracy: 0.9821 - val_loss: 0.0606 - val_accuracy: 0.9774\n",
      "Epoch 21/50\n",
      "416/416 [==============================] - 2s 4ms/step - loss: 0.0669 - accuracy: 0.9788 - val_loss: 0.0695 - val_accuracy: 0.9774\n",
      "Epoch 22/50\n",
      "416/416 [==============================] - 2s 4ms/step - loss: 0.0632 - accuracy: 0.9815 - val_loss: 0.0663 - val_accuracy: 0.9801\n",
      "Epoch 23/50\n",
      "416/416 [==============================] - 2s 4ms/step - loss: 0.0620 - accuracy: 0.9817 - val_loss: 0.0611 - val_accuracy: 0.9822\n",
      "Epoch 24/50\n",
      "416/416 [==============================] - 2s 4ms/step - loss: 0.0612 - accuracy: 0.9816 - val_loss: 0.0685 - val_accuracy: 0.9804\n",
      "Epoch 25/50\n",
      "416/416 [==============================] - 2s 4ms/step - loss: 0.0604 - accuracy: 0.9816 - val_loss: 0.0610 - val_accuracy: 0.9825\n"
     ]
    },
    {
     "name": "stderr",
     "output_type": "stream",
     "text": [
      "[I 2024-03-19 20:01:59,483] Trial 4 finished with value: 0.9825406670570374 and parameters: {'num_layers': 1, 'layer_size': 719, 'dropout_rate': 0.14474113728042967, 'use_batch_norm': True, 'activation': 'relu', 'learning_rate': 0.00013103440643135768}. Best is trial 4 with value: 0.9825406670570374.\n"
     ]
    },
    {
     "name": "stdout",
     "output_type": "stream",
     "text": [
      "Epoch 1/50\n",
      "405/416 [============================>.] - ETA: 0s - loss: 0.4075 - accuracy: 0.8681"
     ]
    },
    {
     "name": "stderr",
     "output_type": "stream",
     "text": [
      "[I 2024-03-19 20:02:02,278] Trial 5 pruned. Trial was pruned at epoch 0.\n"
     ]
    },
    {
     "name": "stdout",
     "output_type": "stream",
     "text": [
      "Epoch 1/50\n",
      "416/416 [==============================] - 2s 4ms/step - loss: 0.5089 - accuracy: 0.8430 - val_loss: 0.3199 - val_accuracy: 0.9019\n",
      "Epoch 2/50\n",
      "416/416 [==============================] - 2s 4ms/step - loss: 0.3072 - accuracy: 0.9062 - val_loss: 0.2679 - val_accuracy: 0.9094\n",
      "Epoch 3/50\n",
      "416/416 [==============================] - 2s 4ms/step - loss: 0.2549 - accuracy: 0.9188 - val_loss: 0.2355 - val_accuracy: 0.9169\n",
      "Epoch 4/50\n",
      "416/416 [==============================] - 2s 4ms/step - loss: 0.2142 - accuracy: 0.9314 - val_loss: 0.1474 - val_accuracy: 0.9576\n",
      "Epoch 5/50\n",
      "416/416 [==============================] - 2s 4ms/step - loss: 0.1804 - accuracy: 0.9407 - val_loss: 0.1485 - val_accuracy: 0.9524\n",
      "Epoch 6/50\n",
      "416/416 [==============================] - 2s 4ms/step - loss: 0.1701 - accuracy: 0.9439 - val_loss: 0.1697 - val_accuracy: 0.9437\n",
      "Epoch 7/50\n",
      "416/416 [==============================] - 5s 11ms/step - loss: 0.1497 - accuracy: 0.9506 - val_loss: 0.1542 - val_accuracy: 0.9506\n",
      "Epoch 8/50\n",
      "416/416 [==============================] - 5s 13ms/step - loss: 0.1375 - accuracy: 0.9553 - val_loss: 0.1285 - val_accuracy: 0.9579\n",
      "Epoch 9/50\n",
      "416/416 [==============================] - 1s 3ms/step - loss: 0.1228 - accuracy: 0.9588 - val_loss: 0.1335 - val_accuracy: 0.9557\n",
      "Epoch 10/50\n",
      "416/416 [==============================] - 1s 3ms/step - loss: 0.1214 - accuracy: 0.9593 - val_loss: 0.0835 - val_accuracy: 0.9744\n",
      "Epoch 11/50\n",
      "416/416 [==============================] - 1s 3ms/step - loss: 0.1064 - accuracy: 0.9642 - val_loss: 0.1024 - val_accuracy: 0.9693\n",
      "Epoch 12/50\n",
      "416/416 [==============================] - 1s 3ms/step - loss: 0.0997 - accuracy: 0.9682 - val_loss: 0.0888 - val_accuracy: 0.9726\n",
      "Epoch 13/50\n",
      "416/416 [==============================] - 1s 3ms/step - loss: 0.0994 - accuracy: 0.9669 - val_loss: 0.1034 - val_accuracy: 0.9669\n",
      "Epoch 14/50\n",
      "416/416 [==============================] - 1s 3ms/step - loss: 0.0927 - accuracy: 0.9675 - val_loss: 0.0868 - val_accuracy: 0.9756\n",
      "Epoch 15/50\n",
      "416/416 [==============================] - 1s 3ms/step - loss: 0.0875 - accuracy: 0.9720 - val_loss: 0.0812 - val_accuracy: 0.9774\n",
      "Epoch 16/50\n",
      "416/416 [==============================] - 1s 3ms/step - loss: 0.0786 - accuracy: 0.9732 - val_loss: 0.1009 - val_accuracy: 0.9678\n",
      "Epoch 17/50\n",
      "416/416 [==============================] - 1s 3ms/step - loss: 0.0796 - accuracy: 0.9735 - val_loss: 0.0653 - val_accuracy: 0.9777\n",
      "Epoch 18/50\n",
      "416/416 [==============================] - 1s 3ms/step - loss: 0.0809 - accuracy: 0.9730 - val_loss: 0.0798 - val_accuracy: 0.9759\n",
      "Epoch 19/50\n",
      "416/416 [==============================] - 1s 3ms/step - loss: 0.0774 - accuracy: 0.9743 - val_loss: 0.0718 - val_accuracy: 0.9750\n",
      "Epoch 20/50\n",
      "416/416 [==============================] - 1s 3ms/step - loss: 0.0703 - accuracy: 0.9761 - val_loss: 0.0687 - val_accuracy: 0.9786\n",
      "Epoch 21/50\n",
      "416/416 [==============================] - 1s 3ms/step - loss: 0.0735 - accuracy: 0.9751 - val_loss: 0.0560 - val_accuracy: 0.9819\n",
      "Epoch 22/50\n",
      "416/416 [==============================] - 1s 3ms/step - loss: 0.0567 - accuracy: 0.9826 - val_loss: 0.0655 - val_accuracy: 0.9792\n",
      "Epoch 23/50\n",
      "416/416 [==============================] - 1s 3ms/step - loss: 0.0645 - accuracy: 0.9789 - val_loss: 0.0710 - val_accuracy: 0.9765\n",
      "Epoch 24/50\n",
      "416/416 [==============================] - 1s 3ms/step - loss: 0.0600 - accuracy: 0.9802 - val_loss: 0.0643 - val_accuracy: 0.9807\n",
      "Epoch 25/50\n",
      "416/416 [==============================] - 1s 4ms/step - loss: 0.0551 - accuracy: 0.9810 - val_loss: 0.0783 - val_accuracy: 0.9744\n",
      "Epoch 26/50\n",
      "416/416 [==============================] - 1s 4ms/step - loss: 0.0557 - accuracy: 0.9814 - val_loss: 0.0618 - val_accuracy: 0.9816\n"
     ]
    },
    {
     "name": "stderr",
     "output_type": "stream",
     "text": [
      "[I 2024-03-19 20:02:46,433] Trial 6 finished with value: 0.9816375970840454 and parameters: {'num_layers': 1, 'layer_size': 641, 'dropout_rate': 0.161148261528122, 'use_batch_norm': True, 'activation': 'tanh', 'learning_rate': 0.0006822877031608912}. Best is trial 4 with value: 0.9825406670570374.\n"
     ]
    },
    {
     "name": "stdout",
     "output_type": "stream",
     "text": [
      "Epoch 1/50\n",
      "414/416 [============================>.] - ETA: 0s - loss: 0.4137 - accuracy: 0.8638"
     ]
    },
    {
     "name": "stderr",
     "output_type": "stream",
     "text": [
      "[I 2024-03-19 20:02:48,433] Trial 7 pruned. Trial was pruned at epoch 0.\n"
     ]
    },
    {
     "name": "stdout",
     "output_type": "stream",
     "text": [
      "Epoch 1/50\n",
      "  1/416 [..............................] - ETA: 2:12 - loss: 1.9634 - accuracy: 0.3438WARNING:tensorflow:Callback method `on_train_batch_end` is slow compared to the batch time (batch time: 0.0010s vs `on_train_batch_end` time: 0.0026s). Check your callbacks.\n",
      "403/416 [============================>.] - ETA: 0s - loss: 0.3807 - accuracy: 0.8780"
     ]
    },
    {
     "name": "stderr",
     "output_type": "stream",
     "text": [
      "[I 2024-03-19 20:02:50,369] Trial 8 pruned. Trial was pruned at epoch 0.\n"
     ]
    },
    {
     "name": "stdout",
     "output_type": "stream",
     "text": [
      "Epoch 1/50\n",
      "405/416 [============================>.] - ETA: 0s - loss: 0.3814 - accuracy: 0.8764"
     ]
    },
    {
     "name": "stderr",
     "output_type": "stream",
     "text": [
      "[I 2024-03-19 20:02:52,371] Trial 9 pruned. Trial was pruned at epoch 0.\n"
     ]
    },
    {
     "name": "stdout",
     "output_type": "stream",
     "text": [
      "Epoch 1/50\n",
      "416/416 [==============================] - 2s 4ms/step - loss: 0.5481 - accuracy: 0.8243 - val_loss: 0.3239 - val_accuracy: 0.9019\n",
      "Epoch 2/50\n",
      "416/416 [==============================] - 1s 3ms/step - loss: 0.3084 - accuracy: 0.9027 - val_loss: 0.2448 - val_accuracy: 0.9211\n",
      "Epoch 3/50\n",
      "416/416 [==============================] - 1s 3ms/step - loss: 0.2373 - accuracy: 0.9257 - val_loss: 0.1891 - val_accuracy: 0.9380\n",
      "Epoch 4/50\n",
      "416/416 [==============================] - 1s 3ms/step - loss: 0.1885 - accuracy: 0.9417 - val_loss: 0.1632 - val_accuracy: 0.9455\n",
      "Epoch 5/50\n",
      "416/416 [==============================] - 1s 3ms/step - loss: 0.1533 - accuracy: 0.9545 - val_loss: 0.1405 - val_accuracy: 0.9521\n",
      "Epoch 6/50\n",
      "416/416 [==============================] - 1s 3ms/step - loss: 0.1297 - accuracy: 0.9615 - val_loss: 0.1235 - val_accuracy: 0.9548\n",
      "Epoch 7/50\n",
      "416/416 [==============================] - 1s 3ms/step - loss: 0.1127 - accuracy: 0.9654 - val_loss: 0.1044 - val_accuracy: 0.9705\n",
      "Epoch 8/50\n",
      "416/416 [==============================] - 1s 3ms/step - loss: 0.0980 - accuracy: 0.9712 - val_loss: 0.0935 - val_accuracy: 0.9693\n",
      "Epoch 9/50\n",
      "416/416 [==============================] - 1s 3ms/step - loss: 0.0862 - accuracy: 0.9752 - val_loss: 0.0857 - val_accuracy: 0.9729\n",
      "Epoch 10/50\n",
      "416/416 [==============================] - 1s 3ms/step - loss: 0.0773 - accuracy: 0.9790 - val_loss: 0.0766 - val_accuracy: 0.9777\n",
      "Epoch 11/50\n",
      "416/416 [==============================] - 1s 3ms/step - loss: 0.0679 - accuracy: 0.9810 - val_loss: 0.0730 - val_accuracy: 0.9774\n",
      "Epoch 12/50\n",
      "416/416 [==============================] - 1s 3ms/step - loss: 0.0587 - accuracy: 0.9846 - val_loss: 0.0729 - val_accuracy: 0.9774\n",
      "Epoch 13/50\n",
      "416/416 [==============================] - 1s 3ms/step - loss: 0.0566 - accuracy: 0.9844 - val_loss: 0.0695 - val_accuracy: 0.9789\n",
      "Epoch 14/50\n",
      "416/416 [==============================] - 1s 3ms/step - loss: 0.0483 - accuracy: 0.9875 - val_loss: 0.0624 - val_accuracy: 0.9813\n",
      "Epoch 15/50\n",
      "416/416 [==============================] - 1s 3ms/step - loss: 0.0452 - accuracy: 0.9888 - val_loss: 0.0653 - val_accuracy: 0.9798\n",
      "Epoch 16/50\n",
      "416/416 [==============================] - 1s 3ms/step - loss: 0.0410 - accuracy: 0.9895 - val_loss: 0.0564 - val_accuracy: 0.9834\n",
      "Epoch 17/50\n",
      "416/416 [==============================] - 1s 3ms/step - loss: 0.0385 - accuracy: 0.9912 - val_loss: 0.0570 - val_accuracy: 0.9831\n",
      "Epoch 18/50\n",
      "416/416 [==============================] - 1s 3ms/step - loss: 0.0348 - accuracy: 0.9921 - val_loss: 0.0535 - val_accuracy: 0.9840\n",
      "Epoch 19/50\n",
      "416/416 [==============================] - 1s 3ms/step - loss: 0.0304 - accuracy: 0.9929 - val_loss: 0.0523 - val_accuracy: 0.9843\n",
      "Epoch 20/50\n",
      "416/416 [==============================] - 1s 3ms/step - loss: 0.0295 - accuracy: 0.9925 - val_loss: 0.0509 - val_accuracy: 0.9862\n",
      "Epoch 21/50\n",
      "416/416 [==============================] - 1s 3ms/step - loss: 0.0260 - accuracy: 0.9945 - val_loss: 0.0502 - val_accuracy: 0.9843\n",
      "Epoch 22/50\n",
      "416/416 [==============================] - 1s 3ms/step - loss: 0.0259 - accuracy: 0.9942 - val_loss: 0.0515 - val_accuracy: 0.9856\n",
      "Epoch 23/50\n",
      "416/416 [==============================] - 1s 3ms/step - loss: 0.0237 - accuracy: 0.9950 - val_loss: 0.0498 - val_accuracy: 0.9828\n",
      "Epoch 24/50\n",
      "416/416 [==============================] - 1s 3ms/step - loss: 0.0217 - accuracy: 0.9950 - val_loss: 0.0518 - val_accuracy: 0.9840\n",
      "Epoch 25/50\n",
      "416/416 [==============================] - 1s 3ms/step - loss: 0.0207 - accuracy: 0.9948 - val_loss: 0.0486 - val_accuracy: 0.9862\n",
      "Epoch 26/50\n",
      "416/416 [==============================] - 1s 3ms/step - loss: 0.0192 - accuracy: 0.9964 - val_loss: 0.0533 - val_accuracy: 0.9849\n",
      "Epoch 27/50\n",
      "416/416 [==============================] - 1s 3ms/step - loss: 0.0171 - accuracy: 0.9965 - val_loss: 0.0476 - val_accuracy: 0.9868\n",
      "Epoch 28/50\n",
      "416/416 [==============================] - 1s 3ms/step - loss: 0.0183 - accuracy: 0.9953 - val_loss: 0.0505 - val_accuracy: 0.9862\n",
      "Epoch 29/50\n",
      "416/416 [==============================] - 1s 3ms/step - loss: 0.0151 - accuracy: 0.9970 - val_loss: 0.0578 - val_accuracy: 0.9807\n",
      "Epoch 30/50\n",
      "416/416 [==============================] - 1s 3ms/step - loss: 0.0161 - accuracy: 0.9964 - val_loss: 0.0473 - val_accuracy: 0.9862\n",
      "Epoch 31/50\n",
      "416/416 [==============================] - 1s 3ms/step - loss: 0.0141 - accuracy: 0.9976 - val_loss: 0.0447 - val_accuracy: 0.9877\n",
      "Epoch 32/50\n",
      "416/416 [==============================] - 1s 3ms/step - loss: 0.0133 - accuracy: 0.9980 - val_loss: 0.0451 - val_accuracy: 0.9880\n",
      "Epoch 33/50\n",
      "416/416 [==============================] - 1s 3ms/step - loss: 0.0125 - accuracy: 0.9974 - val_loss: 0.0444 - val_accuracy: 0.9865\n",
      "Epoch 34/50\n",
      "416/416 [==============================] - 1s 3ms/step - loss: 0.0134 - accuracy: 0.9972 - val_loss: 0.0457 - val_accuracy: 0.9868\n",
      "Epoch 35/50\n",
      "416/416 [==============================] - 1s 3ms/step - loss: 0.0107 - accuracy: 0.9981 - val_loss: 0.0504 - val_accuracy: 0.9856\n",
      "Epoch 36/50\n",
      "416/416 [==============================] - 1s 3ms/step - loss: 0.0101 - accuracy: 0.9982 - val_loss: 0.0444 - val_accuracy: 0.9880\n"
     ]
    },
    {
     "name": "stderr",
     "output_type": "stream",
     "text": [
      "[I 2024-03-19 20:03:43,204] Trial 10 finished with value: 0.987959086894989 and parameters: {'num_layers': 1, 'layer_size': 763, 'dropout_rate': 0.13714949392899192, 'use_batch_norm': False, 'activation': 'tanh', 'learning_rate': 0.00010157391045421977}. Best is trial 10 with value: 0.987959086894989.\n"
     ]
    },
    {
     "name": "stdout",
     "output_type": "stream",
     "text": [
      "Epoch 1/50\n",
      "416/416 [==============================] - 2s 3ms/step - loss: 0.5447 - accuracy: 0.8285 - val_loss: 0.3464 - val_accuracy: 0.8892\n",
      "Epoch 2/50\n",
      "416/416 [==============================] - 1s 3ms/step - loss: 0.3208 - accuracy: 0.8958 - val_loss: 0.2644 - val_accuracy: 0.9130\n",
      "Epoch 3/50\n",
      "416/416 [==============================] - 1s 3ms/step - loss: 0.2390 - accuracy: 0.9242 - val_loss: 0.1964 - val_accuracy: 0.9386\n",
      "Epoch 4/50\n",
      "416/416 [==============================] - 1s 3ms/step - loss: 0.1927 - accuracy: 0.9382 - val_loss: 0.1680 - val_accuracy: 0.9446\n",
      "Epoch 5/50\n",
      "416/416 [==============================] - 1s 3ms/step - loss: 0.1598 - accuracy: 0.9491 - val_loss: 0.1355 - val_accuracy: 0.9585\n",
      "Epoch 6/50\n",
      "416/416 [==============================] - 1s 3ms/step - loss: 0.1357 - accuracy: 0.9575 - val_loss: 0.1258 - val_accuracy: 0.9600\n",
      "Epoch 7/50\n",
      "416/416 [==============================] - 1s 3ms/step - loss: 0.1133 - accuracy: 0.9648 - val_loss: 0.1068 - val_accuracy: 0.9672\n",
      "Epoch 8/50\n",
      "416/416 [==============================] - 1s 3ms/step - loss: 0.1031 - accuracy: 0.9700 - val_loss: 0.0982 - val_accuracy: 0.9675\n",
      "Epoch 9/50\n",
      "416/416 [==============================] - 1s 3ms/step - loss: 0.0904 - accuracy: 0.9734 - val_loss: 0.0824 - val_accuracy: 0.9753\n",
      "Epoch 10/50\n",
      "416/416 [==============================] - 1s 3ms/step - loss: 0.0778 - accuracy: 0.9786 - val_loss: 0.0800 - val_accuracy: 0.9735\n",
      "Epoch 11/50\n",
      "416/416 [==============================] - 1s 3ms/step - loss: 0.0684 - accuracy: 0.9813 - val_loss: 0.0677 - val_accuracy: 0.9780\n",
      "Epoch 12/50\n",
      "416/416 [==============================] - 1s 3ms/step - loss: 0.0615 - accuracy: 0.9824 - val_loss: 0.0691 - val_accuracy: 0.9783\n",
      "Epoch 13/50\n",
      "416/416 [==============================] - 1s 3ms/step - loss: 0.0568 - accuracy: 0.9843 - val_loss: 0.0661 - val_accuracy: 0.9780\n",
      "Epoch 14/50\n",
      "416/416 [==============================] - 1s 3ms/step - loss: 0.0510 - accuracy: 0.9873 - val_loss: 0.0624 - val_accuracy: 0.9810\n",
      "Epoch 15/50\n",
      "416/416 [==============================] - 1s 3ms/step - loss: 0.0430 - accuracy: 0.9889 - val_loss: 0.0589 - val_accuracy: 0.9813\n",
      "Epoch 16/50\n",
      "416/416 [==============================] - 1s 3ms/step - loss: 0.0419 - accuracy: 0.9883 - val_loss: 0.0573 - val_accuracy: 0.9825\n",
      "Epoch 17/50\n",
      "416/416 [==============================] - 1s 3ms/step - loss: 0.0376 - accuracy: 0.9901 - val_loss: 0.0542 - val_accuracy: 0.9837\n",
      "Epoch 18/50\n",
      "416/416 [==============================] - 1s 3ms/step - loss: 0.0333 - accuracy: 0.9924 - val_loss: 0.0551 - val_accuracy: 0.9816\n",
      "Epoch 19/50\n",
      "416/416 [==============================] - 1s 3ms/step - loss: 0.0306 - accuracy: 0.9933 - val_loss: 0.0495 - val_accuracy: 0.9852\n",
      "Epoch 20/50\n",
      "416/416 [==============================] - 1s 3ms/step - loss: 0.0277 - accuracy: 0.9939 - val_loss: 0.0521 - val_accuracy: 0.9852\n",
      "Epoch 21/50\n",
      "416/416 [==============================] - 1s 3ms/step - loss: 0.0263 - accuracy: 0.9938 - val_loss: 0.0469 - val_accuracy: 0.9849\n",
      "Epoch 22/50\n",
      "416/416 [==============================] - 1s 3ms/step - loss: 0.0236 - accuracy: 0.9950 - val_loss: 0.0486 - val_accuracy: 0.9852\n",
      "Epoch 23/50\n",
      "416/416 [==============================] - 1s 3ms/step - loss: 0.0229 - accuracy: 0.9950 - val_loss: 0.0472 - val_accuracy: 0.9849\n",
      "Epoch 24/50\n",
      "416/416 [==============================] - 1s 3ms/step - loss: 0.0218 - accuracy: 0.9953 - val_loss: 0.0470 - val_accuracy: 0.9856\n",
      "Epoch 25/50\n",
      "416/416 [==============================] - 1s 3ms/step - loss: 0.0189 - accuracy: 0.9964 - val_loss: 0.0463 - val_accuracy: 0.9862\n",
      "Epoch 26/50\n",
      "416/416 [==============================] - 1s 3ms/step - loss: 0.0170 - accuracy: 0.9967 - val_loss: 0.0432 - val_accuracy: 0.9883\n",
      "Epoch 27/50\n",
      "416/416 [==============================] - 1s 3ms/step - loss: 0.0181 - accuracy: 0.9960 - val_loss: 0.0443 - val_accuracy: 0.9874\n",
      "Epoch 28/50\n",
      "416/416 [==============================] - 1s 3ms/step - loss: 0.0159 - accuracy: 0.9969 - val_loss: 0.0408 - val_accuracy: 0.9886\n",
      "Epoch 29/50\n",
      "416/416 [==============================] - 1s 3ms/step - loss: 0.0168 - accuracy: 0.9962 - val_loss: 0.0447 - val_accuracy: 0.9868\n",
      "Epoch 30/50\n",
      "416/416 [==============================] - 1s 3ms/step - loss: 0.0144 - accuracy: 0.9969 - val_loss: 0.0430 - val_accuracy: 0.9883\n",
      "Epoch 31/50\n",
      "416/416 [==============================] - 1s 3ms/step - loss: 0.0142 - accuracy: 0.9969 - val_loss: 0.0478 - val_accuracy: 0.9859\n",
      "Epoch 32/50\n",
      "416/416 [==============================] - 1s 3ms/step - loss: 0.0139 - accuracy: 0.9976 - val_loss: 0.0398 - val_accuracy: 0.9895\n",
      "Epoch 33/50\n",
      "416/416 [==============================] - 1s 3ms/step - loss: 0.0115 - accuracy: 0.9976 - val_loss: 0.0450 - val_accuracy: 0.9868\n",
      "Epoch 34/50\n",
      "416/416 [==============================] - 1s 3ms/step - loss: 0.0111 - accuracy: 0.9977 - val_loss: 0.0437 - val_accuracy: 0.9877\n",
      "Epoch 35/50\n",
      "416/416 [==============================] - 1s 3ms/step - loss: 0.0117 - accuracy: 0.9977 - val_loss: 0.0424 - val_accuracy: 0.9880\n",
      "Epoch 36/50\n",
      "416/416 [==============================] - 1s 3ms/step - loss: 0.0109 - accuracy: 0.9983 - val_loss: 0.0431 - val_accuracy: 0.9880\n",
      "Epoch 37/50\n",
      "416/416 [==============================] - 1s 3ms/step - loss: 0.0092 - accuracy: 0.9983 - val_loss: 0.0490 - val_accuracy: 0.9874\n"
     ]
    },
    {
     "name": "stderr",
     "output_type": "stream",
     "text": [
      "[I 2024-03-19 20:04:33,581] Trial 11 finished with value: 0.9873570203781128 and parameters: {'num_layers': 1, 'layer_size': 800, 'dropout_rate': 0.13891604018175807, 'use_batch_norm': False, 'activation': 'tanh', 'learning_rate': 0.00010243781588344641}. Best is trial 10 with value: 0.987959086894989.\n"
     ]
    },
    {
     "name": "stdout",
     "output_type": "stream",
     "text": [
      "Epoch 1/50\n",
      "416/416 [==============================] - 2s 4ms/step - loss: 0.5427 - accuracy: 0.8248 - val_loss: 0.3417 - val_accuracy: 0.8937\n",
      "Epoch 2/50\n",
      "416/416 [==============================] - 1s 3ms/step - loss: 0.3126 - accuracy: 0.9019 - val_loss: 0.2488 - val_accuracy: 0.9214\n",
      "Epoch 3/50\n",
      "416/416 [==============================] - 1s 3ms/step - loss: 0.2354 - accuracy: 0.9247 - val_loss: 0.1915 - val_accuracy: 0.9311\n",
      "Epoch 4/50\n",
      "416/416 [==============================] - 1s 3ms/step - loss: 0.1894 - accuracy: 0.9405 - val_loss: 0.1634 - val_accuracy: 0.9482\n",
      "Epoch 5/50\n",
      "416/416 [==============================] - 1s 3ms/step - loss: 0.1535 - accuracy: 0.9529 - val_loss: 0.1364 - val_accuracy: 0.9576\n",
      "Epoch 6/50\n",
      "416/416 [==============================] - 1s 3ms/step - loss: 0.1273 - accuracy: 0.9615 - val_loss: 0.1221 - val_accuracy: 0.9609\n",
      "Epoch 7/50\n",
      "416/416 [==============================] - 1s 3ms/step - loss: 0.1114 - accuracy: 0.9678 - val_loss: 0.1047 - val_accuracy: 0.9681\n",
      "Epoch 8/50\n",
      "416/416 [==============================] - 1s 3ms/step - loss: 0.0972 - accuracy: 0.9721 - val_loss: 0.0947 - val_accuracy: 0.9690\n",
      "Epoch 9/50\n",
      "416/416 [==============================] - 1s 3ms/step - loss: 0.0871 - accuracy: 0.9749 - val_loss: 0.0973 - val_accuracy: 0.9696\n",
      "Epoch 10/50\n",
      "416/416 [==============================] - 1s 3ms/step - loss: 0.0743 - accuracy: 0.9792 - val_loss: 0.0784 - val_accuracy: 0.9762\n",
      "Epoch 11/50\n",
      "416/416 [==============================] - 1s 3ms/step - loss: 0.0677 - accuracy: 0.9810 - val_loss: 0.0757 - val_accuracy: 0.9765\n",
      "Epoch 12/50\n",
      "416/416 [==============================] - 1s 3ms/step - loss: 0.0629 - accuracy: 0.9834 - val_loss: 0.0687 - val_accuracy: 0.9783\n",
      "Epoch 13/50\n",
      "416/416 [==============================] - 1s 3ms/step - loss: 0.0545 - accuracy: 0.9856 - val_loss: 0.0727 - val_accuracy: 0.9774\n",
      "Epoch 14/50\n",
      "416/416 [==============================] - 1s 3ms/step - loss: 0.0495 - accuracy: 0.9867 - val_loss: 0.0665 - val_accuracy: 0.9816\n",
      "Epoch 15/50\n",
      "416/416 [==============================] - 1s 3ms/step - loss: 0.0445 - accuracy: 0.9879 - val_loss: 0.0606 - val_accuracy: 0.9813\n",
      "Epoch 16/50\n",
      "416/416 [==============================] - 1s 3ms/step - loss: 0.0407 - accuracy: 0.9897 - val_loss: 0.0588 - val_accuracy: 0.9828\n",
      "Epoch 17/50\n",
      "416/416 [==============================] - 1s 3ms/step - loss: 0.0369 - accuracy: 0.9915 - val_loss: 0.0625 - val_accuracy: 0.9789\n",
      "Epoch 18/50\n",
      "416/416 [==============================] - 1s 3ms/step - loss: 0.0354 - accuracy: 0.9904 - val_loss: 0.0604 - val_accuracy: 0.9813\n",
      "Epoch 19/50\n",
      "416/416 [==============================] - 1s 3ms/step - loss: 0.0306 - accuracy: 0.9928 - val_loss: 0.0543 - val_accuracy: 0.9859\n",
      "Epoch 20/50\n",
      "416/416 [==============================] - 1s 3ms/step - loss: 0.0285 - accuracy: 0.9930 - val_loss: 0.0546 - val_accuracy: 0.9834\n",
      "Epoch 21/50\n",
      "416/416 [==============================] - 1s 3ms/step - loss: 0.0258 - accuracy: 0.9944 - val_loss: 0.0506 - val_accuracy: 0.9859\n",
      "Epoch 22/50\n",
      "416/416 [==============================] - 1s 3ms/step - loss: 0.0261 - accuracy: 0.9938 - val_loss: 0.0528 - val_accuracy: 0.9849\n",
      "Epoch 23/50\n",
      "416/416 [==============================] - 1s 3ms/step - loss: 0.0233 - accuracy: 0.9950 - val_loss: 0.0484 - val_accuracy: 0.9852\n",
      "Epoch 24/50\n",
      "416/416 [==============================] - 1s 3ms/step - loss: 0.0219 - accuracy: 0.9953 - val_loss: 0.0481 - val_accuracy: 0.9856\n",
      "Epoch 25/50\n",
      "416/416 [==============================] - 1s 3ms/step - loss: 0.0214 - accuracy: 0.9951 - val_loss: 0.0504 - val_accuracy: 0.9852\n",
      "Epoch 26/50\n",
      "416/416 [==============================] - 1s 3ms/step - loss: 0.0182 - accuracy: 0.9959 - val_loss: 0.0483 - val_accuracy: 0.9846\n",
      "Epoch 27/50\n",
      "416/416 [==============================] - 1s 3ms/step - loss: 0.0160 - accuracy: 0.9967 - val_loss: 0.0468 - val_accuracy: 0.9871\n",
      "Epoch 28/50\n",
      "416/416 [==============================] - 1s 3ms/step - loss: 0.0157 - accuracy: 0.9962 - val_loss: 0.0478 - val_accuracy: 0.9862\n",
      "Epoch 29/50\n",
      "416/416 [==============================] - 1s 3ms/step - loss: 0.0161 - accuracy: 0.9970 - val_loss: 0.0491 - val_accuracy: 0.9859\n",
      "Epoch 30/50\n",
      "416/416 [==============================] - 1s 3ms/step - loss: 0.0158 - accuracy: 0.9962 - val_loss: 0.0500 - val_accuracy: 0.9862\n",
      "Epoch 31/50\n",
      "416/416 [==============================] - 1s 3ms/step - loss: 0.0132 - accuracy: 0.9974 - val_loss: 0.0497 - val_accuracy: 0.9856\n",
      "Epoch 32/50\n",
      "416/416 [==============================] - 1s 3ms/step - loss: 0.0137 - accuracy: 0.9967 - val_loss: 0.0478 - val_accuracy: 0.9862\n"
     ]
    },
    {
     "name": "stderr",
     "output_type": "stream",
     "text": [
      "[I 2024-03-19 20:05:18,958] Trial 12 finished with value: 0.9861529469490051 and parameters: {'num_layers': 1, 'layer_size': 788, 'dropout_rate': 0.1397480575469616, 'use_batch_norm': False, 'activation': 'tanh', 'learning_rate': 0.00010306416392836265}. Best is trial 10 with value: 0.987959086894989.\n"
     ]
    },
    {
     "name": "stdout",
     "output_type": "stream",
     "text": [
      "Epoch 1/50\n",
      "402/416 [===========================>..] - ETA: 0s - loss: 0.4471 - accuracy: 0.8555"
     ]
    },
    {
     "name": "stderr",
     "output_type": "stream",
     "text": [
      "[I 2024-03-19 20:05:20,720] Trial 13 pruned. Trial was pruned at epoch 0.\n"
     ]
    },
    {
     "name": "stdout",
     "output_type": "stream",
     "text": [
      "Epoch 1/50\n",
      "410/416 [============================>.] - ETA: 0s - loss: 0.4721 - accuracy: 0.8445"
     ]
    },
    {
     "name": "stderr",
     "output_type": "stream",
     "text": [
      "[I 2024-03-19 20:05:22,560] Trial 14 pruned. Trial was pruned at epoch 0.\n"
     ]
    },
    {
     "name": "stdout",
     "output_type": "stream",
     "text": [
      "Epoch 1/50\n",
      "  1/416 [..............................] - ETA: 1:47 - loss: 2.0360 - accuracy: 0.1875WARNING:tensorflow:Callback method `on_train_batch_end` is slow compared to the batch time (batch time: 0.0008s vs `on_train_batch_end` time: 0.0009s). Check your callbacks.\n",
      "416/416 [==============================] - 2s 3ms/step - loss: 0.5348 - accuracy: 0.8315 - val_loss: 0.3232 - val_accuracy: 0.9085\n",
      "Epoch 2/50\n",
      "416/416 [==============================] - 1s 3ms/step - loss: 0.3077 - accuracy: 0.9027 - val_loss: 0.2483 - val_accuracy: 0.9205\n",
      "Epoch 3/50\n",
      "416/416 [==============================] - 1s 3ms/step - loss: 0.2315 - accuracy: 0.9274 - val_loss: 0.1958 - val_accuracy: 0.9383\n",
      "Epoch 4/50\n",
      "416/416 [==============================] - 1s 3ms/step - loss: 0.1848 - accuracy: 0.9426 - val_loss: 0.1599 - val_accuracy: 0.9494\n",
      "Epoch 5/50\n",
      "416/416 [==============================] - 1s 3ms/step - loss: 0.1545 - accuracy: 0.9538 - val_loss: 0.1406 - val_accuracy: 0.9524\n",
      "Epoch 6/50\n",
      "416/416 [==============================] - 1s 3ms/step - loss: 0.1288 - accuracy: 0.9636 - val_loss: 0.1217 - val_accuracy: 0.9633\n",
      "Epoch 7/50\n",
      "416/416 [==============================] - 1s 3ms/step - loss: 0.1103 - accuracy: 0.9700 - val_loss: 0.1104 - val_accuracy: 0.9696\n",
      "Epoch 8/50\n",
      "416/416 [==============================] - 1s 3ms/step - loss: 0.0971 - accuracy: 0.9728 - val_loss: 0.1002 - val_accuracy: 0.9708\n",
      "Epoch 9/50\n",
      "416/416 [==============================] - 1s 3ms/step - loss: 0.0839 - accuracy: 0.9775 - val_loss: 0.0929 - val_accuracy: 0.9735\n",
      "Epoch 10/50\n",
      "416/416 [==============================] - 1s 3ms/step - loss: 0.0762 - accuracy: 0.9791 - val_loss: 0.0828 - val_accuracy: 0.9765\n",
      "Epoch 11/50\n",
      "416/416 [==============================] - 1s 3ms/step - loss: 0.0662 - accuracy: 0.9834 - val_loss: 0.0883 - val_accuracy: 0.9756\n",
      "Epoch 12/50\n",
      "416/416 [==============================] - 1s 3ms/step - loss: 0.0612 - accuracy: 0.9846 - val_loss: 0.0711 - val_accuracy: 0.9810\n",
      "Epoch 13/50\n",
      "416/416 [==============================] - 1s 3ms/step - loss: 0.0534 - accuracy: 0.9861 - val_loss: 0.0706 - val_accuracy: 0.9801\n",
      "Epoch 14/50\n",
      "416/416 [==============================] - 1s 3ms/step - loss: 0.0507 - accuracy: 0.9880 - val_loss: 0.0639 - val_accuracy: 0.9828\n",
      "Epoch 15/50\n",
      "416/416 [==============================] - 1s 3ms/step - loss: 0.0435 - accuracy: 0.9894 - val_loss: 0.0614 - val_accuracy: 0.9852\n",
      "Epoch 16/50\n",
      "416/416 [==============================] - 1s 3ms/step - loss: 0.0401 - accuracy: 0.9898 - val_loss: 0.0622 - val_accuracy: 0.9810\n",
      "Epoch 17/50\n",
      "416/416 [==============================] - 1s 3ms/step - loss: 0.0357 - accuracy: 0.9919 - val_loss: 0.0623 - val_accuracy: 0.9831\n",
      "Epoch 18/50\n",
      "416/416 [==============================] - 1s 3ms/step - loss: 0.0347 - accuracy: 0.9929 - val_loss: 0.0560 - val_accuracy: 0.9846\n",
      "Epoch 19/50\n",
      "416/416 [==============================] - 1s 3ms/step - loss: 0.0320 - accuracy: 0.9924 - val_loss: 0.0565 - val_accuracy: 0.9840\n",
      "Epoch 20/50\n",
      "416/416 [==============================] - 1s 3ms/step - loss: 0.0280 - accuracy: 0.9939 - val_loss: 0.0555 - val_accuracy: 0.9843\n",
      "Epoch 21/50\n",
      "416/416 [==============================] - 1s 3ms/step - loss: 0.0269 - accuracy: 0.9948 - val_loss: 0.0495 - val_accuracy: 0.9862\n",
      "Epoch 22/50\n",
      "416/416 [==============================] - 1s 3ms/step - loss: 0.0237 - accuracy: 0.9949 - val_loss: 0.0567 - val_accuracy: 0.9831\n",
      "Epoch 23/50\n",
      "416/416 [==============================] - 1s 3ms/step - loss: 0.0229 - accuracy: 0.9951 - val_loss: 0.0500 - val_accuracy: 0.9880\n",
      "Epoch 24/50\n",
      "416/416 [==============================] - 1s 3ms/step - loss: 0.0216 - accuracy: 0.9952 - val_loss: 0.0515 - val_accuracy: 0.9852\n",
      "Epoch 25/50\n",
      "416/416 [==============================] - 1s 3ms/step - loss: 0.0191 - accuracy: 0.9969 - val_loss: 0.0506 - val_accuracy: 0.9865\n",
      "Epoch 26/50\n",
      "416/416 [==============================] - 1s 3ms/step - loss: 0.0194 - accuracy: 0.9959 - val_loss: 0.0500 - val_accuracy: 0.9865\n"
     ]
    },
    {
     "name": "stderr",
     "output_type": "stream",
     "text": [
      "[I 2024-03-19 20:05:57,083] Trial 15 finished with value: 0.9864539504051208 and parameters: {'num_layers': 1, 'layer_size': 656, 'dropout_rate': 0.10047679932934811, 'use_batch_norm': False, 'activation': 'tanh', 'learning_rate': 0.00010248001130871688}. Best is trial 10 with value: 0.987959086894989.\n"
     ]
    },
    {
     "name": "stdout",
     "output_type": "stream",
     "text": [
      "Epoch 1/50\n",
      "411/416 [============================>.] - ETA: 0s - loss: 0.4940 - accuracy: 0.8416"
     ]
    },
    {
     "name": "stderr",
     "output_type": "stream",
     "text": [
      "[I 2024-03-19 20:05:58,728] Trial 16 pruned. Trial was pruned at epoch 0.\n"
     ]
    },
    {
     "name": "stdout",
     "output_type": "stream",
     "text": [
      "Epoch 1/50\n",
      "408/416 [============================>.] - ETA: 0s - loss: 0.4864 - accuracy: 0.8388"
     ]
    },
    {
     "name": "stderr",
     "output_type": "stream",
     "text": [
      "[I 2024-03-19 20:06:00,522] Trial 17 pruned. Trial was pruned at epoch 0.\n"
     ]
    },
    {
     "name": "stdout",
     "output_type": "stream",
     "text": [
      "Epoch 1/50\n",
      "416/416 [==============================] - 2s 3ms/step - loss: 0.5430 - accuracy: 0.8267 - val_loss: 0.3220 - val_accuracy: 0.9070\n",
      "Epoch 2/50\n",
      "416/416 [==============================] - 1s 3ms/step - loss: 0.3027 - accuracy: 0.9062 - val_loss: 0.2349 - val_accuracy: 0.9229\n",
      "Epoch 3/50\n",
      "416/416 [==============================] - 1s 3ms/step - loss: 0.2293 - accuracy: 0.9287 - val_loss: 0.1883 - val_accuracy: 0.9401\n",
      "Epoch 4/50\n",
      "416/416 [==============================] - 1s 3ms/step - loss: 0.1830 - accuracy: 0.9423 - val_loss: 0.1532 - val_accuracy: 0.9518\n",
      "Epoch 5/50\n",
      "416/416 [==============================] - 1s 3ms/step - loss: 0.1505 - accuracy: 0.9545 - val_loss: 0.1374 - val_accuracy: 0.9557\n",
      "Epoch 6/50\n",
      "416/416 [==============================] - 1s 3ms/step - loss: 0.1277 - accuracy: 0.9615 - val_loss: 0.1215 - val_accuracy: 0.9651\n",
      "Epoch 7/50\n",
      "416/416 [==============================] - 1s 3ms/step - loss: 0.1110 - accuracy: 0.9681 - val_loss: 0.1003 - val_accuracy: 0.9693\n",
      "Epoch 8/50\n",
      "416/416 [==============================] - 1s 3ms/step - loss: 0.0969 - accuracy: 0.9731 - val_loss: 0.0927 - val_accuracy: 0.9708\n",
      "Epoch 9/50\n",
      "416/416 [==============================] - 1s 3ms/step - loss: 0.0847 - accuracy: 0.9755 - val_loss: 0.0865 - val_accuracy: 0.9762\n",
      "Epoch 10/50\n",
      "416/416 [==============================] - 1s 3ms/step - loss: 0.0777 - accuracy: 0.9791 - val_loss: 0.0836 - val_accuracy: 0.9750\n",
      "Epoch 11/50\n",
      "416/416 [==============================] - 1s 3ms/step - loss: 0.0704 - accuracy: 0.9814 - val_loss: 0.0777 - val_accuracy: 0.9747\n",
      "Epoch 12/50\n",
      "416/416 [==============================] - 1s 3ms/step - loss: 0.0599 - accuracy: 0.9846 - val_loss: 0.0741 - val_accuracy: 0.9762\n",
      "Epoch 13/50\n",
      "416/416 [==============================] - 1s 3ms/step - loss: 0.0544 - accuracy: 0.9858 - val_loss: 0.0695 - val_accuracy: 0.9795\n",
      "Epoch 14/50\n",
      "416/416 [==============================] - 1s 3ms/step - loss: 0.0485 - accuracy: 0.9873 - val_loss: 0.0637 - val_accuracy: 0.9798\n",
      "Epoch 15/50\n",
      "416/416 [==============================] - 1s 3ms/step - loss: 0.0452 - accuracy: 0.9885 - val_loss: 0.0600 - val_accuracy: 0.9840\n",
      "Epoch 16/50\n",
      "416/416 [==============================] - 1s 3ms/step - loss: 0.0415 - accuracy: 0.9899 - val_loss: 0.0629 - val_accuracy: 0.9828\n",
      "Epoch 17/50\n",
      "416/416 [==============================] - 1s 3ms/step - loss: 0.0389 - accuracy: 0.9906 - val_loss: 0.0583 - val_accuracy: 0.9825\n",
      "Epoch 18/50\n",
      "416/416 [==============================] - 1s 3ms/step - loss: 0.0362 - accuracy: 0.9916 - val_loss: 0.0577 - val_accuracy: 0.9825\n",
      "Epoch 19/50\n",
      "416/416 [==============================] - 1s 3ms/step - loss: 0.0313 - accuracy: 0.9927 - val_loss: 0.0565 - val_accuracy: 0.9837\n",
      "Epoch 20/50\n",
      "416/416 [==============================] - 1s 3ms/step - loss: 0.0273 - accuracy: 0.9934 - val_loss: 0.0546 - val_accuracy: 0.9862\n",
      "Epoch 21/50\n",
      "416/416 [==============================] - 1s 3ms/step - loss: 0.0263 - accuracy: 0.9946 - val_loss: 0.0536 - val_accuracy: 0.9843\n",
      "Epoch 22/50\n",
      "416/416 [==============================] - 1s 3ms/step - loss: 0.0258 - accuracy: 0.9941 - val_loss: 0.0544 - val_accuracy: 0.9837\n",
      "Epoch 23/50\n",
      "416/416 [==============================] - 1s 3ms/step - loss: 0.0236 - accuracy: 0.9941 - val_loss: 0.0503 - val_accuracy: 0.9843\n",
      "Epoch 24/50\n",
      "416/416 [==============================] - 1s 3ms/step - loss: 0.0217 - accuracy: 0.9953 - val_loss: 0.0530 - val_accuracy: 0.9843\n",
      "Epoch 25/50\n",
      "416/416 [==============================] - 1s 3ms/step - loss: 0.0202 - accuracy: 0.9958 - val_loss: 0.0499 - val_accuracy: 0.9859\n",
      "Epoch 26/50\n",
      "416/416 [==============================] - 1s 3ms/step - loss: 0.0200 - accuracy: 0.9956 - val_loss: 0.0482 - val_accuracy: 0.9877\n",
      "Epoch 27/50\n",
      "416/416 [==============================] - 1s 3ms/step - loss: 0.0169 - accuracy: 0.9970 - val_loss: 0.0501 - val_accuracy: 0.9880\n",
      "Epoch 28/50\n",
      "416/416 [==============================] - 1s 3ms/step - loss: 0.0177 - accuracy: 0.9965 - val_loss: 0.0519 - val_accuracy: 0.9852\n",
      "Epoch 29/50\n",
      "416/416 [==============================] - 1s 3ms/step - loss: 0.0157 - accuracy: 0.9966 - val_loss: 0.0479 - val_accuracy: 0.9871\n",
      "Epoch 30/50\n",
      "416/416 [==============================] - 1s 3ms/step - loss: 0.0157 - accuracy: 0.9969 - val_loss: 0.0500 - val_accuracy: 0.9886\n",
      "Epoch 31/50\n",
      "416/416 [==============================] - 1s 3ms/step - loss: 0.0149 - accuracy: 0.9962 - val_loss: 0.0503 - val_accuracy: 0.9862\n"
     ]
    },
    {
     "name": "stderr",
     "output_type": "stream",
     "text": [
      "[I 2024-03-19 20:06:42,936] Trial 18 finished with value: 0.9861529469490051 and parameters: {'num_layers': 1, 'layer_size': 580, 'dropout_rate': 0.1214554615025169, 'use_batch_norm': False, 'activation': 'tanh', 'learning_rate': 0.00012676457742972808}. Best is trial 10 with value: 0.987959086894989.\n"
     ]
    },
    {
     "name": "stdout",
     "output_type": "stream",
     "text": [
      "Epoch 1/50\n",
      "411/416 [============================>.] - ETA: 0s - loss: 0.4796 - accuracy: 0.8458"
     ]
    },
    {
     "name": "stderr",
     "output_type": "stream",
     "text": [
      "[I 2024-03-19 20:06:44,741] Trial 19 pruned. Trial was pruned at epoch 0.\n"
     ]
    },
    {
     "name": "stdout",
     "output_type": "stream",
     "text": [
      "Epoch 1/50\n",
      "404/416 [============================>.] - ETA: 0s - loss: 0.4015 - accuracy: 0.8708"
     ]
    },
    {
     "name": "stderr",
     "output_type": "stream",
     "text": [
      "[I 2024-03-19 20:06:47,545] Trial 20 pruned. Trial was pruned at epoch 0.\n"
     ]
    },
    {
     "name": "stdout",
     "output_type": "stream",
     "text": [
      "Epoch 1/50\n",
      "416/416 [==============================] - 2s 4ms/step - loss: 0.5408 - accuracy: 0.8259 - val_loss: 0.3396 - val_accuracy: 0.8998\n",
      "Epoch 2/50\n",
      "416/416 [==============================] - 1s 4ms/step - loss: 0.3138 - accuracy: 0.9020 - val_loss: 0.2537 - val_accuracy: 0.9139\n",
      "Epoch 3/50\n",
      "416/416 [==============================] - 1s 3ms/step - loss: 0.2358 - accuracy: 0.9264 - val_loss: 0.1926 - val_accuracy: 0.9335\n",
      "Epoch 4/50\n",
      "416/416 [==============================] - 1s 4ms/step - loss: 0.1876 - accuracy: 0.9411 - val_loss: 0.1802 - val_accuracy: 0.9380\n",
      "Epoch 5/50\n",
      "416/416 [==============================] - 1s 3ms/step - loss: 0.1555 - accuracy: 0.9522 - val_loss: 0.1395 - val_accuracy: 0.9573\n",
      "Epoch 6/50\n",
      "416/416 [==============================] - 1s 3ms/step - loss: 0.1310 - accuracy: 0.9622 - val_loss: 0.1236 - val_accuracy: 0.9636\n",
      "Epoch 7/50\n",
      "416/416 [==============================] - 1s 3ms/step - loss: 0.1117 - accuracy: 0.9664 - val_loss: 0.1102 - val_accuracy: 0.9663\n",
      "Epoch 8/50\n",
      "416/416 [==============================] - 1s 4ms/step - loss: 0.0968 - accuracy: 0.9742 - val_loss: 0.0958 - val_accuracy: 0.9723\n",
      "Epoch 9/50\n",
      "416/416 [==============================] - 1s 4ms/step - loss: 0.0861 - accuracy: 0.9755 - val_loss: 0.0876 - val_accuracy: 0.9756\n",
      "Epoch 10/50\n",
      "416/416 [==============================] - 1s 4ms/step - loss: 0.0761 - accuracy: 0.9793 - val_loss: 0.0896 - val_accuracy: 0.9738\n",
      "Epoch 11/50\n",
      "416/416 [==============================] - 1s 4ms/step - loss: 0.0670 - accuracy: 0.9833 - val_loss: 0.0745 - val_accuracy: 0.9807\n",
      "Epoch 12/50\n",
      "416/416 [==============================] - 1s 4ms/step - loss: 0.0603 - accuracy: 0.9849 - val_loss: 0.0742 - val_accuracy: 0.9783\n",
      "Epoch 13/50\n",
      "416/416 [==============================] - 1s 3ms/step - loss: 0.0537 - accuracy: 0.9868 - val_loss: 0.0676 - val_accuracy: 0.9813\n",
      "Epoch 14/50\n",
      "416/416 [==============================] - 1s 3ms/step - loss: 0.0493 - accuracy: 0.9880 - val_loss: 0.0659 - val_accuracy: 0.9801\n",
      "Epoch 15/50\n",
      "416/416 [==============================] - 1s 3ms/step - loss: 0.0441 - accuracy: 0.9891 - val_loss: 0.0662 - val_accuracy: 0.9810\n",
      "Epoch 16/50\n",
      "416/416 [==============================] - 1s 3ms/step - loss: 0.0398 - accuracy: 0.9905 - val_loss: 0.0592 - val_accuracy: 0.9834\n",
      "Epoch 17/50\n",
      "416/416 [==============================] - 1s 3ms/step - loss: 0.0358 - accuracy: 0.9923 - val_loss: 0.0562 - val_accuracy: 0.9846\n",
      "Epoch 18/50\n",
      "416/416 [==============================] - 1s 3ms/step - loss: 0.0337 - accuracy: 0.9929 - val_loss: 0.0532 - val_accuracy: 0.9871\n",
      "Epoch 19/50\n",
      "416/416 [==============================] - 1s 3ms/step - loss: 0.0306 - accuracy: 0.9937 - val_loss: 0.0551 - val_accuracy: 0.9856\n",
      "Epoch 20/50\n",
      "416/416 [==============================] - 1s 3ms/step - loss: 0.0281 - accuracy: 0.9940 - val_loss: 0.0589 - val_accuracy: 0.9819\n",
      "Epoch 21/50\n",
      "416/416 [==============================] - 1s 3ms/step - loss: 0.0262 - accuracy: 0.9937 - val_loss: 0.0518 - val_accuracy: 0.9856\n",
      "Epoch 22/50\n",
      "416/416 [==============================] - 1s 3ms/step - loss: 0.0240 - accuracy: 0.9949 - val_loss: 0.0537 - val_accuracy: 0.9856\n",
      "Epoch 23/50\n",
      "416/416 [==============================] - 1s 3ms/step - loss: 0.0221 - accuracy: 0.9960 - val_loss: 0.0514 - val_accuracy: 0.9856\n",
      "Epoch 24/50\n",
      "416/416 [==============================] - 1s 3ms/step - loss: 0.0205 - accuracy: 0.9963 - val_loss: 0.0515 - val_accuracy: 0.9852\n",
      "Epoch 25/50\n",
      "416/416 [==============================] - 1s 3ms/step - loss: 0.0168 - accuracy: 0.9967 - val_loss: 0.0525 - val_accuracy: 0.9852\n",
      "Epoch 26/50\n",
      "416/416 [==============================] - 1s 3ms/step - loss: 0.0189 - accuracy: 0.9961 - val_loss: 0.0502 - val_accuracy: 0.9871\n",
      "Epoch 27/50\n",
      "416/416 [==============================] - 2s 4ms/step - loss: 0.0161 - accuracy: 0.9974 - val_loss: 0.0462 - val_accuracy: 0.9862\n",
      "Epoch 28/50\n",
      "416/416 [==============================] - 1s 3ms/step - loss: 0.0150 - accuracy: 0.9972 - val_loss: 0.0486 - val_accuracy: 0.9871\n",
      "Epoch 29/50\n",
      "416/416 [==============================] - 1s 3ms/step - loss: 0.0133 - accuracy: 0.9981 - val_loss: 0.0485 - val_accuracy: 0.9865\n",
      "Epoch 30/50\n",
      "416/416 [==============================] - 1s 3ms/step - loss: 0.0153 - accuracy: 0.9968 - val_loss: 0.0436 - val_accuracy: 0.9880\n",
      "Epoch 31/50\n",
      "416/416 [==============================] - 1s 3ms/step - loss: 0.0119 - accuracy: 0.9981 - val_loss: 0.0471 - val_accuracy: 0.9865\n",
      "Epoch 32/50\n",
      "416/416 [==============================] - 1s 3ms/step - loss: 0.0126 - accuracy: 0.9979 - val_loss: 0.0524 - val_accuracy: 0.9849\n",
      "Epoch 33/50\n",
      "416/416 [==============================] - 1s 3ms/step - loss: 0.0106 - accuracy: 0.9983 - val_loss: 0.0431 - val_accuracy: 0.9871\n",
      "Epoch 34/50\n",
      "416/416 [==============================] - 1s 3ms/step - loss: 0.0106 - accuracy: 0.9980 - val_loss: 0.0443 - val_accuracy: 0.9877\n",
      "Epoch 35/50\n",
      "416/416 [==============================] - 1s 3ms/step - loss: 0.0105 - accuracy: 0.9982 - val_loss: 0.0453 - val_accuracy: 0.9874\n"
     ]
    },
    {
     "name": "stderr",
     "output_type": "stream",
     "text": [
      "[I 2024-03-19 20:07:38,574] Trial 21 finished with value: 0.9873570203781128 and parameters: {'num_layers': 1, 'layer_size': 697, 'dropout_rate': 0.10082833671945111, 'use_batch_norm': False, 'activation': 'tanh', 'learning_rate': 0.00010170307178885521}. Best is trial 10 with value: 0.987959086894989.\n"
     ]
    },
    {
     "name": "stdout",
     "output_type": "stream",
     "text": [
      "Epoch 1/50\n",
      "416/416 [==============================] - 2s 4ms/step - loss: 0.5192 - accuracy: 0.8346 - val_loss: 0.3226 - val_accuracy: 0.8913\n",
      "Epoch 2/50\n",
      "416/416 [==============================] - 1s 3ms/step - loss: 0.2888 - accuracy: 0.9083 - val_loss: 0.2285 - val_accuracy: 0.9244\n",
      "Epoch 3/50\n",
      "416/416 [==============================] - 1s 3ms/step - loss: 0.2132 - accuracy: 0.9343 - val_loss: 0.1809 - val_accuracy: 0.9422\n",
      "Epoch 4/50\n",
      "416/416 [==============================] - 1s 3ms/step - loss: 0.1684 - accuracy: 0.9457 - val_loss: 0.1439 - val_accuracy: 0.9515\n",
      "Epoch 5/50\n",
      "416/416 [==============================] - 1s 3ms/step - loss: 0.1389 - accuracy: 0.9572 - val_loss: 0.1271 - val_accuracy: 0.9615\n",
      "Epoch 6/50\n",
      "416/416 [==============================] - 1s 3ms/step - loss: 0.1155 - accuracy: 0.9682 - val_loss: 0.1100 - val_accuracy: 0.9702\n",
      "Epoch 7/50\n",
      "416/416 [==============================] - 1s 3ms/step - loss: 0.0984 - accuracy: 0.9727 - val_loss: 0.1014 - val_accuracy: 0.9723\n",
      "Epoch 8/50\n",
      "416/416 [==============================] - 1s 3ms/step - loss: 0.0867 - accuracy: 0.9762 - val_loss: 0.0914 - val_accuracy: 0.9711\n",
      "Epoch 9/50\n",
      "416/416 [==============================] - 1s 3ms/step - loss: 0.0745 - accuracy: 0.9813 - val_loss: 0.0794 - val_accuracy: 0.9777\n",
      "Epoch 10/50\n",
      "416/416 [==============================] - 1s 3ms/step - loss: 0.0661 - accuracy: 0.9831 - val_loss: 0.0798 - val_accuracy: 0.9750\n",
      "Epoch 11/50\n",
      "416/416 [==============================] - 1s 3ms/step - loss: 0.0588 - accuracy: 0.9858 - val_loss: 0.0679 - val_accuracy: 0.9804\n",
      "Epoch 12/50\n",
      "416/416 [==============================] - 1s 3ms/step - loss: 0.0512 - accuracy: 0.9863 - val_loss: 0.0698 - val_accuracy: 0.9795\n",
      "Epoch 13/50\n",
      "416/416 [==============================] - 1s 3ms/step - loss: 0.0464 - accuracy: 0.9876 - val_loss: 0.0679 - val_accuracy: 0.9789\n",
      "Epoch 14/50\n",
      "416/416 [==============================] - 1s 3ms/step - loss: 0.0412 - accuracy: 0.9897 - val_loss: 0.0603 - val_accuracy: 0.9831\n",
      "Epoch 15/50\n",
      "416/416 [==============================] - 1s 3ms/step - loss: 0.0378 - accuracy: 0.9913 - val_loss: 0.0590 - val_accuracy: 0.9810\n",
      "Epoch 16/50\n",
      "416/416 [==============================] - 1s 3ms/step - loss: 0.0347 - accuracy: 0.9910 - val_loss: 0.0539 - val_accuracy: 0.9862\n",
      "Epoch 17/50\n",
      "416/416 [==============================] - 1s 3ms/step - loss: 0.0300 - accuracy: 0.9934 - val_loss: 0.0530 - val_accuracy: 0.9856\n",
      "Epoch 18/50\n",
      "416/416 [==============================] - 1s 3ms/step - loss: 0.0284 - accuracy: 0.9932 - val_loss: 0.0498 - val_accuracy: 0.9865\n",
      "Epoch 19/50\n",
      "416/416 [==============================] - 1s 3ms/step - loss: 0.0262 - accuracy: 0.9942 - val_loss: 0.0511 - val_accuracy: 0.9868\n",
      "Epoch 20/50\n",
      "416/416 [==============================] - 1s 3ms/step - loss: 0.0228 - accuracy: 0.9947 - val_loss: 0.0510 - val_accuracy: 0.9846\n",
      "Epoch 21/50\n",
      "416/416 [==============================] - 1s 3ms/step - loss: 0.0210 - accuracy: 0.9957 - val_loss: 0.0566 - val_accuracy: 0.9816\n",
      "Epoch 22/50\n",
      "416/416 [==============================] - 1s 3ms/step - loss: 0.0210 - accuracy: 0.9963 - val_loss: 0.0519 - val_accuracy: 0.9862\n",
      "Epoch 23/50\n",
      "416/416 [==============================] - 1s 3ms/step - loss: 0.0189 - accuracy: 0.9963 - val_loss: 0.0478 - val_accuracy: 0.9880\n",
      "Epoch 24/50\n",
      "416/416 [==============================] - 1s 3ms/step - loss: 0.0164 - accuracy: 0.9972 - val_loss: 0.0496 - val_accuracy: 0.9852\n",
      "Epoch 25/50\n",
      "416/416 [==============================] - 1s 3ms/step - loss: 0.0153 - accuracy: 0.9965 - val_loss: 0.0592 - val_accuracy: 0.9819\n",
      "Epoch 26/50\n",
      "416/416 [==============================] - 1s 3ms/step - loss: 0.0161 - accuracy: 0.9961 - val_loss: 0.0508 - val_accuracy: 0.9862\n",
      "Epoch 27/50\n",
      "416/416 [==============================] - 1s 3ms/step - loss: 0.0145 - accuracy: 0.9974 - val_loss: 0.0527 - val_accuracy: 0.9852\n",
      "Epoch 28/50\n",
      "416/416 [==============================] - 1s 3ms/step - loss: 0.0139 - accuracy: 0.9971 - val_loss: 0.0456 - val_accuracy: 0.9880\n",
      "Epoch 29/50\n",
      "416/416 [==============================] - 1s 3ms/step - loss: 0.0132 - accuracy: 0.9972 - val_loss: 0.0466 - val_accuracy: 0.9874\n",
      "Epoch 30/50\n",
      "416/416 [==============================] - 1s 3ms/step - loss: 0.0115 - accuracy: 0.9976 - val_loss: 0.0465 - val_accuracy: 0.9886\n",
      "Epoch 31/50\n",
      "416/416 [==============================] - 1s 3ms/step - loss: 0.0093 - accuracy: 0.9987 - val_loss: 0.0440 - val_accuracy: 0.9883\n",
      "Epoch 32/50\n",
      "416/416 [==============================] - 1s 3ms/step - loss: 0.0092 - accuracy: 0.9985 - val_loss: 0.0466 - val_accuracy: 0.9868\n",
      "Epoch 33/50\n",
      "416/416 [==============================] - 1s 3ms/step - loss: 0.0098 - accuracy: 0.9978 - val_loss: 0.0460 - val_accuracy: 0.9868\n",
      "Epoch 34/50\n",
      "416/416 [==============================] - 1s 3ms/step - loss: 0.0128 - accuracy: 0.9971 - val_loss: 0.0489 - val_accuracy: 0.9865\n",
      "Epoch 35/50\n",
      "416/416 [==============================] - 1s 3ms/step - loss: 0.0096 - accuracy: 0.9980 - val_loss: 0.0439 - val_accuracy: 0.9877\n",
      "Epoch 36/50\n",
      "416/416 [==============================] - 1s 3ms/step - loss: 0.0084 - accuracy: 0.9985 - val_loss: 0.0475 - val_accuracy: 0.9865\n"
     ]
    },
    {
     "name": "stderr",
     "output_type": "stream",
     "text": [
      "[I 2024-03-19 20:08:29,617] Trial 22 finished with value: 0.9864539504051208 and parameters: {'num_layers': 1, 'layer_size': 710, 'dropout_rate': 0.1154754304505843, 'use_batch_norm': False, 'activation': 'tanh', 'learning_rate': 0.00011888418796031753}. Best is trial 10 with value: 0.987959086894989.\n"
     ]
    },
    {
     "name": "stdout",
     "output_type": "stream",
     "text": [
      "Epoch 1/50\n",
      "404/416 [============================>.] - ETA: 0s - loss: 0.4622 - accuracy: 0.8550"
     ]
    },
    {
     "name": "stderr",
     "output_type": "stream",
     "text": [
      "[I 2024-03-19 20:08:31,550] Trial 23 pruned. Trial was pruned at epoch 0.\n"
     ]
    },
    {
     "name": "stdout",
     "output_type": "stream",
     "text": [
      "Epoch 1/50\n",
      "413/416 [============================>.] - ETA: 0s - loss: 0.5631 - accuracy: 0.8159"
     ]
    },
    {
     "name": "stderr",
     "output_type": "stream",
     "text": [
      "[I 2024-03-19 20:08:33,317] Trial 24 pruned. Trial was pruned at epoch 0.\n"
     ]
    },
    {
     "name": "stdout",
     "output_type": "stream",
     "text": [
      "Epoch 1/50\n",
      "416/416 [==============================] - 2s 3ms/step - loss: 0.5631 - accuracy: 0.8148 - val_loss: 0.3505 - val_accuracy: 0.8874\n",
      "Epoch 2/50\n",
      "416/416 [==============================] - 1s 3ms/step - loss: 0.3237 - accuracy: 0.8966 - val_loss: 0.2574 - val_accuracy: 0.9184\n",
      "Epoch 3/50\n",
      "416/416 [==============================] - 1s 3ms/step - loss: 0.2431 - accuracy: 0.9239 - val_loss: 0.1962 - val_accuracy: 0.9332\n",
      "Epoch 4/50\n",
      "416/416 [==============================] - 1s 3ms/step - loss: 0.1985 - accuracy: 0.9353 - val_loss: 0.1625 - val_accuracy: 0.9443\n",
      "Epoch 5/50\n",
      "416/416 [==============================] - 1s 3ms/step - loss: 0.1608 - accuracy: 0.9505 - val_loss: 0.1394 - val_accuracy: 0.9497\n",
      "Epoch 6/50\n",
      "416/416 [==============================] - 1s 3ms/step - loss: 0.1377 - accuracy: 0.9584 - val_loss: 0.1219 - val_accuracy: 0.9624\n",
      "Epoch 7/50\n",
      "416/416 [==============================] - 1s 3ms/step - loss: 0.1197 - accuracy: 0.9631 - val_loss: 0.1058 - val_accuracy: 0.9663\n",
      "Epoch 8/50\n",
      "416/416 [==============================] - 1s 3ms/step - loss: 0.1032 - accuracy: 0.9709 - val_loss: 0.0942 - val_accuracy: 0.9744\n",
      "Epoch 9/50\n",
      "416/416 [==============================] - 1s 3ms/step - loss: 0.0901 - accuracy: 0.9743 - val_loss: 0.0893 - val_accuracy: 0.9747\n",
      "Epoch 10/50\n",
      "416/416 [==============================] - 1s 3ms/step - loss: 0.0800 - accuracy: 0.9767 - val_loss: 0.0838 - val_accuracy: 0.9711\n",
      "Epoch 11/50\n",
      "416/416 [==============================] - 1s 3ms/step - loss: 0.0715 - accuracy: 0.9807 - val_loss: 0.0780 - val_accuracy: 0.9738\n",
      "Epoch 12/50\n",
      "416/416 [==============================] - 1s 3ms/step - loss: 0.0655 - accuracy: 0.9818 - val_loss: 0.0705 - val_accuracy: 0.9744\n",
      "Epoch 13/50\n",
      "416/416 [==============================] - 1s 3ms/step - loss: 0.0587 - accuracy: 0.9839 - val_loss: 0.0664 - val_accuracy: 0.9777\n",
      "Epoch 14/50\n",
      "416/416 [==============================] - 1s 3ms/step - loss: 0.0541 - accuracy: 0.9858 - val_loss: 0.0608 - val_accuracy: 0.9810\n",
      "Epoch 15/50\n",
      "416/416 [==============================] - 1s 3ms/step - loss: 0.0471 - accuracy: 0.9874 - val_loss: 0.0628 - val_accuracy: 0.9804\n",
      "Epoch 16/50\n",
      "416/416 [==============================] - 1s 3ms/step - loss: 0.0428 - accuracy: 0.9886 - val_loss: 0.0557 - val_accuracy: 0.9813\n",
      "Epoch 17/50\n",
      "416/416 [==============================] - 1s 3ms/step - loss: 0.0383 - accuracy: 0.9908 - val_loss: 0.0549 - val_accuracy: 0.9825\n",
      "Epoch 18/50\n",
      "416/416 [==============================] - 1s 3ms/step - loss: 0.0364 - accuracy: 0.9911 - val_loss: 0.0581 - val_accuracy: 0.9801\n",
      "Epoch 19/50\n",
      "416/416 [==============================] - 1s 3ms/step - loss: 0.0334 - accuracy: 0.9919 - val_loss: 0.0537 - val_accuracy: 0.9840\n",
      "Epoch 20/50\n",
      "416/416 [==============================] - 1s 3ms/step - loss: 0.0286 - accuracy: 0.9939 - val_loss: 0.0522 - val_accuracy: 0.9840\n",
      "Epoch 21/50\n",
      "416/416 [==============================] - 1s 3ms/step - loss: 0.0301 - accuracy: 0.9927 - val_loss: 0.0548 - val_accuracy: 0.9831\n",
      "Epoch 22/50\n",
      "416/416 [==============================] - 1s 3ms/step - loss: 0.0260 - accuracy: 0.9945 - val_loss: 0.0499 - val_accuracy: 0.9856\n",
      "Epoch 23/50\n",
      "416/416 [==============================] - 1s 3ms/step - loss: 0.0259 - accuracy: 0.9944 - val_loss: 0.0489 - val_accuracy: 0.9862\n",
      "Epoch 24/50\n",
      "416/416 [==============================] - 1s 3ms/step - loss: 0.0211 - accuracy: 0.9954 - val_loss: 0.0492 - val_accuracy: 0.9862\n",
      "Epoch 25/50\n",
      "416/416 [==============================] - 1s 3ms/step - loss: 0.0206 - accuracy: 0.9958 - val_loss: 0.0547 - val_accuracy: 0.9834\n",
      "Epoch 26/50\n",
      "416/416 [==============================] - 1s 3ms/step - loss: 0.0209 - accuracy: 0.9956 - val_loss: 0.0505 - val_accuracy: 0.9849\n",
      "Epoch 27/50\n",
      "416/416 [==============================] - 1s 3ms/step - loss: 0.0195 - accuracy: 0.9953 - val_loss: 0.0462 - val_accuracy: 0.9859\n",
      "Epoch 28/50\n",
      "416/416 [==============================] - 1s 3ms/step - loss: 0.0182 - accuracy: 0.9959 - val_loss: 0.0475 - val_accuracy: 0.9874\n",
      "Epoch 29/50\n",
      "416/416 [==============================] - 1s 3ms/step - loss: 0.0162 - accuracy: 0.9965 - val_loss: 0.0460 - val_accuracy: 0.9877\n",
      "Epoch 30/50\n",
      "416/416 [==============================] - 1s 3ms/step - loss: 0.0168 - accuracy: 0.9965 - val_loss: 0.0453 - val_accuracy: 0.9865\n",
      "Epoch 31/50\n",
      "416/416 [==============================] - 1s 3ms/step - loss: 0.0146 - accuracy: 0.9968 - val_loss: 0.0477 - val_accuracy: 0.9865\n",
      "Epoch 32/50\n",
      "416/416 [==============================] - 1s 3ms/step - loss: 0.0140 - accuracy: 0.9975 - val_loss: 0.0438 - val_accuracy: 0.9859\n",
      "Epoch 33/50\n",
      "416/416 [==============================] - 1s 3ms/step - loss: 0.0131 - accuracy: 0.9974 - val_loss: 0.0493 - val_accuracy: 0.9849\n",
      "Epoch 34/50\n",
      "416/416 [==============================] - 1s 3ms/step - loss: 0.0121 - accuracy: 0.9972 - val_loss: 0.0485 - val_accuracy: 0.9852\n",
      "Epoch 35/50\n",
      "416/416 [==============================] - 1s 3ms/step - loss: 0.0135 - accuracy: 0.9973 - val_loss: 0.0436 - val_accuracy: 0.9865\n",
      "Epoch 36/50\n",
      "416/416 [==============================] - 1s 3ms/step - loss: 0.0124 - accuracy: 0.9972 - val_loss: 0.0480 - val_accuracy: 0.9871\n",
      "Epoch 37/50\n",
      "416/416 [==============================] - 1s 3ms/step - loss: 0.0111 - accuracy: 0.9980 - val_loss: 0.0471 - val_accuracy: 0.9859\n"
     ]
    },
    {
     "name": "stderr",
     "output_type": "stream",
     "text": [
      "[I 2024-03-19 20:09:23,757] Trial 25 finished with value: 0.9858518838882446 and parameters: {'num_layers': 1, 'layer_size': 728, 'dropout_rate': 0.1484977711206744, 'use_batch_norm': False, 'activation': 'tanh', 'learning_rate': 0.00010893815090113448}. Best is trial 10 with value: 0.987959086894989.\n"
     ]
    },
    {
     "name": "stdout",
     "output_type": "stream",
     "text": [
      "Epoch 1/50\n",
      "416/416 [==============================] - 2s 3ms/step - loss: 0.5612 - accuracy: 0.8228 - val_loss: 0.3588 - val_accuracy: 0.8856\n",
      "Epoch 2/50\n",
      "416/416 [==============================] - 1s 3ms/step - loss: 0.3315 - accuracy: 0.8948 - val_loss: 0.2657 - val_accuracy: 0.9046\n",
      "Epoch 3/50\n",
      "416/416 [==============================] - 1s 3ms/step - loss: 0.2538 - accuracy: 0.9168 - val_loss: 0.2057 - val_accuracy: 0.9299\n",
      "Epoch 4/50\n",
      "416/416 [==============================] - 1s 3ms/step - loss: 0.2037 - accuracy: 0.9362 - val_loss: 0.1703 - val_accuracy: 0.9443\n",
      "Epoch 5/50\n",
      "416/416 [==============================] - 1s 3ms/step - loss: 0.1677 - accuracy: 0.9499 - val_loss: 0.1463 - val_accuracy: 0.9494\n",
      "Epoch 6/50\n",
      "416/416 [==============================] - 1s 3ms/step - loss: 0.1439 - accuracy: 0.9551 - val_loss: 0.1309 - val_accuracy: 0.9548\n",
      "Epoch 7/50\n",
      "416/416 [==============================] - 1s 3ms/step - loss: 0.1261 - accuracy: 0.9619 - val_loss: 0.1140 - val_accuracy: 0.9639\n",
      "Epoch 8/50\n",
      "416/416 [==============================] - 1s 3ms/step - loss: 0.1115 - accuracy: 0.9679 - val_loss: 0.1134 - val_accuracy: 0.9657\n",
      "Epoch 9/50\n",
      "416/416 [==============================] - 1s 3ms/step - loss: 0.0973 - accuracy: 0.9721 - val_loss: 0.0937 - val_accuracy: 0.9723\n",
      "Epoch 10/50\n",
      "416/416 [==============================] - 1s 3ms/step - loss: 0.0870 - accuracy: 0.9749 - val_loss: 0.0859 - val_accuracy: 0.9741\n",
      "Epoch 11/50\n",
      "416/416 [==============================] - 1s 3ms/step - loss: 0.0771 - accuracy: 0.9776 - val_loss: 0.0787 - val_accuracy: 0.9768\n",
      "Epoch 12/50\n",
      "416/416 [==============================] - 1s 3ms/step - loss: 0.0686 - accuracy: 0.9815 - val_loss: 0.0801 - val_accuracy: 0.9768\n",
      "Epoch 13/50\n",
      "416/416 [==============================] - 1s 3ms/step - loss: 0.0630 - accuracy: 0.9837 - val_loss: 0.0729 - val_accuracy: 0.9756\n",
      "Epoch 14/50\n",
      "416/416 [==============================] - 1s 3ms/step - loss: 0.0569 - accuracy: 0.9856 - val_loss: 0.0659 - val_accuracy: 0.9780\n",
      "Epoch 15/50\n",
      "416/416 [==============================] - 1s 3ms/step - loss: 0.0523 - accuracy: 0.9858 - val_loss: 0.0649 - val_accuracy: 0.9789\n",
      "Epoch 16/50\n",
      "416/416 [==============================] - 1s 3ms/step - loss: 0.0475 - accuracy: 0.9880 - val_loss: 0.0623 - val_accuracy: 0.9801\n",
      "Epoch 17/50\n",
      "416/416 [==============================] - 1s 3ms/step - loss: 0.0443 - accuracy: 0.9893 - val_loss: 0.0600 - val_accuracy: 0.9828\n",
      "Epoch 18/50\n",
      "416/416 [==============================] - 1s 3ms/step - loss: 0.0378 - accuracy: 0.9910 - val_loss: 0.0604 - val_accuracy: 0.9807\n",
      "Epoch 19/50\n",
      "416/416 [==============================] - 1s 3ms/step - loss: 0.0362 - accuracy: 0.9916 - val_loss: 0.0528 - val_accuracy: 0.9837\n",
      "Epoch 20/50\n",
      "416/416 [==============================] - 1s 3ms/step - loss: 0.0342 - accuracy: 0.9918 - val_loss: 0.0527 - val_accuracy: 0.9856\n",
      "Epoch 21/50\n",
      "416/416 [==============================] - 1s 3ms/step - loss: 0.0311 - accuracy: 0.9931 - val_loss: 0.0514 - val_accuracy: 0.9840\n",
      "Epoch 22/50\n",
      "416/416 [==============================] - 1s 3ms/step - loss: 0.0286 - accuracy: 0.9935 - val_loss: 0.0513 - val_accuracy: 0.9843\n",
      "Epoch 23/50\n",
      "416/416 [==============================] - 1s 3ms/step - loss: 0.0277 - accuracy: 0.9940 - val_loss: 0.0514 - val_accuracy: 0.9843\n",
      "Epoch 24/50\n",
      "416/416 [==============================] - 1s 3ms/step - loss: 0.0247 - accuracy: 0.9943 - val_loss: 0.0497 - val_accuracy: 0.9856\n",
      "Epoch 25/50\n",
      "416/416 [==============================] - 1s 3ms/step - loss: 0.0234 - accuracy: 0.9951 - val_loss: 0.0449 - val_accuracy: 0.9856\n",
      "Epoch 26/50\n",
      "416/416 [==============================] - 1s 3ms/step - loss: 0.0230 - accuracy: 0.9942 - val_loss: 0.0509 - val_accuracy: 0.9856\n",
      "Epoch 27/50\n",
      "416/416 [==============================] - 1s 3ms/step - loss: 0.0204 - accuracy: 0.9953 - val_loss: 0.0469 - val_accuracy: 0.9852\n",
      "Epoch 28/50\n",
      "416/416 [==============================] - 1s 3ms/step - loss: 0.0198 - accuracy: 0.9959 - val_loss: 0.0463 - val_accuracy: 0.9856\n",
      "Epoch 29/50\n",
      "416/416 [==============================] - 1s 3ms/step - loss: 0.0173 - accuracy: 0.9965 - val_loss: 0.0462 - val_accuracy: 0.9871\n",
      "Epoch 30/50\n",
      "416/416 [==============================] - 1s 3ms/step - loss: 0.0177 - accuracy: 0.9955 - val_loss: 0.0474 - val_accuracy: 0.9868\n"
     ]
    },
    {
     "name": "stderr",
     "output_type": "stream",
     "text": [
      "[I 2024-03-19 20:10:04,737] Trial 26 finished with value: 0.9867549538612366 and parameters: {'num_layers': 1, 'layer_size': 671, 'dropout_rate': 0.13355346687915795, 'use_batch_norm': False, 'activation': 'tanh', 'learning_rate': 0.00010014504120445575}. Best is trial 10 with value: 0.987959086894989.\n"
     ]
    },
    {
     "name": "stdout",
     "output_type": "stream",
     "text": [
      "Epoch 1/50\n",
      "411/416 [============================>.] - ETA: 0s - loss: 0.5481 - accuracy: 0.8268"
     ]
    },
    {
     "name": "stderr",
     "output_type": "stream",
     "text": [
      "[I 2024-03-19 20:10:06,460] Trial 27 pruned. Trial was pruned at epoch 0.\n"
     ]
    },
    {
     "name": "stdout",
     "output_type": "stream",
     "text": [
      "Epoch 1/50\n",
      "412/416 [============================>.] - ETA: 0s - loss: 0.4818 - accuracy: 0.8422"
     ]
    },
    {
     "name": "stderr",
     "output_type": "stream",
     "text": [
      "[I 2024-03-19 20:10:08,283] Trial 28 pruned. Trial was pruned at epoch 0.\n"
     ]
    },
    {
     "name": "stdout",
     "output_type": "stream",
     "text": [
      "Epoch 1/50\n",
      "416/416 [==============================] - 2s 3ms/step - loss: 0.6487 - accuracy: 0.7929 - val_loss: 0.3572 - val_accuracy: 0.8928\n",
      "Epoch 2/50\n",
      "416/416 [==============================] - 1s 3ms/step - loss: 0.3695 - accuracy: 0.8848 - val_loss: 0.2653 - val_accuracy: 0.9127\n",
      "Epoch 3/50\n",
      "416/416 [==============================] - 1s 3ms/step - loss: 0.2806 - accuracy: 0.9130 - val_loss: 0.2072 - val_accuracy: 0.9296\n",
      "Epoch 4/50\n",
      "416/416 [==============================] - 1s 3ms/step - loss: 0.2294 - accuracy: 0.9262 - val_loss: 0.1753 - val_accuracy: 0.9413\n",
      "Epoch 5/50\n",
      "416/416 [==============================] - 1s 3ms/step - loss: 0.1921 - accuracy: 0.9383 - val_loss: 0.1538 - val_accuracy: 0.9455\n",
      "Epoch 6/50\n",
      "416/416 [==============================] - 1s 3ms/step - loss: 0.1633 - accuracy: 0.9486 - val_loss: 0.1338 - val_accuracy: 0.9515\n",
      "Epoch 7/50\n",
      "416/416 [==============================] - 1s 3ms/step - loss: 0.1445 - accuracy: 0.9526 - val_loss: 0.1120 - val_accuracy: 0.9642\n",
      "Epoch 8/50\n",
      "416/416 [==============================] - 1s 3ms/step - loss: 0.1281 - accuracy: 0.9584 - val_loss: 0.1024 - val_accuracy: 0.9675\n",
      "Epoch 9/50\n",
      "416/416 [==============================] - 1s 3ms/step - loss: 0.1155 - accuracy: 0.9648 - val_loss: 0.0932 - val_accuracy: 0.9699\n",
      "Epoch 10/50\n",
      "416/416 [==============================] - 1s 3ms/step - loss: 0.1133 - accuracy: 0.9632 - val_loss: 0.0848 - val_accuracy: 0.9717\n",
      "Epoch 11/50\n",
      "416/416 [==============================] - 1s 3ms/step - loss: 0.0962 - accuracy: 0.9686 - val_loss: 0.0879 - val_accuracy: 0.9699\n",
      "Epoch 12/50\n",
      "416/416 [==============================] - 1s 3ms/step - loss: 0.0907 - accuracy: 0.9718 - val_loss: 0.0743 - val_accuracy: 0.9744\n",
      "Epoch 13/50\n",
      "416/416 [==============================] - 1s 3ms/step - loss: 0.0795 - accuracy: 0.9742 - val_loss: 0.0755 - val_accuracy: 0.9762\n",
      "Epoch 14/50\n",
      "416/416 [==============================] - 1s 3ms/step - loss: 0.0783 - accuracy: 0.9753 - val_loss: 0.0758 - val_accuracy: 0.9750\n",
      "Epoch 15/50\n",
      "416/416 [==============================] - 1s 3ms/step - loss: 0.0720 - accuracy: 0.9771 - val_loss: 0.0713 - val_accuracy: 0.9759\n",
      "Epoch 16/50\n",
      "416/416 [==============================] - 1s 3ms/step - loss: 0.0679 - accuracy: 0.9783 - val_loss: 0.0765 - val_accuracy: 0.9756\n",
      "Epoch 17/50\n",
      "416/416 [==============================] - 1s 3ms/step - loss: 0.0647 - accuracy: 0.9796 - val_loss: 0.0687 - val_accuracy: 0.9789\n",
      "Epoch 18/50\n",
      "416/416 [==============================] - 1s 3ms/step - loss: 0.0601 - accuracy: 0.9803 - val_loss: 0.0683 - val_accuracy: 0.9780\n",
      "Epoch 19/50\n",
      "416/416 [==============================] - 1s 3ms/step - loss: 0.0584 - accuracy: 0.9808 - val_loss: 0.0637 - val_accuracy: 0.9804\n",
      "Epoch 20/50\n",
      "416/416 [==============================] - 1s 3ms/step - loss: 0.0527 - accuracy: 0.9836 - val_loss: 0.0587 - val_accuracy: 0.9813\n",
      "Epoch 21/50\n",
      "416/416 [==============================] - 1s 3ms/step - loss: 0.0492 - accuracy: 0.9844 - val_loss: 0.0614 - val_accuracy: 0.9825\n",
      "Epoch 22/50\n",
      "416/416 [==============================] - 1s 3ms/step - loss: 0.0477 - accuracy: 0.9835 - val_loss: 0.0615 - val_accuracy: 0.9834\n",
      "Epoch 23/50\n",
      "416/416 [==============================] - 1s 3ms/step - loss: 0.0470 - accuracy: 0.9852 - val_loss: 0.0585 - val_accuracy: 0.9819\n",
      "Epoch 24/50\n",
      "416/416 [==============================] - 1s 3ms/step - loss: 0.0466 - accuracy: 0.9842 - val_loss: 0.0604 - val_accuracy: 0.9804\n",
      "Epoch 25/50\n",
      "416/416 [==============================] - 1s 3ms/step - loss: 0.0440 - accuracy: 0.9855 - val_loss: 0.0587 - val_accuracy: 0.9846\n"
     ]
    },
    {
     "name": "stderr",
     "output_type": "stream",
     "text": [
      "[I 2024-03-19 20:10:42,482] Trial 29 finished with value: 0.984647810459137 and parameters: {'num_layers': 2, 'layer_size': 201, 'dropout_rate': 0.10773866631139353, 'use_batch_norm': False, 'activation': 'tanh', 'learning_rate': 0.00014594104103371984}. Best is trial 10 with value: 0.987959086894989.\n"
     ]
    },
    {
     "name": "stdout",
     "output_type": "stream",
     "text": [
      "Epoch 1/50\n",
      "409/416 [============================>.] - ETA: 0s - loss: 0.4729 - accuracy: 0.8491"
     ]
    },
    {
     "name": "stderr",
     "output_type": "stream",
     "text": [
      "[I 2024-03-19 20:10:44,273] Trial 30 pruned. Trial was pruned at epoch 0.\n"
     ]
    },
    {
     "name": "stdout",
     "output_type": "stream",
     "text": [
      "Epoch 1/50\n",
      "416/416 [==============================] - 2s 4ms/step - loss: 0.5450 - accuracy: 0.8246 - val_loss: 0.3368 - val_accuracy: 0.8925\n",
      "Epoch 2/50\n",
      "416/416 [==============================] - 1s 3ms/step - loss: 0.3100 - accuracy: 0.9014 - val_loss: 0.2409 - val_accuracy: 0.9253\n",
      "Epoch 3/50\n",
      "416/416 [==============================] - 1s 3ms/step - loss: 0.2357 - accuracy: 0.9255 - val_loss: 0.1998 - val_accuracy: 0.9317\n",
      "Epoch 4/50\n",
      "416/416 [==============================] - 1s 3ms/step - loss: 0.1912 - accuracy: 0.9403 - val_loss: 0.1616 - val_accuracy: 0.9488\n",
      "Epoch 5/50\n",
      "416/416 [==============================] - 1s 3ms/step - loss: 0.1541 - accuracy: 0.9528 - val_loss: 0.1436 - val_accuracy: 0.9530\n",
      "Epoch 6/50\n",
      "416/416 [==============================] - 1s 3ms/step - loss: 0.1316 - accuracy: 0.9591 - val_loss: 0.1207 - val_accuracy: 0.9606\n",
      "Epoch 7/50\n",
      "416/416 [==============================] - 1s 3ms/step - loss: 0.1146 - accuracy: 0.9664 - val_loss: 0.1059 - val_accuracy: 0.9702\n",
      "Epoch 8/50\n",
      "416/416 [==============================] - 1s 3ms/step - loss: 0.0994 - accuracy: 0.9709 - val_loss: 0.0965 - val_accuracy: 0.9711\n",
      "Epoch 9/50\n",
      "416/416 [==============================] - 1s 3ms/step - loss: 0.0875 - accuracy: 0.9761 - val_loss: 0.0884 - val_accuracy: 0.9735\n",
      "Epoch 10/50\n",
      "416/416 [==============================] - 1s 3ms/step - loss: 0.0794 - accuracy: 0.9789 - val_loss: 0.0878 - val_accuracy: 0.9702\n",
      "Epoch 11/50\n",
      "416/416 [==============================] - 1s 3ms/step - loss: 0.0710 - accuracy: 0.9813 - val_loss: 0.0763 - val_accuracy: 0.9780\n",
      "Epoch 12/50\n",
      "416/416 [==============================] - 1s 3ms/step - loss: 0.0636 - accuracy: 0.9824 - val_loss: 0.0750 - val_accuracy: 0.9765\n",
      "Epoch 13/50\n",
      "416/416 [==============================] - 1s 3ms/step - loss: 0.0544 - accuracy: 0.9860 - val_loss: 0.0652 - val_accuracy: 0.9816\n",
      "Epoch 14/50\n",
      "416/416 [==============================] - 1s 3ms/step - loss: 0.0522 - accuracy: 0.9866 - val_loss: 0.0679 - val_accuracy: 0.9789\n",
      "Epoch 15/50\n",
      "416/416 [==============================] - 1s 3ms/step - loss: 0.0454 - accuracy: 0.9888 - val_loss: 0.0645 - val_accuracy: 0.9816\n",
      "Epoch 16/50\n",
      "416/416 [==============================] - 1s 3ms/step - loss: 0.0403 - accuracy: 0.9912 - val_loss: 0.0621 - val_accuracy: 0.9828\n",
      "Epoch 17/50\n",
      "416/416 [==============================] - 1s 3ms/step - loss: 0.0377 - accuracy: 0.9914 - val_loss: 0.0580 - val_accuracy: 0.9849\n",
      "Epoch 18/50\n",
      "416/416 [==============================] - 1s 3ms/step - loss: 0.0346 - accuracy: 0.9919 - val_loss: 0.0589 - val_accuracy: 0.9837\n",
      "Epoch 19/50\n",
      "416/416 [==============================] - 1s 3ms/step - loss: 0.0335 - accuracy: 0.9925 - val_loss: 0.0551 - val_accuracy: 0.9846\n",
      "Epoch 20/50\n",
      "416/416 [==============================] - 1s 3ms/step - loss: 0.0294 - accuracy: 0.9937 - val_loss: 0.0530 - val_accuracy: 0.9865\n",
      "Epoch 21/50\n",
      "416/416 [==============================] - 1s 3ms/step - loss: 0.0281 - accuracy: 0.9933 - val_loss: 0.0545 - val_accuracy: 0.9849\n",
      "Epoch 22/50\n",
      "416/416 [==============================] - 1s 3ms/step - loss: 0.0264 - accuracy: 0.9942 - val_loss: 0.0541 - val_accuracy: 0.9843\n",
      "Epoch 23/50\n",
      "416/416 [==============================] - 1s 3ms/step - loss: 0.0231 - accuracy: 0.9952 - val_loss: 0.0520 - val_accuracy: 0.9859\n",
      "Epoch 24/50\n",
      "416/416 [==============================] - 1s 3ms/step - loss: 0.0216 - accuracy: 0.9959 - val_loss: 0.0500 - val_accuracy: 0.9865\n",
      "Epoch 25/50\n",
      "416/416 [==============================] - 1s 3ms/step - loss: 0.0199 - accuracy: 0.9960 - val_loss: 0.0487 - val_accuracy: 0.9865\n",
      "Epoch 26/50\n",
      "416/416 [==============================] - 1s 3ms/step - loss: 0.0189 - accuracy: 0.9959 - val_loss: 0.0462 - val_accuracy: 0.9868\n",
      "Epoch 27/50\n",
      "416/416 [==============================] - 1s 3ms/step - loss: 0.0184 - accuracy: 0.9959 - val_loss: 0.0451 - val_accuracy: 0.9883\n",
      "Epoch 28/50\n",
      "416/416 [==============================] - 1s 3ms/step - loss: 0.0172 - accuracy: 0.9966 - val_loss: 0.0460 - val_accuracy: 0.9868\n",
      "Epoch 29/50\n",
      "416/416 [==============================] - 1s 3ms/step - loss: 0.0164 - accuracy: 0.9962 - val_loss: 0.0472 - val_accuracy: 0.9846\n",
      "Epoch 30/50\n",
      "416/416 [==============================] - 1s 3ms/step - loss: 0.0147 - accuracy: 0.9974 - val_loss: 0.0489 - val_accuracy: 0.9877\n",
      "Epoch 31/50\n",
      "416/416 [==============================] - 1s 3ms/step - loss: 0.0145 - accuracy: 0.9969 - val_loss: 0.0472 - val_accuracy: 0.9880\n",
      "Epoch 32/50\n",
      "416/416 [==============================] - 1s 3ms/step - loss: 0.0138 - accuracy: 0.9968 - val_loss: 0.0451 - val_accuracy: 0.9880\n"
     ]
    },
    {
     "name": "stderr",
     "output_type": "stream",
     "text": [
      "[I 2024-03-19 20:11:29,199] Trial 31 finished with value: 0.987959086894989 and parameters: {'num_layers': 1, 'layer_size': 742, 'dropout_rate': 0.135389527336228, 'use_batch_norm': False, 'activation': 'tanh', 'learning_rate': 0.0001031032406478315}. Best is trial 10 with value: 0.987959086894989.\n"
     ]
    },
    {
     "name": "stdout",
     "output_type": "stream",
     "text": [
      "Epoch 1/50\n",
      "412/416 [============================>.] - ETA: 0s - loss: 0.5295 - accuracy: 0.8309"
     ]
    },
    {
     "name": "stderr",
     "output_type": "stream",
     "text": [
      "[I 2024-03-19 20:11:30,995] Trial 32 pruned. Trial was pruned at epoch 0.\n"
     ]
    },
    {
     "name": "stdout",
     "output_type": "stream",
     "text": [
      "Epoch 1/50\n",
      "416/416 [==============================] - 2s 4ms/step - loss: 0.5268 - accuracy: 0.8343 - val_loss: 0.3262 - val_accuracy: 0.9049\n",
      "Epoch 2/50\n",
      "416/416 [==============================] - 1s 3ms/step - loss: 0.3000 - accuracy: 0.9058 - val_loss: 0.2374 - val_accuracy: 0.9238\n",
      "Epoch 3/50\n",
      "416/416 [==============================] - 1s 3ms/step - loss: 0.2266 - accuracy: 0.9285 - val_loss: 0.1945 - val_accuracy: 0.9380\n",
      "Epoch 4/50\n",
      "416/416 [==============================] - 1s 3ms/step - loss: 0.1764 - accuracy: 0.9445 - val_loss: 0.1671 - val_accuracy: 0.9443\n",
      "Epoch 5/50\n",
      "416/416 [==============================] - 1s 3ms/step - loss: 0.1467 - accuracy: 0.9547 - val_loss: 0.1331 - val_accuracy: 0.9594\n",
      "Epoch 6/50\n",
      "416/416 [==============================] - 1s 3ms/step - loss: 0.1223 - accuracy: 0.9645 - val_loss: 0.1118 - val_accuracy: 0.9624\n",
      "Epoch 7/50\n",
      "416/416 [==============================] - 1s 3ms/step - loss: 0.1019 - accuracy: 0.9706 - val_loss: 0.0966 - val_accuracy: 0.9711\n",
      "Epoch 8/50\n",
      "416/416 [==============================] - 1s 3ms/step - loss: 0.0895 - accuracy: 0.9743 - val_loss: 0.0891 - val_accuracy: 0.9687\n",
      "Epoch 9/50\n",
      "416/416 [==============================] - 1s 3ms/step - loss: 0.0801 - accuracy: 0.9782 - val_loss: 0.0798 - val_accuracy: 0.9741\n",
      "Epoch 10/50\n",
      "416/416 [==============================] - 1s 3ms/step - loss: 0.0694 - accuracy: 0.9809 - val_loss: 0.0743 - val_accuracy: 0.9741\n",
      "Epoch 11/50\n",
      "416/416 [==============================] - 1s 3ms/step - loss: 0.0616 - accuracy: 0.9837 - val_loss: 0.0700 - val_accuracy: 0.9762\n",
      "Epoch 12/50\n",
      "416/416 [==============================] - 1s 3ms/step - loss: 0.0539 - accuracy: 0.9863 - val_loss: 0.0692 - val_accuracy: 0.9780\n",
      "Epoch 13/50\n",
      "416/416 [==============================] - 1s 3ms/step - loss: 0.0501 - accuracy: 0.9877 - val_loss: 0.0664 - val_accuracy: 0.9798\n",
      "Epoch 14/50\n",
      "416/416 [==============================] - 1s 3ms/step - loss: 0.0435 - accuracy: 0.9892 - val_loss: 0.0626 - val_accuracy: 0.9810\n",
      "Epoch 15/50\n",
      "416/416 [==============================] - 1s 3ms/step - loss: 0.0399 - accuracy: 0.9906 - val_loss: 0.0641 - val_accuracy: 0.9816\n",
      "Epoch 16/50\n",
      "416/416 [==============================] - 1s 3ms/step - loss: 0.0361 - accuracy: 0.9910 - val_loss: 0.0546 - val_accuracy: 0.9856\n",
      "Epoch 17/50\n",
      "416/416 [==============================] - 1s 3ms/step - loss: 0.0325 - accuracy: 0.9923 - val_loss: 0.0500 - val_accuracy: 0.9852\n",
      "Epoch 18/50\n",
      "416/416 [==============================] - 1s 3ms/step - loss: 0.0300 - accuracy: 0.9935 - val_loss: 0.0576 - val_accuracy: 0.9834\n",
      "Epoch 19/50\n",
      "416/416 [==============================] - 1s 3ms/step - loss: 0.0282 - accuracy: 0.9934 - val_loss: 0.0528 - val_accuracy: 0.9849\n",
      "Epoch 20/50\n",
      "416/416 [==============================] - 1s 3ms/step - loss: 0.0237 - accuracy: 0.9950 - val_loss: 0.0533 - val_accuracy: 0.9834\n",
      "Epoch 21/50\n",
      "416/416 [==============================] - 1s 3ms/step - loss: 0.0225 - accuracy: 0.9949 - val_loss: 0.0505 - val_accuracy: 0.9843\n",
      "Epoch 22/50\n",
      "416/416 [==============================] - 1s 3ms/step - loss: 0.0205 - accuracy: 0.9962 - val_loss: 0.0498 - val_accuracy: 0.9865\n"
     ]
    },
    {
     "name": "stderr",
     "output_type": "stream",
     "text": [
      "[I 2024-03-19 20:12:02,164] Trial 33 finished with value: 0.9864539504051208 and parameters: {'num_layers': 1, 'layer_size': 746, 'dropout_rate': 0.1268199996480464, 'use_batch_norm': False, 'activation': 'tanh', 'learning_rate': 0.00011521444028996555}. Best is trial 10 with value: 0.987959086894989.\n"
     ]
    },
    {
     "name": "stdout",
     "output_type": "stream",
     "text": [
      "Epoch 1/50\n",
      "409/416 [============================>.] - ETA: 0s - loss: 0.5216 - accuracy: 0.8336"
     ]
    },
    {
     "name": "stderr",
     "output_type": "stream",
     "text": [
      "[I 2024-03-19 20:12:04,148] Trial 34 pruned. Trial was pruned at epoch 0.\n"
     ]
    },
    {
     "name": "stdout",
     "output_type": "stream",
     "text": [
      "Epoch 1/50\n",
      "416/416 [==============================] - 2s 3ms/step - loss: 0.5414 - accuracy: 0.8303 - val_loss: 0.3300 - val_accuracy: 0.9040\n",
      "Epoch 2/50\n",
      "416/416 [==============================] - 1s 3ms/step - loss: 0.3620 - accuracy: 0.8893 - val_loss: 0.2668 - val_accuracy: 0.9202\n",
      "Epoch 3/50\n",
      "416/416 [==============================] - 1s 3ms/step - loss: 0.2913 - accuracy: 0.9094 - val_loss: 0.2223 - val_accuracy: 0.9314\n",
      "Epoch 4/50\n",
      "416/416 [==============================] - 1s 3ms/step - loss: 0.2473 - accuracy: 0.9224 - val_loss: 0.2043 - val_accuracy: 0.9356\n",
      "Epoch 5/50\n",
      "416/416 [==============================] - 1s 3ms/step - loss: 0.2193 - accuracy: 0.9307 - val_loss: 0.1597 - val_accuracy: 0.9515\n",
      "Epoch 6/50\n",
      "416/416 [==============================] - 1s 3ms/step - loss: 0.2038 - accuracy: 0.9329 - val_loss: 0.1420 - val_accuracy: 0.9479\n",
      "Epoch 7/50\n",
      "416/416 [==============================] - 1s 3ms/step - loss: 0.1830 - accuracy: 0.9384 - val_loss: 0.1527 - val_accuracy: 0.9491\n",
      "Epoch 8/50\n",
      "416/416 [==============================] - 1s 3ms/step - loss: 0.1622 - accuracy: 0.9463 - val_loss: 0.1125 - val_accuracy: 0.9642\n",
      "Epoch 9/50\n",
      "416/416 [==============================] - 1s 3ms/step - loss: 0.1530 - accuracy: 0.9503 - val_loss: 0.1055 - val_accuracy: 0.9690\n",
      "Epoch 10/50\n",
      "416/416 [==============================] - 1s 3ms/step - loss: 0.1484 - accuracy: 0.9507 - val_loss: 0.1052 - val_accuracy: 0.9663\n",
      "Epoch 11/50\n",
      "416/416 [==============================] - 1s 3ms/step - loss: 0.1302 - accuracy: 0.9569 - val_loss: 0.1089 - val_accuracy: 0.9597\n",
      "Epoch 12/50\n",
      "416/416 [==============================] - 1s 3ms/step - loss: 0.1279 - accuracy: 0.9579 - val_loss: 0.0897 - val_accuracy: 0.9717\n",
      "Epoch 13/50\n",
      "416/416 [==============================] - 1s 3ms/step - loss: 0.1160 - accuracy: 0.9609 - val_loss: 0.0898 - val_accuracy: 0.9693\n",
      "Epoch 14/50\n",
      "416/416 [==============================] - 1s 3ms/step - loss: 0.1144 - accuracy: 0.9620 - val_loss: 0.0905 - val_accuracy: 0.9687\n",
      "Epoch 15/50\n",
      "416/416 [==============================] - 1s 3ms/step - loss: 0.1069 - accuracy: 0.9649 - val_loss: 0.0805 - val_accuracy: 0.9723\n",
      "Epoch 16/50\n",
      "416/416 [==============================] - 1s 3ms/step - loss: 0.1038 - accuracy: 0.9644 - val_loss: 0.0788 - val_accuracy: 0.9735\n",
      "Epoch 17/50\n",
      "416/416 [==============================] - 1s 3ms/step - loss: 0.0965 - accuracy: 0.9684 - val_loss: 0.0903 - val_accuracy: 0.9717\n",
      "Epoch 18/50\n",
      "416/416 [==============================] - 1s 3ms/step - loss: 0.1050 - accuracy: 0.9639 - val_loss: 0.0644 - val_accuracy: 0.9774\n",
      "Epoch 19/50\n",
      "416/416 [==============================] - 1s 3ms/step - loss: 0.0948 - accuracy: 0.9680 - val_loss: 0.0722 - val_accuracy: 0.9759\n",
      "Epoch 20/50\n",
      "416/416 [==============================] - 1s 3ms/step - loss: 0.0904 - accuracy: 0.9704 - val_loss: 0.0740 - val_accuracy: 0.9780\n",
      "Epoch 21/50\n",
      "416/416 [==============================] - 1s 3ms/step - loss: 0.0881 - accuracy: 0.9713 - val_loss: 0.0695 - val_accuracy: 0.9765\n",
      "Epoch 22/50\n",
      "416/416 [==============================] - 1s 3ms/step - loss: 0.0859 - accuracy: 0.9728 - val_loss: 0.0883 - val_accuracy: 0.9744\n",
      "Epoch 23/50\n",
      "416/416 [==============================] - 1s 3ms/step - loss: 0.0844 - accuracy: 0.9712 - val_loss: 0.0687 - val_accuracy: 0.9792\n"
     ]
    },
    {
     "name": "stderr",
     "output_type": "stream",
     "text": [
      "[I 2024-03-19 20:12:32,577] Trial 35 finished with value: 0.9792293906211853 and parameters: {'num_layers': 1, 'layer_size': 224, 'dropout_rate': 0.1459865983964105, 'use_batch_norm': True, 'activation': 'tanh', 'learning_rate': 0.0009679697628295381}. Best is trial 10 with value: 0.987959086894989.\n"
     ]
    },
    {
     "name": "stdout",
     "output_type": "stream",
     "text": [
      "Epoch 1/50\n",
      "408/416 [============================>.] - ETA: 0s - loss: 0.5407 - accuracy: 0.8210"
     ]
    },
    {
     "name": "stderr",
     "output_type": "stream",
     "text": [
      "[I 2024-03-19 20:12:34,729] Trial 36 pruned. Trial was pruned at epoch 0.\n"
     ]
    },
    {
     "name": "stdout",
     "output_type": "stream",
     "text": [
      "Epoch 1/50\n",
      "416/416 [==============================] - 1s 3ms/step - loss: 0.9167 - accuracy: 0.7063 - val_loss: 0.4827 - val_accuracy: 0.8489\n",
      "Epoch 2/50\n",
      "416/416 [==============================] - 1s 2ms/step - loss: 0.5375 - accuracy: 0.8415 - val_loss: 0.3772 - val_accuracy: 0.8859\n",
      "Epoch 3/50\n",
      "416/416 [==============================] - 1s 2ms/step - loss: 0.4527 - accuracy: 0.8662 - val_loss: 0.3271 - val_accuracy: 0.9040\n",
      "Epoch 4/50\n",
      "416/416 [==============================] - 1s 2ms/step - loss: 0.4068 - accuracy: 0.8766 - val_loss: 0.2936 - val_accuracy: 0.9103\n",
      "Epoch 5/50\n",
      "416/416 [==============================] - 1s 2ms/step - loss: 0.3663 - accuracy: 0.8904 - val_loss: 0.2676 - val_accuracy: 0.9190\n",
      "Epoch 6/50\n",
      "416/416 [==============================] - 1s 2ms/step - loss: 0.3422 - accuracy: 0.8968 - val_loss: 0.2440 - val_accuracy: 0.9275\n",
      "Epoch 7/50\n",
      "416/416 [==============================] - 1s 2ms/step - loss: 0.3196 - accuracy: 0.9052 - val_loss: 0.2305 - val_accuracy: 0.9311\n",
      "Epoch 8/50\n",
      "416/416 [==============================] - 1s 2ms/step - loss: 0.3053 - accuracy: 0.9083 - val_loss: 0.2167 - val_accuracy: 0.9314\n",
      "Epoch 9/50\n",
      "416/416 [==============================] - 1s 2ms/step - loss: 0.2900 - accuracy: 0.9105 - val_loss: 0.2090 - val_accuracy: 0.9350\n",
      "Epoch 10/50\n",
      "416/416 [==============================] - 1s 2ms/step - loss: 0.2748 - accuracy: 0.9176 - val_loss: 0.2026 - val_accuracy: 0.9404\n",
      "Epoch 11/50\n",
      "416/416 [==============================] - 1s 2ms/step - loss: 0.2617 - accuracy: 0.9189 - val_loss: 0.1895 - val_accuracy: 0.9383\n",
      "Epoch 12/50\n",
      "416/416 [==============================] - 1s 2ms/step - loss: 0.2574 - accuracy: 0.9208 - val_loss: 0.1831 - val_accuracy: 0.9422\n",
      "Epoch 13/50\n",
      "416/416 [==============================] - 1s 2ms/step - loss: 0.2416 - accuracy: 0.9262 - val_loss: 0.1745 - val_accuracy: 0.9416\n",
      "Epoch 14/50\n",
      "416/416 [==============================] - 1s 2ms/step - loss: 0.2412 - accuracy: 0.9250 - val_loss: 0.1683 - val_accuracy: 0.9485\n",
      "Epoch 15/50\n",
      "416/416 [==============================] - 1s 2ms/step - loss: 0.2375 - accuracy: 0.9280 - val_loss: 0.1632 - val_accuracy: 0.9494\n",
      "Epoch 16/50\n",
      "416/416 [==============================] - 1s 2ms/step - loss: 0.2191 - accuracy: 0.9338 - val_loss: 0.1561 - val_accuracy: 0.9491\n",
      "Epoch 17/50\n",
      "416/416 [==============================] - 1s 2ms/step - loss: 0.2163 - accuracy: 0.9325 - val_loss: 0.1515 - val_accuracy: 0.9530\n",
      "Epoch 18/50\n",
      "416/416 [==============================] - 1s 2ms/step - loss: 0.2179 - accuracy: 0.9323 - val_loss: 0.1494 - val_accuracy: 0.9542\n",
      "Epoch 19/50\n",
      "416/416 [==============================] - 1s 2ms/step - loss: 0.2157 - accuracy: 0.9329 - val_loss: 0.1459 - val_accuracy: 0.9512\n",
      "Epoch 20/50\n",
      "416/416 [==============================] - 1s 2ms/step - loss: 0.2053 - accuracy: 0.9350 - val_loss: 0.1426 - val_accuracy: 0.9509\n",
      "Epoch 21/50\n",
      "416/416 [==============================] - 1s 2ms/step - loss: 0.2048 - accuracy: 0.9351 - val_loss: 0.1371 - val_accuracy: 0.9545\n",
      "Epoch 22/50\n",
      "416/416 [==============================] - 1s 2ms/step - loss: 0.1974 - accuracy: 0.9379 - val_loss: 0.1355 - val_accuracy: 0.9554\n",
      "Epoch 23/50\n",
      "416/416 [==============================] - 1s 2ms/step - loss: 0.1931 - accuracy: 0.9377 - val_loss: 0.1332 - val_accuracy: 0.9564\n",
      "Epoch 24/50\n",
      "416/416 [==============================] - 1s 2ms/step - loss: 0.1882 - accuracy: 0.9426 - val_loss: 0.1286 - val_accuracy: 0.9615\n",
      "Epoch 25/50\n",
      "416/416 [==============================] - 1s 2ms/step - loss: 0.1851 - accuracy: 0.9404 - val_loss: 0.1293 - val_accuracy: 0.9564\n",
      "Epoch 26/50\n",
      "416/416 [==============================] - 1s 2ms/step - loss: 0.1821 - accuracy: 0.9442 - val_loss: 0.1272 - val_accuracy: 0.9618\n",
      "Epoch 27/50\n",
      "416/416 [==============================] - 1s 2ms/step - loss: 0.1784 - accuracy: 0.9449 - val_loss: 0.1265 - val_accuracy: 0.9624\n",
      "Epoch 28/50\n",
      "416/416 [==============================] - 1s 2ms/step - loss: 0.1789 - accuracy: 0.9451 - val_loss: 0.1232 - val_accuracy: 0.9612\n",
      "Epoch 29/50\n",
      "416/416 [==============================] - 1s 2ms/step - loss: 0.1726 - accuracy: 0.9472 - val_loss: 0.1204 - val_accuracy: 0.9621\n",
      "Epoch 30/50\n",
      "416/416 [==============================] - 1s 2ms/step - loss: 0.1689 - accuracy: 0.9472 - val_loss: 0.1196 - val_accuracy: 0.9609\n",
      "Epoch 31/50\n",
      "416/416 [==============================] - 1s 2ms/step - loss: 0.1728 - accuracy: 0.9432 - val_loss: 0.1161 - val_accuracy: 0.9648\n",
      "Epoch 32/50\n",
      "416/416 [==============================] - 1s 2ms/step - loss: 0.1693 - accuracy: 0.9472 - val_loss: 0.1200 - val_accuracy: 0.9621\n",
      "Epoch 33/50\n",
      "416/416 [==============================] - 1s 2ms/step - loss: 0.1649 - accuracy: 0.9467 - val_loss: 0.1151 - val_accuracy: 0.9645\n",
      "Epoch 34/50\n",
      "416/416 [==============================] - 1s 2ms/step - loss: 0.1627 - accuracy: 0.9478 - val_loss: 0.1148 - val_accuracy: 0.9606\n",
      "Epoch 35/50\n",
      "416/416 [==============================] - 1s 2ms/step - loss: 0.1587 - accuracy: 0.9518 - val_loss: 0.1100 - val_accuracy: 0.9657\n",
      "Epoch 36/50\n",
      "416/416 [==============================] - 1s 2ms/step - loss: 0.1587 - accuracy: 0.9505 - val_loss: 0.1114 - val_accuracy: 0.9639\n",
      "Epoch 37/50\n",
      "416/416 [==============================] - 1s 2ms/step - loss: 0.1612 - accuracy: 0.9496 - val_loss: 0.1084 - val_accuracy: 0.9660\n",
      "Epoch 38/50\n",
      "416/416 [==============================] - 1s 2ms/step - loss: 0.1570 - accuracy: 0.9511 - val_loss: 0.1066 - val_accuracy: 0.9684\n",
      "Epoch 39/50\n",
      "416/416 [==============================] - 1s 2ms/step - loss: 0.1557 - accuracy: 0.9511 - val_loss: 0.1096 - val_accuracy: 0.9636\n",
      "Epoch 40/50\n",
      "416/416 [==============================] - 1s 2ms/step - loss: 0.1598 - accuracy: 0.9508 - val_loss: 0.1053 - val_accuracy: 0.9693\n",
      "Epoch 41/50\n",
      "416/416 [==============================] - 1s 2ms/step - loss: 0.1573 - accuracy: 0.9502 - val_loss: 0.1064 - val_accuracy: 0.9675\n",
      "Epoch 42/50\n",
      "416/416 [==============================] - 1s 2ms/step - loss: 0.1519 - accuracy: 0.9515 - val_loss: 0.1064 - val_accuracy: 0.9657\n",
      "Epoch 43/50\n",
      "416/416 [==============================] - 1s 2ms/step - loss: 0.1481 - accuracy: 0.9531 - val_loss: 0.1036 - val_accuracy: 0.9684\n",
      "Epoch 44/50\n",
      "416/416 [==============================] - 1s 2ms/step - loss: 0.1492 - accuracy: 0.9521 - val_loss: 0.1008 - val_accuracy: 0.9696\n",
      "Epoch 45/50\n",
      "416/416 [==============================] - 1s 2ms/step - loss: 0.1440 - accuracy: 0.9560 - val_loss: 0.0993 - val_accuracy: 0.9696\n",
      "Epoch 46/50\n",
      "416/416 [==============================] - 1s 2ms/step - loss: 0.1472 - accuracy: 0.9525 - val_loss: 0.1018 - val_accuracy: 0.9702\n",
      "Epoch 47/50\n",
      "416/416 [==============================] - 1s 2ms/step - loss: 0.1469 - accuracy: 0.9552 - val_loss: 0.1025 - val_accuracy: 0.9675\n",
      "Epoch 48/50\n",
      "416/416 [==============================] - 1s 2ms/step - loss: 0.1461 - accuracy: 0.9540 - val_loss: 0.0984 - val_accuracy: 0.9705\n",
      "Epoch 49/50\n",
      "416/416 [==============================] - 1s 2ms/step - loss: 0.1358 - accuracy: 0.9578 - val_loss: 0.0996 - val_accuracy: 0.9690\n",
      "Epoch 50/50\n",
      "416/416 [==============================] - 1s 2ms/step - loss: 0.1373 - accuracy: 0.9575 - val_loss: 0.1023 - val_accuracy: 0.9705\n"
     ]
    },
    {
     "name": "stderr",
     "output_type": "stream",
     "text": [
      "[I 2024-03-19 20:13:24,881] Trial 37 finished with value: 0.9704996943473816 and parameters: {'num_layers': 1, 'layer_size': 80, 'dropout_rate': 0.13215914314856453, 'use_batch_norm': True, 'activation': 'relu', 'learning_rate': 0.0001643847681891162}. Best is trial 10 with value: 0.987959086894989.\n"
     ]
    },
    {
     "name": "stdout",
     "output_type": "stream",
     "text": [
      "Epoch 1/50\n",
      "416/416 [==============================] - 2s 4ms/step - loss: 0.5354 - accuracy: 0.8256 - val_loss: 0.3384 - val_accuracy: 0.8961\n",
      "Epoch 2/50\n",
      "416/416 [==============================] - 1s 4ms/step - loss: 0.3076 - accuracy: 0.9015 - val_loss: 0.2456 - val_accuracy: 0.9217\n",
      "Epoch 3/50\n",
      "416/416 [==============================] - 1s 3ms/step - loss: 0.2272 - accuracy: 0.9282 - val_loss: 0.1948 - val_accuracy: 0.9350\n",
      "Epoch 4/50\n",
      "416/416 [==============================] - 1s 3ms/step - loss: 0.1792 - accuracy: 0.9432 - val_loss: 0.1571 - val_accuracy: 0.9491\n",
      "Epoch 5/50\n",
      "416/416 [==============================] - 1s 3ms/step - loss: 0.1482 - accuracy: 0.9557 - val_loss: 0.1346 - val_accuracy: 0.9536\n",
      "Epoch 6/50\n",
      "416/416 [==============================] - 1s 3ms/step - loss: 0.1253 - accuracy: 0.9629 - val_loss: 0.1102 - val_accuracy: 0.9672\n",
      "Epoch 7/50\n",
      "416/416 [==============================] - 1s 3ms/step - loss: 0.1074 - accuracy: 0.9694 - val_loss: 0.0993 - val_accuracy: 0.9720\n",
      "Epoch 8/50\n",
      "416/416 [==============================] - 1s 3ms/step - loss: 0.0935 - accuracy: 0.9740 - val_loss: 0.0931 - val_accuracy: 0.9726\n",
      "Epoch 9/50\n",
      "416/416 [==============================] - 1s 3ms/step - loss: 0.0836 - accuracy: 0.9762 - val_loss: 0.0855 - val_accuracy: 0.9717\n",
      "Epoch 10/50\n",
      "416/416 [==============================] - 1s 3ms/step - loss: 0.0744 - accuracy: 0.9804 - val_loss: 0.0760 - val_accuracy: 0.9774\n",
      "Epoch 11/50\n",
      "416/416 [==============================] - 1s 3ms/step - loss: 0.0641 - accuracy: 0.9835 - val_loss: 0.0733 - val_accuracy: 0.9783\n",
      "Epoch 12/50\n",
      "416/416 [==============================] - 1s 4ms/step - loss: 0.0576 - accuracy: 0.9855 - val_loss: 0.0695 - val_accuracy: 0.9804\n",
      "Epoch 13/50\n",
      "416/416 [==============================] - 1s 4ms/step - loss: 0.0513 - accuracy: 0.9871 - val_loss: 0.0657 - val_accuracy: 0.9783\n",
      "Epoch 14/50\n",
      "416/416 [==============================] - 1s 4ms/step - loss: 0.0488 - accuracy: 0.9875 - val_loss: 0.0613 - val_accuracy: 0.9762\n",
      "Epoch 15/50\n",
      "416/416 [==============================] - 1s 3ms/step - loss: 0.0414 - accuracy: 0.9905 - val_loss: 0.0654 - val_accuracy: 0.9807\n",
      "Epoch 16/50\n",
      "416/416 [==============================] - 1s 3ms/step - loss: 0.0377 - accuracy: 0.9919 - val_loss: 0.0556 - val_accuracy: 0.9828\n",
      "Epoch 17/50\n",
      "416/416 [==============================] - 1s 3ms/step - loss: 0.0352 - accuracy: 0.9919 - val_loss: 0.0524 - val_accuracy: 0.9837\n",
      "Epoch 18/50\n",
      "416/416 [==============================] - 1s 3ms/step - loss: 0.0335 - accuracy: 0.9918 - val_loss: 0.0545 - val_accuracy: 0.9834\n",
      "Epoch 19/50\n",
      "416/416 [==============================] - 1s 3ms/step - loss: 0.0296 - accuracy: 0.9936 - val_loss: 0.0561 - val_accuracy: 0.9825\n",
      "Epoch 20/50\n",
      "416/416 [==============================] - 1s 3ms/step - loss: 0.0263 - accuracy: 0.9950 - val_loss: 0.0539 - val_accuracy: 0.9837\n",
      "Epoch 21/50\n",
      "416/416 [==============================] - 1s 3ms/step - loss: 0.0254 - accuracy: 0.9945 - val_loss: 0.0514 - val_accuracy: 0.9859\n",
      "Epoch 22/50\n",
      "416/416 [==============================] - 1s 3ms/step - loss: 0.0228 - accuracy: 0.9947 - val_loss: 0.0569 - val_accuracy: 0.9810\n",
      "Epoch 23/50\n",
      "416/416 [==============================] - 1s 3ms/step - loss: 0.0214 - accuracy: 0.9959 - val_loss: 0.0463 - val_accuracy: 0.9862\n",
      "Epoch 24/50\n",
      "416/416 [==============================] - 1s 3ms/step - loss: 0.0197 - accuracy: 0.9951 - val_loss: 0.0531 - val_accuracy: 0.9846\n",
      "Epoch 25/50\n",
      "416/416 [==============================] - 1s 4ms/step - loss: 0.0179 - accuracy: 0.9960 - val_loss: 0.0462 - val_accuracy: 0.9868\n",
      "Epoch 26/50\n",
      "416/416 [==============================] - 1s 3ms/step - loss: 0.0163 - accuracy: 0.9965 - val_loss: 0.0453 - val_accuracy: 0.9871\n",
      "Epoch 27/50\n",
      "416/416 [==============================] - 1s 3ms/step - loss: 0.0152 - accuracy: 0.9971 - val_loss: 0.0469 - val_accuracy: 0.9862\n",
      "Epoch 28/50\n",
      "416/416 [==============================] - 1s 3ms/step - loss: 0.0143 - accuracy: 0.9972 - val_loss: 0.0474 - val_accuracy: 0.9840\n",
      "Epoch 29/50\n",
      "416/416 [==============================] - 1s 3ms/step - loss: 0.0130 - accuracy: 0.9977 - val_loss: 0.0452 - val_accuracy: 0.9868\n",
      "Epoch 30/50\n",
      "416/416 [==============================] - 1s 3ms/step - loss: 0.0136 - accuracy: 0.9974 - val_loss: 0.0446 - val_accuracy: 0.9868\n",
      "Epoch 31/50\n",
      "416/416 [==============================] - 1s 3ms/step - loss: 0.0121 - accuracy: 0.9977 - val_loss: 0.0455 - val_accuracy: 0.9877\n"
     ]
    },
    {
     "name": "stderr",
     "output_type": "stream",
     "text": [
      "[I 2024-03-19 20:14:10,439] Trial 38 finished with value: 0.9876580238342285 and parameters: {'num_layers': 1, 'layer_size': 693, 'dropout_rate': 0.1203652038223573, 'use_batch_norm': False, 'activation': 'tanh', 'learning_rate': 0.00011228229231301858}. Best is trial 10 with value: 0.987959086894989.\n"
     ]
    },
    {
     "name": "stdout",
     "output_type": "stream",
     "text": [
      "Epoch 1/50\n",
      "406/416 [============================>.] - ETA: 0s - loss: 0.3980 - accuracy: 0.8684"
     ]
    },
    {
     "name": "stderr",
     "output_type": "stream",
     "text": [
      "[I 2024-03-19 20:14:12,860] Trial 39 pruned. Trial was pruned at epoch 0.\n"
     ]
    },
    {
     "name": "stdout",
     "output_type": "stream",
     "text": [
      "Epoch 1/50\n",
      "416/416 [==============================] - 2s 4ms/step - loss: 0.6348 - accuracy: 0.8003 - val_loss: 0.4038 - val_accuracy: 0.8781\n",
      "Epoch 2/50\n",
      "416/416 [==============================] - 2s 4ms/step - loss: 0.4363 - accuracy: 0.8673 - val_loss: 0.3241 - val_accuracy: 0.9061\n",
      "Epoch 3/50\n",
      "416/416 [==============================] - 2s 4ms/step - loss: 0.3693 - accuracy: 0.8908 - val_loss: 0.2859 - val_accuracy: 0.9166\n",
      "Epoch 4/50\n",
      "416/416 [==============================] - 2s 4ms/step - loss: 0.3231 - accuracy: 0.9053 - val_loss: 0.2487 - val_accuracy: 0.9293\n",
      "Epoch 5/50\n",
      "416/416 [==============================] - 2s 4ms/step - loss: 0.2918 - accuracy: 0.9140 - val_loss: 0.2346 - val_accuracy: 0.9347\n",
      "Epoch 6/50\n",
      "416/416 [==============================] - 2s 4ms/step - loss: 0.2644 - accuracy: 0.9213 - val_loss: 0.2231 - val_accuracy: 0.9329\n",
      "Epoch 7/50\n",
      "416/416 [==============================] - 2s 4ms/step - loss: 0.2494 - accuracy: 0.9263 - val_loss: 0.2007 - val_accuracy: 0.9389\n",
      "Epoch 8/50\n",
      "416/416 [==============================] - 2s 4ms/step - loss: 0.2283 - accuracy: 0.9303 - val_loss: 0.1782 - val_accuracy: 0.9473\n",
      "Epoch 9/50\n",
      "416/416 [==============================] - 2s 4ms/step - loss: 0.2128 - accuracy: 0.9362 - val_loss: 0.1701 - val_accuracy: 0.9500\n",
      "Epoch 10/50\n",
      "416/416 [==============================] - 2s 4ms/step - loss: 0.1954 - accuracy: 0.9406 - val_loss: 0.1633 - val_accuracy: 0.9488\n",
      "Epoch 11/50\n",
      "416/416 [==============================] - 2s 4ms/step - loss: 0.1854 - accuracy: 0.9440 - val_loss: 0.1502 - val_accuracy: 0.9564\n",
      "Epoch 12/50\n",
      "416/416 [==============================] - 2s 4ms/step - loss: 0.1731 - accuracy: 0.9483 - val_loss: 0.1426 - val_accuracy: 0.9600\n",
      "Epoch 13/50\n",
      "416/416 [==============================] - 2s 4ms/step - loss: 0.1645 - accuracy: 0.9508 - val_loss: 0.1337 - val_accuracy: 0.9612\n",
      "Epoch 14/50\n",
      "416/416 [==============================] - 2s 4ms/step - loss: 0.1581 - accuracy: 0.9537 - val_loss: 0.1338 - val_accuracy: 0.9600\n",
      "Epoch 15/50\n",
      "416/416 [==============================] - 2s 4ms/step - loss: 0.1509 - accuracy: 0.9539 - val_loss: 0.1219 - val_accuracy: 0.9690\n",
      "Epoch 16/50\n",
      "416/416 [==============================] - 2s 4ms/step - loss: 0.1371 - accuracy: 0.9586 - val_loss: 0.1223 - val_accuracy: 0.9615\n",
      "Epoch 17/50\n",
      "416/416 [==============================] - 2s 4ms/step - loss: 0.1299 - accuracy: 0.9622 - val_loss: 0.1112 - val_accuracy: 0.9684\n",
      "Epoch 18/50\n",
      "416/416 [==============================] - 2s 4ms/step - loss: 0.1244 - accuracy: 0.9647 - val_loss: 0.1103 - val_accuracy: 0.9699\n",
      "Epoch 19/50\n",
      "416/416 [==============================] - 2s 4ms/step - loss: 0.1189 - accuracy: 0.9661 - val_loss: 0.1110 - val_accuracy: 0.9639\n",
      "Epoch 20/50\n",
      "416/416 [==============================] - 2s 4ms/step - loss: 0.1163 - accuracy: 0.9635 - val_loss: 0.1053 - val_accuracy: 0.9663\n",
      "Epoch 21/50\n",
      "416/416 [==============================] - 2s 4ms/step - loss: 0.1121 - accuracy: 0.9688 - val_loss: 0.0962 - val_accuracy: 0.9735\n",
      "Epoch 22/50\n",
      "416/416 [==============================] - 2s 4ms/step - loss: 0.1086 - accuracy: 0.9707 - val_loss: 0.0967 - val_accuracy: 0.9729\n",
      "Epoch 23/50\n",
      "416/416 [==============================] - 2s 4ms/step - loss: 0.1033 - accuracy: 0.9694 - val_loss: 0.0956 - val_accuracy: 0.9735\n",
      "Epoch 24/50\n",
      "416/416 [==============================] - 2s 4ms/step - loss: 0.0978 - accuracy: 0.9725 - val_loss: 0.0884 - val_accuracy: 0.9750\n",
      "Epoch 25/50\n",
      "416/416 [==============================] - 2s 4ms/step - loss: 0.0976 - accuracy: 0.9708 - val_loss: 0.0840 - val_accuracy: 0.9762\n",
      "Epoch 26/50\n",
      "416/416 [==============================] - 2s 4ms/step - loss: 0.0897 - accuracy: 0.9760 - val_loss: 0.0842 - val_accuracy: 0.9759\n",
      "Epoch 27/50\n",
      "416/416 [==============================] - 2s 4ms/step - loss: 0.0916 - accuracy: 0.9746 - val_loss: 0.0834 - val_accuracy: 0.9789\n",
      "Epoch 28/50\n",
      "416/416 [==============================] - 2s 4ms/step - loss: 0.0839 - accuracy: 0.9765 - val_loss: 0.0826 - val_accuracy: 0.9756\n",
      "Epoch 29/50\n",
      "416/416 [==============================] - 2s 4ms/step - loss: 0.0800 - accuracy: 0.9778 - val_loss: 0.0783 - val_accuracy: 0.9798\n",
      "Epoch 30/50\n",
      "416/416 [==============================] - 2s 4ms/step - loss: 0.0789 - accuracy: 0.9779 - val_loss: 0.0798 - val_accuracy: 0.9780\n",
      "Epoch 31/50\n",
      "416/416 [==============================] - 2s 4ms/step - loss: 0.0767 - accuracy: 0.9782 - val_loss: 0.0779 - val_accuracy: 0.9777\n",
      "Epoch 32/50\n",
      "416/416 [==============================] - 2s 4ms/step - loss: 0.0713 - accuracy: 0.9801 - val_loss: 0.0731 - val_accuracy: 0.9777\n",
      "Epoch 33/50\n",
      "416/416 [==============================] - 2s 4ms/step - loss: 0.0692 - accuracy: 0.9816 - val_loss: 0.0726 - val_accuracy: 0.9807\n",
      "Epoch 34/50\n",
      "416/416 [==============================] - 2s 4ms/step - loss: 0.0719 - accuracy: 0.9792 - val_loss: 0.0717 - val_accuracy: 0.9795\n",
      "Epoch 35/50\n",
      "416/416 [==============================] - 2s 4ms/step - loss: 0.0648 - accuracy: 0.9816 - val_loss: 0.0820 - val_accuracy: 0.9723\n",
      "Epoch 36/50\n",
      "416/416 [==============================] - 2s 4ms/step - loss: 0.0661 - accuracy: 0.9828 - val_loss: 0.0713 - val_accuracy: 0.9777\n",
      "Epoch 37/50\n",
      "416/416 [==============================] - 2s 4ms/step - loss: 0.0640 - accuracy: 0.9816 - val_loss: 0.0665 - val_accuracy: 0.9783\n",
      "Epoch 38/50\n",
      "416/416 [==============================] - 2s 4ms/step - loss: 0.0605 - accuracy: 0.9840 - val_loss: 0.0664 - val_accuracy: 0.9816\n",
      "Epoch 39/50\n",
      "416/416 [==============================] - 2s 4ms/step - loss: 0.0634 - accuracy: 0.9815 - val_loss: 0.0706 - val_accuracy: 0.9798\n",
      "Epoch 40/50\n",
      "416/416 [==============================] - 2s 4ms/step - loss: 0.0621 - accuracy: 0.9829 - val_loss: 0.0648 - val_accuracy: 0.9798\n",
      "Epoch 41/50\n",
      "416/416 [==============================] - 2s 4ms/step - loss: 0.0614 - accuracy: 0.9828 - val_loss: 0.0637 - val_accuracy: 0.9825\n",
      "Epoch 42/50\n",
      "416/416 [==============================] - 2s 4ms/step - loss: 0.0551 - accuracy: 0.9852 - val_loss: 0.0639 - val_accuracy: 0.9807\n",
      "Epoch 43/50\n",
      "416/416 [==============================] - 2s 4ms/step - loss: 0.0549 - accuracy: 0.9837 - val_loss: 0.0635 - val_accuracy: 0.9819\n",
      "Epoch 44/50\n",
      "416/416 [==============================] - 2s 4ms/step - loss: 0.0524 - accuracy: 0.9868 - val_loss: 0.0598 - val_accuracy: 0.9807\n",
      "Epoch 45/50\n",
      "416/416 [==============================] - 2s 4ms/step - loss: 0.0518 - accuracy: 0.9855 - val_loss: 0.0620 - val_accuracy: 0.9804\n",
      "Epoch 46/50\n",
      "416/416 [==============================] - 2s 4ms/step - loss: 0.0491 - accuracy: 0.9865 - val_loss: 0.0591 - val_accuracy: 0.9825\n",
      "Epoch 47/50\n",
      "416/416 [==============================] - 2s 4ms/step - loss: 0.0464 - accuracy: 0.9880 - val_loss: 0.0595 - val_accuracy: 0.9816\n",
      "Epoch 48/50\n",
      "416/416 [==============================] - 2s 4ms/step - loss: 0.0482 - accuracy: 0.9876 - val_loss: 0.0622 - val_accuracy: 0.9828\n",
      "Epoch 49/50\n",
      "416/416 [==============================] - 2s 4ms/step - loss: 0.0460 - accuracy: 0.9885 - val_loss: 0.0620 - val_accuracy: 0.9825\n"
     ]
    },
    {
     "name": "stderr",
     "output_type": "stream",
     "text": [
      "[I 2024-03-19 20:15:31,824] Trial 40 finished with value: 0.9825406670570374 and parameters: {'num_layers': 1, 'layer_size': 488, 'dropout_rate': 0.14342211918503453, 'use_batch_norm': True, 'activation': 'tanh', 'learning_rate': 0.00011618314601754972}. Best is trial 10 with value: 0.987959086894989.\n"
     ]
    },
    {
     "name": "stdout",
     "output_type": "stream",
     "text": [
      "Epoch 1/50\n",
      "416/416 [==============================] - 2s 4ms/step - loss: 0.5438 - accuracy: 0.8304 - val_loss: 0.3450 - val_accuracy: 0.8952\n",
      "Epoch 2/50\n",
      "416/416 [==============================] - 1s 3ms/step - loss: 0.3174 - accuracy: 0.9006 - val_loss: 0.2559 - val_accuracy: 0.9136\n",
      "Epoch 3/50\n",
      "416/416 [==============================] - 1s 3ms/step - loss: 0.2413 - accuracy: 0.9247 - val_loss: 0.2030 - val_accuracy: 0.9320\n",
      "Epoch 4/50\n",
      "416/416 [==============================] - 1s 3ms/step - loss: 0.1956 - accuracy: 0.9368 - val_loss: 0.1644 - val_accuracy: 0.9407\n",
      "Epoch 5/50\n",
      "416/416 [==============================] - 1s 3ms/step - loss: 0.1628 - accuracy: 0.9491 - val_loss: 0.1425 - val_accuracy: 0.9497\n",
      "Epoch 6/50\n",
      "416/416 [==============================] - 1s 3ms/step - loss: 0.1333 - accuracy: 0.9595 - val_loss: 0.1234 - val_accuracy: 0.9618\n",
      "Epoch 7/50\n",
      "416/416 [==============================] - 1s 3ms/step - loss: 0.1137 - accuracy: 0.9658 - val_loss: 0.1153 - val_accuracy: 0.9618\n",
      "Epoch 8/50\n",
      "416/416 [==============================] - 1s 3ms/step - loss: 0.0992 - accuracy: 0.9728 - val_loss: 0.1017 - val_accuracy: 0.9705\n",
      "Epoch 9/50\n",
      "416/416 [==============================] - 1s 3ms/step - loss: 0.0876 - accuracy: 0.9753 - val_loss: 0.0934 - val_accuracy: 0.9726\n",
      "Epoch 10/50\n",
      "416/416 [==============================] - 1s 3ms/step - loss: 0.0767 - accuracy: 0.9790 - val_loss: 0.0856 - val_accuracy: 0.9741\n",
      "Epoch 11/50\n",
      "416/416 [==============================] - 1s 3ms/step - loss: 0.0700 - accuracy: 0.9816 - val_loss: 0.0767 - val_accuracy: 0.9786\n",
      "Epoch 12/50\n",
      "416/416 [==============================] - 1s 3ms/step - loss: 0.0609 - accuracy: 0.9840 - val_loss: 0.0727 - val_accuracy: 0.9801\n",
      "Epoch 13/50\n",
      "416/416 [==============================] - 1s 3ms/step - loss: 0.0546 - accuracy: 0.9873 - val_loss: 0.0731 - val_accuracy: 0.9795\n",
      "Epoch 14/50\n",
      "416/416 [==============================] - 1s 3ms/step - loss: 0.0497 - accuracy: 0.9876 - val_loss: 0.0672 - val_accuracy: 0.9786\n",
      "Epoch 15/50\n",
      "416/416 [==============================] - 1s 3ms/step - loss: 0.0458 - accuracy: 0.9890 - val_loss: 0.0627 - val_accuracy: 0.9804\n",
      "Epoch 16/50\n",
      "416/416 [==============================] - 1s 3ms/step - loss: 0.0398 - accuracy: 0.9906 - val_loss: 0.0613 - val_accuracy: 0.9828\n",
      "Epoch 17/50\n",
      "416/416 [==============================] - 1s 3ms/step - loss: 0.0383 - accuracy: 0.9904 - val_loss: 0.0578 - val_accuracy: 0.9822\n",
      "Epoch 18/50\n",
      "416/416 [==============================] - 1s 3ms/step - loss: 0.0353 - accuracy: 0.9916 - val_loss: 0.0554 - val_accuracy: 0.9834\n",
      "Epoch 19/50\n",
      "416/416 [==============================] - 1s 3ms/step - loss: 0.0296 - accuracy: 0.9940 - val_loss: 0.0650 - val_accuracy: 0.9798\n",
      "Epoch 20/50\n",
      "416/416 [==============================] - 1s 3ms/step - loss: 0.0283 - accuracy: 0.9941 - val_loss: 0.0522 - val_accuracy: 0.9859\n",
      "Epoch 21/50\n",
      "416/416 [==============================] - 1s 3ms/step - loss: 0.0245 - accuracy: 0.9954 - val_loss: 0.0576 - val_accuracy: 0.9831\n",
      "Epoch 22/50\n",
      "416/416 [==============================] - 1s 3ms/step - loss: 0.0255 - accuracy: 0.9942 - val_loss: 0.0642 - val_accuracy: 0.9810\n",
      "Epoch 23/50\n",
      "416/416 [==============================] - 1s 3ms/step - loss: 0.0225 - accuracy: 0.9949 - val_loss: 0.0525 - val_accuracy: 0.9856\n",
      "Epoch 24/50\n",
      "416/416 [==============================] - 1s 3ms/step - loss: 0.0221 - accuracy: 0.9955 - val_loss: 0.0507 - val_accuracy: 0.9862\n",
      "Epoch 25/50\n",
      "416/416 [==============================] - 1s 3ms/step - loss: 0.0185 - accuracy: 0.9970 - val_loss: 0.0480 - val_accuracy: 0.9868\n",
      "Epoch 26/50\n",
      "416/416 [==============================] - 1s 3ms/step - loss: 0.0175 - accuracy: 0.9968 - val_loss: 0.0568 - val_accuracy: 0.9834\n",
      "Epoch 27/50\n",
      "416/416 [==============================] - 1s 3ms/step - loss: 0.0182 - accuracy: 0.9964 - val_loss: 0.0486 - val_accuracy: 0.9883\n",
      "Epoch 28/50\n",
      "416/416 [==============================] - 1s 3ms/step - loss: 0.0167 - accuracy: 0.9968 - val_loss: 0.0461 - val_accuracy: 0.9859\n",
      "Epoch 29/50\n",
      "416/416 [==============================] - 1s 3ms/step - loss: 0.0154 - accuracy: 0.9968 - val_loss: 0.0498 - val_accuracy: 0.9852\n",
      "Epoch 30/50\n",
      "416/416 [==============================] - 1s 3ms/step - loss: 0.0150 - accuracy: 0.9968 - val_loss: 0.0487 - val_accuracy: 0.9877\n",
      "Epoch 31/50\n",
      "416/416 [==============================] - 1s 3ms/step - loss: 0.0133 - accuracy: 0.9971 - val_loss: 0.0494 - val_accuracy: 0.9856\n",
      "Epoch 32/50\n",
      "416/416 [==============================] - 1s 3ms/step - loss: 0.0124 - accuracy: 0.9977 - val_loss: 0.0475 - val_accuracy: 0.9868\n",
      "Epoch 33/50\n",
      "416/416 [==============================] - 1s 3ms/step - loss: 0.0124 - accuracy: 0.9976 - val_loss: 0.0470 - val_accuracy: 0.9880\n"
     ]
    },
    {
     "name": "stderr",
     "output_type": "stream",
     "text": [
      "[I 2024-03-19 20:16:18,422] Trial 41 finished with value: 0.987959086894989 and parameters: {'num_layers': 1, 'layer_size': 693, 'dropout_rate': 0.1116614647957342, 'use_batch_norm': False, 'activation': 'tanh', 'learning_rate': 0.00010027047928771214}. Best is trial 10 with value: 0.987959086894989.\n"
     ]
    },
    {
     "name": "stdout",
     "output_type": "stream",
     "text": [
      "Epoch 1/50\n",
      "406/416 [============================>.] - ETA: 0s - loss: 0.5389 - accuracy: 0.8280"
     ]
    },
    {
     "name": "stderr",
     "output_type": "stream",
     "text": [
      "[I 2024-03-19 20:16:20,276] Trial 42 pruned. Trial was pruned at epoch 0.\n"
     ]
    },
    {
     "name": "stdout",
     "output_type": "stream",
     "text": [
      "Epoch 1/50\n",
      "410/416 [============================>.] - ETA: 0s - loss: 0.4858 - accuracy: 0.8453"
     ]
    },
    {
     "name": "stderr",
     "output_type": "stream",
     "text": [
      "[I 2024-03-19 20:16:22,217] Trial 43 pruned. Trial was pruned at epoch 0.\n"
     ]
    },
    {
     "name": "stdout",
     "output_type": "stream",
     "text": [
      "Epoch 1/50\n",
      "406/416 [============================>.] - ETA: 0s - loss: 0.3360 - accuracy: 0.8929"
     ]
    },
    {
     "name": "stderr",
     "output_type": "stream",
     "text": [
      "[I 2024-03-19 20:16:24,058] Trial 44 pruned. Trial was pruned at epoch 0.\n"
     ]
    },
    {
     "name": "stdout",
     "output_type": "stream",
     "text": [
      "Epoch 1/50\n",
      "415/416 [============================>.] - ETA: 0s - loss: 0.5301 - accuracy: 0.8310"
     ]
    },
    {
     "name": "stderr",
     "output_type": "stream",
     "text": [
      "[I 2024-03-19 20:16:25,825] Trial 45 pruned. Trial was pruned at epoch 0.\n"
     ]
    },
    {
     "name": "stdout",
     "output_type": "stream",
     "text": [
      "Epoch 1/50\n",
      "416/416 [==============================] - 2s 4ms/step - loss: 0.5720 - accuracy: 0.8217 - val_loss: 0.3690 - val_accuracy: 0.8850\n",
      "Epoch 2/50\n",
      "416/416 [==============================] - 1s 4ms/step - loss: 0.3886 - accuracy: 0.8833 - val_loss: 0.2887 - val_accuracy: 0.9208\n",
      "Epoch 3/50\n",
      "416/416 [==============================] - 2s 4ms/step - loss: 0.3248 - accuracy: 0.9012 - val_loss: 0.2591 - val_accuracy: 0.9275\n",
      "Epoch 4/50\n",
      "416/416 [==============================] - 1s 4ms/step - loss: 0.2801 - accuracy: 0.9175 - val_loss: 0.2323 - val_accuracy: 0.9353\n",
      "Epoch 5/50\n",
      "416/416 [==============================] - 1s 4ms/step - loss: 0.2518 - accuracy: 0.9253 - val_loss: 0.1999 - val_accuracy: 0.9407\n",
      "Epoch 6/50\n",
      "416/416 [==============================] - 1s 4ms/step - loss: 0.2251 - accuracy: 0.9339 - val_loss: 0.1899 - val_accuracy: 0.9476\n",
      "Epoch 7/50\n",
      "416/416 [==============================] - 1s 4ms/step - loss: 0.2109 - accuracy: 0.9373 - val_loss: 0.1699 - val_accuracy: 0.9470\n",
      "Epoch 8/50\n",
      "416/416 [==============================] - 1s 4ms/step - loss: 0.1911 - accuracy: 0.9429 - val_loss: 0.1625 - val_accuracy: 0.9497\n",
      "Epoch 9/50\n",
      "416/416 [==============================] - 1s 4ms/step - loss: 0.1734 - accuracy: 0.9503 - val_loss: 0.1506 - val_accuracy: 0.9564\n",
      "Epoch 10/50\n",
      "416/416 [==============================] - 1s 4ms/step - loss: 0.1651 - accuracy: 0.9523 - val_loss: 0.1368 - val_accuracy: 0.9618\n",
      "Epoch 11/50\n",
      "416/416 [==============================] - 1s 4ms/step - loss: 0.1499 - accuracy: 0.9583 - val_loss: 0.1337 - val_accuracy: 0.9633\n",
      "Epoch 12/50\n",
      "416/416 [==============================] - 1s 4ms/step - loss: 0.1429 - accuracy: 0.9584 - val_loss: 0.1285 - val_accuracy: 0.9633\n",
      "Epoch 13/50\n",
      "416/416 [==============================] - 1s 4ms/step - loss: 0.1365 - accuracy: 0.9604 - val_loss: 0.1226 - val_accuracy: 0.9663\n",
      "Epoch 14/50\n",
      "416/416 [==============================] - 2s 4ms/step - loss: 0.1240 - accuracy: 0.9656 - val_loss: 0.1120 - val_accuracy: 0.9696\n",
      "Epoch 15/50\n",
      "416/416 [==============================] - 1s 4ms/step - loss: 0.1152 - accuracy: 0.9689 - val_loss: 0.1047 - val_accuracy: 0.9720\n",
      "Epoch 16/50\n",
      "416/416 [==============================] - 1s 4ms/step - loss: 0.1095 - accuracy: 0.9711 - val_loss: 0.1097 - val_accuracy: 0.9672\n",
      "Epoch 17/50\n",
      "416/416 [==============================] - 1s 4ms/step - loss: 0.1054 - accuracy: 0.9704 - val_loss: 0.1013 - val_accuracy: 0.9717\n",
      "Epoch 18/50\n",
      "416/416 [==============================] - 1s 4ms/step - loss: 0.0986 - accuracy: 0.9718 - val_loss: 0.1031 - val_accuracy: 0.9687\n",
      "Epoch 19/50\n",
      "416/416 [==============================] - 2s 4ms/step - loss: 0.1011 - accuracy: 0.9725 - val_loss: 0.0933 - val_accuracy: 0.9744\n",
      "Epoch 20/50\n",
      "416/416 [==============================] - 1s 4ms/step - loss: 0.0915 - accuracy: 0.9740 - val_loss: 0.0892 - val_accuracy: 0.9771\n",
      "Epoch 21/50\n",
      "416/416 [==============================] - 1s 4ms/step - loss: 0.0869 - accuracy: 0.9749 - val_loss: 0.0914 - val_accuracy: 0.9747\n",
      "Epoch 22/50\n",
      "416/416 [==============================] - 1s 4ms/step - loss: 0.0822 - accuracy: 0.9783 - val_loss: 0.0920 - val_accuracy: 0.9732\n",
      "Epoch 23/50\n",
      "416/416 [==============================] - 1s 4ms/step - loss: 0.0774 - accuracy: 0.9795 - val_loss: 0.0858 - val_accuracy: 0.9762\n",
      "Epoch 24/50\n",
      "416/416 [==============================] - 1s 4ms/step - loss: 0.0750 - accuracy: 0.9810 - val_loss: 0.0857 - val_accuracy: 0.9753\n",
      "Epoch 25/50\n",
      "416/416 [==============================] - 1s 4ms/step - loss: 0.0730 - accuracy: 0.9807 - val_loss: 0.0755 - val_accuracy: 0.9771\n",
      "Epoch 26/50\n",
      "416/416 [==============================] - 1s 4ms/step - loss: 0.0685 - accuracy: 0.9831 - val_loss: 0.0727 - val_accuracy: 0.9807\n",
      "Epoch 27/50\n",
      "416/416 [==============================] - 1s 4ms/step - loss: 0.0657 - accuracy: 0.9845 - val_loss: 0.0695 - val_accuracy: 0.9786\n",
      "Epoch 28/50\n",
      "416/416 [==============================] - 1s 4ms/step - loss: 0.0657 - accuracy: 0.9829 - val_loss: 0.0691 - val_accuracy: 0.9804\n",
      "Epoch 29/50\n",
      "416/416 [==============================] - 1s 4ms/step - loss: 0.0637 - accuracy: 0.9835 - val_loss: 0.0695 - val_accuracy: 0.9810\n",
      "Epoch 30/50\n",
      "416/416 [==============================] - 1s 4ms/step - loss: 0.0597 - accuracy: 0.9853 - val_loss: 0.0700 - val_accuracy: 0.9780\n",
      "Epoch 31/50\n",
      "416/416 [==============================] - 1s 4ms/step - loss: 0.0578 - accuracy: 0.9849 - val_loss: 0.0679 - val_accuracy: 0.9816\n",
      "Epoch 32/50\n",
      "416/416 [==============================] - 1s 4ms/step - loss: 0.0558 - accuracy: 0.9855 - val_loss: 0.0715 - val_accuracy: 0.9777\n",
      "Epoch 33/50\n",
      "416/416 [==============================] - 1s 4ms/step - loss: 0.0520 - accuracy: 0.9871 - val_loss: 0.0685 - val_accuracy: 0.9804\n",
      "Epoch 34/50\n",
      "416/416 [==============================] - 1s 4ms/step - loss: 0.0511 - accuracy: 0.9865 - val_loss: 0.0641 - val_accuracy: 0.9804\n",
      "Epoch 35/50\n",
      "416/416 [==============================] - 1s 4ms/step - loss: 0.0482 - accuracy: 0.9882 - val_loss: 0.0707 - val_accuracy: 0.9789\n",
      "Epoch 36/50\n",
      "416/416 [==============================] - 1s 3ms/step - loss: 0.0487 - accuracy: 0.9867 - val_loss: 0.0624 - val_accuracy: 0.9819\n",
      "Epoch 37/50\n",
      "416/416 [==============================] - 1s 4ms/step - loss: 0.0501 - accuracy: 0.9868 - val_loss: 0.0668 - val_accuracy: 0.9795\n",
      "Epoch 38/50\n",
      "416/416 [==============================] - 1s 4ms/step - loss: 0.0462 - accuracy: 0.9889 - val_loss: 0.0578 - val_accuracy: 0.9828\n",
      "Epoch 39/50\n",
      "416/416 [==============================] - 1s 4ms/step - loss: 0.0426 - accuracy: 0.9889 - val_loss: 0.0617 - val_accuracy: 0.9810\n",
      "Epoch 40/50\n",
      "416/416 [==============================] - 1s 4ms/step - loss: 0.0415 - accuracy: 0.9900 - val_loss: 0.0634 - val_accuracy: 0.9798\n",
      "Epoch 41/50\n",
      "416/416 [==============================] - 1s 4ms/step - loss: 0.0390 - accuracy: 0.9914 - val_loss: 0.0803 - val_accuracy: 0.9750\n",
      "Epoch 42/50\n",
      "416/416 [==============================] - 1s 3ms/step - loss: 0.0401 - accuracy: 0.9906 - val_loss: 0.0588 - val_accuracy: 0.9825\n",
      "Epoch 43/50\n",
      "416/416 [==============================] - 1s 4ms/step - loss: 0.0404 - accuracy: 0.9889 - val_loss: 0.0633 - val_accuracy: 0.9810\n"
     ]
    },
    {
     "name": "stderr",
     "output_type": "stream",
     "text": [
      "[I 2024-03-19 20:17:29,813] Trial 46 finished with value: 0.9810355305671692 and parameters: {'num_layers': 1, 'layer_size': 651, 'dropout_rate': 0.10695467716071022, 'use_batch_norm': True, 'activation': 'tanh', 'learning_rate': 0.00010053327085196988}. Best is trial 10 with value: 0.987959086894989.\n"
     ]
    },
    {
     "name": "stdout",
     "output_type": "stream",
     "text": [
      "Epoch 1/50\n",
      "403/416 [============================>.] - ETA: 0s - loss: 0.4676 - accuracy: 0.8463"
     ]
    },
    {
     "name": "stderr",
     "output_type": "stream",
     "text": [
      "[I 2024-03-19 20:17:31,668] Trial 47 pruned. Trial was pruned at epoch 0.\n"
     ]
    },
    {
     "name": "stdout",
     "output_type": "stream",
     "text": [
      "Epoch 1/50\n",
      "416/416 [==============================] - 1s 3ms/step - loss: 0.8325 - accuracy: 0.7185 - val_loss: 0.4271 - val_accuracy: 0.8627\n",
      "Epoch 2/50\n",
      "416/416 [==============================] - 1s 2ms/step - loss: 0.4602 - accuracy: 0.8510 - val_loss: 0.3327 - val_accuracy: 0.8922\n",
      "Epoch 3/50\n",
      "416/416 [==============================] - 1s 2ms/step - loss: 0.3694 - accuracy: 0.8838 - val_loss: 0.2885 - val_accuracy: 0.9004\n",
      "Epoch 4/50\n",
      "416/416 [==============================] - 1s 2ms/step - loss: 0.3236 - accuracy: 0.8981 - val_loss: 0.2498 - val_accuracy: 0.9160\n",
      "Epoch 5/50\n",
      "416/416 [==============================] - 1s 2ms/step - loss: 0.2869 - accuracy: 0.9099 - val_loss: 0.2215 - val_accuracy: 0.9290\n",
      "Epoch 6/50\n",
      "416/416 [==============================] - 1s 2ms/step - loss: 0.2535 - accuracy: 0.9213 - val_loss: 0.2007 - val_accuracy: 0.9341\n",
      "Epoch 7/50\n",
      "416/416 [==============================] - 1s 3ms/step - loss: 0.2342 - accuracy: 0.9259 - val_loss: 0.1821 - val_accuracy: 0.9422\n",
      "Epoch 8/50\n",
      "416/416 [==============================] - 1s 2ms/step - loss: 0.2171 - accuracy: 0.9319 - val_loss: 0.1718 - val_accuracy: 0.9458\n",
      "Epoch 9/50\n",
      "416/416 [==============================] - 1s 2ms/step - loss: 0.2022 - accuracy: 0.9362 - val_loss: 0.1577 - val_accuracy: 0.9479\n",
      "Epoch 10/50\n",
      "416/416 [==============================] - 1s 2ms/step - loss: 0.1919 - accuracy: 0.9416 - val_loss: 0.1493 - val_accuracy: 0.9506\n",
      "Epoch 11/50\n",
      "416/416 [==============================] - 1s 2ms/step - loss: 0.1790 - accuracy: 0.9446 - val_loss: 0.1413 - val_accuracy: 0.9557\n",
      "Epoch 12/50\n",
      "416/416 [==============================] - 319s 769ms/step - loss: 0.1721 - accuracy: 0.9465 - val_loss: 0.1364 - val_accuracy: 0.9551\n",
      "Epoch 13/50\n",
      "416/416 [==============================] - 1s 2ms/step - loss: 0.1601 - accuracy: 0.9486 - val_loss: 0.1287 - val_accuracy: 0.9591\n",
      "Epoch 14/50\n",
      "416/416 [==============================] - 1s 2ms/step - loss: 0.1534 - accuracy: 0.9529 - val_loss: 0.1246 - val_accuracy: 0.9585\n",
      "Epoch 15/50\n",
      "416/416 [==============================] - 1s 2ms/step - loss: 0.1470 - accuracy: 0.9544 - val_loss: 0.1200 - val_accuracy: 0.9621\n",
      "Epoch 16/50\n",
      "416/416 [==============================] - 1s 2ms/step - loss: 0.1427 - accuracy: 0.9569 - val_loss: 0.1148 - val_accuracy: 0.9627\n",
      "Epoch 17/50\n",
      "416/416 [==============================] - 1s 2ms/step - loss: 0.1397 - accuracy: 0.9565 - val_loss: 0.1123 - val_accuracy: 0.9627\n",
      "Epoch 18/50\n",
      "416/416 [==============================] - 1s 2ms/step - loss: 0.1316 - accuracy: 0.9604 - val_loss: 0.1081 - val_accuracy: 0.9657\n",
      "Epoch 19/50\n",
      "416/416 [==============================] - 1s 2ms/step - loss: 0.1308 - accuracy: 0.9576 - val_loss: 0.1048 - val_accuracy: 0.9663\n",
      "Epoch 20/50\n",
      "416/416 [==============================] - 1s 2ms/step - loss: 0.1239 - accuracy: 0.9612 - val_loss: 0.1024 - val_accuracy: 0.9669\n",
      "Epoch 21/50\n",
      "416/416 [==============================] - 1s 2ms/step - loss: 0.1201 - accuracy: 0.9625 - val_loss: 0.1023 - val_accuracy: 0.9669\n",
      "Epoch 22/50\n",
      "416/416 [==============================] - 1s 2ms/step - loss: 0.1178 - accuracy: 0.9632 - val_loss: 0.0976 - val_accuracy: 0.9708\n",
      "Epoch 23/50\n",
      "416/416 [==============================] - 1s 2ms/step - loss: 0.1164 - accuracy: 0.9619 - val_loss: 0.0951 - val_accuracy: 0.9699\n",
      "Epoch 24/50\n",
      "416/416 [==============================] - 1s 2ms/step - loss: 0.1142 - accuracy: 0.9655 - val_loss: 0.0952 - val_accuracy: 0.9717\n",
      "Epoch 25/50\n",
      "416/416 [==============================] - 1s 2ms/step - loss: 0.1091 - accuracy: 0.9667 - val_loss: 0.0910 - val_accuracy: 0.9744\n",
      "Epoch 26/50\n",
      "416/416 [==============================] - 1s 2ms/step - loss: 0.1058 - accuracy: 0.9668 - val_loss: 0.0889 - val_accuracy: 0.9750\n",
      "Epoch 27/50\n",
      "416/416 [==============================] - 1s 2ms/step - loss: 0.1053 - accuracy: 0.9683 - val_loss: 0.0879 - val_accuracy: 0.9744\n",
      "Epoch 28/50\n",
      "416/416 [==============================] - 1s 2ms/step - loss: 0.1004 - accuracy: 0.9693 - val_loss: 0.0866 - val_accuracy: 0.9732\n",
      "Epoch 29/50\n",
      "416/416 [==============================] - 1s 2ms/step - loss: 0.0973 - accuracy: 0.9707 - val_loss: 0.0852 - val_accuracy: 0.9747\n",
      "Epoch 30/50\n",
      "416/416 [==============================] - 1s 2ms/step - loss: 0.0978 - accuracy: 0.9702 - val_loss: 0.0835 - val_accuracy: 0.9738\n",
      "Epoch 31/50\n",
      "416/416 [==============================] - 1s 2ms/step - loss: 0.0951 - accuracy: 0.9703 - val_loss: 0.0797 - val_accuracy: 0.9744\n",
      "Epoch 32/50\n",
      "416/416 [==============================] - 1s 2ms/step - loss: 0.0929 - accuracy: 0.9712 - val_loss: 0.0801 - val_accuracy: 0.9747\n",
      "Epoch 33/50\n",
      "416/416 [==============================] - 1s 2ms/step - loss: 0.0867 - accuracy: 0.9739 - val_loss: 0.0796 - val_accuracy: 0.9756\n",
      "Epoch 34/50\n",
      "416/416 [==============================] - 1s 2ms/step - loss: 0.0889 - accuracy: 0.9725 - val_loss: 0.0768 - val_accuracy: 0.9768\n",
      "Epoch 35/50\n",
      "416/416 [==============================] - 1s 2ms/step - loss: 0.0883 - accuracy: 0.9744 - val_loss: 0.0775 - val_accuracy: 0.9756\n",
      "Epoch 36/50\n",
      "416/416 [==============================] - 1s 2ms/step - loss: 0.0839 - accuracy: 0.9749 - val_loss: 0.0765 - val_accuracy: 0.9747\n",
      "Epoch 37/50\n",
      "416/416 [==============================] - 1s 2ms/step - loss: 0.0844 - accuracy: 0.9752 - val_loss: 0.0751 - val_accuracy: 0.9765\n",
      "Epoch 38/50\n",
      "416/416 [==============================] - 1s 2ms/step - loss: 0.0819 - accuracy: 0.9755 - val_loss: 0.0745 - val_accuracy: 0.9759\n",
      "Epoch 39/50\n",
      "416/416 [==============================] - 1s 2ms/step - loss: 0.0808 - accuracy: 0.9753 - val_loss: 0.0736 - val_accuracy: 0.9789\n",
      "Epoch 40/50\n",
      "416/416 [==============================] - 1s 2ms/step - loss: 0.0795 - accuracy: 0.9767 - val_loss: 0.0736 - val_accuracy: 0.9753\n",
      "Epoch 41/50\n",
      "416/416 [==============================] - 1s 2ms/step - loss: 0.0829 - accuracy: 0.9749 - val_loss: 0.0716 - val_accuracy: 0.9789\n",
      "Epoch 42/50\n",
      "416/416 [==============================] - 1s 2ms/step - loss: 0.0785 - accuracy: 0.9775 - val_loss: 0.0718 - val_accuracy: 0.9762\n",
      "Epoch 43/50\n",
      "416/416 [==============================] - 1s 2ms/step - loss: 0.0805 - accuracy: 0.9758 - val_loss: 0.0741 - val_accuracy: 0.9756\n",
      "Epoch 44/50\n",
      "416/416 [==============================] - 1s 2ms/step - loss: 0.0750 - accuracy: 0.9774 - val_loss: 0.0684 - val_accuracy: 0.9786\n",
      "Epoch 45/50\n",
      "416/416 [==============================] - 1s 2ms/step - loss: 0.0721 - accuracy: 0.9800 - val_loss: 0.0684 - val_accuracy: 0.9777\n",
      "Epoch 46/50\n",
      "416/416 [==============================] - 1s 2ms/step - loss: 0.0710 - accuracy: 0.9792 - val_loss: 0.0709 - val_accuracy: 0.9777\n",
      "Epoch 47/50\n",
      "416/416 [==============================] - 1s 2ms/step - loss: 0.0726 - accuracy: 0.9779 - val_loss: 0.0691 - val_accuracy: 0.9789\n",
      "Epoch 48/50\n",
      "416/416 [==============================] - 1s 2ms/step - loss: 0.0717 - accuracy: 0.9788 - val_loss: 0.0704 - val_accuracy: 0.9780\n",
      "Epoch 49/50\n",
      "416/416 [==============================] - 1s 2ms/step - loss: 0.0674 - accuracy: 0.9819 - val_loss: 0.0713 - val_accuracy: 0.9771\n"
     ]
    },
    {
     "name": "stderr",
     "output_type": "stream",
     "text": [
      "[I 2024-03-19 20:23:37,565] Trial 48 finished with value: 0.9771221876144409 and parameters: {'num_layers': 1, 'layer_size': 134, 'dropout_rate': 0.12288339206509208, 'use_batch_norm': False, 'activation': 'relu', 'learning_rate': 0.00010976760892334912}. Best is trial 10 with value: 0.987959086894989.\n"
     ]
    },
    {
     "name": "stdout",
     "output_type": "stream",
     "text": [
      "Epoch 1/50\n",
      "413/416 [============================>.] - ETA: 0s - loss: 0.5053 - accuracy: 0.8390"
     ]
    },
    {
     "name": "stderr",
     "output_type": "stream",
     "text": [
      "[I 2024-03-19 20:23:39,575] Trial 49 pruned. Trial was pruned at epoch 0.\n"
     ]
    },
    {
     "name": "stdout",
     "output_type": "stream",
     "text": [
      "Epoch 1/50\n",
      "410/416 [============================>.] - ETA: 0s - loss: 0.5054 - accuracy: 0.8342"
     ]
    },
    {
     "name": "stderr",
     "output_type": "stream",
     "text": [
      "[I 2024-03-19 20:23:41,332] Trial 50 pruned. Trial was pruned at epoch 0.\n"
     ]
    },
    {
     "name": "stdout",
     "output_type": "stream",
     "text": [
      "Epoch 1/50\n",
      "416/416 [==============================] - 2s 4ms/step - loss: 0.5374 - accuracy: 0.8288 - val_loss: 0.3386 - val_accuracy: 0.8874\n",
      "Epoch 2/50\n",
      "416/416 [==============================] - 1s 3ms/step - loss: 0.3055 - accuracy: 0.9045 - val_loss: 0.2542 - val_accuracy: 0.9187\n",
      "Epoch 3/50\n",
      "416/416 [==============================] - 1s 3ms/step - loss: 0.2294 - accuracy: 0.9271 - val_loss: 0.1892 - val_accuracy: 0.9398\n",
      "Epoch 4/50\n",
      "416/416 [==============================] - 1s 3ms/step - loss: 0.1819 - accuracy: 0.9438 - val_loss: 0.1620 - val_accuracy: 0.9476\n",
      "Epoch 5/50\n",
      "416/416 [==============================] - 1s 3ms/step - loss: 0.1464 - accuracy: 0.9563 - val_loss: 0.1341 - val_accuracy: 0.9551\n",
      "Epoch 6/50\n",
      "416/416 [==============================] - 1s 3ms/step - loss: 0.1253 - accuracy: 0.9635 - val_loss: 0.1188 - val_accuracy: 0.9612\n",
      "Epoch 7/50\n",
      "416/416 [==============================] - 1s 3ms/step - loss: 0.1067 - accuracy: 0.9696 - val_loss: 0.1036 - val_accuracy: 0.9726\n",
      "Epoch 8/50\n",
      "416/416 [==============================] - 1s 3ms/step - loss: 0.0934 - accuracy: 0.9750 - val_loss: 0.0960 - val_accuracy: 0.9702\n",
      "Epoch 9/50\n",
      "416/416 [==============================] - 1s 3ms/step - loss: 0.0818 - accuracy: 0.9775 - val_loss: 0.0844 - val_accuracy: 0.9768\n",
      "Epoch 10/50\n",
      "416/416 [==============================] - 1s 3ms/step - loss: 0.0715 - accuracy: 0.9801 - val_loss: 0.0857 - val_accuracy: 0.9756\n",
      "Epoch 11/50\n",
      "416/416 [==============================] - 1s 3ms/step - loss: 0.0650 - accuracy: 0.9826 - val_loss: 0.0768 - val_accuracy: 0.9792\n",
      "Epoch 12/50\n",
      "416/416 [==============================] - 1s 3ms/step - loss: 0.0573 - accuracy: 0.9851 - val_loss: 0.0727 - val_accuracy: 0.9789\n",
      "Epoch 13/50\n",
      "416/416 [==============================] - 1s 3ms/step - loss: 0.0512 - accuracy: 0.9875 - val_loss: 0.0701 - val_accuracy: 0.9783\n",
      "Epoch 14/50\n",
      "416/416 [==============================] - 1s 3ms/step - loss: 0.0482 - accuracy: 0.9878 - val_loss: 0.0657 - val_accuracy: 0.9813\n",
      "Epoch 15/50\n",
      "416/416 [==============================] - 1s 3ms/step - loss: 0.0413 - accuracy: 0.9901 - val_loss: 0.0627 - val_accuracy: 0.9831\n",
      "Epoch 16/50\n",
      "416/416 [==============================] - 1s 3ms/step - loss: 0.0369 - accuracy: 0.9921 - val_loss: 0.0567 - val_accuracy: 0.9843\n",
      "Epoch 17/50\n",
      "416/416 [==============================] - 1s 3ms/step - loss: 0.0341 - accuracy: 0.9917 - val_loss: 0.0571 - val_accuracy: 0.9837\n",
      "Epoch 18/50\n",
      "416/416 [==============================] - 1s 3ms/step - loss: 0.0297 - accuracy: 0.9938 - val_loss: 0.0573 - val_accuracy: 0.9852\n",
      "Epoch 19/50\n",
      "416/416 [==============================] - 1s 3ms/step - loss: 0.0284 - accuracy: 0.9945 - val_loss: 0.0525 - val_accuracy: 0.9834\n",
      "Epoch 20/50\n",
      "416/416 [==============================] - 1s 3ms/step - loss: 0.0252 - accuracy: 0.9944 - val_loss: 0.0543 - val_accuracy: 0.9849\n",
      "Epoch 21/50\n",
      "416/416 [==============================] - 1s 3ms/step - loss: 0.0235 - accuracy: 0.9951 - val_loss: 0.0530 - val_accuracy: 0.9840\n",
      "Epoch 22/50\n",
      "416/416 [==============================] - 1s 3ms/step - loss: 0.0205 - accuracy: 0.9967 - val_loss: 0.0491 - val_accuracy: 0.9862\n",
      "Epoch 23/50\n",
      "416/416 [==============================] - 1s 3ms/step - loss: 0.0205 - accuracy: 0.9953 - val_loss: 0.0479 - val_accuracy: 0.9874\n",
      "Epoch 24/50\n",
      "416/416 [==============================] - 1s 3ms/step - loss: 0.0178 - accuracy: 0.9962 - val_loss: 0.0516 - val_accuracy: 0.9849\n",
      "Epoch 25/50\n",
      "416/416 [==============================] - 1s 4ms/step - loss: 0.0181 - accuracy: 0.9969 - val_loss: 0.0468 - val_accuracy: 0.9862\n",
      "Epoch 26/50\n",
      "416/416 [==============================] - 2s 4ms/step - loss: 0.0161 - accuracy: 0.9972 - val_loss: 0.0479 - val_accuracy: 0.9856\n",
      "Epoch 27/50\n",
      "416/416 [==============================] - 1s 4ms/step - loss: 0.0144 - accuracy: 0.9974 - val_loss: 0.0474 - val_accuracy: 0.9852\n",
      "Epoch 28/50\n",
      "416/416 [==============================] - 2s 4ms/step - loss: 0.0125 - accuracy: 0.9980 - val_loss: 0.0492 - val_accuracy: 0.9859\n",
      "Epoch 29/50\n",
      "416/416 [==============================] - 2s 4ms/step - loss: 0.0135 - accuracy: 0.9971 - val_loss: 0.0476 - val_accuracy: 0.9868\n",
      "Epoch 30/50\n",
      "416/416 [==============================] - 2s 4ms/step - loss: 0.0130 - accuracy: 0.9968 - val_loss: 0.0496 - val_accuracy: 0.9856\n"
     ]
    },
    {
     "name": "stderr",
     "output_type": "stream",
     "text": [
      "[I 2024-03-19 20:24:23,486] Trial 51 finished with value: 0.9855508804321289 and parameters: {'num_layers': 1, 'layer_size': 696, 'dropout_rate': 0.10482194445211092, 'use_batch_norm': False, 'activation': 'tanh', 'learning_rate': 0.00010597388762724996}. Best is trial 10 with value: 0.987959086894989.\n"
     ]
    },
    {
     "name": "stdout",
     "output_type": "stream",
     "text": [
      "Epoch 1/50\n",
      "410/416 [============================>.] - ETA: 0s - loss: 0.5254 - accuracy: 0.8349"
     ]
    },
    {
     "name": "stderr",
     "output_type": "stream",
     "text": [
      "[I 2024-03-19 20:24:25,542] Trial 52 pruned. Trial was pruned at epoch 0.\n"
     ]
    },
    {
     "name": "stdout",
     "output_type": "stream",
     "text": [
      "Epoch 1/50\n",
      "416/416 [==============================] - 2s 4ms/step - loss: 0.5524 - accuracy: 0.8309 - val_loss: 0.3444 - val_accuracy: 0.8919\n",
      "Epoch 2/50\n",
      "416/416 [==============================] - 1s 3ms/step - loss: 0.3182 - accuracy: 0.9009 - val_loss: 0.2651 - val_accuracy: 0.9082\n",
      "Epoch 3/50\n",
      "416/416 [==============================] - 2s 4ms/step - loss: 0.2457 - accuracy: 0.9232 - val_loss: 0.2038 - val_accuracy: 0.9326\n",
      "Epoch 4/50\n",
      "416/416 [==============================] - 2s 4ms/step - loss: 0.1932 - accuracy: 0.9396 - val_loss: 0.1674 - val_accuracy: 0.9386\n",
      "Epoch 5/50\n",
      "416/416 [==============================] - 2s 4ms/step - loss: 0.1621 - accuracy: 0.9512 - val_loss: 0.1483 - val_accuracy: 0.9533\n",
      "Epoch 6/50\n",
      "416/416 [==============================] - 2s 4ms/step - loss: 0.1397 - accuracy: 0.9577 - val_loss: 0.1280 - val_accuracy: 0.9585\n",
      "Epoch 7/50\n",
      "416/416 [==============================] - 2s 4ms/step - loss: 0.1193 - accuracy: 0.9636 - val_loss: 0.1111 - val_accuracy: 0.9630\n",
      "Epoch 8/50\n",
      "416/416 [==============================] - 1s 3ms/step - loss: 0.1034 - accuracy: 0.9703 - val_loss: 0.1015 - val_accuracy: 0.9702\n",
      "Epoch 9/50\n",
      "416/416 [==============================] - 2s 4ms/step - loss: 0.0929 - accuracy: 0.9750 - val_loss: 0.0960 - val_accuracy: 0.9690\n",
      "Epoch 10/50\n",
      "416/416 [==============================] - 1s 4ms/step - loss: 0.0829 - accuracy: 0.9767 - val_loss: 0.0850 - val_accuracy: 0.9762\n",
      "Epoch 11/50\n",
      "416/416 [==============================] - 1s 3ms/step - loss: 0.0752 - accuracy: 0.9792 - val_loss: 0.0772 - val_accuracy: 0.9774\n",
      "Epoch 12/50\n",
      "416/416 [==============================] - 2s 4ms/step - loss: 0.0666 - accuracy: 0.9826 - val_loss: 0.0757 - val_accuracy: 0.9747\n",
      "Epoch 13/50\n",
      "416/416 [==============================] - 1s 3ms/step - loss: 0.0623 - accuracy: 0.9832 - val_loss: 0.0689 - val_accuracy: 0.9777\n",
      "Epoch 14/50\n",
      "416/416 [==============================] - 1s 3ms/step - loss: 0.0527 - accuracy: 0.9863 - val_loss: 0.0722 - val_accuracy: 0.9780\n",
      "Epoch 15/50\n",
      "416/416 [==============================] - 1s 3ms/step - loss: 0.0525 - accuracy: 0.9856 - val_loss: 0.0638 - val_accuracy: 0.9792\n",
      "Epoch 16/50\n",
      "416/416 [==============================] - 1s 3ms/step - loss: 0.0455 - accuracy: 0.9886 - val_loss: 0.0606 - val_accuracy: 0.9819\n",
      "Epoch 17/50\n",
      "416/416 [==============================] - 1s 3ms/step - loss: 0.0413 - accuracy: 0.9899 - val_loss: 0.0575 - val_accuracy: 0.9819\n",
      "Epoch 18/50\n",
      "416/416 [==============================] - 1s 3ms/step - loss: 0.0365 - accuracy: 0.9920 - val_loss: 0.0533 - val_accuracy: 0.9849\n",
      "Epoch 19/50\n",
      "416/416 [==============================] - 1s 3ms/step - loss: 0.0352 - accuracy: 0.9918 - val_loss: 0.0538 - val_accuracy: 0.9831\n",
      "Epoch 20/50\n",
      "416/416 [==============================] - 1s 3ms/step - loss: 0.0328 - accuracy: 0.9922 - val_loss: 0.0547 - val_accuracy: 0.9837\n",
      "Epoch 21/50\n",
      "416/416 [==============================] - 1s 3ms/step - loss: 0.0292 - accuracy: 0.9942 - val_loss: 0.0498 - val_accuracy: 0.9862\n",
      "Epoch 22/50\n",
      "416/416 [==============================] - 1s 3ms/step - loss: 0.0259 - accuracy: 0.9953 - val_loss: 0.0532 - val_accuracy: 0.9837\n",
      "Epoch 23/50\n",
      "416/416 [==============================] - 1s 3ms/step - loss: 0.0256 - accuracy: 0.9949 - val_loss: 0.0480 - val_accuracy: 0.9883\n",
      "Epoch 24/50\n",
      "416/416 [==============================] - 1s 3ms/step - loss: 0.0233 - accuracy: 0.9945 - val_loss: 0.0488 - val_accuracy: 0.9852\n",
      "Epoch 25/50\n",
      "416/416 [==============================] - 1s 3ms/step - loss: 0.0223 - accuracy: 0.9944 - val_loss: 0.0496 - val_accuracy: 0.9840\n",
      "Epoch 26/50\n",
      "416/416 [==============================] - 1s 3ms/step - loss: 0.0192 - accuracy: 0.9960 - val_loss: 0.0482 - val_accuracy: 0.9862\n",
      "Epoch 27/50\n",
      "416/416 [==============================] - 1s 3ms/step - loss: 0.0179 - accuracy: 0.9965 - val_loss: 0.0482 - val_accuracy: 0.9862\n",
      "Epoch 28/50\n",
      "416/416 [==============================] - 1s 3ms/step - loss: 0.0165 - accuracy: 0.9971 - val_loss: 0.0482 - val_accuracy: 0.9856\n"
     ]
    },
    {
     "name": "stderr",
     "output_type": "stream",
     "text": [
      "[I 2024-03-19 20:25:06,740] Trial 53 finished with value: 0.9855508804321289 and parameters: {'num_layers': 1, 'layer_size': 660, 'dropout_rate': 0.11806197881223826, 'use_batch_norm': False, 'activation': 'tanh', 'learning_rate': 0.00010077357974050429}. Best is trial 10 with value: 0.987959086894989.\n"
     ]
    },
    {
     "name": "stdout",
     "output_type": "stream",
     "text": [
      "Epoch 1/50\n",
      "  1/416 [..............................] - ETA: 1:33 - loss: 2.3851 - accuracy: 0.0625WARNING:tensorflow:Callback method `on_train_batch_end` is slow compared to the batch time (batch time: 0.0011s vs `on_train_batch_end` time: 0.0021s). Check your callbacks.\n",
      "416/416 [==============================] - 2s 3ms/step - loss: 0.5903 - accuracy: 0.8103 - val_loss: 0.3483 - val_accuracy: 0.8974\n",
      "Epoch 2/50\n",
      "416/416 [==============================] - 1s 3ms/step - loss: 0.3399 - accuracy: 0.8942 - val_loss: 0.2675 - val_accuracy: 0.9175\n",
      "Epoch 3/50\n",
      "416/416 [==============================] - 1s 3ms/step - loss: 0.2633 - accuracy: 0.9176 - val_loss: 0.2224 - val_accuracy: 0.9259\n",
      "Epoch 4/50\n",
      "416/416 [==============================] - 1s 3ms/step - loss: 0.2171 - accuracy: 0.9327 - val_loss: 0.1848 - val_accuracy: 0.9344\n",
      "Epoch 5/50\n",
      "416/416 [==============================] - 1s 3ms/step - loss: 0.1830 - accuracy: 0.9426 - val_loss: 0.1632 - val_accuracy: 0.9431\n",
      "Epoch 6/50\n",
      "416/416 [==============================] - 1s 3ms/step - loss: 0.1561 - accuracy: 0.9527 - val_loss: 0.1412 - val_accuracy: 0.9548\n",
      "Epoch 7/50\n",
      "416/416 [==============================] - 1s 3ms/step - loss: 0.1350 - accuracy: 0.9598 - val_loss: 0.1275 - val_accuracy: 0.9606\n",
      "Epoch 8/50\n",
      "416/416 [==============================] - 1s 3ms/step - loss: 0.1231 - accuracy: 0.9642 - val_loss: 0.1193 - val_accuracy: 0.9636\n",
      "Epoch 9/50\n",
      "416/416 [==============================] - 1s 3ms/step - loss: 0.1084 - accuracy: 0.9703 - val_loss: 0.1093 - val_accuracy: 0.9681\n",
      "Epoch 10/50\n",
      "416/416 [==============================] - 1s 3ms/step - loss: 0.0968 - accuracy: 0.9738 - val_loss: 0.0964 - val_accuracy: 0.9726\n",
      "Epoch 11/50\n",
      "416/416 [==============================] - 1s 3ms/step - loss: 0.0883 - accuracy: 0.9767 - val_loss: 0.0922 - val_accuracy: 0.9726\n",
      "Epoch 12/50\n",
      "416/416 [==============================] - 1s 3ms/step - loss: 0.0797 - accuracy: 0.9792 - val_loss: 0.0841 - val_accuracy: 0.9783\n",
      "Epoch 13/50\n",
      "416/416 [==============================] - 1s 3ms/step - loss: 0.0729 - accuracy: 0.9812 - val_loss: 0.0803 - val_accuracy: 0.9750\n",
      "Epoch 14/50\n",
      "416/416 [==============================] - 1s 3ms/step - loss: 0.0707 - accuracy: 0.9794 - val_loss: 0.0750 - val_accuracy: 0.9762\n",
      "Epoch 15/50\n",
      "416/416 [==============================] - 1s 3ms/step - loss: 0.0652 - accuracy: 0.9835 - val_loss: 0.0706 - val_accuracy: 0.9786\n",
      "Epoch 16/50\n",
      "416/416 [==============================] - 1s 3ms/step - loss: 0.0573 - accuracy: 0.9855 - val_loss: 0.0663 - val_accuracy: 0.9810\n",
      "Epoch 17/50\n",
      "416/416 [==============================] - 1s 3ms/step - loss: 0.0528 - accuracy: 0.9871 - val_loss: 0.0651 - val_accuracy: 0.9798\n",
      "Epoch 18/50\n",
      "416/416 [==============================] - 1s 3ms/step - loss: 0.0480 - accuracy: 0.9896 - val_loss: 0.0655 - val_accuracy: 0.9819\n",
      "Epoch 19/50\n",
      "416/416 [==============================] - 1s 4ms/step - loss: 0.0458 - accuracy: 0.9892 - val_loss: 0.0602 - val_accuracy: 0.9834\n",
      "Epoch 20/50\n",
      "416/416 [==============================] - 1s 3ms/step - loss: 0.0436 - accuracy: 0.9892 - val_loss: 0.0598 - val_accuracy: 0.9825\n",
      "Epoch 21/50\n",
      "416/416 [==============================] - 1s 3ms/step - loss: 0.0402 - accuracy: 0.9909 - val_loss: 0.0563 - val_accuracy: 0.9822\n",
      "Epoch 22/50\n",
      "416/416 [==============================] - 1s 3ms/step - loss: 0.0368 - accuracy: 0.9915 - val_loss: 0.0630 - val_accuracy: 0.9828\n",
      "Epoch 23/50\n",
      "416/416 [==============================] - 1s 3ms/step - loss: 0.0348 - accuracy: 0.9928 - val_loss: 0.0571 - val_accuracy: 0.9862\n",
      "Epoch 24/50\n",
      "416/416 [==============================] - 1s 3ms/step - loss: 0.0340 - accuracy: 0.9923 - val_loss: 0.0550 - val_accuracy: 0.9849\n",
      "Epoch 25/50\n",
      "416/416 [==============================] - 1s 3ms/step - loss: 0.0316 - accuracy: 0.9928 - val_loss: 0.0569 - val_accuracy: 0.9825\n",
      "Epoch 26/50\n",
      "416/416 [==============================] - 1s 3ms/step - loss: 0.0300 - accuracy: 0.9939 - val_loss: 0.0540 - val_accuracy: 0.9840\n",
      "Epoch 27/50\n",
      "416/416 [==============================] - 1s 3ms/step - loss: 0.0288 - accuracy: 0.9934 - val_loss: 0.0545 - val_accuracy: 0.9840\n",
      "Epoch 28/50\n",
      "416/416 [==============================] - 1s 3ms/step - loss: 0.0279 - accuracy: 0.9934 - val_loss: 0.0558 - val_accuracy: 0.9846\n",
      "Epoch 29/50\n",
      "416/416 [==============================] - 1s 3ms/step - loss: 0.0254 - accuracy: 0.9948 - val_loss: 0.0532 - val_accuracy: 0.9856\n",
      "Epoch 30/50\n",
      "416/416 [==============================] - 1s 3ms/step - loss: 0.0237 - accuracy: 0.9947 - val_loss: 0.0496 - val_accuracy: 0.9859\n",
      "Epoch 31/50\n",
      "416/416 [==============================] - 1s 3ms/step - loss: 0.0235 - accuracy: 0.9952 - val_loss: 0.0498 - val_accuracy: 0.9862\n",
      "Epoch 32/50\n",
      "416/416 [==============================] - 1s 3ms/step - loss: 0.0209 - accuracy: 0.9960 - val_loss: 0.0537 - val_accuracy: 0.9819\n",
      "Epoch 33/50\n",
      "416/416 [==============================] - 1s 3ms/step - loss: 0.0205 - accuracy: 0.9962 - val_loss: 0.0520 - val_accuracy: 0.9843\n",
      "Epoch 34/50\n",
      "416/416 [==============================] - 2s 4ms/step - loss: 0.0204 - accuracy: 0.9954 - val_loss: 0.0489 - val_accuracy: 0.9852\n",
      "Epoch 35/50\n",
      "416/416 [==============================] - 6s 15ms/step - loss: 0.0180 - accuracy: 0.9965 - val_loss: 0.0522 - val_accuracy: 0.9849\n"
     ]
    },
    {
     "name": "stderr",
     "output_type": "stream",
     "text": [
      "[I 2024-03-19 20:26:00,498] Trial 54 finished with value: 0.9849488139152527 and parameters: {'num_layers': 1, 'layer_size': 393, 'dropout_rate': 0.11231638498621203, 'use_batch_norm': False, 'activation': 'tanh', 'learning_rate': 0.00012426357165036393}. Best is trial 10 with value: 0.987959086894989.\n"
     ]
    },
    {
     "name": "stdout",
     "output_type": "stream",
     "text": [
      "Epoch 1/50\n",
      "400/416 [===========================>..] - ETA: 0s - loss: 0.5389 - accuracy: 0.8256"
     ]
    },
    {
     "name": "stderr",
     "output_type": "stream",
     "text": [
      "[I 2024-03-19 20:26:02,193] Trial 55 pruned. Trial was pruned at epoch 0.\n"
     ]
    },
    {
     "name": "stdout",
     "output_type": "stream",
     "text": [
      "Epoch 1/50\n",
      "412/416 [============================>.] - ETA: 0s - loss: 0.5343 - accuracy: 0.8274"
     ]
    },
    {
     "name": "stderr",
     "output_type": "stream",
     "text": [
      "[I 2024-03-19 20:26:03,912] Trial 56 pruned. Trial was pruned at epoch 0.\n"
     ]
    },
    {
     "name": "stdout",
     "output_type": "stream",
     "text": [
      "Epoch 1/50\n",
      "416/416 [==============================] - 2s 3ms/step - loss: 0.6471 - accuracy: 0.7938 - val_loss: 0.3974 - val_accuracy: 0.8853\n",
      "Epoch 2/50\n",
      "416/416 [==============================] - 1s 3ms/step - loss: 0.4450 - accuracy: 0.8644 - val_loss: 0.3324 - val_accuracy: 0.9052\n",
      "Epoch 3/50\n",
      "416/416 [==============================] - 1s 3ms/step - loss: 0.3710 - accuracy: 0.8887 - val_loss: 0.2798 - val_accuracy: 0.9214\n",
      "Epoch 4/50\n",
      "416/416 [==============================] - 1s 3ms/step - loss: 0.3311 - accuracy: 0.9017 - val_loss: 0.2549 - val_accuracy: 0.9272\n",
      "Epoch 5/50\n",
      "416/416 [==============================] - 1s 3ms/step - loss: 0.2996 - accuracy: 0.9118 - val_loss: 0.2376 - val_accuracy: 0.9341\n",
      "Epoch 6/50\n",
      "416/416 [==============================] - 1s 3ms/step - loss: 0.2678 - accuracy: 0.9210 - val_loss: 0.2116 - val_accuracy: 0.9389\n",
      "Epoch 7/50\n",
      "416/416 [==============================] - 1s 3ms/step - loss: 0.2461 - accuracy: 0.9277 - val_loss: 0.1955 - val_accuracy: 0.9389\n",
      "Epoch 8/50\n",
      "416/416 [==============================] - 1s 3ms/step - loss: 0.2324 - accuracy: 0.9314 - val_loss: 0.1832 - val_accuracy: 0.9401\n",
      "Epoch 9/50\n",
      "416/416 [==============================] - 1s 3ms/step - loss: 0.2169 - accuracy: 0.9357 - val_loss: 0.1682 - val_accuracy: 0.9506\n",
      "Epoch 10/50\n",
      "416/416 [==============================] - 1s 3ms/step - loss: 0.2002 - accuracy: 0.9390 - val_loss: 0.1598 - val_accuracy: 0.9533\n",
      "Epoch 11/50\n",
      "416/416 [==============================] - 1s 3ms/step - loss: 0.1892 - accuracy: 0.9437 - val_loss: 0.1575 - val_accuracy: 0.9548\n",
      "Epoch 12/50\n",
      "416/416 [==============================] - 1s 3ms/step - loss: 0.1748 - accuracy: 0.9478 - val_loss: 0.1462 - val_accuracy: 0.9567\n",
      "Epoch 13/50\n",
      "416/416 [==============================] - 1s 3ms/step - loss: 0.1738 - accuracy: 0.9461 - val_loss: 0.1452 - val_accuracy: 0.9570\n",
      "Epoch 14/50\n",
      "416/416 [==============================] - 1s 3ms/step - loss: 0.1606 - accuracy: 0.9534 - val_loss: 0.1334 - val_accuracy: 0.9621\n",
      "Epoch 15/50\n",
      "416/416 [==============================] - 1s 3ms/step - loss: 0.1486 - accuracy: 0.9557 - val_loss: 0.1235 - val_accuracy: 0.9621\n",
      "Epoch 16/50\n",
      "416/416 [==============================] - 1s 3ms/step - loss: 0.1457 - accuracy: 0.9577 - val_loss: 0.1266 - val_accuracy: 0.9600\n",
      "Epoch 17/50\n",
      "416/416 [==============================] - 1s 3ms/step - loss: 0.1364 - accuracy: 0.9606 - val_loss: 0.1241 - val_accuracy: 0.9609\n",
      "Epoch 18/50\n",
      "416/416 [==============================] - 1s 3ms/step - loss: 0.1308 - accuracy: 0.9633 - val_loss: 0.1074 - val_accuracy: 0.9690\n",
      "Epoch 19/50\n",
      "416/416 [==============================] - 1s 3ms/step - loss: 0.1269 - accuracy: 0.9636 - val_loss: 0.1049 - val_accuracy: 0.9666\n",
      "Epoch 20/50\n",
      "416/416 [==============================] - 1s 3ms/step - loss: 0.1199 - accuracy: 0.9666 - val_loss: 0.1110 - val_accuracy: 0.9708\n",
      "Epoch 21/50\n",
      "416/416 [==============================] - 1s 3ms/step - loss: 0.1149 - accuracy: 0.9658 - val_loss: 0.0998 - val_accuracy: 0.9696\n",
      "Epoch 22/50\n",
      "416/416 [==============================] - 1s 3ms/step - loss: 0.1080 - accuracy: 0.9690 - val_loss: 0.0917 - val_accuracy: 0.9744\n",
      "Epoch 23/50\n",
      "416/416 [==============================] - 1s 3ms/step - loss: 0.1073 - accuracy: 0.9694 - val_loss: 0.0915 - val_accuracy: 0.9762\n",
      "Epoch 24/50\n",
      "416/416 [==============================] - 1s 3ms/step - loss: 0.1026 - accuracy: 0.9707 - val_loss: 0.0928 - val_accuracy: 0.9741\n",
      "Epoch 25/50\n",
      "416/416 [==============================] - 1s 4ms/step - loss: 0.0965 - accuracy: 0.9724 - val_loss: 0.0870 - val_accuracy: 0.9750\n",
      "Epoch 26/50\n",
      "416/416 [==============================] - 1s 3ms/step - loss: 0.0929 - accuracy: 0.9734 - val_loss: 0.0875 - val_accuracy: 0.9753\n",
      "Epoch 27/50\n",
      "416/416 [==============================] - 1s 3ms/step - loss: 0.0917 - accuracy: 0.9731 - val_loss: 0.0830 - val_accuracy: 0.9747\n",
      "Epoch 28/50\n",
      "416/416 [==============================] - 1s 3ms/step - loss: 0.0845 - accuracy: 0.9771 - val_loss: 0.0785 - val_accuracy: 0.9795\n",
      "Epoch 29/50\n",
      "416/416 [==============================] - 1s 3ms/step - loss: 0.0838 - accuracy: 0.9756 - val_loss: 0.0809 - val_accuracy: 0.9750\n",
      "Epoch 30/50\n",
      "416/416 [==============================] - 1s 3ms/step - loss: 0.0838 - accuracy: 0.9766 - val_loss: 0.0788 - val_accuracy: 0.9765\n",
      "Epoch 31/50\n",
      "416/416 [==============================] - 1s 3ms/step - loss: 0.0814 - accuracy: 0.9768 - val_loss: 0.0760 - val_accuracy: 0.9795\n",
      "Epoch 32/50\n",
      "416/416 [==============================] - 1s 3ms/step - loss: 0.0789 - accuracy: 0.9785 - val_loss: 0.0725 - val_accuracy: 0.9801\n",
      "Epoch 33/50\n",
      "416/416 [==============================] - 1s 3ms/step - loss: 0.0743 - accuracy: 0.9800 - val_loss: 0.0734 - val_accuracy: 0.9810\n",
      "Epoch 34/50\n",
      "416/416 [==============================] - 1s 3ms/step - loss: 0.0756 - accuracy: 0.9790 - val_loss: 0.0784 - val_accuracy: 0.9759\n",
      "Epoch 35/50\n",
      "416/416 [==============================] - 1s 3ms/step - loss: 0.0713 - accuracy: 0.9792 - val_loss: 0.0754 - val_accuracy: 0.9762\n",
      "Epoch 36/50\n",
      "416/416 [==============================] - 1s 3ms/step - loss: 0.0669 - accuracy: 0.9810 - val_loss: 0.0718 - val_accuracy: 0.9798\n",
      "Epoch 37/50\n",
      "416/416 [==============================] - 1s 3ms/step - loss: 0.0678 - accuracy: 0.9810 - val_loss: 0.0700 - val_accuracy: 0.9798\n",
      "Epoch 38/50\n",
      "416/416 [==============================] - 1s 3ms/step - loss: 0.0630 - accuracy: 0.9843 - val_loss: 0.0678 - val_accuracy: 0.9789\n",
      "Epoch 39/50\n",
      "416/416 [==============================] - 1s 3ms/step - loss: 0.0645 - accuracy: 0.9823 - val_loss: 0.0691 - val_accuracy: 0.9777\n",
      "Epoch 40/50\n",
      "416/416 [==============================] - 1s 3ms/step - loss: 0.0628 - accuracy: 0.9820 - val_loss: 0.0700 - val_accuracy: 0.9792\n",
      "Epoch 41/50\n",
      "416/416 [==============================] - 1s 3ms/step - loss: 0.0628 - accuracy: 0.9822 - val_loss: 0.0699 - val_accuracy: 0.9810\n",
      "Epoch 42/50\n",
      "416/416 [==============================] - 1s 3ms/step - loss: 0.0586 - accuracy: 0.9848 - val_loss: 0.0697 - val_accuracy: 0.9777\n",
      "Epoch 43/50\n",
      "416/416 [==============================] - 1s 3ms/step - loss: 0.0594 - accuracy: 0.9834 - val_loss: 0.0653 - val_accuracy: 0.9792\n",
      "Epoch 44/50\n",
      "416/416 [==============================] - 1s 3ms/step - loss: 0.0577 - accuracy: 0.9829 - val_loss: 0.0658 - val_accuracy: 0.9804\n",
      "Epoch 45/50\n",
      "416/416 [==============================] - 1s 3ms/step - loss: 0.0534 - accuracy: 0.9854 - val_loss: 0.0622 - val_accuracy: 0.9816\n",
      "Epoch 46/50\n",
      "416/416 [==============================] - 1s 3ms/step - loss: 0.0537 - accuracy: 0.9846 - val_loss: 0.0590 - val_accuracy: 0.9828\n",
      "Epoch 47/50\n",
      "416/416 [==============================] - 1s 3ms/step - loss: 0.0525 - accuracy: 0.9852 - val_loss: 0.0640 - val_accuracy: 0.9795\n",
      "Epoch 48/50\n",
      "416/416 [==============================] - 1s 3ms/step - loss: 0.0500 - accuracy: 0.9868 - val_loss: 0.0605 - val_accuracy: 0.9816\n",
      "Epoch 49/50\n",
      "416/416 [==============================] - 1s 3ms/step - loss: 0.0494 - accuracy: 0.9860 - val_loss: 0.0656 - val_accuracy: 0.9795\n",
      "Epoch 50/50\n",
      "416/416 [==============================] - 1s 3ms/step - loss: 0.0479 - accuracy: 0.9875 - val_loss: 0.0623 - val_accuracy: 0.9798\n"
     ]
    },
    {
     "name": "stderr",
     "output_type": "stream",
     "text": [
      "[I 2024-03-19 20:27:12,034] Trial 57 finished with value: 0.9798313975334167 and parameters: {'num_layers': 1, 'layer_size': 551, 'dropout_rate': 0.15157105362996692, 'use_batch_norm': True, 'activation': 'tanh', 'learning_rate': 0.00010082282939436439}. Best is trial 10 with value: 0.987959086894989.\n"
     ]
    },
    {
     "name": "stdout",
     "output_type": "stream",
     "text": [
      "Epoch 1/50\n",
      "  1/416 [..............................] - ETA: 1:45 - loss: 2.2429 - accuracy: 0.0625WARNING:tensorflow:Callback method `on_train_batch_end` is slow compared to the batch time (batch time: 0.0000s vs `on_train_batch_end` time: 0.0002s). Check your callbacks.\n",
      "407/416 [============================>.] - ETA: 0s - loss: 0.4331 - accuracy: 0.8609"
     ]
    },
    {
     "name": "stderr",
     "output_type": "stream",
     "text": [
      "[I 2024-03-19 20:27:13,915] Trial 58 pruned. Trial was pruned at epoch 0.\n"
     ]
    },
    {
     "name": "stdout",
     "output_type": "stream",
     "text": [
      "Epoch 1/50\n",
      "398/416 [===========================>..] - ETA: 0s - loss: 0.3976 - accuracy: 0.8711"
     ]
    },
    {
     "name": "stderr",
     "output_type": "stream",
     "text": [
      "[I 2024-03-19 20:27:15,817] Trial 59 pruned. Trial was pruned at epoch 0.\n"
     ]
    },
    {
     "name": "stdout",
     "output_type": "stream",
     "text": [
      "Epoch 1/50\n",
      "399/416 [===========================>..] - ETA: 0s - loss: 0.4149 - accuracy: 0.8641"
     ]
    },
    {
     "name": "stderr",
     "output_type": "stream",
     "text": [
      "[I 2024-03-19 20:27:17,691] Trial 60 pruned. Trial was pruned at epoch 0.\n"
     ]
    },
    {
     "name": "stdout",
     "output_type": "stream",
     "text": [
      "Epoch 1/50\n",
      "416/416 [==============================] - 2s 4ms/step - loss: 0.5476 - accuracy: 0.8263 - val_loss: 0.3523 - val_accuracy: 0.8868\n",
      "Epoch 2/50\n",
      "416/416 [==============================] - 1s 4ms/step - loss: 0.3195 - accuracy: 0.8988 - val_loss: 0.2464 - val_accuracy: 0.9220\n",
      "Epoch 3/50\n",
      "416/416 [==============================] - 1s 4ms/step - loss: 0.2426 - accuracy: 0.9228 - val_loss: 0.2013 - val_accuracy: 0.9311\n",
      "Epoch 4/50\n",
      "416/416 [==============================] - 1s 4ms/step - loss: 0.1908 - accuracy: 0.9385 - val_loss: 0.1657 - val_accuracy: 0.9431\n",
      "Epoch 5/50\n",
      "416/416 [==============================] - 1s 3ms/step - loss: 0.1563 - accuracy: 0.9533 - val_loss: 0.1397 - val_accuracy: 0.9557\n",
      "Epoch 6/50\n",
      "416/416 [==============================] - 1s 3ms/step - loss: 0.1311 - accuracy: 0.9618 - val_loss: 0.1336 - val_accuracy: 0.9557\n",
      "Epoch 7/50\n",
      "416/416 [==============================] - 1s 3ms/step - loss: 0.1136 - accuracy: 0.9658 - val_loss: 0.1057 - val_accuracy: 0.9675\n",
      "Epoch 8/50\n",
      "416/416 [==============================] - 1s 3ms/step - loss: 0.1001 - accuracy: 0.9703 - val_loss: 0.0989 - val_accuracy: 0.9714\n",
      "Epoch 9/50\n",
      "416/416 [==============================] - 1s 3ms/step - loss: 0.0871 - accuracy: 0.9759 - val_loss: 0.0890 - val_accuracy: 0.9729\n",
      "Epoch 10/50\n",
      "416/416 [==============================] - 1s 4ms/step - loss: 0.0765 - accuracy: 0.9785 - val_loss: 0.0803 - val_accuracy: 0.9762\n",
      "Epoch 11/50\n",
      "416/416 [==============================] - 1s 4ms/step - loss: 0.0693 - accuracy: 0.9815 - val_loss: 0.0730 - val_accuracy: 0.9774\n",
      "Epoch 12/50\n",
      "416/416 [==============================] - 1s 4ms/step - loss: 0.0604 - accuracy: 0.9840 - val_loss: 0.0725 - val_accuracy: 0.9777\n",
      "Epoch 13/50\n",
      "416/416 [==============================] - 1s 3ms/step - loss: 0.0547 - accuracy: 0.9852 - val_loss: 0.0660 - val_accuracy: 0.9801\n",
      "Epoch 14/50\n",
      "416/416 [==============================] - 1s 4ms/step - loss: 0.0513 - accuracy: 0.9865 - val_loss: 0.0642 - val_accuracy: 0.9816\n",
      "Epoch 15/50\n",
      "416/416 [==============================] - 1s 4ms/step - loss: 0.0437 - accuracy: 0.9887 - val_loss: 0.0627 - val_accuracy: 0.9807\n",
      "Epoch 16/50\n",
      "416/416 [==============================] - 1s 4ms/step - loss: 0.0410 - accuracy: 0.9904 - val_loss: 0.0597 - val_accuracy: 0.9834\n",
      "Epoch 17/50\n",
      "416/416 [==============================] - 1s 4ms/step - loss: 0.0364 - accuracy: 0.9917 - val_loss: 0.0560 - val_accuracy: 0.9846\n",
      "Epoch 18/50\n",
      "416/416 [==============================] - 1s 3ms/step - loss: 0.0320 - accuracy: 0.9919 - val_loss: 0.0549 - val_accuracy: 0.9846\n",
      "Epoch 19/50\n",
      "416/416 [==============================] - 1s 3ms/step - loss: 0.0304 - accuracy: 0.9932 - val_loss: 0.0553 - val_accuracy: 0.9825\n",
      "Epoch 20/50\n",
      "416/416 [==============================] - 1s 4ms/step - loss: 0.0273 - accuracy: 0.9944 - val_loss: 0.0553 - val_accuracy: 0.9831\n",
      "Epoch 21/50\n",
      "416/416 [==============================] - 1s 4ms/step - loss: 0.0266 - accuracy: 0.9944 - val_loss: 0.0565 - val_accuracy: 0.9828\n",
      "Epoch 22/50\n",
      "416/416 [==============================] - 1s 4ms/step - loss: 0.0246 - accuracy: 0.9948 - val_loss: 0.0501 - val_accuracy: 0.9859\n",
      "Epoch 23/50\n",
      "416/416 [==============================] - 1s 4ms/step - loss: 0.0231 - accuracy: 0.9953 - val_loss: 0.0517 - val_accuracy: 0.9865\n",
      "Epoch 24/50\n",
      "416/416 [==============================] - 1s 3ms/step - loss: 0.0218 - accuracy: 0.9956 - val_loss: 0.0495 - val_accuracy: 0.9865\n",
      "Epoch 25/50\n",
      "416/416 [==============================] - 1s 3ms/step - loss: 0.0192 - accuracy: 0.9963 - val_loss: 0.0474 - val_accuracy: 0.9852\n",
      "Epoch 26/50\n",
      "416/416 [==============================] - 1s 4ms/step - loss: 0.0175 - accuracy: 0.9960 - val_loss: 0.0545 - val_accuracy: 0.9849\n",
      "Epoch 27/50\n",
      "416/416 [==============================] - 1s 3ms/step - loss: 0.0180 - accuracy: 0.9963 - val_loss: 0.0488 - val_accuracy: 0.9856\n",
      "Epoch 28/50\n",
      "416/416 [==============================] - 1s 4ms/step - loss: 0.0143 - accuracy: 0.9977 - val_loss: 0.0483 - val_accuracy: 0.9886\n",
      "Epoch 29/50\n",
      "416/416 [==============================] - 1s 4ms/step - loss: 0.0144 - accuracy: 0.9968 - val_loss: 0.0519 - val_accuracy: 0.9852\n",
      "Epoch 30/50\n",
      "416/416 [==============================] - 1s 4ms/step - loss: 0.0140 - accuracy: 0.9976 - val_loss: 0.0471 - val_accuracy: 0.9874\n"
     ]
    },
    {
     "name": "stderr",
     "output_type": "stream",
     "text": [
      "[I 2024-03-19 20:28:01,953] Trial 61 finished with value: 0.9873570203781128 and parameters: {'num_layers': 1, 'layer_size': 798, 'dropout_rate': 0.1367781767123146, 'use_batch_norm': False, 'activation': 'tanh', 'learning_rate': 0.00010048844365348455}. Best is trial 10 with value: 0.987959086894989.\n"
     ]
    },
    {
     "name": "stdout",
     "output_type": "stream",
     "text": [
      "Epoch 1/50\n",
      "415/416 [============================>.] - ETA: 0s - loss: 0.4414 - accuracy: 0.8597"
     ]
    },
    {
     "name": "stderr",
     "output_type": "stream",
     "text": [
      "[I 2024-03-19 20:28:03,806] Trial 62 pruned. Trial was pruned at epoch 0.\n"
     ]
    },
    {
     "name": "stdout",
     "output_type": "stream",
     "text": [
      "Epoch 1/50\n",
      "400/416 [===========================>..] - ETA: 0s - loss: 0.5198 - accuracy: 0.8356"
     ]
    },
    {
     "name": "stderr",
     "output_type": "stream",
     "text": [
      "[I 2024-03-19 20:28:05,647] Trial 63 pruned. Trial was pruned at epoch 0.\n"
     ]
    },
    {
     "name": "stdout",
     "output_type": "stream",
     "text": [
      "Epoch 1/50\n",
      "415/416 [============================>.] - ETA: 0s - loss: 0.4975 - accuracy: 0.8437"
     ]
    },
    {
     "name": "stderr",
     "output_type": "stream",
     "text": [
      "[I 2024-03-19 20:28:07,706] Trial 64 pruned. Trial was pruned at epoch 0.\n"
     ]
    },
    {
     "name": "stdout",
     "output_type": "stream",
     "text": [
      "Epoch 1/50\n",
      "413/416 [============================>.] - ETA: 0s - loss: 0.5367 - accuracy: 0.8316"
     ]
    },
    {
     "name": "stderr",
     "output_type": "stream",
     "text": [
      "[I 2024-03-19 20:28:09,589] Trial 65 pruned. Trial was pruned at epoch 0.\n"
     ]
    },
    {
     "name": "stdout",
     "output_type": "stream",
     "text": [
      "Epoch 1/50\n",
      "413/416 [============================>.] - ETA: 0s - loss: 0.5592 - accuracy: 0.8204"
     ]
    },
    {
     "name": "stderr",
     "output_type": "stream",
     "text": [
      "[I 2024-03-19 20:28:11,465] Trial 66 pruned. Trial was pruned at epoch 0.\n"
     ]
    },
    {
     "name": "stdout",
     "output_type": "stream",
     "text": [
      "Epoch 1/50\n",
      "412/416 [============================>.] - ETA: 0s - loss: 0.4888 - accuracy: 0.8415"
     ]
    },
    {
     "name": "stderr",
     "output_type": "stream",
     "text": [
      "[I 2024-03-19 20:28:13,286] Trial 67 pruned. Trial was pruned at epoch 0.\n"
     ]
    },
    {
     "name": "stdout",
     "output_type": "stream",
     "text": [
      "Epoch 1/50\n",
      "416/416 [==============================] - 2s 4ms/step - loss: 0.6368 - accuracy: 0.7945 - val_loss: 0.3546 - val_accuracy: 0.8925\n",
      "Epoch 2/50\n",
      "416/416 [==============================] - 2s 4ms/step - loss: 0.3615 - accuracy: 0.8836 - val_loss: 0.2813 - val_accuracy: 0.9052\n",
      "Epoch 3/50\n",
      "416/416 [==============================] - 2s 4ms/step - loss: 0.2786 - accuracy: 0.9137 - val_loss: 0.2112 - val_accuracy: 0.9226\n",
      "Epoch 4/50\n",
      "416/416 [==============================] - 2s 4ms/step - loss: 0.2263 - accuracy: 0.9287 - val_loss: 0.1781 - val_accuracy: 0.9344\n",
      "Epoch 5/50\n",
      "416/416 [==============================] - 2s 4ms/step - loss: 0.1957 - accuracy: 0.9372 - val_loss: 0.1529 - val_accuracy: 0.9470\n",
      "Epoch 6/50\n",
      "416/416 [==============================] - 2s 4ms/step - loss: 0.1658 - accuracy: 0.9490 - val_loss: 0.1341 - val_accuracy: 0.9509\n",
      "Epoch 7/50\n",
      "416/416 [==============================] - 2s 4ms/step - loss: 0.1421 - accuracy: 0.9552 - val_loss: 0.1230 - val_accuracy: 0.9567\n",
      "Epoch 8/50\n",
      "416/416 [==============================] - 2s 4ms/step - loss: 0.1315 - accuracy: 0.9584 - val_loss: 0.1095 - val_accuracy: 0.9651\n",
      "Epoch 9/50\n",
      "416/416 [==============================] - 2s 4ms/step - loss: 0.1127 - accuracy: 0.9642 - val_loss: 0.0996 - val_accuracy: 0.9675\n",
      "Epoch 10/50\n",
      "416/416 [==============================] - 2s 4ms/step - loss: 0.1056 - accuracy: 0.9674 - val_loss: 0.0899 - val_accuracy: 0.9720\n",
      "Epoch 11/50\n",
      "416/416 [==============================] - 2s 4ms/step - loss: 0.0987 - accuracy: 0.9697 - val_loss: 0.0800 - val_accuracy: 0.9726\n",
      "Epoch 12/50\n",
      "416/416 [==============================] - 2s 4ms/step - loss: 0.0874 - accuracy: 0.9725 - val_loss: 0.0824 - val_accuracy: 0.9723\n",
      "Epoch 13/50\n",
      "416/416 [==============================] - 2s 4ms/step - loss: 0.0780 - accuracy: 0.9758 - val_loss: 0.0718 - val_accuracy: 0.9777\n",
      "Epoch 14/50\n",
      "416/416 [==============================] - 2s 4ms/step - loss: 0.0751 - accuracy: 0.9756 - val_loss: 0.0729 - val_accuracy: 0.9777\n",
      "Epoch 15/50\n",
      "416/416 [==============================] - 2s 4ms/step - loss: 0.0681 - accuracy: 0.9798 - val_loss: 0.0717 - val_accuracy: 0.9789\n",
      "Epoch 16/50\n",
      "416/416 [==============================] - 2s 4ms/step - loss: 0.0631 - accuracy: 0.9801 - val_loss: 0.0669 - val_accuracy: 0.9798\n",
      "Epoch 17/50\n",
      "416/416 [==============================] - 2s 4ms/step - loss: 0.0591 - accuracy: 0.9817 - val_loss: 0.0649 - val_accuracy: 0.9795\n",
      "Epoch 18/50\n",
      "416/416 [==============================] - 2s 4ms/step - loss: 0.0565 - accuracy: 0.9822 - val_loss: 0.0650 - val_accuracy: 0.9822\n",
      "Epoch 19/50\n",
      "416/416 [==============================] - 2s 4ms/step - loss: 0.0533 - accuracy: 0.9824 - val_loss: 0.0597 - val_accuracy: 0.9816\n",
      "Epoch 20/50\n",
      "416/416 [==============================] - 2s 4ms/step - loss: 0.0529 - accuracy: 0.9823 - val_loss: 0.0605 - val_accuracy: 0.9810\n",
      "Epoch 21/50\n",
      "416/416 [==============================] - 2s 4ms/step - loss: 0.0484 - accuracy: 0.9846 - val_loss: 0.0580 - val_accuracy: 0.9846\n",
      "Epoch 22/50\n",
      "416/416 [==============================] - 2s 4ms/step - loss: 0.0445 - accuracy: 0.9861 - val_loss: 0.0592 - val_accuracy: 0.9825\n",
      "Epoch 23/50\n",
      "416/416 [==============================] - 2s 4ms/step - loss: 0.0408 - accuracy: 0.9880 - val_loss: 0.0615 - val_accuracy: 0.9837\n",
      "Epoch 24/50\n",
      "416/416 [==============================] - 2s 4ms/step - loss: 0.0389 - accuracy: 0.9878 - val_loss: 0.0566 - val_accuracy: 0.9828\n",
      "Epoch 25/50\n",
      "416/416 [==============================] - 2s 4ms/step - loss: 0.0379 - accuracy: 0.9888 - val_loss: 0.0525 - val_accuracy: 0.9837\n",
      "Epoch 26/50\n",
      "416/416 [==============================] - 2s 4ms/step - loss: 0.0356 - accuracy: 0.9890 - val_loss: 0.0551 - val_accuracy: 0.9856\n",
      "Epoch 27/50\n",
      "416/416 [==============================] - 2s 4ms/step - loss: 0.0321 - accuracy: 0.9910 - val_loss: 0.0560 - val_accuracy: 0.9831\n",
      "Epoch 28/50\n",
      "416/416 [==============================] - 2s 4ms/step - loss: 0.0323 - accuracy: 0.9895 - val_loss: 0.0544 - val_accuracy: 0.9834\n",
      "Epoch 29/50\n",
      "416/416 [==============================] - 2s 4ms/step - loss: 0.0318 - accuracy: 0.9895 - val_loss: 0.0566 - val_accuracy: 0.9813\n",
      "Epoch 30/50\n",
      "416/416 [==============================] - 2s 4ms/step - loss: 0.0291 - accuracy: 0.9905 - val_loss: 0.0575 - val_accuracy: 0.9852\n"
     ]
    },
    {
     "name": "stderr",
     "output_type": "stream",
     "text": [
      "[I 2024-03-19 20:29:02,255] Trial 68 finished with value: 0.9852498769760132 and parameters: {'num_layers': 2, 'layer_size': 285, 'dropout_rate': 0.11940999884519499, 'use_batch_norm': False, 'activation': 'tanh', 'learning_rate': 0.00011195019969690164}. Best is trial 10 with value: 0.987959086894989.\n"
     ]
    },
    {
     "name": "stdout",
     "output_type": "stream",
     "text": [
      "Epoch 1/50\n",
      "405/416 [============================>.] - ETA: 0s - loss: 0.4947 - accuracy: 0.8400"
     ]
    },
    {
     "name": "stderr",
     "output_type": "stream",
     "text": [
      "[I 2024-03-19 20:29:04,211] Trial 69 pruned. Trial was pruned at epoch 0.\n"
     ]
    },
    {
     "name": "stdout",
     "output_type": "stream",
     "text": [
      "Epoch 1/50\n",
      "416/416 [==============================] - 2s 4ms/step - loss: 0.5764 - accuracy: 0.8210 - val_loss: 0.3985 - val_accuracy: 0.8754\n",
      "Epoch 2/50\n",
      "416/416 [==============================] - 2s 4ms/step - loss: 0.3903 - accuracy: 0.8805 - val_loss: 0.2848 - val_accuracy: 0.9214\n",
      "Epoch 3/50\n",
      "416/416 [==============================] - 2s 4ms/step - loss: 0.3170 - accuracy: 0.9054 - val_loss: 0.2384 - val_accuracy: 0.9266\n",
      "Epoch 4/50\n",
      "416/416 [==============================] - 2s 4ms/step - loss: 0.2787 - accuracy: 0.9174 - val_loss: 0.2045 - val_accuracy: 0.9389\n",
      "Epoch 5/50\n",
      "416/416 [==============================] - 2s 4ms/step - loss: 0.2517 - accuracy: 0.9240 - val_loss: 0.1971 - val_accuracy: 0.9434\n",
      "Epoch 6/50\n",
      "416/416 [==============================] - 2s 4ms/step - loss: 0.2199 - accuracy: 0.9341 - val_loss: 0.1851 - val_accuracy: 0.9446\n",
      "Epoch 7/50\n",
      "416/416 [==============================] - 2s 4ms/step - loss: 0.2039 - accuracy: 0.9396 - val_loss: 0.1479 - val_accuracy: 0.9579\n",
      "Epoch 8/50\n",
      "416/416 [==============================] - 2s 4ms/step - loss: 0.1846 - accuracy: 0.9447 - val_loss: 0.1535 - val_accuracy: 0.9494\n",
      "Epoch 9/50\n",
      "416/416 [==============================] - 2s 4ms/step - loss: 0.1724 - accuracy: 0.9479 - val_loss: 0.1415 - val_accuracy: 0.9588\n",
      "Epoch 10/50\n",
      "416/416 [==============================] - 2s 4ms/step - loss: 0.1620 - accuracy: 0.9503 - val_loss: 0.1280 - val_accuracy: 0.9645\n",
      "Epoch 11/50\n",
      "416/416 [==============================] - 2s 4ms/step - loss: 0.1466 - accuracy: 0.9569 - val_loss: 0.1156 - val_accuracy: 0.9693\n",
      "Epoch 12/50\n",
      "416/416 [==============================] - 2s 4ms/step - loss: 0.1389 - accuracy: 0.9610 - val_loss: 0.1200 - val_accuracy: 0.9642\n",
      "Epoch 13/50\n",
      "416/416 [==============================] - 2s 4ms/step - loss: 0.1272 - accuracy: 0.9628 - val_loss: 0.1080 - val_accuracy: 0.9684\n",
      "Epoch 14/50\n",
      "416/416 [==============================] - 2s 4ms/step - loss: 0.1231 - accuracy: 0.9626 - val_loss: 0.1072 - val_accuracy: 0.9684\n",
      "Epoch 15/50\n",
      "416/416 [==============================] - 2s 4ms/step - loss: 0.1183 - accuracy: 0.9627 - val_loss: 0.1092 - val_accuracy: 0.9660\n",
      "Epoch 16/50\n",
      "416/416 [==============================] - 2s 4ms/step - loss: 0.1153 - accuracy: 0.9655 - val_loss: 0.1048 - val_accuracy: 0.9684\n",
      "Epoch 17/50\n",
      "416/416 [==============================] - 2s 4ms/step - loss: 0.1015 - accuracy: 0.9705 - val_loss: 0.0927 - val_accuracy: 0.9762\n",
      "Epoch 18/50\n",
      "416/416 [==============================] - 2s 4ms/step - loss: 0.0972 - accuracy: 0.9709 - val_loss: 0.0988 - val_accuracy: 0.9714\n",
      "Epoch 19/50\n",
      "416/416 [==============================] - 2s 4ms/step - loss: 0.0989 - accuracy: 0.9709 - val_loss: 0.0938 - val_accuracy: 0.9735\n",
      "Epoch 20/50\n",
      "416/416 [==============================] - 2s 4ms/step - loss: 0.0914 - accuracy: 0.9743 - val_loss: 0.0905 - val_accuracy: 0.9756\n",
      "Epoch 21/50\n",
      "416/416 [==============================] - 2s 4ms/step - loss: 0.0856 - accuracy: 0.9748 - val_loss: 0.0859 - val_accuracy: 0.9738\n",
      "Epoch 22/50\n",
      "416/416 [==============================] - 2s 4ms/step - loss: 0.0812 - accuracy: 0.9764 - val_loss: 0.0760 - val_accuracy: 0.9807\n",
      "Epoch 23/50\n",
      "416/416 [==============================] - 2s 4ms/step - loss: 0.0805 - accuracy: 0.9770 - val_loss: 0.0766 - val_accuracy: 0.9801\n",
      "Epoch 24/50\n",
      "416/416 [==============================] - 2s 4ms/step - loss: 0.0805 - accuracy: 0.9775 - val_loss: 0.0769 - val_accuracy: 0.9774\n",
      "Epoch 25/50\n",
      "416/416 [==============================] - 2s 4ms/step - loss: 0.0701 - accuracy: 0.9798 - val_loss: 0.0749 - val_accuracy: 0.9771\n",
      "Epoch 26/50\n",
      "416/416 [==============================] - 2s 4ms/step - loss: 0.0686 - accuracy: 0.9804 - val_loss: 0.0776 - val_accuracy: 0.9741\n",
      "Epoch 27/50\n",
      "416/416 [==============================] - 2s 4ms/step - loss: 0.0661 - accuracy: 0.9817 - val_loss: 0.0707 - val_accuracy: 0.9789\n",
      "Epoch 28/50\n",
      "416/416 [==============================] - 2s 4ms/step - loss: 0.0658 - accuracy: 0.9825 - val_loss: 0.0702 - val_accuracy: 0.9816\n",
      "Epoch 29/50\n",
      "416/416 [==============================] - 2s 4ms/step - loss: 0.0663 - accuracy: 0.9811 - val_loss: 0.0684 - val_accuracy: 0.9801\n",
      "Epoch 30/50\n",
      "416/416 [==============================] - 2s 4ms/step - loss: 0.0573 - accuracy: 0.9837 - val_loss: 0.0758 - val_accuracy: 0.9789\n",
      "Epoch 31/50\n",
      "416/416 [==============================] - 2s 4ms/step - loss: 0.0582 - accuracy: 0.9840 - val_loss: 0.0713 - val_accuracy: 0.9771\n",
      "Epoch 32/50\n",
      "416/416 [==============================] - 2s 4ms/step - loss: 0.0561 - accuracy: 0.9839 - val_loss: 0.0629 - val_accuracy: 0.9810\n",
      "Epoch 33/50\n",
      "416/416 [==============================] - 2s 4ms/step - loss: 0.0606 - accuracy: 0.9834 - val_loss: 0.0591 - val_accuracy: 0.9834\n",
      "Epoch 34/50\n",
      "416/416 [==============================] - 2s 4ms/step - loss: 0.0581 - accuracy: 0.9834 - val_loss: 0.0670 - val_accuracy: 0.9828\n",
      "Epoch 35/50\n",
      "416/416 [==============================] - 2s 4ms/step - loss: 0.0536 - accuracy: 0.9852 - val_loss: 0.0602 - val_accuracy: 0.9840\n",
      "Epoch 36/50\n",
      "416/416 [==============================] - 2s 4ms/step - loss: 0.0504 - accuracy: 0.9869 - val_loss: 0.0638 - val_accuracy: 0.9798\n",
      "Epoch 37/50\n",
      "416/416 [==============================] - 2s 4ms/step - loss: 0.0465 - accuracy: 0.9878 - val_loss: 0.0587 - val_accuracy: 0.9828\n",
      "Epoch 38/50\n",
      "416/416 [==============================] - 2s 4ms/step - loss: 0.0481 - accuracy: 0.9865 - val_loss: 0.0667 - val_accuracy: 0.9819\n"
     ]
    },
    {
     "name": "stderr",
     "output_type": "stream",
     "text": [
      "[I 2024-03-19 20:30:05,528] Trial 70 finished with value: 0.9819386005401611 and parameters: {'num_layers': 1, 'layer_size': 760, 'dropout_rate': 0.15954728376816632, 'use_batch_norm': True, 'activation': 'tanh', 'learning_rate': 0.000125547663308625}. Best is trial 10 with value: 0.987959086894989.\n"
     ]
    },
    {
     "name": "stdout",
     "output_type": "stream",
     "text": [
      "Epoch 1/50\n",
      "416/416 [==============================] - 2s 4ms/step - loss: 0.5673 - accuracy: 0.8187 - val_loss: 0.3439 - val_accuracy: 0.8895\n",
      "Epoch 2/50\n",
      "416/416 [==============================] - 1s 3ms/step - loss: 0.3293 - accuracy: 0.8987 - val_loss: 0.2569 - val_accuracy: 0.9190\n",
      "Epoch 3/50\n",
      "416/416 [==============================] - 1s 3ms/step - loss: 0.2558 - accuracy: 0.9197 - val_loss: 0.2079 - val_accuracy: 0.9278\n",
      "Epoch 4/50\n",
      "416/416 [==============================] - 1s 3ms/step - loss: 0.2057 - accuracy: 0.9346 - val_loss: 0.1761 - val_accuracy: 0.9419\n",
      "Epoch 5/50\n",
      "416/416 [==============================] - 1s 3ms/step - loss: 0.1725 - accuracy: 0.9460 - val_loss: 0.1456 - val_accuracy: 0.9545\n",
      "Epoch 6/50\n",
      "416/416 [==============================] - 1s 3ms/step - loss: 0.1507 - accuracy: 0.9533 - val_loss: 0.1295 - val_accuracy: 0.9564\n",
      "Epoch 7/50\n",
      "416/416 [==============================] - 1s 3ms/step - loss: 0.1250 - accuracy: 0.9613 - val_loss: 0.1182 - val_accuracy: 0.9636\n",
      "Epoch 8/50\n",
      "416/416 [==============================] - 1s 3ms/step - loss: 0.1117 - accuracy: 0.9684 - val_loss: 0.1026 - val_accuracy: 0.9648\n",
      "Epoch 9/50\n",
      "416/416 [==============================] - 1s 3ms/step - loss: 0.0996 - accuracy: 0.9715 - val_loss: 0.0962 - val_accuracy: 0.9693\n",
      "Epoch 10/50\n",
      "416/416 [==============================] - 1s 3ms/step - loss: 0.0855 - accuracy: 0.9773 - val_loss: 0.0917 - val_accuracy: 0.9696\n",
      "Epoch 11/50\n",
      "416/416 [==============================] - 1s 3ms/step - loss: 0.0789 - accuracy: 0.9782 - val_loss: 0.0812 - val_accuracy: 0.9768\n",
      "Epoch 12/50\n",
      "416/416 [==============================] - 1s 3ms/step - loss: 0.0717 - accuracy: 0.9809 - val_loss: 0.0777 - val_accuracy: 0.9780\n",
      "Epoch 13/50\n",
      "416/416 [==============================] - 1s 3ms/step - loss: 0.0623 - accuracy: 0.9837 - val_loss: 0.0700 - val_accuracy: 0.9786\n",
      "Epoch 14/50\n",
      "416/416 [==============================] - 1s 3ms/step - loss: 0.0580 - accuracy: 0.9853 - val_loss: 0.0668 - val_accuracy: 0.9801\n",
      "Epoch 15/50\n",
      "416/416 [==============================] - 1s 3ms/step - loss: 0.0541 - accuracy: 0.9849 - val_loss: 0.0653 - val_accuracy: 0.9804\n",
      "Epoch 16/50\n",
      "416/416 [==============================] - 1s 3ms/step - loss: 0.0486 - accuracy: 0.9886 - val_loss: 0.0605 - val_accuracy: 0.9825\n",
      "Epoch 17/50\n",
      "416/416 [==============================] - 1s 3ms/step - loss: 0.0444 - accuracy: 0.9886 - val_loss: 0.0606 - val_accuracy: 0.9828\n",
      "Epoch 18/50\n",
      "416/416 [==============================] - 1s 3ms/step - loss: 0.0394 - accuracy: 0.9909 - val_loss: 0.0627 - val_accuracy: 0.9816\n",
      "Epoch 19/50\n",
      "416/416 [==============================] - 1s 3ms/step - loss: 0.0384 - accuracy: 0.9909 - val_loss: 0.0559 - val_accuracy: 0.9837\n",
      "Epoch 20/50\n",
      "416/416 [==============================] - 1s 4ms/step - loss: 0.0341 - accuracy: 0.9927 - val_loss: 0.0558 - val_accuracy: 0.9831\n",
      "Epoch 21/50\n",
      "416/416 [==============================] - 1s 3ms/step - loss: 0.0323 - accuracy: 0.9922 - val_loss: 0.0519 - val_accuracy: 0.9874\n",
      "Epoch 22/50\n",
      "416/416 [==============================] - 1s 3ms/step - loss: 0.0289 - accuracy: 0.9940 - val_loss: 0.0511 - val_accuracy: 0.9843\n",
      "Epoch 23/50\n",
      "416/416 [==============================] - 1s 3ms/step - loss: 0.0259 - accuracy: 0.9944 - val_loss: 0.0498 - val_accuracy: 0.9862\n",
      "Epoch 24/50\n",
      "416/416 [==============================] - 1s 3ms/step - loss: 0.0265 - accuracy: 0.9933 - val_loss: 0.0560 - val_accuracy: 0.9837\n",
      "Epoch 25/50\n",
      "416/416 [==============================] - 1s 3ms/step - loss: 0.0241 - accuracy: 0.9950 - val_loss: 0.0502 - val_accuracy: 0.9843\n",
      "Epoch 26/50\n",
      "416/416 [==============================] - 1s 3ms/step - loss: 0.0234 - accuracy: 0.9951 - val_loss: 0.0508 - val_accuracy: 0.9846\n",
      "Epoch 27/50\n",
      "416/416 [==============================] - 1s 3ms/step - loss: 0.0211 - accuracy: 0.9957 - val_loss: 0.0513 - val_accuracy: 0.9846\n",
      "Epoch 28/50\n",
      "416/416 [==============================] - 1s 3ms/step - loss: 0.0197 - accuracy: 0.9965 - val_loss: 0.0461 - val_accuracy: 0.9862\n",
      "Epoch 29/50\n",
      "416/416 [==============================] - 1s 3ms/step - loss: 0.0183 - accuracy: 0.9965 - val_loss: 0.0472 - val_accuracy: 0.9859\n",
      "Epoch 30/50\n",
      "416/416 [==============================] - 1s 3ms/step - loss: 0.0178 - accuracy: 0.9962 - val_loss: 0.0490 - val_accuracy: 0.9852\n",
      "Epoch 31/50\n",
      "416/416 [==============================] - 1s 3ms/step - loss: 0.0172 - accuracy: 0.9968 - val_loss: 0.0489 - val_accuracy: 0.9865\n",
      "Epoch 32/50\n",
      "416/416 [==============================] - 1s 3ms/step - loss: 0.0146 - accuracy: 0.9977 - val_loss: 0.0468 - val_accuracy: 0.9871\n",
      "Epoch 33/50\n",
      "416/416 [==============================] - 1s 3ms/step - loss: 0.0157 - accuracy: 0.9968 - val_loss: 0.0481 - val_accuracy: 0.9852\n"
     ]
    },
    {
     "name": "stderr",
     "output_type": "stream",
     "text": [
      "[I 2024-03-19 20:30:52,224] Trial 71 finished with value: 0.9852498769760132 and parameters: {'num_layers': 1, 'layer_size': 660, 'dropout_rate': 0.1328380306525573, 'use_batch_norm': False, 'activation': 'tanh', 'learning_rate': 0.00010028333971593998}. Best is trial 10 with value: 0.987959086894989.\n"
     ]
    },
    {
     "name": "stdout",
     "output_type": "stream",
     "text": [
      "Epoch 1/50\n",
      "410/416 [============================>.] - ETA: 0s - loss: 0.5397 - accuracy: 0.8291"
     ]
    },
    {
     "name": "stderr",
     "output_type": "stream",
     "text": [
      "[I 2024-03-19 20:30:54,107] Trial 72 pruned. Trial was pruned at epoch 0.\n"
     ]
    },
    {
     "name": "stdout",
     "output_type": "stream",
     "text": [
      "Epoch 1/50\n",
      "416/416 [==============================] - ETA: 0s - loss: 0.5329 - accuracy: 0.8306"
     ]
    },
    {
     "name": "stderr",
     "output_type": "stream",
     "text": [
      "[I 2024-03-19 20:30:55,980] Trial 73 pruned. Trial was pruned at epoch 0.\n"
     ]
    },
    {
     "name": "stdout",
     "output_type": "stream",
     "text": [
      "Epoch 1/50\n",
      "407/416 [============================>.] - ETA: 0s - loss: 0.5464 - accuracy: 0.8236"
     ]
    },
    {
     "name": "stderr",
     "output_type": "stream",
     "text": [
      "[I 2024-03-19 20:30:57,883] Trial 74 pruned. Trial was pruned at epoch 0.\n"
     ]
    },
    {
     "name": "stdout",
     "output_type": "stream",
     "text": [
      "Epoch 1/50\n",
      "407/416 [============================>.] - ETA: 0s - loss: 0.5800 - accuracy: 0.8126"
     ]
    },
    {
     "name": "stderr",
     "output_type": "stream",
     "text": [
      "[I 2024-03-19 20:30:59,692] Trial 75 pruned. Trial was pruned at epoch 0.\n"
     ]
    },
    {
     "name": "stdout",
     "output_type": "stream",
     "text": [
      "Epoch 1/50\n",
      "404/416 [============================>.] - ETA: 0s - loss: 0.4265 - accuracy: 0.8606"
     ]
    },
    {
     "name": "stderr",
     "output_type": "stream",
     "text": [
      "[I 2024-03-19 20:31:01,608] Trial 76 pruned. Trial was pruned at epoch 0.\n"
     ]
    },
    {
     "name": "stdout",
     "output_type": "stream",
     "text": [
      "Epoch 1/50\n",
      "  1/416 [..............................] - ETA: 1:39 - loss: 2.1846 - accuracy: 0.2188WARNING:tensorflow:Callback method `on_train_batch_end` is slow compared to the batch time (batch time: 0.0000s vs `on_train_batch_end` time: 0.0026s). Check your callbacks.\n",
      "409/416 [============================>.] - ETA: 0s - loss: 0.5516 - accuracy: 0.8239"
     ]
    },
    {
     "name": "stderr",
     "output_type": "stream",
     "text": [
      "[I 2024-03-19 20:31:03,513] Trial 77 pruned. Trial was pruned at epoch 0.\n"
     ]
    },
    {
     "name": "stdout",
     "output_type": "stream",
     "text": [
      "Epoch 1/50\n",
      "403/416 [============================>.] - ETA: 0s - loss: 0.5528 - accuracy: 0.8205"
     ]
    },
    {
     "name": "stderr",
     "output_type": "stream",
     "text": [
      "[I 2024-03-19 20:31:05,375] Trial 78 pruned. Trial was pruned at epoch 0.\n"
     ]
    },
    {
     "name": "stdout",
     "output_type": "stream",
     "text": [
      "Epoch 1/50\n",
      "416/416 [==============================] - 2s 3ms/step - loss: 0.5767 - accuracy: 0.8154 - val_loss: 0.3463 - val_accuracy: 0.8958\n",
      "Epoch 2/50\n",
      "416/416 [==============================] - 1s 3ms/step - loss: 0.3209 - accuracy: 0.9025 - val_loss: 0.2540 - val_accuracy: 0.9214\n",
      "Epoch 3/50\n",
      "416/416 [==============================] - 1s 3ms/step - loss: 0.2547 - accuracy: 0.9216 - val_loss: 0.2108 - val_accuracy: 0.9320\n",
      "Epoch 4/50\n",
      "416/416 [==============================] - 1s 3ms/step - loss: 0.2018 - accuracy: 0.9368 - val_loss: 0.1664 - val_accuracy: 0.9449\n",
      "Epoch 5/50\n",
      "416/416 [==============================] - 1s 3ms/step - loss: 0.1691 - accuracy: 0.9490 - val_loss: 0.1467 - val_accuracy: 0.9551\n",
      "Epoch 6/50\n",
      "416/416 [==============================] - 1s 3ms/step - loss: 0.1407 - accuracy: 0.9595 - val_loss: 0.1292 - val_accuracy: 0.9609\n",
      "Epoch 7/50\n",
      "416/416 [==============================] - 1s 3ms/step - loss: 0.1239 - accuracy: 0.9654 - val_loss: 0.1162 - val_accuracy: 0.9663\n",
      "Epoch 8/50\n",
      "416/416 [==============================] - 1s 3ms/step - loss: 0.1084 - accuracy: 0.9700 - val_loss: 0.1026 - val_accuracy: 0.9720\n",
      "Epoch 9/50\n",
      "416/416 [==============================] - 1s 3ms/step - loss: 0.0950 - accuracy: 0.9740 - val_loss: 0.0940 - val_accuracy: 0.9729\n",
      "Epoch 10/50\n",
      "416/416 [==============================] - 1s 3ms/step - loss: 0.0844 - accuracy: 0.9774 - val_loss: 0.0854 - val_accuracy: 0.9741\n",
      "Epoch 11/50\n",
      "416/416 [==============================] - 1s 3ms/step - loss: 0.0760 - accuracy: 0.9803 - val_loss: 0.0786 - val_accuracy: 0.9774\n",
      "Epoch 12/50\n",
      "416/416 [==============================] - 1s 3ms/step - loss: 0.0701 - accuracy: 0.9814 - val_loss: 0.0750 - val_accuracy: 0.9786\n",
      "Epoch 13/50\n",
      "416/416 [==============================] - 1s 3ms/step - loss: 0.0613 - accuracy: 0.9849 - val_loss: 0.0678 - val_accuracy: 0.9792\n",
      "Epoch 14/50\n",
      "416/416 [==============================] - 1s 3ms/step - loss: 0.0544 - accuracy: 0.9871 - val_loss: 0.0670 - val_accuracy: 0.9813\n",
      "Epoch 15/50\n",
      "416/416 [==============================] - 1s 3ms/step - loss: 0.0522 - accuracy: 0.9869 - val_loss: 0.0618 - val_accuracy: 0.9831\n",
      "Epoch 16/50\n",
      "416/416 [==============================] - 1s 3ms/step - loss: 0.0468 - accuracy: 0.9889 - val_loss: 0.0613 - val_accuracy: 0.9810\n",
      "Epoch 17/50\n",
      "416/416 [==============================] - 1s 3ms/step - loss: 0.0447 - accuracy: 0.9890 - val_loss: 0.0597 - val_accuracy: 0.9831\n",
      "Epoch 18/50\n",
      "416/416 [==============================] - 1s 3ms/step - loss: 0.0379 - accuracy: 0.9916 - val_loss: 0.0587 - val_accuracy: 0.9819\n",
      "Epoch 19/50\n",
      "416/416 [==============================] - 1s 3ms/step - loss: 0.0377 - accuracy: 0.9910 - val_loss: 0.0588 - val_accuracy: 0.9828\n",
      "Epoch 20/50\n",
      "416/416 [==============================] - 1s 3ms/step - loss: 0.0346 - accuracy: 0.9907 - val_loss: 0.0563 - val_accuracy: 0.9834\n",
      "Epoch 21/50\n",
      "416/416 [==============================] - 1s 3ms/step - loss: 0.0316 - accuracy: 0.9932 - val_loss: 0.0528 - val_accuracy: 0.9846\n",
      "Epoch 22/50\n",
      "416/416 [==============================] - 1s 3ms/step - loss: 0.0312 - accuracy: 0.9916 - val_loss: 0.0522 - val_accuracy: 0.9852\n",
      "Epoch 23/50\n",
      "416/416 [==============================] - 1s 3ms/step - loss: 0.0272 - accuracy: 0.9944 - val_loss: 0.0535 - val_accuracy: 0.9849\n",
      "Epoch 24/50\n",
      "416/416 [==============================] - 1s 3ms/step - loss: 0.0253 - accuracy: 0.9946 - val_loss: 0.0544 - val_accuracy: 0.9837\n",
      "Epoch 25/50\n",
      "416/416 [==============================] - 1s 3ms/step - loss: 0.0239 - accuracy: 0.9943 - val_loss: 0.0515 - val_accuracy: 0.9852\n",
      "Epoch 26/50\n",
      "416/416 [==============================] - 1s 3ms/step - loss: 0.0216 - accuracy: 0.9957 - val_loss: 0.0512 - val_accuracy: 0.9852\n",
      "Epoch 27/50\n",
      "416/416 [==============================] - 1s 3ms/step - loss: 0.0214 - accuracy: 0.9952 - val_loss: 0.0479 - val_accuracy: 0.9859\n",
      "Epoch 28/50\n",
      "416/416 [==============================] - 1s 3ms/step - loss: 0.0192 - accuracy: 0.9967 - val_loss: 0.0500 - val_accuracy: 0.9856\n",
      "Epoch 29/50\n",
      "416/416 [==============================] - 1s 3ms/step - loss: 0.0191 - accuracy: 0.9965 - val_loss: 0.0466 - val_accuracy: 0.9874\n",
      "Epoch 30/50\n",
      "416/416 [==============================] - 1s 3ms/step - loss: 0.0166 - accuracy: 0.9971 - val_loss: 0.0462 - val_accuracy: 0.9877\n",
      "Epoch 31/50\n",
      "416/416 [==============================] - 1s 3ms/step - loss: 0.0170 - accuracy: 0.9970 - val_loss: 0.0479 - val_accuracy: 0.9852\n",
      "Epoch 32/50\n",
      "416/416 [==============================] - 1s 3ms/step - loss: 0.0149 - accuracy: 0.9975 - val_loss: 0.0451 - val_accuracy: 0.9874\n",
      "Epoch 33/50\n",
      "416/416 [==============================] - 1s 3ms/step - loss: 0.0151 - accuracy: 0.9974 - val_loss: 0.0483 - val_accuracy: 0.9874\n",
      "Epoch 34/50\n",
      "416/416 [==============================] - 1s 3ms/step - loss: 0.0136 - accuracy: 0.9972 - val_loss: 0.0481 - val_accuracy: 0.9849\n",
      "Epoch 35/50\n",
      "416/416 [==============================] - 1s 3ms/step - loss: 0.0131 - accuracy: 0.9977 - val_loss: 0.0463 - val_accuracy: 0.9868\n",
      "Epoch 36/50\n",
      "416/416 [==============================] - 1s 3ms/step - loss: 0.0125 - accuracy: 0.9971 - val_loss: 0.0452 - val_accuracy: 0.9862\n",
      "Epoch 37/50\n",
      "416/416 [==============================] - 1s 3ms/step - loss: 0.0110 - accuracy: 0.9981 - val_loss: 0.0448 - val_accuracy: 0.9871\n"
     ]
    },
    {
     "name": "stderr",
     "output_type": "stream",
     "text": [
      "[I 2024-03-19 20:31:53,400] Trial 79 finished with value: 0.9870560169219971 and parameters: {'num_layers': 1, 'layer_size': 576, 'dropout_rate': 0.11490700020310449, 'use_batch_norm': False, 'activation': 'tanh', 'learning_rate': 0.0001060880228915066}. Best is trial 10 with value: 0.987959086894989.\n"
     ]
    },
    {
     "name": "stdout",
     "output_type": "stream",
     "text": [
      "Epoch 1/50\n",
      "411/416 [============================>.] - ETA: 0s - loss: 0.5172 - accuracy: 0.8342"
     ]
    },
    {
     "name": "stderr",
     "output_type": "stream",
     "text": [
      "[I 2024-03-19 20:31:55,252] Trial 80 pruned. Trial was pruned at epoch 0.\n"
     ]
    },
    {
     "name": "stdout",
     "output_type": "stream",
     "text": [
      "Epoch 1/50\n",
      "403/416 [============================>.] - ETA: 0s - loss: 0.5306 - accuracy: 0.8327"
     ]
    },
    {
     "name": "stderr",
     "output_type": "stream",
     "text": [
      "[I 2024-03-19 20:31:57,107] Trial 81 pruned. Trial was pruned at epoch 0.\n"
     ]
    },
    {
     "name": "stdout",
     "output_type": "stream",
     "text": [
      "Epoch 1/50\n",
      "411/416 [============================>.] - ETA: 0s - loss: 0.5601 - accuracy: 0.8194"
     ]
    },
    {
     "name": "stderr",
     "output_type": "stream",
     "text": [
      "[I 2024-03-19 20:31:58,867] Trial 82 pruned. Trial was pruned at epoch 0.\n"
     ]
    },
    {
     "name": "stdout",
     "output_type": "stream",
     "text": [
      "Epoch 1/50\n",
      "414/416 [============================>.] - ETA: 0s - loss: 0.5469 - accuracy: 0.8218"
     ]
    },
    {
     "name": "stderr",
     "output_type": "stream",
     "text": [
      "[I 2024-03-19 20:32:00,729] Trial 83 pruned. Trial was pruned at epoch 0.\n"
     ]
    },
    {
     "name": "stdout",
     "output_type": "stream",
     "text": [
      "Epoch 1/50\n",
      "416/416 [==============================] - 2s 4ms/step - loss: 0.5949 - accuracy: 0.8092 - val_loss: 0.3540 - val_accuracy: 0.8952\n",
      "Epoch 2/50\n",
      "416/416 [==============================] - 1s 3ms/step - loss: 0.3454 - accuracy: 0.8899 - val_loss: 0.2670 - val_accuracy: 0.9145\n",
      "Epoch 3/50\n",
      "416/416 [==============================] - 1s 3ms/step - loss: 0.2635 - accuracy: 0.9170 - val_loss: 0.2179 - val_accuracy: 0.9287\n",
      "Epoch 4/50\n",
      "416/416 [==============================] - 1s 3ms/step - loss: 0.2150 - accuracy: 0.9317 - val_loss: 0.1818 - val_accuracy: 0.9380\n",
      "Epoch 5/50\n",
      "416/416 [==============================] - 1s 3ms/step - loss: 0.1785 - accuracy: 0.9450 - val_loss: 0.1535 - val_accuracy: 0.9497\n",
      "Epoch 6/50\n",
      "416/416 [==============================] - 1s 3ms/step - loss: 0.1533 - accuracy: 0.9538 - val_loss: 0.1318 - val_accuracy: 0.9545\n",
      "Epoch 7/50\n",
      "416/416 [==============================] - 1s 3ms/step - loss: 0.1345 - accuracy: 0.9598 - val_loss: 0.1167 - val_accuracy: 0.9651\n",
      "Epoch 8/50\n",
      "416/416 [==============================] - 1s 3ms/step - loss: 0.1183 - accuracy: 0.9659 - val_loss: 0.1066 - val_accuracy: 0.9672\n",
      "Epoch 9/50\n",
      "416/416 [==============================] - 1s 3ms/step - loss: 0.1058 - accuracy: 0.9696 - val_loss: 0.0954 - val_accuracy: 0.9723\n",
      "Epoch 10/50\n",
      "416/416 [==============================] - 1s 3ms/step - loss: 0.0947 - accuracy: 0.9739 - val_loss: 0.0922 - val_accuracy: 0.9726\n",
      "Epoch 11/50\n",
      "416/416 [==============================] - 1s 3ms/step - loss: 0.0881 - accuracy: 0.9758 - val_loss: 0.0804 - val_accuracy: 0.9768\n",
      "Epoch 12/50\n",
      "416/416 [==============================] - 1s 3ms/step - loss: 0.0782 - accuracy: 0.9794 - val_loss: 0.0781 - val_accuracy: 0.9762\n",
      "Epoch 13/50\n",
      "416/416 [==============================] - 1s 3ms/step - loss: 0.0728 - accuracy: 0.9809 - val_loss: 0.0736 - val_accuracy: 0.9786\n",
      "Epoch 14/50\n",
      "416/416 [==============================] - 1s 3ms/step - loss: 0.0677 - accuracy: 0.9810 - val_loss: 0.0713 - val_accuracy: 0.9750\n",
      "Epoch 15/50\n",
      "416/416 [==============================] - 1s 3ms/step - loss: 0.0630 - accuracy: 0.9838 - val_loss: 0.0678 - val_accuracy: 0.9810\n",
      "Epoch 16/50\n",
      "416/416 [==============================] - 1s 3ms/step - loss: 0.0556 - accuracy: 0.9856 - val_loss: 0.0629 - val_accuracy: 0.9813\n",
      "Epoch 17/50\n",
      "416/416 [==============================] - 1s 3ms/step - loss: 0.0518 - accuracy: 0.9871 - val_loss: 0.0621 - val_accuracy: 0.9825\n",
      "Epoch 18/50\n",
      "416/416 [==============================] - 1s 3ms/step - loss: 0.0474 - accuracy: 0.9870 - val_loss: 0.0568 - val_accuracy: 0.9828\n",
      "Epoch 19/50\n",
      "416/416 [==============================] - 1s 3ms/step - loss: 0.0445 - accuracy: 0.9889 - val_loss: 0.0567 - val_accuracy: 0.9831\n",
      "Epoch 20/50\n",
      "416/416 [==============================] - 1s 3ms/step - loss: 0.0415 - accuracy: 0.9896 - val_loss: 0.0601 - val_accuracy: 0.9819\n",
      "Epoch 21/50\n",
      "416/416 [==============================] - 1s 3ms/step - loss: 0.0390 - accuracy: 0.9904 - val_loss: 0.0554 - val_accuracy: 0.9834\n",
      "Epoch 22/50\n",
      "416/416 [==============================] - 1s 3ms/step - loss: 0.0357 - accuracy: 0.9904 - val_loss: 0.0562 - val_accuracy: 0.9810\n",
      "Epoch 23/50\n",
      "416/416 [==============================] - 1s 3ms/step - loss: 0.0336 - accuracy: 0.9923 - val_loss: 0.0516 - val_accuracy: 0.9837\n",
      "Epoch 24/50\n",
      "416/416 [==============================] - 1s 3ms/step - loss: 0.0315 - accuracy: 0.9929 - val_loss: 0.0543 - val_accuracy: 0.9852\n",
      "Epoch 25/50\n",
      "416/416 [==============================] - 1s 3ms/step - loss: 0.0299 - accuracy: 0.9935 - val_loss: 0.0522 - val_accuracy: 0.9849\n",
      "Epoch 26/50\n",
      "416/416 [==============================] - 1s 3ms/step - loss: 0.0285 - accuracy: 0.9944 - val_loss: 0.0532 - val_accuracy: 0.9846\n",
      "Epoch 27/50\n",
      "416/416 [==============================] - 1s 3ms/step - loss: 0.0281 - accuracy: 0.9935 - val_loss: 0.0540 - val_accuracy: 0.9837\n",
      "Epoch 28/50\n",
      "416/416 [==============================] - 1s 3ms/step - loss: 0.0260 - accuracy: 0.9938 - val_loss: 0.0489 - val_accuracy: 0.9865\n",
      "Epoch 29/50\n",
      "416/416 [==============================] - 1s 3ms/step - loss: 0.0245 - accuracy: 0.9943 - val_loss: 0.0503 - val_accuracy: 0.9843\n",
      "Epoch 30/50\n",
      "416/416 [==============================] - 1s 3ms/step - loss: 0.0220 - accuracy: 0.9954 - val_loss: 0.0473 - val_accuracy: 0.9862\n",
      "Epoch 31/50\n",
      "416/416 [==============================] - 1s 3ms/step - loss: 0.0229 - accuracy: 0.9945 - val_loss: 0.0486 - val_accuracy: 0.9856\n",
      "Epoch 32/50\n",
      "416/416 [==============================] - 1s 3ms/step - loss: 0.0200 - accuracy: 0.9960 - val_loss: 0.0451 - val_accuracy: 0.9862\n",
      "Epoch 33/50\n",
      "416/416 [==============================] - 1s 3ms/step - loss: 0.0202 - accuracy: 0.9957 - val_loss: 0.0447 - val_accuracy: 0.9883\n",
      "Epoch 34/50\n",
      "416/416 [==============================] - 1s 3ms/step - loss: 0.0211 - accuracy: 0.9945 - val_loss: 0.0485 - val_accuracy: 0.9856\n",
      "Epoch 35/50\n",
      "416/416 [==============================] - 1s 3ms/step - loss: 0.0177 - accuracy: 0.9962 - val_loss: 0.0466 - val_accuracy: 0.9865\n",
      "Epoch 36/50\n",
      "416/416 [==============================] - 1s 4ms/step - loss: 0.0161 - accuracy: 0.9970 - val_loss: 0.0452 - val_accuracy: 0.9871\n",
      "Epoch 37/50\n",
      "416/416 [==============================] - 1s 4ms/step - loss: 0.0162 - accuracy: 0.9966 - val_loss: 0.0449 - val_accuracy: 0.9868\n"
     ]
    },
    {
     "name": "stderr",
     "output_type": "stream",
     "text": [
      "[I 2024-03-19 20:32:54,361] Trial 84 finished with value: 0.9867549538612366 and parameters: {'num_layers': 1, 'layer_size': 465, 'dropout_rate': 0.13645046663521485, 'use_batch_norm': False, 'activation': 'tanh', 'learning_rate': 0.00012339564439166133}. Best is trial 10 with value: 0.987959086894989.\n"
     ]
    },
    {
     "name": "stdout",
     "output_type": "stream",
     "text": [
      "Epoch 1/50\n",
      "401/416 [===========================>..] - ETA: 0s - loss: 0.5613 - accuracy: 0.8258"
     ]
    },
    {
     "name": "stderr",
     "output_type": "stream",
     "text": [
      "[I 2024-03-19 20:32:56,446] Trial 85 pruned. Trial was pruned at epoch 0.\n"
     ]
    },
    {
     "name": "stdout",
     "output_type": "stream",
     "text": [
      "Epoch 1/50\n",
      "412/416 [============================>.] - ETA: 0s - loss: 0.5317 - accuracy: 0.8313"
     ]
    },
    {
     "name": "stderr",
     "output_type": "stream",
     "text": [
      "[I 2024-03-19 20:32:58,346] Trial 86 pruned. Trial was pruned at epoch 0.\n"
     ]
    },
    {
     "name": "stdout",
     "output_type": "stream",
     "text": [
      "Epoch 1/50\n",
      "413/416 [============================>.] - ETA: 0s - loss: 0.4077 - accuracy: 0.8691"
     ]
    },
    {
     "name": "stderr",
     "output_type": "stream",
     "text": [
      "[I 2024-03-19 20:33:00,194] Trial 87 pruned. Trial was pruned at epoch 0.\n"
     ]
    },
    {
     "name": "stdout",
     "output_type": "stream",
     "text": [
      "Epoch 1/50\n",
      "408/416 [============================>.] - ETA: 0s - loss: 0.5589 - accuracy: 0.8205"
     ]
    },
    {
     "name": "stderr",
     "output_type": "stream",
     "text": [
      "[I 2024-03-19 20:33:02,023] Trial 88 pruned. Trial was pruned at epoch 0.\n"
     ]
    },
    {
     "name": "stdout",
     "output_type": "stream",
     "text": [
      "Epoch 1/50\n",
      "407/416 [============================>.] - ETA: 0s - loss: 0.5278 - accuracy: 0.8289"
     ]
    },
    {
     "name": "stderr",
     "output_type": "stream",
     "text": [
      "[I 2024-03-19 20:33:03,961] Trial 89 pruned. Trial was pruned at epoch 0.\n"
     ]
    },
    {
     "name": "stdout",
     "output_type": "stream",
     "text": [
      "Epoch 1/50\n",
      "401/416 [===========================>..] - ETA: 0s - loss: 0.5269 - accuracy: 0.8318"
     ]
    },
    {
     "name": "stderr",
     "output_type": "stream",
     "text": [
      "[I 2024-03-19 20:33:05,847] Trial 90 pruned. Trial was pruned at epoch 0.\n"
     ]
    },
    {
     "name": "stdout",
     "output_type": "stream",
     "text": [
      "Epoch 1/50\n",
      "416/416 [==============================] - 2s 3ms/step - loss: 0.5782 - accuracy: 0.8138 - val_loss: 0.3605 - val_accuracy: 0.8811\n",
      "Epoch 2/50\n",
      "416/416 [==============================] - 1s 3ms/step - loss: 0.3299 - accuracy: 0.8988 - val_loss: 0.2524 - val_accuracy: 0.9214\n",
      "Epoch 3/50\n",
      "416/416 [==============================] - 1s 3ms/step - loss: 0.2565 - accuracy: 0.9192 - val_loss: 0.2050 - val_accuracy: 0.9299\n",
      "Epoch 4/50\n",
      "416/416 [==============================] - 1s 3ms/step - loss: 0.2093 - accuracy: 0.9341 - val_loss: 0.1734 - val_accuracy: 0.9395\n",
      "Epoch 5/50\n",
      "416/416 [==============================] - 1s 3ms/step - loss: 0.1762 - accuracy: 0.9449 - val_loss: 0.1473 - val_accuracy: 0.9491\n",
      "Epoch 6/50\n",
      "416/416 [==============================] - 1s 3ms/step - loss: 0.1503 - accuracy: 0.9557 - val_loss: 0.1303 - val_accuracy: 0.9561\n",
      "Epoch 7/50\n",
      "416/416 [==============================] - 1s 3ms/step - loss: 0.1328 - accuracy: 0.9594 - val_loss: 0.1131 - val_accuracy: 0.9657\n",
      "Epoch 8/50\n",
      "416/416 [==============================] - 1s 3ms/step - loss: 0.1187 - accuracy: 0.9645 - val_loss: 0.1030 - val_accuracy: 0.9684\n",
      "Epoch 9/50\n",
      "416/416 [==============================] - 1s 3ms/step - loss: 0.1022 - accuracy: 0.9702 - val_loss: 0.0964 - val_accuracy: 0.9735\n",
      "Epoch 10/50\n",
      "416/416 [==============================] - 1s 3ms/step - loss: 0.0930 - accuracy: 0.9743 - val_loss: 0.0839 - val_accuracy: 0.9759\n",
      "Epoch 11/50\n",
      "416/416 [==============================] - 1s 3ms/step - loss: 0.0838 - accuracy: 0.9765 - val_loss: 0.0841 - val_accuracy: 0.9738\n",
      "Epoch 12/50\n",
      "416/416 [==============================] - 1s 3ms/step - loss: 0.0766 - accuracy: 0.9785 - val_loss: 0.0772 - val_accuracy: 0.9762\n",
      "Epoch 13/50\n",
      "416/416 [==============================] - 1s 3ms/step - loss: 0.0701 - accuracy: 0.9813 - val_loss: 0.0738 - val_accuracy: 0.9789\n",
      "Epoch 14/50\n",
      "416/416 [==============================] - 1s 3ms/step - loss: 0.0650 - accuracy: 0.9825 - val_loss: 0.0701 - val_accuracy: 0.9768\n",
      "Epoch 15/50\n",
      "416/416 [==============================] - 1s 3ms/step - loss: 0.0580 - accuracy: 0.9847 - val_loss: 0.0670 - val_accuracy: 0.9810\n",
      "Epoch 16/50\n",
      "416/416 [==============================] - 1s 3ms/step - loss: 0.0521 - accuracy: 0.9860 - val_loss: 0.0660 - val_accuracy: 0.9786\n",
      "Epoch 17/50\n",
      "416/416 [==============================] - 1s 3ms/step - loss: 0.0478 - accuracy: 0.9886 - val_loss: 0.0649 - val_accuracy: 0.9798\n",
      "Epoch 18/50\n",
      "416/416 [==============================] - 1s 3ms/step - loss: 0.0469 - accuracy: 0.9875 - val_loss: 0.0584 - val_accuracy: 0.9828\n",
      "Epoch 19/50\n",
      "416/416 [==============================] - 1s 3ms/step - loss: 0.0441 - accuracy: 0.9880 - val_loss: 0.0580 - val_accuracy: 0.9825\n",
      "Epoch 20/50\n",
      "416/416 [==============================] - 1s 3ms/step - loss: 0.0399 - accuracy: 0.9901 - val_loss: 0.0565 - val_accuracy: 0.9837\n",
      "Epoch 21/50\n",
      "416/416 [==============================] - 1s 3ms/step - loss: 0.0370 - accuracy: 0.9904 - val_loss: 0.0590 - val_accuracy: 0.9819\n",
      "Epoch 22/50\n",
      "416/416 [==============================] - 1s 3ms/step - loss: 0.0350 - accuracy: 0.9916 - val_loss: 0.0579 - val_accuracy: 0.9834\n",
      "Epoch 23/50\n",
      "416/416 [==============================] - 1s 3ms/step - loss: 0.0315 - accuracy: 0.9926 - val_loss: 0.0540 - val_accuracy: 0.9837\n",
      "Epoch 24/50\n",
      "416/416 [==============================] - 1s 3ms/step - loss: 0.0291 - accuracy: 0.9932 - val_loss: 0.0518 - val_accuracy: 0.9837\n",
      "Epoch 25/50\n",
      "416/416 [==============================] - 1s 3ms/step - loss: 0.0282 - accuracy: 0.9932 - val_loss: 0.0535 - val_accuracy: 0.9846\n",
      "Epoch 26/50\n",
      "416/416 [==============================] - 1s 3ms/step - loss: 0.0266 - accuracy: 0.9944 - val_loss: 0.0498 - val_accuracy: 0.9859\n",
      "Epoch 27/50\n",
      "416/416 [==============================] - 1s 3ms/step - loss: 0.0241 - accuracy: 0.9943 - val_loss: 0.0508 - val_accuracy: 0.9856\n",
      "Epoch 28/50\n",
      "416/416 [==============================] - 1s 3ms/step - loss: 0.0218 - accuracy: 0.9952 - val_loss: 0.0534 - val_accuracy: 0.9846\n",
      "Epoch 29/50\n",
      "416/416 [==============================] - 1s 3ms/step - loss: 0.0229 - accuracy: 0.9947 - val_loss: 0.0486 - val_accuracy: 0.9859\n",
      "Epoch 30/50\n",
      "416/416 [==============================] - 1s 3ms/step - loss: 0.0206 - accuracy: 0.9953 - val_loss: 0.0520 - val_accuracy: 0.9846\n",
      "Epoch 31/50\n",
      "416/416 [==============================] - 1s 3ms/step - loss: 0.0213 - accuracy: 0.9953 - val_loss: 0.0486 - val_accuracy: 0.9859\n",
      "Epoch 32/50\n",
      "416/416 [==============================] - 1s 3ms/step - loss: 0.0207 - accuracy: 0.9949 - val_loss: 0.0483 - val_accuracy: 0.9862\n",
      "Epoch 33/50\n",
      "416/416 [==============================] - 1s 3ms/step - loss: 0.0187 - accuracy: 0.9960 - val_loss: 0.0517 - val_accuracy: 0.9852\n",
      "Epoch 34/50\n",
      "416/416 [==============================] - 1s 3ms/step - loss: 0.0163 - accuracy: 0.9971 - val_loss: 0.0472 - val_accuracy: 0.9852\n",
      "Epoch 35/50\n",
      "416/416 [==============================] - 1s 3ms/step - loss: 0.0177 - accuracy: 0.9965 - val_loss: 0.0490 - val_accuracy: 0.9846\n",
      "Epoch 36/50\n",
      "416/416 [==============================] - 1s 3ms/step - loss: 0.0164 - accuracy: 0.9960 - val_loss: 0.0494 - val_accuracy: 0.9856\n",
      "Epoch 37/50\n",
      "416/416 [==============================] - 1s 3ms/step - loss: 0.0159 - accuracy: 0.9968 - val_loss: 0.0468 - val_accuracy: 0.9868\n",
      "Epoch 38/50\n",
      "416/416 [==============================] - 1s 3ms/step - loss: 0.0148 - accuracy: 0.9971 - val_loss: 0.0505 - val_accuracy: 0.9859\n",
      "Epoch 39/50\n",
      "416/416 [==============================] - 1s 3ms/step - loss: 0.0143 - accuracy: 0.9968 - val_loss: 0.0465 - val_accuracy: 0.9856\n"
     ]
    },
    {
     "name": "stderr",
     "output_type": "stream",
     "text": [
      "[I 2024-03-19 20:33:54,417] Trial 91 finished with value: 0.9855508804321289 and parameters: {'num_layers': 1, 'layer_size': 513, 'dropout_rate': 0.13592560996267433, 'use_batch_norm': False, 'activation': 'tanh', 'learning_rate': 0.00011921265990106719}. Best is trial 10 with value: 0.987959086894989.\n"
     ]
    },
    {
     "name": "stdout",
     "output_type": "stream",
     "text": [
      "Epoch 1/50\n",
      "416/416 [==============================] - 2s 4ms/step - loss: 0.5820 - accuracy: 0.8158 - val_loss: 0.3459 - val_accuracy: 0.8880\n",
      "Epoch 2/50\n",
      "416/416 [==============================] - 1s 4ms/step - loss: 0.3338 - accuracy: 0.8954 - val_loss: 0.2572 - val_accuracy: 0.9226\n",
      "Epoch 3/50\n",
      "416/416 [==============================] - 1s 4ms/step - loss: 0.2579 - accuracy: 0.9180 - val_loss: 0.2143 - val_accuracy: 0.9335\n",
      "Epoch 4/50\n",
      "416/416 [==============================] - 1s 4ms/step - loss: 0.2112 - accuracy: 0.9326 - val_loss: 0.1777 - val_accuracy: 0.9455\n",
      "Epoch 5/50\n",
      "416/416 [==============================] - 1s 4ms/step - loss: 0.1730 - accuracy: 0.9466 - val_loss: 0.1446 - val_accuracy: 0.9551\n",
      "Epoch 6/50\n",
      "416/416 [==============================] - 1s 4ms/step - loss: 0.1480 - accuracy: 0.9555 - val_loss: 0.1277 - val_accuracy: 0.9600\n",
      "Epoch 7/50\n",
      "416/416 [==============================] - 1s 4ms/step - loss: 0.1310 - accuracy: 0.9604 - val_loss: 0.1134 - val_accuracy: 0.9666\n",
      "Epoch 8/50\n",
      "416/416 [==============================] - 1s 4ms/step - loss: 0.1142 - accuracy: 0.9654 - val_loss: 0.1023 - val_accuracy: 0.9711\n",
      "Epoch 9/50\n",
      "416/416 [==============================] - 1s 4ms/step - loss: 0.0987 - accuracy: 0.9712 - val_loss: 0.0968 - val_accuracy: 0.9717\n",
      "Epoch 10/50\n",
      "416/416 [==============================] - 2s 4ms/step - loss: 0.0914 - accuracy: 0.9754 - val_loss: 0.0871 - val_accuracy: 0.9735\n",
      "Epoch 11/50\n",
      "416/416 [==============================] - 1s 4ms/step - loss: 0.0809 - accuracy: 0.9771 - val_loss: 0.0828 - val_accuracy: 0.9741\n",
      "Epoch 12/50\n",
      "416/416 [==============================] - 2s 4ms/step - loss: 0.0766 - accuracy: 0.9780 - val_loss: 0.0764 - val_accuracy: 0.9771\n",
      "Epoch 13/50\n",
      "416/416 [==============================] - 1s 3ms/step - loss: 0.0643 - accuracy: 0.9830 - val_loss: 0.0726 - val_accuracy: 0.9771\n",
      "Epoch 14/50\n",
      "416/416 [==============================] - 2s 4ms/step - loss: 0.0584 - accuracy: 0.9846 - val_loss: 0.0661 - val_accuracy: 0.9822\n",
      "Epoch 15/50\n",
      "416/416 [==============================] - 2s 4ms/step - loss: 0.0550 - accuracy: 0.9869 - val_loss: 0.0633 - val_accuracy: 0.9819\n",
      "Epoch 16/50\n",
      "416/416 [==============================] - 2s 4ms/step - loss: 0.0518 - accuracy: 0.9868 - val_loss: 0.0631 - val_accuracy: 0.9828\n",
      "Epoch 17/50\n",
      "416/416 [==============================] - 2s 4ms/step - loss: 0.0476 - accuracy: 0.9880 - val_loss: 0.0604 - val_accuracy: 0.9831\n",
      "Epoch 18/50\n",
      "416/416 [==============================] - 2s 4ms/step - loss: 0.0427 - accuracy: 0.9895 - val_loss: 0.0582 - val_accuracy: 0.9846\n",
      "Epoch 19/50\n",
      "416/416 [==============================] - 1s 4ms/step - loss: 0.0424 - accuracy: 0.9899 - val_loss: 0.0557 - val_accuracy: 0.9843\n",
      "Epoch 20/50\n",
      "416/416 [==============================] - 1s 4ms/step - loss: 0.0378 - accuracy: 0.9911 - val_loss: 0.0547 - val_accuracy: 0.9856\n",
      "Epoch 21/50\n",
      "416/416 [==============================] - 1s 4ms/step - loss: 0.0351 - accuracy: 0.9913 - val_loss: 0.0526 - val_accuracy: 0.9865\n",
      "Epoch 22/50\n",
      "416/416 [==============================] - 2s 4ms/step - loss: 0.0313 - accuracy: 0.9938 - val_loss: 0.0535 - val_accuracy: 0.9846\n",
      "Epoch 23/50\n",
      "416/416 [==============================] - 1s 4ms/step - loss: 0.0301 - accuracy: 0.9933 - val_loss: 0.0556 - val_accuracy: 0.9846\n",
      "Epoch 24/50\n",
      "416/416 [==============================] - 1s 4ms/step - loss: 0.0298 - accuracy: 0.9924 - val_loss: 0.0504 - val_accuracy: 0.9862\n",
      "Epoch 25/50\n",
      "416/416 [==============================] - 1s 4ms/step - loss: 0.0259 - accuracy: 0.9942 - val_loss: 0.0491 - val_accuracy: 0.9862\n",
      "Epoch 26/50\n",
      "416/416 [==============================] - 1s 4ms/step - loss: 0.0254 - accuracy: 0.9947 - val_loss: 0.0503 - val_accuracy: 0.9865\n",
      "Epoch 27/50\n",
      "416/416 [==============================] - 1s 4ms/step - loss: 0.0261 - accuracy: 0.9941 - val_loss: 0.0498 - val_accuracy: 0.9849\n",
      "Epoch 28/50\n",
      "416/416 [==============================] - 1s 4ms/step - loss: 0.0221 - accuracy: 0.9959 - val_loss: 0.0457 - val_accuracy: 0.9871\n",
      "Epoch 29/50\n",
      "416/416 [==============================] - 1s 4ms/step - loss: 0.0214 - accuracy: 0.9952 - val_loss: 0.0479 - val_accuracy: 0.9877\n",
      "Epoch 30/50\n",
      "416/416 [==============================] - 1s 4ms/step - loss: 0.0211 - accuracy: 0.9951 - val_loss: 0.0489 - val_accuracy: 0.9871\n",
      "Epoch 31/50\n",
      "416/416 [==============================] - 1s 4ms/step - loss: 0.0196 - accuracy: 0.9960 - val_loss: 0.0510 - val_accuracy: 0.9865\n",
      "Epoch 32/50\n",
      "416/416 [==============================] - 1s 4ms/step - loss: 0.0188 - accuracy: 0.9962 - val_loss: 0.0492 - val_accuracy: 0.9865\n",
      "Epoch 33/50\n",
      "416/416 [==============================] - 1s 4ms/step - loss: 0.0193 - accuracy: 0.9955 - val_loss: 0.0487 - val_accuracy: 0.9874\n"
     ]
    },
    {
     "name": "stderr",
     "output_type": "stream",
     "text": [
      "[I 2024-03-19 20:34:44,233] Trial 92 finished with value: 0.9873570203781128 and parameters: {'num_layers': 1, 'layer_size': 504, 'dropout_rate': 0.13512039755166452, 'use_batch_norm': False, 'activation': 'tanh', 'learning_rate': 0.00012161460160903801}. Best is trial 10 with value: 0.987959086894989.\n"
     ]
    },
    {
     "name": "stdout",
     "output_type": "stream",
     "text": [
      "Epoch 1/50\n",
      "409/416 [============================>.] - ETA: 0s - loss: 0.5914 - accuracy: 0.8115"
     ]
    },
    {
     "name": "stderr",
     "output_type": "stream",
     "text": [
      "[I 2024-03-19 20:34:45,891] Trial 93 pruned. Trial was pruned at epoch 0.\n"
     ]
    },
    {
     "name": "stdout",
     "output_type": "stream",
     "text": [
      "Epoch 1/50\n",
      "416/416 [==============================] - 2s 3ms/step - loss: 0.6255 - accuracy: 0.8026 - val_loss: 0.3658 - val_accuracy: 0.8943\n",
      "Epoch 2/50\n",
      "416/416 [==============================] - 1s 3ms/step - loss: 0.3616 - accuracy: 0.8913 - val_loss: 0.2784 - val_accuracy: 0.9142\n",
      "Epoch 3/50\n",
      "416/416 [==============================] - 1s 3ms/step - loss: 0.2852 - accuracy: 0.9128 - val_loss: 0.2391 - val_accuracy: 0.9235\n",
      "Epoch 4/50\n",
      "416/416 [==============================] - 1s 3ms/step - loss: 0.2365 - accuracy: 0.9272 - val_loss: 0.2073 - val_accuracy: 0.9317\n",
      "Epoch 5/50\n",
      "416/416 [==============================] - 1s 3ms/step - loss: 0.2052 - accuracy: 0.9371 - val_loss: 0.1796 - val_accuracy: 0.9416\n",
      "Epoch 6/50\n",
      "416/416 [==============================] - 1s 3ms/step - loss: 0.1772 - accuracy: 0.9466 - val_loss: 0.1537 - val_accuracy: 0.9524\n",
      "Epoch 7/50\n",
      "416/416 [==============================] - 1s 3ms/step - loss: 0.1576 - accuracy: 0.9536 - val_loss: 0.1394 - val_accuracy: 0.9512\n",
      "Epoch 8/50\n",
      "416/416 [==============================] - 1s 3ms/step - loss: 0.1401 - accuracy: 0.9590 - val_loss: 0.1233 - val_accuracy: 0.9606\n",
      "Epoch 9/50\n",
      "416/416 [==============================] - 1s 3ms/step - loss: 0.1273 - accuracy: 0.9636 - val_loss: 0.1144 - val_accuracy: 0.9699\n",
      "Epoch 10/50\n",
      "416/416 [==============================] - 1s 3ms/step - loss: 0.1124 - accuracy: 0.9661 - val_loss: 0.1081 - val_accuracy: 0.9699\n",
      "Epoch 11/50\n",
      "416/416 [==============================] - 1s 3ms/step - loss: 0.1052 - accuracy: 0.9698 - val_loss: 0.0975 - val_accuracy: 0.9693\n",
      "Epoch 12/50\n",
      "416/416 [==============================] - 1s 3ms/step - loss: 0.0959 - accuracy: 0.9744 - val_loss: 0.0947 - val_accuracy: 0.9729\n",
      "Epoch 13/50\n",
      "416/416 [==============================] - 1s 3ms/step - loss: 0.0887 - accuracy: 0.9759 - val_loss: 0.0861 - val_accuracy: 0.9753\n",
      "Epoch 14/50\n",
      "416/416 [==============================] - 1s 3ms/step - loss: 0.0807 - accuracy: 0.9782 - val_loss: 0.0812 - val_accuracy: 0.9768\n",
      "Epoch 15/50\n",
      "416/416 [==============================] - 1s 3ms/step - loss: 0.0745 - accuracy: 0.9793 - val_loss: 0.0770 - val_accuracy: 0.9777\n",
      "Epoch 16/50\n",
      "416/416 [==============================] - 1s 3ms/step - loss: 0.0681 - accuracy: 0.9822 - val_loss: 0.0740 - val_accuracy: 0.9762\n",
      "Epoch 17/50\n",
      "416/416 [==============================] - 1s 3ms/step - loss: 0.0642 - accuracy: 0.9820 - val_loss: 0.0699 - val_accuracy: 0.9795\n",
      "Epoch 18/50\n",
      "416/416 [==============================] - 1s 3ms/step - loss: 0.0607 - accuracy: 0.9849 - val_loss: 0.0683 - val_accuracy: 0.9795\n",
      "Epoch 19/50\n",
      "416/416 [==============================] - 1s 3ms/step - loss: 0.0554 - accuracy: 0.9855 - val_loss: 0.0656 - val_accuracy: 0.9813\n",
      "Epoch 20/50\n",
      "416/416 [==============================] - 1s 3ms/step - loss: 0.0518 - accuracy: 0.9870 - val_loss: 0.0622 - val_accuracy: 0.9804\n",
      "Epoch 21/50\n",
      "416/416 [==============================] - 1s 3ms/step - loss: 0.0495 - accuracy: 0.9880 - val_loss: 0.0599 - val_accuracy: 0.9831\n",
      "Epoch 22/50\n",
      "416/416 [==============================] - 1s 3ms/step - loss: 0.0453 - accuracy: 0.9898 - val_loss: 0.0572 - val_accuracy: 0.9822\n",
      "Epoch 23/50\n",
      "416/416 [==============================] - 1s 3ms/step - loss: 0.0441 - accuracy: 0.9887 - val_loss: 0.0567 - val_accuracy: 0.9837\n",
      "Epoch 24/50\n",
      "416/416 [==============================] - 1s 3ms/step - loss: 0.0411 - accuracy: 0.9905 - val_loss: 0.0561 - val_accuracy: 0.9810\n",
      "Epoch 25/50\n",
      "416/416 [==============================] - 1s 3ms/step - loss: 0.0379 - accuracy: 0.9910 - val_loss: 0.0546 - val_accuracy: 0.9843\n",
      "Epoch 26/50\n",
      "416/416 [==============================] - 1s 3ms/step - loss: 0.0346 - accuracy: 0.9922 - val_loss: 0.0524 - val_accuracy: 0.9849\n",
      "Epoch 27/50\n",
      "416/416 [==============================] - 1s 3ms/step - loss: 0.0341 - accuracy: 0.9921 - val_loss: 0.0515 - val_accuracy: 0.9871\n",
      "Epoch 28/50\n",
      "416/416 [==============================] - 1s 3ms/step - loss: 0.0318 - accuracy: 0.9935 - val_loss: 0.0529 - val_accuracy: 0.9859\n",
      "Epoch 29/50\n",
      "416/416 [==============================] - 1s 3ms/step - loss: 0.0298 - accuracy: 0.9937 - val_loss: 0.0500 - val_accuracy: 0.9859\n",
      "Epoch 30/50\n",
      "416/416 [==============================] - 1s 3ms/step - loss: 0.0293 - accuracy: 0.9936 - val_loss: 0.0493 - val_accuracy: 0.9865\n",
      "Epoch 31/50\n",
      "416/416 [==============================] - 1s 3ms/step - loss: 0.0263 - accuracy: 0.9944 - val_loss: 0.0482 - val_accuracy: 0.9868\n",
      "Epoch 32/50\n",
      "416/416 [==============================] - 1s 3ms/step - loss: 0.0267 - accuracy: 0.9932 - val_loss: 0.0516 - val_accuracy: 0.9877\n",
      "Epoch 33/50\n",
      "416/416 [==============================] - 1s 3ms/step - loss: 0.0241 - accuracy: 0.9956 - val_loss: 0.0516 - val_accuracy: 0.9865\n",
      "Epoch 34/50\n",
      "416/416 [==============================] - 1s 3ms/step - loss: 0.0226 - accuracy: 0.9958 - val_loss: 0.0501 - val_accuracy: 0.9871\n",
      "Epoch 35/50\n",
      "416/416 [==============================] - 1s 3ms/step - loss: 0.0236 - accuracy: 0.9941 - val_loss: 0.0475 - val_accuracy: 0.9877\n",
      "Epoch 36/50\n",
      "416/416 [==============================] - 1s 3ms/step - loss: 0.0213 - accuracy: 0.9954 - val_loss: 0.0476 - val_accuracy: 0.9874\n"
     ]
    },
    {
     "name": "stderr",
     "output_type": "stream",
     "text": [
      "[I 2024-03-19 20:35:35,962] Trial 94 finished with value: 0.9873570203781128 and parameters: {'num_layers': 1, 'layer_size': 404, 'dropout_rate': 0.11406747148220177, 'use_batch_norm': False, 'activation': 'tanh', 'learning_rate': 0.00010419211491519788}. Best is trial 10 with value: 0.987959086894989.\n"
     ]
    },
    {
     "name": "stdout",
     "output_type": "stream",
     "text": [
      "Epoch 1/50\n",
      "416/416 [==============================] - 2s 4ms/step - loss: 0.6154 - accuracy: 0.8044 - val_loss: 0.3607 - val_accuracy: 0.8901\n",
      "Epoch 2/50\n",
      "416/416 [==============================] - 1s 3ms/step - loss: 0.3572 - accuracy: 0.8913 - val_loss: 0.2797 - val_accuracy: 0.9130\n",
      "Epoch 3/50\n",
      "416/416 [==============================] - 1s 3ms/step - loss: 0.2808 - accuracy: 0.9108 - val_loss: 0.2325 - val_accuracy: 0.9266\n",
      "Epoch 4/50\n",
      "416/416 [==============================] - 1s 3ms/step - loss: 0.2300 - accuracy: 0.9295 - val_loss: 0.1924 - val_accuracy: 0.9386\n",
      "Epoch 5/50\n",
      "416/416 [==============================] - 1s 3ms/step - loss: 0.1966 - accuracy: 0.9401 - val_loss: 0.1754 - val_accuracy: 0.9473\n",
      "Epoch 6/50\n",
      "416/416 [==============================] - 1s 3ms/step - loss: 0.1710 - accuracy: 0.9488 - val_loss: 0.1493 - val_accuracy: 0.9500\n",
      "Epoch 7/50\n",
      "416/416 [==============================] - 1s 3ms/step - loss: 0.1516 - accuracy: 0.9545 - val_loss: 0.1335 - val_accuracy: 0.9576\n",
      "Epoch 8/50\n",
      "416/416 [==============================] - 1s 3ms/step - loss: 0.1338 - accuracy: 0.9591 - val_loss: 0.1202 - val_accuracy: 0.9585\n",
      "Epoch 9/50\n",
      "416/416 [==============================] - 1s 3ms/step - loss: 0.1177 - accuracy: 0.9653 - val_loss: 0.1075 - val_accuracy: 0.9636\n",
      "Epoch 10/50\n",
      "416/416 [==============================] - 1s 3ms/step - loss: 0.1089 - accuracy: 0.9698 - val_loss: 0.1016 - val_accuracy: 0.9630\n",
      "Epoch 11/50\n",
      "416/416 [==============================] - 1s 3ms/step - loss: 0.0983 - accuracy: 0.9738 - val_loss: 0.0953 - val_accuracy: 0.9693\n",
      "Epoch 12/50\n",
      "416/416 [==============================] - 1s 3ms/step - loss: 0.0894 - accuracy: 0.9760 - val_loss: 0.0875 - val_accuracy: 0.9702\n",
      "Epoch 13/50\n",
      "416/416 [==============================] - 1s 3ms/step - loss: 0.0812 - accuracy: 0.9785 - val_loss: 0.0809 - val_accuracy: 0.9726\n",
      "Epoch 14/50\n",
      "416/416 [==============================] - 1s 3ms/step - loss: 0.0759 - accuracy: 0.9790 - val_loss: 0.0767 - val_accuracy: 0.9783\n",
      "Epoch 15/50\n",
      "416/416 [==============================] - 1s 3ms/step - loss: 0.0715 - accuracy: 0.9808 - val_loss: 0.0758 - val_accuracy: 0.9768\n",
      "Epoch 16/50\n",
      "416/416 [==============================] - 1s 3ms/step - loss: 0.0655 - accuracy: 0.9827 - val_loss: 0.0714 - val_accuracy: 0.9780\n",
      "Epoch 17/50\n",
      "416/416 [==============================] - 1s 3ms/step - loss: 0.0592 - accuracy: 0.9854 - val_loss: 0.0664 - val_accuracy: 0.9798\n",
      "Epoch 18/50\n",
      "416/416 [==============================] - 1s 3ms/step - loss: 0.0557 - accuracy: 0.9852 - val_loss: 0.0656 - val_accuracy: 0.9792\n",
      "Epoch 19/50\n",
      "416/416 [==============================] - 1s 3ms/step - loss: 0.0510 - accuracy: 0.9865 - val_loss: 0.0608 - val_accuracy: 0.9801\n",
      "Epoch 20/50\n",
      "416/416 [==============================] - 1s 3ms/step - loss: 0.0466 - accuracy: 0.9891 - val_loss: 0.0613 - val_accuracy: 0.9813\n",
      "Epoch 21/50\n",
      "416/416 [==============================] - 1s 3ms/step - loss: 0.0441 - accuracy: 0.9901 - val_loss: 0.0562 - val_accuracy: 0.9822\n",
      "Epoch 22/50\n",
      "416/416 [==============================] - 1s 3ms/step - loss: 0.0422 - accuracy: 0.9903 - val_loss: 0.0581 - val_accuracy: 0.9813\n",
      "Epoch 23/50\n",
      "416/416 [==============================] - 1s 3ms/step - loss: 0.0391 - accuracy: 0.9910 - val_loss: 0.0548 - val_accuracy: 0.9828\n",
      "Epoch 24/50\n",
      "416/416 [==============================] - 1s 3ms/step - loss: 0.0373 - accuracy: 0.9907 - val_loss: 0.0546 - val_accuracy: 0.9831\n",
      "Epoch 25/50\n",
      "416/416 [==============================] - 1s 3ms/step - loss: 0.0364 - accuracy: 0.9914 - val_loss: 0.0543 - val_accuracy: 0.9819\n",
      "Epoch 26/50\n",
      "416/416 [==============================] - 1s 3ms/step - loss: 0.0324 - accuracy: 0.9928 - val_loss: 0.0554 - val_accuracy: 0.9831\n",
      "Epoch 27/50\n",
      "416/416 [==============================] - 1s 3ms/step - loss: 0.0325 - accuracy: 0.9925 - val_loss: 0.0539 - val_accuracy: 0.9843\n",
      "Epoch 28/50\n",
      "416/416 [==============================] - 1s 3ms/step - loss: 0.0300 - accuracy: 0.9927 - val_loss: 0.0547 - val_accuracy: 0.9834\n"
     ]
    },
    {
     "name": "stderr",
     "output_type": "stream",
     "text": [
      "[I 2024-03-19 20:36:16,141] Trial 95 finished with value: 0.9834437370300293 and parameters: {'num_layers': 1, 'layer_size': 438, 'dropout_rate': 0.12048916187989218, 'use_batch_norm': False, 'activation': 'tanh', 'learning_rate': 0.0001045580606273782}. Best is trial 10 with value: 0.987959086894989.\n"
     ]
    },
    {
     "name": "stdout",
     "output_type": "stream",
     "text": [
      "Epoch 1/50\n",
      "400/416 [===========================>..] - ETA: 0s - loss: 0.5834 - accuracy: 0.8138"
     ]
    },
    {
     "name": "stderr",
     "output_type": "stream",
     "text": [
      "[I 2024-03-19 20:36:18,071] Trial 96 pruned. Trial was pruned at epoch 0.\n"
     ]
    },
    {
     "name": "stdout",
     "output_type": "stream",
     "text": [
      "Epoch 1/50\n",
      "408/416 [============================>.] - ETA: 0s - loss: 0.5015 - accuracy: 0.8432"
     ]
    },
    {
     "name": "stderr",
     "output_type": "stream",
     "text": [
      "[I 2024-03-19 20:36:20,125] Trial 97 pruned. Trial was pruned at epoch 0.\n"
     ]
    },
    {
     "name": "stdout",
     "output_type": "stream",
     "text": [
      "Epoch 1/50\n",
      "416/416 [==============================] - 2s 4ms/step - loss: 0.5975 - accuracy: 0.8072 - val_loss: 0.3549 - val_accuracy: 0.8865\n",
      "Epoch 2/50\n",
      "416/416 [==============================] - 1s 3ms/step - loss: 0.3419 - accuracy: 0.8973 - val_loss: 0.2727 - val_accuracy: 0.9118\n",
      "Epoch 3/50\n",
      "416/416 [==============================] - 1s 3ms/step - loss: 0.2706 - accuracy: 0.9147 - val_loss: 0.2225 - val_accuracy: 0.9272\n",
      "Epoch 4/50\n",
      "416/416 [==============================] - 1s 3ms/step - loss: 0.2197 - accuracy: 0.9315 - val_loss: 0.1869 - val_accuracy: 0.9347\n",
      "Epoch 5/50\n",
      "416/416 [==============================] - 1s 3ms/step - loss: 0.1870 - accuracy: 0.9421 - val_loss: 0.1577 - val_accuracy: 0.9521\n",
      "Epoch 6/50\n",
      "416/416 [==============================] - 1s 3ms/step - loss: 0.1603 - accuracy: 0.9536 - val_loss: 0.1391 - val_accuracy: 0.9512\n",
      "Epoch 7/50\n",
      "416/416 [==============================] - 1s 3ms/step - loss: 0.1385 - accuracy: 0.9594 - val_loss: 0.1361 - val_accuracy: 0.9564\n",
      "Epoch 8/50\n",
      "416/416 [==============================] - 1s 4ms/step - loss: 0.1236 - accuracy: 0.9645 - val_loss: 0.1130 - val_accuracy: 0.9639\n",
      "Epoch 9/50\n",
      "416/416 [==============================] - 1s 3ms/step - loss: 0.1114 - accuracy: 0.9692 - val_loss: 0.1026 - val_accuracy: 0.9693\n",
      "Epoch 10/50\n",
      "416/416 [==============================] - 1s 3ms/step - loss: 0.0990 - accuracy: 0.9711 - val_loss: 0.0927 - val_accuracy: 0.9777\n",
      "Epoch 11/50\n",
      "416/416 [==============================] - 1s 3ms/step - loss: 0.0896 - accuracy: 0.9749 - val_loss: 0.0870 - val_accuracy: 0.9747\n",
      "Epoch 12/50\n",
      "416/416 [==============================] - 1s 3ms/step - loss: 0.0810 - accuracy: 0.9784 - val_loss: 0.0833 - val_accuracy: 0.9774\n",
      "Epoch 13/50\n",
      "416/416 [==============================] - 1s 3ms/step - loss: 0.0741 - accuracy: 0.9809 - val_loss: 0.0771 - val_accuracy: 0.9783\n",
      "Epoch 14/50\n",
      "416/416 [==============================] - 1s 3ms/step - loss: 0.0693 - accuracy: 0.9819 - val_loss: 0.0754 - val_accuracy: 0.9774\n",
      "Epoch 15/50\n",
      "416/416 [==============================] - 1s 3ms/step - loss: 0.0609 - accuracy: 0.9852 - val_loss: 0.0720 - val_accuracy: 0.9774\n",
      "Epoch 16/50\n",
      "416/416 [==============================] - 1s 3ms/step - loss: 0.0601 - accuracy: 0.9843 - val_loss: 0.0684 - val_accuracy: 0.9795\n",
      "Epoch 17/50\n",
      "416/416 [==============================] - 1s 4ms/step - loss: 0.0548 - accuracy: 0.9861 - val_loss: 0.0646 - val_accuracy: 0.9819\n",
      "Epoch 18/50\n",
      "416/416 [==============================] - 2s 4ms/step - loss: 0.0515 - accuracy: 0.9870 - val_loss: 0.0633 - val_accuracy: 0.9792\n",
      "Epoch 19/50\n",
      "416/416 [==============================] - 2s 4ms/step - loss: 0.0472 - accuracy: 0.9884 - val_loss: 0.0601 - val_accuracy: 0.9819\n",
      "Epoch 20/50\n",
      "416/416 [==============================] - 2s 4ms/step - loss: 0.0439 - accuracy: 0.9903 - val_loss: 0.0585 - val_accuracy: 0.9837\n",
      "Epoch 21/50\n",
      "416/416 [==============================] - 1s 4ms/step - loss: 0.0396 - accuracy: 0.9912 - val_loss: 0.0556 - val_accuracy: 0.9846\n",
      "Epoch 22/50\n",
      "416/416 [==============================] - 1s 4ms/step - loss: 0.0363 - accuracy: 0.9923 - val_loss: 0.0555 - val_accuracy: 0.9843\n",
      "Epoch 23/50\n",
      "416/416 [==============================] - 1s 4ms/step - loss: 0.0360 - accuracy: 0.9913 - val_loss: 0.0553 - val_accuracy: 0.9831\n",
      "Epoch 24/50\n",
      "416/416 [==============================] - 1s 4ms/step - loss: 0.0337 - accuracy: 0.9918 - val_loss: 0.0533 - val_accuracy: 0.9856\n",
      "Epoch 25/50\n",
      "416/416 [==============================] - 1s 3ms/step - loss: 0.0309 - accuracy: 0.9934 - val_loss: 0.0496 - val_accuracy: 0.9868\n",
      "Epoch 26/50\n",
      "416/416 [==============================] - 1s 3ms/step - loss: 0.0292 - accuracy: 0.9935 - val_loss: 0.0530 - val_accuracy: 0.9828\n",
      "Epoch 27/50\n",
      "416/416 [==============================] - 1s 4ms/step - loss: 0.0270 - accuracy: 0.9941 - val_loss: 0.0536 - val_accuracy: 0.9852\n",
      "Epoch 28/50\n",
      "416/416 [==============================] - 1s 3ms/step - loss: 0.0260 - accuracy: 0.9950 - val_loss: 0.0506 - val_accuracy: 0.9859\n",
      "Epoch 29/50\n",
      "416/416 [==============================] - 1s 3ms/step - loss: 0.0241 - accuracy: 0.9940 - val_loss: 0.0511 - val_accuracy: 0.9874\n",
      "Epoch 30/50\n",
      "416/416 [==============================] - 1s 4ms/step - loss: 0.0232 - accuracy: 0.9948 - val_loss: 0.0506 - val_accuracy: 0.9865\n"
     ]
    },
    {
     "name": "stderr",
     "output_type": "stream",
     "text": [
      "[I 2024-03-19 20:37:04,440] Trial 98 finished with value: 0.9864539504051208 and parameters: {'num_layers': 1, 'layer_size': 410, 'dropout_rate': 0.10324976064678713, 'use_batch_norm': False, 'activation': 'tanh', 'learning_rate': 0.00011326523260917271}. Best is trial 10 with value: 0.987959086894989.\n"
     ]
    },
    {
     "name": "stdout",
     "output_type": "stream",
     "text": [
      "Epoch 1/50\n",
      "413/416 [============================>.] - ETA: 0s - loss: 0.5900 - accuracy: 0.8142"
     ]
    },
    {
     "name": "stderr",
     "output_type": "stream",
     "text": [
      "[I 2024-03-19 20:37:07,370] Trial 99 pruned. Trial was pruned at epoch 0.\n"
     ]
    },
    {
     "name": "stdout",
     "output_type": "stream",
     "text": [
      "Best Hyperparameters: {'num_layers': 1, 'layer_size': 763, 'dropout_rate': 0.13714949392899192, 'use_batch_norm': False, 'activation': 'tanh', 'learning_rate': 0.00010157391045421977}\n",
      "Best Objective Value: 0.987959086894989\n"
     ]
    }
   ],
   "source": [
    "import optuna\n",
    "from tensorflow.keras.layers import Activation, BatchNormalization, Dense, Dropout\n",
    "from tensorflow.keras.optimizers import Adam\n",
    "\n",
    "def objective(trial):\n",
    "    # Define the search space for hyperparameters\n",
    "    num_layers = trial.suggest_int('num_layers', 1, 2)\n",
    "    layer_size = trial.suggest_int('layer_size', 50, 800)\n",
    "    dropout_rate = trial.suggest_uniform('dropout_rate', 0.1, 0.2)\n",
    "    use_batch_norm = trial.suggest_categorical('use_batch_norm', [True, False])\n",
    "    activation = trial.suggest_categorical('activation', ['relu','tanh'])\n",
    "    learning_rate = trial.suggest_loguniform('learning_rate', 1e-4, 1e-3)\n",
    "\n",
    "    # Create the MLP model with hyperparameters\n",
    "    mlpmodel = Sequential()\n",
    "    mlpmodel.add(Dense(layer_size, input_shape=(X_train.shape[1],)))\n",
    "    mlpmodel.add(Dropout(dropout_rate))\n",
    "    \n",
    "    for _ in range(num_layers):\n",
    "        mlpmodel.add(Dense(layer_size))\n",
    "        if use_batch_norm:\n",
    "            mlpmodel.add(BatchNormalization())\n",
    "        mlpmodel.add(Activation(activation))\n",
    "        mlpmodel.add(Dropout(dropout_rate))\n",
    "    \n",
    "    mlpmodel.add(Dense(7, activation='softmax'))\n",
    "\n",
    "    # Compile the model with hyperparameters\n",
    "    mlpmodel.compile(optimizer=Adam(learning_rate=learning_rate), loss='categorical_crossentropy', metrics=['accuracy'])\n",
    "    \n",
    "    # Train the model with hyperparameters\n",
    "    early_stopping = tf.keras.callbacks.EarlyStopping(monitor='val_loss', patience=5, mode='min', min_delta=0.001, restore_best_weights=True)\n",
    "    pruning_callback = optuna.integration.TFKerasPruningCallback(trial, 'val_loss')\n",
    "    history = mlpmodel.fit(X_train, y_train1, validation_data=(X_val, y_val1), epochs=50, callbacks=[early_stopping, pruning_callback], verbose=1)\n",
    "    \n",
    "    # Return the validation accuracy as the objective value\n",
    "    return history.history['val_accuracy'][-1]\n",
    "\n",
    "# Create an Optuna study and optimize the objective function\n",
    "study = optuna.create_study(direction='maximize')\n",
    "study.optimize(objective, n_trials=100)\n",
    "\n",
    "# Print the best hyperparameters and objective value\n",
    "best_params = study.best_params\n",
    "best_value = study.best_value\n",
    "print('Best Hyperparameters:', best_params)\n",
    "print('Best Objective Value:', best_value)\n"
   ]
  },
  {
   "cell_type": "code",
   "execution_count": 11,
   "metadata": {},
   "outputs": [
    {
     "data": {
      "application/vnd.plotly.v1+json": {
       "config": {
        "plotlyServerURL": "https://plot.ly"
       },
       "data": [
        {
         "mode": "markers",
         "name": "Objective Value",
         "type": "scatter",
         "x": [
          0,
          1,
          2,
          3,
          4,
          6,
          10,
          11,
          12,
          15,
          18,
          21,
          22,
          25,
          26,
          29,
          31,
          33,
          35,
          37,
          38,
          40,
          41,
          46,
          48,
          51,
          53,
          54,
          57,
          61,
          68,
          70,
          71,
          79,
          84,
          91,
          92,
          94,
          95,
          98
         ],
         "y": [
          0.9783263206481934,
          0.9813365340232849,
          0.9671884179115295,
          0.979530394077301,
          0.9825406670570374,
          0.9816375970840454,
          0.987959086894989,
          0.9873570203781128,
          0.9861529469490051,
          0.9864539504051208,
          0.9861529469490051,
          0.9873570203781128,
          0.9864539504051208,
          0.9858518838882446,
          0.9867549538612366,
          0.984647810459137,
          0.987959086894989,
          0.9864539504051208,
          0.9792293906211853,
          0.9704996943473816,
          0.9876580238342285,
          0.9825406670570374,
          0.987959086894989,
          0.9810355305671692,
          0.9771221876144409,
          0.9855508804321289,
          0.9855508804321289,
          0.9849488139152527,
          0.9798313975334167,
          0.9873570203781128,
          0.9852498769760132,
          0.9819386005401611,
          0.9852498769760132,
          0.9870560169219971,
          0.9867549538612366,
          0.9855508804321289,
          0.9873570203781128,
          0.9873570203781128,
          0.9834437370300293,
          0.9864539504051208
         ]
        },
        {
         "mode": "lines",
         "name": "Best Value",
         "type": "scatter",
         "x": [
          0,
          1,
          2,
          3,
          4,
          5,
          6,
          7,
          8,
          9,
          10,
          11,
          12,
          13,
          14,
          15,
          16,
          17,
          18,
          19,
          20,
          21,
          22,
          23,
          24,
          25,
          26,
          27,
          28,
          29,
          30,
          31,
          32,
          33,
          34,
          35,
          36,
          37,
          38,
          39,
          40,
          41,
          42,
          43,
          44,
          45,
          46,
          47,
          48,
          49,
          50,
          51,
          52,
          53,
          54,
          55,
          56,
          57,
          58,
          59,
          60,
          61,
          62,
          63,
          64,
          65,
          66,
          67,
          68,
          69,
          70,
          71,
          72,
          73,
          74,
          75,
          76,
          77,
          78,
          79,
          80,
          81,
          82,
          83,
          84,
          85,
          86,
          87,
          88,
          89,
          90,
          91,
          92,
          93,
          94,
          95,
          96,
          97,
          98,
          99
         ],
         "y": [
          0.9783263206481934,
          0.9813365340232849,
          0.9813365340232849,
          0.9813365340232849,
          0.9825406670570374,
          0.9825406670570374,
          0.9825406670570374,
          0.9825406670570374,
          0.9825406670570374,
          0.9825406670570374,
          0.987959086894989,
          0.987959086894989,
          0.987959086894989,
          0.987959086894989,
          0.987959086894989,
          0.987959086894989,
          0.987959086894989,
          0.987959086894989,
          0.987959086894989,
          0.987959086894989,
          0.987959086894989,
          0.987959086894989,
          0.987959086894989,
          0.987959086894989,
          0.987959086894989,
          0.987959086894989,
          0.987959086894989,
          0.987959086894989,
          0.987959086894989,
          0.987959086894989,
          0.987959086894989,
          0.987959086894989,
          0.987959086894989,
          0.987959086894989,
          0.987959086894989,
          0.987959086894989,
          0.987959086894989,
          0.987959086894989,
          0.987959086894989,
          0.987959086894989,
          0.987959086894989,
          0.987959086894989,
          0.987959086894989,
          0.987959086894989,
          0.987959086894989,
          0.987959086894989,
          0.987959086894989,
          0.987959086894989,
          0.987959086894989,
          0.987959086894989,
          0.987959086894989,
          0.987959086894989,
          0.987959086894989,
          0.987959086894989,
          0.987959086894989,
          0.987959086894989,
          0.987959086894989,
          0.987959086894989,
          0.987959086894989,
          0.987959086894989,
          0.987959086894989,
          0.987959086894989,
          0.987959086894989,
          0.987959086894989,
          0.987959086894989,
          0.987959086894989,
          0.987959086894989,
          0.987959086894989,
          0.987959086894989,
          0.987959086894989,
          0.987959086894989,
          0.987959086894989,
          0.987959086894989,
          0.987959086894989,
          0.987959086894989,
          0.987959086894989,
          0.987959086894989,
          0.987959086894989,
          0.987959086894989,
          0.987959086894989,
          0.987959086894989,
          0.987959086894989,
          0.987959086894989,
          0.987959086894989,
          0.987959086894989,
          0.987959086894989,
          0.987959086894989,
          0.987959086894989,
          0.987959086894989,
          0.987959086894989,
          0.987959086894989,
          0.987959086894989,
          0.987959086894989,
          0.987959086894989,
          0.987959086894989,
          0.987959086894989,
          0.987959086894989,
          0.987959086894989,
          0.987959086894989,
          0.987959086894989
         ]
        },
        {
         "marker": {
          "color": "#cccccc"
         },
         "mode": "markers",
         "name": "Infeasible Trial",
         "showlegend": false,
         "type": "scatter",
         "x": [],
         "y": []
        }
       ],
       "layout": {
        "template": {
         "data": {
          "bar": [
           {
            "error_x": {
             "color": "#2a3f5f"
            },
            "error_y": {
             "color": "#2a3f5f"
            },
            "marker": {
             "line": {
              "color": "#E5ECF6",
              "width": 0.5
             },
             "pattern": {
              "fillmode": "overlay",
              "size": 10,
              "solidity": 0.2
             }
            },
            "type": "bar"
           }
          ],
          "barpolar": [
           {
            "marker": {
             "line": {
              "color": "#E5ECF6",
              "width": 0.5
             },
             "pattern": {
              "fillmode": "overlay",
              "size": 10,
              "solidity": 0.2
             }
            },
            "type": "barpolar"
           }
          ],
          "carpet": [
           {
            "aaxis": {
             "endlinecolor": "#2a3f5f",
             "gridcolor": "white",
             "linecolor": "white",
             "minorgridcolor": "white",
             "startlinecolor": "#2a3f5f"
            },
            "baxis": {
             "endlinecolor": "#2a3f5f",
             "gridcolor": "white",
             "linecolor": "white",
             "minorgridcolor": "white",
             "startlinecolor": "#2a3f5f"
            },
            "type": "carpet"
           }
          ],
          "choropleth": [
           {
            "colorbar": {
             "outlinewidth": 0,
             "ticks": ""
            },
            "type": "choropleth"
           }
          ],
          "contour": [
           {
            "colorbar": {
             "outlinewidth": 0,
             "ticks": ""
            },
            "colorscale": [
             [
              0,
              "#0d0887"
             ],
             [
              0.1111111111111111,
              "#46039f"
             ],
             [
              0.2222222222222222,
              "#7201a8"
             ],
             [
              0.3333333333333333,
              "#9c179e"
             ],
             [
              0.4444444444444444,
              "#bd3786"
             ],
             [
              0.5555555555555556,
              "#d8576b"
             ],
             [
              0.6666666666666666,
              "#ed7953"
             ],
             [
              0.7777777777777778,
              "#fb9f3a"
             ],
             [
              0.8888888888888888,
              "#fdca26"
             ],
             [
              1,
              "#f0f921"
             ]
            ],
            "type": "contour"
           }
          ],
          "contourcarpet": [
           {
            "colorbar": {
             "outlinewidth": 0,
             "ticks": ""
            },
            "type": "contourcarpet"
           }
          ],
          "heatmap": [
           {
            "colorbar": {
             "outlinewidth": 0,
             "ticks": ""
            },
            "colorscale": [
             [
              0,
              "#0d0887"
             ],
             [
              0.1111111111111111,
              "#46039f"
             ],
             [
              0.2222222222222222,
              "#7201a8"
             ],
             [
              0.3333333333333333,
              "#9c179e"
             ],
             [
              0.4444444444444444,
              "#bd3786"
             ],
             [
              0.5555555555555556,
              "#d8576b"
             ],
             [
              0.6666666666666666,
              "#ed7953"
             ],
             [
              0.7777777777777778,
              "#fb9f3a"
             ],
             [
              0.8888888888888888,
              "#fdca26"
             ],
             [
              1,
              "#f0f921"
             ]
            ],
            "type": "heatmap"
           }
          ],
          "heatmapgl": [
           {
            "colorbar": {
             "outlinewidth": 0,
             "ticks": ""
            },
            "colorscale": [
             [
              0,
              "#0d0887"
             ],
             [
              0.1111111111111111,
              "#46039f"
             ],
             [
              0.2222222222222222,
              "#7201a8"
             ],
             [
              0.3333333333333333,
              "#9c179e"
             ],
             [
              0.4444444444444444,
              "#bd3786"
             ],
             [
              0.5555555555555556,
              "#d8576b"
             ],
             [
              0.6666666666666666,
              "#ed7953"
             ],
             [
              0.7777777777777778,
              "#fb9f3a"
             ],
             [
              0.8888888888888888,
              "#fdca26"
             ],
             [
              1,
              "#f0f921"
             ]
            ],
            "type": "heatmapgl"
           }
          ],
          "histogram": [
           {
            "marker": {
             "pattern": {
              "fillmode": "overlay",
              "size": 10,
              "solidity": 0.2
             }
            },
            "type": "histogram"
           }
          ],
          "histogram2d": [
           {
            "colorbar": {
             "outlinewidth": 0,
             "ticks": ""
            },
            "colorscale": [
             [
              0,
              "#0d0887"
             ],
             [
              0.1111111111111111,
              "#46039f"
             ],
             [
              0.2222222222222222,
              "#7201a8"
             ],
             [
              0.3333333333333333,
              "#9c179e"
             ],
             [
              0.4444444444444444,
              "#bd3786"
             ],
             [
              0.5555555555555556,
              "#d8576b"
             ],
             [
              0.6666666666666666,
              "#ed7953"
             ],
             [
              0.7777777777777778,
              "#fb9f3a"
             ],
             [
              0.8888888888888888,
              "#fdca26"
             ],
             [
              1,
              "#f0f921"
             ]
            ],
            "type": "histogram2d"
           }
          ],
          "histogram2dcontour": [
           {
            "colorbar": {
             "outlinewidth": 0,
             "ticks": ""
            },
            "colorscale": [
             [
              0,
              "#0d0887"
             ],
             [
              0.1111111111111111,
              "#46039f"
             ],
             [
              0.2222222222222222,
              "#7201a8"
             ],
             [
              0.3333333333333333,
              "#9c179e"
             ],
             [
              0.4444444444444444,
              "#bd3786"
             ],
             [
              0.5555555555555556,
              "#d8576b"
             ],
             [
              0.6666666666666666,
              "#ed7953"
             ],
             [
              0.7777777777777778,
              "#fb9f3a"
             ],
             [
              0.8888888888888888,
              "#fdca26"
             ],
             [
              1,
              "#f0f921"
             ]
            ],
            "type": "histogram2dcontour"
           }
          ],
          "mesh3d": [
           {
            "colorbar": {
             "outlinewidth": 0,
             "ticks": ""
            },
            "type": "mesh3d"
           }
          ],
          "parcoords": [
           {
            "line": {
             "colorbar": {
              "outlinewidth": 0,
              "ticks": ""
             }
            },
            "type": "parcoords"
           }
          ],
          "pie": [
           {
            "automargin": true,
            "type": "pie"
           }
          ],
          "scatter": [
           {
            "fillpattern": {
             "fillmode": "overlay",
             "size": 10,
             "solidity": 0.2
            },
            "type": "scatter"
           }
          ],
          "scatter3d": [
           {
            "line": {
             "colorbar": {
              "outlinewidth": 0,
              "ticks": ""
             }
            },
            "marker": {
             "colorbar": {
              "outlinewidth": 0,
              "ticks": ""
             }
            },
            "type": "scatter3d"
           }
          ],
          "scattercarpet": [
           {
            "marker": {
             "colorbar": {
              "outlinewidth": 0,
              "ticks": ""
             }
            },
            "type": "scattercarpet"
           }
          ],
          "scattergeo": [
           {
            "marker": {
             "colorbar": {
              "outlinewidth": 0,
              "ticks": ""
             }
            },
            "type": "scattergeo"
           }
          ],
          "scattergl": [
           {
            "marker": {
             "colorbar": {
              "outlinewidth": 0,
              "ticks": ""
             }
            },
            "type": "scattergl"
           }
          ],
          "scattermapbox": [
           {
            "marker": {
             "colorbar": {
              "outlinewidth": 0,
              "ticks": ""
             }
            },
            "type": "scattermapbox"
           }
          ],
          "scatterpolar": [
           {
            "marker": {
             "colorbar": {
              "outlinewidth": 0,
              "ticks": ""
             }
            },
            "type": "scatterpolar"
           }
          ],
          "scatterpolargl": [
           {
            "marker": {
             "colorbar": {
              "outlinewidth": 0,
              "ticks": ""
             }
            },
            "type": "scatterpolargl"
           }
          ],
          "scatterternary": [
           {
            "marker": {
             "colorbar": {
              "outlinewidth": 0,
              "ticks": ""
             }
            },
            "type": "scatterternary"
           }
          ],
          "surface": [
           {
            "colorbar": {
             "outlinewidth": 0,
             "ticks": ""
            },
            "colorscale": [
             [
              0,
              "#0d0887"
             ],
             [
              0.1111111111111111,
              "#46039f"
             ],
             [
              0.2222222222222222,
              "#7201a8"
             ],
             [
              0.3333333333333333,
              "#9c179e"
             ],
             [
              0.4444444444444444,
              "#bd3786"
             ],
             [
              0.5555555555555556,
              "#d8576b"
             ],
             [
              0.6666666666666666,
              "#ed7953"
             ],
             [
              0.7777777777777778,
              "#fb9f3a"
             ],
             [
              0.8888888888888888,
              "#fdca26"
             ],
             [
              1,
              "#f0f921"
             ]
            ],
            "type": "surface"
           }
          ],
          "table": [
           {
            "cells": {
             "fill": {
              "color": "#EBF0F8"
             },
             "line": {
              "color": "white"
             }
            },
            "header": {
             "fill": {
              "color": "#C8D4E3"
             },
             "line": {
              "color": "white"
             }
            },
            "type": "table"
           }
          ]
         },
         "layout": {
          "annotationdefaults": {
           "arrowcolor": "#2a3f5f",
           "arrowhead": 0,
           "arrowwidth": 1
          },
          "autotypenumbers": "strict",
          "coloraxis": {
           "colorbar": {
            "outlinewidth": 0,
            "ticks": ""
           }
          },
          "colorscale": {
           "diverging": [
            [
             0,
             "#8e0152"
            ],
            [
             0.1,
             "#c51b7d"
            ],
            [
             0.2,
             "#de77ae"
            ],
            [
             0.3,
             "#f1b6da"
            ],
            [
             0.4,
             "#fde0ef"
            ],
            [
             0.5,
             "#f7f7f7"
            ],
            [
             0.6,
             "#e6f5d0"
            ],
            [
             0.7,
             "#b8e186"
            ],
            [
             0.8,
             "#7fbc41"
            ],
            [
             0.9,
             "#4d9221"
            ],
            [
             1,
             "#276419"
            ]
           ],
           "sequential": [
            [
             0,
             "#0d0887"
            ],
            [
             0.1111111111111111,
             "#46039f"
            ],
            [
             0.2222222222222222,
             "#7201a8"
            ],
            [
             0.3333333333333333,
             "#9c179e"
            ],
            [
             0.4444444444444444,
             "#bd3786"
            ],
            [
             0.5555555555555556,
             "#d8576b"
            ],
            [
             0.6666666666666666,
             "#ed7953"
            ],
            [
             0.7777777777777778,
             "#fb9f3a"
            ],
            [
             0.8888888888888888,
             "#fdca26"
            ],
            [
             1,
             "#f0f921"
            ]
           ],
           "sequentialminus": [
            [
             0,
             "#0d0887"
            ],
            [
             0.1111111111111111,
             "#46039f"
            ],
            [
             0.2222222222222222,
             "#7201a8"
            ],
            [
             0.3333333333333333,
             "#9c179e"
            ],
            [
             0.4444444444444444,
             "#bd3786"
            ],
            [
             0.5555555555555556,
             "#d8576b"
            ],
            [
             0.6666666666666666,
             "#ed7953"
            ],
            [
             0.7777777777777778,
             "#fb9f3a"
            ],
            [
             0.8888888888888888,
             "#fdca26"
            ],
            [
             1,
             "#f0f921"
            ]
           ]
          },
          "colorway": [
           "#636efa",
           "#EF553B",
           "#00cc96",
           "#ab63fa",
           "#FFA15A",
           "#19d3f3",
           "#FF6692",
           "#B6E880",
           "#FF97FF",
           "#FECB52"
          ],
          "font": {
           "color": "#2a3f5f"
          },
          "geo": {
           "bgcolor": "white",
           "lakecolor": "white",
           "landcolor": "#E5ECF6",
           "showlakes": true,
           "showland": true,
           "subunitcolor": "white"
          },
          "hoverlabel": {
           "align": "left"
          },
          "hovermode": "closest",
          "mapbox": {
           "style": "light"
          },
          "paper_bgcolor": "white",
          "plot_bgcolor": "#E5ECF6",
          "polar": {
           "angularaxis": {
            "gridcolor": "white",
            "linecolor": "white",
            "ticks": ""
           },
           "bgcolor": "#E5ECF6",
           "radialaxis": {
            "gridcolor": "white",
            "linecolor": "white",
            "ticks": ""
           }
          },
          "scene": {
           "xaxis": {
            "backgroundcolor": "#E5ECF6",
            "gridcolor": "white",
            "gridwidth": 2,
            "linecolor": "white",
            "showbackground": true,
            "ticks": "",
            "zerolinecolor": "white"
           },
           "yaxis": {
            "backgroundcolor": "#E5ECF6",
            "gridcolor": "white",
            "gridwidth": 2,
            "linecolor": "white",
            "showbackground": true,
            "ticks": "",
            "zerolinecolor": "white"
           },
           "zaxis": {
            "backgroundcolor": "#E5ECF6",
            "gridcolor": "white",
            "gridwidth": 2,
            "linecolor": "white",
            "showbackground": true,
            "ticks": "",
            "zerolinecolor": "white"
           }
          },
          "shapedefaults": {
           "line": {
            "color": "#2a3f5f"
           }
          },
          "ternary": {
           "aaxis": {
            "gridcolor": "white",
            "linecolor": "white",
            "ticks": ""
           },
           "baxis": {
            "gridcolor": "white",
            "linecolor": "white",
            "ticks": ""
           },
           "bgcolor": "#E5ECF6",
           "caxis": {
            "gridcolor": "white",
            "linecolor": "white",
            "ticks": ""
           }
          },
          "title": {
           "x": 0.05
          },
          "xaxis": {
           "automargin": true,
           "gridcolor": "white",
           "linecolor": "white",
           "ticks": "",
           "title": {
            "standoff": 15
           },
           "zerolinecolor": "white",
           "zerolinewidth": 2
          },
          "yaxis": {
           "automargin": true,
           "gridcolor": "white",
           "linecolor": "white",
           "ticks": "",
           "title": {
            "standoff": 15
           },
           "zerolinecolor": "white",
           "zerolinewidth": 2
          }
         }
        },
        "title": {
         "text": "Optimization History Plot"
        },
        "xaxis": {
         "title": {
          "text": "Trial"
         }
        },
        "yaxis": {
         "title": {
          "text": "Objective Value"
         }
        }
       }
      }
     },
     "metadata": {},
     "output_type": "display_data"
    }
   ],
   "source": [
    "from optuna.visualization import plot_optimization_history\n",
    "\n",
    "plot_optimization_history(study)"
   ]
  },
  {
   "cell_type": "code",
   "execution_count": 16,
   "metadata": {},
   "outputs": [],
   "source": [
    "from optuna.visualization import plot_param_importances\n",
    "from optuna.visualization import plot_contour\n",
    "from optuna.visualization import plot_intermediate_values"
   ]
  },
  {
   "cell_type": "code",
   "execution_count": 17,
   "metadata": {},
   "outputs": [
    {
     "data": {
      "application/vnd.plotly.v1+json": {
       "config": {
        "plotlyServerURL": "https://plot.ly"
       },
       "data": [
        {
         "marker": {
          "maxdisplayed": 10
         },
         "mode": "lines+markers",
         "name": "Trial0",
         "type": "scatter",
         "x": [
          0,
          1,
          2,
          3,
          4,
          5,
          6,
          7,
          8,
          9,
          10,
          11,
          12,
          13,
          14,
          15,
          16,
          17,
          18,
          19,
          20,
          21,
          22,
          23,
          24,
          25,
          26,
          27,
          28,
          29,
          30
         ],
         "y": [
          0.31093159317970276,
          0.25718259811401367,
          0.18714836239814758,
          0.17297153174877167,
          0.15065312385559082,
          0.11767298728227615,
          0.10784091055393219,
          0.11188757419586182,
          0.10464958101511002,
          0.09747424721717834,
          0.09181363880634308,
          0.08178123831748962,
          0.08018533885478973,
          0.07495904713869095,
          0.07521340250968933,
          0.06818048655986786,
          0.07625101506710052,
          0.06937297433614731,
          0.06658919900655746,
          0.07203655689954758,
          0.0648040920495987,
          0.06633836776018143,
          0.06807070970535278,
          0.06654844433069229,
          0.05873154476284981,
          0.05767373368144035,
          0.057832617312669754,
          0.0642528384923935,
          0.06055675446987152,
          0.062439002096652985,
          0.06454683840274811
         ]
        },
        {
         "marker": {
          "maxdisplayed": 10
         },
         "mode": "lines+markers",
         "name": "Trial1",
         "type": "scatter",
         "x": [
          0,
          1,
          2,
          3,
          4,
          5,
          6,
          7,
          8,
          9,
          10,
          11,
          12,
          13,
          14,
          15,
          16,
          17,
          18,
          19,
          20,
          21,
          22,
          23,
          24,
          25,
          26,
          27,
          28,
          29,
          30,
          31,
          32
         ],
         "y": [
          0.268009215593338,
          0.18697614967823029,
          0.16322943568229675,
          0.1377052664756775,
          0.12916149199008942,
          0.11843520402908325,
          0.11748237907886505,
          0.1103355661034584,
          0.10052487254142761,
          0.08938098698854446,
          0.09800078719854355,
          0.08370427042245865,
          0.09340719878673553,
          0.0834786593914032,
          0.09541033953428268,
          0.07436230033636093,
          0.07666835933923721,
          0.07823408395051956,
          0.07848024368286133,
          0.06983543932437897,
          0.0678575411438942,
          0.07092925906181335,
          0.06524885445833206,
          0.06690239906311035,
          0.0666816458106041,
          0.06631229817867279,
          0.06578094512224197,
          0.06042800098657608,
          0.06370042264461517,
          0.06600534915924072,
          0.06157359108328819,
          0.06245620921254158,
          0.061705946922302246
         ]
        },
        {
         "marker": {
          "maxdisplayed": 10
         },
         "mode": "lines+markers",
         "name": "Trial2",
         "type": "scatter",
         "x": [
          0,
          1,
          2,
          3,
          4,
          5,
          6,
          7,
          8,
          9,
          10,
          11,
          12,
          13,
          14,
          15,
          16,
          17,
          18,
          19,
          20,
          21,
          22,
          23,
          24,
          25,
          26,
          27,
          28,
          29,
          30,
          31,
          32,
          33,
          34,
          35
         ],
         "y": [
          0.4821355640888214,
          0.37547269463539124,
          0.3158572316169739,
          0.2785087525844574,
          0.25150322914123535,
          0.2286120504140854,
          0.21173550188541412,
          0.20177733898162842,
          0.19155095517635345,
          0.18134205043315887,
          0.17656032741069794,
          0.16425637900829315,
          0.16015630960464478,
          0.15240968763828278,
          0.14900213479995728,
          0.14603866636753082,
          0.14213623106479645,
          0.13592971861362457,
          0.13470280170440674,
          0.13267970085144043,
          0.1277793049812317,
          0.12664949893951416,
          0.12699000537395477,
          0.12282315641641617,
          0.12204338610172272,
          0.11809956282377243,
          0.1152387261390686,
          0.11376585811376572,
          0.11271702498197556,
          0.11110823601484299,
          0.10796906799077988,
          0.10706927627325058,
          0.1074473187327385,
          0.10778011381626129,
          0.10833492875099182,
          0.10821518301963806
         ]
        },
        {
         "marker": {
          "maxdisplayed": 10
         },
         "mode": "lines+markers",
         "name": "Trial3",
         "type": "scatter",
         "x": [
          0,
          1,
          2,
          3,
          4,
          5,
          6,
          7,
          8,
          9,
          10,
          11,
          12,
          13,
          14
         ],
         "y": [
          0.18194161355495453,
          0.12746262550354004,
          0.11158401519060135,
          0.0926763266324997,
          0.11296459287405014,
          0.09766945242881775,
          0.0790725126862526,
          0.0809694156050682,
          0.0932941809296608,
          0.07593115419149399,
          0.08170687407255173,
          0.0923059806227684,
          0.08211566507816315,
          0.09022117406129837,
          0.08240145444869995
         ]
        },
        {
         "marker": {
          "maxdisplayed": 10
         },
         "mode": "lines+markers",
         "name": "Trial4",
         "type": "scatter",
         "x": [
          0,
          1,
          2,
          3,
          4,
          5,
          6,
          7,
          8,
          9,
          10,
          11,
          12,
          13,
          14,
          15,
          16,
          17,
          18,
          19,
          20,
          21,
          22,
          23,
          24
         ],
         "y": [
          0.2200520932674408,
          0.18852025270462036,
          0.14223459362983704,
          0.13424775004386902,
          0.10475325584411621,
          0.1018877699971199,
          0.09764624387025833,
          0.09502211958169937,
          0.08758391439914703,
          0.08607158809900284,
          0.08754297345876694,
          0.08260831981897354,
          0.08032187819480896,
          0.07545948773622513,
          0.07502008974552155,
          0.07176218181848526,
          0.06882654130458832,
          0.07139100134372711,
          0.0629032626748085,
          0.06064583733677864,
          0.06948702037334442,
          0.06632918864488602,
          0.061146534979343414,
          0.06853924691677094,
          0.06095085293054581
         ]
        },
        {
         "marker": {
          "maxdisplayed": 10
         },
         "mode": "lines+markers",
         "name": "Trial5",
         "type": "scatter",
         "x": [
          0
         ],
         "y": [
          0.16485778987407684
         ]
        },
        {
         "marker": {
          "maxdisplayed": 10
         },
         "mode": "lines+markers",
         "name": "Trial6",
         "type": "scatter",
         "x": [
          0,
          1,
          2,
          3,
          4,
          5,
          6,
          7,
          8,
          9,
          10,
          11,
          12,
          13,
          14,
          15,
          16,
          17,
          18,
          19,
          20,
          21,
          22,
          23,
          24,
          25
         ],
         "y": [
          0.31985193490982056,
          0.2678937613964081,
          0.23553353548049927,
          0.14737804234027863,
          0.14848074316978455,
          0.16972388327121735,
          0.15416140854358673,
          0.12850318849086761,
          0.13350573182106018,
          0.0835098922252655,
          0.10241711884737015,
          0.08877239376306534,
          0.10336623340845108,
          0.08682918548583984,
          0.0812378078699112,
          0.10089390724897385,
          0.06530366837978363,
          0.07978886365890503,
          0.07181545346975327,
          0.0687117949128151,
          0.05601426213979721,
          0.06545101851224899,
          0.0709749087691307,
          0.06426050513982773,
          0.07830645143985748,
          0.061802465468645096
         ]
        },
        {
         "marker": {
          "maxdisplayed": 10
         },
         "mode": "lines+markers",
         "name": "Trial7",
         "type": "scatter",
         "x": [
          0
         ],
         "y": [
          0.22130556404590607
         ]
        },
        {
         "marker": {
          "maxdisplayed": 10
         },
         "mode": "lines+markers",
         "name": "Trial8",
         "type": "scatter",
         "x": [
          0
         ],
         "y": [
          0.20040367543697357
         ]
        },
        {
         "marker": {
          "maxdisplayed": 10
         },
         "mode": "lines+markers",
         "name": "Trial9",
         "type": "scatter",
         "x": [
          0
         ],
         "y": [
          0.19229215383529663
         ]
        },
        {
         "marker": {
          "maxdisplayed": 10
         },
         "mode": "lines+markers",
         "name": "Trial10",
         "type": "scatter",
         "x": [
          0,
          1,
          2,
          3,
          4,
          5,
          6,
          7,
          8,
          9,
          10,
          11,
          12,
          13,
          14,
          15,
          16,
          17,
          18,
          19,
          20,
          21,
          22,
          23,
          24,
          25,
          26,
          27,
          28,
          29,
          30,
          31,
          32,
          33,
          34,
          35
         ],
         "y": [
          0.3238540589809418,
          0.2448163479566574,
          0.18906839191913605,
          0.1632336676120758,
          0.14054667949676514,
          0.12353552132844925,
          0.10443636029958725,
          0.09346316009759903,
          0.08571696281433105,
          0.07661384344100952,
          0.07303795218467712,
          0.07291659712791443,
          0.06954682618379593,
          0.062357641756534576,
          0.06531557440757751,
          0.05640150606632233,
          0.05698106437921524,
          0.05346554145216942,
          0.05226834863424301,
          0.05086370185017586,
          0.0502149723470211,
          0.051497992128133774,
          0.049759894609451294,
          0.05178232491016388,
          0.0486082099378109,
          0.05331255868077278,
          0.047573842108249664,
          0.05048505961894989,
          0.05782688781619072,
          0.047336168587207794,
          0.04473380744457245,
          0.0450737327337265,
          0.044384658336639404,
          0.045652586966753006,
          0.050424959510564804,
          0.04438718035817146
         ]
        },
        {
         "marker": {
          "maxdisplayed": 10
         },
         "mode": "lines+markers",
         "name": "Trial11",
         "type": "scatter",
         "x": [
          0,
          1,
          2,
          3,
          4,
          5,
          6,
          7,
          8,
          9,
          10,
          11,
          12,
          13,
          14,
          15,
          16,
          17,
          18,
          19,
          20,
          21,
          22,
          23,
          24,
          25,
          26,
          27,
          28,
          29,
          30,
          31,
          32,
          33,
          34,
          35,
          36
         ],
         "y": [
          0.3464180529117584,
          0.2643609642982483,
          0.19641374051570892,
          0.16803497076034546,
          0.13547077775001526,
          0.12581773102283478,
          0.1067611575126648,
          0.09818246215581894,
          0.08240301162004471,
          0.07996756583452225,
          0.06768679618835449,
          0.06912220269441605,
          0.06609133630990982,
          0.062405869364738464,
          0.058876316994428635,
          0.057272978127002716,
          0.054178111255168915,
          0.05513215437531471,
          0.049468737095594406,
          0.05205513909459114,
          0.04687429592013359,
          0.048577986657619476,
          0.04719805344939232,
          0.04700378701090813,
          0.04625508561730385,
          0.04319055750966072,
          0.044333137571811676,
          0.04084561765193939,
          0.04470623657107353,
          0.04301955923438072,
          0.04779660701751709,
          0.03977744281291962,
          0.04498179256916046,
          0.043665118515491486,
          0.042439673095941544,
          0.04312431067228317,
          0.049024004489183426
         ]
        },
        {
         "marker": {
          "maxdisplayed": 10
         },
         "mode": "lines+markers",
         "name": "Trial12",
         "type": "scatter",
         "x": [
          0,
          1,
          2,
          3,
          4,
          5,
          6,
          7,
          8,
          9,
          10,
          11,
          12,
          13,
          14,
          15,
          16,
          17,
          18,
          19,
          20,
          21,
          22,
          23,
          24,
          25,
          26,
          27,
          28,
          29,
          30,
          31
         ],
         "y": [
          0.3416631519794464,
          0.2487623542547226,
          0.19154781103134155,
          0.16339191794395447,
          0.1363661140203476,
          0.12209676951169968,
          0.1047339215874672,
          0.09465193748474121,
          0.09726709127426147,
          0.07841524481773376,
          0.07568895071744919,
          0.06865474581718445,
          0.07268238067626953,
          0.06651130318641663,
          0.06058124452829361,
          0.05880681425333023,
          0.06253935396671295,
          0.06037056818604469,
          0.05428296700119972,
          0.05464647710323334,
          0.050567690283060074,
          0.05280422791838646,
          0.04837995767593384,
          0.04812166467308998,
          0.050418924540281296,
          0.048284273594617844,
          0.04684608057141304,
          0.047754161059856415,
          0.04905856400728226,
          0.049951761960983276,
          0.04974789544939995,
          0.04775378108024597
         ]
        },
        {
         "marker": {
          "maxdisplayed": 10
         },
         "mode": "lines+markers",
         "name": "Trial13",
         "type": "scatter",
         "x": [
          0
         ],
         "y": [
          0.25656163692474365
         ]
        },
        {
         "marker": {
          "maxdisplayed": 10
         },
         "mode": "lines+markers",
         "name": "Trial14",
         "type": "scatter",
         "x": [
          0
         ],
         "y": [
          0.2587250769138336
         ]
        },
        {
         "marker": {
          "maxdisplayed": 10
         },
         "mode": "lines+markers",
         "name": "Trial15",
         "type": "scatter",
         "x": [
          0,
          1,
          2,
          3,
          4,
          5,
          6,
          7,
          8,
          9,
          10,
          11,
          12,
          13,
          14,
          15,
          16,
          17,
          18,
          19,
          20,
          21,
          22,
          23,
          24,
          25
         ],
         "y": [
          0.32318857312202454,
          0.24830839037895203,
          0.19577540457248688,
          0.15994292497634888,
          0.14055097103118896,
          0.12173056602478027,
          0.11041320115327835,
          0.10020394623279572,
          0.0928526446223259,
          0.08277763426303864,
          0.08827261626720428,
          0.07110973447561264,
          0.07059304416179657,
          0.06389661133289337,
          0.061361197382211685,
          0.062249064445495605,
          0.06233406439423561,
          0.05597688630223274,
          0.05650809407234192,
          0.05554850399494171,
          0.0495089627802372,
          0.05669263005256653,
          0.0499737523496151,
          0.0515478178858757,
          0.0506037101149559,
          0.0500456877052784
         ]
        },
        {
         "marker": {
          "maxdisplayed": 10
         },
         "mode": "lines+markers",
         "name": "Trial16",
         "type": "scatter",
         "x": [
          0
         ],
         "y": [
          0.26872918009757996
         ]
        },
        {
         "marker": {
          "maxdisplayed": 10
         },
         "mode": "lines+markers",
         "name": "Trial17",
         "type": "scatter",
         "x": [
          0
         ],
         "y": [
          0.27336734533309937
         ]
        },
        {
         "marker": {
          "maxdisplayed": 10
         },
         "mode": "lines+markers",
         "name": "Trial18",
         "type": "scatter",
         "x": [
          0,
          1,
          2,
          3,
          4,
          5,
          6,
          7,
          8,
          9,
          10,
          11,
          12,
          13,
          14,
          15,
          16,
          17,
          18,
          19,
          20,
          21,
          22,
          23,
          24,
          25,
          26,
          27,
          28,
          29,
          30
         ],
         "y": [
          0.3220365047454834,
          0.23489372432231903,
          0.18831153213977814,
          0.15324588119983673,
          0.13741371035575867,
          0.12153054028749466,
          0.1002993956208229,
          0.09267085045576096,
          0.08650074899196625,
          0.083578921854496,
          0.0776631087064743,
          0.0741298720240593,
          0.06953002512454987,
          0.06374120712280273,
          0.0600394532084465,
          0.06290150433778763,
          0.058265816420316696,
          0.05767729878425598,
          0.0565141923725605,
          0.05457932874560356,
          0.053587548434734344,
          0.054383691400289536,
          0.05026853084564209,
          0.052961546927690506,
          0.049876619130373,
          0.048240482807159424,
          0.05006341263651848,
          0.051877234131097794,
          0.04793740063905716,
          0.049959227442741394,
          0.050295647233724594
         ]
        },
        {
         "marker": {
          "maxdisplayed": 10
         },
         "mode": "lines+markers",
         "name": "Trial19",
         "type": "scatter",
         "x": [
          0
         ],
         "y": [
          0.26185253262519836
         ]
        },
        {
         "marker": {
          "maxdisplayed": 10
         },
         "mode": "lines+markers",
         "name": "Trial20",
         "type": "scatter",
         "x": [
          0
         ],
         "y": [
          0.1961294710636139
         ]
        },
        {
         "marker": {
          "maxdisplayed": 10
         },
         "mode": "lines+markers",
         "name": "Trial21",
         "type": "scatter",
         "x": [
          0,
          1,
          2,
          3,
          4,
          5,
          6,
          7,
          8,
          9,
          10,
          11,
          12,
          13,
          14,
          15,
          16,
          17,
          18,
          19,
          20,
          21,
          22,
          23,
          24,
          25,
          26,
          27,
          28,
          29,
          30,
          31,
          32,
          33,
          34
         ],
         "y": [
          0.33964040875434875,
          0.25374850630760193,
          0.19261915981769562,
          0.1802404671907425,
          0.13952788710594177,
          0.12360788881778717,
          0.11024298518896103,
          0.09577485173940659,
          0.08757670223712921,
          0.08959325402975082,
          0.07454310357570648,
          0.07420805841684341,
          0.06764835864305496,
          0.06591536849737167,
          0.06617306172847748,
          0.059204332530498505,
          0.056234534829854965,
          0.05316390469670296,
          0.05509883910417557,
          0.05885818228125572,
          0.051845986396074295,
          0.05366261675953865,
          0.05139242485165596,
          0.05151962861418724,
          0.052458155900239944,
          0.0501713752746582,
          0.04619937762618065,
          0.04860079661011696,
          0.04851260408759117,
          0.04363946244120598,
          0.047087930142879486,
          0.05243759602308273,
          0.04310048744082451,
          0.04428454115986824,
          0.045268889516592026
         ]
        },
        {
         "marker": {
          "maxdisplayed": 10
         },
         "mode": "lines+markers",
         "name": "Trial22",
         "type": "scatter",
         "x": [
          0,
          1,
          2,
          3,
          4,
          5,
          6,
          7,
          8,
          9,
          10,
          11,
          12,
          13,
          14,
          15,
          16,
          17,
          18,
          19,
          20,
          21,
          22,
          23,
          24,
          25,
          26,
          27,
          28,
          29,
          30,
          31,
          32,
          33,
          34,
          35
         ],
         "y": [
          0.3226427435874939,
          0.22849975526332855,
          0.1809285432100296,
          0.14389918744564056,
          0.1270523965358734,
          0.11001601815223694,
          0.10141804814338684,
          0.09135908633470535,
          0.07940599322319031,
          0.07984854280948639,
          0.06791526079177856,
          0.06982507556676865,
          0.06794890016317368,
          0.06026695668697357,
          0.058963097631931305,
          0.053944412618875504,
          0.052994824945926666,
          0.0498255230486393,
          0.05105467140674591,
          0.05104468762874603,
          0.056601859629154205,
          0.051906485110521317,
          0.04778895527124405,
          0.0496487095952034,
          0.05920892953872681,
          0.050786830484867096,
          0.05274469777941704,
          0.04559548944234848,
          0.04659300670027733,
          0.046453870832920074,
          0.04395963251590729,
          0.046621277928352356,
          0.045954328030347824,
          0.0489085428416729,
          0.043878111988306046,
          0.047470059245824814
         ]
        },
        {
         "marker": {
          "maxdisplayed": 10
         },
         "mode": "lines+markers",
         "name": "Trial23",
         "type": "scatter",
         "x": [
          0
         ],
         "y": [
          0.26909351348876953
         ]
        },
        {
         "marker": {
          "maxdisplayed": 10
         },
         "mode": "lines+markers",
         "name": "Trial24",
         "type": "scatter",
         "x": [
          0
         ],
         "y": [
          0.3166196942329407
         ]
        },
        {
         "marker": {
          "maxdisplayed": 10
         },
         "mode": "lines+markers",
         "name": "Trial25",
         "type": "scatter",
         "x": [
          0,
          1,
          2,
          3,
          4,
          5,
          6,
          7,
          8,
          9,
          10,
          11,
          12,
          13,
          14,
          15,
          16,
          17,
          18,
          19,
          20,
          21,
          22,
          23,
          24,
          25,
          26,
          27,
          28,
          29,
          30,
          31,
          32,
          33,
          34,
          35,
          36
         ],
         "y": [
          0.3505190908908844,
          0.25743699073791504,
          0.19622699916362762,
          0.1625402271747589,
          0.13942191004753113,
          0.12192040681838989,
          0.10581837594509125,
          0.09421317279338837,
          0.08929148316383362,
          0.0837799459695816,
          0.07799556106328964,
          0.07051917910575867,
          0.06640464067459106,
          0.06084826588630676,
          0.06276810169219971,
          0.05573873594403267,
          0.05494016408920288,
          0.05805486813187599,
          0.05369383096694946,
          0.05221758782863617,
          0.0548449382185936,
          0.04989035055041313,
          0.0489499606192112,
          0.049190860241651535,
          0.054733000695705414,
          0.05054816976189613,
          0.0462130531668663,
          0.04750930517911911,
          0.04595503956079483,
          0.045296862721443176,
          0.04771249741315842,
          0.043772317469120026,
          0.04931926354765892,
          0.04854514077305794,
          0.043564654886722565,
          0.04795747250318527,
          0.047057006508111954
         ]
        },
        {
         "marker": {
          "maxdisplayed": 10
         },
         "mode": "lines+markers",
         "name": "Trial26",
         "type": "scatter",
         "x": [
          0,
          1,
          2,
          3,
          4,
          5,
          6,
          7,
          8,
          9,
          10,
          11,
          12,
          13,
          14,
          15,
          16,
          17,
          18,
          19,
          20,
          21,
          22,
          23,
          24,
          25,
          26,
          27,
          28,
          29
         ],
         "y": [
          0.35882681608200073,
          0.26568660140037537,
          0.20571689307689667,
          0.1702505201101303,
          0.14628386497497559,
          0.1308785080909729,
          0.11402039974927902,
          0.11336857825517654,
          0.09366558492183685,
          0.08588849008083344,
          0.0786915197968483,
          0.08005686849355698,
          0.0728779137134552,
          0.06588466465473175,
          0.06486695259809494,
          0.06234671548008919,
          0.060025230050086975,
          0.06043008342385292,
          0.0527760349214077,
          0.052723079919815063,
          0.051449283957481384,
          0.0513082891702652,
          0.05137123167514801,
          0.04973926022648811,
          0.04492765665054321,
          0.05085045099258423,
          0.04689449816942215,
          0.04631529003381729,
          0.04616554081439972,
          0.047439854592084885
         ]
        },
        {
         "marker": {
          "maxdisplayed": 10
         },
         "mode": "lines+markers",
         "name": "Trial27",
         "type": "scatter",
         "x": [
          0
         ],
         "y": [
          0.32016804814338684
         ]
        },
        {
         "marker": {
          "maxdisplayed": 10
         },
         "mode": "lines+markers",
         "name": "Trial28",
         "type": "scatter",
         "x": [
          0
         ],
         "y": [
          0.2727808356285095
         ]
        },
        {
         "marker": {
          "maxdisplayed": 10
         },
         "mode": "lines+markers",
         "name": "Trial29",
         "type": "scatter",
         "x": [
          0,
          1,
          2,
          3,
          4,
          5,
          6,
          7,
          8,
          9,
          10,
          11,
          12,
          13,
          14,
          15,
          16,
          17,
          18,
          19,
          20,
          21,
          22,
          23,
          24
         ],
         "y": [
          0.3572036623954773,
          0.2652639150619507,
          0.20722481608390808,
          0.17531925439834595,
          0.15376067161560059,
          0.1337709128856659,
          0.11198161542415619,
          0.10241834819316864,
          0.09320242702960968,
          0.08483729511499405,
          0.08792055398225784,
          0.07431545853614807,
          0.07550518959760666,
          0.07582713663578033,
          0.07128913700580597,
          0.07652360200881958,
          0.06874801218509674,
          0.06833665072917938,
          0.06365586817264557,
          0.05871623754501343,
          0.06140528619289398,
          0.061496514827013016,
          0.0585189014673233,
          0.060383569449186325,
          0.05873459205031395
         ]
        },
        {
         "marker": {
          "maxdisplayed": 10
         },
         "mode": "lines+markers",
         "name": "Trial30",
         "type": "scatter",
         "x": [
          0
         ],
         "y": [
          0.2627043128013611
         ]
        },
        {
         "marker": {
          "maxdisplayed": 10
         },
         "mode": "lines+markers",
         "name": "Trial31",
         "type": "scatter",
         "x": [
          0,
          1,
          2,
          3,
          4,
          5,
          6,
          7,
          8,
          9,
          10,
          11,
          12,
          13,
          14,
          15,
          16,
          17,
          18,
          19,
          20,
          21,
          22,
          23,
          24,
          25,
          26,
          27,
          28,
          29,
          30,
          31
         ],
         "y": [
          0.33678731322288513,
          0.24090944230556488,
          0.19984281063079834,
          0.16156689822673798,
          0.14360328018665314,
          0.12068717926740646,
          0.10586798936128616,
          0.09648482501506805,
          0.08836616575717926,
          0.08775365352630615,
          0.07630414515733719,
          0.07504799962043762,
          0.06517273932695389,
          0.06786894798278809,
          0.06454751640558243,
          0.06210601329803467,
          0.05801965296268463,
          0.05894782394170761,
          0.05514463782310486,
          0.053024377673864365,
          0.05452614277601242,
          0.05407007411122322,
          0.051980458199977875,
          0.04998183622956276,
          0.04874487966299057,
          0.04623996466398239,
          0.04512569308280945,
          0.04600038751959801,
          0.04720635712146759,
          0.04891121760010719,
          0.047186192125082016,
          0.0451083667576313
         ]
        },
        {
         "marker": {
          "maxdisplayed": 10
         },
         "mode": "lines+markers",
         "name": "Trial32",
         "type": "scatter",
         "x": [
          0
         ],
         "y": [
          0.32177603244781494
         ]
        },
        {
         "marker": {
          "maxdisplayed": 10
         },
         "mode": "lines+markers",
         "name": "Trial33",
         "type": "scatter",
         "x": [
          0,
          1,
          2,
          3,
          4,
          5,
          6,
          7,
          8,
          9,
          10,
          11,
          12,
          13,
          14,
          15,
          16,
          17,
          18,
          19,
          20,
          21
         ],
         "y": [
          0.3261897563934326,
          0.23740015923976898,
          0.1945166289806366,
          0.1671185940504074,
          0.1330636739730835,
          0.11181502789258957,
          0.09663431346416473,
          0.08905861526727676,
          0.07981454581022263,
          0.07434853911399841,
          0.07000050693750381,
          0.06918240338563919,
          0.06640032678842545,
          0.06260734051465988,
          0.06412465125322342,
          0.05458036810159683,
          0.05003078281879425,
          0.05764244124293327,
          0.05278276652097702,
          0.05329369381070137,
          0.050520818680524826,
          0.04984927922487259
         ]
        },
        {
         "marker": {
          "maxdisplayed": 10
         },
         "mode": "lines+markers",
         "name": "Trial34",
         "type": "scatter",
         "x": [
          0
         ],
         "y": [
          0.3189733922481537
         ]
        },
        {
         "marker": {
          "maxdisplayed": 10
         },
         "mode": "lines+markers",
         "name": "Trial35",
         "type": "scatter",
         "x": [
          0,
          1,
          2,
          3,
          4,
          5,
          6,
          7,
          8,
          9,
          10,
          11,
          12,
          13,
          14,
          15,
          16,
          17,
          18,
          19,
          20,
          21,
          22
         ],
         "y": [
          0.3300107419490814,
          0.26675647497177124,
          0.22234047949314117,
          0.2043226808309555,
          0.15969422459602356,
          0.14196141064167023,
          0.15270529687404633,
          0.11252086609601974,
          0.10545336455106735,
          0.10517651587724686,
          0.10889830440282822,
          0.08970683068037033,
          0.0898134782910347,
          0.0904996395111084,
          0.08048972487449646,
          0.0788470208644867,
          0.09029102325439453,
          0.06444404274225235,
          0.0722341537475586,
          0.0739961639046669,
          0.0694984570145607,
          0.08834753185510635,
          0.06872523576021194
         ]
        },
        {
         "marker": {
          "maxdisplayed": 10
         },
         "mode": "lines+markers",
         "name": "Trial36",
         "type": "scatter",
         "x": [
          0
         ],
         "y": [
          0.2943020761013031
         ]
        },
        {
         "marker": {
          "maxdisplayed": 10
         },
         "mode": "lines+markers",
         "name": "Trial37",
         "type": "scatter",
         "x": [
          0,
          1,
          2,
          3,
          4,
          5,
          6,
          7,
          8,
          9,
          10,
          11,
          12,
          13,
          14,
          15,
          16,
          17,
          18,
          19,
          20,
          21,
          22,
          23,
          24,
          25,
          26,
          27,
          28,
          29,
          30,
          31,
          32,
          33,
          34,
          35,
          36,
          37,
          38,
          39,
          40,
          41,
          42,
          43,
          44,
          45,
          46,
          47,
          48,
          49
         ],
         "y": [
          0.48272600769996643,
          0.37723496556282043,
          0.32709360122680664,
          0.29362398386001587,
          0.2675992250442505,
          0.24404755234718323,
          0.2304939329624176,
          0.21666714549064636,
          0.20896749198436737,
          0.20258672535419464,
          0.18953239917755127,
          0.18305788934230804,
          0.17454959452152252,
          0.16830366849899292,
          0.16321201622486115,
          0.15605564415454865,
          0.15150167047977448,
          0.14937929809093475,
          0.14590367674827576,
          0.14261651039123535,
          0.1370609998703003,
          0.13552488386631012,
          0.13324370980262756,
          0.12858566641807556,
          0.1292809247970581,
          0.12723037600517273,
          0.12648820877075195,
          0.1231960728764534,
          0.12037990242242813,
          0.11959558725357056,
          0.11611070483922958,
          0.12003504484891891,
          0.11509830504655838,
          0.11483997851610184,
          0.10996583104133606,
          0.11143072694540024,
          0.10843514651060104,
          0.10663455724716187,
          0.10958480089902878,
          0.10529978573322296,
          0.10635068267583847,
          0.10641060024499893,
          0.10363951325416565,
          0.10079862177371979,
          0.09934420883655548,
          0.10183296352624893,
          0.1025051474571228,
          0.09841525554656982,
          0.09957452118396759,
          0.10232822597026825
         ]
        },
        {
         "marker": {
          "maxdisplayed": 10
         },
         "mode": "lines+markers",
         "name": "Trial38",
         "type": "scatter",
         "x": [
          0,
          1,
          2,
          3,
          4,
          5,
          6,
          7,
          8,
          9,
          10,
          11,
          12,
          13,
          14,
          15,
          16,
          17,
          18,
          19,
          20,
          21,
          22,
          23,
          24,
          25,
          26,
          27,
          28,
          29,
          30
         ],
         "y": [
          0.33844608068466187,
          0.24563561379909515,
          0.19483210146427155,
          0.15711528062820435,
          0.134597510099411,
          0.11019034683704376,
          0.09934685379266739,
          0.09311223775148392,
          0.08546420931816101,
          0.07595757395029068,
          0.07332159578800201,
          0.06954477727413177,
          0.06565970182418823,
          0.061328787356615067,
          0.06539376080036163,
          0.05558214709162712,
          0.05244896560907364,
          0.054530687630176544,
          0.05611082538962364,
          0.053896307945251465,
          0.05135364457964897,
          0.05692080780863762,
          0.04632657766342163,
          0.05308659002184868,
          0.046238843351602554,
          0.04527659714221954,
          0.04693957045674324,
          0.04737380892038345,
          0.04519530385732651,
          0.044649071991443634,
          0.04552993178367615
         ]
        },
        {
         "marker": {
          "maxdisplayed": 10
         },
         "mode": "lines+markers",
         "name": "Trial39",
         "type": "scatter",
         "x": [
          0
         ],
         "y": [
          0.21403546631336212
         ]
        },
        {
         "marker": {
          "maxdisplayed": 10
         },
         "mode": "lines+markers",
         "name": "Trial40",
         "type": "scatter",
         "x": [
          0,
          1,
          2,
          3,
          4,
          5,
          6,
          7,
          8,
          9,
          10,
          11,
          12,
          13,
          14,
          15,
          16,
          17,
          18,
          19,
          20,
          21,
          22,
          23,
          24,
          25,
          26,
          27,
          28,
          29,
          30,
          31,
          32,
          33,
          34,
          35,
          36,
          37,
          38,
          39,
          40,
          41,
          42,
          43,
          44,
          45,
          46,
          47,
          48
         ],
         "y": [
          0.40379393100738525,
          0.32407113909721375,
          0.2859078049659729,
          0.2486867755651474,
          0.23457424342632294,
          0.2230776846408844,
          0.20070013403892517,
          0.1781674325466156,
          0.17009709775447845,
          0.16329848766326904,
          0.15015831589698792,
          0.14264468848705292,
          0.1337415724992752,
          0.13384486734867096,
          0.12194123864173889,
          0.12228532135486603,
          0.11121446639299393,
          0.11026701331138611,
          0.11104794591665268,
          0.10532232373952866,
          0.09615488350391388,
          0.09674844145774841,
          0.09561564028263092,
          0.08844651281833649,
          0.08404013514518738,
          0.08417689055204391,
          0.08341541141271591,
          0.08258762210607529,
          0.07834062725305557,
          0.0797664076089859,
          0.07788359373807907,
          0.07314924895763397,
          0.07260898500680923,
          0.07173587381839752,
          0.08199919015169144,
          0.07126179337501526,
          0.06653598695993423,
          0.06640496104955673,
          0.07064206898212433,
          0.06482511013746262,
          0.06368876993656158,
          0.0638897642493248,
          0.0635133609175682,
          0.05983305722475052,
          0.061951253563165665,
          0.059065140783786774,
          0.05949593335390091,
          0.06216469407081604,
          0.06204184144735336
         ]
        },
        {
         "marker": {
          "maxdisplayed": 10
         },
         "mode": "lines+markers",
         "name": "Trial41",
         "type": "scatter",
         "x": [
          0,
          1,
          2,
          3,
          4,
          5,
          6,
          7,
          8,
          9,
          10,
          11,
          12,
          13,
          14,
          15,
          16,
          17,
          18,
          19,
          20,
          21,
          22,
          23,
          24,
          25,
          26,
          27,
          28,
          29,
          30,
          31,
          32
         ],
         "y": [
          0.3450411558151245,
          0.25585100054740906,
          0.2029721885919571,
          0.16444076597690582,
          0.1425321400165558,
          0.12338917702436447,
          0.11530929803848267,
          0.10165286809206009,
          0.09336540848016739,
          0.08564680069684982,
          0.07674285769462585,
          0.07265838235616684,
          0.07313044369220734,
          0.06722947955131531,
          0.06273949891328812,
          0.061344701796770096,
          0.05777411535382271,
          0.05538589507341385,
          0.06499619781970978,
          0.05221547186374664,
          0.05760091543197632,
          0.06415154039859772,
          0.052453041076660156,
          0.05067545920610428,
          0.047962043434381485,
          0.056793954223394394,
          0.048577696084976196,
          0.04614516720175743,
          0.04983371123671532,
          0.0487234890460968,
          0.049358535557985306,
          0.04751609265804291,
          0.047039538621902466
         ]
        },
        {
         "marker": {
          "maxdisplayed": 10
         },
         "mode": "lines+markers",
         "name": "Trial42",
         "type": "scatter",
         "x": [
          0
         ],
         "y": [
          0.3166852593421936
         ]
        },
        {
         "marker": {
          "maxdisplayed": 10
         },
         "mode": "lines+markers",
         "name": "Trial43",
         "type": "scatter",
         "x": [
          0
         ],
         "y": [
          0.299715518951416
         ]
        },
        {
         "marker": {
          "maxdisplayed": 10
         },
         "mode": "lines+markers",
         "name": "Trial44",
         "type": "scatter",
         "x": [
          0
         ],
         "y": [
          0.18464623391628265
         ]
        },
        {
         "marker": {
          "maxdisplayed": 10
         },
         "mode": "lines+markers",
         "name": "Trial45",
         "type": "scatter",
         "x": [
          0
         ],
         "y": [
          0.31709039211273193
         ]
        },
        {
         "marker": {
          "maxdisplayed": 10
         },
         "mode": "lines+markers",
         "name": "Trial46",
         "type": "scatter",
         "x": [
          0,
          1,
          2,
          3,
          4,
          5,
          6,
          7,
          8,
          9,
          10,
          11,
          12,
          13,
          14,
          15,
          16,
          17,
          18,
          19,
          20,
          21,
          22,
          23,
          24,
          25,
          26,
          27,
          28,
          29,
          30,
          31,
          32,
          33,
          34,
          35,
          36,
          37,
          38,
          39,
          40,
          41,
          42
         ],
         "y": [
          0.36899644136428833,
          0.2887209355831146,
          0.2591210603713989,
          0.23233173787593842,
          0.19994330406188965,
          0.18994350731372833,
          0.16986218094825745,
          0.16253693401813507,
          0.15061317384243011,
          0.13680607080459595,
          0.13370607793331146,
          0.1284686028957367,
          0.12260835617780685,
          0.11195341497659683,
          0.10472208261489868,
          0.10968977212905884,
          0.10126086324453354,
          0.10305008292198181,
          0.09331054240465164,
          0.0891854390501976,
          0.09139002859592438,
          0.09201238304376602,
          0.0857873260974884,
          0.08567716926336288,
          0.07552559673786163,
          0.07266224920749664,
          0.06951841711997986,
          0.06911870092153549,
          0.0694919303059578,
          0.07004376500844955,
          0.06785973161458969,
          0.07150464504957199,
          0.06852418184280396,
          0.06407546997070312,
          0.07066500186920166,
          0.06235191971063614,
          0.06675441563129425,
          0.05784231796860695,
          0.061689287424087524,
          0.06337787210941315,
          0.080289825797081,
          0.05875374376773834,
          0.06330836564302444
         ]
        },
        {
         "marker": {
          "maxdisplayed": 10
         },
         "mode": "lines+markers",
         "name": "Trial47",
         "type": "scatter",
         "x": [
          0
         ],
         "y": [
          0.2741190493106842
         ]
        },
        {
         "marker": {
          "maxdisplayed": 10
         },
         "mode": "lines+markers",
         "name": "Trial48",
         "type": "scatter",
         "x": [
          0,
          1,
          2,
          3,
          4,
          5,
          6,
          7,
          8,
          9,
          10,
          11,
          12,
          13,
          14,
          15,
          16,
          17,
          18,
          19,
          20,
          21,
          22,
          23,
          24,
          25,
          26,
          27,
          28,
          29,
          30,
          31,
          32,
          33,
          34,
          35,
          36,
          37,
          38,
          39,
          40,
          41,
          42,
          43,
          44,
          45,
          46,
          47,
          48
         ],
         "y": [
          0.4270878732204437,
          0.33273845911026,
          0.28853946924209595,
          0.24982565641403198,
          0.2215164601802826,
          0.2007351815700531,
          0.18207131326198578,
          0.17180515825748444,
          0.15767991542816162,
          0.1492588222026825,
          0.14128851890563965,
          0.13636507093906403,
          0.12867289781570435,
          0.12464573979377747,
          0.11999152600765228,
          0.11479095369577408,
          0.11229763180017471,
          0.10809752345085144,
          0.10484348237514496,
          0.10238715261220932,
          0.10233747959136963,
          0.09761778265237808,
          0.09509608149528503,
          0.09515120834112167,
          0.09104626625776291,
          0.08888962864875793,
          0.08789937198162079,
          0.08655819296836853,
          0.08518917858600616,
          0.08350022882223129,
          0.07972399145364761,
          0.08014913648366928,
          0.07956591993570328,
          0.07680423557758331,
          0.07750251889228821,
          0.07645712047815323,
          0.07507061213254929,
          0.07446667551994324,
          0.07358445972204208,
          0.07361872494220734,
          0.07155261188745499,
          0.07182764261960983,
          0.07411735504865646,
          0.06838684529066086,
          0.06835430860519409,
          0.07087458670139313,
          0.06913091987371445,
          0.0704188421368599,
          0.07132434099912643
         ]
        },
        {
         "marker": {
          "maxdisplayed": 10
         },
         "mode": "lines+markers",
         "name": "Trial49",
         "type": "scatter",
         "x": [
          0
         ],
         "y": [
          0.3203997015953064
         ]
        },
        {
         "marker": {
          "maxdisplayed": 10
         },
         "mode": "lines+markers",
         "name": "Trial50",
         "type": "scatter",
         "x": [
          0
         ],
         "y": [
          0.29247167706489563
         ]
        },
        {
         "marker": {
          "maxdisplayed": 10
         },
         "mode": "lines+markers",
         "name": "Trial51",
         "type": "scatter",
         "x": [
          0,
          1,
          2,
          3,
          4,
          5,
          6,
          7,
          8,
          9,
          10,
          11,
          12,
          13,
          14,
          15,
          16,
          17,
          18,
          19,
          20,
          21,
          22,
          23,
          24,
          25,
          26,
          27,
          28,
          29
         ],
         "y": [
          0.3386003077030182,
          0.2541780471801758,
          0.18918456137180328,
          0.16204313933849335,
          0.1341310739517212,
          0.11876789480447769,
          0.10357599705457687,
          0.0960090234875679,
          0.08443354815244675,
          0.08571134507656097,
          0.07678887248039246,
          0.07273644953966141,
          0.07005743682384491,
          0.06571697443723679,
          0.06270016729831696,
          0.05666432902216911,
          0.05714568868279457,
          0.057280056178569794,
          0.05252521112561226,
          0.054343290627002716,
          0.05304381623864174,
          0.04914386197924614,
          0.047904592007398605,
          0.05161232873797417,
          0.04680432006716728,
          0.04793241247534752,
          0.047360677272081375,
          0.04922043904662132,
          0.047551315277814865,
          0.04964563250541687
         ]
        },
        {
         "marker": {
          "maxdisplayed": 10
         },
         "mode": "lines+markers",
         "name": "Trial52",
         "type": "scatter",
         "x": [
          0
         ],
         "y": [
          0.31613829731941223
         ]
        },
        {
         "marker": {
          "maxdisplayed": 10
         },
         "mode": "lines+markers",
         "name": "Trial53",
         "type": "scatter",
         "x": [
          0,
          1,
          2,
          3,
          4,
          5,
          6,
          7,
          8,
          9,
          10,
          11,
          12,
          13,
          14,
          15,
          16,
          17,
          18,
          19,
          20,
          21,
          22,
          23,
          24,
          25,
          26,
          27
         ],
         "y": [
          0.3444443941116333,
          0.26510393619537354,
          0.20379644632339478,
          0.16735641658306122,
          0.1483045369386673,
          0.12795761227607727,
          0.11108046770095825,
          0.1015048697590828,
          0.09604395925998688,
          0.08496883511543274,
          0.07722336053848267,
          0.07570496201515198,
          0.06887321919202805,
          0.07223701477050781,
          0.06383801251649857,
          0.06055249646306038,
          0.05750783532857895,
          0.05333354324102402,
          0.053828515112400055,
          0.0546991303563118,
          0.04981237277388573,
          0.05324098840355873,
          0.048023074865341187,
          0.04875125363469124,
          0.04956929385662079,
          0.04820220172405243,
          0.04824674129486084,
          0.048197608441114426
         ]
        },
        {
         "marker": {
          "maxdisplayed": 10
         },
         "mode": "lines+markers",
         "name": "Trial54",
         "type": "scatter",
         "x": [
          0,
          1,
          2,
          3,
          4,
          5,
          6,
          7,
          8,
          9,
          10,
          11,
          12,
          13,
          14,
          15,
          16,
          17,
          18,
          19,
          20,
          21,
          22,
          23,
          24,
          25,
          26,
          27,
          28,
          29,
          30,
          31,
          32,
          33,
          34
         ],
         "y": [
          0.3482518792152405,
          0.26752012968063354,
          0.22236040234565735,
          0.18483702838420868,
          0.16322629153728485,
          0.14123433828353882,
          0.1275043934583664,
          0.11934084445238113,
          0.10929282754659653,
          0.09636874496936798,
          0.09220688045024872,
          0.08405715972185135,
          0.08034292608499527,
          0.07496019452810287,
          0.07063160091638565,
          0.0662788674235344,
          0.06505922228097916,
          0.0654592290520668,
          0.0602334626019001,
          0.059768278151750565,
          0.05626764893531799,
          0.06295809894800186,
          0.05706258490681648,
          0.05498402565717697,
          0.056942056864500046,
          0.05400574207305908,
          0.054483070969581604,
          0.05578230693936348,
          0.053153250366449356,
          0.04964979737997055,
          0.04983902722597122,
          0.0537407249212265,
          0.05204875022172928,
          0.04887252300977707,
          0.05218929424881935
         ]
        },
        {
         "marker": {
          "maxdisplayed": 10
         },
         "mode": "lines+markers",
         "name": "Trial55",
         "type": "scatter",
         "x": [
          0
         ],
         "y": [
          0.3104248642921448
         ]
        },
        {
         "marker": {
          "maxdisplayed": 10
         },
         "mode": "lines+markers",
         "name": "Trial56",
         "type": "scatter",
         "x": [
          0
         ],
         "y": [
          0.3252706825733185
         ]
        },
        {
         "marker": {
          "maxdisplayed": 10
         },
         "mode": "lines+markers",
         "name": "Trial57",
         "type": "scatter",
         "x": [
          0,
          1,
          2,
          3,
          4,
          5,
          6,
          7,
          8,
          9,
          10,
          11,
          12,
          13,
          14,
          15,
          16,
          17,
          18,
          19,
          20,
          21,
          22,
          23,
          24,
          25,
          26,
          27,
          28,
          29,
          30,
          31,
          32,
          33,
          34,
          35,
          36,
          37,
          38,
          39,
          40,
          41,
          42,
          43,
          44,
          45,
          46,
          47,
          48,
          49
         ],
         "y": [
          0.39741596579551697,
          0.33242741227149963,
          0.27975907921791077,
          0.25493040680885315,
          0.23761366307735443,
          0.2116021066904068,
          0.19553837180137634,
          0.1832355558872223,
          0.16815553605556488,
          0.15976016223430634,
          0.15751361846923828,
          0.1461731493473053,
          0.14520272612571716,
          0.13338983058929443,
          0.12354083359241486,
          0.12659288942813873,
          0.12411396205425262,
          0.10744564235210419,
          0.10490313917398453,
          0.11097913235425949,
          0.09983948618173599,
          0.09173573553562164,
          0.09153234958648682,
          0.09284619241952896,
          0.08697418123483658,
          0.08748641610145569,
          0.08298756182193756,
          0.07850994169712067,
          0.0809285119175911,
          0.07880732417106628,
          0.07596258074045181,
          0.07247356325387955,
          0.07338221371173859,
          0.07843312621116638,
          0.07544119656085968,
          0.07181322574615479,
          0.070028156042099,
          0.06780555844306946,
          0.06910856813192368,
          0.07000022381544113,
          0.06993678212165833,
          0.06969137489795685,
          0.06531570851802826,
          0.06575773656368256,
          0.0622289665043354,
          0.059005655348300934,
          0.06401904672384262,
          0.06051448732614517,
          0.06555967777967453,
          0.06230124086141586
         ]
        },
        {
         "marker": {
          "maxdisplayed": 10
         },
         "mode": "lines+markers",
         "name": "Trial58",
         "type": "scatter",
         "x": [
          0
         ],
         "y": [
          0.2451094537973404
         ]
        },
        {
         "marker": {
          "maxdisplayed": 10
         },
         "mode": "lines+markers",
         "name": "Trial59",
         "type": "scatter",
         "x": [
          0
         ],
         "y": [
          0.18526490032672882
         ]
        },
        {
         "marker": {
          "maxdisplayed": 10
         },
         "mode": "lines+markers",
         "name": "Trial60",
         "type": "scatter",
         "x": [
          0
         ],
         "y": [
          0.22927677631378174
         ]
        },
        {
         "marker": {
          "maxdisplayed": 10
         },
         "mode": "lines+markers",
         "name": "Trial61",
         "type": "scatter",
         "x": [
          0,
          1,
          2,
          3,
          4,
          5,
          6,
          7,
          8,
          9,
          10,
          11,
          12,
          13,
          14,
          15,
          16,
          17,
          18,
          19,
          20,
          21,
          22,
          23,
          24,
          25,
          26,
          27,
          28,
          29
         ],
         "y": [
          0.35233256220817566,
          0.24644087255001068,
          0.20134612917900085,
          0.16574104130268097,
          0.1397177278995514,
          0.1335558444261551,
          0.10567516088485718,
          0.09885117411613464,
          0.08903852850198746,
          0.08034008741378784,
          0.07299651205539703,
          0.0724940374493599,
          0.06595417857170105,
          0.06416783481836319,
          0.06271090358495712,
          0.0597476102411747,
          0.05599679425358772,
          0.054923444986343384,
          0.05525853857398033,
          0.05525487661361694,
          0.05645594373345375,
          0.05006149783730507,
          0.051738668233156204,
          0.04948638379573822,
          0.04742610454559326,
          0.054469794034957886,
          0.04883987829089165,
          0.04826565459370613,
          0.05187743157148361,
          0.04711638763546944
         ]
        },
        {
         "marker": {
          "maxdisplayed": 10
         },
         "mode": "lines+markers",
         "name": "Trial62",
         "type": "scatter",
         "x": [
          0
         ],
         "y": [
          0.2460256665945053
         ]
        },
        {
         "marker": {
          "maxdisplayed": 10
         },
         "mode": "lines+markers",
         "name": "Trial63",
         "type": "scatter",
         "x": [
          0
         ],
         "y": [
          0.3288300335407257
         ]
        },
        {
         "marker": {
          "maxdisplayed": 10
         },
         "mode": "lines+markers",
         "name": "Trial64",
         "type": "scatter",
         "x": [
          0
         ],
         "y": [
          0.31962820887565613
         ]
        },
        {
         "marker": {
          "maxdisplayed": 10
         },
         "mode": "lines+markers",
         "name": "Trial65",
         "type": "scatter",
         "x": [
          0
         ],
         "y": [
          0.3212055265903473
         ]
        },
        {
         "marker": {
          "maxdisplayed": 10
         },
         "mode": "lines+markers",
         "name": "Trial66",
         "type": "scatter",
         "x": [
          0
         ],
         "y": [
          0.3308697044849396
         ]
        },
        {
         "marker": {
          "maxdisplayed": 10
         },
         "mode": "lines+markers",
         "name": "Trial67",
         "type": "scatter",
         "x": [
          0
         ],
         "y": [
          0.2892630696296692
         ]
        },
        {
         "marker": {
          "maxdisplayed": 10
         },
         "mode": "lines+markers",
         "name": "Trial68",
         "type": "scatter",
         "x": [
          0,
          1,
          2,
          3,
          4,
          5,
          6,
          7,
          8,
          9,
          10,
          11,
          12,
          13,
          14,
          15,
          16,
          17,
          18,
          19,
          20,
          21,
          22,
          23,
          24,
          25,
          26,
          27,
          28,
          29
         ],
         "y": [
          0.3546421527862549,
          0.28129324316978455,
          0.2112419605255127,
          0.17811235785484314,
          0.15286734700202942,
          0.13409863412380219,
          0.12303027510643005,
          0.10947538167238235,
          0.09960396587848663,
          0.0898822471499443,
          0.08004879951477051,
          0.08244750648736954,
          0.07182230055332184,
          0.072898730635643,
          0.07165990024805069,
          0.06685660779476166,
          0.06487017124891281,
          0.06499167531728745,
          0.05973402038216591,
          0.06053198501467705,
          0.05803816020488739,
          0.05920367315411568,
          0.061491064727306366,
          0.05660613253712654,
          0.05253954231739044,
          0.0550592876970768,
          0.05604645237326622,
          0.05438842251896858,
          0.05656205862760544,
          0.05754964426159859
         ]
        },
        {
         "marker": {
          "maxdisplayed": 10
         },
         "mode": "lines+markers",
         "name": "Trial69",
         "type": "scatter",
         "x": [
          0
         ],
         "y": [
          0.312590092420578
         ]
        },
        {
         "marker": {
          "maxdisplayed": 10
         },
         "mode": "lines+markers",
         "name": "Trial70",
         "type": "scatter",
         "x": [
          0,
          1,
          2,
          3,
          4,
          5,
          6,
          7,
          8,
          9,
          10,
          11,
          12,
          13,
          14,
          15,
          16,
          17,
          18,
          19,
          20,
          21,
          22,
          23,
          24,
          25,
          26,
          27,
          28,
          29,
          30,
          31,
          32,
          33,
          34,
          35,
          36,
          37
         ],
         "y": [
          0.3984863758087158,
          0.2847808599472046,
          0.23841342329978943,
          0.2045430690050125,
          0.1971207559108734,
          0.18505938351154327,
          0.14793461561203003,
          0.1535322666168213,
          0.14150947332382202,
          0.1279672384262085,
          0.11559321731328964,
          0.12002990394830704,
          0.10804776847362518,
          0.10717201977968216,
          0.10920726507902145,
          0.10478746891021729,
          0.09267561137676239,
          0.09879104048013687,
          0.09379439800977707,
          0.09051796793937683,
          0.08591438829898834,
          0.0760021060705185,
          0.07663372159004211,
          0.0768992230296135,
          0.07490224391222,
          0.07759498804807663,
          0.07066161930561066,
          0.07020201534032822,
          0.06837208569049835,
          0.0757819339632988,
          0.07128141820430756,
          0.06286386400461197,
          0.0590587817132473,
          0.06697091460227966,
          0.06017870828509331,
          0.06379829347133636,
          0.05870315805077553,
          0.06670671701431274
         ]
        },
        {
         "marker": {
          "maxdisplayed": 10
         },
         "mode": "lines+markers",
         "name": "Trial71",
         "type": "scatter",
         "x": [
          0,
          1,
          2,
          3,
          4,
          5,
          6,
          7,
          8,
          9,
          10,
          11,
          12,
          13,
          14,
          15,
          16,
          17,
          18,
          19,
          20,
          21,
          22,
          23,
          24,
          25,
          26,
          27,
          28,
          29,
          30,
          31,
          32
         ],
         "y": [
          0.34394949674606323,
          0.25694531202316284,
          0.20794865489006042,
          0.1760585606098175,
          0.14564603567123413,
          0.1295131891965866,
          0.11824693530797958,
          0.1025909036397934,
          0.09617704153060913,
          0.09168975055217743,
          0.08124740421772003,
          0.07773970812559128,
          0.06999116390943527,
          0.06679892539978027,
          0.06526246666908264,
          0.06050773710012436,
          0.06062770262360573,
          0.06267137080430984,
          0.0558512918651104,
          0.05579211935400963,
          0.05192653089761734,
          0.05113998427987099,
          0.04983321204781532,
          0.05599423497915268,
          0.05018698051571846,
          0.05084525793790817,
          0.05133500695228577,
          0.04612402990460396,
          0.04715518280863762,
          0.04898258298635483,
          0.04886947199702263,
          0.04684436321258545,
          0.04805629327893257
         ]
        },
        {
         "marker": {
          "maxdisplayed": 10
         },
         "mode": "lines+markers",
         "name": "Trial72",
         "type": "scatter",
         "x": [
          0
         ],
         "y": [
          0.3284936845302582
         ]
        },
        {
         "marker": {
          "maxdisplayed": 10
         },
         "mode": "lines+markers",
         "name": "Trial73",
         "type": "scatter",
         "x": [
          0
         ],
         "y": [
          0.3254024088382721
         ]
        },
        {
         "marker": {
          "maxdisplayed": 10
         },
         "mode": "lines+markers",
         "name": "Trial74",
         "type": "scatter",
         "x": [
          0
         ],
         "y": [
          0.3227706253528595
         ]
        },
        {
         "marker": {
          "maxdisplayed": 10
         },
         "mode": "lines+markers",
         "name": "Trial75",
         "type": "scatter",
         "x": [
          0
         ],
         "y": [
          0.33891910314559937
         ]
        },
        {
         "marker": {
          "maxdisplayed": 10
         },
         "mode": "lines+markers",
         "name": "Trial76",
         "type": "scatter",
         "x": [
          0
         ],
         "y": [
          0.23537302017211914
         ]
        },
        {
         "marker": {
          "maxdisplayed": 10
         },
         "mode": "lines+markers",
         "name": "Trial77",
         "type": "scatter",
         "x": [
          0
         ],
         "y": [
          0.3330956697463989
         ]
        },
        {
         "marker": {
          "maxdisplayed": 10
         },
         "mode": "lines+markers",
         "name": "Trial78",
         "type": "scatter",
         "x": [
          0
         ],
         "y": [
          0.33027777075767517
         ]
        },
        {
         "marker": {
          "maxdisplayed": 10
         },
         "mode": "lines+markers",
         "name": "Trial79",
         "type": "scatter",
         "x": [
          0,
          1,
          2,
          3,
          4,
          5,
          6,
          7,
          8,
          9,
          10,
          11,
          12,
          13,
          14,
          15,
          16,
          17,
          18,
          19,
          20,
          21,
          22,
          23,
          24,
          25,
          26,
          27,
          28,
          29,
          30,
          31,
          32,
          33,
          34,
          35,
          36
         ],
         "y": [
          0.34630805253982544,
          0.25401100516319275,
          0.2108333855867386,
          0.16642560064792633,
          0.14669276773929596,
          0.12924014031887054,
          0.11617366969585419,
          0.10257899761199951,
          0.09402233362197876,
          0.08537811785936356,
          0.07864163815975189,
          0.07500549405813217,
          0.06782456487417221,
          0.06700743734836578,
          0.061789847910404205,
          0.061318278312683105,
          0.059657011181116104,
          0.05870148167014122,
          0.05881865322589874,
          0.056265950202941895,
          0.05281905457377434,
          0.052162837237119675,
          0.05347749590873718,
          0.05439622327685356,
          0.051530178636312485,
          0.05116723105311394,
          0.047887321561574936,
          0.05002693086862564,
          0.04664774239063263,
          0.04624536260962486,
          0.04786989465355873,
          0.04509301856160164,
          0.04826429486274719,
          0.0481027290225029,
          0.04634895920753479,
          0.045245468616485596,
          0.04475545138120651
         ]
        },
        {
         "marker": {
          "maxdisplayed": 10
         },
         "mode": "lines+markers",
         "name": "Trial80",
         "type": "scatter",
         "x": [
          0
         ],
         "y": [
          0.31446391344070435
         ]
        },
        {
         "marker": {
          "maxdisplayed": 10
         },
         "mode": "lines+markers",
         "name": "Trial81",
         "type": "scatter",
         "x": [
          0
         ],
         "y": [
          0.3275603652000427
         ]
        },
        {
         "marker": {
          "maxdisplayed": 10
         },
         "mode": "lines+markers",
         "name": "Trial82",
         "type": "scatter",
         "x": [
          0
         ],
         "y": [
          0.3413858711719513
         ]
        },
        {
         "marker": {
          "maxdisplayed": 10
         },
         "mode": "lines+markers",
         "name": "Trial83",
         "type": "scatter",
         "x": [
          0
         ],
         "y": [
          0.32486170530319214
         ]
        },
        {
         "marker": {
          "maxdisplayed": 10
         },
         "mode": "lines+markers",
         "name": "Trial84",
         "type": "scatter",
         "x": [
          0,
          1,
          2,
          3,
          4,
          5,
          6,
          7,
          8,
          9,
          10,
          11,
          12,
          13,
          14,
          15,
          16,
          17,
          18,
          19,
          20,
          21,
          22,
          23,
          24,
          25,
          26,
          27,
          28,
          29,
          30,
          31,
          32,
          33,
          34,
          35,
          36
         ],
         "y": [
          0.3539833724498749,
          0.2669655978679657,
          0.21789127588272095,
          0.18180876970291138,
          0.15351928770542145,
          0.13178588449954987,
          0.11672795563936234,
          0.10661489516496658,
          0.09544987231492996,
          0.09220351278781891,
          0.08035174757242203,
          0.0781407579779625,
          0.0735711082816124,
          0.07125416398048401,
          0.06780816614627838,
          0.06290758401155472,
          0.062111031264066696,
          0.05676514655351639,
          0.05666489526629448,
          0.06006885692477226,
          0.055352237075567245,
          0.05624983832240105,
          0.05157344043254852,
          0.05432815104722977,
          0.05216227099299431,
          0.053185392171144485,
          0.054033730179071426,
          0.048937831073999405,
          0.050266094505786896,
          0.04733886197209358,
          0.04863007739186287,
          0.04513917118310928,
          0.04470030218362808,
          0.04854828864336014,
          0.046596117317676544,
          0.04516063630580902,
          0.044899486005306244
         ]
        },
        {
         "marker": {
          "maxdisplayed": 10
         },
         "mode": "lines+markers",
         "name": "Trial85",
         "type": "scatter",
         "x": [
          0
         ],
         "y": [
          0.34162065386772156
         ]
        },
        {
         "marker": {
          "maxdisplayed": 10
         },
         "mode": "lines+markers",
         "name": "Trial86",
         "type": "scatter",
         "x": [
          0
         ],
         "y": [
          0.315958708524704
         ]
        },
        {
         "marker": {
          "maxdisplayed": 10
         },
         "mode": "lines+markers",
         "name": "Trial87",
         "type": "scatter",
         "x": [
          0
         ],
         "y": [
          0.23561516404151917
         ]
        },
        {
         "marker": {
          "maxdisplayed": 10
         },
         "mode": "lines+markers",
         "name": "Trial88",
         "type": "scatter",
         "x": [
          0
         ],
         "y": [
          0.3313910961151123
         ]
        },
        {
         "marker": {
          "maxdisplayed": 10
         },
         "mode": "lines+markers",
         "name": "Trial89",
         "type": "scatter",
         "x": [
          0
         ],
         "y": [
          0.3183741569519043
         ]
        },
        {
         "marker": {
          "maxdisplayed": 10
         },
         "mode": "lines+markers",
         "name": "Trial90",
         "type": "scatter",
         "x": [
          0
         ],
         "y": [
          0.33702605962753296
         ]
        },
        {
         "marker": {
          "maxdisplayed": 10
         },
         "mode": "lines+markers",
         "name": "Trial91",
         "type": "scatter",
         "x": [
          0,
          1,
          2,
          3,
          4,
          5,
          6,
          7,
          8,
          9,
          10,
          11,
          12,
          13,
          14,
          15,
          16,
          17,
          18,
          19,
          20,
          21,
          22,
          23,
          24,
          25,
          26,
          27,
          28,
          29,
          30,
          31,
          32,
          33,
          34,
          35,
          36,
          37,
          38
         ],
         "y": [
          0.3605477213859558,
          0.25237101316452026,
          0.20499452948570251,
          0.1734318882226944,
          0.14730215072631836,
          0.13026508688926697,
          0.11307115107774734,
          0.10303513705730438,
          0.09640633314847946,
          0.08388206362724304,
          0.08405515551567078,
          0.077156662940979,
          0.0738106444478035,
          0.07014542073011398,
          0.06697715818881989,
          0.06602732837200165,
          0.06490212678909302,
          0.058395735919475555,
          0.058002371340990067,
          0.05648167058825493,
          0.059034861624240875,
          0.05792907252907753,
          0.05404171720147133,
          0.051750849932432175,
          0.05354074761271477,
          0.04979506880044937,
          0.05081925168633461,
          0.053379517048597336,
          0.04857878386974335,
          0.051988545805215836,
          0.04855484887957573,
          0.048332784324884415,
          0.05165721848607063,
          0.04721921682357788,
          0.049019671976566315,
          0.04943617060780525,
          0.046842485666275024,
          0.0505259744822979,
          0.046482447534799576
         ]
        },
        {
         "marker": {
          "maxdisplayed": 10
         },
         "mode": "lines+markers",
         "name": "Trial92",
         "type": "scatter",
         "x": [
          0,
          1,
          2,
          3,
          4,
          5,
          6,
          7,
          8,
          9,
          10,
          11,
          12,
          13,
          14,
          15,
          16,
          17,
          18,
          19,
          20,
          21,
          22,
          23,
          24,
          25,
          26,
          27,
          28,
          29,
          30,
          31,
          32
         ],
         "y": [
          0.3459364175796509,
          0.2572295665740967,
          0.21425539255142212,
          0.17771941423416138,
          0.144636869430542,
          0.1277494728565216,
          0.11340739578008652,
          0.10234957933425903,
          0.09677174687385559,
          0.0871424451470375,
          0.08278098702430725,
          0.07635518908500671,
          0.07255102694034576,
          0.06606101989746094,
          0.06329348683357239,
          0.0631120428442955,
          0.060388367623090744,
          0.05818607658147812,
          0.05567266047000885,
          0.054749198257923126,
          0.052595239132642746,
          0.053546927869319916,
          0.05556248873472214,
          0.05042577534914017,
          0.049060095101594925,
          0.050271596759557724,
          0.04976727440953255,
          0.04570711776614189,
          0.047897834330797195,
          0.04894570633769035,
          0.050958916544914246,
          0.04922972619533539,
          0.048652295023202896
         ]
        },
        {
         "marker": {
          "maxdisplayed": 10
         },
         "mode": "lines+markers",
         "name": "Trial93",
         "type": "scatter",
         "x": [
          0
         ],
         "y": [
          0.344923734664917
         ]
        },
        {
         "marker": {
          "maxdisplayed": 10
         },
         "mode": "lines+markers",
         "name": "Trial94",
         "type": "scatter",
         "x": [
          0,
          1,
          2,
          3,
          4,
          5,
          6,
          7,
          8,
          9,
          10,
          11,
          12,
          13,
          14,
          15,
          16,
          17,
          18,
          19,
          20,
          21,
          22,
          23,
          24,
          25,
          26,
          27,
          28,
          29,
          30,
          31,
          32,
          33,
          34,
          35
         ],
         "y": [
          0.365760862827301,
          0.27840283513069153,
          0.23906803131103516,
          0.20733699202537537,
          0.17959509789943695,
          0.1537388414144516,
          0.1394485980272293,
          0.12326092272996902,
          0.11437571793794632,
          0.1080678254365921,
          0.09749758243560791,
          0.09469731897115707,
          0.08614879846572876,
          0.081154964864254,
          0.07703349739313126,
          0.07401510328054428,
          0.06992045789957047,
          0.06832221895456314,
          0.06564831733703613,
          0.06220153346657753,
          0.05990517884492874,
          0.0572223924100399,
          0.056693077087402344,
          0.05605389550328255,
          0.054593525826931,
          0.05238340049982071,
          0.05145832896232605,
          0.05292828381061554,
          0.05003627389669418,
          0.04933931306004524,
          0.048183199018239975,
          0.051573142409324646,
          0.05163063481450081,
          0.050122857093811035,
          0.04748059809207916,
          0.047648973762989044
         ]
        },
        {
         "marker": {
          "maxdisplayed": 10
         },
         "mode": "lines+markers",
         "name": "Trial95",
         "type": "scatter",
         "x": [
          0,
          1,
          2,
          3,
          4,
          5,
          6,
          7,
          8,
          9,
          10,
          11,
          12,
          13,
          14,
          15,
          16,
          17,
          18,
          19,
          20,
          21,
          22,
          23,
          24,
          25,
          26,
          27
         ],
         "y": [
          0.3607366681098938,
          0.27974817156791687,
          0.2324734479188919,
          0.19241388142108917,
          0.1754046529531479,
          0.149337500333786,
          0.13346706330776215,
          0.12019353359937668,
          0.10746373236179352,
          0.10158596932888031,
          0.09529560804367065,
          0.08746279031038284,
          0.08087872713804245,
          0.07673991471529007,
          0.07576318830251694,
          0.07144999504089355,
          0.06639520078897476,
          0.06562045216560364,
          0.060789987444877625,
          0.06132309511303902,
          0.056242991238832474,
          0.05813976749777794,
          0.0547884926199913,
          0.05456829071044922,
          0.05429499223828316,
          0.05544845387339592,
          0.053932540118694305,
          0.05469006299972534
         ]
        },
        {
         "marker": {
          "maxdisplayed": 10
         },
         "mode": "lines+markers",
         "name": "Trial96",
         "type": "scatter",
         "x": [
          0
         ],
         "y": [
          0.33855271339416504
         ]
        },
        {
         "marker": {
          "maxdisplayed": 10
         },
         "mode": "lines+markers",
         "name": "Trial97",
         "type": "scatter",
         "x": [
          0
         ],
         "y": [
          0.2802264392375946
         ]
        },
        {
         "marker": {
          "maxdisplayed": 10
         },
         "mode": "lines+markers",
         "name": "Trial98",
         "type": "scatter",
         "x": [
          0,
          1,
          2,
          3,
          4,
          5,
          6,
          7,
          8,
          9,
          10,
          11,
          12,
          13,
          14,
          15,
          16,
          17,
          18,
          19,
          20,
          21,
          22,
          23,
          24,
          25,
          26,
          27,
          28,
          29
         ],
         "y": [
          0.3548745810985565,
          0.27266332507133484,
          0.22246013581752777,
          0.18692965805530548,
          0.1576785445213318,
          0.13914428651332855,
          0.13608737289905548,
          0.11301778256893158,
          0.10262011736631393,
          0.09272635728120804,
          0.08695381134748459,
          0.08334000408649445,
          0.07709552347660065,
          0.07544400542974472,
          0.0719815194606781,
          0.0684170126914978,
          0.06459890305995941,
          0.06330322474241257,
          0.0601160004734993,
          0.058512259274721146,
          0.05562200769782066,
          0.055501583963632584,
          0.05527273193001747,
          0.05334363505244255,
          0.04962848499417305,
          0.05304201319813728,
          0.05364346131682396,
          0.0505562350153923,
          0.051117949187755585,
          0.050645869225263596
         ]
        },
        {
         "marker": {
          "maxdisplayed": 10
         },
         "mode": "lines+markers",
         "name": "Trial99",
         "type": "scatter",
         "x": [
          0
         ],
         "y": [
          0.3238977789878845
         ]
        }
       ],
       "layout": {
        "showlegend": false,
        "template": {
         "data": {
          "bar": [
           {
            "error_x": {
             "color": "#2a3f5f"
            },
            "error_y": {
             "color": "#2a3f5f"
            },
            "marker": {
             "line": {
              "color": "#E5ECF6",
              "width": 0.5
             },
             "pattern": {
              "fillmode": "overlay",
              "size": 10,
              "solidity": 0.2
             }
            },
            "type": "bar"
           }
          ],
          "barpolar": [
           {
            "marker": {
             "line": {
              "color": "#E5ECF6",
              "width": 0.5
             },
             "pattern": {
              "fillmode": "overlay",
              "size": 10,
              "solidity": 0.2
             }
            },
            "type": "barpolar"
           }
          ],
          "carpet": [
           {
            "aaxis": {
             "endlinecolor": "#2a3f5f",
             "gridcolor": "white",
             "linecolor": "white",
             "minorgridcolor": "white",
             "startlinecolor": "#2a3f5f"
            },
            "baxis": {
             "endlinecolor": "#2a3f5f",
             "gridcolor": "white",
             "linecolor": "white",
             "minorgridcolor": "white",
             "startlinecolor": "#2a3f5f"
            },
            "type": "carpet"
           }
          ],
          "choropleth": [
           {
            "colorbar": {
             "outlinewidth": 0,
             "ticks": ""
            },
            "type": "choropleth"
           }
          ],
          "contour": [
           {
            "colorbar": {
             "outlinewidth": 0,
             "ticks": ""
            },
            "colorscale": [
             [
              0,
              "#0d0887"
             ],
             [
              0.1111111111111111,
              "#46039f"
             ],
             [
              0.2222222222222222,
              "#7201a8"
             ],
             [
              0.3333333333333333,
              "#9c179e"
             ],
             [
              0.4444444444444444,
              "#bd3786"
             ],
             [
              0.5555555555555556,
              "#d8576b"
             ],
             [
              0.6666666666666666,
              "#ed7953"
             ],
             [
              0.7777777777777778,
              "#fb9f3a"
             ],
             [
              0.8888888888888888,
              "#fdca26"
             ],
             [
              1,
              "#f0f921"
             ]
            ],
            "type": "contour"
           }
          ],
          "contourcarpet": [
           {
            "colorbar": {
             "outlinewidth": 0,
             "ticks": ""
            },
            "type": "contourcarpet"
           }
          ],
          "heatmap": [
           {
            "colorbar": {
             "outlinewidth": 0,
             "ticks": ""
            },
            "colorscale": [
             [
              0,
              "#0d0887"
             ],
             [
              0.1111111111111111,
              "#46039f"
             ],
             [
              0.2222222222222222,
              "#7201a8"
             ],
             [
              0.3333333333333333,
              "#9c179e"
             ],
             [
              0.4444444444444444,
              "#bd3786"
             ],
             [
              0.5555555555555556,
              "#d8576b"
             ],
             [
              0.6666666666666666,
              "#ed7953"
             ],
             [
              0.7777777777777778,
              "#fb9f3a"
             ],
             [
              0.8888888888888888,
              "#fdca26"
             ],
             [
              1,
              "#f0f921"
             ]
            ],
            "type": "heatmap"
           }
          ],
          "heatmapgl": [
           {
            "colorbar": {
             "outlinewidth": 0,
             "ticks": ""
            },
            "colorscale": [
             [
              0,
              "#0d0887"
             ],
             [
              0.1111111111111111,
              "#46039f"
             ],
             [
              0.2222222222222222,
              "#7201a8"
             ],
             [
              0.3333333333333333,
              "#9c179e"
             ],
             [
              0.4444444444444444,
              "#bd3786"
             ],
             [
              0.5555555555555556,
              "#d8576b"
             ],
             [
              0.6666666666666666,
              "#ed7953"
             ],
             [
              0.7777777777777778,
              "#fb9f3a"
             ],
             [
              0.8888888888888888,
              "#fdca26"
             ],
             [
              1,
              "#f0f921"
             ]
            ],
            "type": "heatmapgl"
           }
          ],
          "histogram": [
           {
            "marker": {
             "pattern": {
              "fillmode": "overlay",
              "size": 10,
              "solidity": 0.2
             }
            },
            "type": "histogram"
           }
          ],
          "histogram2d": [
           {
            "colorbar": {
             "outlinewidth": 0,
             "ticks": ""
            },
            "colorscale": [
             [
              0,
              "#0d0887"
             ],
             [
              0.1111111111111111,
              "#46039f"
             ],
             [
              0.2222222222222222,
              "#7201a8"
             ],
             [
              0.3333333333333333,
              "#9c179e"
             ],
             [
              0.4444444444444444,
              "#bd3786"
             ],
             [
              0.5555555555555556,
              "#d8576b"
             ],
             [
              0.6666666666666666,
              "#ed7953"
             ],
             [
              0.7777777777777778,
              "#fb9f3a"
             ],
             [
              0.8888888888888888,
              "#fdca26"
             ],
             [
              1,
              "#f0f921"
             ]
            ],
            "type": "histogram2d"
           }
          ],
          "histogram2dcontour": [
           {
            "colorbar": {
             "outlinewidth": 0,
             "ticks": ""
            },
            "colorscale": [
             [
              0,
              "#0d0887"
             ],
             [
              0.1111111111111111,
              "#46039f"
             ],
             [
              0.2222222222222222,
              "#7201a8"
             ],
             [
              0.3333333333333333,
              "#9c179e"
             ],
             [
              0.4444444444444444,
              "#bd3786"
             ],
             [
              0.5555555555555556,
              "#d8576b"
             ],
             [
              0.6666666666666666,
              "#ed7953"
             ],
             [
              0.7777777777777778,
              "#fb9f3a"
             ],
             [
              0.8888888888888888,
              "#fdca26"
             ],
             [
              1,
              "#f0f921"
             ]
            ],
            "type": "histogram2dcontour"
           }
          ],
          "mesh3d": [
           {
            "colorbar": {
             "outlinewidth": 0,
             "ticks": ""
            },
            "type": "mesh3d"
           }
          ],
          "parcoords": [
           {
            "line": {
             "colorbar": {
              "outlinewidth": 0,
              "ticks": ""
             }
            },
            "type": "parcoords"
           }
          ],
          "pie": [
           {
            "automargin": true,
            "type": "pie"
           }
          ],
          "scatter": [
           {
            "fillpattern": {
             "fillmode": "overlay",
             "size": 10,
             "solidity": 0.2
            },
            "type": "scatter"
           }
          ],
          "scatter3d": [
           {
            "line": {
             "colorbar": {
              "outlinewidth": 0,
              "ticks": ""
             }
            },
            "marker": {
             "colorbar": {
              "outlinewidth": 0,
              "ticks": ""
             }
            },
            "type": "scatter3d"
           }
          ],
          "scattercarpet": [
           {
            "marker": {
             "colorbar": {
              "outlinewidth": 0,
              "ticks": ""
             }
            },
            "type": "scattercarpet"
           }
          ],
          "scattergeo": [
           {
            "marker": {
             "colorbar": {
              "outlinewidth": 0,
              "ticks": ""
             }
            },
            "type": "scattergeo"
           }
          ],
          "scattergl": [
           {
            "marker": {
             "colorbar": {
              "outlinewidth": 0,
              "ticks": ""
             }
            },
            "type": "scattergl"
           }
          ],
          "scattermapbox": [
           {
            "marker": {
             "colorbar": {
              "outlinewidth": 0,
              "ticks": ""
             }
            },
            "type": "scattermapbox"
           }
          ],
          "scatterpolar": [
           {
            "marker": {
             "colorbar": {
              "outlinewidth": 0,
              "ticks": ""
             }
            },
            "type": "scatterpolar"
           }
          ],
          "scatterpolargl": [
           {
            "marker": {
             "colorbar": {
              "outlinewidth": 0,
              "ticks": ""
             }
            },
            "type": "scatterpolargl"
           }
          ],
          "scatterternary": [
           {
            "marker": {
             "colorbar": {
              "outlinewidth": 0,
              "ticks": ""
             }
            },
            "type": "scatterternary"
           }
          ],
          "surface": [
           {
            "colorbar": {
             "outlinewidth": 0,
             "ticks": ""
            },
            "colorscale": [
             [
              0,
              "#0d0887"
             ],
             [
              0.1111111111111111,
              "#46039f"
             ],
             [
              0.2222222222222222,
              "#7201a8"
             ],
             [
              0.3333333333333333,
              "#9c179e"
             ],
             [
              0.4444444444444444,
              "#bd3786"
             ],
             [
              0.5555555555555556,
              "#d8576b"
             ],
             [
              0.6666666666666666,
              "#ed7953"
             ],
             [
              0.7777777777777778,
              "#fb9f3a"
             ],
             [
              0.8888888888888888,
              "#fdca26"
             ],
             [
              1,
              "#f0f921"
             ]
            ],
            "type": "surface"
           }
          ],
          "table": [
           {
            "cells": {
             "fill": {
              "color": "#EBF0F8"
             },
             "line": {
              "color": "white"
             }
            },
            "header": {
             "fill": {
              "color": "#C8D4E3"
             },
             "line": {
              "color": "white"
             }
            },
            "type": "table"
           }
          ]
         },
         "layout": {
          "annotationdefaults": {
           "arrowcolor": "#2a3f5f",
           "arrowhead": 0,
           "arrowwidth": 1
          },
          "autotypenumbers": "strict",
          "coloraxis": {
           "colorbar": {
            "outlinewidth": 0,
            "ticks": ""
           }
          },
          "colorscale": {
           "diverging": [
            [
             0,
             "#8e0152"
            ],
            [
             0.1,
             "#c51b7d"
            ],
            [
             0.2,
             "#de77ae"
            ],
            [
             0.3,
             "#f1b6da"
            ],
            [
             0.4,
             "#fde0ef"
            ],
            [
             0.5,
             "#f7f7f7"
            ],
            [
             0.6,
             "#e6f5d0"
            ],
            [
             0.7,
             "#b8e186"
            ],
            [
             0.8,
             "#7fbc41"
            ],
            [
             0.9,
             "#4d9221"
            ],
            [
             1,
             "#276419"
            ]
           ],
           "sequential": [
            [
             0,
             "#0d0887"
            ],
            [
             0.1111111111111111,
             "#46039f"
            ],
            [
             0.2222222222222222,
             "#7201a8"
            ],
            [
             0.3333333333333333,
             "#9c179e"
            ],
            [
             0.4444444444444444,
             "#bd3786"
            ],
            [
             0.5555555555555556,
             "#d8576b"
            ],
            [
             0.6666666666666666,
             "#ed7953"
            ],
            [
             0.7777777777777778,
             "#fb9f3a"
            ],
            [
             0.8888888888888888,
             "#fdca26"
            ],
            [
             1,
             "#f0f921"
            ]
           ],
           "sequentialminus": [
            [
             0,
             "#0d0887"
            ],
            [
             0.1111111111111111,
             "#46039f"
            ],
            [
             0.2222222222222222,
             "#7201a8"
            ],
            [
             0.3333333333333333,
             "#9c179e"
            ],
            [
             0.4444444444444444,
             "#bd3786"
            ],
            [
             0.5555555555555556,
             "#d8576b"
            ],
            [
             0.6666666666666666,
             "#ed7953"
            ],
            [
             0.7777777777777778,
             "#fb9f3a"
            ],
            [
             0.8888888888888888,
             "#fdca26"
            ],
            [
             1,
             "#f0f921"
            ]
           ]
          },
          "colorway": [
           "#636efa",
           "#EF553B",
           "#00cc96",
           "#ab63fa",
           "#FFA15A",
           "#19d3f3",
           "#FF6692",
           "#B6E880",
           "#FF97FF",
           "#FECB52"
          ],
          "font": {
           "color": "#2a3f5f"
          },
          "geo": {
           "bgcolor": "white",
           "lakecolor": "white",
           "landcolor": "#E5ECF6",
           "showlakes": true,
           "showland": true,
           "subunitcolor": "white"
          },
          "hoverlabel": {
           "align": "left"
          },
          "hovermode": "closest",
          "mapbox": {
           "style": "light"
          },
          "paper_bgcolor": "white",
          "plot_bgcolor": "#E5ECF6",
          "polar": {
           "angularaxis": {
            "gridcolor": "white",
            "linecolor": "white",
            "ticks": ""
           },
           "bgcolor": "#E5ECF6",
           "radialaxis": {
            "gridcolor": "white",
            "linecolor": "white",
            "ticks": ""
           }
          },
          "scene": {
           "xaxis": {
            "backgroundcolor": "#E5ECF6",
            "gridcolor": "white",
            "gridwidth": 2,
            "linecolor": "white",
            "showbackground": true,
            "ticks": "",
            "zerolinecolor": "white"
           },
           "yaxis": {
            "backgroundcolor": "#E5ECF6",
            "gridcolor": "white",
            "gridwidth": 2,
            "linecolor": "white",
            "showbackground": true,
            "ticks": "",
            "zerolinecolor": "white"
           },
           "zaxis": {
            "backgroundcolor": "#E5ECF6",
            "gridcolor": "white",
            "gridwidth": 2,
            "linecolor": "white",
            "showbackground": true,
            "ticks": "",
            "zerolinecolor": "white"
           }
          },
          "shapedefaults": {
           "line": {
            "color": "#2a3f5f"
           }
          },
          "ternary": {
           "aaxis": {
            "gridcolor": "white",
            "linecolor": "white",
            "ticks": ""
           },
           "baxis": {
            "gridcolor": "white",
            "linecolor": "white",
            "ticks": ""
           },
           "bgcolor": "#E5ECF6",
           "caxis": {
            "gridcolor": "white",
            "linecolor": "white",
            "ticks": ""
           }
          },
          "title": {
           "x": 0.05
          },
          "xaxis": {
           "automargin": true,
           "gridcolor": "white",
           "linecolor": "white",
           "ticks": "",
           "title": {
            "standoff": 15
           },
           "zerolinecolor": "white",
           "zerolinewidth": 2
          },
          "yaxis": {
           "automargin": true,
           "gridcolor": "white",
           "linecolor": "white",
           "ticks": "",
           "title": {
            "standoff": 15
           },
           "zerolinecolor": "white",
           "zerolinewidth": 2
          }
         }
        },
        "title": {
         "text": "Intermediate Values Plot"
        },
        "xaxis": {
         "title": {
          "text": "Step"
         }
        },
        "yaxis": {
         "title": {
          "text": "Intermediate Value"
         }
        }
       }
      }
     },
     "metadata": {},
     "output_type": "display_data"
    }
   ],
   "source": [
    "plot_intermediate_values(study)"
   ]
  },
  {
   "cell_type": "code",
   "execution_count": 18,
   "metadata": {},
   "outputs": [
    {
     "data": {
      "application/vnd.plotly.v1+json": {
       "config": {
        "plotlyServerURL": "https://plot.ly"
       },
       "data": [
        {
         "type": "scatter",
         "xaxis": "x",
         "yaxis": "y"
        },
        {
         "colorbar": {
          "title": {
           "text": "Objective Value"
          }
         },
         "colorscale": [
          [
           0,
           "rgb(247,251,255)"
          ],
          [
           0.125,
           "rgb(222,235,247)"
          ],
          [
           0.25,
           "rgb(198,219,239)"
          ],
          [
           0.375,
           "rgb(158,202,225)"
          ],
          [
           0.5,
           "rgb(107,174,214)"
          ],
          [
           0.625,
           "rgb(66,146,198)"
          ],
          [
           0.75,
           "rgb(33,113,181)"
          ],
          [
           0.875,
           "rgb(8,81,156)"
          ],
          [
           1,
           "rgb(8,48,107)"
          ]
         ],
         "connectgaps": true,
         "contours": {
          "coloring": "heatmap"
         },
         "hoverinfo": "none",
         "line": {
          "smoothing": 1.3
         },
         "reversescale": false,
         "showscale": true,
         "type": "contour",
         "x": [
          "relu",
          "tanh"
         ],
         "xaxis": "x7",
         "y": [
          0.09596183868073947,
          0.10047679932934811,
          0.10082833671945111,
          0.10324976064678713,
          0.10482194445211092,
          0.10695467716071022,
          0.10773866631139353,
          0.1116614647957342,
          0.11231638498621203,
          0.11406747148220177,
          0.11490700020310449,
          0.1154754304505843,
          0.11806197881223826,
          0.11940999884519499,
          0.1203652038223573,
          0.12048916187989218,
          0.1214554615025169,
          0.12288339206509208,
          0.1248062459518126,
          0.1268199996480464,
          0.13215914314856453,
          0.1328380306525573,
          0.13355346687915795,
          0.13512039755166452,
          0.135389527336228,
          0.13592560996267433,
          0.13645046663521485,
          0.1367781767123146,
          0.13714949392899192,
          0.13891604018175807,
          0.1397480575469616,
          0.14342211918503453,
          0.14474113728042967,
          0.1459865983964105,
          0.1484977711206744,
          0.15157105362996692,
          0.15954728376816632,
          0.161148261528122,
          0.16657345853508188,
          0.18550895913745297,
          0.1907760123015208,
          0.19529097295012943
         ],
         "yaxis": "y7",
         "z": [
          [
           null,
           null
          ],
          [
           null,
           0.9864539504051208
          ],
          [
           null,
           0.9873570203781128
          ],
          [
           null,
           0.9864539504051208
          ],
          [
           null,
           0.9855508804321289
          ],
          [
           null,
           0.9810355305671692
          ],
          [
           null,
           0.984647810459137
          ],
          [
           null,
           0.987959086894989
          ],
          [
           null,
           0.9849488139152527
          ],
          [
           null,
           0.9873570203781128
          ],
          [
           null,
           0.9870560169219971
          ],
          [
           null,
           0.9864539504051208
          ],
          [
           null,
           0.9855508804321289
          ],
          [
           null,
           0.9852498769760132
          ],
          [
           null,
           0.9876580238342285
          ],
          [
           null,
           0.9834437370300293
          ],
          [
           null,
           0.9861529469490051
          ],
          [
           0.9771221876144409,
           null
          ],
          [
           null,
           0.9783263206481934
          ],
          [
           null,
           0.9864539504051208
          ],
          [
           0.9704996943473816,
           null
          ],
          [
           null,
           0.9852498769760132
          ],
          [
           null,
           0.9867549538612366
          ],
          [
           null,
           0.9873570203781128
          ],
          [
           null,
           0.987959086894989
          ],
          [
           null,
           0.9855508804321289
          ],
          [
           null,
           0.9867549538612366
          ],
          [
           null,
           0.9873570203781128
          ],
          [
           null,
           0.987959086894989
          ],
          [
           null,
           0.9873570203781128
          ],
          [
           null,
           0.9861529469490051
          ],
          [
           null,
           0.9825406670570374
          ],
          [
           0.9825406670570374,
           null
          ],
          [
           null,
           0.9792293906211853
          ],
          [
           null,
           0.9858518838882446
          ],
          [
           null,
           0.9798313975334167
          ],
          [
           null,
           0.9819386005401611
          ],
          [
           null,
           0.9816375970840454
          ],
          [
           0.979530394077301,
           null
          ],
          [
           0.9813365340232849,
           null
          ],
          [
           0.9671884179115295,
           null
          ],
          [
           null,
           null
          ]
         ]
        },
        {
         "marker": {
          "color": "black",
          "line": {
           "color": "Gray",
           "width": 2
          }
         },
         "mode": "markers",
         "name": "Feasible Trial",
         "showlegend": false,
         "type": "scatter",
         "x": [
          "tanh",
          "relu",
          "relu",
          "relu",
          "relu",
          "tanh",
          "tanh",
          "tanh",
          "tanh",
          "tanh",
          "tanh",
          "tanh",
          "tanh",
          "tanh",
          "tanh",
          "tanh",
          "tanh",
          "tanh",
          "tanh",
          "relu",
          "tanh",
          "tanh",
          "tanh",
          "tanh",
          "relu",
          "tanh",
          "tanh",
          "tanh",
          "tanh",
          "tanh",
          "tanh",
          "tanh",
          "tanh",
          "tanh",
          "tanh",
          "tanh",
          "tanh",
          "tanh",
          "tanh",
          "tanh"
         ],
         "xaxis": "x7",
         "y": [
          0.1248062459518126,
          0.18550895913745297,
          0.1907760123015208,
          0.16657345853508188,
          0.14474113728042967,
          0.161148261528122,
          0.13714949392899192,
          0.13891604018175807,
          0.1397480575469616,
          0.10047679932934811,
          0.1214554615025169,
          0.10082833671945111,
          0.1154754304505843,
          0.1484977711206744,
          0.13355346687915795,
          0.10773866631139353,
          0.135389527336228,
          0.1268199996480464,
          0.1459865983964105,
          0.13215914314856453,
          0.1203652038223573,
          0.14342211918503453,
          0.1116614647957342,
          0.10695467716071022,
          0.12288339206509208,
          0.10482194445211092,
          0.11806197881223826,
          0.11231638498621203,
          0.15157105362996692,
          0.1367781767123146,
          0.11940999884519499,
          0.15954728376816632,
          0.1328380306525573,
          0.11490700020310449,
          0.13645046663521485,
          0.13592560996267433,
          0.13512039755166452,
          0.11406747148220177,
          0.12048916187989218,
          0.10324976064678713
         ],
         "yaxis": "y7"
        },
        {
         "colorbar": {
          "title": {
           "text": "Objective Value"
          }
         },
         "colorscale": [
          [
           0,
           "rgb(247,251,255)"
          ],
          [
           0.125,
           "rgb(222,235,247)"
          ],
          [
           0.25,
           "rgb(198,219,239)"
          ],
          [
           0.375,
           "rgb(158,202,225)"
          ],
          [
           0.5,
           "rgb(107,174,214)"
          ],
          [
           0.625,
           "rgb(66,146,198)"
          ],
          [
           0.75,
           "rgb(33,113,181)"
          ],
          [
           0.875,
           "rgb(8,81,156)"
          ],
          [
           1,
           "rgb(8,48,107)"
          ]
         ],
         "connectgaps": true,
         "contours": {
          "coloring": "heatmap"
         },
         "hoverinfo": "none",
         "line": {
          "smoothing": 1.3
         },
         "reversescale": false,
         "showscale": false,
         "type": "contour",
         "x": [
          "relu",
          "tanh"
         ],
         "xaxis": "x13",
         "y": [
          44,
          80,
          81,
          133,
          134,
          172,
          201,
          224,
          285,
          312,
          393,
          404,
          410,
          438,
          465,
          488,
          504,
          513,
          551,
          576,
          580,
          641,
          651,
          656,
          660,
          671,
          693,
          696,
          697,
          710,
          719,
          728,
          742,
          746,
          760,
          763,
          788,
          798,
          800,
          836
         ],
         "yaxis": "y13",
         "z": [
          [
           null,
           null
          ],
          [
           0.9704996943473816,
           null
          ],
          [
           0.9671884179115295,
           null
          ],
          [
           0.9813365340232849,
           null
          ],
          [
           0.9771221876144409,
           null
          ],
          [
           null,
           0.9783263206481934
          ],
          [
           null,
           0.984647810459137
          ],
          [
           null,
           0.9792293906211853
          ],
          [
           null,
           0.9852498769760132
          ],
          [
           0.979530394077301,
           null
          ],
          [
           null,
           0.9849488139152527
          ],
          [
           null,
           0.9873570203781128
          ],
          [
           null,
           0.9864539504051208
          ],
          [
           null,
           0.9834437370300293
          ],
          [
           null,
           0.9867549538612366
          ],
          [
           null,
           0.9825406670570374
          ],
          [
           null,
           0.9873570203781128
          ],
          [
           null,
           0.9855508804321289
          ],
          [
           null,
           0.9798313975334167
          ],
          [
           null,
           0.9870560169219971
          ],
          [
           null,
           0.9861529469490051
          ],
          [
           null,
           0.9816375970840454
          ],
          [
           null,
           0.9810355305671692
          ],
          [
           null,
           0.9864539504051208
          ],
          [
           null,
           0.9855508804321289
          ],
          [
           null,
           0.9867549538612366
          ],
          [
           null,
           0.987959086894989
          ],
          [
           null,
           0.9855508804321289
          ],
          [
           null,
           0.9873570203781128
          ],
          [
           null,
           0.9864539504051208
          ],
          [
           0.9825406670570374,
           null
          ],
          [
           null,
           0.9858518838882446
          ],
          [
           null,
           0.987959086894989
          ],
          [
           null,
           0.9864539504051208
          ],
          [
           null,
           0.9819386005401611
          ],
          [
           null,
           0.987959086894989
          ],
          [
           null,
           0.9861529469490051
          ],
          [
           null,
           0.9873570203781128
          ],
          [
           null,
           0.9873570203781128
          ],
          [
           null,
           null
          ]
         ]
        },
        {
         "marker": {
          "color": "black",
          "line": {
           "color": "Gray",
           "width": 2
          }
         },
         "mode": "markers",
         "name": "Feasible Trial",
         "showlegend": false,
         "type": "scatter",
         "x": [
          "tanh",
          "relu",
          "relu",
          "relu",
          "relu",
          "tanh",
          "tanh",
          "tanh",
          "tanh",
          "tanh",
          "tanh",
          "tanh",
          "tanh",
          "tanh",
          "tanh",
          "tanh",
          "tanh",
          "tanh",
          "tanh",
          "relu",
          "tanh",
          "tanh",
          "tanh",
          "tanh",
          "relu",
          "tanh",
          "tanh",
          "tanh",
          "tanh",
          "tanh",
          "tanh",
          "tanh",
          "tanh",
          "tanh",
          "tanh",
          "tanh",
          "tanh",
          "tanh",
          "tanh",
          "tanh"
         ],
         "xaxis": "x13",
         "y": [
          172,
          133,
          81,
          312,
          719,
          641,
          763,
          800,
          788,
          656,
          580,
          697,
          710,
          728,
          671,
          201,
          742,
          746,
          224,
          80,
          693,
          488,
          693,
          651,
          134,
          696,
          660,
          393,
          551,
          798,
          285,
          760,
          660,
          576,
          465,
          513,
          504,
          404,
          438,
          410
         ],
         "yaxis": "y13"
        },
        {
         "colorbar": {
          "title": {
           "text": "Objective Value"
          }
         },
         "colorscale": [
          [
           0,
           "rgb(247,251,255)"
          ],
          [
           0.125,
           "rgb(222,235,247)"
          ],
          [
           0.25,
           "rgb(198,219,239)"
          ],
          [
           0.375,
           "rgb(158,202,225)"
          ],
          [
           0.5,
           "rgb(107,174,214)"
          ],
          [
           0.625,
           "rgb(66,146,198)"
          ],
          [
           0.75,
           "rgb(33,113,181)"
          ],
          [
           0.875,
           "rgb(8,81,156)"
          ],
          [
           1,
           "rgb(8,48,107)"
          ]
         ],
         "connectgaps": true,
         "contours": {
          "coloring": "heatmap"
         },
         "hoverinfo": "none",
         "line": {
          "smoothing": 1.3
         },
         "reversescale": false,
         "showscale": false,
         "type": "contour",
         "x": [
          "relu",
          "tanh"
         ],
         "xaxis": "x19",
         "y": [
          0.000089406240327015,
          0.00010014504120445575,
          0.00010027047928771214,
          0.00010028333971593998,
          0.00010048844365348455,
          0.00010053327085196988,
          0.00010077357974050429,
          0.00010082282939436439,
          0.00010157391045421977,
          0.00010170307178885521,
          0.00010243781588344641,
          0.00010248001130871688,
          0.00010306416392836265,
          0.0001031032406478315,
          0.00010419211491519788,
          0.0001045580606273782,
          0.00010597388762724996,
          0.0001060880228915066,
          0.00010893815090113448,
          0.00010976760892334912,
          0.00011195019969690164,
          0.00011228229231301858,
          0.00011326523260917271,
          0.00011521444028996555,
          0.00011618314601754972,
          0.00011888418796031753,
          0.00011921265990106719,
          0.00012161460160903801,
          0.00012339564439166133,
          0.00012426357165036393,
          0.000125547663308625,
          0.00012676457742972808,
          0.00013103440643135768,
          0.00014594104103371984,
          0.00016181724286239138,
          0.0001643847681891162,
          0.0005097814609911406,
          0.0006269130974735595,
          0.0006822877031608912,
          0.0008495452042067824,
          0.0009679697628295381,
          0.0010842349642337062
         ],
         "yaxis": "y19",
         "z": [
          [
           null,
           null
          ],
          [
           null,
           0.9867549538612366
          ],
          [
           null,
           0.987959086894989
          ],
          [
           null,
           0.9852498769760132
          ],
          [
           null,
           0.9873570203781128
          ],
          [
           null,
           0.9810355305671692
          ],
          [
           null,
           0.9855508804321289
          ],
          [
           null,
           0.9798313975334167
          ],
          [
           null,
           0.987959086894989
          ],
          [
           null,
           0.9873570203781128
          ],
          [
           null,
           0.9873570203781128
          ],
          [
           null,
           0.9864539504051208
          ],
          [
           null,
           0.9861529469490051
          ],
          [
           null,
           0.987959086894989
          ],
          [
           null,
           0.9873570203781128
          ],
          [
           null,
           0.9834437370300293
          ],
          [
           null,
           0.9855508804321289
          ],
          [
           null,
           0.9870560169219971
          ],
          [
           null,
           0.9858518838882446
          ],
          [
           0.9771221876144409,
           null
          ],
          [
           null,
           0.9852498769760132
          ],
          [
           null,
           0.9876580238342285
          ],
          [
           null,
           0.9864539504051208
          ],
          [
           null,
           0.9864539504051208
          ],
          [
           null,
           0.9825406670570374
          ],
          [
           null,
           0.9864539504051208
          ],
          [
           null,
           0.9855508804321289
          ],
          [
           null,
           0.9873570203781128
          ],
          [
           null,
           0.9867549538612366
          ],
          [
           null,
           0.9849488139152527
          ],
          [
           null,
           0.9819386005401611
          ],
          [
           null,
           0.9861529469490051
          ],
          [
           0.9825406670570374,
           null
          ],
          [
           null,
           0.984647810459137
          ],
          [
           0.9671884179115295,
           null
          ],
          [
           0.9704996943473816,
           null
          ],
          [
           0.9813365340232849,
           null
          ],
          [
           null,
           0.9783263206481934
          ],
          [
           null,
           0.9816375970840454
          ],
          [
           0.979530394077301,
           null
          ],
          [
           null,
           0.9792293906211853
          ],
          [
           null,
           null
          ]
         ]
        },
        {
         "marker": {
          "color": "black",
          "line": {
           "color": "Gray",
           "width": 2
          }
         },
         "mode": "markers",
         "name": "Feasible Trial",
         "showlegend": false,
         "type": "scatter",
         "x": [
          "tanh",
          "relu",
          "relu",
          "relu",
          "relu",
          "tanh",
          "tanh",
          "tanh",
          "tanh",
          "tanh",
          "tanh",
          "tanh",
          "tanh",
          "tanh",
          "tanh",
          "tanh",
          "tanh",
          "tanh",
          "tanh",
          "relu",
          "tanh",
          "tanh",
          "tanh",
          "tanh",
          "relu",
          "tanh",
          "tanh",
          "tanh",
          "tanh",
          "tanh",
          "tanh",
          "tanh",
          "tanh",
          "tanh",
          "tanh",
          "tanh",
          "tanh",
          "tanh",
          "tanh",
          "tanh"
         ],
         "xaxis": "x19",
         "y": [
          0.0006269130974735595,
          0.0005097814609911406,
          0.00016181724286239138,
          0.0008495452042067824,
          0.00013103440643135768,
          0.0006822877031608912,
          0.00010157391045421977,
          0.00010243781588344641,
          0.00010306416392836265,
          0.00010248001130871688,
          0.00012676457742972808,
          0.00010170307178885521,
          0.00011888418796031753,
          0.00010893815090113448,
          0.00010014504120445575,
          0.00014594104103371984,
          0.0001031032406478315,
          0.00011521444028996555,
          0.0009679697628295381,
          0.0001643847681891162,
          0.00011228229231301858,
          0.00011618314601754972,
          0.00010027047928771214,
          0.00010053327085196988,
          0.00010976760892334912,
          0.00010597388762724996,
          0.00010077357974050429,
          0.00012426357165036393,
          0.00010082282939436439,
          0.00010048844365348455,
          0.00011195019969690164,
          0.000125547663308625,
          0.00010028333971593998,
          0.0001060880228915066,
          0.00012339564439166133,
          0.00011921265990106719,
          0.00012161460160903801,
          0.00010419211491519788,
          0.0001045580606273782,
          0.00011326523260917271
         ],
         "yaxis": "y19"
        },
        {
         "colorbar": {
          "title": {
           "text": "Objective Value"
          }
         },
         "colorscale": [
          [
           0,
           "rgb(247,251,255)"
          ],
          [
           0.125,
           "rgb(222,235,247)"
          ],
          [
           0.25,
           "rgb(198,219,239)"
          ],
          [
           0.375,
           "rgb(158,202,225)"
          ],
          [
           0.5,
           "rgb(107,174,214)"
          ],
          [
           0.625,
           "rgb(66,146,198)"
          ],
          [
           0.75,
           "rgb(33,113,181)"
          ],
          [
           0.875,
           "rgb(8,81,156)"
          ],
          [
           1,
           "rgb(8,48,107)"
          ]
         ],
         "connectgaps": true,
         "contours": {
          "coloring": "heatmap"
         },
         "hoverinfo": "none",
         "line": {
          "smoothing": 1.3
         },
         "reversescale": false,
         "showscale": false,
         "type": "contour",
         "x": [
          "relu",
          "tanh"
         ],
         "xaxis": "x25",
         "y": [
          0.95,
          1,
          2,
          2.05
         ],
         "yaxis": "y25",
         "z": [
          [
           null,
           null
          ],
          [
           0.9825406670570374,
           0.987959086894989
          ],
          [
           0.9813365340232849,
           0.9852498769760132
          ],
          [
           null,
           null
          ]
         ]
        },
        {
         "marker": {
          "color": "black",
          "line": {
           "color": "Gray",
           "width": 2
          }
         },
         "mode": "markers",
         "name": "Feasible Trial",
         "showlegend": false,
         "type": "scatter",
         "x": [
          "tanh",
          "relu",
          "relu",
          "relu",
          "relu",
          "tanh",
          "tanh",
          "tanh",
          "tanh",
          "tanh",
          "tanh",
          "tanh",
          "tanh",
          "tanh",
          "tanh",
          "tanh",
          "tanh",
          "tanh",
          "tanh",
          "relu",
          "tanh",
          "tanh",
          "tanh",
          "tanh",
          "relu",
          "tanh",
          "tanh",
          "tanh",
          "tanh",
          "tanh",
          "tanh",
          "tanh",
          "tanh",
          "tanh",
          "tanh",
          "tanh",
          "tanh",
          "tanh",
          "tanh",
          "tanh"
         ],
         "xaxis": "x25",
         "y": [
          2,
          2,
          1,
          2,
          1,
          1,
          1,
          1,
          1,
          1,
          1,
          1,
          1,
          1,
          1,
          2,
          1,
          1,
          1,
          1,
          1,
          1,
          1,
          1,
          1,
          1,
          1,
          1,
          1,
          1,
          2,
          1,
          1,
          1,
          1,
          1,
          1,
          1,
          1,
          1
         ],
         "yaxis": "y25"
        },
        {
         "colorbar": {
          "title": {
           "text": "Objective Value"
          }
         },
         "colorscale": [
          [
           0,
           "rgb(247,251,255)"
          ],
          [
           0.125,
           "rgb(222,235,247)"
          ],
          [
           0.25,
           "rgb(198,219,239)"
          ],
          [
           0.375,
           "rgb(158,202,225)"
          ],
          [
           0.5,
           "rgb(107,174,214)"
          ],
          [
           0.625,
           "rgb(66,146,198)"
          ],
          [
           0.75,
           "rgb(33,113,181)"
          ],
          [
           0.875,
           "rgb(8,81,156)"
          ],
          [
           1,
           "rgb(8,48,107)"
          ]
         ],
         "connectgaps": true,
         "contours": {
          "coloring": "heatmap"
         },
         "hoverinfo": "none",
         "line": {
          "smoothing": 1.3
         },
         "reversescale": false,
         "showscale": false,
         "type": "contour",
         "x": [
          "relu",
          "tanh"
         ],
         "xaxis": "x31",
         "y": [
          "False",
          "True"
         ],
         "yaxis": "y31",
         "z": [
          [
           0.979530394077301,
           0.987959086894989
          ],
          [
           0.9825406670570374,
           0.9825406670570374
          ]
         ]
        },
        {
         "marker": {
          "color": "black",
          "line": {
           "color": "Gray",
           "width": 2
          }
         },
         "mode": "markers",
         "name": "Feasible Trial",
         "showlegend": false,
         "type": "scatter",
         "x": [
          "tanh",
          "relu",
          "relu",
          "relu",
          "relu",
          "tanh",
          "tanh",
          "tanh",
          "tanh",
          "tanh",
          "tanh",
          "tanh",
          "tanh",
          "tanh",
          "tanh",
          "tanh",
          "tanh",
          "tanh",
          "tanh",
          "relu",
          "tanh",
          "tanh",
          "tanh",
          "tanh",
          "relu",
          "tanh",
          "tanh",
          "tanh",
          "tanh",
          "tanh",
          "tanh",
          "tanh",
          "tanh",
          "tanh",
          "tanh",
          "tanh",
          "tanh",
          "tanh",
          "tanh",
          "tanh"
         ],
         "xaxis": "x31",
         "y": [
          "True",
          "True",
          "False",
          "False",
          "True",
          "True",
          "False",
          "False",
          "False",
          "False",
          "False",
          "False",
          "False",
          "False",
          "False",
          "False",
          "False",
          "False",
          "True",
          "True",
          "False",
          "True",
          "False",
          "True",
          "False",
          "False",
          "False",
          "False",
          "True",
          "False",
          "False",
          "True",
          "False",
          "False",
          "False",
          "False",
          "False",
          "False",
          "False",
          "False"
         ],
         "yaxis": "y31"
        },
        {
         "colorbar": {
          "title": {
           "text": "Objective Value"
          }
         },
         "colorscale": [
          [
           0,
           "rgb(247,251,255)"
          ],
          [
           0.125,
           "rgb(222,235,247)"
          ],
          [
           0.25,
           "rgb(198,219,239)"
          ],
          [
           0.375,
           "rgb(158,202,225)"
          ],
          [
           0.5,
           "rgb(107,174,214)"
          ],
          [
           0.625,
           "rgb(66,146,198)"
          ],
          [
           0.75,
           "rgb(33,113,181)"
          ],
          [
           0.875,
           "rgb(8,81,156)"
          ],
          [
           1,
           "rgb(8,48,107)"
          ]
         ],
         "connectgaps": true,
         "contours": {
          "coloring": "heatmap"
         },
         "hoverinfo": "none",
         "line": {
          "smoothing": 1.3
         },
         "reversescale": false,
         "showscale": false,
         "type": "contour",
         "x": [
          0.09596183868073947,
          0.10047679932934811,
          0.10082833671945111,
          0.10324976064678713,
          0.10482194445211092,
          0.10695467716071022,
          0.10773866631139353,
          0.1116614647957342,
          0.11231638498621203,
          0.11406747148220177,
          0.11490700020310449,
          0.1154754304505843,
          0.11806197881223826,
          0.11940999884519499,
          0.1203652038223573,
          0.12048916187989218,
          0.1214554615025169,
          0.12288339206509208,
          0.1248062459518126,
          0.1268199996480464,
          0.13215914314856453,
          0.1328380306525573,
          0.13355346687915795,
          0.13512039755166452,
          0.135389527336228,
          0.13592560996267433,
          0.13645046663521485,
          0.1367781767123146,
          0.13714949392899192,
          0.13891604018175807,
          0.1397480575469616,
          0.14342211918503453,
          0.14474113728042967,
          0.1459865983964105,
          0.1484977711206744,
          0.15157105362996692,
          0.15954728376816632,
          0.161148261528122,
          0.16657345853508188,
          0.18550895913745297,
          0.1907760123015208,
          0.19529097295012943
         ],
         "xaxis": "x2",
         "y": [
          "relu",
          "tanh"
         ],
         "yaxis": "y2",
         "z": [
          [
           null,
           null,
           null,
           null,
           null,
           null,
           null,
           null,
           null,
           null,
           null,
           null,
           null,
           null,
           null,
           null,
           null,
           0.9771221876144409,
           null,
           null,
           0.9704996943473816,
           null,
           null,
           null,
           null,
           null,
           null,
           null,
           null,
           null,
           null,
           null,
           0.9825406670570374,
           null,
           null,
           null,
           null,
           null,
           0.979530394077301,
           0.9813365340232849,
           0.9671884179115295,
           null
          ],
          [
           null,
           0.9864539504051208,
           0.9873570203781128,
           0.9864539504051208,
           0.9855508804321289,
           0.9810355305671692,
           0.984647810459137,
           0.987959086894989,
           0.9849488139152527,
           0.9873570203781128,
           0.9870560169219971,
           0.9864539504051208,
           0.9855508804321289,
           0.9852498769760132,
           0.9876580238342285,
           0.9834437370300293,
           0.9861529469490051,
           null,
           0.9783263206481934,
           0.9864539504051208,
           null,
           0.9852498769760132,
           0.9867549538612366,
           0.9873570203781128,
           0.987959086894989,
           0.9855508804321289,
           0.9867549538612366,
           0.9873570203781128,
           0.987959086894989,
           0.9873570203781128,
           0.9861529469490051,
           0.9825406670570374,
           null,
           0.9792293906211853,
           0.9858518838882446,
           0.9798313975334167,
           0.9819386005401611,
           0.9816375970840454,
           null,
           null,
           null,
           null
          ]
         ]
        },
        {
         "marker": {
          "color": "black",
          "line": {
           "color": "Gray",
           "width": 2
          }
         },
         "mode": "markers",
         "name": "Feasible Trial",
         "showlegend": false,
         "type": "scatter",
         "x": [
          0.1248062459518126,
          0.18550895913745297,
          0.1907760123015208,
          0.16657345853508188,
          0.14474113728042967,
          0.161148261528122,
          0.13714949392899192,
          0.13891604018175807,
          0.1397480575469616,
          0.10047679932934811,
          0.1214554615025169,
          0.10082833671945111,
          0.1154754304505843,
          0.1484977711206744,
          0.13355346687915795,
          0.10773866631139353,
          0.135389527336228,
          0.1268199996480464,
          0.1459865983964105,
          0.13215914314856453,
          0.1203652038223573,
          0.14342211918503453,
          0.1116614647957342,
          0.10695467716071022,
          0.12288339206509208,
          0.10482194445211092,
          0.11806197881223826,
          0.11231638498621203,
          0.15157105362996692,
          0.1367781767123146,
          0.11940999884519499,
          0.15954728376816632,
          0.1328380306525573,
          0.11490700020310449,
          0.13645046663521485,
          0.13592560996267433,
          0.13512039755166452,
          0.11406747148220177,
          0.12048916187989218,
          0.10324976064678713
         ],
         "xaxis": "x2",
         "y": [
          "tanh",
          "relu",
          "relu",
          "relu",
          "relu",
          "tanh",
          "tanh",
          "tanh",
          "tanh",
          "tanh",
          "tanh",
          "tanh",
          "tanh",
          "tanh",
          "tanh",
          "tanh",
          "tanh",
          "tanh",
          "tanh",
          "relu",
          "tanh",
          "tanh",
          "tanh",
          "tanh",
          "relu",
          "tanh",
          "tanh",
          "tanh",
          "tanh",
          "tanh",
          "tanh",
          "tanh",
          "tanh",
          "tanh",
          "tanh",
          "tanh",
          "tanh",
          "tanh",
          "tanh",
          "tanh"
         ],
         "yaxis": "y2"
        },
        {
         "type": "scatter",
         "xaxis": "x8",
         "yaxis": "y8"
        },
        {
         "colorbar": {
          "title": {
           "text": "Objective Value"
          }
         },
         "colorscale": [
          [
           0,
           "rgb(247,251,255)"
          ],
          [
           0.125,
           "rgb(222,235,247)"
          ],
          [
           0.25,
           "rgb(198,219,239)"
          ],
          [
           0.375,
           "rgb(158,202,225)"
          ],
          [
           0.5,
           "rgb(107,174,214)"
          ],
          [
           0.625,
           "rgb(66,146,198)"
          ],
          [
           0.75,
           "rgb(33,113,181)"
          ],
          [
           0.875,
           "rgb(8,81,156)"
          ],
          [
           1,
           "rgb(8,48,107)"
          ]
         ],
         "connectgaps": true,
         "contours": {
          "coloring": "heatmap"
         },
         "hoverinfo": "none",
         "line": {
          "smoothing": 1.3
         },
         "reversescale": false,
         "showscale": false,
         "type": "contour",
         "x": [
          0.09596183868073947,
          0.10047679932934811,
          0.10082833671945111,
          0.10324976064678713,
          0.10482194445211092,
          0.10695467716071022,
          0.10773866631139353,
          0.1116614647957342,
          0.11231638498621203,
          0.11406747148220177,
          0.11490700020310449,
          0.1154754304505843,
          0.11806197881223826,
          0.11940999884519499,
          0.1203652038223573,
          0.12048916187989218,
          0.1214554615025169,
          0.12288339206509208,
          0.1248062459518126,
          0.1268199996480464,
          0.13215914314856453,
          0.1328380306525573,
          0.13355346687915795,
          0.13512039755166452,
          0.135389527336228,
          0.13592560996267433,
          0.13645046663521485,
          0.1367781767123146,
          0.13714949392899192,
          0.13891604018175807,
          0.1397480575469616,
          0.14342211918503453,
          0.14474113728042967,
          0.1459865983964105,
          0.1484977711206744,
          0.15157105362996692,
          0.15954728376816632,
          0.161148261528122,
          0.16657345853508188,
          0.18550895913745297,
          0.1907760123015208,
          0.19529097295012943
         ],
         "xaxis": "x14",
         "y": [
          44,
          80,
          81,
          133,
          134,
          172,
          201,
          224,
          285,
          312,
          393,
          404,
          410,
          438,
          465,
          488,
          504,
          513,
          551,
          576,
          580,
          641,
          651,
          656,
          660,
          671,
          693,
          696,
          697,
          710,
          719,
          728,
          742,
          746,
          760,
          763,
          788,
          798,
          800,
          836
         ],
         "yaxis": "y14",
         "z": [
          [
           null,
           null,
           null,
           null,
           null,
           null,
           null,
           null,
           null,
           null,
           null,
           null,
           null,
           null,
           null,
           null,
           null,
           null,
           null,
           null,
           null,
           null,
           null,
           null,
           null,
           null,
           null,
           null,
           null,
           null,
           null,
           null,
           null,
           null,
           null,
           null,
           null,
           null,
           null,
           null,
           null,
           null
          ],
          [
           null,
           null,
           null,
           null,
           null,
           null,
           null,
           null,
           null,
           null,
           null,
           null,
           null,
           null,
           null,
           null,
           null,
           null,
           null,
           null,
           0.9704996943473816,
           null,
           null,
           null,
           null,
           null,
           null,
           null,
           null,
           null,
           null,
           null,
           null,
           null,
           null,
           null,
           null,
           null,
           null,
           null,
           null,
           null
          ],
          [
           null,
           null,
           null,
           null,
           null,
           null,
           null,
           null,
           null,
           null,
           null,
           null,
           null,
           null,
           null,
           null,
           null,
           null,
           null,
           null,
           null,
           null,
           null,
           null,
           null,
           null,
           null,
           null,
           null,
           null,
           null,
           null,
           null,
           null,
           null,
           null,
           null,
           null,
           null,
           null,
           0.9671884179115295,
           null
          ],
          [
           null,
           null,
           null,
           null,
           null,
           null,
           null,
           null,
           null,
           null,
           null,
           null,
           null,
           null,
           null,
           null,
           null,
           null,
           null,
           null,
           null,
           null,
           null,
           null,
           null,
           null,
           null,
           null,
           null,
           null,
           null,
           null,
           null,
           null,
           null,
           null,
           null,
           null,
           null,
           0.9813365340232849,
           null,
           null
          ],
          [
           null,
           null,
           null,
           null,
           null,
           null,
           null,
           null,
           null,
           null,
           null,
           null,
           null,
           null,
           null,
           null,
           null,
           0.9771221876144409,
           null,
           null,
           null,
           null,
           null,
           null,
           null,
           null,
           null,
           null,
           null,
           null,
           null,
           null,
           null,
           null,
           null,
           null,
           null,
           null,
           null,
           null,
           null,
           null
          ],
          [
           null,
           null,
           null,
           null,
           null,
           null,
           null,
           null,
           null,
           null,
           null,
           null,
           null,
           null,
           null,
           null,
           null,
           null,
           0.9783263206481934,
           null,
           null,
           null,
           null,
           null,
           null,
           null,
           null,
           null,
           null,
           null,
           null,
           null,
           null,
           null,
           null,
           null,
           null,
           null,
           null,
           null,
           null,
           null
          ],
          [
           null,
           null,
           null,
           null,
           null,
           null,
           0.984647810459137,
           null,
           null,
           null,
           null,
           null,
           null,
           null,
           null,
           null,
           null,
           null,
           null,
           null,
           null,
           null,
           null,
           null,
           null,
           null,
           null,
           null,
           null,
           null,
           null,
           null,
           null,
           null,
           null,
           null,
           null,
           null,
           null,
           null,
           null,
           null
          ],
          [
           null,
           null,
           null,
           null,
           null,
           null,
           null,
           null,
           null,
           null,
           null,
           null,
           null,
           null,
           null,
           null,
           null,
           null,
           null,
           null,
           null,
           null,
           null,
           null,
           null,
           null,
           null,
           null,
           null,
           null,
           null,
           null,
           null,
           0.9792293906211853,
           null,
           null,
           null,
           null,
           null,
           null,
           null,
           null
          ],
          [
           null,
           null,
           null,
           null,
           null,
           null,
           null,
           null,
           null,
           null,
           null,
           null,
           null,
           0.9852498769760132,
           null,
           null,
           null,
           null,
           null,
           null,
           null,
           null,
           null,
           null,
           null,
           null,
           null,
           null,
           null,
           null,
           null,
           null,
           null,
           null,
           null,
           null,
           null,
           null,
           null,
           null,
           null,
           null
          ],
          [
           null,
           null,
           null,
           null,
           null,
           null,
           null,
           null,
           null,
           null,
           null,
           null,
           null,
           null,
           null,
           null,
           null,
           null,
           null,
           null,
           null,
           null,
           null,
           null,
           null,
           null,
           null,
           null,
           null,
           null,
           null,
           null,
           null,
           null,
           null,
           null,
           null,
           null,
           0.979530394077301,
           null,
           null,
           null
          ],
          [
           null,
           null,
           null,
           null,
           null,
           null,
           null,
           null,
           0.9849488139152527,
           null,
           null,
           null,
           null,
           null,
           null,
           null,
           null,
           null,
           null,
           null,
           null,
           null,
           null,
           null,
           null,
           null,
           null,
           null,
           null,
           null,
           null,
           null,
           null,
           null,
           null,
           null,
           null,
           null,
           null,
           null,
           null,
           null
          ],
          [
           null,
           null,
           null,
           null,
           null,
           null,
           null,
           null,
           null,
           0.9873570203781128,
           null,
           null,
           null,
           null,
           null,
           null,
           null,
           null,
           null,
           null,
           null,
           null,
           null,
           null,
           null,
           null,
           null,
           null,
           null,
           null,
           null,
           null,
           null,
           null,
           null,
           null,
           null,
           null,
           null,
           null,
           null,
           null
          ],
          [
           null,
           null,
           null,
           0.9864539504051208,
           null,
           null,
           null,
           null,
           null,
           null,
           null,
           null,
           null,
           null,
           null,
           null,
           null,
           null,
           null,
           null,
           null,
           null,
           null,
           null,
           null,
           null,
           null,
           null,
           null,
           null,
           null,
           null,
           null,
           null,
           null,
           null,
           null,
           null,
           null,
           null,
           null,
           null
          ],
          [
           null,
           null,
           null,
           null,
           null,
           null,
           null,
           null,
           null,
           null,
           null,
           null,
           null,
           null,
           null,
           0.9834437370300293,
           null,
           null,
           null,
           null,
           null,
           null,
           null,
           null,
           null,
           null,
           null,
           null,
           null,
           null,
           null,
           null,
           null,
           null,
           null,
           null,
           null,
           null,
           null,
           null,
           null,
           null
          ],
          [
           null,
           null,
           null,
           null,
           null,
           null,
           null,
           null,
           null,
           null,
           null,
           null,
           null,
           null,
           null,
           null,
           null,
           null,
           null,
           null,
           null,
           null,
           null,
           null,
           null,
           null,
           0.9867549538612366,
           null,
           null,
           null,
           null,
           null,
           null,
           null,
           null,
           null,
           null,
           null,
           null,
           null,
           null,
           null
          ],
          [
           null,
           null,
           null,
           null,
           null,
           null,
           null,
           null,
           null,
           null,
           null,
           null,
           null,
           null,
           null,
           null,
           null,
           null,
           null,
           null,
           null,
           null,
           null,
           null,
           null,
           null,
           null,
           null,
           null,
           null,
           null,
           0.9825406670570374,
           null,
           null,
           null,
           null,
           null,
           null,
           null,
           null,
           null,
           null
          ],
          [
           null,
           null,
           null,
           null,
           null,
           null,
           null,
           null,
           null,
           null,
           null,
           null,
           null,
           null,
           null,
           null,
           null,
           null,
           null,
           null,
           null,
           null,
           null,
           0.9873570203781128,
           null,
           null,
           null,
           null,
           null,
           null,
           null,
           null,
           null,
           null,
           null,
           null,
           null,
           null,
           null,
           null,
           null,
           null
          ],
          [
           null,
           null,
           null,
           null,
           null,
           null,
           null,
           null,
           null,
           null,
           null,
           null,
           null,
           null,
           null,
           null,
           null,
           null,
           null,
           null,
           null,
           null,
           null,
           null,
           null,
           0.9855508804321289,
           null,
           null,
           null,
           null,
           null,
           null,
           null,
           null,
           null,
           null,
           null,
           null,
           null,
           null,
           null,
           null
          ],
          [
           null,
           null,
           null,
           null,
           null,
           null,
           null,
           null,
           null,
           null,
           null,
           null,
           null,
           null,
           null,
           null,
           null,
           null,
           null,
           null,
           null,
           null,
           null,
           null,
           null,
           null,
           null,
           null,
           null,
           null,
           null,
           null,
           null,
           null,
           null,
           0.9798313975334167,
           null,
           null,
           null,
           null,
           null,
           null
          ],
          [
           null,
           null,
           null,
           null,
           null,
           null,
           null,
           null,
           null,
           null,
           0.9870560169219971,
           null,
           null,
           null,
           null,
           null,
           null,
           null,
           null,
           null,
           null,
           null,
           null,
           null,
           null,
           null,
           null,
           null,
           null,
           null,
           null,
           null,
           null,
           null,
           null,
           null,
           null,
           null,
           null,
           null,
           null,
           null
          ],
          [
           null,
           null,
           null,
           null,
           null,
           null,
           null,
           null,
           null,
           null,
           null,
           null,
           null,
           null,
           null,
           null,
           0.9861529469490051,
           null,
           null,
           null,
           null,
           null,
           null,
           null,
           null,
           null,
           null,
           null,
           null,
           null,
           null,
           null,
           null,
           null,
           null,
           null,
           null,
           null,
           null,
           null,
           null,
           null
          ],
          [
           null,
           null,
           null,
           null,
           null,
           null,
           null,
           null,
           null,
           null,
           null,
           null,
           null,
           null,
           null,
           null,
           null,
           null,
           null,
           null,
           null,
           null,
           null,
           null,
           null,
           null,
           null,
           null,
           null,
           null,
           null,
           null,
           null,
           null,
           null,
           null,
           null,
           0.9816375970840454,
           null,
           null,
           null,
           null
          ],
          [
           null,
           null,
           null,
           null,
           null,
           0.9810355305671692,
           null,
           null,
           null,
           null,
           null,
           null,
           null,
           null,
           null,
           null,
           null,
           null,
           null,
           null,
           null,
           null,
           null,
           null,
           null,
           null,
           null,
           null,
           null,
           null,
           null,
           null,
           null,
           null,
           null,
           null,
           null,
           null,
           null,
           null,
           null,
           null
          ],
          [
           null,
           0.9864539504051208,
           null,
           null,
           null,
           null,
           null,
           null,
           null,
           null,
           null,
           null,
           null,
           null,
           null,
           null,
           null,
           null,
           null,
           null,
           null,
           null,
           null,
           null,
           null,
           null,
           null,
           null,
           null,
           null,
           null,
           null,
           null,
           null,
           null,
           null,
           null,
           null,
           null,
           null,
           null,
           null
          ],
          [
           null,
           null,
           null,
           null,
           null,
           null,
           null,
           null,
           null,
           null,
           null,
           null,
           0.9855508804321289,
           null,
           null,
           null,
           null,
           null,
           null,
           null,
           null,
           0.9852498769760132,
           null,
           null,
           null,
           null,
           null,
           null,
           null,
           null,
           null,
           null,
           null,
           null,
           null,
           null,
           null,
           null,
           null,
           null,
           null,
           null
          ],
          [
           null,
           null,
           null,
           null,
           null,
           null,
           null,
           null,
           null,
           null,
           null,
           null,
           null,
           null,
           null,
           null,
           null,
           null,
           null,
           null,
           null,
           null,
           0.9867549538612366,
           null,
           null,
           null,
           null,
           null,
           null,
           null,
           null,
           null,
           null,
           null,
           null,
           null,
           null,
           null,
           null,
           null,
           null,
           null
          ],
          [
           null,
           null,
           null,
           null,
           null,
           null,
           null,
           0.987959086894989,
           null,
           null,
           null,
           null,
           null,
           null,
           0.9876580238342285,
           null,
           null,
           null,
           null,
           null,
           null,
           null,
           null,
           null,
           null,
           null,
           null,
           null,
           null,
           null,
           null,
           null,
           null,
           null,
           null,
           null,
           null,
           null,
           null,
           null,
           null,
           null
          ],
          [
           null,
           null,
           null,
           null,
           0.9855508804321289,
           null,
           null,
           null,
           null,
           null,
           null,
           null,
           null,
           null,
           null,
           null,
           null,
           null,
           null,
           null,
           null,
           null,
           null,
           null,
           null,
           null,
           null,
           null,
           null,
           null,
           null,
           null,
           null,
           null,
           null,
           null,
           null,
           null,
           null,
           null,
           null,
           null
          ],
          [
           null,
           null,
           0.9873570203781128,
           null,
           null,
           null,
           null,
           null,
           null,
           null,
           null,
           null,
           null,
           null,
           null,
           null,
           null,
           null,
           null,
           null,
           null,
           null,
           null,
           null,
           null,
           null,
           null,
           null,
           null,
           null,
           null,
           null,
           null,
           null,
           null,
           null,
           null,
           null,
           null,
           null,
           null,
           null
          ],
          [
           null,
           null,
           null,
           null,
           null,
           null,
           null,
           null,
           null,
           null,
           null,
           0.9864539504051208,
           null,
           null,
           null,
           null,
           null,
           null,
           null,
           null,
           null,
           null,
           null,
           null,
           null,
           null,
           null,
           null,
           null,
           null,
           null,
           null,
           null,
           null,
           null,
           null,
           null,
           null,
           null,
           null,
           null,
           null
          ],
          [
           null,
           null,
           null,
           null,
           null,
           null,
           null,
           null,
           null,
           null,
           null,
           null,
           null,
           null,
           null,
           null,
           null,
           null,
           null,
           null,
           null,
           null,
           null,
           null,
           null,
           null,
           null,
           null,
           null,
           null,
           null,
           null,
           0.9825406670570374,
           null,
           null,
           null,
           null,
           null,
           null,
           null,
           null,
           null
          ],
          [
           null,
           null,
           null,
           null,
           null,
           null,
           null,
           null,
           null,
           null,
           null,
           null,
           null,
           null,
           null,
           null,
           null,
           null,
           null,
           null,
           null,
           null,
           null,
           null,
           null,
           null,
           null,
           null,
           null,
           null,
           null,
           null,
           null,
           null,
           0.9858518838882446,
           null,
           null,
           null,
           null,
           null,
           null,
           null
          ],
          [
           null,
           null,
           null,
           null,
           null,
           null,
           null,
           null,
           null,
           null,
           null,
           null,
           null,
           null,
           null,
           null,
           null,
           null,
           null,
           null,
           null,
           null,
           null,
           null,
           0.987959086894989,
           null,
           null,
           null,
           null,
           null,
           null,
           null,
           null,
           null,
           null,
           null,
           null,
           null,
           null,
           null,
           null,
           null
          ],
          [
           null,
           null,
           null,
           null,
           null,
           null,
           null,
           null,
           null,
           null,
           null,
           null,
           null,
           null,
           null,
           null,
           null,
           null,
           null,
           0.9864539504051208,
           null,
           null,
           null,
           null,
           null,
           null,
           null,
           null,
           null,
           null,
           null,
           null,
           null,
           null,
           null,
           null,
           null,
           null,
           null,
           null,
           null,
           null
          ],
          [
           null,
           null,
           null,
           null,
           null,
           null,
           null,
           null,
           null,
           null,
           null,
           null,
           null,
           null,
           null,
           null,
           null,
           null,
           null,
           null,
           null,
           null,
           null,
           null,
           null,
           null,
           null,
           null,
           null,
           null,
           null,
           null,
           null,
           null,
           null,
           null,
           0.9819386005401611,
           null,
           null,
           null,
           null,
           null
          ],
          [
           null,
           null,
           null,
           null,
           null,
           null,
           null,
           null,
           null,
           null,
           null,
           null,
           null,
           null,
           null,
           null,
           null,
           null,
           null,
           null,
           null,
           null,
           null,
           null,
           null,
           null,
           null,
           null,
           0.987959086894989,
           null,
           null,
           null,
           null,
           null,
           null,
           null,
           null,
           null,
           null,
           null,
           null,
           null
          ],
          [
           null,
           null,
           null,
           null,
           null,
           null,
           null,
           null,
           null,
           null,
           null,
           null,
           null,
           null,
           null,
           null,
           null,
           null,
           null,
           null,
           null,
           null,
           null,
           null,
           null,
           null,
           null,
           null,
           null,
           null,
           0.9861529469490051,
           null,
           null,
           null,
           null,
           null,
           null,
           null,
           null,
           null,
           null,
           null
          ],
          [
           null,
           null,
           null,
           null,
           null,
           null,
           null,
           null,
           null,
           null,
           null,
           null,
           null,
           null,
           null,
           null,
           null,
           null,
           null,
           null,
           null,
           null,
           null,
           null,
           null,
           null,
           null,
           0.9873570203781128,
           null,
           null,
           null,
           null,
           null,
           null,
           null,
           null,
           null,
           null,
           null,
           null,
           null,
           null
          ],
          [
           null,
           null,
           null,
           null,
           null,
           null,
           null,
           null,
           null,
           null,
           null,
           null,
           null,
           null,
           null,
           null,
           null,
           null,
           null,
           null,
           null,
           null,
           null,
           null,
           null,
           null,
           null,
           null,
           null,
           0.9873570203781128,
           null,
           null,
           null,
           null,
           null,
           null,
           null,
           null,
           null,
           null,
           null,
           null
          ],
          [
           null,
           null,
           null,
           null,
           null,
           null,
           null,
           null,
           null,
           null,
           null,
           null,
           null,
           null,
           null,
           null,
           null,
           null,
           null,
           null,
           null,
           null,
           null,
           null,
           null,
           null,
           null,
           null,
           null,
           null,
           null,
           null,
           null,
           null,
           null,
           null,
           null,
           null,
           null,
           null,
           null,
           null
          ]
         ]
        },
        {
         "marker": {
          "color": "black",
          "line": {
           "color": "Gray",
           "width": 2
          }
         },
         "mode": "markers",
         "name": "Feasible Trial",
         "showlegend": false,
         "type": "scatter",
         "x": [
          0.1248062459518126,
          0.18550895913745297,
          0.1907760123015208,
          0.16657345853508188,
          0.14474113728042967,
          0.161148261528122,
          0.13714949392899192,
          0.13891604018175807,
          0.1397480575469616,
          0.10047679932934811,
          0.1214554615025169,
          0.10082833671945111,
          0.1154754304505843,
          0.1484977711206744,
          0.13355346687915795,
          0.10773866631139353,
          0.135389527336228,
          0.1268199996480464,
          0.1459865983964105,
          0.13215914314856453,
          0.1203652038223573,
          0.14342211918503453,
          0.1116614647957342,
          0.10695467716071022,
          0.12288339206509208,
          0.10482194445211092,
          0.11806197881223826,
          0.11231638498621203,
          0.15157105362996692,
          0.1367781767123146,
          0.11940999884519499,
          0.15954728376816632,
          0.1328380306525573,
          0.11490700020310449,
          0.13645046663521485,
          0.13592560996267433,
          0.13512039755166452,
          0.11406747148220177,
          0.12048916187989218,
          0.10324976064678713
         ],
         "xaxis": "x14",
         "y": [
          172,
          133,
          81,
          312,
          719,
          641,
          763,
          800,
          788,
          656,
          580,
          697,
          710,
          728,
          671,
          201,
          742,
          746,
          224,
          80,
          693,
          488,
          693,
          651,
          134,
          696,
          660,
          393,
          551,
          798,
          285,
          760,
          660,
          576,
          465,
          513,
          504,
          404,
          438,
          410
         ],
         "yaxis": "y14"
        },
        {
         "colorbar": {
          "title": {
           "text": "Objective Value"
          }
         },
         "colorscale": [
          [
           0,
           "rgb(247,251,255)"
          ],
          [
           0.125,
           "rgb(222,235,247)"
          ],
          [
           0.25,
           "rgb(198,219,239)"
          ],
          [
           0.375,
           "rgb(158,202,225)"
          ],
          [
           0.5,
           "rgb(107,174,214)"
          ],
          [
           0.625,
           "rgb(66,146,198)"
          ],
          [
           0.75,
           "rgb(33,113,181)"
          ],
          [
           0.875,
           "rgb(8,81,156)"
          ],
          [
           1,
           "rgb(8,48,107)"
          ]
         ],
         "connectgaps": true,
         "contours": {
          "coloring": "heatmap"
         },
         "hoverinfo": "none",
         "line": {
          "smoothing": 1.3
         },
         "reversescale": false,
         "showscale": false,
         "type": "contour",
         "x": [
          0.09596183868073947,
          0.10047679932934811,
          0.10082833671945111,
          0.10324976064678713,
          0.10482194445211092,
          0.10695467716071022,
          0.10773866631139353,
          0.1116614647957342,
          0.11231638498621203,
          0.11406747148220177,
          0.11490700020310449,
          0.1154754304505843,
          0.11806197881223826,
          0.11940999884519499,
          0.1203652038223573,
          0.12048916187989218,
          0.1214554615025169,
          0.12288339206509208,
          0.1248062459518126,
          0.1268199996480464,
          0.13215914314856453,
          0.1328380306525573,
          0.13355346687915795,
          0.13512039755166452,
          0.135389527336228,
          0.13592560996267433,
          0.13645046663521485,
          0.1367781767123146,
          0.13714949392899192,
          0.13891604018175807,
          0.1397480575469616,
          0.14342211918503453,
          0.14474113728042967,
          0.1459865983964105,
          0.1484977711206744,
          0.15157105362996692,
          0.15954728376816632,
          0.161148261528122,
          0.16657345853508188,
          0.18550895913745297,
          0.1907760123015208,
          0.19529097295012943
         ],
         "xaxis": "x20",
         "y": [
          0.000089406240327015,
          0.00010014504120445575,
          0.00010027047928771214,
          0.00010028333971593998,
          0.00010048844365348455,
          0.00010053327085196988,
          0.00010077357974050429,
          0.00010082282939436439,
          0.00010157391045421977,
          0.00010170307178885521,
          0.00010243781588344641,
          0.00010248001130871688,
          0.00010306416392836265,
          0.0001031032406478315,
          0.00010419211491519788,
          0.0001045580606273782,
          0.00010597388762724996,
          0.0001060880228915066,
          0.00010893815090113448,
          0.00010976760892334912,
          0.00011195019969690164,
          0.00011228229231301858,
          0.00011326523260917271,
          0.00011521444028996555,
          0.00011618314601754972,
          0.00011888418796031753,
          0.00011921265990106719,
          0.00012161460160903801,
          0.00012339564439166133,
          0.00012426357165036393,
          0.000125547663308625,
          0.00012676457742972808,
          0.00013103440643135768,
          0.00014594104103371984,
          0.00016181724286239138,
          0.0001643847681891162,
          0.0005097814609911406,
          0.0006269130974735595,
          0.0006822877031608912,
          0.0008495452042067824,
          0.0009679697628295381,
          0.0010842349642337062
         ],
         "yaxis": "y20",
         "z": [
          [
           null,
           null,
           null,
           null,
           null,
           null,
           null,
           null,
           null,
           null,
           null,
           null,
           null,
           null,
           null,
           null,
           null,
           null,
           null,
           null,
           null,
           null,
           null,
           null,
           null,
           null,
           null,
           null,
           null,
           null,
           null,
           null,
           null,
           null,
           null,
           null,
           null,
           null,
           null,
           null,
           null,
           null
          ],
          [
           null,
           null,
           null,
           null,
           null,
           null,
           null,
           null,
           null,
           null,
           null,
           null,
           null,
           null,
           null,
           null,
           null,
           null,
           null,
           null,
           null,
           null,
           0.9867549538612366,
           null,
           null,
           null,
           null,
           null,
           null,
           null,
           null,
           null,
           null,
           null,
           null,
           null,
           null,
           null,
           null,
           null,
           null,
           null
          ],
          [
           null,
           null,
           null,
           null,
           null,
           null,
           null,
           0.987959086894989,
           null,
           null,
           null,
           null,
           null,
           null,
           null,
           null,
           null,
           null,
           null,
           null,
           null,
           null,
           null,
           null,
           null,
           null,
           null,
           null,
           null,
           null,
           null,
           null,
           null,
           null,
           null,
           null,
           null,
           null,
           null,
           null,
           null,
           null
          ],
          [
           null,
           null,
           null,
           null,
           null,
           null,
           null,
           null,
           null,
           null,
           null,
           null,
           null,
           null,
           null,
           null,
           null,
           null,
           null,
           null,
           null,
           0.9852498769760132,
           null,
           null,
           null,
           null,
           null,
           null,
           null,
           null,
           null,
           null,
           null,
           null,
           null,
           null,
           null,
           null,
           null,
           null,
           null,
           null
          ],
          [
           null,
           null,
           null,
           null,
           null,
           null,
           null,
           null,
           null,
           null,
           null,
           null,
           null,
           null,
           null,
           null,
           null,
           null,
           null,
           null,
           null,
           null,
           null,
           null,
           null,
           null,
           null,
           0.9873570203781128,
           null,
           null,
           null,
           null,
           null,
           null,
           null,
           null,
           null,
           null,
           null,
           null,
           null,
           null
          ],
          [
           null,
           null,
           null,
           null,
           null,
           0.9810355305671692,
           null,
           null,
           null,
           null,
           null,
           null,
           null,
           null,
           null,
           null,
           null,
           null,
           null,
           null,
           null,
           null,
           null,
           null,
           null,
           null,
           null,
           null,
           null,
           null,
           null,
           null,
           null,
           null,
           null,
           null,
           null,
           null,
           null,
           null,
           null,
           null
          ],
          [
           null,
           null,
           null,
           null,
           null,
           null,
           null,
           null,
           null,
           null,
           null,
           null,
           0.9855508804321289,
           null,
           null,
           null,
           null,
           null,
           null,
           null,
           null,
           null,
           null,
           null,
           null,
           null,
           null,
           null,
           null,
           null,
           null,
           null,
           null,
           null,
           null,
           null,
           null,
           null,
           null,
           null,
           null,
           null
          ],
          [
           null,
           null,
           null,
           null,
           null,
           null,
           null,
           null,
           null,
           null,
           null,
           null,
           null,
           null,
           null,
           null,
           null,
           null,
           null,
           null,
           null,
           null,
           null,
           null,
           null,
           null,
           null,
           null,
           null,
           null,
           null,
           null,
           null,
           null,
           null,
           0.9798313975334167,
           null,
           null,
           null,
           null,
           null,
           null
          ],
          [
           null,
           null,
           null,
           null,
           null,
           null,
           null,
           null,
           null,
           null,
           null,
           null,
           null,
           null,
           null,
           null,
           null,
           null,
           null,
           null,
           null,
           null,
           null,
           null,
           null,
           null,
           null,
           null,
           0.987959086894989,
           null,
           null,
           null,
           null,
           null,
           null,
           null,
           null,
           null,
           null,
           null,
           null,
           null
          ],
          [
           null,
           null,
           0.9873570203781128,
           null,
           null,
           null,
           null,
           null,
           null,
           null,
           null,
           null,
           null,
           null,
           null,
           null,
           null,
           null,
           null,
           null,
           null,
           null,
           null,
           null,
           null,
           null,
           null,
           null,
           null,
           null,
           null,
           null,
           null,
           null,
           null,
           null,
           null,
           null,
           null,
           null,
           null,
           null
          ],
          [
           null,
           null,
           null,
           null,
           null,
           null,
           null,
           null,
           null,
           null,
           null,
           null,
           null,
           null,
           null,
           null,
           null,
           null,
           null,
           null,
           null,
           null,
           null,
           null,
           null,
           null,
           null,
           null,
           null,
           0.9873570203781128,
           null,
           null,
           null,
           null,
           null,
           null,
           null,
           null,
           null,
           null,
           null,
           null
          ],
          [
           null,
           0.9864539504051208,
           null,
           null,
           null,
           null,
           null,
           null,
           null,
           null,
           null,
           null,
           null,
           null,
           null,
           null,
           null,
           null,
           null,
           null,
           null,
           null,
           null,
           null,
           null,
           null,
           null,
           null,
           null,
           null,
           null,
           null,
           null,
           null,
           null,
           null,
           null,
           null,
           null,
           null,
           null,
           null
          ],
          [
           null,
           null,
           null,
           null,
           null,
           null,
           null,
           null,
           null,
           null,
           null,
           null,
           null,
           null,
           null,
           null,
           null,
           null,
           null,
           null,
           null,
           null,
           null,
           null,
           null,
           null,
           null,
           null,
           null,
           null,
           0.9861529469490051,
           null,
           null,
           null,
           null,
           null,
           null,
           null,
           null,
           null,
           null,
           null
          ],
          [
           null,
           null,
           null,
           null,
           null,
           null,
           null,
           null,
           null,
           null,
           null,
           null,
           null,
           null,
           null,
           null,
           null,
           null,
           null,
           null,
           null,
           null,
           null,
           null,
           0.987959086894989,
           null,
           null,
           null,
           null,
           null,
           null,
           null,
           null,
           null,
           null,
           null,
           null,
           null,
           null,
           null,
           null,
           null
          ],
          [
           null,
           null,
           null,
           null,
           null,
           null,
           null,
           null,
           null,
           0.9873570203781128,
           null,
           null,
           null,
           null,
           null,
           null,
           null,
           null,
           null,
           null,
           null,
           null,
           null,
           null,
           null,
           null,
           null,
           null,
           null,
           null,
           null,
           null,
           null,
           null,
           null,
           null,
           null,
           null,
           null,
           null,
           null,
           null
          ],
          [
           null,
           null,
           null,
           null,
           null,
           null,
           null,
           null,
           null,
           null,
           null,
           null,
           null,
           null,
           null,
           0.9834437370300293,
           null,
           null,
           null,
           null,
           null,
           null,
           null,
           null,
           null,
           null,
           null,
           null,
           null,
           null,
           null,
           null,
           null,
           null,
           null,
           null,
           null,
           null,
           null,
           null,
           null,
           null
          ],
          [
           null,
           null,
           null,
           null,
           0.9855508804321289,
           null,
           null,
           null,
           null,
           null,
           null,
           null,
           null,
           null,
           null,
           null,
           null,
           null,
           null,
           null,
           null,
           null,
           null,
           null,
           null,
           null,
           null,
           null,
           null,
           null,
           null,
           null,
           null,
           null,
           null,
           null,
           null,
           null,
           null,
           null,
           null,
           null
          ],
          [
           null,
           null,
           null,
           null,
           null,
           null,
           null,
           null,
           null,
           null,
           0.9870560169219971,
           null,
           null,
           null,
           null,
           null,
           null,
           null,
           null,
           null,
           null,
           null,
           null,
           null,
           null,
           null,
           null,
           null,
           null,
           null,
           null,
           null,
           null,
           null,
           null,
           null,
           null,
           null,
           null,
           null,
           null,
           null
          ],
          [
           null,
           null,
           null,
           null,
           null,
           null,
           null,
           null,
           null,
           null,
           null,
           null,
           null,
           null,
           null,
           null,
           null,
           null,
           null,
           null,
           null,
           null,
           null,
           null,
           null,
           null,
           null,
           null,
           null,
           null,
           null,
           null,
           null,
           null,
           0.9858518838882446,
           null,
           null,
           null,
           null,
           null,
           null,
           null
          ],
          [
           null,
           null,
           null,
           null,
           null,
           null,
           null,
           null,
           null,
           null,
           null,
           null,
           null,
           null,
           null,
           null,
           null,
           0.9771221876144409,
           null,
           null,
           null,
           null,
           null,
           null,
           null,
           null,
           null,
           null,
           null,
           null,
           null,
           null,
           null,
           null,
           null,
           null,
           null,
           null,
           null,
           null,
           null,
           null
          ],
          [
           null,
           null,
           null,
           null,
           null,
           null,
           null,
           null,
           null,
           null,
           null,
           null,
           null,
           0.9852498769760132,
           null,
           null,
           null,
           null,
           null,
           null,
           null,
           null,
           null,
           null,
           null,
           null,
           null,
           null,
           null,
           null,
           null,
           null,
           null,
           null,
           null,
           null,
           null,
           null,
           null,
           null,
           null,
           null
          ],
          [
           null,
           null,
           null,
           null,
           null,
           null,
           null,
           null,
           null,
           null,
           null,
           null,
           null,
           null,
           0.9876580238342285,
           null,
           null,
           null,
           null,
           null,
           null,
           null,
           null,
           null,
           null,
           null,
           null,
           null,
           null,
           null,
           null,
           null,
           null,
           null,
           null,
           null,
           null,
           null,
           null,
           null,
           null,
           null
          ],
          [
           null,
           null,
           null,
           0.9864539504051208,
           null,
           null,
           null,
           null,
           null,
           null,
           null,
           null,
           null,
           null,
           null,
           null,
           null,
           null,
           null,
           null,
           null,
           null,
           null,
           null,
           null,
           null,
           null,
           null,
           null,
           null,
           null,
           null,
           null,
           null,
           null,
           null,
           null,
           null,
           null,
           null,
           null,
           null
          ],
          [
           null,
           null,
           null,
           null,
           null,
           null,
           null,
           null,
           null,
           null,
           null,
           null,
           null,
           null,
           null,
           null,
           null,
           null,
           null,
           0.9864539504051208,
           null,
           null,
           null,
           null,
           null,
           null,
           null,
           null,
           null,
           null,
           null,
           null,
           null,
           null,
           null,
           null,
           null,
           null,
           null,
           null,
           null,
           null
          ],
          [
           null,
           null,
           null,
           null,
           null,
           null,
           null,
           null,
           null,
           null,
           null,
           null,
           null,
           null,
           null,
           null,
           null,
           null,
           null,
           null,
           null,
           null,
           null,
           null,
           null,
           null,
           null,
           null,
           null,
           null,
           null,
           0.9825406670570374,
           null,
           null,
           null,
           null,
           null,
           null,
           null,
           null,
           null,
           null
          ],
          [
           null,
           null,
           null,
           null,
           null,
           null,
           null,
           null,
           null,
           null,
           null,
           0.9864539504051208,
           null,
           null,
           null,
           null,
           null,
           null,
           null,
           null,
           null,
           null,
           null,
           null,
           null,
           null,
           null,
           null,
           null,
           null,
           null,
           null,
           null,
           null,
           null,
           null,
           null,
           null,
           null,
           null,
           null,
           null
          ],
          [
           null,
           null,
           null,
           null,
           null,
           null,
           null,
           null,
           null,
           null,
           null,
           null,
           null,
           null,
           null,
           null,
           null,
           null,
           null,
           null,
           null,
           null,
           null,
           null,
           null,
           0.9855508804321289,
           null,
           null,
           null,
           null,
           null,
           null,
           null,
           null,
           null,
           null,
           null,
           null,
           null,
           null,
           null,
           null
          ],
          [
           null,
           null,
           null,
           null,
           null,
           null,
           null,
           null,
           null,
           null,
           null,
           null,
           null,
           null,
           null,
           null,
           null,
           null,
           null,
           null,
           null,
           null,
           null,
           0.9873570203781128,
           null,
           null,
           null,
           null,
           null,
           null,
           null,
           null,
           null,
           null,
           null,
           null,
           null,
           null,
           null,
           null,
           null,
           null
          ],
          [
           null,
           null,
           null,
           null,
           null,
           null,
           null,
           null,
           null,
           null,
           null,
           null,
           null,
           null,
           null,
           null,
           null,
           null,
           null,
           null,
           null,
           null,
           null,
           null,
           null,
           null,
           0.9867549538612366,
           null,
           null,
           null,
           null,
           null,
           null,
           null,
           null,
           null,
           null,
           null,
           null,
           null,
           null,
           null
          ],
          [
           null,
           null,
           null,
           null,
           null,
           null,
           null,
           null,
           0.9849488139152527,
           null,
           null,
           null,
           null,
           null,
           null,
           null,
           null,
           null,
           null,
           null,
           null,
           null,
           null,
           null,
           null,
           null,
           null,
           null,
           null,
           null,
           null,
           null,
           null,
           null,
           null,
           null,
           null,
           null,
           null,
           null,
           null,
           null
          ],
          [
           null,
           null,
           null,
           null,
           null,
           null,
           null,
           null,
           null,
           null,
           null,
           null,
           null,
           null,
           null,
           null,
           null,
           null,
           null,
           null,
           null,
           null,
           null,
           null,
           null,
           null,
           null,
           null,
           null,
           null,
           null,
           null,
           null,
           null,
           null,
           null,
           0.9819386005401611,
           null,
           null,
           null,
           null,
           null
          ],
          [
           null,
           null,
           null,
           null,
           null,
           null,
           null,
           null,
           null,
           null,
           null,
           null,
           null,
           null,
           null,
           null,
           0.9861529469490051,
           null,
           null,
           null,
           null,
           null,
           null,
           null,
           null,
           null,
           null,
           null,
           null,
           null,
           null,
           null,
           null,
           null,
           null,
           null,
           null,
           null,
           null,
           null,
           null,
           null
          ],
          [
           null,
           null,
           null,
           null,
           null,
           null,
           null,
           null,
           null,
           null,
           null,
           null,
           null,
           null,
           null,
           null,
           null,
           null,
           null,
           null,
           null,
           null,
           null,
           null,
           null,
           null,
           null,
           null,
           null,
           null,
           null,
           null,
           0.9825406670570374,
           null,
           null,
           null,
           null,
           null,
           null,
           null,
           null,
           null
          ],
          [
           null,
           null,
           null,
           null,
           null,
           null,
           0.984647810459137,
           null,
           null,
           null,
           null,
           null,
           null,
           null,
           null,
           null,
           null,
           null,
           null,
           null,
           null,
           null,
           null,
           null,
           null,
           null,
           null,
           null,
           null,
           null,
           null,
           null,
           null,
           null,
           null,
           null,
           null,
           null,
           null,
           null,
           null,
           null
          ],
          [
           null,
           null,
           null,
           null,
           null,
           null,
           null,
           null,
           null,
           null,
           null,
           null,
           null,
           null,
           null,
           null,
           null,
           null,
           null,
           null,
           null,
           null,
           null,
           null,
           null,
           null,
           null,
           null,
           null,
           null,
           null,
           null,
           null,
           null,
           null,
           null,
           null,
           null,
           null,
           null,
           0.9671884179115295,
           null
          ],
          [
           null,
           null,
           null,
           null,
           null,
           null,
           null,
           null,
           null,
           null,
           null,
           null,
           null,
           null,
           null,
           null,
           null,
           null,
           null,
           null,
           0.9704996943473816,
           null,
           null,
           null,
           null,
           null,
           null,
           null,
           null,
           null,
           null,
           null,
           null,
           null,
           null,
           null,
           null,
           null,
           null,
           null,
           null,
           null
          ],
          [
           null,
           null,
           null,
           null,
           null,
           null,
           null,
           null,
           null,
           null,
           null,
           null,
           null,
           null,
           null,
           null,
           null,
           null,
           null,
           null,
           null,
           null,
           null,
           null,
           null,
           null,
           null,
           null,
           null,
           null,
           null,
           null,
           null,
           null,
           null,
           null,
           null,
           null,
           null,
           0.9813365340232849,
           null,
           null
          ],
          [
           null,
           null,
           null,
           null,
           null,
           null,
           null,
           null,
           null,
           null,
           null,
           null,
           null,
           null,
           null,
           null,
           null,
           null,
           0.9783263206481934,
           null,
           null,
           null,
           null,
           null,
           null,
           null,
           null,
           null,
           null,
           null,
           null,
           null,
           null,
           null,
           null,
           null,
           null,
           null,
           null,
           null,
           null,
           null
          ],
          [
           null,
           null,
           null,
           null,
           null,
           null,
           null,
           null,
           null,
           null,
           null,
           null,
           null,
           null,
           null,
           null,
           null,
           null,
           null,
           null,
           null,
           null,
           null,
           null,
           null,
           null,
           null,
           null,
           null,
           null,
           null,
           null,
           null,
           null,
           null,
           null,
           null,
           0.9816375970840454,
           null,
           null,
           null,
           null
          ],
          [
           null,
           null,
           null,
           null,
           null,
           null,
           null,
           null,
           null,
           null,
           null,
           null,
           null,
           null,
           null,
           null,
           null,
           null,
           null,
           null,
           null,
           null,
           null,
           null,
           null,
           null,
           null,
           null,
           null,
           null,
           null,
           null,
           null,
           null,
           null,
           null,
           null,
           null,
           0.979530394077301,
           null,
           null,
           null
          ],
          [
           null,
           null,
           null,
           null,
           null,
           null,
           null,
           null,
           null,
           null,
           null,
           null,
           null,
           null,
           null,
           null,
           null,
           null,
           null,
           null,
           null,
           null,
           null,
           null,
           null,
           null,
           null,
           null,
           null,
           null,
           null,
           null,
           null,
           0.9792293906211853,
           null,
           null,
           null,
           null,
           null,
           null,
           null,
           null
          ],
          [
           null,
           null,
           null,
           null,
           null,
           null,
           null,
           null,
           null,
           null,
           null,
           null,
           null,
           null,
           null,
           null,
           null,
           null,
           null,
           null,
           null,
           null,
           null,
           null,
           null,
           null,
           null,
           null,
           null,
           null,
           null,
           null,
           null,
           null,
           null,
           null,
           null,
           null,
           null,
           null,
           null,
           null
          ]
         ]
        },
        {
         "marker": {
          "color": "black",
          "line": {
           "color": "Gray",
           "width": 2
          }
         },
         "mode": "markers",
         "name": "Feasible Trial",
         "showlegend": false,
         "type": "scatter",
         "x": [
          0.1248062459518126,
          0.18550895913745297,
          0.1907760123015208,
          0.16657345853508188,
          0.14474113728042967,
          0.161148261528122,
          0.13714949392899192,
          0.13891604018175807,
          0.1397480575469616,
          0.10047679932934811,
          0.1214554615025169,
          0.10082833671945111,
          0.1154754304505843,
          0.1484977711206744,
          0.13355346687915795,
          0.10773866631139353,
          0.135389527336228,
          0.1268199996480464,
          0.1459865983964105,
          0.13215914314856453,
          0.1203652038223573,
          0.14342211918503453,
          0.1116614647957342,
          0.10695467716071022,
          0.12288339206509208,
          0.10482194445211092,
          0.11806197881223826,
          0.11231638498621203,
          0.15157105362996692,
          0.1367781767123146,
          0.11940999884519499,
          0.15954728376816632,
          0.1328380306525573,
          0.11490700020310449,
          0.13645046663521485,
          0.13592560996267433,
          0.13512039755166452,
          0.11406747148220177,
          0.12048916187989218,
          0.10324976064678713
         ],
         "xaxis": "x20",
         "y": [
          0.0006269130974735595,
          0.0005097814609911406,
          0.00016181724286239138,
          0.0008495452042067824,
          0.00013103440643135768,
          0.0006822877031608912,
          0.00010157391045421977,
          0.00010243781588344641,
          0.00010306416392836265,
          0.00010248001130871688,
          0.00012676457742972808,
          0.00010170307178885521,
          0.00011888418796031753,
          0.00010893815090113448,
          0.00010014504120445575,
          0.00014594104103371984,
          0.0001031032406478315,
          0.00011521444028996555,
          0.0009679697628295381,
          0.0001643847681891162,
          0.00011228229231301858,
          0.00011618314601754972,
          0.00010027047928771214,
          0.00010053327085196988,
          0.00010976760892334912,
          0.00010597388762724996,
          0.00010077357974050429,
          0.00012426357165036393,
          0.00010082282939436439,
          0.00010048844365348455,
          0.00011195019969690164,
          0.000125547663308625,
          0.00010028333971593998,
          0.0001060880228915066,
          0.00012339564439166133,
          0.00011921265990106719,
          0.00012161460160903801,
          0.00010419211491519788,
          0.0001045580606273782,
          0.00011326523260917271
         ],
         "yaxis": "y20"
        },
        {
         "colorbar": {
          "title": {
           "text": "Objective Value"
          }
         },
         "colorscale": [
          [
           0,
           "rgb(247,251,255)"
          ],
          [
           0.125,
           "rgb(222,235,247)"
          ],
          [
           0.25,
           "rgb(198,219,239)"
          ],
          [
           0.375,
           "rgb(158,202,225)"
          ],
          [
           0.5,
           "rgb(107,174,214)"
          ],
          [
           0.625,
           "rgb(66,146,198)"
          ],
          [
           0.75,
           "rgb(33,113,181)"
          ],
          [
           0.875,
           "rgb(8,81,156)"
          ],
          [
           1,
           "rgb(8,48,107)"
          ]
         ],
         "connectgaps": true,
         "contours": {
          "coloring": "heatmap"
         },
         "hoverinfo": "none",
         "line": {
          "smoothing": 1.3
         },
         "reversescale": false,
         "showscale": false,
         "type": "contour",
         "x": [
          0.09596183868073947,
          0.10047679932934811,
          0.10082833671945111,
          0.10324976064678713,
          0.10482194445211092,
          0.10695467716071022,
          0.10773866631139353,
          0.1116614647957342,
          0.11231638498621203,
          0.11406747148220177,
          0.11490700020310449,
          0.1154754304505843,
          0.11806197881223826,
          0.11940999884519499,
          0.1203652038223573,
          0.12048916187989218,
          0.1214554615025169,
          0.12288339206509208,
          0.1248062459518126,
          0.1268199996480464,
          0.13215914314856453,
          0.1328380306525573,
          0.13355346687915795,
          0.13512039755166452,
          0.135389527336228,
          0.13592560996267433,
          0.13645046663521485,
          0.1367781767123146,
          0.13714949392899192,
          0.13891604018175807,
          0.1397480575469616,
          0.14342211918503453,
          0.14474113728042967,
          0.1459865983964105,
          0.1484977711206744,
          0.15157105362996692,
          0.15954728376816632,
          0.161148261528122,
          0.16657345853508188,
          0.18550895913745297,
          0.1907760123015208,
          0.19529097295012943
         ],
         "xaxis": "x26",
         "y": [
          0.95,
          1,
          2,
          2.05
         ],
         "yaxis": "y26",
         "z": [
          [
           null,
           null,
           null,
           null,
           null,
           null,
           null,
           null,
           null,
           null,
           null,
           null,
           null,
           null,
           null,
           null,
           null,
           null,
           null,
           null,
           null,
           null,
           null,
           null,
           null,
           null,
           null,
           null,
           null,
           null,
           null,
           null,
           null,
           null,
           null,
           null,
           null,
           null,
           null,
           null,
           null,
           null
          ],
          [
           null,
           0.9864539504051208,
           0.9873570203781128,
           0.9864539504051208,
           0.9855508804321289,
           0.9810355305671692,
           null,
           0.987959086894989,
           0.9849488139152527,
           0.9873570203781128,
           0.9870560169219971,
           0.9864539504051208,
           0.9855508804321289,
           null,
           0.9876580238342285,
           0.9834437370300293,
           0.9861529469490051,
           0.9771221876144409,
           null,
           0.9864539504051208,
           0.9704996943473816,
           0.9852498769760132,
           0.9867549538612366,
           0.9873570203781128,
           0.987959086894989,
           0.9855508804321289,
           0.9867549538612366,
           0.9873570203781128,
           0.987959086894989,
           0.9873570203781128,
           0.9861529469490051,
           0.9825406670570374,
           0.9825406670570374,
           0.9792293906211853,
           0.9858518838882446,
           0.9798313975334167,
           0.9819386005401611,
           0.9816375970840454,
           null,
           null,
           0.9671884179115295,
           null
          ],
          [
           null,
           null,
           null,
           null,
           null,
           null,
           0.984647810459137,
           null,
           null,
           null,
           null,
           null,
           null,
           0.9852498769760132,
           null,
           null,
           null,
           null,
           0.9783263206481934,
           null,
           null,
           null,
           null,
           null,
           null,
           null,
           null,
           null,
           null,
           null,
           null,
           null,
           null,
           null,
           null,
           null,
           null,
           null,
           0.979530394077301,
           0.9813365340232849,
           null,
           null
          ],
          [
           null,
           null,
           null,
           null,
           null,
           null,
           null,
           null,
           null,
           null,
           null,
           null,
           null,
           null,
           null,
           null,
           null,
           null,
           null,
           null,
           null,
           null,
           null,
           null,
           null,
           null,
           null,
           null,
           null,
           null,
           null,
           null,
           null,
           null,
           null,
           null,
           null,
           null,
           null,
           null,
           null,
           null
          ]
         ]
        },
        {
         "marker": {
          "color": "black",
          "line": {
           "color": "Gray",
           "width": 2
          }
         },
         "mode": "markers",
         "name": "Feasible Trial",
         "showlegend": false,
         "type": "scatter",
         "x": [
          0.1248062459518126,
          0.18550895913745297,
          0.1907760123015208,
          0.16657345853508188,
          0.14474113728042967,
          0.161148261528122,
          0.13714949392899192,
          0.13891604018175807,
          0.1397480575469616,
          0.10047679932934811,
          0.1214554615025169,
          0.10082833671945111,
          0.1154754304505843,
          0.1484977711206744,
          0.13355346687915795,
          0.10773866631139353,
          0.135389527336228,
          0.1268199996480464,
          0.1459865983964105,
          0.13215914314856453,
          0.1203652038223573,
          0.14342211918503453,
          0.1116614647957342,
          0.10695467716071022,
          0.12288339206509208,
          0.10482194445211092,
          0.11806197881223826,
          0.11231638498621203,
          0.15157105362996692,
          0.1367781767123146,
          0.11940999884519499,
          0.15954728376816632,
          0.1328380306525573,
          0.11490700020310449,
          0.13645046663521485,
          0.13592560996267433,
          0.13512039755166452,
          0.11406747148220177,
          0.12048916187989218,
          0.10324976064678713
         ],
         "xaxis": "x26",
         "y": [
          2,
          2,
          1,
          2,
          1,
          1,
          1,
          1,
          1,
          1,
          1,
          1,
          1,
          1,
          1,
          2,
          1,
          1,
          1,
          1,
          1,
          1,
          1,
          1,
          1,
          1,
          1,
          1,
          1,
          1,
          2,
          1,
          1,
          1,
          1,
          1,
          1,
          1,
          1,
          1
         ],
         "yaxis": "y26"
        },
        {
         "colorbar": {
          "title": {
           "text": "Objective Value"
          }
         },
         "colorscale": [
          [
           0,
           "rgb(247,251,255)"
          ],
          [
           0.125,
           "rgb(222,235,247)"
          ],
          [
           0.25,
           "rgb(198,219,239)"
          ],
          [
           0.375,
           "rgb(158,202,225)"
          ],
          [
           0.5,
           "rgb(107,174,214)"
          ],
          [
           0.625,
           "rgb(66,146,198)"
          ],
          [
           0.75,
           "rgb(33,113,181)"
          ],
          [
           0.875,
           "rgb(8,81,156)"
          ],
          [
           1,
           "rgb(8,48,107)"
          ]
         ],
         "connectgaps": true,
         "contours": {
          "coloring": "heatmap"
         },
         "hoverinfo": "none",
         "line": {
          "smoothing": 1.3
         },
         "reversescale": false,
         "showscale": false,
         "type": "contour",
         "x": [
          0.09596183868073947,
          0.10047679932934811,
          0.10082833671945111,
          0.10324976064678713,
          0.10482194445211092,
          0.10695467716071022,
          0.10773866631139353,
          0.1116614647957342,
          0.11231638498621203,
          0.11406747148220177,
          0.11490700020310449,
          0.1154754304505843,
          0.11806197881223826,
          0.11940999884519499,
          0.1203652038223573,
          0.12048916187989218,
          0.1214554615025169,
          0.12288339206509208,
          0.1248062459518126,
          0.1268199996480464,
          0.13215914314856453,
          0.1328380306525573,
          0.13355346687915795,
          0.13512039755166452,
          0.135389527336228,
          0.13592560996267433,
          0.13645046663521485,
          0.1367781767123146,
          0.13714949392899192,
          0.13891604018175807,
          0.1397480575469616,
          0.14342211918503453,
          0.14474113728042967,
          0.1459865983964105,
          0.1484977711206744,
          0.15157105362996692,
          0.15954728376816632,
          0.161148261528122,
          0.16657345853508188,
          0.18550895913745297,
          0.1907760123015208,
          0.19529097295012943
         ],
         "xaxis": "x32",
         "y": [
          "False",
          "True"
         ],
         "yaxis": "y32",
         "z": [
          [
           null,
           0.9864539504051208,
           0.9873570203781128,
           0.9864539504051208,
           0.9855508804321289,
           null,
           0.984647810459137,
           0.987959086894989,
           0.9849488139152527,
           0.9873570203781128,
           0.9870560169219971,
           0.9864539504051208,
           0.9855508804321289,
           0.9852498769760132,
           0.9876580238342285,
           0.9834437370300293,
           0.9861529469490051,
           0.9771221876144409,
           null,
           0.9864539504051208,
           null,
           0.9852498769760132,
           0.9867549538612366,
           0.9873570203781128,
           0.987959086894989,
           0.9855508804321289,
           0.9867549538612366,
           0.9873570203781128,
           0.987959086894989,
           0.9873570203781128,
           0.9861529469490051,
           null,
           null,
           null,
           0.9858518838882446,
           null,
           null,
           null,
           0.979530394077301,
           null,
           0.9671884179115295,
           null
          ],
          [
           null,
           null,
           null,
           null,
           null,
           0.9810355305671692,
           null,
           null,
           null,
           null,
           null,
           null,
           null,
           null,
           null,
           null,
           null,
           null,
           0.9783263206481934,
           null,
           0.9704996943473816,
           null,
           null,
           null,
           null,
           null,
           null,
           null,
           null,
           null,
           null,
           0.9825406670570374,
           0.9825406670570374,
           0.9792293906211853,
           null,
           0.9798313975334167,
           0.9819386005401611,
           0.9816375970840454,
           null,
           0.9813365340232849,
           null,
           null
          ]
         ]
        },
        {
         "marker": {
          "color": "black",
          "line": {
           "color": "Gray",
           "width": 2
          }
         },
         "mode": "markers",
         "name": "Feasible Trial",
         "showlegend": false,
         "type": "scatter",
         "x": [
          0.1248062459518126,
          0.18550895913745297,
          0.1907760123015208,
          0.16657345853508188,
          0.14474113728042967,
          0.161148261528122,
          0.13714949392899192,
          0.13891604018175807,
          0.1397480575469616,
          0.10047679932934811,
          0.1214554615025169,
          0.10082833671945111,
          0.1154754304505843,
          0.1484977711206744,
          0.13355346687915795,
          0.10773866631139353,
          0.135389527336228,
          0.1268199996480464,
          0.1459865983964105,
          0.13215914314856453,
          0.1203652038223573,
          0.14342211918503453,
          0.1116614647957342,
          0.10695467716071022,
          0.12288339206509208,
          0.10482194445211092,
          0.11806197881223826,
          0.11231638498621203,
          0.15157105362996692,
          0.1367781767123146,
          0.11940999884519499,
          0.15954728376816632,
          0.1328380306525573,
          0.11490700020310449,
          0.13645046663521485,
          0.13592560996267433,
          0.13512039755166452,
          0.11406747148220177,
          0.12048916187989218,
          0.10324976064678713
         ],
         "xaxis": "x32",
         "y": [
          "True",
          "True",
          "False",
          "False",
          "True",
          "True",
          "False",
          "False",
          "False",
          "False",
          "False",
          "False",
          "False",
          "False",
          "False",
          "False",
          "False",
          "False",
          "True",
          "True",
          "False",
          "True",
          "False",
          "True",
          "False",
          "False",
          "False",
          "False",
          "True",
          "False",
          "False",
          "True",
          "False",
          "False",
          "False",
          "False",
          "False",
          "False",
          "False",
          "False"
         ],
         "yaxis": "y32"
        },
        {
         "colorbar": {
          "title": {
           "text": "Objective Value"
          }
         },
         "colorscale": [
          [
           0,
           "rgb(247,251,255)"
          ],
          [
           0.125,
           "rgb(222,235,247)"
          ],
          [
           0.25,
           "rgb(198,219,239)"
          ],
          [
           0.375,
           "rgb(158,202,225)"
          ],
          [
           0.5,
           "rgb(107,174,214)"
          ],
          [
           0.625,
           "rgb(66,146,198)"
          ],
          [
           0.75,
           "rgb(33,113,181)"
          ],
          [
           0.875,
           "rgb(8,81,156)"
          ],
          [
           1,
           "rgb(8,48,107)"
          ]
         ],
         "connectgaps": true,
         "contours": {
          "coloring": "heatmap"
         },
         "hoverinfo": "none",
         "line": {
          "smoothing": 1.3
         },
         "reversescale": false,
         "showscale": false,
         "type": "contour",
         "x": [
          44,
          80,
          81,
          133,
          134,
          172,
          201,
          224,
          285,
          312,
          393,
          404,
          410,
          438,
          465,
          488,
          504,
          513,
          551,
          576,
          580,
          641,
          651,
          656,
          660,
          671,
          693,
          696,
          697,
          710,
          719,
          728,
          742,
          746,
          760,
          763,
          788,
          798,
          800,
          836
         ],
         "xaxis": "x3",
         "y": [
          "relu",
          "tanh"
         ],
         "yaxis": "y3",
         "z": [
          [
           null,
           0.9704996943473816,
           0.9671884179115295,
           0.9813365340232849,
           0.9771221876144409,
           null,
           null,
           null,
           null,
           0.979530394077301,
           null,
           null,
           null,
           null,
           null,
           null,
           null,
           null,
           null,
           null,
           null,
           null,
           null,
           null,
           null,
           null,
           null,
           null,
           null,
           null,
           0.9825406670570374,
           null,
           null,
           null,
           null,
           null,
           null,
           null,
           null,
           null
          ],
          [
           null,
           null,
           null,
           null,
           null,
           0.9783263206481934,
           0.984647810459137,
           0.9792293906211853,
           0.9852498769760132,
           null,
           0.9849488139152527,
           0.9873570203781128,
           0.9864539504051208,
           0.9834437370300293,
           0.9867549538612366,
           0.9825406670570374,
           0.9873570203781128,
           0.9855508804321289,
           0.9798313975334167,
           0.9870560169219971,
           0.9861529469490051,
           0.9816375970840454,
           0.9810355305671692,
           0.9864539504051208,
           0.9855508804321289,
           0.9867549538612366,
           0.987959086894989,
           0.9855508804321289,
           0.9873570203781128,
           0.9864539504051208,
           null,
           0.9858518838882446,
           0.987959086894989,
           0.9864539504051208,
           0.9819386005401611,
           0.987959086894989,
           0.9861529469490051,
           0.9873570203781128,
           0.9873570203781128,
           null
          ]
         ]
        },
        {
         "marker": {
          "color": "black",
          "line": {
           "color": "Gray",
           "width": 2
          }
         },
         "mode": "markers",
         "name": "Feasible Trial",
         "showlegend": false,
         "type": "scatter",
         "x": [
          172,
          133,
          81,
          312,
          719,
          641,
          763,
          800,
          788,
          656,
          580,
          697,
          710,
          728,
          671,
          201,
          742,
          746,
          224,
          80,
          693,
          488,
          693,
          651,
          134,
          696,
          660,
          393,
          551,
          798,
          285,
          760,
          660,
          576,
          465,
          513,
          504,
          404,
          438,
          410
         ],
         "xaxis": "x3",
         "y": [
          "tanh",
          "relu",
          "relu",
          "relu",
          "relu",
          "tanh",
          "tanh",
          "tanh",
          "tanh",
          "tanh",
          "tanh",
          "tanh",
          "tanh",
          "tanh",
          "tanh",
          "tanh",
          "tanh",
          "tanh",
          "tanh",
          "relu",
          "tanh",
          "tanh",
          "tanh",
          "tanh",
          "relu",
          "tanh",
          "tanh",
          "tanh",
          "tanh",
          "tanh",
          "tanh",
          "tanh",
          "tanh",
          "tanh",
          "tanh",
          "tanh",
          "tanh",
          "tanh",
          "tanh",
          "tanh"
         ],
         "yaxis": "y3"
        },
        {
         "colorbar": {
          "title": {
           "text": "Objective Value"
          }
         },
         "colorscale": [
          [
           0,
           "rgb(247,251,255)"
          ],
          [
           0.125,
           "rgb(222,235,247)"
          ],
          [
           0.25,
           "rgb(198,219,239)"
          ],
          [
           0.375,
           "rgb(158,202,225)"
          ],
          [
           0.5,
           "rgb(107,174,214)"
          ],
          [
           0.625,
           "rgb(66,146,198)"
          ],
          [
           0.75,
           "rgb(33,113,181)"
          ],
          [
           0.875,
           "rgb(8,81,156)"
          ],
          [
           1,
           "rgb(8,48,107)"
          ]
         ],
         "connectgaps": true,
         "contours": {
          "coloring": "heatmap"
         },
         "hoverinfo": "none",
         "line": {
          "smoothing": 1.3
         },
         "reversescale": false,
         "showscale": false,
         "type": "contour",
         "x": [
          44,
          80,
          81,
          133,
          134,
          172,
          201,
          224,
          285,
          312,
          393,
          404,
          410,
          438,
          465,
          488,
          504,
          513,
          551,
          576,
          580,
          641,
          651,
          656,
          660,
          671,
          693,
          696,
          697,
          710,
          719,
          728,
          742,
          746,
          760,
          763,
          788,
          798,
          800,
          836
         ],
         "xaxis": "x9",
         "y": [
          0.09596183868073947,
          0.10047679932934811,
          0.10082833671945111,
          0.10324976064678713,
          0.10482194445211092,
          0.10695467716071022,
          0.10773866631139353,
          0.1116614647957342,
          0.11231638498621203,
          0.11406747148220177,
          0.11490700020310449,
          0.1154754304505843,
          0.11806197881223826,
          0.11940999884519499,
          0.1203652038223573,
          0.12048916187989218,
          0.1214554615025169,
          0.12288339206509208,
          0.1248062459518126,
          0.1268199996480464,
          0.13215914314856453,
          0.1328380306525573,
          0.13355346687915795,
          0.13512039755166452,
          0.135389527336228,
          0.13592560996267433,
          0.13645046663521485,
          0.1367781767123146,
          0.13714949392899192,
          0.13891604018175807,
          0.1397480575469616,
          0.14342211918503453,
          0.14474113728042967,
          0.1459865983964105,
          0.1484977711206744,
          0.15157105362996692,
          0.15954728376816632,
          0.161148261528122,
          0.16657345853508188,
          0.18550895913745297,
          0.1907760123015208,
          0.19529097295012943
         ],
         "yaxis": "y9",
         "z": [
          [
           null,
           null,
           null,
           null,
           null,
           null,
           null,
           null,
           null,
           null,
           null,
           null,
           null,
           null,
           null,
           null,
           null,
           null,
           null,
           null,
           null,
           null,
           null,
           null,
           null,
           null,
           null,
           null,
           null,
           null,
           null,
           null,
           null,
           null,
           null,
           null,
           null,
           null,
           null,
           null
          ],
          [
           null,
           null,
           null,
           null,
           null,
           null,
           null,
           null,
           null,
           null,
           null,
           null,
           null,
           null,
           null,
           null,
           null,
           null,
           null,
           null,
           null,
           null,
           null,
           0.9864539504051208,
           null,
           null,
           null,
           null,
           null,
           null,
           null,
           null,
           null,
           null,
           null,
           null,
           null,
           null,
           null,
           null
          ],
          [
           null,
           null,
           null,
           null,
           null,
           null,
           null,
           null,
           null,
           null,
           null,
           null,
           null,
           null,
           null,
           null,
           null,
           null,
           null,
           null,
           null,
           null,
           null,
           null,
           null,
           null,
           null,
           null,
           0.9873570203781128,
           null,
           null,
           null,
           null,
           null,
           null,
           null,
           null,
           null,
           null,
           null
          ],
          [
           null,
           null,
           null,
           null,
           null,
           null,
           null,
           null,
           null,
           null,
           null,
           null,
           0.9864539504051208,
           null,
           null,
           null,
           null,
           null,
           null,
           null,
           null,
           null,
           null,
           null,
           null,
           null,
           null,
           null,
           null,
           null,
           null,
           null,
           null,
           null,
           null,
           null,
           null,
           null,
           null,
           null
          ],
          [
           null,
           null,
           null,
           null,
           null,
           null,
           null,
           null,
           null,
           null,
           null,
           null,
           null,
           null,
           null,
           null,
           null,
           null,
           null,
           null,
           null,
           null,
           null,
           null,
           null,
           null,
           null,
           0.9855508804321289,
           null,
           null,
           null,
           null,
           null,
           null,
           null,
           null,
           null,
           null,
           null,
           null
          ],
          [
           null,
           null,
           null,
           null,
           null,
           null,
           null,
           null,
           null,
           null,
           null,
           null,
           null,
           null,
           null,
           null,
           null,
           null,
           null,
           null,
           null,
           null,
           0.9810355305671692,
           null,
           null,
           null,
           null,
           null,
           null,
           null,
           null,
           null,
           null,
           null,
           null,
           null,
           null,
           null,
           null,
           null
          ],
          [
           null,
           null,
           null,
           null,
           null,
           null,
           0.984647810459137,
           null,
           null,
           null,
           null,
           null,
           null,
           null,
           null,
           null,
           null,
           null,
           null,
           null,
           null,
           null,
           null,
           null,
           null,
           null,
           null,
           null,
           null,
           null,
           null,
           null,
           null,
           null,
           null,
           null,
           null,
           null,
           null,
           null
          ],
          [
           null,
           null,
           null,
           null,
           null,
           null,
           null,
           null,
           null,
           null,
           null,
           null,
           null,
           null,
           null,
           null,
           null,
           null,
           null,
           null,
           null,
           null,
           null,
           null,
           null,
           null,
           0.987959086894989,
           null,
           null,
           null,
           null,
           null,
           null,
           null,
           null,
           null,
           null,
           null,
           null,
           null
          ],
          [
           null,
           null,
           null,
           null,
           null,
           null,
           null,
           null,
           null,
           null,
           0.9849488139152527,
           null,
           null,
           null,
           null,
           null,
           null,
           null,
           null,
           null,
           null,
           null,
           null,
           null,
           null,
           null,
           null,
           null,
           null,
           null,
           null,
           null,
           null,
           null,
           null,
           null,
           null,
           null,
           null,
           null
          ],
          [
           null,
           null,
           null,
           null,
           null,
           null,
           null,
           null,
           null,
           null,
           null,
           0.9873570203781128,
           null,
           null,
           null,
           null,
           null,
           null,
           null,
           null,
           null,
           null,
           null,
           null,
           null,
           null,
           null,
           null,
           null,
           null,
           null,
           null,
           null,
           null,
           null,
           null,
           null,
           null,
           null,
           null
          ],
          [
           null,
           null,
           null,
           null,
           null,
           null,
           null,
           null,
           null,
           null,
           null,
           null,
           null,
           null,
           null,
           null,
           null,
           null,
           null,
           0.9870560169219971,
           null,
           null,
           null,
           null,
           null,
           null,
           null,
           null,
           null,
           null,
           null,
           null,
           null,
           null,
           null,
           null,
           null,
           null,
           null,
           null
          ],
          [
           null,
           null,
           null,
           null,
           null,
           null,
           null,
           null,
           null,
           null,
           null,
           null,
           null,
           null,
           null,
           null,
           null,
           null,
           null,
           null,
           null,
           null,
           null,
           null,
           null,
           null,
           null,
           null,
           null,
           0.9864539504051208,
           null,
           null,
           null,
           null,
           null,
           null,
           null,
           null,
           null,
           null
          ],
          [
           null,
           null,
           null,
           null,
           null,
           null,
           null,
           null,
           null,
           null,
           null,
           null,
           null,
           null,
           null,
           null,
           null,
           null,
           null,
           null,
           null,
           null,
           null,
           null,
           0.9855508804321289,
           null,
           null,
           null,
           null,
           null,
           null,
           null,
           null,
           null,
           null,
           null,
           null,
           null,
           null,
           null
          ],
          [
           null,
           null,
           null,
           null,
           null,
           null,
           null,
           null,
           0.9852498769760132,
           null,
           null,
           null,
           null,
           null,
           null,
           null,
           null,
           null,
           null,
           null,
           null,
           null,
           null,
           null,
           null,
           null,
           null,
           null,
           null,
           null,
           null,
           null,
           null,
           null,
           null,
           null,
           null,
           null,
           null,
           null
          ],
          [
           null,
           null,
           null,
           null,
           null,
           null,
           null,
           null,
           null,
           null,
           null,
           null,
           null,
           null,
           null,
           null,
           null,
           null,
           null,
           null,
           null,
           null,
           null,
           null,
           null,
           null,
           0.9876580238342285,
           null,
           null,
           null,
           null,
           null,
           null,
           null,
           null,
           null,
           null,
           null,
           null,
           null
          ],
          [
           null,
           null,
           null,
           null,
           null,
           null,
           null,
           null,
           null,
           null,
           null,
           null,
           null,
           0.9834437370300293,
           null,
           null,
           null,
           null,
           null,
           null,
           null,
           null,
           null,
           null,
           null,
           null,
           null,
           null,
           null,
           null,
           null,
           null,
           null,
           null,
           null,
           null,
           null,
           null,
           null,
           null
          ],
          [
           null,
           null,
           null,
           null,
           null,
           null,
           null,
           null,
           null,
           null,
           null,
           null,
           null,
           null,
           null,
           null,
           null,
           null,
           null,
           null,
           0.9861529469490051,
           null,
           null,
           null,
           null,
           null,
           null,
           null,
           null,
           null,
           null,
           null,
           null,
           null,
           null,
           null,
           null,
           null,
           null,
           null
          ],
          [
           null,
           null,
           null,
           null,
           0.9771221876144409,
           null,
           null,
           null,
           null,
           null,
           null,
           null,
           null,
           null,
           null,
           null,
           null,
           null,
           null,
           null,
           null,
           null,
           null,
           null,
           null,
           null,
           null,
           null,
           null,
           null,
           null,
           null,
           null,
           null,
           null,
           null,
           null,
           null,
           null,
           null
          ],
          [
           null,
           null,
           null,
           null,
           null,
           0.9783263206481934,
           null,
           null,
           null,
           null,
           null,
           null,
           null,
           null,
           null,
           null,
           null,
           null,
           null,
           null,
           null,
           null,
           null,
           null,
           null,
           null,
           null,
           null,
           null,
           null,
           null,
           null,
           null,
           null,
           null,
           null,
           null,
           null,
           null,
           null
          ],
          [
           null,
           null,
           null,
           null,
           null,
           null,
           null,
           null,
           null,
           null,
           null,
           null,
           null,
           null,
           null,
           null,
           null,
           null,
           null,
           null,
           null,
           null,
           null,
           null,
           null,
           null,
           null,
           null,
           null,
           null,
           null,
           null,
           null,
           0.9864539504051208,
           null,
           null,
           null,
           null,
           null,
           null
          ],
          [
           null,
           0.9704996943473816,
           null,
           null,
           null,
           null,
           null,
           null,
           null,
           null,
           null,
           null,
           null,
           null,
           null,
           null,
           null,
           null,
           null,
           null,
           null,
           null,
           null,
           null,
           null,
           null,
           null,
           null,
           null,
           null,
           null,
           null,
           null,
           null,
           null,
           null,
           null,
           null,
           null,
           null
          ],
          [
           null,
           null,
           null,
           null,
           null,
           null,
           null,
           null,
           null,
           null,
           null,
           null,
           null,
           null,
           null,
           null,
           null,
           null,
           null,
           null,
           null,
           null,
           null,
           null,
           0.9852498769760132,
           null,
           null,
           null,
           null,
           null,
           null,
           null,
           null,
           null,
           null,
           null,
           null,
           null,
           null,
           null
          ],
          [
           null,
           null,
           null,
           null,
           null,
           null,
           null,
           null,
           null,
           null,
           null,
           null,
           null,
           null,
           null,
           null,
           null,
           null,
           null,
           null,
           null,
           null,
           null,
           null,
           null,
           0.9867549538612366,
           null,
           null,
           null,
           null,
           null,
           null,
           null,
           null,
           null,
           null,
           null,
           null,
           null,
           null
          ],
          [
           null,
           null,
           null,
           null,
           null,
           null,
           null,
           null,
           null,
           null,
           null,
           null,
           null,
           null,
           null,
           null,
           0.9873570203781128,
           null,
           null,
           null,
           null,
           null,
           null,
           null,
           null,
           null,
           null,
           null,
           null,
           null,
           null,
           null,
           null,
           null,
           null,
           null,
           null,
           null,
           null,
           null
          ],
          [
           null,
           null,
           null,
           null,
           null,
           null,
           null,
           null,
           null,
           null,
           null,
           null,
           null,
           null,
           null,
           null,
           null,
           null,
           null,
           null,
           null,
           null,
           null,
           null,
           null,
           null,
           null,
           null,
           null,
           null,
           null,
           null,
           0.987959086894989,
           null,
           null,
           null,
           null,
           null,
           null,
           null
          ],
          [
           null,
           null,
           null,
           null,
           null,
           null,
           null,
           null,
           null,
           null,
           null,
           null,
           null,
           null,
           null,
           null,
           null,
           0.9855508804321289,
           null,
           null,
           null,
           null,
           null,
           null,
           null,
           null,
           null,
           null,
           null,
           null,
           null,
           null,
           null,
           null,
           null,
           null,
           null,
           null,
           null,
           null
          ],
          [
           null,
           null,
           null,
           null,
           null,
           null,
           null,
           null,
           null,
           null,
           null,
           null,
           null,
           null,
           0.9867549538612366,
           null,
           null,
           null,
           null,
           null,
           null,
           null,
           null,
           null,
           null,
           null,
           null,
           null,
           null,
           null,
           null,
           null,
           null,
           null,
           null,
           null,
           null,
           null,
           null,
           null
          ],
          [
           null,
           null,
           null,
           null,
           null,
           null,
           null,
           null,
           null,
           null,
           null,
           null,
           null,
           null,
           null,
           null,
           null,
           null,
           null,
           null,
           null,
           null,
           null,
           null,
           null,
           null,
           null,
           null,
           null,
           null,
           null,
           null,
           null,
           null,
           null,
           null,
           null,
           0.9873570203781128,
           null,
           null
          ],
          [
           null,
           null,
           null,
           null,
           null,
           null,
           null,
           null,
           null,
           null,
           null,
           null,
           null,
           null,
           null,
           null,
           null,
           null,
           null,
           null,
           null,
           null,
           null,
           null,
           null,
           null,
           null,
           null,
           null,
           null,
           null,
           null,
           null,
           null,
           null,
           0.987959086894989,
           null,
           null,
           null,
           null
          ],
          [
           null,
           null,
           null,
           null,
           null,
           null,
           null,
           null,
           null,
           null,
           null,
           null,
           null,
           null,
           null,
           null,
           null,
           null,
           null,
           null,
           null,
           null,
           null,
           null,
           null,
           null,
           null,
           null,
           null,
           null,
           null,
           null,
           null,
           null,
           null,
           null,
           null,
           null,
           0.9873570203781128,
           null
          ],
          [
           null,
           null,
           null,
           null,
           null,
           null,
           null,
           null,
           null,
           null,
           null,
           null,
           null,
           null,
           null,
           null,
           null,
           null,
           null,
           null,
           null,
           null,
           null,
           null,
           null,
           null,
           null,
           null,
           null,
           null,
           null,
           null,
           null,
           null,
           null,
           null,
           0.9861529469490051,
           null,
           null,
           null
          ],
          [
           null,
           null,
           null,
           null,
           null,
           null,
           null,
           null,
           null,
           null,
           null,
           null,
           null,
           null,
           null,
           0.9825406670570374,
           null,
           null,
           null,
           null,
           null,
           null,
           null,
           null,
           null,
           null,
           null,
           null,
           null,
           null,
           null,
           null,
           null,
           null,
           null,
           null,
           null,
           null,
           null,
           null
          ],
          [
           null,
           null,
           null,
           null,
           null,
           null,
           null,
           null,
           null,
           null,
           null,
           null,
           null,
           null,
           null,
           null,
           null,
           null,
           null,
           null,
           null,
           null,
           null,
           null,
           null,
           null,
           null,
           null,
           null,
           null,
           0.9825406670570374,
           null,
           null,
           null,
           null,
           null,
           null,
           null,
           null,
           null
          ],
          [
           null,
           null,
           null,
           null,
           null,
           null,
           null,
           0.9792293906211853,
           null,
           null,
           null,
           null,
           null,
           null,
           null,
           null,
           null,
           null,
           null,
           null,
           null,
           null,
           null,
           null,
           null,
           null,
           null,
           null,
           null,
           null,
           null,
           null,
           null,
           null,
           null,
           null,
           null,
           null,
           null,
           null
          ],
          [
           null,
           null,
           null,
           null,
           null,
           null,
           null,
           null,
           null,
           null,
           null,
           null,
           null,
           null,
           null,
           null,
           null,
           null,
           null,
           null,
           null,
           null,
           null,
           null,
           null,
           null,
           null,
           null,
           null,
           null,
           null,
           0.9858518838882446,
           null,
           null,
           null,
           null,
           null,
           null,
           null,
           null
          ],
          [
           null,
           null,
           null,
           null,
           null,
           null,
           null,
           null,
           null,
           null,
           null,
           null,
           null,
           null,
           null,
           null,
           null,
           null,
           0.9798313975334167,
           null,
           null,
           null,
           null,
           null,
           null,
           null,
           null,
           null,
           null,
           null,
           null,
           null,
           null,
           null,
           null,
           null,
           null,
           null,
           null,
           null
          ],
          [
           null,
           null,
           null,
           null,
           null,
           null,
           null,
           null,
           null,
           null,
           null,
           null,
           null,
           null,
           null,
           null,
           null,
           null,
           null,
           null,
           null,
           null,
           null,
           null,
           null,
           null,
           null,
           null,
           null,
           null,
           null,
           null,
           null,
           null,
           0.9819386005401611,
           null,
           null,
           null,
           null,
           null
          ],
          [
           null,
           null,
           null,
           null,
           null,
           null,
           null,
           null,
           null,
           null,
           null,
           null,
           null,
           null,
           null,
           null,
           null,
           null,
           null,
           null,
           null,
           0.9816375970840454,
           null,
           null,
           null,
           null,
           null,
           null,
           null,
           null,
           null,
           null,
           null,
           null,
           null,
           null,
           null,
           null,
           null,
           null
          ],
          [
           null,
           null,
           null,
           null,
           null,
           null,
           null,
           null,
           null,
           0.979530394077301,
           null,
           null,
           null,
           null,
           null,
           null,
           null,
           null,
           null,
           null,
           null,
           null,
           null,
           null,
           null,
           null,
           null,
           null,
           null,
           null,
           null,
           null,
           null,
           null,
           null,
           null,
           null,
           null,
           null,
           null
          ],
          [
           null,
           null,
           null,
           0.9813365340232849,
           null,
           null,
           null,
           null,
           null,
           null,
           null,
           null,
           null,
           null,
           null,
           null,
           null,
           null,
           null,
           null,
           null,
           null,
           null,
           null,
           null,
           null,
           null,
           null,
           null,
           null,
           null,
           null,
           null,
           null,
           null,
           null,
           null,
           null,
           null,
           null
          ],
          [
           null,
           null,
           0.9671884179115295,
           null,
           null,
           null,
           null,
           null,
           null,
           null,
           null,
           null,
           null,
           null,
           null,
           null,
           null,
           null,
           null,
           null,
           null,
           null,
           null,
           null,
           null,
           null,
           null,
           null,
           null,
           null,
           null,
           null,
           null,
           null,
           null,
           null,
           null,
           null,
           null,
           null
          ],
          [
           null,
           null,
           null,
           null,
           null,
           null,
           null,
           null,
           null,
           null,
           null,
           null,
           null,
           null,
           null,
           null,
           null,
           null,
           null,
           null,
           null,
           null,
           null,
           null,
           null,
           null,
           null,
           null,
           null,
           null,
           null,
           null,
           null,
           null,
           null,
           null,
           null,
           null,
           null,
           null
          ]
         ]
        },
        {
         "marker": {
          "color": "black",
          "line": {
           "color": "Gray",
           "width": 2
          }
         },
         "mode": "markers",
         "name": "Feasible Trial",
         "showlegend": false,
         "type": "scatter",
         "x": [
          172,
          133,
          81,
          312,
          719,
          641,
          763,
          800,
          788,
          656,
          580,
          697,
          710,
          728,
          671,
          201,
          742,
          746,
          224,
          80,
          693,
          488,
          693,
          651,
          134,
          696,
          660,
          393,
          551,
          798,
          285,
          760,
          660,
          576,
          465,
          513,
          504,
          404,
          438,
          410
         ],
         "xaxis": "x9",
         "y": [
          0.1248062459518126,
          0.18550895913745297,
          0.1907760123015208,
          0.16657345853508188,
          0.14474113728042967,
          0.161148261528122,
          0.13714949392899192,
          0.13891604018175807,
          0.1397480575469616,
          0.10047679932934811,
          0.1214554615025169,
          0.10082833671945111,
          0.1154754304505843,
          0.1484977711206744,
          0.13355346687915795,
          0.10773866631139353,
          0.135389527336228,
          0.1268199996480464,
          0.1459865983964105,
          0.13215914314856453,
          0.1203652038223573,
          0.14342211918503453,
          0.1116614647957342,
          0.10695467716071022,
          0.12288339206509208,
          0.10482194445211092,
          0.11806197881223826,
          0.11231638498621203,
          0.15157105362996692,
          0.1367781767123146,
          0.11940999884519499,
          0.15954728376816632,
          0.1328380306525573,
          0.11490700020310449,
          0.13645046663521485,
          0.13592560996267433,
          0.13512039755166452,
          0.11406747148220177,
          0.12048916187989218,
          0.10324976064678713
         ],
         "yaxis": "y9"
        },
        {
         "type": "scatter",
         "xaxis": "x15",
         "yaxis": "y15"
        },
        {
         "colorbar": {
          "title": {
           "text": "Objective Value"
          }
         },
         "colorscale": [
          [
           0,
           "rgb(247,251,255)"
          ],
          [
           0.125,
           "rgb(222,235,247)"
          ],
          [
           0.25,
           "rgb(198,219,239)"
          ],
          [
           0.375,
           "rgb(158,202,225)"
          ],
          [
           0.5,
           "rgb(107,174,214)"
          ],
          [
           0.625,
           "rgb(66,146,198)"
          ],
          [
           0.75,
           "rgb(33,113,181)"
          ],
          [
           0.875,
           "rgb(8,81,156)"
          ],
          [
           1,
           "rgb(8,48,107)"
          ]
         ],
         "connectgaps": true,
         "contours": {
          "coloring": "heatmap"
         },
         "hoverinfo": "none",
         "line": {
          "smoothing": 1.3
         },
         "reversescale": false,
         "showscale": false,
         "type": "contour",
         "x": [
          44,
          80,
          81,
          133,
          134,
          172,
          201,
          224,
          285,
          312,
          393,
          404,
          410,
          438,
          465,
          488,
          504,
          513,
          551,
          576,
          580,
          641,
          651,
          656,
          660,
          671,
          693,
          696,
          697,
          710,
          719,
          728,
          742,
          746,
          760,
          763,
          788,
          798,
          800,
          836
         ],
         "xaxis": "x21",
         "y": [
          0.000089406240327015,
          0.00010014504120445575,
          0.00010027047928771214,
          0.00010028333971593998,
          0.00010048844365348455,
          0.00010053327085196988,
          0.00010077357974050429,
          0.00010082282939436439,
          0.00010157391045421977,
          0.00010170307178885521,
          0.00010243781588344641,
          0.00010248001130871688,
          0.00010306416392836265,
          0.0001031032406478315,
          0.00010419211491519788,
          0.0001045580606273782,
          0.00010597388762724996,
          0.0001060880228915066,
          0.00010893815090113448,
          0.00010976760892334912,
          0.00011195019969690164,
          0.00011228229231301858,
          0.00011326523260917271,
          0.00011521444028996555,
          0.00011618314601754972,
          0.00011888418796031753,
          0.00011921265990106719,
          0.00012161460160903801,
          0.00012339564439166133,
          0.00012426357165036393,
          0.000125547663308625,
          0.00012676457742972808,
          0.00013103440643135768,
          0.00014594104103371984,
          0.00016181724286239138,
          0.0001643847681891162,
          0.0005097814609911406,
          0.0006269130974735595,
          0.0006822877031608912,
          0.0008495452042067824,
          0.0009679697628295381,
          0.0010842349642337062
         ],
         "yaxis": "y21",
         "z": [
          [
           null,
           null,
           null,
           null,
           null,
           null,
           null,
           null,
           null,
           null,
           null,
           null,
           null,
           null,
           null,
           null,
           null,
           null,
           null,
           null,
           null,
           null,
           null,
           null,
           null,
           null,
           null,
           null,
           null,
           null,
           null,
           null,
           null,
           null,
           null,
           null,
           null,
           null,
           null,
           null
          ],
          [
           null,
           null,
           null,
           null,
           null,
           null,
           null,
           null,
           null,
           null,
           null,
           null,
           null,
           null,
           null,
           null,
           null,
           null,
           null,
           null,
           null,
           null,
           null,
           null,
           null,
           0.9867549538612366,
           null,
           null,
           null,
           null,
           null,
           null,
           null,
           null,
           null,
           null,
           null,
           null,
           null,
           null
          ],
          [
           null,
           null,
           null,
           null,
           null,
           null,
           null,
           null,
           null,
           null,
           null,
           null,
           null,
           null,
           null,
           null,
           null,
           null,
           null,
           null,
           null,
           null,
           null,
           null,
           null,
           null,
           0.987959086894989,
           null,
           null,
           null,
           null,
           null,
           null,
           null,
           null,
           null,
           null,
           null,
           null,
           null
          ],
          [
           null,
           null,
           null,
           null,
           null,
           null,
           null,
           null,
           null,
           null,
           null,
           null,
           null,
           null,
           null,
           null,
           null,
           null,
           null,
           null,
           null,
           null,
           null,
           null,
           0.9852498769760132,
           null,
           null,
           null,
           null,
           null,
           null,
           null,
           null,
           null,
           null,
           null,
           null,
           null,
           null,
           null
          ],
          [
           null,
           null,
           null,
           null,
           null,
           null,
           null,
           null,
           null,
           null,
           null,
           null,
           null,
           null,
           null,
           null,
           null,
           null,
           null,
           null,
           null,
           null,
           null,
           null,
           null,
           null,
           null,
           null,
           null,
           null,
           null,
           null,
           null,
           null,
           null,
           null,
           null,
           0.9873570203781128,
           null,
           null
          ],
          [
           null,
           null,
           null,
           null,
           null,
           null,
           null,
           null,
           null,
           null,
           null,
           null,
           null,
           null,
           null,
           null,
           null,
           null,
           null,
           null,
           null,
           null,
           0.9810355305671692,
           null,
           null,
           null,
           null,
           null,
           null,
           null,
           null,
           null,
           null,
           null,
           null,
           null,
           null,
           null,
           null,
           null
          ],
          [
           null,
           null,
           null,
           null,
           null,
           null,
           null,
           null,
           null,
           null,
           null,
           null,
           null,
           null,
           null,
           null,
           null,
           null,
           null,
           null,
           null,
           null,
           null,
           null,
           0.9855508804321289,
           null,
           null,
           null,
           null,
           null,
           null,
           null,
           null,
           null,
           null,
           null,
           null,
           null,
           null,
           null
          ],
          [
           null,
           null,
           null,
           null,
           null,
           null,
           null,
           null,
           null,
           null,
           null,
           null,
           null,
           null,
           null,
           null,
           null,
           null,
           0.9798313975334167,
           null,
           null,
           null,
           null,
           null,
           null,
           null,
           null,
           null,
           null,
           null,
           null,
           null,
           null,
           null,
           null,
           null,
           null,
           null,
           null,
           null
          ],
          [
           null,
           null,
           null,
           null,
           null,
           null,
           null,
           null,
           null,
           null,
           null,
           null,
           null,
           null,
           null,
           null,
           null,
           null,
           null,
           null,
           null,
           null,
           null,
           null,
           null,
           null,
           null,
           null,
           null,
           null,
           null,
           null,
           null,
           null,
           null,
           0.987959086894989,
           null,
           null,
           null,
           null
          ],
          [
           null,
           null,
           null,
           null,
           null,
           null,
           null,
           null,
           null,
           null,
           null,
           null,
           null,
           null,
           null,
           null,
           null,
           null,
           null,
           null,
           null,
           null,
           null,
           null,
           null,
           null,
           null,
           null,
           0.9873570203781128,
           null,
           null,
           null,
           null,
           null,
           null,
           null,
           null,
           null,
           null,
           null
          ],
          [
           null,
           null,
           null,
           null,
           null,
           null,
           null,
           null,
           null,
           null,
           null,
           null,
           null,
           null,
           null,
           null,
           null,
           null,
           null,
           null,
           null,
           null,
           null,
           null,
           null,
           null,
           null,
           null,
           null,
           null,
           null,
           null,
           null,
           null,
           null,
           null,
           null,
           null,
           0.9873570203781128,
           null
          ],
          [
           null,
           null,
           null,
           null,
           null,
           null,
           null,
           null,
           null,
           null,
           null,
           null,
           null,
           null,
           null,
           null,
           null,
           null,
           null,
           null,
           null,
           null,
           null,
           0.9864539504051208,
           null,
           null,
           null,
           null,
           null,
           null,
           null,
           null,
           null,
           null,
           null,
           null,
           null,
           null,
           null,
           null
          ],
          [
           null,
           null,
           null,
           null,
           null,
           null,
           null,
           null,
           null,
           null,
           null,
           null,
           null,
           null,
           null,
           null,
           null,
           null,
           null,
           null,
           null,
           null,
           null,
           null,
           null,
           null,
           null,
           null,
           null,
           null,
           null,
           null,
           null,
           null,
           null,
           null,
           0.9861529469490051,
           null,
           null,
           null
          ],
          [
           null,
           null,
           null,
           null,
           null,
           null,
           null,
           null,
           null,
           null,
           null,
           null,
           null,
           null,
           null,
           null,
           null,
           null,
           null,
           null,
           null,
           null,
           null,
           null,
           null,
           null,
           null,
           null,
           null,
           null,
           null,
           null,
           0.987959086894989,
           null,
           null,
           null,
           null,
           null,
           null,
           null
          ],
          [
           null,
           null,
           null,
           null,
           null,
           null,
           null,
           null,
           null,
           null,
           null,
           0.9873570203781128,
           null,
           null,
           null,
           null,
           null,
           null,
           null,
           null,
           null,
           null,
           null,
           null,
           null,
           null,
           null,
           null,
           null,
           null,
           null,
           null,
           null,
           null,
           null,
           null,
           null,
           null,
           null,
           null
          ],
          [
           null,
           null,
           null,
           null,
           null,
           null,
           null,
           null,
           null,
           null,
           null,
           null,
           null,
           0.9834437370300293,
           null,
           null,
           null,
           null,
           null,
           null,
           null,
           null,
           null,
           null,
           null,
           null,
           null,
           null,
           null,
           null,
           null,
           null,
           null,
           null,
           null,
           null,
           null,
           null,
           null,
           null
          ],
          [
           null,
           null,
           null,
           null,
           null,
           null,
           null,
           null,
           null,
           null,
           null,
           null,
           null,
           null,
           null,
           null,
           null,
           null,
           null,
           null,
           null,
           null,
           null,
           null,
           null,
           null,
           null,
           0.9855508804321289,
           null,
           null,
           null,
           null,
           null,
           null,
           null,
           null,
           null,
           null,
           null,
           null
          ],
          [
           null,
           null,
           null,
           null,
           null,
           null,
           null,
           null,
           null,
           null,
           null,
           null,
           null,
           null,
           null,
           null,
           null,
           null,
           null,
           0.9870560169219971,
           null,
           null,
           null,
           null,
           null,
           null,
           null,
           null,
           null,
           null,
           null,
           null,
           null,
           null,
           null,
           null,
           null,
           null,
           null,
           null
          ],
          [
           null,
           null,
           null,
           null,
           null,
           null,
           null,
           null,
           null,
           null,
           null,
           null,
           null,
           null,
           null,
           null,
           null,
           null,
           null,
           null,
           null,
           null,
           null,
           null,
           null,
           null,
           null,
           null,
           null,
           null,
           null,
           0.9858518838882446,
           null,
           null,
           null,
           null,
           null,
           null,
           null,
           null
          ],
          [
           null,
           null,
           null,
           null,
           0.9771221876144409,
           null,
           null,
           null,
           null,
           null,
           null,
           null,
           null,
           null,
           null,
           null,
           null,
           null,
           null,
           null,
           null,
           null,
           null,
           null,
           null,
           null,
           null,
           null,
           null,
           null,
           null,
           null,
           null,
           null,
           null,
           null,
           null,
           null,
           null,
           null
          ],
          [
           null,
           null,
           null,
           null,
           null,
           null,
           null,
           null,
           0.9852498769760132,
           null,
           null,
           null,
           null,
           null,
           null,
           null,
           null,
           null,
           null,
           null,
           null,
           null,
           null,
           null,
           null,
           null,
           null,
           null,
           null,
           null,
           null,
           null,
           null,
           null,
           null,
           null,
           null,
           null,
           null,
           null
          ],
          [
           null,
           null,
           null,
           null,
           null,
           null,
           null,
           null,
           null,
           null,
           null,
           null,
           null,
           null,
           null,
           null,
           null,
           null,
           null,
           null,
           null,
           null,
           null,
           null,
           null,
           null,
           0.9876580238342285,
           null,
           null,
           null,
           null,
           null,
           null,
           null,
           null,
           null,
           null,
           null,
           null,
           null
          ],
          [
           null,
           null,
           null,
           null,
           null,
           null,
           null,
           null,
           null,
           null,
           null,
           null,
           0.9864539504051208,
           null,
           null,
           null,
           null,
           null,
           null,
           null,
           null,
           null,
           null,
           null,
           null,
           null,
           null,
           null,
           null,
           null,
           null,
           null,
           null,
           null,
           null,
           null,
           null,
           null,
           null,
           null
          ],
          [
           null,
           null,
           null,
           null,
           null,
           null,
           null,
           null,
           null,
           null,
           null,
           null,
           null,
           null,
           null,
           null,
           null,
           null,
           null,
           null,
           null,
           null,
           null,
           null,
           null,
           null,
           null,
           null,
           null,
           null,
           null,
           null,
           null,
           0.9864539504051208,
           null,
           null,
           null,
           null,
           null,
           null
          ],
          [
           null,
           null,
           null,
           null,
           null,
           null,
           null,
           null,
           null,
           null,
           null,
           null,
           null,
           null,
           null,
           0.9825406670570374,
           null,
           null,
           null,
           null,
           null,
           null,
           null,
           null,
           null,
           null,
           null,
           null,
           null,
           null,
           null,
           null,
           null,
           null,
           null,
           null,
           null,
           null,
           null,
           null
          ],
          [
           null,
           null,
           null,
           null,
           null,
           null,
           null,
           null,
           null,
           null,
           null,
           null,
           null,
           null,
           null,
           null,
           null,
           null,
           null,
           null,
           null,
           null,
           null,
           null,
           null,
           null,
           null,
           null,
           null,
           0.9864539504051208,
           null,
           null,
           null,
           null,
           null,
           null,
           null,
           null,
           null,
           null
          ],
          [
           null,
           null,
           null,
           null,
           null,
           null,
           null,
           null,
           null,
           null,
           null,
           null,
           null,
           null,
           null,
           null,
           null,
           0.9855508804321289,
           null,
           null,
           null,
           null,
           null,
           null,
           null,
           null,
           null,
           null,
           null,
           null,
           null,
           null,
           null,
           null,
           null,
           null,
           null,
           null,
           null,
           null
          ],
          [
           null,
           null,
           null,
           null,
           null,
           null,
           null,
           null,
           null,
           null,
           null,
           null,
           null,
           null,
           null,
           null,
           0.9873570203781128,
           null,
           null,
           null,
           null,
           null,
           null,
           null,
           null,
           null,
           null,
           null,
           null,
           null,
           null,
           null,
           null,
           null,
           null,
           null,
           null,
           null,
           null,
           null
          ],
          [
           null,
           null,
           null,
           null,
           null,
           null,
           null,
           null,
           null,
           null,
           null,
           null,
           null,
           null,
           0.9867549538612366,
           null,
           null,
           null,
           null,
           null,
           null,
           null,
           null,
           null,
           null,
           null,
           null,
           null,
           null,
           null,
           null,
           null,
           null,
           null,
           null,
           null,
           null,
           null,
           null,
           null
          ],
          [
           null,
           null,
           null,
           null,
           null,
           null,
           null,
           null,
           null,
           null,
           0.9849488139152527,
           null,
           null,
           null,
           null,
           null,
           null,
           null,
           null,
           null,
           null,
           null,
           null,
           null,
           null,
           null,
           null,
           null,
           null,
           null,
           null,
           null,
           null,
           null,
           null,
           null,
           null,
           null,
           null,
           null
          ],
          [
           null,
           null,
           null,
           null,
           null,
           null,
           null,
           null,
           null,
           null,
           null,
           null,
           null,
           null,
           null,
           null,
           null,
           null,
           null,
           null,
           null,
           null,
           null,
           null,
           null,
           null,
           null,
           null,
           null,
           null,
           null,
           null,
           null,
           null,
           0.9819386005401611,
           null,
           null,
           null,
           null,
           null
          ],
          [
           null,
           null,
           null,
           null,
           null,
           null,
           null,
           null,
           null,
           null,
           null,
           null,
           null,
           null,
           null,
           null,
           null,
           null,
           null,
           null,
           0.9861529469490051,
           null,
           null,
           null,
           null,
           null,
           null,
           null,
           null,
           null,
           null,
           null,
           null,
           null,
           null,
           null,
           null,
           null,
           null,
           null
          ],
          [
           null,
           null,
           null,
           null,
           null,
           null,
           null,
           null,
           null,
           null,
           null,
           null,
           null,
           null,
           null,
           null,
           null,
           null,
           null,
           null,
           null,
           null,
           null,
           null,
           null,
           null,
           null,
           null,
           null,
           null,
           0.9825406670570374,
           null,
           null,
           null,
           null,
           null,
           null,
           null,
           null,
           null
          ],
          [
           null,
           null,
           null,
           null,
           null,
           null,
           0.984647810459137,
           null,
           null,
           null,
           null,
           null,
           null,
           null,
           null,
           null,
           null,
           null,
           null,
           null,
           null,
           null,
           null,
           null,
           null,
           null,
           null,
           null,
           null,
           null,
           null,
           null,
           null,
           null,
           null,
           null,
           null,
           null,
           null,
           null
          ],
          [
           null,
           null,
           0.9671884179115295,
           null,
           null,
           null,
           null,
           null,
           null,
           null,
           null,
           null,
           null,
           null,
           null,
           null,
           null,
           null,
           null,
           null,
           null,
           null,
           null,
           null,
           null,
           null,
           null,
           null,
           null,
           null,
           null,
           null,
           null,
           null,
           null,
           null,
           null,
           null,
           null,
           null
          ],
          [
           null,
           0.9704996943473816,
           null,
           null,
           null,
           null,
           null,
           null,
           null,
           null,
           null,
           null,
           null,
           null,
           null,
           null,
           null,
           null,
           null,
           null,
           null,
           null,
           null,
           null,
           null,
           null,
           null,
           null,
           null,
           null,
           null,
           null,
           null,
           null,
           null,
           null,
           null,
           null,
           null,
           null
          ],
          [
           null,
           null,
           null,
           0.9813365340232849,
           null,
           null,
           null,
           null,
           null,
           null,
           null,
           null,
           null,
           null,
           null,
           null,
           null,
           null,
           null,
           null,
           null,
           null,
           null,
           null,
           null,
           null,
           null,
           null,
           null,
           null,
           null,
           null,
           null,
           null,
           null,
           null,
           null,
           null,
           null,
           null
          ],
          [
           null,
           null,
           null,
           null,
           null,
           0.9783263206481934,
           null,
           null,
           null,
           null,
           null,
           null,
           null,
           null,
           null,
           null,
           null,
           null,
           null,
           null,
           null,
           null,
           null,
           null,
           null,
           null,
           null,
           null,
           null,
           null,
           null,
           null,
           null,
           null,
           null,
           null,
           null,
           null,
           null,
           null
          ],
          [
           null,
           null,
           null,
           null,
           null,
           null,
           null,
           null,
           null,
           null,
           null,
           null,
           null,
           null,
           null,
           null,
           null,
           null,
           null,
           null,
           null,
           0.9816375970840454,
           null,
           null,
           null,
           null,
           null,
           null,
           null,
           null,
           null,
           null,
           null,
           null,
           null,
           null,
           null,
           null,
           null,
           null
          ],
          [
           null,
           null,
           null,
           null,
           null,
           null,
           null,
           null,
           null,
           0.979530394077301,
           null,
           null,
           null,
           null,
           null,
           null,
           null,
           null,
           null,
           null,
           null,
           null,
           null,
           null,
           null,
           null,
           null,
           null,
           null,
           null,
           null,
           null,
           null,
           null,
           null,
           null,
           null,
           null,
           null,
           null
          ],
          [
           null,
           null,
           null,
           null,
           null,
           null,
           null,
           0.9792293906211853,
           null,
           null,
           null,
           null,
           null,
           null,
           null,
           null,
           null,
           null,
           null,
           null,
           null,
           null,
           null,
           null,
           null,
           null,
           null,
           null,
           null,
           null,
           null,
           null,
           null,
           null,
           null,
           null,
           null,
           null,
           null,
           null
          ],
          [
           null,
           null,
           null,
           null,
           null,
           null,
           null,
           null,
           null,
           null,
           null,
           null,
           null,
           null,
           null,
           null,
           null,
           null,
           null,
           null,
           null,
           null,
           null,
           null,
           null,
           null,
           null,
           null,
           null,
           null,
           null,
           null,
           null,
           null,
           null,
           null,
           null,
           null,
           null,
           null
          ]
         ]
        },
        {
         "marker": {
          "color": "black",
          "line": {
           "color": "Gray",
           "width": 2
          }
         },
         "mode": "markers",
         "name": "Feasible Trial",
         "showlegend": false,
         "type": "scatter",
         "x": [
          172,
          133,
          81,
          312,
          719,
          641,
          763,
          800,
          788,
          656,
          580,
          697,
          710,
          728,
          671,
          201,
          742,
          746,
          224,
          80,
          693,
          488,
          693,
          651,
          134,
          696,
          660,
          393,
          551,
          798,
          285,
          760,
          660,
          576,
          465,
          513,
          504,
          404,
          438,
          410
         ],
         "xaxis": "x21",
         "y": [
          0.0006269130974735595,
          0.0005097814609911406,
          0.00016181724286239138,
          0.0008495452042067824,
          0.00013103440643135768,
          0.0006822877031608912,
          0.00010157391045421977,
          0.00010243781588344641,
          0.00010306416392836265,
          0.00010248001130871688,
          0.00012676457742972808,
          0.00010170307178885521,
          0.00011888418796031753,
          0.00010893815090113448,
          0.00010014504120445575,
          0.00014594104103371984,
          0.0001031032406478315,
          0.00011521444028996555,
          0.0009679697628295381,
          0.0001643847681891162,
          0.00011228229231301858,
          0.00011618314601754972,
          0.00010027047928771214,
          0.00010053327085196988,
          0.00010976760892334912,
          0.00010597388762724996,
          0.00010077357974050429,
          0.00012426357165036393,
          0.00010082282939436439,
          0.00010048844365348455,
          0.00011195019969690164,
          0.000125547663308625,
          0.00010028333971593998,
          0.0001060880228915066,
          0.00012339564439166133,
          0.00011921265990106719,
          0.00012161460160903801,
          0.00010419211491519788,
          0.0001045580606273782,
          0.00011326523260917271
         ],
         "yaxis": "y21"
        },
        {
         "colorbar": {
          "title": {
           "text": "Objective Value"
          }
         },
         "colorscale": [
          [
           0,
           "rgb(247,251,255)"
          ],
          [
           0.125,
           "rgb(222,235,247)"
          ],
          [
           0.25,
           "rgb(198,219,239)"
          ],
          [
           0.375,
           "rgb(158,202,225)"
          ],
          [
           0.5,
           "rgb(107,174,214)"
          ],
          [
           0.625,
           "rgb(66,146,198)"
          ],
          [
           0.75,
           "rgb(33,113,181)"
          ],
          [
           0.875,
           "rgb(8,81,156)"
          ],
          [
           1,
           "rgb(8,48,107)"
          ]
         ],
         "connectgaps": true,
         "contours": {
          "coloring": "heatmap"
         },
         "hoverinfo": "none",
         "line": {
          "smoothing": 1.3
         },
         "reversescale": false,
         "showscale": false,
         "type": "contour",
         "x": [
          44,
          80,
          81,
          133,
          134,
          172,
          201,
          224,
          285,
          312,
          393,
          404,
          410,
          438,
          465,
          488,
          504,
          513,
          551,
          576,
          580,
          641,
          651,
          656,
          660,
          671,
          693,
          696,
          697,
          710,
          719,
          728,
          742,
          746,
          760,
          763,
          788,
          798,
          800,
          836
         ],
         "xaxis": "x27",
         "y": [
          0.95,
          1,
          2,
          2.05
         ],
         "yaxis": "y27",
         "z": [
          [
           null,
           null,
           null,
           null,
           null,
           null,
           null,
           null,
           null,
           null,
           null,
           null,
           null,
           null,
           null,
           null,
           null,
           null,
           null,
           null,
           null,
           null,
           null,
           null,
           null,
           null,
           null,
           null,
           null,
           null,
           null,
           null,
           null,
           null,
           null,
           null,
           null,
           null,
           null,
           null
          ],
          [
           null,
           0.9704996943473816,
           0.9671884179115295,
           null,
           0.9771221876144409,
           null,
           null,
           0.9792293906211853,
           null,
           null,
           0.9849488139152527,
           0.9873570203781128,
           0.9864539504051208,
           0.9834437370300293,
           0.9867549538612366,
           0.9825406670570374,
           0.9873570203781128,
           0.9855508804321289,
           0.9798313975334167,
           0.9870560169219971,
           0.9861529469490051,
           0.9816375970840454,
           0.9810355305671692,
           0.9864539504051208,
           0.9855508804321289,
           0.9867549538612366,
           0.987959086894989,
           0.9855508804321289,
           0.9873570203781128,
           0.9864539504051208,
           0.9825406670570374,
           0.9858518838882446,
           0.987959086894989,
           0.9864539504051208,
           0.9819386005401611,
           0.987959086894989,
           0.9861529469490051,
           0.9873570203781128,
           0.9873570203781128,
           null
          ],
          [
           null,
           null,
           null,
           0.9813365340232849,
           null,
           0.9783263206481934,
           0.984647810459137,
           null,
           0.9852498769760132,
           0.979530394077301,
           null,
           null,
           null,
           null,
           null,
           null,
           null,
           null,
           null,
           null,
           null,
           null,
           null,
           null,
           null,
           null,
           null,
           null,
           null,
           null,
           null,
           null,
           null,
           null,
           null,
           null,
           null,
           null,
           null,
           null
          ],
          [
           null,
           null,
           null,
           null,
           null,
           null,
           null,
           null,
           null,
           null,
           null,
           null,
           null,
           null,
           null,
           null,
           null,
           null,
           null,
           null,
           null,
           null,
           null,
           null,
           null,
           null,
           null,
           null,
           null,
           null,
           null,
           null,
           null,
           null,
           null,
           null,
           null,
           null,
           null,
           null
          ]
         ]
        },
        {
         "marker": {
          "color": "black",
          "line": {
           "color": "Gray",
           "width": 2
          }
         },
         "mode": "markers",
         "name": "Feasible Trial",
         "showlegend": false,
         "type": "scatter",
         "x": [
          172,
          133,
          81,
          312,
          719,
          641,
          763,
          800,
          788,
          656,
          580,
          697,
          710,
          728,
          671,
          201,
          742,
          746,
          224,
          80,
          693,
          488,
          693,
          651,
          134,
          696,
          660,
          393,
          551,
          798,
          285,
          760,
          660,
          576,
          465,
          513,
          504,
          404,
          438,
          410
         ],
         "xaxis": "x27",
         "y": [
          2,
          2,
          1,
          2,
          1,
          1,
          1,
          1,
          1,
          1,
          1,
          1,
          1,
          1,
          1,
          2,
          1,
          1,
          1,
          1,
          1,
          1,
          1,
          1,
          1,
          1,
          1,
          1,
          1,
          1,
          2,
          1,
          1,
          1,
          1,
          1,
          1,
          1,
          1,
          1
         ],
         "yaxis": "y27"
        },
        {
         "colorbar": {
          "title": {
           "text": "Objective Value"
          }
         },
         "colorscale": [
          [
           0,
           "rgb(247,251,255)"
          ],
          [
           0.125,
           "rgb(222,235,247)"
          ],
          [
           0.25,
           "rgb(198,219,239)"
          ],
          [
           0.375,
           "rgb(158,202,225)"
          ],
          [
           0.5,
           "rgb(107,174,214)"
          ],
          [
           0.625,
           "rgb(66,146,198)"
          ],
          [
           0.75,
           "rgb(33,113,181)"
          ],
          [
           0.875,
           "rgb(8,81,156)"
          ],
          [
           1,
           "rgb(8,48,107)"
          ]
         ],
         "connectgaps": true,
         "contours": {
          "coloring": "heatmap"
         },
         "hoverinfo": "none",
         "line": {
          "smoothing": 1.3
         },
         "reversescale": false,
         "showscale": false,
         "type": "contour",
         "x": [
          44,
          80,
          81,
          133,
          134,
          172,
          201,
          224,
          285,
          312,
          393,
          404,
          410,
          438,
          465,
          488,
          504,
          513,
          551,
          576,
          580,
          641,
          651,
          656,
          660,
          671,
          693,
          696,
          697,
          710,
          719,
          728,
          742,
          746,
          760,
          763,
          788,
          798,
          800,
          836
         ],
         "xaxis": "x33",
         "y": [
          "False",
          "True"
         ],
         "yaxis": "y33",
         "z": [
          [
           null,
           null,
           0.9671884179115295,
           null,
           0.9771221876144409,
           null,
           0.984647810459137,
           null,
           0.9852498769760132,
           0.979530394077301,
           0.9849488139152527,
           0.9873570203781128,
           0.9864539504051208,
           0.9834437370300293,
           0.9867549538612366,
           null,
           0.9873570203781128,
           0.9855508804321289,
           null,
           0.9870560169219971,
           0.9861529469490051,
           null,
           null,
           0.9864539504051208,
           0.9855508804321289,
           0.9867549538612366,
           0.987959086894989,
           0.9855508804321289,
           0.9873570203781128,
           0.9864539504051208,
           null,
           0.9858518838882446,
           0.987959086894989,
           0.9864539504051208,
           null,
           0.987959086894989,
           0.9861529469490051,
           0.9873570203781128,
           0.9873570203781128,
           null
          ],
          [
           null,
           0.9704996943473816,
           null,
           0.9813365340232849,
           null,
           0.9783263206481934,
           null,
           0.9792293906211853,
           null,
           null,
           null,
           null,
           null,
           null,
           null,
           0.9825406670570374,
           null,
           null,
           0.9798313975334167,
           null,
           null,
           0.9816375970840454,
           0.9810355305671692,
           null,
           null,
           null,
           null,
           null,
           null,
           null,
           0.9825406670570374,
           null,
           null,
           null,
           0.9819386005401611,
           null,
           null,
           null,
           null,
           null
          ]
         ]
        },
        {
         "marker": {
          "color": "black",
          "line": {
           "color": "Gray",
           "width": 2
          }
         },
         "mode": "markers",
         "name": "Feasible Trial",
         "showlegend": false,
         "type": "scatter",
         "x": [
          172,
          133,
          81,
          312,
          719,
          641,
          763,
          800,
          788,
          656,
          580,
          697,
          710,
          728,
          671,
          201,
          742,
          746,
          224,
          80,
          693,
          488,
          693,
          651,
          134,
          696,
          660,
          393,
          551,
          798,
          285,
          760,
          660,
          576,
          465,
          513,
          504,
          404,
          438,
          410
         ],
         "xaxis": "x33",
         "y": [
          "True",
          "True",
          "False",
          "False",
          "True",
          "True",
          "False",
          "False",
          "False",
          "False",
          "False",
          "False",
          "False",
          "False",
          "False",
          "False",
          "False",
          "False",
          "True",
          "True",
          "False",
          "True",
          "False",
          "True",
          "False",
          "False",
          "False",
          "False",
          "True",
          "False",
          "False",
          "True",
          "False",
          "False",
          "False",
          "False",
          "False",
          "False",
          "False",
          "False"
         ],
         "yaxis": "y33"
        },
        {
         "colorbar": {
          "title": {
           "text": "Objective Value"
          }
         },
         "colorscale": [
          [
           0,
           "rgb(247,251,255)"
          ],
          [
           0.125,
           "rgb(222,235,247)"
          ],
          [
           0.25,
           "rgb(198,219,239)"
          ],
          [
           0.375,
           "rgb(158,202,225)"
          ],
          [
           0.5,
           "rgb(107,174,214)"
          ],
          [
           0.625,
           "rgb(66,146,198)"
          ],
          [
           0.75,
           "rgb(33,113,181)"
          ],
          [
           0.875,
           "rgb(8,81,156)"
          ],
          [
           1,
           "rgb(8,48,107)"
          ]
         ],
         "connectgaps": true,
         "contours": {
          "coloring": "heatmap"
         },
         "hoverinfo": "none",
         "line": {
          "smoothing": 1.3
         },
         "reversescale": false,
         "showscale": false,
         "type": "contour",
         "x": [
          0.000089406240327015,
          0.00010014504120445575,
          0.00010027047928771214,
          0.00010028333971593998,
          0.00010048844365348455,
          0.00010053327085196988,
          0.00010077357974050429,
          0.00010082282939436439,
          0.00010157391045421977,
          0.00010170307178885521,
          0.00010243781588344641,
          0.00010248001130871688,
          0.00010306416392836265,
          0.0001031032406478315,
          0.00010419211491519788,
          0.0001045580606273782,
          0.00010597388762724996,
          0.0001060880228915066,
          0.00010893815090113448,
          0.00010976760892334912,
          0.00011195019969690164,
          0.00011228229231301858,
          0.00011326523260917271,
          0.00011521444028996555,
          0.00011618314601754972,
          0.00011888418796031753,
          0.00011921265990106719,
          0.00012161460160903801,
          0.00012339564439166133,
          0.00012426357165036393,
          0.000125547663308625,
          0.00012676457742972808,
          0.00013103440643135768,
          0.00014594104103371984,
          0.00016181724286239138,
          0.0001643847681891162,
          0.0005097814609911406,
          0.0006269130974735595,
          0.0006822877031608912,
          0.0008495452042067824,
          0.0009679697628295381,
          0.0010842349642337062
         ],
         "xaxis": "x4",
         "y": [
          "relu",
          "tanh"
         ],
         "yaxis": "y4",
         "z": [
          [
           null,
           null,
           null,
           null,
           null,
           null,
           null,
           null,
           null,
           null,
           null,
           null,
           null,
           null,
           null,
           null,
           null,
           null,
           null,
           0.9771221876144409,
           null,
           null,
           null,
           null,
           null,
           null,
           null,
           null,
           null,
           null,
           null,
           null,
           0.9825406670570374,
           null,
           0.9671884179115295,
           0.9704996943473816,
           0.9813365340232849,
           null,
           null,
           0.979530394077301,
           null,
           null
          ],
          [
           null,
           0.9867549538612366,
           0.987959086894989,
           0.9852498769760132,
           0.9873570203781128,
           0.9810355305671692,
           0.9855508804321289,
           0.9798313975334167,
           0.987959086894989,
           0.9873570203781128,
           0.9873570203781128,
           0.9864539504051208,
           0.9861529469490051,
           0.987959086894989,
           0.9873570203781128,
           0.9834437370300293,
           0.9855508804321289,
           0.9870560169219971,
           0.9858518838882446,
           null,
           0.9852498769760132,
           0.9876580238342285,
           0.9864539504051208,
           0.9864539504051208,
           0.9825406670570374,
           0.9864539504051208,
           0.9855508804321289,
           0.9873570203781128,
           0.9867549538612366,
           0.9849488139152527,
           0.9819386005401611,
           0.9861529469490051,
           null,
           0.984647810459137,
           null,
           null,
           null,
           0.9783263206481934,
           0.9816375970840454,
           null,
           0.9792293906211853,
           null
          ]
         ]
        },
        {
         "marker": {
          "color": "black",
          "line": {
           "color": "Gray",
           "width": 2
          }
         },
         "mode": "markers",
         "name": "Feasible Trial",
         "showlegend": false,
         "type": "scatter",
         "x": [
          0.0006269130974735595,
          0.0005097814609911406,
          0.00016181724286239138,
          0.0008495452042067824,
          0.00013103440643135768,
          0.0006822877031608912,
          0.00010157391045421977,
          0.00010243781588344641,
          0.00010306416392836265,
          0.00010248001130871688,
          0.00012676457742972808,
          0.00010170307178885521,
          0.00011888418796031753,
          0.00010893815090113448,
          0.00010014504120445575,
          0.00014594104103371984,
          0.0001031032406478315,
          0.00011521444028996555,
          0.0009679697628295381,
          0.0001643847681891162,
          0.00011228229231301858,
          0.00011618314601754972,
          0.00010027047928771214,
          0.00010053327085196988,
          0.00010976760892334912,
          0.00010597388762724996,
          0.00010077357974050429,
          0.00012426357165036393,
          0.00010082282939436439,
          0.00010048844365348455,
          0.00011195019969690164,
          0.000125547663308625,
          0.00010028333971593998,
          0.0001060880228915066,
          0.00012339564439166133,
          0.00011921265990106719,
          0.00012161460160903801,
          0.00010419211491519788,
          0.0001045580606273782,
          0.00011326523260917271
         ],
         "xaxis": "x4",
         "y": [
          "tanh",
          "relu",
          "relu",
          "relu",
          "relu",
          "tanh",
          "tanh",
          "tanh",
          "tanh",
          "tanh",
          "tanh",
          "tanh",
          "tanh",
          "tanh",
          "tanh",
          "tanh",
          "tanh",
          "tanh",
          "tanh",
          "relu",
          "tanh",
          "tanh",
          "tanh",
          "tanh",
          "relu",
          "tanh",
          "tanh",
          "tanh",
          "tanh",
          "tanh",
          "tanh",
          "tanh",
          "tanh",
          "tanh",
          "tanh",
          "tanh",
          "tanh",
          "tanh",
          "tanh",
          "tanh"
         ],
         "yaxis": "y4"
        },
        {
         "colorbar": {
          "title": {
           "text": "Objective Value"
          }
         },
         "colorscale": [
          [
           0,
           "rgb(247,251,255)"
          ],
          [
           0.125,
           "rgb(222,235,247)"
          ],
          [
           0.25,
           "rgb(198,219,239)"
          ],
          [
           0.375,
           "rgb(158,202,225)"
          ],
          [
           0.5,
           "rgb(107,174,214)"
          ],
          [
           0.625,
           "rgb(66,146,198)"
          ],
          [
           0.75,
           "rgb(33,113,181)"
          ],
          [
           0.875,
           "rgb(8,81,156)"
          ],
          [
           1,
           "rgb(8,48,107)"
          ]
         ],
         "connectgaps": true,
         "contours": {
          "coloring": "heatmap"
         },
         "hoverinfo": "none",
         "line": {
          "smoothing": 1.3
         },
         "reversescale": false,
         "showscale": false,
         "type": "contour",
         "x": [
          0.000089406240327015,
          0.00010014504120445575,
          0.00010027047928771214,
          0.00010028333971593998,
          0.00010048844365348455,
          0.00010053327085196988,
          0.00010077357974050429,
          0.00010082282939436439,
          0.00010157391045421977,
          0.00010170307178885521,
          0.00010243781588344641,
          0.00010248001130871688,
          0.00010306416392836265,
          0.0001031032406478315,
          0.00010419211491519788,
          0.0001045580606273782,
          0.00010597388762724996,
          0.0001060880228915066,
          0.00010893815090113448,
          0.00010976760892334912,
          0.00011195019969690164,
          0.00011228229231301858,
          0.00011326523260917271,
          0.00011521444028996555,
          0.00011618314601754972,
          0.00011888418796031753,
          0.00011921265990106719,
          0.00012161460160903801,
          0.00012339564439166133,
          0.00012426357165036393,
          0.000125547663308625,
          0.00012676457742972808,
          0.00013103440643135768,
          0.00014594104103371984,
          0.00016181724286239138,
          0.0001643847681891162,
          0.0005097814609911406,
          0.0006269130974735595,
          0.0006822877031608912,
          0.0008495452042067824,
          0.0009679697628295381,
          0.0010842349642337062
         ],
         "xaxis": "x10",
         "y": [
          0.09596183868073947,
          0.10047679932934811,
          0.10082833671945111,
          0.10324976064678713,
          0.10482194445211092,
          0.10695467716071022,
          0.10773866631139353,
          0.1116614647957342,
          0.11231638498621203,
          0.11406747148220177,
          0.11490700020310449,
          0.1154754304505843,
          0.11806197881223826,
          0.11940999884519499,
          0.1203652038223573,
          0.12048916187989218,
          0.1214554615025169,
          0.12288339206509208,
          0.1248062459518126,
          0.1268199996480464,
          0.13215914314856453,
          0.1328380306525573,
          0.13355346687915795,
          0.13512039755166452,
          0.135389527336228,
          0.13592560996267433,
          0.13645046663521485,
          0.1367781767123146,
          0.13714949392899192,
          0.13891604018175807,
          0.1397480575469616,
          0.14342211918503453,
          0.14474113728042967,
          0.1459865983964105,
          0.1484977711206744,
          0.15157105362996692,
          0.15954728376816632,
          0.161148261528122,
          0.16657345853508188,
          0.18550895913745297,
          0.1907760123015208,
          0.19529097295012943
         ],
         "yaxis": "y10",
         "z": [
          [
           null,
           null,
           null,
           null,
           null,
           null,
           null,
           null,
           null,
           null,
           null,
           null,
           null,
           null,
           null,
           null,
           null,
           null,
           null,
           null,
           null,
           null,
           null,
           null,
           null,
           null,
           null,
           null,
           null,
           null,
           null,
           null,
           null,
           null,
           null,
           null,
           null,
           null,
           null,
           null,
           null,
           null
          ],
          [
           null,
           null,
           null,
           null,
           null,
           null,
           null,
           null,
           null,
           null,
           null,
           0.9864539504051208,
           null,
           null,
           null,
           null,
           null,
           null,
           null,
           null,
           null,
           null,
           null,
           null,
           null,
           null,
           null,
           null,
           null,
           null,
           null,
           null,
           null,
           null,
           null,
           null,
           null,
           null,
           null,
           null,
           null,
           null
          ],
          [
           null,
           null,
           null,
           null,
           null,
           null,
           null,
           null,
           null,
           0.9873570203781128,
           null,
           null,
           null,
           null,
           null,
           null,
           null,
           null,
           null,
           null,
           null,
           null,
           null,
           null,
           null,
           null,
           null,
           null,
           null,
           null,
           null,
           null,
           null,
           null,
           null,
           null,
           null,
           null,
           null,
           null,
           null,
           null
          ],
          [
           null,
           null,
           null,
           null,
           null,
           null,
           null,
           null,
           null,
           null,
           null,
           null,
           null,
           null,
           null,
           null,
           null,
           null,
           null,
           null,
           null,
           null,
           0.9864539504051208,
           null,
           null,
           null,
           null,
           null,
           null,
           null,
           null,
           null,
           null,
           null,
           null,
           null,
           null,
           null,
           null,
           null,
           null,
           null
          ],
          [
           null,
           null,
           null,
           null,
           null,
           null,
           null,
           null,
           null,
           null,
           null,
           null,
           null,
           null,
           null,
           null,
           0.9855508804321289,
           null,
           null,
           null,
           null,
           null,
           null,
           null,
           null,
           null,
           null,
           null,
           null,
           null,
           null,
           null,
           null,
           null,
           null,
           null,
           null,
           null,
           null,
           null,
           null,
           null
          ],
          [
           null,
           null,
           null,
           null,
           null,
           0.9810355305671692,
           null,
           null,
           null,
           null,
           null,
           null,
           null,
           null,
           null,
           null,
           null,
           null,
           null,
           null,
           null,
           null,
           null,
           null,
           null,
           null,
           null,
           null,
           null,
           null,
           null,
           null,
           null,
           null,
           null,
           null,
           null,
           null,
           null,
           null,
           null,
           null
          ],
          [
           null,
           null,
           null,
           null,
           null,
           null,
           null,
           null,
           null,
           null,
           null,
           null,
           null,
           null,
           null,
           null,
           null,
           null,
           null,
           null,
           null,
           null,
           null,
           null,
           null,
           null,
           null,
           null,
           null,
           null,
           null,
           null,
           null,
           0.984647810459137,
           null,
           null,
           null,
           null,
           null,
           null,
           null,
           null
          ],
          [
           null,
           null,
           0.987959086894989,
           null,
           null,
           null,
           null,
           null,
           null,
           null,
           null,
           null,
           null,
           null,
           null,
           null,
           null,
           null,
           null,
           null,
           null,
           null,
           null,
           null,
           null,
           null,
           null,
           null,
           null,
           null,
           null,
           null,
           null,
           null,
           null,
           null,
           null,
           null,
           null,
           null,
           null,
           null
          ],
          [
           null,
           null,
           null,
           null,
           null,
           null,
           null,
           null,
           null,
           null,
           null,
           null,
           null,
           null,
           null,
           null,
           null,
           null,
           null,
           null,
           null,
           null,
           null,
           null,
           null,
           null,
           null,
           null,
           null,
           0.9849488139152527,
           null,
           null,
           null,
           null,
           null,
           null,
           null,
           null,
           null,
           null,
           null,
           null
          ],
          [
           null,
           null,
           null,
           null,
           null,
           null,
           null,
           null,
           null,
           null,
           null,
           null,
           null,
           null,
           0.9873570203781128,
           null,
           null,
           null,
           null,
           null,
           null,
           null,
           null,
           null,
           null,
           null,
           null,
           null,
           null,
           null,
           null,
           null,
           null,
           null,
           null,
           null,
           null,
           null,
           null,
           null,
           null,
           null
          ],
          [
           null,
           null,
           null,
           null,
           null,
           null,
           null,
           null,
           null,
           null,
           null,
           null,
           null,
           null,
           null,
           null,
           null,
           0.9870560169219971,
           null,
           null,
           null,
           null,
           null,
           null,
           null,
           null,
           null,
           null,
           null,
           null,
           null,
           null,
           null,
           null,
           null,
           null,
           null,
           null,
           null,
           null,
           null,
           null
          ],
          [
           null,
           null,
           null,
           null,
           null,
           null,
           null,
           null,
           null,
           null,
           null,
           null,
           null,
           null,
           null,
           null,
           null,
           null,
           null,
           null,
           null,
           null,
           null,
           null,
           null,
           0.9864539504051208,
           null,
           null,
           null,
           null,
           null,
           null,
           null,
           null,
           null,
           null,
           null,
           null,
           null,
           null,
           null,
           null
          ],
          [
           null,
           null,
           null,
           null,
           null,
           null,
           0.9855508804321289,
           null,
           null,
           null,
           null,
           null,
           null,
           null,
           null,
           null,
           null,
           null,
           null,
           null,
           null,
           null,
           null,
           null,
           null,
           null,
           null,
           null,
           null,
           null,
           null,
           null,
           null,
           null,
           null,
           null,
           null,
           null,
           null,
           null,
           null,
           null
          ],
          [
           null,
           null,
           null,
           null,
           null,
           null,
           null,
           null,
           null,
           null,
           null,
           null,
           null,
           null,
           null,
           null,
           null,
           null,
           null,
           null,
           0.9852498769760132,
           null,
           null,
           null,
           null,
           null,
           null,
           null,
           null,
           null,
           null,
           null,
           null,
           null,
           null,
           null,
           null,
           null,
           null,
           null,
           null,
           null
          ],
          [
           null,
           null,
           null,
           null,
           null,
           null,
           null,
           null,
           null,
           null,
           null,
           null,
           null,
           null,
           null,
           null,
           null,
           null,
           null,
           null,
           null,
           0.9876580238342285,
           null,
           null,
           null,
           null,
           null,
           null,
           null,
           null,
           null,
           null,
           null,
           null,
           null,
           null,
           null,
           null,
           null,
           null,
           null,
           null
          ],
          [
           null,
           null,
           null,
           null,
           null,
           null,
           null,
           null,
           null,
           null,
           null,
           null,
           null,
           null,
           null,
           0.9834437370300293,
           null,
           null,
           null,
           null,
           null,
           null,
           null,
           null,
           null,
           null,
           null,
           null,
           null,
           null,
           null,
           null,
           null,
           null,
           null,
           null,
           null,
           null,
           null,
           null,
           null,
           null
          ],
          [
           null,
           null,
           null,
           null,
           null,
           null,
           null,
           null,
           null,
           null,
           null,
           null,
           null,
           null,
           null,
           null,
           null,
           null,
           null,
           null,
           null,
           null,
           null,
           null,
           null,
           null,
           null,
           null,
           null,
           null,
           null,
           0.9861529469490051,
           null,
           null,
           null,
           null,
           null,
           null,
           null,
           null,
           null,
           null
          ],
          [
           null,
           null,
           null,
           null,
           null,
           null,
           null,
           null,
           null,
           null,
           null,
           null,
           null,
           null,
           null,
           null,
           null,
           null,
           null,
           0.9771221876144409,
           null,
           null,
           null,
           null,
           null,
           null,
           null,
           null,
           null,
           null,
           null,
           null,
           null,
           null,
           null,
           null,
           null,
           null,
           null,
           null,
           null,
           null
          ],
          [
           null,
           null,
           null,
           null,
           null,
           null,
           null,
           null,
           null,
           null,
           null,
           null,
           null,
           null,
           null,
           null,
           null,
           null,
           null,
           null,
           null,
           null,
           null,
           null,
           null,
           null,
           null,
           null,
           null,
           null,
           null,
           null,
           null,
           null,
           null,
           null,
           null,
           0.9783263206481934,
           null,
           null,
           null,
           null
          ],
          [
           null,
           null,
           null,
           null,
           null,
           null,
           null,
           null,
           null,
           null,
           null,
           null,
           null,
           null,
           null,
           null,
           null,
           null,
           null,
           null,
           null,
           null,
           null,
           0.9864539504051208,
           null,
           null,
           null,
           null,
           null,
           null,
           null,
           null,
           null,
           null,
           null,
           null,
           null,
           null,
           null,
           null,
           null,
           null
          ],
          [
           null,
           null,
           null,
           null,
           null,
           null,
           null,
           null,
           null,
           null,
           null,
           null,
           null,
           null,
           null,
           null,
           null,
           null,
           null,
           null,
           null,
           null,
           null,
           null,
           null,
           null,
           null,
           null,
           null,
           null,
           null,
           null,
           null,
           null,
           null,
           0.9704996943473816,
           null,
           null,
           null,
           null,
           null,
           null
          ],
          [
           null,
           null,
           null,
           0.9852498769760132,
           null,
           null,
           null,
           null,
           null,
           null,
           null,
           null,
           null,
           null,
           null,
           null,
           null,
           null,
           null,
           null,
           null,
           null,
           null,
           null,
           null,
           null,
           null,
           null,
           null,
           null,
           null,
           null,
           null,
           null,
           null,
           null,
           null,
           null,
           null,
           null,
           null,
           null
          ],
          [
           null,
           0.9867549538612366,
           null,
           null,
           null,
           null,
           null,
           null,
           null,
           null,
           null,
           null,
           null,
           null,
           null,
           null,
           null,
           null,
           null,
           null,
           null,
           null,
           null,
           null,
           null,
           null,
           null,
           null,
           null,
           null,
           null,
           null,
           null,
           null,
           null,
           null,
           null,
           null,
           null,
           null,
           null,
           null
          ],
          [
           null,
           null,
           null,
           null,
           null,
           null,
           null,
           null,
           null,
           null,
           null,
           null,
           null,
           null,
           null,
           null,
           null,
           null,
           null,
           null,
           null,
           null,
           null,
           null,
           null,
           null,
           null,
           0.9873570203781128,
           null,
           null,
           null,
           null,
           null,
           null,
           null,
           null,
           null,
           null,
           null,
           null,
           null,
           null
          ],
          [
           null,
           null,
           null,
           null,
           null,
           null,
           null,
           null,
           null,
           null,
           null,
           null,
           null,
           0.987959086894989,
           null,
           null,
           null,
           null,
           null,
           null,
           null,
           null,
           null,
           null,
           null,
           null,
           null,
           null,
           null,
           null,
           null,
           null,
           null,
           null,
           null,
           null,
           null,
           null,
           null,
           null,
           null,
           null
          ],
          [
           null,
           null,
           null,
           null,
           null,
           null,
           null,
           null,
           null,
           null,
           null,
           null,
           null,
           null,
           null,
           null,
           null,
           null,
           null,
           null,
           null,
           null,
           null,
           null,
           null,
           null,
           0.9855508804321289,
           null,
           null,
           null,
           null,
           null,
           null,
           null,
           null,
           null,
           null,
           null,
           null,
           null,
           null,
           null
          ],
          [
           null,
           null,
           null,
           null,
           null,
           null,
           null,
           null,
           null,
           null,
           null,
           null,
           null,
           null,
           null,
           null,
           null,
           null,
           null,
           null,
           null,
           null,
           null,
           null,
           null,
           null,
           null,
           null,
           0.9867549538612366,
           null,
           null,
           null,
           null,
           null,
           null,
           null,
           null,
           null,
           null,
           null,
           null,
           null
          ],
          [
           null,
           null,
           null,
           null,
           0.9873570203781128,
           null,
           null,
           null,
           null,
           null,
           null,
           null,
           null,
           null,
           null,
           null,
           null,
           null,
           null,
           null,
           null,
           null,
           null,
           null,
           null,
           null,
           null,
           null,
           null,
           null,
           null,
           null,
           null,
           null,
           null,
           null,
           null,
           null,
           null,
           null,
           null,
           null
          ],
          [
           null,
           null,
           null,
           null,
           null,
           null,
           null,
           null,
           0.987959086894989,
           null,
           null,
           null,
           null,
           null,
           null,
           null,
           null,
           null,
           null,
           null,
           null,
           null,
           null,
           null,
           null,
           null,
           null,
           null,
           null,
           null,
           null,
           null,
           null,
           null,
           null,
           null,
           null,
           null,
           null,
           null,
           null,
           null
          ],
          [
           null,
           null,
           null,
           null,
           null,
           null,
           null,
           null,
           null,
           null,
           0.9873570203781128,
           null,
           null,
           null,
           null,
           null,
           null,
           null,
           null,
           null,
           null,
           null,
           null,
           null,
           null,
           null,
           null,
           null,
           null,
           null,
           null,
           null,
           null,
           null,
           null,
           null,
           null,
           null,
           null,
           null,
           null,
           null
          ],
          [
           null,
           null,
           null,
           null,
           null,
           null,
           null,
           null,
           null,
           null,
           null,
           null,
           0.9861529469490051,
           null,
           null,
           null,
           null,
           null,
           null,
           null,
           null,
           null,
           null,
           null,
           null,
           null,
           null,
           null,
           null,
           null,
           null,
           null,
           null,
           null,
           null,
           null,
           null,
           null,
           null,
           null,
           null,
           null
          ],
          [
           null,
           null,
           null,
           null,
           null,
           null,
           null,
           null,
           null,
           null,
           null,
           null,
           null,
           null,
           null,
           null,
           null,
           null,
           null,
           null,
           null,
           null,
           null,
           null,
           0.9825406670570374,
           null,
           null,
           null,
           null,
           null,
           null,
           null,
           null,
           null,
           null,
           null,
           null,
           null,
           null,
           null,
           null,
           null
          ],
          [
           null,
           null,
           null,
           null,
           null,
           null,
           null,
           null,
           null,
           null,
           null,
           null,
           null,
           null,
           null,
           null,
           null,
           null,
           null,
           null,
           null,
           null,
           null,
           null,
           null,
           null,
           null,
           null,
           null,
           null,
           null,
           null,
           0.9825406670570374,
           null,
           null,
           null,
           null,
           null,
           null,
           null,
           null,
           null
          ],
          [
           null,
           null,
           null,
           null,
           null,
           null,
           null,
           null,
           null,
           null,
           null,
           null,
           null,
           null,
           null,
           null,
           null,
           null,
           null,
           null,
           null,
           null,
           null,
           null,
           null,
           null,
           null,
           null,
           null,
           null,
           null,
           null,
           null,
           null,
           null,
           null,
           null,
           null,
           null,
           null,
           0.9792293906211853,
           null
          ],
          [
           null,
           null,
           null,
           null,
           null,
           null,
           null,
           null,
           null,
           null,
           null,
           null,
           null,
           null,
           null,
           null,
           null,
           null,
           0.9858518838882446,
           null,
           null,
           null,
           null,
           null,
           null,
           null,
           null,
           null,
           null,
           null,
           null,
           null,
           null,
           null,
           null,
           null,
           null,
           null,
           null,
           null,
           null,
           null
          ],
          [
           null,
           null,
           null,
           null,
           null,
           null,
           null,
           0.9798313975334167,
           null,
           null,
           null,
           null,
           null,
           null,
           null,
           null,
           null,
           null,
           null,
           null,
           null,
           null,
           null,
           null,
           null,
           null,
           null,
           null,
           null,
           null,
           null,
           null,
           null,
           null,
           null,
           null,
           null,
           null,
           null,
           null,
           null,
           null
          ],
          [
           null,
           null,
           null,
           null,
           null,
           null,
           null,
           null,
           null,
           null,
           null,
           null,
           null,
           null,
           null,
           null,
           null,
           null,
           null,
           null,
           null,
           null,
           null,
           null,
           null,
           null,
           null,
           null,
           null,
           null,
           0.9819386005401611,
           null,
           null,
           null,
           null,
           null,
           null,
           null,
           null,
           null,
           null,
           null
          ],
          [
           null,
           null,
           null,
           null,
           null,
           null,
           null,
           null,
           null,
           null,
           null,
           null,
           null,
           null,
           null,
           null,
           null,
           null,
           null,
           null,
           null,
           null,
           null,
           null,
           null,
           null,
           null,
           null,
           null,
           null,
           null,
           null,
           null,
           null,
           null,
           null,
           null,
           null,
           0.9816375970840454,
           null,
           null,
           null
          ],
          [
           null,
           null,
           null,
           null,
           null,
           null,
           null,
           null,
           null,
           null,
           null,
           null,
           null,
           null,
           null,
           null,
           null,
           null,
           null,
           null,
           null,
           null,
           null,
           null,
           null,
           null,
           null,
           null,
           null,
           null,
           null,
           null,
           null,
           null,
           null,
           null,
           null,
           null,
           null,
           0.979530394077301,
           null,
           null
          ],
          [
           null,
           null,
           null,
           null,
           null,
           null,
           null,
           null,
           null,
           null,
           null,
           null,
           null,
           null,
           null,
           null,
           null,
           null,
           null,
           null,
           null,
           null,
           null,
           null,
           null,
           null,
           null,
           null,
           null,
           null,
           null,
           null,
           null,
           null,
           null,
           null,
           0.9813365340232849,
           null,
           null,
           null,
           null,
           null
          ],
          [
           null,
           null,
           null,
           null,
           null,
           null,
           null,
           null,
           null,
           null,
           null,
           null,
           null,
           null,
           null,
           null,
           null,
           null,
           null,
           null,
           null,
           null,
           null,
           null,
           null,
           null,
           null,
           null,
           null,
           null,
           null,
           null,
           null,
           null,
           0.9671884179115295,
           null,
           null,
           null,
           null,
           null,
           null,
           null
          ],
          [
           null,
           null,
           null,
           null,
           null,
           null,
           null,
           null,
           null,
           null,
           null,
           null,
           null,
           null,
           null,
           null,
           null,
           null,
           null,
           null,
           null,
           null,
           null,
           null,
           null,
           null,
           null,
           null,
           null,
           null,
           null,
           null,
           null,
           null,
           null,
           null,
           null,
           null,
           null,
           null,
           null,
           null
          ]
         ]
        },
        {
         "marker": {
          "color": "black",
          "line": {
           "color": "Gray",
           "width": 2
          }
         },
         "mode": "markers",
         "name": "Feasible Trial",
         "showlegend": false,
         "type": "scatter",
         "x": [
          0.0006269130974735595,
          0.0005097814609911406,
          0.00016181724286239138,
          0.0008495452042067824,
          0.00013103440643135768,
          0.0006822877031608912,
          0.00010157391045421977,
          0.00010243781588344641,
          0.00010306416392836265,
          0.00010248001130871688,
          0.00012676457742972808,
          0.00010170307178885521,
          0.00011888418796031753,
          0.00010893815090113448,
          0.00010014504120445575,
          0.00014594104103371984,
          0.0001031032406478315,
          0.00011521444028996555,
          0.0009679697628295381,
          0.0001643847681891162,
          0.00011228229231301858,
          0.00011618314601754972,
          0.00010027047928771214,
          0.00010053327085196988,
          0.00010976760892334912,
          0.00010597388762724996,
          0.00010077357974050429,
          0.00012426357165036393,
          0.00010082282939436439,
          0.00010048844365348455,
          0.00011195019969690164,
          0.000125547663308625,
          0.00010028333971593998,
          0.0001060880228915066,
          0.00012339564439166133,
          0.00011921265990106719,
          0.00012161460160903801,
          0.00010419211491519788,
          0.0001045580606273782,
          0.00011326523260917271
         ],
         "xaxis": "x10",
         "y": [
          0.1248062459518126,
          0.18550895913745297,
          0.1907760123015208,
          0.16657345853508188,
          0.14474113728042967,
          0.161148261528122,
          0.13714949392899192,
          0.13891604018175807,
          0.1397480575469616,
          0.10047679932934811,
          0.1214554615025169,
          0.10082833671945111,
          0.1154754304505843,
          0.1484977711206744,
          0.13355346687915795,
          0.10773866631139353,
          0.135389527336228,
          0.1268199996480464,
          0.1459865983964105,
          0.13215914314856453,
          0.1203652038223573,
          0.14342211918503453,
          0.1116614647957342,
          0.10695467716071022,
          0.12288339206509208,
          0.10482194445211092,
          0.11806197881223826,
          0.11231638498621203,
          0.15157105362996692,
          0.1367781767123146,
          0.11940999884519499,
          0.15954728376816632,
          0.1328380306525573,
          0.11490700020310449,
          0.13645046663521485,
          0.13592560996267433,
          0.13512039755166452,
          0.11406747148220177,
          0.12048916187989218,
          0.10324976064678713
         ],
         "yaxis": "y10"
        },
        {
         "colorbar": {
          "title": {
           "text": "Objective Value"
          }
         },
         "colorscale": [
          [
           0,
           "rgb(247,251,255)"
          ],
          [
           0.125,
           "rgb(222,235,247)"
          ],
          [
           0.25,
           "rgb(198,219,239)"
          ],
          [
           0.375,
           "rgb(158,202,225)"
          ],
          [
           0.5,
           "rgb(107,174,214)"
          ],
          [
           0.625,
           "rgb(66,146,198)"
          ],
          [
           0.75,
           "rgb(33,113,181)"
          ],
          [
           0.875,
           "rgb(8,81,156)"
          ],
          [
           1,
           "rgb(8,48,107)"
          ]
         ],
         "connectgaps": true,
         "contours": {
          "coloring": "heatmap"
         },
         "hoverinfo": "none",
         "line": {
          "smoothing": 1.3
         },
         "reversescale": false,
         "showscale": false,
         "type": "contour",
         "x": [
          0.000089406240327015,
          0.00010014504120445575,
          0.00010027047928771214,
          0.00010028333971593998,
          0.00010048844365348455,
          0.00010053327085196988,
          0.00010077357974050429,
          0.00010082282939436439,
          0.00010157391045421977,
          0.00010170307178885521,
          0.00010243781588344641,
          0.00010248001130871688,
          0.00010306416392836265,
          0.0001031032406478315,
          0.00010419211491519788,
          0.0001045580606273782,
          0.00010597388762724996,
          0.0001060880228915066,
          0.00010893815090113448,
          0.00010976760892334912,
          0.00011195019969690164,
          0.00011228229231301858,
          0.00011326523260917271,
          0.00011521444028996555,
          0.00011618314601754972,
          0.00011888418796031753,
          0.00011921265990106719,
          0.00012161460160903801,
          0.00012339564439166133,
          0.00012426357165036393,
          0.000125547663308625,
          0.00012676457742972808,
          0.00013103440643135768,
          0.00014594104103371984,
          0.00016181724286239138,
          0.0001643847681891162,
          0.0005097814609911406,
          0.0006269130974735595,
          0.0006822877031608912,
          0.0008495452042067824,
          0.0009679697628295381,
          0.0010842349642337062
         ],
         "xaxis": "x16",
         "y": [
          44,
          80,
          81,
          133,
          134,
          172,
          201,
          224,
          285,
          312,
          393,
          404,
          410,
          438,
          465,
          488,
          504,
          513,
          551,
          576,
          580,
          641,
          651,
          656,
          660,
          671,
          693,
          696,
          697,
          710,
          719,
          728,
          742,
          746,
          760,
          763,
          788,
          798,
          800,
          836
         ],
         "yaxis": "y16",
         "z": [
          [
           null,
           null,
           null,
           null,
           null,
           null,
           null,
           null,
           null,
           null,
           null,
           null,
           null,
           null,
           null,
           null,
           null,
           null,
           null,
           null,
           null,
           null,
           null,
           null,
           null,
           null,
           null,
           null,
           null,
           null,
           null,
           null,
           null,
           null,
           null,
           null,
           null,
           null,
           null,
           null,
           null,
           null
          ],
          [
           null,
           null,
           null,
           null,
           null,
           null,
           null,
           null,
           null,
           null,
           null,
           null,
           null,
           null,
           null,
           null,
           null,
           null,
           null,
           null,
           null,
           null,
           null,
           null,
           null,
           null,
           null,
           null,
           null,
           null,
           null,
           null,
           null,
           null,
           null,
           0.9704996943473816,
           null,
           null,
           null,
           null,
           null,
           null
          ],
          [
           null,
           null,
           null,
           null,
           null,
           null,
           null,
           null,
           null,
           null,
           null,
           null,
           null,
           null,
           null,
           null,
           null,
           null,
           null,
           null,
           null,
           null,
           null,
           null,
           null,
           null,
           null,
           null,
           null,
           null,
           null,
           null,
           null,
           null,
           0.9671884179115295,
           null,
           null,
           null,
           null,
           null,
           null,
           null
          ],
          [
           null,
           null,
           null,
           null,
           null,
           null,
           null,
           null,
           null,
           null,
           null,
           null,
           null,
           null,
           null,
           null,
           null,
           null,
           null,
           null,
           null,
           null,
           null,
           null,
           null,
           null,
           null,
           null,
           null,
           null,
           null,
           null,
           null,
           null,
           null,
           null,
           0.9813365340232849,
           null,
           null,
           null,
           null,
           null
          ],
          [
           null,
           null,
           null,
           null,
           null,
           null,
           null,
           null,
           null,
           null,
           null,
           null,
           null,
           null,
           null,
           null,
           null,
           null,
           null,
           0.9771221876144409,
           null,
           null,
           null,
           null,
           null,
           null,
           null,
           null,
           null,
           null,
           null,
           null,
           null,
           null,
           null,
           null,
           null,
           null,
           null,
           null,
           null,
           null
          ],
          [
           null,
           null,
           null,
           null,
           null,
           null,
           null,
           null,
           null,
           null,
           null,
           null,
           null,
           null,
           null,
           null,
           null,
           null,
           null,
           null,
           null,
           null,
           null,
           null,
           null,
           null,
           null,
           null,
           null,
           null,
           null,
           null,
           null,
           null,
           null,
           null,
           null,
           0.9783263206481934,
           null,
           null,
           null,
           null
          ],
          [
           null,
           null,
           null,
           null,
           null,
           null,
           null,
           null,
           null,
           null,
           null,
           null,
           null,
           null,
           null,
           null,
           null,
           null,
           null,
           null,
           null,
           null,
           null,
           null,
           null,
           null,
           null,
           null,
           null,
           null,
           null,
           null,
           null,
           0.984647810459137,
           null,
           null,
           null,
           null,
           null,
           null,
           null,
           null
          ],
          [
           null,
           null,
           null,
           null,
           null,
           null,
           null,
           null,
           null,
           null,
           null,
           null,
           null,
           null,
           null,
           null,
           null,
           null,
           null,
           null,
           null,
           null,
           null,
           null,
           null,
           null,
           null,
           null,
           null,
           null,
           null,
           null,
           null,
           null,
           null,
           null,
           null,
           null,
           null,
           null,
           0.9792293906211853,
           null
          ],
          [
           null,
           null,
           null,
           null,
           null,
           null,
           null,
           null,
           null,
           null,
           null,
           null,
           null,
           null,
           null,
           null,
           null,
           null,
           null,
           null,
           0.9852498769760132,
           null,
           null,
           null,
           null,
           null,
           null,
           null,
           null,
           null,
           null,
           null,
           null,
           null,
           null,
           null,
           null,
           null,
           null,
           null,
           null,
           null
          ],
          [
           null,
           null,
           null,
           null,
           null,
           null,
           null,
           null,
           null,
           null,
           null,
           null,
           null,
           null,
           null,
           null,
           null,
           null,
           null,
           null,
           null,
           null,
           null,
           null,
           null,
           null,
           null,
           null,
           null,
           null,
           null,
           null,
           null,
           null,
           null,
           null,
           null,
           null,
           null,
           0.979530394077301,
           null,
           null
          ],
          [
           null,
           null,
           null,
           null,
           null,
           null,
           null,
           null,
           null,
           null,
           null,
           null,
           null,
           null,
           null,
           null,
           null,
           null,
           null,
           null,
           null,
           null,
           null,
           null,
           null,
           null,
           null,
           null,
           null,
           0.9849488139152527,
           null,
           null,
           null,
           null,
           null,
           null,
           null,
           null,
           null,
           null,
           null,
           null
          ],
          [
           null,
           null,
           null,
           null,
           null,
           null,
           null,
           null,
           null,
           null,
           null,
           null,
           null,
           null,
           0.9873570203781128,
           null,
           null,
           null,
           null,
           null,
           null,
           null,
           null,
           null,
           null,
           null,
           null,
           null,
           null,
           null,
           null,
           null,
           null,
           null,
           null,
           null,
           null,
           null,
           null,
           null,
           null,
           null
          ],
          [
           null,
           null,
           null,
           null,
           null,
           null,
           null,
           null,
           null,
           null,
           null,
           null,
           null,
           null,
           null,
           null,
           null,
           null,
           null,
           null,
           null,
           null,
           0.9864539504051208,
           null,
           null,
           null,
           null,
           null,
           null,
           null,
           null,
           null,
           null,
           null,
           null,
           null,
           null,
           null,
           null,
           null,
           null,
           null
          ],
          [
           null,
           null,
           null,
           null,
           null,
           null,
           null,
           null,
           null,
           null,
           null,
           null,
           null,
           null,
           null,
           0.9834437370300293,
           null,
           null,
           null,
           null,
           null,
           null,
           null,
           null,
           null,
           null,
           null,
           null,
           null,
           null,
           null,
           null,
           null,
           null,
           null,
           null,
           null,
           null,
           null,
           null,
           null,
           null
          ],
          [
           null,
           null,
           null,
           null,
           null,
           null,
           null,
           null,
           null,
           null,
           null,
           null,
           null,
           null,
           null,
           null,
           null,
           null,
           null,
           null,
           null,
           null,
           null,
           null,
           null,
           null,
           null,
           null,
           0.9867549538612366,
           null,
           null,
           null,
           null,
           null,
           null,
           null,
           null,
           null,
           null,
           null,
           null,
           null
          ],
          [
           null,
           null,
           null,
           null,
           null,
           null,
           null,
           null,
           null,
           null,
           null,
           null,
           null,
           null,
           null,
           null,
           null,
           null,
           null,
           null,
           null,
           null,
           null,
           null,
           0.9825406670570374,
           null,
           null,
           null,
           null,
           null,
           null,
           null,
           null,
           null,
           null,
           null,
           null,
           null,
           null,
           null,
           null,
           null
          ],
          [
           null,
           null,
           null,
           null,
           null,
           null,
           null,
           null,
           null,
           null,
           null,
           null,
           null,
           null,
           null,
           null,
           null,
           null,
           null,
           null,
           null,
           null,
           null,
           null,
           null,
           null,
           null,
           0.9873570203781128,
           null,
           null,
           null,
           null,
           null,
           null,
           null,
           null,
           null,
           null,
           null,
           null,
           null,
           null
          ],
          [
           null,
           null,
           null,
           null,
           null,
           null,
           null,
           null,
           null,
           null,
           null,
           null,
           null,
           null,
           null,
           null,
           null,
           null,
           null,
           null,
           null,
           null,
           null,
           null,
           null,
           null,
           0.9855508804321289,
           null,
           null,
           null,
           null,
           null,
           null,
           null,
           null,
           null,
           null,
           null,
           null,
           null,
           null,
           null
          ],
          [
           null,
           null,
           null,
           null,
           null,
           null,
           null,
           0.9798313975334167,
           null,
           null,
           null,
           null,
           null,
           null,
           null,
           null,
           null,
           null,
           null,
           null,
           null,
           null,
           null,
           null,
           null,
           null,
           null,
           null,
           null,
           null,
           null,
           null,
           null,
           null,
           null,
           null,
           null,
           null,
           null,
           null,
           null,
           null
          ],
          [
           null,
           null,
           null,
           null,
           null,
           null,
           null,
           null,
           null,
           null,
           null,
           null,
           null,
           null,
           null,
           null,
           null,
           0.9870560169219971,
           null,
           null,
           null,
           null,
           null,
           null,
           null,
           null,
           null,
           null,
           null,
           null,
           null,
           null,
           null,
           null,
           null,
           null,
           null,
           null,
           null,
           null,
           null,
           null
          ],
          [
           null,
           null,
           null,
           null,
           null,
           null,
           null,
           null,
           null,
           null,
           null,
           null,
           null,
           null,
           null,
           null,
           null,
           null,
           null,
           null,
           null,
           null,
           null,
           null,
           null,
           null,
           null,
           null,
           null,
           null,
           null,
           0.9861529469490051,
           null,
           null,
           null,
           null,
           null,
           null,
           null,
           null,
           null,
           null
          ],
          [
           null,
           null,
           null,
           null,
           null,
           null,
           null,
           null,
           null,
           null,
           null,
           null,
           null,
           null,
           null,
           null,
           null,
           null,
           null,
           null,
           null,
           null,
           null,
           null,
           null,
           null,
           null,
           null,
           null,
           null,
           null,
           null,
           null,
           null,
           null,
           null,
           null,
           null,
           0.9816375970840454,
           null,
           null,
           null
          ],
          [
           null,
           null,
           null,
           null,
           null,
           0.9810355305671692,
           null,
           null,
           null,
           null,
           null,
           null,
           null,
           null,
           null,
           null,
           null,
           null,
           null,
           null,
           null,
           null,
           null,
           null,
           null,
           null,
           null,
           null,
           null,
           null,
           null,
           null,
           null,
           null,
           null,
           null,
           null,
           null,
           null,
           null,
           null,
           null
          ],
          [
           null,
           null,
           null,
           null,
           null,
           null,
           null,
           null,
           null,
           null,
           null,
           0.9864539504051208,
           null,
           null,
           null,
           null,
           null,
           null,
           null,
           null,
           null,
           null,
           null,
           null,
           null,
           null,
           null,
           null,
           null,
           null,
           null,
           null,
           null,
           null,
           null,
           null,
           null,
           null,
           null,
           null,
           null,
           null
          ],
          [
           null,
           null,
           null,
           0.9852498769760132,
           null,
           null,
           0.9855508804321289,
           null,
           null,
           null,
           null,
           null,
           null,
           null,
           null,
           null,
           null,
           null,
           null,
           null,
           null,
           null,
           null,
           null,
           null,
           null,
           null,
           null,
           null,
           null,
           null,
           null,
           null,
           null,
           null,
           null,
           null,
           null,
           null,
           null,
           null,
           null
          ],
          [
           null,
           0.9867549538612366,
           null,
           null,
           null,
           null,
           null,
           null,
           null,
           null,
           null,
           null,
           null,
           null,
           null,
           null,
           null,
           null,
           null,
           null,
           null,
           null,
           null,
           null,
           null,
           null,
           null,
           null,
           null,
           null,
           null,
           null,
           null,
           null,
           null,
           null,
           null,
           null,
           null,
           null,
           null,
           null
          ],
          [
           null,
           null,
           0.987959086894989,
           null,
           null,
           null,
           null,
           null,
           null,
           null,
           null,
           null,
           null,
           null,
           null,
           null,
           null,
           null,
           null,
           null,
           null,
           0.9876580238342285,
           null,
           null,
           null,
           null,
           null,
           null,
           null,
           null,
           null,
           null,
           null,
           null,
           null,
           null,
           null,
           null,
           null,
           null,
           null,
           null
          ],
          [
           null,
           null,
           null,
           null,
           null,
           null,
           null,
           null,
           null,
           null,
           null,
           null,
           null,
           null,
           null,
           null,
           0.9855508804321289,
           null,
           null,
           null,
           null,
           null,
           null,
           null,
           null,
           null,
           null,
           null,
           null,
           null,
           null,
           null,
           null,
           null,
           null,
           null,
           null,
           null,
           null,
           null,
           null,
           null
          ],
          [
           null,
           null,
           null,
           null,
           null,
           null,
           null,
           null,
           null,
           0.9873570203781128,
           null,
           null,
           null,
           null,
           null,
           null,
           null,
           null,
           null,
           null,
           null,
           null,
           null,
           null,
           null,
           null,
           null,
           null,
           null,
           null,
           null,
           null,
           null,
           null,
           null,
           null,
           null,
           null,
           null,
           null,
           null,
           null
          ],
          [
           null,
           null,
           null,
           null,
           null,
           null,
           null,
           null,
           null,
           null,
           null,
           null,
           null,
           null,
           null,
           null,
           null,
           null,
           null,
           null,
           null,
           null,
           null,
           null,
           null,
           0.9864539504051208,
           null,
           null,
           null,
           null,
           null,
           null,
           null,
           null,
           null,
           null,
           null,
           null,
           null,
           null,
           null,
           null
          ],
          [
           null,
           null,
           null,
           null,
           null,
           null,
           null,
           null,
           null,
           null,
           null,
           null,
           null,
           null,
           null,
           null,
           null,
           null,
           null,
           null,
           null,
           null,
           null,
           null,
           null,
           null,
           null,
           null,
           null,
           null,
           null,
           null,
           0.9825406670570374,
           null,
           null,
           null,
           null,
           null,
           null,
           null,
           null,
           null
          ],
          [
           null,
           null,
           null,
           null,
           null,
           null,
           null,
           null,
           null,
           null,
           null,
           null,
           null,
           null,
           null,
           null,
           null,
           null,
           0.9858518838882446,
           null,
           null,
           null,
           null,
           null,
           null,
           null,
           null,
           null,
           null,
           null,
           null,
           null,
           null,
           null,
           null,
           null,
           null,
           null,
           null,
           null,
           null,
           null
          ],
          [
           null,
           null,
           null,
           null,
           null,
           null,
           null,
           null,
           null,
           null,
           null,
           null,
           null,
           0.987959086894989,
           null,
           null,
           null,
           null,
           null,
           null,
           null,
           null,
           null,
           null,
           null,
           null,
           null,
           null,
           null,
           null,
           null,
           null,
           null,
           null,
           null,
           null,
           null,
           null,
           null,
           null,
           null,
           null
          ],
          [
           null,
           null,
           null,
           null,
           null,
           null,
           null,
           null,
           null,
           null,
           null,
           null,
           null,
           null,
           null,
           null,
           null,
           null,
           null,
           null,
           null,
           null,
           null,
           0.9864539504051208,
           null,
           null,
           null,
           null,
           null,
           null,
           null,
           null,
           null,
           null,
           null,
           null,
           null,
           null,
           null,
           null,
           null,
           null
          ],
          [
           null,
           null,
           null,
           null,
           null,
           null,
           null,
           null,
           null,
           null,
           null,
           null,
           null,
           null,
           null,
           null,
           null,
           null,
           null,
           null,
           null,
           null,
           null,
           null,
           null,
           null,
           null,
           null,
           null,
           null,
           0.9819386005401611,
           null,
           null,
           null,
           null,
           null,
           null,
           null,
           null,
           null,
           null,
           null
          ],
          [
           null,
           null,
           null,
           null,
           null,
           null,
           null,
           null,
           0.987959086894989,
           null,
           null,
           null,
           null,
           null,
           null,
           null,
           null,
           null,
           null,
           null,
           null,
           null,
           null,
           null,
           null,
           null,
           null,
           null,
           null,
           null,
           null,
           null,
           null,
           null,
           null,
           null,
           null,
           null,
           null,
           null,
           null,
           null
          ],
          [
           null,
           null,
           null,
           null,
           null,
           null,
           null,
           null,
           null,
           null,
           null,
           null,
           0.9861529469490051,
           null,
           null,
           null,
           null,
           null,
           null,
           null,
           null,
           null,
           null,
           null,
           null,
           null,
           null,
           null,
           null,
           null,
           null,
           null,
           null,
           null,
           null,
           null,
           null,
           null,
           null,
           null,
           null,
           null
          ],
          [
           null,
           null,
           null,
           null,
           0.9873570203781128,
           null,
           null,
           null,
           null,
           null,
           null,
           null,
           null,
           null,
           null,
           null,
           null,
           null,
           null,
           null,
           null,
           null,
           null,
           null,
           null,
           null,
           null,
           null,
           null,
           null,
           null,
           null,
           null,
           null,
           null,
           null,
           null,
           null,
           null,
           null,
           null,
           null
          ],
          [
           null,
           null,
           null,
           null,
           null,
           null,
           null,
           null,
           null,
           null,
           0.9873570203781128,
           null,
           null,
           null,
           null,
           null,
           null,
           null,
           null,
           null,
           null,
           null,
           null,
           null,
           null,
           null,
           null,
           null,
           null,
           null,
           null,
           null,
           null,
           null,
           null,
           null,
           null,
           null,
           null,
           null,
           null,
           null
          ],
          [
           null,
           null,
           null,
           null,
           null,
           null,
           null,
           null,
           null,
           null,
           null,
           null,
           null,
           null,
           null,
           null,
           null,
           null,
           null,
           null,
           null,
           null,
           null,
           null,
           null,
           null,
           null,
           null,
           null,
           null,
           null,
           null,
           null,
           null,
           null,
           null,
           null,
           null,
           null,
           null,
           null,
           null
          ]
         ]
        },
        {
         "marker": {
          "color": "black",
          "line": {
           "color": "Gray",
           "width": 2
          }
         },
         "mode": "markers",
         "name": "Feasible Trial",
         "showlegend": false,
         "type": "scatter",
         "x": [
          0.0006269130974735595,
          0.0005097814609911406,
          0.00016181724286239138,
          0.0008495452042067824,
          0.00013103440643135768,
          0.0006822877031608912,
          0.00010157391045421977,
          0.00010243781588344641,
          0.00010306416392836265,
          0.00010248001130871688,
          0.00012676457742972808,
          0.00010170307178885521,
          0.00011888418796031753,
          0.00010893815090113448,
          0.00010014504120445575,
          0.00014594104103371984,
          0.0001031032406478315,
          0.00011521444028996555,
          0.0009679697628295381,
          0.0001643847681891162,
          0.00011228229231301858,
          0.00011618314601754972,
          0.00010027047928771214,
          0.00010053327085196988,
          0.00010976760892334912,
          0.00010597388762724996,
          0.00010077357974050429,
          0.00012426357165036393,
          0.00010082282939436439,
          0.00010048844365348455,
          0.00011195019969690164,
          0.000125547663308625,
          0.00010028333971593998,
          0.0001060880228915066,
          0.00012339564439166133,
          0.00011921265990106719,
          0.00012161460160903801,
          0.00010419211491519788,
          0.0001045580606273782,
          0.00011326523260917271
         ],
         "xaxis": "x16",
         "y": [
          172,
          133,
          81,
          312,
          719,
          641,
          763,
          800,
          788,
          656,
          580,
          697,
          710,
          728,
          671,
          201,
          742,
          746,
          224,
          80,
          693,
          488,
          693,
          651,
          134,
          696,
          660,
          393,
          551,
          798,
          285,
          760,
          660,
          576,
          465,
          513,
          504,
          404,
          438,
          410
         ],
         "yaxis": "y16"
        },
        {
         "type": "scatter",
         "xaxis": "x22",
         "yaxis": "y22"
        },
        {
         "colorbar": {
          "title": {
           "text": "Objective Value"
          }
         },
         "colorscale": [
          [
           0,
           "rgb(247,251,255)"
          ],
          [
           0.125,
           "rgb(222,235,247)"
          ],
          [
           0.25,
           "rgb(198,219,239)"
          ],
          [
           0.375,
           "rgb(158,202,225)"
          ],
          [
           0.5,
           "rgb(107,174,214)"
          ],
          [
           0.625,
           "rgb(66,146,198)"
          ],
          [
           0.75,
           "rgb(33,113,181)"
          ],
          [
           0.875,
           "rgb(8,81,156)"
          ],
          [
           1,
           "rgb(8,48,107)"
          ]
         ],
         "connectgaps": true,
         "contours": {
          "coloring": "heatmap"
         },
         "hoverinfo": "none",
         "line": {
          "smoothing": 1.3
         },
         "reversescale": false,
         "showscale": false,
         "type": "contour",
         "x": [
          0.000089406240327015,
          0.00010014504120445575,
          0.00010027047928771214,
          0.00010028333971593998,
          0.00010048844365348455,
          0.00010053327085196988,
          0.00010077357974050429,
          0.00010082282939436439,
          0.00010157391045421977,
          0.00010170307178885521,
          0.00010243781588344641,
          0.00010248001130871688,
          0.00010306416392836265,
          0.0001031032406478315,
          0.00010419211491519788,
          0.0001045580606273782,
          0.00010597388762724996,
          0.0001060880228915066,
          0.00010893815090113448,
          0.00010976760892334912,
          0.00011195019969690164,
          0.00011228229231301858,
          0.00011326523260917271,
          0.00011521444028996555,
          0.00011618314601754972,
          0.00011888418796031753,
          0.00011921265990106719,
          0.00012161460160903801,
          0.00012339564439166133,
          0.00012426357165036393,
          0.000125547663308625,
          0.00012676457742972808,
          0.00013103440643135768,
          0.00014594104103371984,
          0.00016181724286239138,
          0.0001643847681891162,
          0.0005097814609911406,
          0.0006269130974735595,
          0.0006822877031608912,
          0.0008495452042067824,
          0.0009679697628295381,
          0.0010842349642337062
         ],
         "xaxis": "x28",
         "y": [
          0.95,
          1,
          2,
          2.05
         ],
         "yaxis": "y28",
         "z": [
          [
           null,
           null,
           null,
           null,
           null,
           null,
           null,
           null,
           null,
           null,
           null,
           null,
           null,
           null,
           null,
           null,
           null,
           null,
           null,
           null,
           null,
           null,
           null,
           null,
           null,
           null,
           null,
           null,
           null,
           null,
           null,
           null,
           null,
           null,
           null,
           null,
           null,
           null,
           null,
           null,
           null,
           null
          ],
          [
           null,
           0.9867549538612366,
           0.987959086894989,
           0.9852498769760132,
           0.9873570203781128,
           0.9810355305671692,
           0.9855508804321289,
           0.9798313975334167,
           0.987959086894989,
           0.9873570203781128,
           0.9873570203781128,
           0.9864539504051208,
           0.9861529469490051,
           0.987959086894989,
           0.9873570203781128,
           0.9834437370300293,
           0.9855508804321289,
           0.9870560169219971,
           0.9858518838882446,
           0.9771221876144409,
           null,
           0.9876580238342285,
           0.9864539504051208,
           0.9864539504051208,
           0.9825406670570374,
           0.9864539504051208,
           0.9855508804321289,
           0.9873570203781128,
           0.9867549538612366,
           0.9849488139152527,
           0.9819386005401611,
           0.9861529469490051,
           0.9825406670570374,
           null,
           0.9671884179115295,
           0.9704996943473816,
           null,
           null,
           0.9816375970840454,
           null,
           0.9792293906211853,
           null
          ],
          [
           null,
           null,
           null,
           null,
           null,
           null,
           null,
           null,
           null,
           null,
           null,
           null,
           null,
           null,
           null,
           null,
           null,
           null,
           null,
           null,
           0.9852498769760132,
           null,
           null,
           null,
           null,
           null,
           null,
           null,
           null,
           null,
           null,
           null,
           null,
           0.984647810459137,
           null,
           null,
           0.9813365340232849,
           0.9783263206481934,
           null,
           0.979530394077301,
           null,
           null
          ],
          [
           null,
           null,
           null,
           null,
           null,
           null,
           null,
           null,
           null,
           null,
           null,
           null,
           null,
           null,
           null,
           null,
           null,
           null,
           null,
           null,
           null,
           null,
           null,
           null,
           null,
           null,
           null,
           null,
           null,
           null,
           null,
           null,
           null,
           null,
           null,
           null,
           null,
           null,
           null,
           null,
           null,
           null
          ]
         ]
        },
        {
         "marker": {
          "color": "black",
          "line": {
           "color": "Gray",
           "width": 2
          }
         },
         "mode": "markers",
         "name": "Feasible Trial",
         "showlegend": false,
         "type": "scatter",
         "x": [
          0.0006269130974735595,
          0.0005097814609911406,
          0.00016181724286239138,
          0.0008495452042067824,
          0.00013103440643135768,
          0.0006822877031608912,
          0.00010157391045421977,
          0.00010243781588344641,
          0.00010306416392836265,
          0.00010248001130871688,
          0.00012676457742972808,
          0.00010170307178885521,
          0.00011888418796031753,
          0.00010893815090113448,
          0.00010014504120445575,
          0.00014594104103371984,
          0.0001031032406478315,
          0.00011521444028996555,
          0.0009679697628295381,
          0.0001643847681891162,
          0.00011228229231301858,
          0.00011618314601754972,
          0.00010027047928771214,
          0.00010053327085196988,
          0.00010976760892334912,
          0.00010597388762724996,
          0.00010077357974050429,
          0.00012426357165036393,
          0.00010082282939436439,
          0.00010048844365348455,
          0.00011195019969690164,
          0.000125547663308625,
          0.00010028333971593998,
          0.0001060880228915066,
          0.00012339564439166133,
          0.00011921265990106719,
          0.00012161460160903801,
          0.00010419211491519788,
          0.0001045580606273782,
          0.00011326523260917271
         ],
         "xaxis": "x28",
         "y": [
          2,
          2,
          1,
          2,
          1,
          1,
          1,
          1,
          1,
          1,
          1,
          1,
          1,
          1,
          1,
          2,
          1,
          1,
          1,
          1,
          1,
          1,
          1,
          1,
          1,
          1,
          1,
          1,
          1,
          1,
          2,
          1,
          1,
          1,
          1,
          1,
          1,
          1,
          1,
          1
         ],
         "yaxis": "y28"
        },
        {
         "colorbar": {
          "title": {
           "text": "Objective Value"
          }
         },
         "colorscale": [
          [
           0,
           "rgb(247,251,255)"
          ],
          [
           0.125,
           "rgb(222,235,247)"
          ],
          [
           0.25,
           "rgb(198,219,239)"
          ],
          [
           0.375,
           "rgb(158,202,225)"
          ],
          [
           0.5,
           "rgb(107,174,214)"
          ],
          [
           0.625,
           "rgb(66,146,198)"
          ],
          [
           0.75,
           "rgb(33,113,181)"
          ],
          [
           0.875,
           "rgb(8,81,156)"
          ],
          [
           1,
           "rgb(8,48,107)"
          ]
         ],
         "connectgaps": true,
         "contours": {
          "coloring": "heatmap"
         },
         "hoverinfo": "none",
         "line": {
          "smoothing": 1.3
         },
         "reversescale": false,
         "showscale": false,
         "type": "contour",
         "x": [
          0.000089406240327015,
          0.00010014504120445575,
          0.00010027047928771214,
          0.00010028333971593998,
          0.00010048844365348455,
          0.00010053327085196988,
          0.00010077357974050429,
          0.00010082282939436439,
          0.00010157391045421977,
          0.00010170307178885521,
          0.00010243781588344641,
          0.00010248001130871688,
          0.00010306416392836265,
          0.0001031032406478315,
          0.00010419211491519788,
          0.0001045580606273782,
          0.00010597388762724996,
          0.0001060880228915066,
          0.00010893815090113448,
          0.00010976760892334912,
          0.00011195019969690164,
          0.00011228229231301858,
          0.00011326523260917271,
          0.00011521444028996555,
          0.00011618314601754972,
          0.00011888418796031753,
          0.00011921265990106719,
          0.00012161460160903801,
          0.00012339564439166133,
          0.00012426357165036393,
          0.000125547663308625,
          0.00012676457742972808,
          0.00013103440643135768,
          0.00014594104103371984,
          0.00016181724286239138,
          0.0001643847681891162,
          0.0005097814609911406,
          0.0006269130974735595,
          0.0006822877031608912,
          0.0008495452042067824,
          0.0009679697628295381,
          0.0010842349642337062
         ],
         "xaxis": "x34",
         "y": [
          "False",
          "True"
         ],
         "yaxis": "y34",
         "z": [
          [
           null,
           0.9867549538612366,
           0.987959086894989,
           0.9852498769760132,
           0.9873570203781128,
           null,
           0.9855508804321289,
           null,
           0.987959086894989,
           0.9873570203781128,
           0.9873570203781128,
           0.9864539504051208,
           0.9861529469490051,
           0.987959086894989,
           0.9873570203781128,
           0.9834437370300293,
           0.9855508804321289,
           0.9870560169219971,
           0.9858518838882446,
           0.9771221876144409,
           0.9852498769760132,
           0.9876580238342285,
           0.9864539504051208,
           0.9864539504051208,
           null,
           0.9864539504051208,
           0.9855508804321289,
           0.9873570203781128,
           0.9867549538612366,
           0.9849488139152527,
           null,
           0.9861529469490051,
           null,
           0.984647810459137,
           0.9671884179115295,
           null,
           null,
           null,
           null,
           0.979530394077301,
           null,
           null
          ],
          [
           null,
           null,
           null,
           null,
           null,
           0.9810355305671692,
           null,
           0.9798313975334167,
           null,
           null,
           null,
           null,
           null,
           null,
           null,
           null,
           null,
           null,
           null,
           null,
           null,
           null,
           null,
           null,
           0.9825406670570374,
           null,
           null,
           null,
           null,
           null,
           0.9819386005401611,
           null,
           0.9825406670570374,
           null,
           null,
           0.9704996943473816,
           0.9813365340232849,
           0.9783263206481934,
           0.9816375970840454,
           null,
           0.9792293906211853,
           null
          ]
         ]
        },
        {
         "marker": {
          "color": "black",
          "line": {
           "color": "Gray",
           "width": 2
          }
         },
         "mode": "markers",
         "name": "Feasible Trial",
         "showlegend": false,
         "type": "scatter",
         "x": [
          0.0006269130974735595,
          0.0005097814609911406,
          0.00016181724286239138,
          0.0008495452042067824,
          0.00013103440643135768,
          0.0006822877031608912,
          0.00010157391045421977,
          0.00010243781588344641,
          0.00010306416392836265,
          0.00010248001130871688,
          0.00012676457742972808,
          0.00010170307178885521,
          0.00011888418796031753,
          0.00010893815090113448,
          0.00010014504120445575,
          0.00014594104103371984,
          0.0001031032406478315,
          0.00011521444028996555,
          0.0009679697628295381,
          0.0001643847681891162,
          0.00011228229231301858,
          0.00011618314601754972,
          0.00010027047928771214,
          0.00010053327085196988,
          0.00010976760892334912,
          0.00010597388762724996,
          0.00010077357974050429,
          0.00012426357165036393,
          0.00010082282939436439,
          0.00010048844365348455,
          0.00011195019969690164,
          0.000125547663308625,
          0.00010028333971593998,
          0.0001060880228915066,
          0.00012339564439166133,
          0.00011921265990106719,
          0.00012161460160903801,
          0.00010419211491519788,
          0.0001045580606273782,
          0.00011326523260917271
         ],
         "xaxis": "x34",
         "y": [
          "True",
          "True",
          "False",
          "False",
          "True",
          "True",
          "False",
          "False",
          "False",
          "False",
          "False",
          "False",
          "False",
          "False",
          "False",
          "False",
          "False",
          "False",
          "True",
          "True",
          "False",
          "True",
          "False",
          "True",
          "False",
          "False",
          "False",
          "False",
          "True",
          "False",
          "False",
          "True",
          "False",
          "False",
          "False",
          "False",
          "False",
          "False",
          "False",
          "False"
         ],
         "yaxis": "y34"
        },
        {
         "colorbar": {
          "title": {
           "text": "Objective Value"
          }
         },
         "colorscale": [
          [
           0,
           "rgb(247,251,255)"
          ],
          [
           0.125,
           "rgb(222,235,247)"
          ],
          [
           0.25,
           "rgb(198,219,239)"
          ],
          [
           0.375,
           "rgb(158,202,225)"
          ],
          [
           0.5,
           "rgb(107,174,214)"
          ],
          [
           0.625,
           "rgb(66,146,198)"
          ],
          [
           0.75,
           "rgb(33,113,181)"
          ],
          [
           0.875,
           "rgb(8,81,156)"
          ],
          [
           1,
           "rgb(8,48,107)"
          ]
         ],
         "connectgaps": true,
         "contours": {
          "coloring": "heatmap"
         },
         "hoverinfo": "none",
         "line": {
          "smoothing": 1.3
         },
         "reversescale": false,
         "showscale": false,
         "type": "contour",
         "x": [
          0.95,
          1,
          2,
          2.05
         ],
         "xaxis": "x5",
         "y": [
          "relu",
          "tanh"
         ],
         "yaxis": "y5",
         "z": [
          [
           null,
           0.9825406670570374,
           0.9813365340232849,
           null
          ],
          [
           null,
           0.987959086894989,
           0.9852498769760132,
           null
          ]
         ]
        },
        {
         "marker": {
          "color": "black",
          "line": {
           "color": "Gray",
           "width": 2
          }
         },
         "mode": "markers",
         "name": "Feasible Trial",
         "showlegend": false,
         "type": "scatter",
         "x": [
          2,
          2,
          1,
          2,
          1,
          1,
          1,
          1,
          1,
          1,
          1,
          1,
          1,
          1,
          1,
          2,
          1,
          1,
          1,
          1,
          1,
          1,
          1,
          1,
          1,
          1,
          1,
          1,
          1,
          1,
          2,
          1,
          1,
          1,
          1,
          1,
          1,
          1,
          1,
          1
         ],
         "xaxis": "x5",
         "y": [
          "tanh",
          "relu",
          "relu",
          "relu",
          "relu",
          "tanh",
          "tanh",
          "tanh",
          "tanh",
          "tanh",
          "tanh",
          "tanh",
          "tanh",
          "tanh",
          "tanh",
          "tanh",
          "tanh",
          "tanh",
          "tanh",
          "relu",
          "tanh",
          "tanh",
          "tanh",
          "tanh",
          "relu",
          "tanh",
          "tanh",
          "tanh",
          "tanh",
          "tanh",
          "tanh",
          "tanh",
          "tanh",
          "tanh",
          "tanh",
          "tanh",
          "tanh",
          "tanh",
          "tanh",
          "tanh"
         ],
         "yaxis": "y5"
        },
        {
         "colorbar": {
          "title": {
           "text": "Objective Value"
          }
         },
         "colorscale": [
          [
           0,
           "rgb(247,251,255)"
          ],
          [
           0.125,
           "rgb(222,235,247)"
          ],
          [
           0.25,
           "rgb(198,219,239)"
          ],
          [
           0.375,
           "rgb(158,202,225)"
          ],
          [
           0.5,
           "rgb(107,174,214)"
          ],
          [
           0.625,
           "rgb(66,146,198)"
          ],
          [
           0.75,
           "rgb(33,113,181)"
          ],
          [
           0.875,
           "rgb(8,81,156)"
          ],
          [
           1,
           "rgb(8,48,107)"
          ]
         ],
         "connectgaps": true,
         "contours": {
          "coloring": "heatmap"
         },
         "hoverinfo": "none",
         "line": {
          "smoothing": 1.3
         },
         "reversescale": false,
         "showscale": false,
         "type": "contour",
         "x": [
          0.95,
          1,
          2,
          2.05
         ],
         "xaxis": "x11",
         "y": [
          0.09596183868073947,
          0.10047679932934811,
          0.10082833671945111,
          0.10324976064678713,
          0.10482194445211092,
          0.10695467716071022,
          0.10773866631139353,
          0.1116614647957342,
          0.11231638498621203,
          0.11406747148220177,
          0.11490700020310449,
          0.1154754304505843,
          0.11806197881223826,
          0.11940999884519499,
          0.1203652038223573,
          0.12048916187989218,
          0.1214554615025169,
          0.12288339206509208,
          0.1248062459518126,
          0.1268199996480464,
          0.13215914314856453,
          0.1328380306525573,
          0.13355346687915795,
          0.13512039755166452,
          0.135389527336228,
          0.13592560996267433,
          0.13645046663521485,
          0.1367781767123146,
          0.13714949392899192,
          0.13891604018175807,
          0.1397480575469616,
          0.14342211918503453,
          0.14474113728042967,
          0.1459865983964105,
          0.1484977711206744,
          0.15157105362996692,
          0.15954728376816632,
          0.161148261528122,
          0.16657345853508188,
          0.18550895913745297,
          0.1907760123015208,
          0.19529097295012943
         ],
         "yaxis": "y11",
         "z": [
          [
           null,
           null,
           null,
           null
          ],
          [
           null,
           0.9864539504051208,
           null,
           null
          ],
          [
           null,
           0.9873570203781128,
           null,
           null
          ],
          [
           null,
           0.9864539504051208,
           null,
           null
          ],
          [
           null,
           0.9855508804321289,
           null,
           null
          ],
          [
           null,
           0.9810355305671692,
           null,
           null
          ],
          [
           null,
           null,
           0.984647810459137,
           null
          ],
          [
           null,
           0.987959086894989,
           null,
           null
          ],
          [
           null,
           0.9849488139152527,
           null,
           null
          ],
          [
           null,
           0.9873570203781128,
           null,
           null
          ],
          [
           null,
           0.9870560169219971,
           null,
           null
          ],
          [
           null,
           0.9864539504051208,
           null,
           null
          ],
          [
           null,
           0.9855508804321289,
           null,
           null
          ],
          [
           null,
           null,
           0.9852498769760132,
           null
          ],
          [
           null,
           0.9876580238342285,
           null,
           null
          ],
          [
           null,
           0.9834437370300293,
           null,
           null
          ],
          [
           null,
           0.9861529469490051,
           null,
           null
          ],
          [
           null,
           0.9771221876144409,
           null,
           null
          ],
          [
           null,
           null,
           0.9783263206481934,
           null
          ],
          [
           null,
           0.9864539504051208,
           null,
           null
          ],
          [
           null,
           0.9704996943473816,
           null,
           null
          ],
          [
           null,
           0.9852498769760132,
           null,
           null
          ],
          [
           null,
           0.9867549538612366,
           null,
           null
          ],
          [
           null,
           0.9873570203781128,
           null,
           null
          ],
          [
           null,
           0.987959086894989,
           null,
           null
          ],
          [
           null,
           0.9855508804321289,
           null,
           null
          ],
          [
           null,
           0.9867549538612366,
           null,
           null
          ],
          [
           null,
           0.9873570203781128,
           null,
           null
          ],
          [
           null,
           0.987959086894989,
           null,
           null
          ],
          [
           null,
           0.9873570203781128,
           null,
           null
          ],
          [
           null,
           0.9861529469490051,
           null,
           null
          ],
          [
           null,
           0.9825406670570374,
           null,
           null
          ],
          [
           null,
           0.9825406670570374,
           null,
           null
          ],
          [
           null,
           0.9792293906211853,
           null,
           null
          ],
          [
           null,
           0.9858518838882446,
           null,
           null
          ],
          [
           null,
           0.9798313975334167,
           null,
           null
          ],
          [
           null,
           0.9819386005401611,
           null,
           null
          ],
          [
           null,
           0.9816375970840454,
           null,
           null
          ],
          [
           null,
           null,
           0.979530394077301,
           null
          ],
          [
           null,
           null,
           0.9813365340232849,
           null
          ],
          [
           null,
           0.9671884179115295,
           null,
           null
          ],
          [
           null,
           null,
           null,
           null
          ]
         ]
        },
        {
         "marker": {
          "color": "black",
          "line": {
           "color": "Gray",
           "width": 2
          }
         },
         "mode": "markers",
         "name": "Feasible Trial",
         "showlegend": false,
         "type": "scatter",
         "x": [
          2,
          2,
          1,
          2,
          1,
          1,
          1,
          1,
          1,
          1,
          1,
          1,
          1,
          1,
          1,
          2,
          1,
          1,
          1,
          1,
          1,
          1,
          1,
          1,
          1,
          1,
          1,
          1,
          1,
          1,
          2,
          1,
          1,
          1,
          1,
          1,
          1,
          1,
          1,
          1
         ],
         "xaxis": "x11",
         "y": [
          0.1248062459518126,
          0.18550895913745297,
          0.1907760123015208,
          0.16657345853508188,
          0.14474113728042967,
          0.161148261528122,
          0.13714949392899192,
          0.13891604018175807,
          0.1397480575469616,
          0.10047679932934811,
          0.1214554615025169,
          0.10082833671945111,
          0.1154754304505843,
          0.1484977711206744,
          0.13355346687915795,
          0.10773866631139353,
          0.135389527336228,
          0.1268199996480464,
          0.1459865983964105,
          0.13215914314856453,
          0.1203652038223573,
          0.14342211918503453,
          0.1116614647957342,
          0.10695467716071022,
          0.12288339206509208,
          0.10482194445211092,
          0.11806197881223826,
          0.11231638498621203,
          0.15157105362996692,
          0.1367781767123146,
          0.11940999884519499,
          0.15954728376816632,
          0.1328380306525573,
          0.11490700020310449,
          0.13645046663521485,
          0.13592560996267433,
          0.13512039755166452,
          0.11406747148220177,
          0.12048916187989218,
          0.10324976064678713
         ],
         "yaxis": "y11"
        },
        {
         "colorbar": {
          "title": {
           "text": "Objective Value"
          }
         },
         "colorscale": [
          [
           0,
           "rgb(247,251,255)"
          ],
          [
           0.125,
           "rgb(222,235,247)"
          ],
          [
           0.25,
           "rgb(198,219,239)"
          ],
          [
           0.375,
           "rgb(158,202,225)"
          ],
          [
           0.5,
           "rgb(107,174,214)"
          ],
          [
           0.625,
           "rgb(66,146,198)"
          ],
          [
           0.75,
           "rgb(33,113,181)"
          ],
          [
           0.875,
           "rgb(8,81,156)"
          ],
          [
           1,
           "rgb(8,48,107)"
          ]
         ],
         "connectgaps": true,
         "contours": {
          "coloring": "heatmap"
         },
         "hoverinfo": "none",
         "line": {
          "smoothing": 1.3
         },
         "reversescale": false,
         "showscale": false,
         "type": "contour",
         "x": [
          0.95,
          1,
          2,
          2.05
         ],
         "xaxis": "x17",
         "y": [
          44,
          80,
          81,
          133,
          134,
          172,
          201,
          224,
          285,
          312,
          393,
          404,
          410,
          438,
          465,
          488,
          504,
          513,
          551,
          576,
          580,
          641,
          651,
          656,
          660,
          671,
          693,
          696,
          697,
          710,
          719,
          728,
          742,
          746,
          760,
          763,
          788,
          798,
          800,
          836
         ],
         "yaxis": "y17",
         "z": [
          [
           null,
           null,
           null,
           null
          ],
          [
           null,
           0.9704996943473816,
           null,
           null
          ],
          [
           null,
           0.9671884179115295,
           null,
           null
          ],
          [
           null,
           null,
           0.9813365340232849,
           null
          ],
          [
           null,
           0.9771221876144409,
           null,
           null
          ],
          [
           null,
           null,
           0.9783263206481934,
           null
          ],
          [
           null,
           null,
           0.984647810459137,
           null
          ],
          [
           null,
           0.9792293906211853,
           null,
           null
          ],
          [
           null,
           null,
           0.9852498769760132,
           null
          ],
          [
           null,
           null,
           0.979530394077301,
           null
          ],
          [
           null,
           0.9849488139152527,
           null,
           null
          ],
          [
           null,
           0.9873570203781128,
           null,
           null
          ],
          [
           null,
           0.9864539504051208,
           null,
           null
          ],
          [
           null,
           0.9834437370300293,
           null,
           null
          ],
          [
           null,
           0.9867549538612366,
           null,
           null
          ],
          [
           null,
           0.9825406670570374,
           null,
           null
          ],
          [
           null,
           0.9873570203781128,
           null,
           null
          ],
          [
           null,
           0.9855508804321289,
           null,
           null
          ],
          [
           null,
           0.9798313975334167,
           null,
           null
          ],
          [
           null,
           0.9870560169219971,
           null,
           null
          ],
          [
           null,
           0.9861529469490051,
           null,
           null
          ],
          [
           null,
           0.9816375970840454,
           null,
           null
          ],
          [
           null,
           0.9810355305671692,
           null,
           null
          ],
          [
           null,
           0.9864539504051208,
           null,
           null
          ],
          [
           null,
           0.9855508804321289,
           null,
           null
          ],
          [
           null,
           0.9867549538612366,
           null,
           null
          ],
          [
           null,
           0.987959086894989,
           null,
           null
          ],
          [
           null,
           0.9855508804321289,
           null,
           null
          ],
          [
           null,
           0.9873570203781128,
           null,
           null
          ],
          [
           null,
           0.9864539504051208,
           null,
           null
          ],
          [
           null,
           0.9825406670570374,
           null,
           null
          ],
          [
           null,
           0.9858518838882446,
           null,
           null
          ],
          [
           null,
           0.987959086894989,
           null,
           null
          ],
          [
           null,
           0.9864539504051208,
           null,
           null
          ],
          [
           null,
           0.9819386005401611,
           null,
           null
          ],
          [
           null,
           0.987959086894989,
           null,
           null
          ],
          [
           null,
           0.9861529469490051,
           null,
           null
          ],
          [
           null,
           0.9873570203781128,
           null,
           null
          ],
          [
           null,
           0.9873570203781128,
           null,
           null
          ],
          [
           null,
           null,
           null,
           null
          ]
         ]
        },
        {
         "marker": {
          "color": "black",
          "line": {
           "color": "Gray",
           "width": 2
          }
         },
         "mode": "markers",
         "name": "Feasible Trial",
         "showlegend": false,
         "type": "scatter",
         "x": [
          2,
          2,
          1,
          2,
          1,
          1,
          1,
          1,
          1,
          1,
          1,
          1,
          1,
          1,
          1,
          2,
          1,
          1,
          1,
          1,
          1,
          1,
          1,
          1,
          1,
          1,
          1,
          1,
          1,
          1,
          2,
          1,
          1,
          1,
          1,
          1,
          1,
          1,
          1,
          1
         ],
         "xaxis": "x17",
         "y": [
          172,
          133,
          81,
          312,
          719,
          641,
          763,
          800,
          788,
          656,
          580,
          697,
          710,
          728,
          671,
          201,
          742,
          746,
          224,
          80,
          693,
          488,
          693,
          651,
          134,
          696,
          660,
          393,
          551,
          798,
          285,
          760,
          660,
          576,
          465,
          513,
          504,
          404,
          438,
          410
         ],
         "yaxis": "y17"
        },
        {
         "colorbar": {
          "title": {
           "text": "Objective Value"
          }
         },
         "colorscale": [
          [
           0,
           "rgb(247,251,255)"
          ],
          [
           0.125,
           "rgb(222,235,247)"
          ],
          [
           0.25,
           "rgb(198,219,239)"
          ],
          [
           0.375,
           "rgb(158,202,225)"
          ],
          [
           0.5,
           "rgb(107,174,214)"
          ],
          [
           0.625,
           "rgb(66,146,198)"
          ],
          [
           0.75,
           "rgb(33,113,181)"
          ],
          [
           0.875,
           "rgb(8,81,156)"
          ],
          [
           1,
           "rgb(8,48,107)"
          ]
         ],
         "connectgaps": true,
         "contours": {
          "coloring": "heatmap"
         },
         "hoverinfo": "none",
         "line": {
          "smoothing": 1.3
         },
         "reversescale": false,
         "showscale": false,
         "type": "contour",
         "x": [
          0.95,
          1,
          2,
          2.05
         ],
         "xaxis": "x23",
         "y": [
          0.000089406240327015,
          0.00010014504120445575,
          0.00010027047928771214,
          0.00010028333971593998,
          0.00010048844365348455,
          0.00010053327085196988,
          0.00010077357974050429,
          0.00010082282939436439,
          0.00010157391045421977,
          0.00010170307178885521,
          0.00010243781588344641,
          0.00010248001130871688,
          0.00010306416392836265,
          0.0001031032406478315,
          0.00010419211491519788,
          0.0001045580606273782,
          0.00010597388762724996,
          0.0001060880228915066,
          0.00010893815090113448,
          0.00010976760892334912,
          0.00011195019969690164,
          0.00011228229231301858,
          0.00011326523260917271,
          0.00011521444028996555,
          0.00011618314601754972,
          0.00011888418796031753,
          0.00011921265990106719,
          0.00012161460160903801,
          0.00012339564439166133,
          0.00012426357165036393,
          0.000125547663308625,
          0.00012676457742972808,
          0.00013103440643135768,
          0.00014594104103371984,
          0.00016181724286239138,
          0.0001643847681891162,
          0.0005097814609911406,
          0.0006269130974735595,
          0.0006822877031608912,
          0.0008495452042067824,
          0.0009679697628295381,
          0.0010842349642337062
         ],
         "yaxis": "y23",
         "z": [
          [
           null,
           null,
           null,
           null
          ],
          [
           null,
           0.9867549538612366,
           null,
           null
          ],
          [
           null,
           0.987959086894989,
           null,
           null
          ],
          [
           null,
           0.9852498769760132,
           null,
           null
          ],
          [
           null,
           0.9873570203781128,
           null,
           null
          ],
          [
           null,
           0.9810355305671692,
           null,
           null
          ],
          [
           null,
           0.9855508804321289,
           null,
           null
          ],
          [
           null,
           0.9798313975334167,
           null,
           null
          ],
          [
           null,
           0.987959086894989,
           null,
           null
          ],
          [
           null,
           0.9873570203781128,
           null,
           null
          ],
          [
           null,
           0.9873570203781128,
           null,
           null
          ],
          [
           null,
           0.9864539504051208,
           null,
           null
          ],
          [
           null,
           0.9861529469490051,
           null,
           null
          ],
          [
           null,
           0.987959086894989,
           null,
           null
          ],
          [
           null,
           0.9873570203781128,
           null,
           null
          ],
          [
           null,
           0.9834437370300293,
           null,
           null
          ],
          [
           null,
           0.9855508804321289,
           null,
           null
          ],
          [
           null,
           0.9870560169219971,
           null,
           null
          ],
          [
           null,
           0.9858518838882446,
           null,
           null
          ],
          [
           null,
           0.9771221876144409,
           null,
           null
          ],
          [
           null,
           null,
           0.9852498769760132,
           null
          ],
          [
           null,
           0.9876580238342285,
           null,
           null
          ],
          [
           null,
           0.9864539504051208,
           null,
           null
          ],
          [
           null,
           0.9864539504051208,
           null,
           null
          ],
          [
           null,
           0.9825406670570374,
           null,
           null
          ],
          [
           null,
           0.9864539504051208,
           null,
           null
          ],
          [
           null,
           0.9855508804321289,
           null,
           null
          ],
          [
           null,
           0.9873570203781128,
           null,
           null
          ],
          [
           null,
           0.9867549538612366,
           null,
           null
          ],
          [
           null,
           0.9849488139152527,
           null,
           null
          ],
          [
           null,
           0.9819386005401611,
           null,
           null
          ],
          [
           null,
           0.9861529469490051,
           null,
           null
          ],
          [
           null,
           0.9825406670570374,
           null,
           null
          ],
          [
           null,
           null,
           0.984647810459137,
           null
          ],
          [
           null,
           0.9671884179115295,
           null,
           null
          ],
          [
           null,
           0.9704996943473816,
           null,
           null
          ],
          [
           null,
           null,
           0.9813365340232849,
           null
          ],
          [
           null,
           null,
           0.9783263206481934,
           null
          ],
          [
           null,
           0.9816375970840454,
           null,
           null
          ],
          [
           null,
           null,
           0.979530394077301,
           null
          ],
          [
           null,
           0.9792293906211853,
           null,
           null
          ],
          [
           null,
           null,
           null,
           null
          ]
         ]
        },
        {
         "marker": {
          "color": "black",
          "line": {
           "color": "Gray",
           "width": 2
          }
         },
         "mode": "markers",
         "name": "Feasible Trial",
         "showlegend": false,
         "type": "scatter",
         "x": [
          2,
          2,
          1,
          2,
          1,
          1,
          1,
          1,
          1,
          1,
          1,
          1,
          1,
          1,
          1,
          2,
          1,
          1,
          1,
          1,
          1,
          1,
          1,
          1,
          1,
          1,
          1,
          1,
          1,
          1,
          2,
          1,
          1,
          1,
          1,
          1,
          1,
          1,
          1,
          1
         ],
         "xaxis": "x23",
         "y": [
          0.0006269130974735595,
          0.0005097814609911406,
          0.00016181724286239138,
          0.0008495452042067824,
          0.00013103440643135768,
          0.0006822877031608912,
          0.00010157391045421977,
          0.00010243781588344641,
          0.00010306416392836265,
          0.00010248001130871688,
          0.00012676457742972808,
          0.00010170307178885521,
          0.00011888418796031753,
          0.00010893815090113448,
          0.00010014504120445575,
          0.00014594104103371984,
          0.0001031032406478315,
          0.00011521444028996555,
          0.0009679697628295381,
          0.0001643847681891162,
          0.00011228229231301858,
          0.00011618314601754972,
          0.00010027047928771214,
          0.00010053327085196988,
          0.00010976760892334912,
          0.00010597388762724996,
          0.00010077357974050429,
          0.00012426357165036393,
          0.00010082282939436439,
          0.00010048844365348455,
          0.00011195019969690164,
          0.000125547663308625,
          0.00010028333971593998,
          0.0001060880228915066,
          0.00012339564439166133,
          0.00011921265990106719,
          0.00012161460160903801,
          0.00010419211491519788,
          0.0001045580606273782,
          0.00011326523260917271
         ],
         "yaxis": "y23"
        },
        {
         "type": "scatter",
         "xaxis": "x29",
         "yaxis": "y29"
        },
        {
         "colorbar": {
          "title": {
           "text": "Objective Value"
          }
         },
         "colorscale": [
          [
           0,
           "rgb(247,251,255)"
          ],
          [
           0.125,
           "rgb(222,235,247)"
          ],
          [
           0.25,
           "rgb(198,219,239)"
          ],
          [
           0.375,
           "rgb(158,202,225)"
          ],
          [
           0.5,
           "rgb(107,174,214)"
          ],
          [
           0.625,
           "rgb(66,146,198)"
          ],
          [
           0.75,
           "rgb(33,113,181)"
          ],
          [
           0.875,
           "rgb(8,81,156)"
          ],
          [
           1,
           "rgb(8,48,107)"
          ]
         ],
         "connectgaps": true,
         "contours": {
          "coloring": "heatmap"
         },
         "hoverinfo": "none",
         "line": {
          "smoothing": 1.3
         },
         "reversescale": false,
         "showscale": false,
         "type": "contour",
         "x": [
          0.95,
          1,
          2,
          2.05
         ],
         "xaxis": "x35",
         "y": [
          "False",
          "True"
         ],
         "yaxis": "y35",
         "z": [
          [
           null,
           0.987959086894989,
           0.9852498769760132,
           null
          ],
          [
           null,
           0.9825406670570374,
           0.9813365340232849,
           null
          ]
         ]
        },
        {
         "marker": {
          "color": "black",
          "line": {
           "color": "Gray",
           "width": 2
          }
         },
         "mode": "markers",
         "name": "Feasible Trial",
         "showlegend": false,
         "type": "scatter",
         "x": [
          2,
          2,
          1,
          2,
          1,
          1,
          1,
          1,
          1,
          1,
          1,
          1,
          1,
          1,
          1,
          2,
          1,
          1,
          1,
          1,
          1,
          1,
          1,
          1,
          1,
          1,
          1,
          1,
          1,
          1,
          2,
          1,
          1,
          1,
          1,
          1,
          1,
          1,
          1,
          1
         ],
         "xaxis": "x35",
         "y": [
          "True",
          "True",
          "False",
          "False",
          "True",
          "True",
          "False",
          "False",
          "False",
          "False",
          "False",
          "False",
          "False",
          "False",
          "False",
          "False",
          "False",
          "False",
          "True",
          "True",
          "False",
          "True",
          "False",
          "True",
          "False",
          "False",
          "False",
          "False",
          "True",
          "False",
          "False",
          "True",
          "False",
          "False",
          "False",
          "False",
          "False",
          "False",
          "False",
          "False"
         ],
         "yaxis": "y35"
        },
        {
         "colorbar": {
          "title": {
           "text": "Objective Value"
          }
         },
         "colorscale": [
          [
           0,
           "rgb(247,251,255)"
          ],
          [
           0.125,
           "rgb(222,235,247)"
          ],
          [
           0.25,
           "rgb(198,219,239)"
          ],
          [
           0.375,
           "rgb(158,202,225)"
          ],
          [
           0.5,
           "rgb(107,174,214)"
          ],
          [
           0.625,
           "rgb(66,146,198)"
          ],
          [
           0.75,
           "rgb(33,113,181)"
          ],
          [
           0.875,
           "rgb(8,81,156)"
          ],
          [
           1,
           "rgb(8,48,107)"
          ]
         ],
         "connectgaps": true,
         "contours": {
          "coloring": "heatmap"
         },
         "hoverinfo": "none",
         "line": {
          "smoothing": 1.3
         },
         "reversescale": false,
         "showscale": false,
         "type": "contour",
         "x": [
          "False",
          "True"
         ],
         "xaxis": "x6",
         "y": [
          "relu",
          "tanh"
         ],
         "yaxis": "y6",
         "z": [
          [
           0.979530394077301,
           0.9825406670570374
          ],
          [
           0.987959086894989,
           0.9825406670570374
          ]
         ]
        },
        {
         "marker": {
          "color": "black",
          "line": {
           "color": "Gray",
           "width": 2
          }
         },
         "mode": "markers",
         "name": "Feasible Trial",
         "showlegend": false,
         "type": "scatter",
         "x": [
          "True",
          "True",
          "False",
          "False",
          "True",
          "True",
          "False",
          "False",
          "False",
          "False",
          "False",
          "False",
          "False",
          "False",
          "False",
          "False",
          "False",
          "False",
          "True",
          "True",
          "False",
          "True",
          "False",
          "True",
          "False",
          "False",
          "False",
          "False",
          "True",
          "False",
          "False",
          "True",
          "False",
          "False",
          "False",
          "False",
          "False",
          "False",
          "False",
          "False"
         ],
         "xaxis": "x6",
         "y": [
          "tanh",
          "relu",
          "relu",
          "relu",
          "relu",
          "tanh",
          "tanh",
          "tanh",
          "tanh",
          "tanh",
          "tanh",
          "tanh",
          "tanh",
          "tanh",
          "tanh",
          "tanh",
          "tanh",
          "tanh",
          "tanh",
          "relu",
          "tanh",
          "tanh",
          "tanh",
          "tanh",
          "relu",
          "tanh",
          "tanh",
          "tanh",
          "tanh",
          "tanh",
          "tanh",
          "tanh",
          "tanh",
          "tanh",
          "tanh",
          "tanh",
          "tanh",
          "tanh",
          "tanh",
          "tanh"
         ],
         "yaxis": "y6"
        },
        {
         "colorbar": {
          "title": {
           "text": "Objective Value"
          }
         },
         "colorscale": [
          [
           0,
           "rgb(247,251,255)"
          ],
          [
           0.125,
           "rgb(222,235,247)"
          ],
          [
           0.25,
           "rgb(198,219,239)"
          ],
          [
           0.375,
           "rgb(158,202,225)"
          ],
          [
           0.5,
           "rgb(107,174,214)"
          ],
          [
           0.625,
           "rgb(66,146,198)"
          ],
          [
           0.75,
           "rgb(33,113,181)"
          ],
          [
           0.875,
           "rgb(8,81,156)"
          ],
          [
           1,
           "rgb(8,48,107)"
          ]
         ],
         "connectgaps": true,
         "contours": {
          "coloring": "heatmap"
         },
         "hoverinfo": "none",
         "line": {
          "smoothing": 1.3
         },
         "reversescale": false,
         "showscale": false,
         "type": "contour",
         "x": [
          "False",
          "True"
         ],
         "xaxis": "x12",
         "y": [
          0.09596183868073947,
          0.10047679932934811,
          0.10082833671945111,
          0.10324976064678713,
          0.10482194445211092,
          0.10695467716071022,
          0.10773866631139353,
          0.1116614647957342,
          0.11231638498621203,
          0.11406747148220177,
          0.11490700020310449,
          0.1154754304505843,
          0.11806197881223826,
          0.11940999884519499,
          0.1203652038223573,
          0.12048916187989218,
          0.1214554615025169,
          0.12288339206509208,
          0.1248062459518126,
          0.1268199996480464,
          0.13215914314856453,
          0.1328380306525573,
          0.13355346687915795,
          0.13512039755166452,
          0.135389527336228,
          0.13592560996267433,
          0.13645046663521485,
          0.1367781767123146,
          0.13714949392899192,
          0.13891604018175807,
          0.1397480575469616,
          0.14342211918503453,
          0.14474113728042967,
          0.1459865983964105,
          0.1484977711206744,
          0.15157105362996692,
          0.15954728376816632,
          0.161148261528122,
          0.16657345853508188,
          0.18550895913745297,
          0.1907760123015208,
          0.19529097295012943
         ],
         "yaxis": "y12",
         "z": [
          [
           null,
           null
          ],
          [
           0.9864539504051208,
           null
          ],
          [
           0.9873570203781128,
           null
          ],
          [
           0.9864539504051208,
           null
          ],
          [
           0.9855508804321289,
           null
          ],
          [
           null,
           0.9810355305671692
          ],
          [
           0.984647810459137,
           null
          ],
          [
           0.987959086894989,
           null
          ],
          [
           0.9849488139152527,
           null
          ],
          [
           0.9873570203781128,
           null
          ],
          [
           0.9870560169219971,
           null
          ],
          [
           0.9864539504051208,
           null
          ],
          [
           0.9855508804321289,
           null
          ],
          [
           0.9852498769760132,
           null
          ],
          [
           0.9876580238342285,
           null
          ],
          [
           0.9834437370300293,
           null
          ],
          [
           0.9861529469490051,
           null
          ],
          [
           0.9771221876144409,
           null
          ],
          [
           null,
           0.9783263206481934
          ],
          [
           0.9864539504051208,
           null
          ],
          [
           null,
           0.9704996943473816
          ],
          [
           0.9852498769760132,
           null
          ],
          [
           0.9867549538612366,
           null
          ],
          [
           0.9873570203781128,
           null
          ],
          [
           0.987959086894989,
           null
          ],
          [
           0.9855508804321289,
           null
          ],
          [
           0.9867549538612366,
           null
          ],
          [
           0.9873570203781128,
           null
          ],
          [
           0.987959086894989,
           null
          ],
          [
           0.9873570203781128,
           null
          ],
          [
           0.9861529469490051,
           null
          ],
          [
           null,
           0.9825406670570374
          ],
          [
           null,
           0.9825406670570374
          ],
          [
           null,
           0.9792293906211853
          ],
          [
           0.9858518838882446,
           null
          ],
          [
           null,
           0.9798313975334167
          ],
          [
           null,
           0.9819386005401611
          ],
          [
           null,
           0.9816375970840454
          ],
          [
           0.979530394077301,
           null
          ],
          [
           null,
           0.9813365340232849
          ],
          [
           0.9671884179115295,
           null
          ],
          [
           null,
           null
          ]
         ]
        },
        {
         "marker": {
          "color": "black",
          "line": {
           "color": "Gray",
           "width": 2
          }
         },
         "mode": "markers",
         "name": "Feasible Trial",
         "showlegend": false,
         "type": "scatter",
         "x": [
          "True",
          "True",
          "False",
          "False",
          "True",
          "True",
          "False",
          "False",
          "False",
          "False",
          "False",
          "False",
          "False",
          "False",
          "False",
          "False",
          "False",
          "False",
          "True",
          "True",
          "False",
          "True",
          "False",
          "True",
          "False",
          "False",
          "False",
          "False",
          "True",
          "False",
          "False",
          "True",
          "False",
          "False",
          "False",
          "False",
          "False",
          "False",
          "False",
          "False"
         ],
         "xaxis": "x12",
         "y": [
          0.1248062459518126,
          0.18550895913745297,
          0.1907760123015208,
          0.16657345853508188,
          0.14474113728042967,
          0.161148261528122,
          0.13714949392899192,
          0.13891604018175807,
          0.1397480575469616,
          0.10047679932934811,
          0.1214554615025169,
          0.10082833671945111,
          0.1154754304505843,
          0.1484977711206744,
          0.13355346687915795,
          0.10773866631139353,
          0.135389527336228,
          0.1268199996480464,
          0.1459865983964105,
          0.13215914314856453,
          0.1203652038223573,
          0.14342211918503453,
          0.1116614647957342,
          0.10695467716071022,
          0.12288339206509208,
          0.10482194445211092,
          0.11806197881223826,
          0.11231638498621203,
          0.15157105362996692,
          0.1367781767123146,
          0.11940999884519499,
          0.15954728376816632,
          0.1328380306525573,
          0.11490700020310449,
          0.13645046663521485,
          0.13592560996267433,
          0.13512039755166452,
          0.11406747148220177,
          0.12048916187989218,
          0.10324976064678713
         ],
         "yaxis": "y12"
        },
        {
         "colorbar": {
          "title": {
           "text": "Objective Value"
          }
         },
         "colorscale": [
          [
           0,
           "rgb(247,251,255)"
          ],
          [
           0.125,
           "rgb(222,235,247)"
          ],
          [
           0.25,
           "rgb(198,219,239)"
          ],
          [
           0.375,
           "rgb(158,202,225)"
          ],
          [
           0.5,
           "rgb(107,174,214)"
          ],
          [
           0.625,
           "rgb(66,146,198)"
          ],
          [
           0.75,
           "rgb(33,113,181)"
          ],
          [
           0.875,
           "rgb(8,81,156)"
          ],
          [
           1,
           "rgb(8,48,107)"
          ]
         ],
         "connectgaps": true,
         "contours": {
          "coloring": "heatmap"
         },
         "hoverinfo": "none",
         "line": {
          "smoothing": 1.3
         },
         "reversescale": false,
         "showscale": false,
         "type": "contour",
         "x": [
          "False",
          "True"
         ],
         "xaxis": "x18",
         "y": [
          44,
          80,
          81,
          133,
          134,
          172,
          201,
          224,
          285,
          312,
          393,
          404,
          410,
          438,
          465,
          488,
          504,
          513,
          551,
          576,
          580,
          641,
          651,
          656,
          660,
          671,
          693,
          696,
          697,
          710,
          719,
          728,
          742,
          746,
          760,
          763,
          788,
          798,
          800,
          836
         ],
         "yaxis": "y18",
         "z": [
          [
           null,
           null
          ],
          [
           null,
           0.9704996943473816
          ],
          [
           0.9671884179115295,
           null
          ],
          [
           null,
           0.9813365340232849
          ],
          [
           0.9771221876144409,
           null
          ],
          [
           null,
           0.9783263206481934
          ],
          [
           0.984647810459137,
           null
          ],
          [
           null,
           0.9792293906211853
          ],
          [
           0.9852498769760132,
           null
          ],
          [
           0.979530394077301,
           null
          ],
          [
           0.9849488139152527,
           null
          ],
          [
           0.9873570203781128,
           null
          ],
          [
           0.9864539504051208,
           null
          ],
          [
           0.9834437370300293,
           null
          ],
          [
           0.9867549538612366,
           null
          ],
          [
           null,
           0.9825406670570374
          ],
          [
           0.9873570203781128,
           null
          ],
          [
           0.9855508804321289,
           null
          ],
          [
           null,
           0.9798313975334167
          ],
          [
           0.9870560169219971,
           null
          ],
          [
           0.9861529469490051,
           null
          ],
          [
           null,
           0.9816375970840454
          ],
          [
           null,
           0.9810355305671692
          ],
          [
           0.9864539504051208,
           null
          ],
          [
           0.9855508804321289,
           null
          ],
          [
           0.9867549538612366,
           null
          ],
          [
           0.987959086894989,
           null
          ],
          [
           0.9855508804321289,
           null
          ],
          [
           0.9873570203781128,
           null
          ],
          [
           0.9864539504051208,
           null
          ],
          [
           null,
           0.9825406670570374
          ],
          [
           0.9858518838882446,
           null
          ],
          [
           0.987959086894989,
           null
          ],
          [
           0.9864539504051208,
           null
          ],
          [
           null,
           0.9819386005401611
          ],
          [
           0.987959086894989,
           null
          ],
          [
           0.9861529469490051,
           null
          ],
          [
           0.9873570203781128,
           null
          ],
          [
           0.9873570203781128,
           null
          ],
          [
           null,
           null
          ]
         ]
        },
        {
         "marker": {
          "color": "black",
          "line": {
           "color": "Gray",
           "width": 2
          }
         },
         "mode": "markers",
         "name": "Feasible Trial",
         "showlegend": false,
         "type": "scatter",
         "x": [
          "True",
          "True",
          "False",
          "False",
          "True",
          "True",
          "False",
          "False",
          "False",
          "False",
          "False",
          "False",
          "False",
          "False",
          "False",
          "False",
          "False",
          "False",
          "True",
          "True",
          "False",
          "True",
          "False",
          "True",
          "False",
          "False",
          "False",
          "False",
          "True",
          "False",
          "False",
          "True",
          "False",
          "False",
          "False",
          "False",
          "False",
          "False",
          "False",
          "False"
         ],
         "xaxis": "x18",
         "y": [
          172,
          133,
          81,
          312,
          719,
          641,
          763,
          800,
          788,
          656,
          580,
          697,
          710,
          728,
          671,
          201,
          742,
          746,
          224,
          80,
          693,
          488,
          693,
          651,
          134,
          696,
          660,
          393,
          551,
          798,
          285,
          760,
          660,
          576,
          465,
          513,
          504,
          404,
          438,
          410
         ],
         "yaxis": "y18"
        },
        {
         "colorbar": {
          "title": {
           "text": "Objective Value"
          }
         },
         "colorscale": [
          [
           0,
           "rgb(247,251,255)"
          ],
          [
           0.125,
           "rgb(222,235,247)"
          ],
          [
           0.25,
           "rgb(198,219,239)"
          ],
          [
           0.375,
           "rgb(158,202,225)"
          ],
          [
           0.5,
           "rgb(107,174,214)"
          ],
          [
           0.625,
           "rgb(66,146,198)"
          ],
          [
           0.75,
           "rgb(33,113,181)"
          ],
          [
           0.875,
           "rgb(8,81,156)"
          ],
          [
           1,
           "rgb(8,48,107)"
          ]
         ],
         "connectgaps": true,
         "contours": {
          "coloring": "heatmap"
         },
         "hoverinfo": "none",
         "line": {
          "smoothing": 1.3
         },
         "reversescale": false,
         "showscale": false,
         "type": "contour",
         "x": [
          "False",
          "True"
         ],
         "xaxis": "x24",
         "y": [
          0.000089406240327015,
          0.00010014504120445575,
          0.00010027047928771214,
          0.00010028333971593998,
          0.00010048844365348455,
          0.00010053327085196988,
          0.00010077357974050429,
          0.00010082282939436439,
          0.00010157391045421977,
          0.00010170307178885521,
          0.00010243781588344641,
          0.00010248001130871688,
          0.00010306416392836265,
          0.0001031032406478315,
          0.00010419211491519788,
          0.0001045580606273782,
          0.00010597388762724996,
          0.0001060880228915066,
          0.00010893815090113448,
          0.00010976760892334912,
          0.00011195019969690164,
          0.00011228229231301858,
          0.00011326523260917271,
          0.00011521444028996555,
          0.00011618314601754972,
          0.00011888418796031753,
          0.00011921265990106719,
          0.00012161460160903801,
          0.00012339564439166133,
          0.00012426357165036393,
          0.000125547663308625,
          0.00012676457742972808,
          0.00013103440643135768,
          0.00014594104103371984,
          0.00016181724286239138,
          0.0001643847681891162,
          0.0005097814609911406,
          0.0006269130974735595,
          0.0006822877031608912,
          0.0008495452042067824,
          0.0009679697628295381,
          0.0010842349642337062
         ],
         "yaxis": "y24",
         "z": [
          [
           null,
           null
          ],
          [
           0.9867549538612366,
           null
          ],
          [
           0.987959086894989,
           null
          ],
          [
           0.9852498769760132,
           null
          ],
          [
           0.9873570203781128,
           null
          ],
          [
           null,
           0.9810355305671692
          ],
          [
           0.9855508804321289,
           null
          ],
          [
           null,
           0.9798313975334167
          ],
          [
           0.987959086894989,
           null
          ],
          [
           0.9873570203781128,
           null
          ],
          [
           0.9873570203781128,
           null
          ],
          [
           0.9864539504051208,
           null
          ],
          [
           0.9861529469490051,
           null
          ],
          [
           0.987959086894989,
           null
          ],
          [
           0.9873570203781128,
           null
          ],
          [
           0.9834437370300293,
           null
          ],
          [
           0.9855508804321289,
           null
          ],
          [
           0.9870560169219971,
           null
          ],
          [
           0.9858518838882446,
           null
          ],
          [
           0.9771221876144409,
           null
          ],
          [
           0.9852498769760132,
           null
          ],
          [
           0.9876580238342285,
           null
          ],
          [
           0.9864539504051208,
           null
          ],
          [
           0.9864539504051208,
           null
          ],
          [
           null,
           0.9825406670570374
          ],
          [
           0.9864539504051208,
           null
          ],
          [
           0.9855508804321289,
           null
          ],
          [
           0.9873570203781128,
           null
          ],
          [
           0.9867549538612366,
           null
          ],
          [
           0.9849488139152527,
           null
          ],
          [
           null,
           0.9819386005401611
          ],
          [
           0.9861529469490051,
           null
          ],
          [
           null,
           0.9825406670570374
          ],
          [
           0.984647810459137,
           null
          ],
          [
           0.9671884179115295,
           null
          ],
          [
           null,
           0.9704996943473816
          ],
          [
           null,
           0.9813365340232849
          ],
          [
           null,
           0.9783263206481934
          ],
          [
           null,
           0.9816375970840454
          ],
          [
           0.979530394077301,
           null
          ],
          [
           null,
           0.9792293906211853
          ],
          [
           null,
           null
          ]
         ]
        },
        {
         "marker": {
          "color": "black",
          "line": {
           "color": "Gray",
           "width": 2
          }
         },
         "mode": "markers",
         "name": "Feasible Trial",
         "showlegend": false,
         "type": "scatter",
         "x": [
          "True",
          "True",
          "False",
          "False",
          "True",
          "True",
          "False",
          "False",
          "False",
          "False",
          "False",
          "False",
          "False",
          "False",
          "False",
          "False",
          "False",
          "False",
          "True",
          "True",
          "False",
          "True",
          "False",
          "True",
          "False",
          "False",
          "False",
          "False",
          "True",
          "False",
          "False",
          "True",
          "False",
          "False",
          "False",
          "False",
          "False",
          "False",
          "False",
          "False"
         ],
         "xaxis": "x24",
         "y": [
          0.0006269130974735595,
          0.0005097814609911406,
          0.00016181724286239138,
          0.0008495452042067824,
          0.00013103440643135768,
          0.0006822877031608912,
          0.00010157391045421977,
          0.00010243781588344641,
          0.00010306416392836265,
          0.00010248001130871688,
          0.00012676457742972808,
          0.00010170307178885521,
          0.00011888418796031753,
          0.00010893815090113448,
          0.00010014504120445575,
          0.00014594104103371984,
          0.0001031032406478315,
          0.00011521444028996555,
          0.0009679697628295381,
          0.0001643847681891162,
          0.00011228229231301858,
          0.00011618314601754972,
          0.00010027047928771214,
          0.00010053327085196988,
          0.00010976760892334912,
          0.00010597388762724996,
          0.00010077357974050429,
          0.00012426357165036393,
          0.00010082282939436439,
          0.00010048844365348455,
          0.00011195019969690164,
          0.000125547663308625,
          0.00010028333971593998,
          0.0001060880228915066,
          0.00012339564439166133,
          0.00011921265990106719,
          0.00012161460160903801,
          0.00010419211491519788,
          0.0001045580606273782,
          0.00011326523260917271
         ],
         "yaxis": "y24"
        },
        {
         "colorbar": {
          "title": {
           "text": "Objective Value"
          }
         },
         "colorscale": [
          [
           0,
           "rgb(247,251,255)"
          ],
          [
           0.125,
           "rgb(222,235,247)"
          ],
          [
           0.25,
           "rgb(198,219,239)"
          ],
          [
           0.375,
           "rgb(158,202,225)"
          ],
          [
           0.5,
           "rgb(107,174,214)"
          ],
          [
           0.625,
           "rgb(66,146,198)"
          ],
          [
           0.75,
           "rgb(33,113,181)"
          ],
          [
           0.875,
           "rgb(8,81,156)"
          ],
          [
           1,
           "rgb(8,48,107)"
          ]
         ],
         "connectgaps": true,
         "contours": {
          "coloring": "heatmap"
         },
         "hoverinfo": "none",
         "line": {
          "smoothing": 1.3
         },
         "reversescale": false,
         "showscale": false,
         "type": "contour",
         "x": [
          "False",
          "True"
         ],
         "xaxis": "x30",
         "y": [
          0.95,
          1,
          2,
          2.05
         ],
         "yaxis": "y30",
         "z": [
          [
           null,
           null
          ],
          [
           0.987959086894989,
           0.9825406670570374
          ],
          [
           0.9852498769760132,
           0.9813365340232849
          ],
          [
           null,
           null
          ]
         ]
        },
        {
         "marker": {
          "color": "black",
          "line": {
           "color": "Gray",
           "width": 2
          }
         },
         "mode": "markers",
         "name": "Feasible Trial",
         "showlegend": false,
         "type": "scatter",
         "x": [
          "True",
          "True",
          "False",
          "False",
          "True",
          "True",
          "False",
          "False",
          "False",
          "False",
          "False",
          "False",
          "False",
          "False",
          "False",
          "False",
          "False",
          "False",
          "True",
          "True",
          "False",
          "True",
          "False",
          "True",
          "False",
          "False",
          "False",
          "False",
          "True",
          "False",
          "False",
          "True",
          "False",
          "False",
          "False",
          "False",
          "False",
          "False",
          "False",
          "False"
         ],
         "xaxis": "x30",
         "y": [
          2,
          2,
          1,
          2,
          1,
          1,
          1,
          1,
          1,
          1,
          1,
          1,
          1,
          1,
          1,
          2,
          1,
          1,
          1,
          1,
          1,
          1,
          1,
          1,
          1,
          1,
          1,
          1,
          1,
          1,
          2,
          1,
          1,
          1,
          1,
          1,
          1,
          1,
          1,
          1
         ],
         "yaxis": "y30"
        },
        {
         "type": "scatter",
         "xaxis": "x36",
         "yaxis": "y36"
        }
       ],
       "layout": {
        "template": {
         "data": {
          "bar": [
           {
            "error_x": {
             "color": "#2a3f5f"
            },
            "error_y": {
             "color": "#2a3f5f"
            },
            "marker": {
             "line": {
              "color": "#E5ECF6",
              "width": 0.5
             },
             "pattern": {
              "fillmode": "overlay",
              "size": 10,
              "solidity": 0.2
             }
            },
            "type": "bar"
           }
          ],
          "barpolar": [
           {
            "marker": {
             "line": {
              "color": "#E5ECF6",
              "width": 0.5
             },
             "pattern": {
              "fillmode": "overlay",
              "size": 10,
              "solidity": 0.2
             }
            },
            "type": "barpolar"
           }
          ],
          "carpet": [
           {
            "aaxis": {
             "endlinecolor": "#2a3f5f",
             "gridcolor": "white",
             "linecolor": "white",
             "minorgridcolor": "white",
             "startlinecolor": "#2a3f5f"
            },
            "baxis": {
             "endlinecolor": "#2a3f5f",
             "gridcolor": "white",
             "linecolor": "white",
             "minorgridcolor": "white",
             "startlinecolor": "#2a3f5f"
            },
            "type": "carpet"
           }
          ],
          "choropleth": [
           {
            "colorbar": {
             "outlinewidth": 0,
             "ticks": ""
            },
            "type": "choropleth"
           }
          ],
          "contour": [
           {
            "colorbar": {
             "outlinewidth": 0,
             "ticks": ""
            },
            "colorscale": [
             [
              0,
              "#0d0887"
             ],
             [
              0.1111111111111111,
              "#46039f"
             ],
             [
              0.2222222222222222,
              "#7201a8"
             ],
             [
              0.3333333333333333,
              "#9c179e"
             ],
             [
              0.4444444444444444,
              "#bd3786"
             ],
             [
              0.5555555555555556,
              "#d8576b"
             ],
             [
              0.6666666666666666,
              "#ed7953"
             ],
             [
              0.7777777777777778,
              "#fb9f3a"
             ],
             [
              0.8888888888888888,
              "#fdca26"
             ],
             [
              1,
              "#f0f921"
             ]
            ],
            "type": "contour"
           }
          ],
          "contourcarpet": [
           {
            "colorbar": {
             "outlinewidth": 0,
             "ticks": ""
            },
            "type": "contourcarpet"
           }
          ],
          "heatmap": [
           {
            "colorbar": {
             "outlinewidth": 0,
             "ticks": ""
            },
            "colorscale": [
             [
              0,
              "#0d0887"
             ],
             [
              0.1111111111111111,
              "#46039f"
             ],
             [
              0.2222222222222222,
              "#7201a8"
             ],
             [
              0.3333333333333333,
              "#9c179e"
             ],
             [
              0.4444444444444444,
              "#bd3786"
             ],
             [
              0.5555555555555556,
              "#d8576b"
             ],
             [
              0.6666666666666666,
              "#ed7953"
             ],
             [
              0.7777777777777778,
              "#fb9f3a"
             ],
             [
              0.8888888888888888,
              "#fdca26"
             ],
             [
              1,
              "#f0f921"
             ]
            ],
            "type": "heatmap"
           }
          ],
          "heatmapgl": [
           {
            "colorbar": {
             "outlinewidth": 0,
             "ticks": ""
            },
            "colorscale": [
             [
              0,
              "#0d0887"
             ],
             [
              0.1111111111111111,
              "#46039f"
             ],
             [
              0.2222222222222222,
              "#7201a8"
             ],
             [
              0.3333333333333333,
              "#9c179e"
             ],
             [
              0.4444444444444444,
              "#bd3786"
             ],
             [
              0.5555555555555556,
              "#d8576b"
             ],
             [
              0.6666666666666666,
              "#ed7953"
             ],
             [
              0.7777777777777778,
              "#fb9f3a"
             ],
             [
              0.8888888888888888,
              "#fdca26"
             ],
             [
              1,
              "#f0f921"
             ]
            ],
            "type": "heatmapgl"
           }
          ],
          "histogram": [
           {
            "marker": {
             "pattern": {
              "fillmode": "overlay",
              "size": 10,
              "solidity": 0.2
             }
            },
            "type": "histogram"
           }
          ],
          "histogram2d": [
           {
            "colorbar": {
             "outlinewidth": 0,
             "ticks": ""
            },
            "colorscale": [
             [
              0,
              "#0d0887"
             ],
             [
              0.1111111111111111,
              "#46039f"
             ],
             [
              0.2222222222222222,
              "#7201a8"
             ],
             [
              0.3333333333333333,
              "#9c179e"
             ],
             [
              0.4444444444444444,
              "#bd3786"
             ],
             [
              0.5555555555555556,
              "#d8576b"
             ],
             [
              0.6666666666666666,
              "#ed7953"
             ],
             [
              0.7777777777777778,
              "#fb9f3a"
             ],
             [
              0.8888888888888888,
              "#fdca26"
             ],
             [
              1,
              "#f0f921"
             ]
            ],
            "type": "histogram2d"
           }
          ],
          "histogram2dcontour": [
           {
            "colorbar": {
             "outlinewidth": 0,
             "ticks": ""
            },
            "colorscale": [
             [
              0,
              "#0d0887"
             ],
             [
              0.1111111111111111,
              "#46039f"
             ],
             [
              0.2222222222222222,
              "#7201a8"
             ],
             [
              0.3333333333333333,
              "#9c179e"
             ],
             [
              0.4444444444444444,
              "#bd3786"
             ],
             [
              0.5555555555555556,
              "#d8576b"
             ],
             [
              0.6666666666666666,
              "#ed7953"
             ],
             [
              0.7777777777777778,
              "#fb9f3a"
             ],
             [
              0.8888888888888888,
              "#fdca26"
             ],
             [
              1,
              "#f0f921"
             ]
            ],
            "type": "histogram2dcontour"
           }
          ],
          "mesh3d": [
           {
            "colorbar": {
             "outlinewidth": 0,
             "ticks": ""
            },
            "type": "mesh3d"
           }
          ],
          "parcoords": [
           {
            "line": {
             "colorbar": {
              "outlinewidth": 0,
              "ticks": ""
             }
            },
            "type": "parcoords"
           }
          ],
          "pie": [
           {
            "automargin": true,
            "type": "pie"
           }
          ],
          "scatter": [
           {
            "fillpattern": {
             "fillmode": "overlay",
             "size": 10,
             "solidity": 0.2
            },
            "type": "scatter"
           }
          ],
          "scatter3d": [
           {
            "line": {
             "colorbar": {
              "outlinewidth": 0,
              "ticks": ""
             }
            },
            "marker": {
             "colorbar": {
              "outlinewidth": 0,
              "ticks": ""
             }
            },
            "type": "scatter3d"
           }
          ],
          "scattercarpet": [
           {
            "marker": {
             "colorbar": {
              "outlinewidth": 0,
              "ticks": ""
             }
            },
            "type": "scattercarpet"
           }
          ],
          "scattergeo": [
           {
            "marker": {
             "colorbar": {
              "outlinewidth": 0,
              "ticks": ""
             }
            },
            "type": "scattergeo"
           }
          ],
          "scattergl": [
           {
            "marker": {
             "colorbar": {
              "outlinewidth": 0,
              "ticks": ""
             }
            },
            "type": "scattergl"
           }
          ],
          "scattermapbox": [
           {
            "marker": {
             "colorbar": {
              "outlinewidth": 0,
              "ticks": ""
             }
            },
            "type": "scattermapbox"
           }
          ],
          "scatterpolar": [
           {
            "marker": {
             "colorbar": {
              "outlinewidth": 0,
              "ticks": ""
             }
            },
            "type": "scatterpolar"
           }
          ],
          "scatterpolargl": [
           {
            "marker": {
             "colorbar": {
              "outlinewidth": 0,
              "ticks": ""
             }
            },
            "type": "scatterpolargl"
           }
          ],
          "scatterternary": [
           {
            "marker": {
             "colorbar": {
              "outlinewidth": 0,
              "ticks": ""
             }
            },
            "type": "scatterternary"
           }
          ],
          "surface": [
           {
            "colorbar": {
             "outlinewidth": 0,
             "ticks": ""
            },
            "colorscale": [
             [
              0,
              "#0d0887"
             ],
             [
              0.1111111111111111,
              "#46039f"
             ],
             [
              0.2222222222222222,
              "#7201a8"
             ],
             [
              0.3333333333333333,
              "#9c179e"
             ],
             [
              0.4444444444444444,
              "#bd3786"
             ],
             [
              0.5555555555555556,
              "#d8576b"
             ],
             [
              0.6666666666666666,
              "#ed7953"
             ],
             [
              0.7777777777777778,
              "#fb9f3a"
             ],
             [
              0.8888888888888888,
              "#fdca26"
             ],
             [
              1,
              "#f0f921"
             ]
            ],
            "type": "surface"
           }
          ],
          "table": [
           {
            "cells": {
             "fill": {
              "color": "#EBF0F8"
             },
             "line": {
              "color": "white"
             }
            },
            "header": {
             "fill": {
              "color": "#C8D4E3"
             },
             "line": {
              "color": "white"
             }
            },
            "type": "table"
           }
          ]
         },
         "layout": {
          "annotationdefaults": {
           "arrowcolor": "#2a3f5f",
           "arrowhead": 0,
           "arrowwidth": 1
          },
          "autotypenumbers": "strict",
          "coloraxis": {
           "colorbar": {
            "outlinewidth": 0,
            "ticks": ""
           }
          },
          "colorscale": {
           "diverging": [
            [
             0,
             "#8e0152"
            ],
            [
             0.1,
             "#c51b7d"
            ],
            [
             0.2,
             "#de77ae"
            ],
            [
             0.3,
             "#f1b6da"
            ],
            [
             0.4,
             "#fde0ef"
            ],
            [
             0.5,
             "#f7f7f7"
            ],
            [
             0.6,
             "#e6f5d0"
            ],
            [
             0.7,
             "#b8e186"
            ],
            [
             0.8,
             "#7fbc41"
            ],
            [
             0.9,
             "#4d9221"
            ],
            [
             1,
             "#276419"
            ]
           ],
           "sequential": [
            [
             0,
             "#0d0887"
            ],
            [
             0.1111111111111111,
             "#46039f"
            ],
            [
             0.2222222222222222,
             "#7201a8"
            ],
            [
             0.3333333333333333,
             "#9c179e"
            ],
            [
             0.4444444444444444,
             "#bd3786"
            ],
            [
             0.5555555555555556,
             "#d8576b"
            ],
            [
             0.6666666666666666,
             "#ed7953"
            ],
            [
             0.7777777777777778,
             "#fb9f3a"
            ],
            [
             0.8888888888888888,
             "#fdca26"
            ],
            [
             1,
             "#f0f921"
            ]
           ],
           "sequentialminus": [
            [
             0,
             "#0d0887"
            ],
            [
             0.1111111111111111,
             "#46039f"
            ],
            [
             0.2222222222222222,
             "#7201a8"
            ],
            [
             0.3333333333333333,
             "#9c179e"
            ],
            [
             0.4444444444444444,
             "#bd3786"
            ],
            [
             0.5555555555555556,
             "#d8576b"
            ],
            [
             0.6666666666666666,
             "#ed7953"
            ],
            [
             0.7777777777777778,
             "#fb9f3a"
            ],
            [
             0.8888888888888888,
             "#fdca26"
            ],
            [
             1,
             "#f0f921"
            ]
           ]
          },
          "colorway": [
           "#636efa",
           "#EF553B",
           "#00cc96",
           "#ab63fa",
           "#FFA15A",
           "#19d3f3",
           "#FF6692",
           "#B6E880",
           "#FF97FF",
           "#FECB52"
          ],
          "font": {
           "color": "#2a3f5f"
          },
          "geo": {
           "bgcolor": "white",
           "lakecolor": "white",
           "landcolor": "#E5ECF6",
           "showlakes": true,
           "showland": true,
           "subunitcolor": "white"
          },
          "hoverlabel": {
           "align": "left"
          },
          "hovermode": "closest",
          "mapbox": {
           "style": "light"
          },
          "paper_bgcolor": "white",
          "plot_bgcolor": "#E5ECF6",
          "polar": {
           "angularaxis": {
            "gridcolor": "white",
            "linecolor": "white",
            "ticks": ""
           },
           "bgcolor": "#E5ECF6",
           "radialaxis": {
            "gridcolor": "white",
            "linecolor": "white",
            "ticks": ""
           }
          },
          "scene": {
           "xaxis": {
            "backgroundcolor": "#E5ECF6",
            "gridcolor": "white",
            "gridwidth": 2,
            "linecolor": "white",
            "showbackground": true,
            "ticks": "",
            "zerolinecolor": "white"
           },
           "yaxis": {
            "backgroundcolor": "#E5ECF6",
            "gridcolor": "white",
            "gridwidth": 2,
            "linecolor": "white",
            "showbackground": true,
            "ticks": "",
            "zerolinecolor": "white"
           },
           "zaxis": {
            "backgroundcolor": "#E5ECF6",
            "gridcolor": "white",
            "gridwidth": 2,
            "linecolor": "white",
            "showbackground": true,
            "ticks": "",
            "zerolinecolor": "white"
           }
          },
          "shapedefaults": {
           "line": {
            "color": "#2a3f5f"
           }
          },
          "ternary": {
           "aaxis": {
            "gridcolor": "white",
            "linecolor": "white",
            "ticks": ""
           },
           "baxis": {
            "gridcolor": "white",
            "linecolor": "white",
            "ticks": ""
           },
           "bgcolor": "#E5ECF6",
           "caxis": {
            "gridcolor": "white",
            "linecolor": "white",
            "ticks": ""
           }
          },
          "title": {
           "x": 0.05
          },
          "xaxis": {
           "automargin": true,
           "gridcolor": "white",
           "linecolor": "white",
           "ticks": "",
           "title": {
            "standoff": 15
           },
           "zerolinecolor": "white",
           "zerolinewidth": 2
          },
          "yaxis": {
           "automargin": true,
           "gridcolor": "white",
           "linecolor": "white",
           "ticks": "",
           "title": {
            "standoff": 15
           },
           "zerolinecolor": "white",
           "zerolinewidth": 2
          }
         }
        },
        "title": {
         "text": "Contour Plot"
        },
        "xaxis": {
         "anchor": "y",
         "domain": [
          0,
          0.1388888888888889
         ],
         "matches": "x31",
         "range": [
          -0.05,
          1.05
         ],
         "showticklabels": false,
         "type": "category"
        },
        "xaxis10": {
         "anchor": "y10",
         "domain": [
          0.5166666666666667,
          0.6555555555555557
         ],
         "matches": "x34",
         "range": [
          -4.048632167501562,
          -2.964876591771416
         ],
         "showticklabels": false,
         "type": "log"
        },
        "xaxis11": {
         "anchor": "y11",
         "domain": [
          0.6888888888888889,
          0.8277777777777777
         ],
         "matches": "x35",
         "range": [
          0.95,
          2.05
         ],
         "showticklabels": false
        },
        "xaxis12": {
         "anchor": "y12",
         "domain": [
          0.861111111111111,
          1
         ],
         "matches": "x36",
         "range": [
          -0.05,
          1.05
         ],
         "showticklabels": false,
         "type": "category"
        },
        "xaxis13": {
         "anchor": "y13",
         "domain": [
          0,
          0.1388888888888889
         ],
         "matches": "x31",
         "range": [
          -0.05,
          1.05
         ],
         "showticklabels": false,
         "type": "category"
        },
        "xaxis14": {
         "anchor": "y14",
         "domain": [
          0.17222222222222222,
          0.3111111111111111
         ],
         "matches": "x32",
         "range": [
          0.09596183868073947,
          0.19529097295012943
         ],
         "showticklabels": false
        },
        "xaxis15": {
         "anchor": "y15",
         "domain": [
          0.34444444444444444,
          0.48333333333333334
         ],
         "matches": "x33",
         "range": [
          44,
          836
         ],
         "showticklabels": false
        },
        "xaxis16": {
         "anchor": "y16",
         "domain": [
          0.5166666666666667,
          0.6555555555555557
         ],
         "matches": "x34",
         "range": [
          -4.048632167501562,
          -2.964876591771416
         ],
         "showticklabels": false,
         "type": "log"
        },
        "xaxis17": {
         "anchor": "y17",
         "domain": [
          0.6888888888888889,
          0.8277777777777777
         ],
         "matches": "x35",
         "range": [
          0.95,
          2.05
         ],
         "showticklabels": false
        },
        "xaxis18": {
         "anchor": "y18",
         "domain": [
          0.861111111111111,
          1
         ],
         "matches": "x36",
         "range": [
          -0.05,
          1.05
         ],
         "showticklabels": false,
         "type": "category"
        },
        "xaxis19": {
         "anchor": "y19",
         "domain": [
          0,
          0.1388888888888889
         ],
         "matches": "x31",
         "range": [
          -0.05,
          1.05
         ],
         "showticklabels": false,
         "type": "category"
        },
        "xaxis2": {
         "anchor": "y2",
         "domain": [
          0.17222222222222222,
          0.3111111111111111
         ],
         "matches": "x32",
         "range": [
          0.09596183868073947,
          0.19529097295012943
         ],
         "showticklabels": false
        },
        "xaxis20": {
         "anchor": "y20",
         "domain": [
          0.17222222222222222,
          0.3111111111111111
         ],
         "matches": "x32",
         "range": [
          0.09596183868073947,
          0.19529097295012943
         ],
         "showticklabels": false
        },
        "xaxis21": {
         "anchor": "y21",
         "domain": [
          0.34444444444444444,
          0.48333333333333334
         ],
         "matches": "x33",
         "range": [
          44,
          836
         ],
         "showticklabels": false
        },
        "xaxis22": {
         "anchor": "y22",
         "domain": [
          0.5166666666666667,
          0.6555555555555557
         ],
         "matches": "x34",
         "range": [
          -4.048632167501562,
          -2.964876591771416
         ],
         "showticklabels": false,
         "type": "log"
        },
        "xaxis23": {
         "anchor": "y23",
         "domain": [
          0.6888888888888889,
          0.8277777777777777
         ],
         "matches": "x35",
         "range": [
          0.95,
          2.05
         ],
         "showticklabels": false
        },
        "xaxis24": {
         "anchor": "y24",
         "domain": [
          0.861111111111111,
          1
         ],
         "matches": "x36",
         "range": [
          -0.05,
          1.05
         ],
         "showticklabels": false,
         "type": "category"
        },
        "xaxis25": {
         "anchor": "y25",
         "domain": [
          0,
          0.1388888888888889
         ],
         "matches": "x31",
         "range": [
          -0.05,
          1.05
         ],
         "showticklabels": false,
         "type": "category"
        },
        "xaxis26": {
         "anchor": "y26",
         "domain": [
          0.17222222222222222,
          0.3111111111111111
         ],
         "matches": "x32",
         "range": [
          0.09596183868073947,
          0.19529097295012943
         ],
         "showticklabels": false
        },
        "xaxis27": {
         "anchor": "y27",
         "domain": [
          0.34444444444444444,
          0.48333333333333334
         ],
         "matches": "x33",
         "range": [
          44,
          836
         ],
         "showticklabels": false
        },
        "xaxis28": {
         "anchor": "y28",
         "domain": [
          0.5166666666666667,
          0.6555555555555557
         ],
         "matches": "x34",
         "range": [
          -4.048632167501562,
          -2.964876591771416
         ],
         "showticklabels": false,
         "type": "log"
        },
        "xaxis29": {
         "anchor": "y29",
         "domain": [
          0.6888888888888889,
          0.8277777777777777
         ],
         "matches": "x35",
         "range": [
          0.95,
          2.05
         ],
         "showticklabels": false
        },
        "xaxis3": {
         "anchor": "y3",
         "domain": [
          0.34444444444444444,
          0.48333333333333334
         ],
         "matches": "x33",
         "range": [
          44,
          836
         ],
         "showticklabels": false
        },
        "xaxis30": {
         "anchor": "y30",
         "domain": [
          0.861111111111111,
          1
         ],
         "matches": "x36",
         "range": [
          -0.05,
          1.05
         ],
         "showticklabels": false,
         "type": "category"
        },
        "xaxis31": {
         "anchor": "y31",
         "domain": [
          0,
          0.1388888888888889
         ],
         "range": [
          -0.05,
          1.05
         ],
         "title": {
          "text": "activation"
         },
         "type": "category"
        },
        "xaxis32": {
         "anchor": "y32",
         "domain": [
          0.17222222222222222,
          0.3111111111111111
         ],
         "range": [
          0.09596183868073947,
          0.19529097295012943
         ],
         "title": {
          "text": "dropout_rate"
         }
        },
        "xaxis33": {
         "anchor": "y33",
         "domain": [
          0.34444444444444444,
          0.48333333333333334
         ],
         "range": [
          44,
          836
         ],
         "title": {
          "text": "layer_size"
         }
        },
        "xaxis34": {
         "anchor": "y34",
         "domain": [
          0.5166666666666667,
          0.6555555555555557
         ],
         "range": [
          -4.048632167501562,
          -2.964876591771416
         ],
         "title": {
          "text": "learning_rate"
         },
         "type": "log"
        },
        "xaxis35": {
         "anchor": "y35",
         "domain": [
          0.6888888888888889,
          0.8277777777777777
         ],
         "range": [
          0.95,
          2.05
         ],
         "title": {
          "text": "num_layers"
         }
        },
        "xaxis36": {
         "anchor": "y36",
         "domain": [
          0.861111111111111,
          1
         ],
         "range": [
          -0.05,
          1.05
         ],
         "title": {
          "text": "use_batch_norm"
         },
         "type": "category"
        },
        "xaxis4": {
         "anchor": "y4",
         "domain": [
          0.5166666666666667,
          0.6555555555555557
         ],
         "matches": "x34",
         "range": [
          -4.048632167501562,
          -2.964876591771416
         ],
         "showticklabels": false,
         "type": "log"
        },
        "xaxis5": {
         "anchor": "y5",
         "domain": [
          0.6888888888888889,
          0.8277777777777777
         ],
         "matches": "x35",
         "range": [
          0.95,
          2.05
         ],
         "showticklabels": false
        },
        "xaxis6": {
         "anchor": "y6",
         "domain": [
          0.861111111111111,
          1
         ],
         "matches": "x36",
         "range": [
          -0.05,
          1.05
         ],
         "showticklabels": false,
         "type": "category"
        },
        "xaxis7": {
         "anchor": "y7",
         "domain": [
          0,
          0.1388888888888889
         ],
         "matches": "x31",
         "range": [
          -0.05,
          1.05
         ],
         "showticklabels": false,
         "type": "category"
        },
        "xaxis8": {
         "anchor": "y8",
         "domain": [
          0.17222222222222222,
          0.3111111111111111
         ],
         "matches": "x32",
         "range": [
          0.09596183868073947,
          0.19529097295012943
         ],
         "showticklabels": false
        },
        "xaxis9": {
         "anchor": "y9",
         "domain": [
          0.34444444444444444,
          0.48333333333333334
         ],
         "matches": "x33",
         "range": [
          44,
          836
         ],
         "showticklabels": false
        },
        "yaxis": {
         "anchor": "x",
         "domain": [
          0.875,
          1
         ],
         "range": [
          -0.05,
          1.05
         ],
         "title": {
          "text": "activation"
         },
         "type": "category"
        },
        "yaxis10": {
         "anchor": "x10",
         "domain": [
          0.7,
          0.825
         ],
         "matches": "y7",
         "range": [
          0.09596183868073947,
          0.19529097295012943
         ],
         "showticklabels": false
        },
        "yaxis11": {
         "anchor": "x11",
         "domain": [
          0.7,
          0.825
         ],
         "matches": "y7",
         "range": [
          0.09596183868073947,
          0.19529097295012943
         ],
         "showticklabels": false
        },
        "yaxis12": {
         "anchor": "x12",
         "domain": [
          0.7,
          0.825
         ],
         "matches": "y7",
         "range": [
          0.09596183868073947,
          0.19529097295012943
         ],
         "showticklabels": false
        },
        "yaxis13": {
         "anchor": "x13",
         "domain": [
          0.525,
          0.65
         ],
         "range": [
          44,
          836
         ],
         "title": {
          "text": "layer_size"
         }
        },
        "yaxis14": {
         "anchor": "x14",
         "domain": [
          0.525,
          0.65
         ],
         "matches": "y13",
         "range": [
          44,
          836
         ],
         "showticklabels": false
        },
        "yaxis15": {
         "anchor": "x15",
         "domain": [
          0.525,
          0.65
         ],
         "matches": "y13",
         "range": [
          44,
          836
         ],
         "showticklabels": false
        },
        "yaxis16": {
         "anchor": "x16",
         "domain": [
          0.525,
          0.65
         ],
         "matches": "y13",
         "range": [
          44,
          836
         ],
         "showticklabels": false
        },
        "yaxis17": {
         "anchor": "x17",
         "domain": [
          0.525,
          0.65
         ],
         "matches": "y13",
         "range": [
          44,
          836
         ],
         "showticklabels": false
        },
        "yaxis18": {
         "anchor": "x18",
         "domain": [
          0.525,
          0.65
         ],
         "matches": "y13",
         "range": [
          44,
          836
         ],
         "showticklabels": false
        },
        "yaxis19": {
         "anchor": "x19",
         "domain": [
          0.35,
          0.475
         ],
         "range": [
          -4.048632167501562,
          -2.964876591771416
         ],
         "title": {
          "text": "learning_rate"
         },
         "type": "log"
        },
        "yaxis2": {
         "anchor": "x2",
         "domain": [
          0.875,
          1
         ],
         "matches": "y",
         "range": [
          -0.05,
          1.05
         ],
         "showticklabels": false,
         "type": "category"
        },
        "yaxis20": {
         "anchor": "x20",
         "domain": [
          0.35,
          0.475
         ],
         "matches": "y19",
         "range": [
          -4.048632167501562,
          -2.964876591771416
         ],
         "showticklabels": false,
         "type": "log"
        },
        "yaxis21": {
         "anchor": "x21",
         "domain": [
          0.35,
          0.475
         ],
         "matches": "y19",
         "range": [
          -4.048632167501562,
          -2.964876591771416
         ],
         "showticklabels": false,
         "type": "log"
        },
        "yaxis22": {
         "anchor": "x22",
         "domain": [
          0.35,
          0.475
         ],
         "matches": "y19",
         "range": [
          -4.048632167501562,
          -2.964876591771416
         ],
         "showticklabels": false,
         "type": "log"
        },
        "yaxis23": {
         "anchor": "x23",
         "domain": [
          0.35,
          0.475
         ],
         "matches": "y19",
         "range": [
          -4.048632167501562,
          -2.964876591771416
         ],
         "showticklabels": false,
         "type": "log"
        },
        "yaxis24": {
         "anchor": "x24",
         "domain": [
          0.35,
          0.475
         ],
         "matches": "y19",
         "range": [
          -4.048632167501562,
          -2.964876591771416
         ],
         "showticklabels": false,
         "type": "log"
        },
        "yaxis25": {
         "anchor": "x25",
         "domain": [
          0.175,
          0.3
         ],
         "range": [
          0.95,
          2.05
         ],
         "title": {
          "text": "num_layers"
         }
        },
        "yaxis26": {
         "anchor": "x26",
         "domain": [
          0.175,
          0.3
         ],
         "matches": "y25",
         "range": [
          0.95,
          2.05
         ],
         "showticklabels": false
        },
        "yaxis27": {
         "anchor": "x27",
         "domain": [
          0.175,
          0.3
         ],
         "matches": "y25",
         "range": [
          0.95,
          2.05
         ],
         "showticklabels": false
        },
        "yaxis28": {
         "anchor": "x28",
         "domain": [
          0.175,
          0.3
         ],
         "matches": "y25",
         "range": [
          0.95,
          2.05
         ],
         "showticklabels": false
        },
        "yaxis29": {
         "anchor": "x29",
         "domain": [
          0.175,
          0.3
         ],
         "matches": "y25",
         "range": [
          0.95,
          2.05
         ],
         "showticklabels": false
        },
        "yaxis3": {
         "anchor": "x3",
         "domain": [
          0.875,
          1
         ],
         "matches": "y",
         "range": [
          -0.05,
          1.05
         ],
         "showticklabels": false,
         "type": "category"
        },
        "yaxis30": {
         "anchor": "x30",
         "domain": [
          0.175,
          0.3
         ],
         "matches": "y25",
         "range": [
          0.95,
          2.05
         ],
         "showticklabels": false
        },
        "yaxis31": {
         "anchor": "x31",
         "domain": [
          0,
          0.125
         ],
         "range": [
          -0.05,
          1.05
         ],
         "title": {
          "text": "use_batch_norm"
         },
         "type": "category"
        },
        "yaxis32": {
         "anchor": "x32",
         "domain": [
          0,
          0.125
         ],
         "matches": "y31",
         "range": [
          -0.05,
          1.05
         ],
         "showticklabels": false,
         "type": "category"
        },
        "yaxis33": {
         "anchor": "x33",
         "domain": [
          0,
          0.125
         ],
         "matches": "y31",
         "range": [
          -0.05,
          1.05
         ],
         "showticklabels": false,
         "type": "category"
        },
        "yaxis34": {
         "anchor": "x34",
         "domain": [
          0,
          0.125
         ],
         "matches": "y31",
         "range": [
          -0.05,
          1.05
         ],
         "showticklabels": false,
         "type": "category"
        },
        "yaxis35": {
         "anchor": "x35",
         "domain": [
          0,
          0.125
         ],
         "matches": "y31",
         "range": [
          -0.05,
          1.05
         ],
         "showticklabels": false,
         "type": "category"
        },
        "yaxis36": {
         "anchor": "x36",
         "domain": [
          0,
          0.125
         ],
         "matches": "y31",
         "range": [
          -0.05,
          1.05
         ],
         "showticklabels": false,
         "type": "category"
        },
        "yaxis4": {
         "anchor": "x4",
         "domain": [
          0.875,
          1
         ],
         "matches": "y",
         "range": [
          -0.05,
          1.05
         ],
         "showticklabels": false,
         "type": "category"
        },
        "yaxis5": {
         "anchor": "x5",
         "domain": [
          0.875,
          1
         ],
         "matches": "y",
         "range": [
          -0.05,
          1.05
         ],
         "showticklabels": false,
         "type": "category"
        },
        "yaxis6": {
         "anchor": "x6",
         "domain": [
          0.875,
          1
         ],
         "matches": "y",
         "range": [
          -0.05,
          1.05
         ],
         "showticklabels": false,
         "type": "category"
        },
        "yaxis7": {
         "anchor": "x7",
         "domain": [
          0.7,
          0.825
         ],
         "range": [
          0.09596183868073947,
          0.19529097295012943
         ],
         "title": {
          "text": "dropout_rate"
         }
        },
        "yaxis8": {
         "anchor": "x8",
         "domain": [
          0.7,
          0.825
         ],
         "matches": "y7",
         "range": [
          0.09596183868073947,
          0.19529097295012943
         ],
         "showticklabels": false
        },
        "yaxis9": {
         "anchor": "x9",
         "domain": [
          0.7,
          0.825
         ],
         "matches": "y7",
         "range": [
          0.09596183868073947,
          0.19529097295012943
         ],
         "showticklabels": false
        }
       }
      }
     },
     "metadata": {},
     "output_type": "display_data"
    }
   ],
   "source": [
    "plot_contour(study)"
   ]
  },
  {
   "cell_type": "code",
   "execution_count": 21,
   "metadata": {},
   "outputs": [
    {
     "data": {
      "application/vnd.plotly.v1+json": {
       "config": {
        "plotlyServerURL": "https://plot.ly"
       },
       "data": [
        {
         "cliponaxis": false,
         "hovertemplate": [
          "num_layers (IntDistribution): 0.0012874809080523591<extra></extra>",
          "learning_rate (FloatDistribution): 0.0382212250878729<extra></extra>",
          "activation (CategoricalDistribution): 0.08935191269374394<extra></extra>",
          "use_batch_norm (CategoricalDistribution): 0.10656846656385224<extra></extra>",
          "dropout_rate (FloatDistribution): 0.13574848827911495<extra></extra>",
          "layer_size (IntDistribution): 0.6288224264673637<extra></extra>"
         ],
         "name": "Objective Value",
         "orientation": "h",
         "text": [
          "<0.01",
          "0.04",
          "0.09",
          "0.11",
          "0.14",
          "0.63"
         ],
         "textposition": "outside",
         "type": "bar",
         "x": [
          0.0012874809080523591,
          0.0382212250878729,
          0.08935191269374394,
          0.10656846656385224,
          0.13574848827911495,
          0.6288224264673637
         ],
         "y": [
          "num_layers",
          "learning_rate",
          "activation",
          "use_batch_norm",
          "dropout_rate",
          "layer_size"
         ]
        }
       ],
       "layout": {
        "template": {
         "data": {
          "bar": [
           {
            "error_x": {
             "color": "#2a3f5f"
            },
            "error_y": {
             "color": "#2a3f5f"
            },
            "marker": {
             "line": {
              "color": "#E5ECF6",
              "width": 0.5
             },
             "pattern": {
              "fillmode": "overlay",
              "size": 10,
              "solidity": 0.2
             }
            },
            "type": "bar"
           }
          ],
          "barpolar": [
           {
            "marker": {
             "line": {
              "color": "#E5ECF6",
              "width": 0.5
             },
             "pattern": {
              "fillmode": "overlay",
              "size": 10,
              "solidity": 0.2
             }
            },
            "type": "barpolar"
           }
          ],
          "carpet": [
           {
            "aaxis": {
             "endlinecolor": "#2a3f5f",
             "gridcolor": "white",
             "linecolor": "white",
             "minorgridcolor": "white",
             "startlinecolor": "#2a3f5f"
            },
            "baxis": {
             "endlinecolor": "#2a3f5f",
             "gridcolor": "white",
             "linecolor": "white",
             "minorgridcolor": "white",
             "startlinecolor": "#2a3f5f"
            },
            "type": "carpet"
           }
          ],
          "choropleth": [
           {
            "colorbar": {
             "outlinewidth": 0,
             "ticks": ""
            },
            "type": "choropleth"
           }
          ],
          "contour": [
           {
            "colorbar": {
             "outlinewidth": 0,
             "ticks": ""
            },
            "colorscale": [
             [
              0,
              "#0d0887"
             ],
             [
              0.1111111111111111,
              "#46039f"
             ],
             [
              0.2222222222222222,
              "#7201a8"
             ],
             [
              0.3333333333333333,
              "#9c179e"
             ],
             [
              0.4444444444444444,
              "#bd3786"
             ],
             [
              0.5555555555555556,
              "#d8576b"
             ],
             [
              0.6666666666666666,
              "#ed7953"
             ],
             [
              0.7777777777777778,
              "#fb9f3a"
             ],
             [
              0.8888888888888888,
              "#fdca26"
             ],
             [
              1,
              "#f0f921"
             ]
            ],
            "type": "contour"
           }
          ],
          "contourcarpet": [
           {
            "colorbar": {
             "outlinewidth": 0,
             "ticks": ""
            },
            "type": "contourcarpet"
           }
          ],
          "heatmap": [
           {
            "colorbar": {
             "outlinewidth": 0,
             "ticks": ""
            },
            "colorscale": [
             [
              0,
              "#0d0887"
             ],
             [
              0.1111111111111111,
              "#46039f"
             ],
             [
              0.2222222222222222,
              "#7201a8"
             ],
             [
              0.3333333333333333,
              "#9c179e"
             ],
             [
              0.4444444444444444,
              "#bd3786"
             ],
             [
              0.5555555555555556,
              "#d8576b"
             ],
             [
              0.6666666666666666,
              "#ed7953"
             ],
             [
              0.7777777777777778,
              "#fb9f3a"
             ],
             [
              0.8888888888888888,
              "#fdca26"
             ],
             [
              1,
              "#f0f921"
             ]
            ],
            "type": "heatmap"
           }
          ],
          "heatmapgl": [
           {
            "colorbar": {
             "outlinewidth": 0,
             "ticks": ""
            },
            "colorscale": [
             [
              0,
              "#0d0887"
             ],
             [
              0.1111111111111111,
              "#46039f"
             ],
             [
              0.2222222222222222,
              "#7201a8"
             ],
             [
              0.3333333333333333,
              "#9c179e"
             ],
             [
              0.4444444444444444,
              "#bd3786"
             ],
             [
              0.5555555555555556,
              "#d8576b"
             ],
             [
              0.6666666666666666,
              "#ed7953"
             ],
             [
              0.7777777777777778,
              "#fb9f3a"
             ],
             [
              0.8888888888888888,
              "#fdca26"
             ],
             [
              1,
              "#f0f921"
             ]
            ],
            "type": "heatmapgl"
           }
          ],
          "histogram": [
           {
            "marker": {
             "pattern": {
              "fillmode": "overlay",
              "size": 10,
              "solidity": 0.2
             }
            },
            "type": "histogram"
           }
          ],
          "histogram2d": [
           {
            "colorbar": {
             "outlinewidth": 0,
             "ticks": ""
            },
            "colorscale": [
             [
              0,
              "#0d0887"
             ],
             [
              0.1111111111111111,
              "#46039f"
             ],
             [
              0.2222222222222222,
              "#7201a8"
             ],
             [
              0.3333333333333333,
              "#9c179e"
             ],
             [
              0.4444444444444444,
              "#bd3786"
             ],
             [
              0.5555555555555556,
              "#d8576b"
             ],
             [
              0.6666666666666666,
              "#ed7953"
             ],
             [
              0.7777777777777778,
              "#fb9f3a"
             ],
             [
              0.8888888888888888,
              "#fdca26"
             ],
             [
              1,
              "#f0f921"
             ]
            ],
            "type": "histogram2d"
           }
          ],
          "histogram2dcontour": [
           {
            "colorbar": {
             "outlinewidth": 0,
             "ticks": ""
            },
            "colorscale": [
             [
              0,
              "#0d0887"
             ],
             [
              0.1111111111111111,
              "#46039f"
             ],
             [
              0.2222222222222222,
              "#7201a8"
             ],
             [
              0.3333333333333333,
              "#9c179e"
             ],
             [
              0.4444444444444444,
              "#bd3786"
             ],
             [
              0.5555555555555556,
              "#d8576b"
             ],
             [
              0.6666666666666666,
              "#ed7953"
             ],
             [
              0.7777777777777778,
              "#fb9f3a"
             ],
             [
              0.8888888888888888,
              "#fdca26"
             ],
             [
              1,
              "#f0f921"
             ]
            ],
            "type": "histogram2dcontour"
           }
          ],
          "mesh3d": [
           {
            "colorbar": {
             "outlinewidth": 0,
             "ticks": ""
            },
            "type": "mesh3d"
           }
          ],
          "parcoords": [
           {
            "line": {
             "colorbar": {
              "outlinewidth": 0,
              "ticks": ""
             }
            },
            "type": "parcoords"
           }
          ],
          "pie": [
           {
            "automargin": true,
            "type": "pie"
           }
          ],
          "scatter": [
           {
            "fillpattern": {
             "fillmode": "overlay",
             "size": 10,
             "solidity": 0.2
            },
            "type": "scatter"
           }
          ],
          "scatter3d": [
           {
            "line": {
             "colorbar": {
              "outlinewidth": 0,
              "ticks": ""
             }
            },
            "marker": {
             "colorbar": {
              "outlinewidth": 0,
              "ticks": ""
             }
            },
            "type": "scatter3d"
           }
          ],
          "scattercarpet": [
           {
            "marker": {
             "colorbar": {
              "outlinewidth": 0,
              "ticks": ""
             }
            },
            "type": "scattercarpet"
           }
          ],
          "scattergeo": [
           {
            "marker": {
             "colorbar": {
              "outlinewidth": 0,
              "ticks": ""
             }
            },
            "type": "scattergeo"
           }
          ],
          "scattergl": [
           {
            "marker": {
             "colorbar": {
              "outlinewidth": 0,
              "ticks": ""
             }
            },
            "type": "scattergl"
           }
          ],
          "scattermapbox": [
           {
            "marker": {
             "colorbar": {
              "outlinewidth": 0,
              "ticks": ""
             }
            },
            "type": "scattermapbox"
           }
          ],
          "scatterpolar": [
           {
            "marker": {
             "colorbar": {
              "outlinewidth": 0,
              "ticks": ""
             }
            },
            "type": "scatterpolar"
           }
          ],
          "scatterpolargl": [
           {
            "marker": {
             "colorbar": {
              "outlinewidth": 0,
              "ticks": ""
             }
            },
            "type": "scatterpolargl"
           }
          ],
          "scatterternary": [
           {
            "marker": {
             "colorbar": {
              "outlinewidth": 0,
              "ticks": ""
             }
            },
            "type": "scatterternary"
           }
          ],
          "surface": [
           {
            "colorbar": {
             "outlinewidth": 0,
             "ticks": ""
            },
            "colorscale": [
             [
              0,
              "#0d0887"
             ],
             [
              0.1111111111111111,
              "#46039f"
             ],
             [
              0.2222222222222222,
              "#7201a8"
             ],
             [
              0.3333333333333333,
              "#9c179e"
             ],
             [
              0.4444444444444444,
              "#bd3786"
             ],
             [
              0.5555555555555556,
              "#d8576b"
             ],
             [
              0.6666666666666666,
              "#ed7953"
             ],
             [
              0.7777777777777778,
              "#fb9f3a"
             ],
             [
              0.8888888888888888,
              "#fdca26"
             ],
             [
              1,
              "#f0f921"
             ]
            ],
            "type": "surface"
           }
          ],
          "table": [
           {
            "cells": {
             "fill": {
              "color": "#EBF0F8"
             },
             "line": {
              "color": "white"
             }
            },
            "header": {
             "fill": {
              "color": "#C8D4E3"
             },
             "line": {
              "color": "white"
             }
            },
            "type": "table"
           }
          ]
         },
         "layout": {
          "annotationdefaults": {
           "arrowcolor": "#2a3f5f",
           "arrowhead": 0,
           "arrowwidth": 1
          },
          "autotypenumbers": "strict",
          "coloraxis": {
           "colorbar": {
            "outlinewidth": 0,
            "ticks": ""
           }
          },
          "colorscale": {
           "diverging": [
            [
             0,
             "#8e0152"
            ],
            [
             0.1,
             "#c51b7d"
            ],
            [
             0.2,
             "#de77ae"
            ],
            [
             0.3,
             "#f1b6da"
            ],
            [
             0.4,
             "#fde0ef"
            ],
            [
             0.5,
             "#f7f7f7"
            ],
            [
             0.6,
             "#e6f5d0"
            ],
            [
             0.7,
             "#b8e186"
            ],
            [
             0.8,
             "#7fbc41"
            ],
            [
             0.9,
             "#4d9221"
            ],
            [
             1,
             "#276419"
            ]
           ],
           "sequential": [
            [
             0,
             "#0d0887"
            ],
            [
             0.1111111111111111,
             "#46039f"
            ],
            [
             0.2222222222222222,
             "#7201a8"
            ],
            [
             0.3333333333333333,
             "#9c179e"
            ],
            [
             0.4444444444444444,
             "#bd3786"
            ],
            [
             0.5555555555555556,
             "#d8576b"
            ],
            [
             0.6666666666666666,
             "#ed7953"
            ],
            [
             0.7777777777777778,
             "#fb9f3a"
            ],
            [
             0.8888888888888888,
             "#fdca26"
            ],
            [
             1,
             "#f0f921"
            ]
           ],
           "sequentialminus": [
            [
             0,
             "#0d0887"
            ],
            [
             0.1111111111111111,
             "#46039f"
            ],
            [
             0.2222222222222222,
             "#7201a8"
            ],
            [
             0.3333333333333333,
             "#9c179e"
            ],
            [
             0.4444444444444444,
             "#bd3786"
            ],
            [
             0.5555555555555556,
             "#d8576b"
            ],
            [
             0.6666666666666666,
             "#ed7953"
            ],
            [
             0.7777777777777778,
             "#fb9f3a"
            ],
            [
             0.8888888888888888,
             "#fdca26"
            ],
            [
             1,
             "#f0f921"
            ]
           ]
          },
          "colorway": [
           "#636efa",
           "#EF553B",
           "#00cc96",
           "#ab63fa",
           "#FFA15A",
           "#19d3f3",
           "#FF6692",
           "#B6E880",
           "#FF97FF",
           "#FECB52"
          ],
          "font": {
           "color": "#2a3f5f"
          },
          "geo": {
           "bgcolor": "white",
           "lakecolor": "white",
           "landcolor": "#E5ECF6",
           "showlakes": true,
           "showland": true,
           "subunitcolor": "white"
          },
          "hoverlabel": {
           "align": "left"
          },
          "hovermode": "closest",
          "mapbox": {
           "style": "light"
          },
          "paper_bgcolor": "white",
          "plot_bgcolor": "#E5ECF6",
          "polar": {
           "angularaxis": {
            "gridcolor": "white",
            "linecolor": "white",
            "ticks": ""
           },
           "bgcolor": "#E5ECF6",
           "radialaxis": {
            "gridcolor": "white",
            "linecolor": "white",
            "ticks": ""
           }
          },
          "scene": {
           "xaxis": {
            "backgroundcolor": "#E5ECF6",
            "gridcolor": "white",
            "gridwidth": 2,
            "linecolor": "white",
            "showbackground": true,
            "ticks": "",
            "zerolinecolor": "white"
           },
           "yaxis": {
            "backgroundcolor": "#E5ECF6",
            "gridcolor": "white",
            "gridwidth": 2,
            "linecolor": "white",
            "showbackground": true,
            "ticks": "",
            "zerolinecolor": "white"
           },
           "zaxis": {
            "backgroundcolor": "#E5ECF6",
            "gridcolor": "white",
            "gridwidth": 2,
            "linecolor": "white",
            "showbackground": true,
            "ticks": "",
            "zerolinecolor": "white"
           }
          },
          "shapedefaults": {
           "line": {
            "color": "#2a3f5f"
           }
          },
          "ternary": {
           "aaxis": {
            "gridcolor": "white",
            "linecolor": "white",
            "ticks": ""
           },
           "baxis": {
            "gridcolor": "white",
            "linecolor": "white",
            "ticks": ""
           },
           "bgcolor": "#E5ECF6",
           "caxis": {
            "gridcolor": "white",
            "linecolor": "white",
            "ticks": ""
           }
          },
          "title": {
           "x": 0.05
          },
          "xaxis": {
           "automargin": true,
           "gridcolor": "white",
           "linecolor": "white",
           "ticks": "",
           "title": {
            "standoff": 15
           },
           "zerolinecolor": "white",
           "zerolinewidth": 2
          },
          "yaxis": {
           "automargin": true,
           "gridcolor": "white",
           "linecolor": "white",
           "ticks": "",
           "title": {
            "standoff": 15
           },
           "zerolinecolor": "white",
           "zerolinewidth": 2
          }
         }
        },
        "title": {
         "text": "Hyperparameter Importances"
        },
        "xaxis": {
         "title": {
          "text": "Hyperparameter Importance"
         }
        },
        "yaxis": {
         "title": {
          "text": "Hyperparameter"
         }
        }
       }
      }
     },
     "metadata": {},
     "output_type": "display_data"
    }
   ],
   "source": [
    "plot_param_importances(study)"
   ]
  },
  {
   "cell_type": "code",
   "execution_count": 24,
   "metadata": {},
   "outputs": [
    {
     "data": {
      "text/plain": [
       "FrozenTrial(number=10, state=TrialState.COMPLETE, values=[0.987959086894989], datetime_start=datetime.datetime(2024, 3, 19, 20, 2, 52, 371314), datetime_complete=datetime.datetime(2024, 3, 19, 20, 3, 43, 204681), params={'num_layers': 1, 'layer_size': 763, 'dropout_rate': 0.13714949392899192, 'use_batch_norm': False, 'activation': 'tanh', 'learning_rate': 0.00010157391045421977}, user_attrs={}, system_attrs={}, intermediate_values={0: 0.3238540589809418, 1: 0.2448163479566574, 2: 0.18906839191913605, 3: 0.1632336676120758, 4: 0.14054667949676514, 5: 0.12353552132844925, 6: 0.10443636029958725, 7: 0.09346316009759903, 8: 0.08571696281433105, 9: 0.07661384344100952, 10: 0.07303795218467712, 11: 0.07291659712791443, 12: 0.06954682618379593, 13: 0.062357641756534576, 14: 0.06531557440757751, 15: 0.05640150606632233, 16: 0.05698106437921524, 17: 0.05346554145216942, 18: 0.05226834863424301, 19: 0.05086370185017586, 20: 0.0502149723470211, 21: 0.051497992128133774, 22: 0.049759894609451294, 23: 0.05178232491016388, 24: 0.0486082099378109, 25: 0.05331255868077278, 26: 0.047573842108249664, 27: 0.05048505961894989, 28: 0.05782688781619072, 29: 0.047336168587207794, 30: 0.04473380744457245, 31: 0.0450737327337265, 32: 0.044384658336639404, 33: 0.045652586966753006, 34: 0.050424959510564804, 35: 0.04438718035817146}, distributions={'num_layers': IntDistribution(high=2, log=False, low=1, step=1), 'layer_size': IntDistribution(high=800, log=False, low=50, step=1), 'dropout_rate': FloatDistribution(high=0.2, log=False, low=0.1, step=None), 'use_batch_norm': CategoricalDistribution(choices=(True, False)), 'activation': CategoricalDistribution(choices=('relu', 'tanh')), 'learning_rate': FloatDistribution(high=0.001, log=True, low=0.0001, step=None)}, trial_id=10, value=None)"
      ]
     },
     "execution_count": 24,
     "metadata": {},
     "output_type": "execute_result"
    }
   ],
   "source": [
    "\n",
    "# Get the best trial\n",
    "best_trial = study.best_trial\n",
    "best_trial\n"
   ]
  },
  {
   "cell_type": "code",
   "execution_count": 12,
   "metadata": {},
   "outputs": [
    {
     "name": "stdout",
     "output_type": "stream",
     "text": [
      "[    0 54729  4075  3746  2328  1850   388]\n"
     ]
    }
   ],
   "source": [
    "class_counts = np.bincount(y_test.astype(int))\n",
    "print(class_counts)\n"
   ]
  },
  {
   "cell_type": "code",
   "execution_count": 20,
   "metadata": {},
   "outputs": [
    {
     "ename": "NameError",
     "evalue": "name 'mlp' is not defined",
     "output_type": "error",
     "traceback": [
      "\u001b[1;31m---------------------------------------------------------------------------\u001b[0m",
      "\u001b[1;31mNameError\u001b[0m                                 Traceback (most recent call last)",
      "Cell \u001b[1;32mIn[20], line 4\u001b[0m\n\u001b[0;32m      1\u001b[0m \u001b[38;5;28;01mfrom\u001b[39;00m \u001b[38;5;21;01msklearn\u001b[39;00m\u001b[38;5;21;01m.\u001b[39;00m\u001b[38;5;21;01mmetrics\u001b[39;00m \u001b[38;5;28;01mimport\u001b[39;00m confusion_matrix, f1_score\n\u001b[0;32m      3\u001b[0m \u001b[38;5;66;03m# Predict the test data\u001b[39;00m\n\u001b[1;32m----> 4\u001b[0m y_pred \u001b[38;5;241m=\u001b[39m \u001b[43mmlp\u001b[49m\u001b[38;5;241m.\u001b[39mpredict(X_test1)\n\u001b[0;32m      6\u001b[0m \u001b[38;5;66;03m# Convert the predicted probabilities to class labels\u001b[39;00m\n\u001b[0;32m      7\u001b[0m y_pred_labels \u001b[38;5;241m=\u001b[39m np\u001b[38;5;241m.\u001b[39margmax(y_pred, axis\u001b[38;5;241m=\u001b[39m\u001b[38;5;241m1\u001b[39m)\n",
      "\u001b[1;31mNameError\u001b[0m: name 'mlp' is not defined"
     ]
    }
   ],
   "source": [
    "from sklearn.metrics import confusion_matrix, f1_score\n",
    "\n",
    "# Predict the test data\n",
    "y_pred = mlp.predict(X_test1)\n",
    "\n",
    "# Convert the predicted probabilities to class labels\n",
    "y_pred_labels = np.argmax(y_pred, axis=1)\n",
    "\n",
    "# Create the confusion matrix\n",
    "cm = confusion_matrix(y_test, y_pred_labels)\n",
    "print(\"Confusion Matrix:\")\n",
    "print(cm)\n",
    "\n",
    "# Calculate the F1 score\n",
    "f1 = f1_score(y_test, y_pred_labels, average='weighted')\n",
    "print(\"F1 Score:\", f1)\n",
    "\n",
    "\n"
   ]
  },
  {
   "cell_type": "code",
   "execution_count": null,
   "metadata": {},
   "outputs": [],
   "source": []
  },
  {
   "cell_type": "code",
   "execution_count": null,
   "metadata": {},
   "outputs": [],
   "source": []
  }
 ],
 "metadata": {
  "kernelspec": {
   "display_name": "Python 3",
   "language": "python",
   "name": "python3"
  },
  "language_info": {
   "codemirror_mode": {
    "name": "ipython",
    "version": 3
   },
   "file_extension": ".py",
   "mimetype": "text/x-python",
   "name": "python",
   "nbconvert_exporter": "python",
   "pygments_lexer": "ipython3",
   "version": "3.10.12"
  }
 },
 "nbformat": 4,
 "nbformat_minor": 2
}
