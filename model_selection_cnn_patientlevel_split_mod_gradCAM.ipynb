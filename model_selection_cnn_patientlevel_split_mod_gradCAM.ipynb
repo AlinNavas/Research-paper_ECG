{
 "cells": [
  {
   "cell_type": "code",
   "execution_count": 1,
   "metadata": {},
   "outputs": [
    {
     "name": "stderr",
     "output_type": "stream",
     "text": [
      "2024-03-26 19:27:34.004833: I tensorflow/core/util/port.cc:113] oneDNN custom operations are on. You may see slightly different numerical results due to floating-point round-off errors from different computation orders. To turn them off, set the environment variable `TF_ENABLE_ONEDNN_OPTS=0`.\n",
      "2024-03-26 19:27:34.027543: E external/local_xla/xla/stream_executor/cuda/cuda_dnn.cc:9261] Unable to register cuDNN factory: Attempting to register factory for plugin cuDNN when one has already been registered\n",
      "2024-03-26 19:27:34.027561: E external/local_xla/xla/stream_executor/cuda/cuda_fft.cc:607] Unable to register cuFFT factory: Attempting to register factory for plugin cuFFT when one has already been registered\n",
      "2024-03-26 19:27:34.028673: E external/local_xla/xla/stream_executor/cuda/cuda_blas.cc:1515] Unable to register cuBLAS factory: Attempting to register factory for plugin cuBLAS when one has already been registered\n",
      "2024-03-26 19:27:34.033012: I tensorflow/core/platform/cpu_feature_guard.cc:182] This TensorFlow binary is optimized to use available CPU instructions in performance-critical operations.\n",
      "To enable the following instructions: AVX2 AVX_VNNI FMA, in other operations, rebuild TensorFlow with the appropriate compiler flags.\n",
      "2024-03-26 19:27:34.505380: W tensorflow/compiler/tf2tensorrt/utils/py_utils.cc:38] TF-TRT Warning: Could not find TensorRT\n"
     ]
    }
   ],
   "source": [
    "import numpy as np\n",
    "import pickle\n",
    "import glob\n",
    "import matplotlib.pyplot as plt\n",
    "import pandas as pd\n",
    "from scipy import *\n",
    "import os\n",
    "import seaborn as sns\n",
    "import tensorflow as tf\n",
    "from tensorflow.keras.utils import to_categorical\n",
    "from tensorflow.keras.models import Sequential\n",
    "from tensorflow.keras.layers import Dense, Dropout,Conv1D,MaxPooling1D,Flatten,BatchNormalization\n",
    "from sklearn.model_selection import train_test_split\n",
    "from sklearn import *\n",
    "from sklearn.metrics import *\n",
    "sns.set()\n",
    "import warnings\n",
    "warnings.filterwarnings(\"ignore\")\n",
    "length = 277"
   ]
  },
  {
   "cell_type": "code",
   "execution_count": 2,
   "metadata": {},
   "outputs": [
    {
     "name": "stdout",
     "output_type": "stream",
     "text": [
      "[name: \"/device:CPU:0\"\n",
      "device_type: \"CPU\"\n",
      "memory_limit: 268435456\n",
      "locality {\n",
      "}\n",
      "incarnation: 17623689598673955715\n",
      "xla_global_id: -1\n",
      ", name: \"/device:GPU:0\"\n",
      "device_type: \"GPU\"\n",
      "memory_limit: 5803868160\n",
      "locality {\n",
      "  bus_id: 1\n",
      "  links {\n",
      "  }\n",
      "}\n",
      "incarnation: 8950066975517240723\n",
      "physical_device_desc: \"device: 0, name: NVIDIA GeForce RTX 4070 Laptop GPU, pci bus id: 0000:01:00.0, compute capability: 8.9\"\n",
      "xla_global_id: 416903419\n",
      "]\n"
     ]
    },
    {
     "name": "stderr",
     "output_type": "stream",
     "text": [
      "2024-03-26 19:27:34.912667: I external/local_xla/xla/stream_executor/cuda/cuda_executor.cc:887] could not open file to read NUMA node: /sys/bus/pci/devices/0000:01:00.0/numa_node\n",
      "Your kernel may have been built without NUMA support.\n",
      "2024-03-26 19:27:34.932270: I external/local_xla/xla/stream_executor/cuda/cuda_executor.cc:887] could not open file to read NUMA node: /sys/bus/pci/devices/0000:01:00.0/numa_node\n",
      "Your kernel may have been built without NUMA support.\n",
      "2024-03-26 19:27:34.932310: I external/local_xla/xla/stream_executor/cuda/cuda_executor.cc:887] could not open file to read NUMA node: /sys/bus/pci/devices/0000:01:00.0/numa_node\n",
      "Your kernel may have been built without NUMA support.\n",
      "2024-03-26 19:27:35.024934: I external/local_xla/xla/stream_executor/cuda/cuda_executor.cc:887] could not open file to read NUMA node: /sys/bus/pci/devices/0000:01:00.0/numa_node\n",
      "Your kernel may have been built without NUMA support.\n",
      "2024-03-26 19:27:35.024979: I external/local_xla/xla/stream_executor/cuda/cuda_executor.cc:887] could not open file to read NUMA node: /sys/bus/pci/devices/0000:01:00.0/numa_node\n",
      "Your kernel may have been built without NUMA support.\n",
      "2024-03-26 19:27:35.024984: I tensorflow/core/common_runtime/gpu/gpu_device.cc:2022] Could not identify NUMA node of platform GPU id 0, defaulting to 0.  Your kernel may not have been built with NUMA support.\n",
      "2024-03-26 19:27:35.025010: I external/local_xla/xla/stream_executor/cuda/cuda_executor.cc:887] could not open file to read NUMA node: /sys/bus/pci/devices/0000:01:00.0/numa_node\n",
      "Your kernel may have been built without NUMA support.\n",
      "2024-03-26 19:27:35.025023: I tensorflow/core/common_runtime/gpu/gpu_device.cc:1929] Created device /device:GPU:0 with 5535 MB memory:  -> device: 0, name: NVIDIA GeForce RTX 4070 Laptop GPU, pci bus id: 0000:01:00.0, compute capability: 8.9\n"
     ]
    }
   ],
   "source": [
    "from tensorflow.python.client import device_lib\n",
    "print(device_lib.list_local_devices())"
   ]
  },
  {
   "cell_type": "code",
   "execution_count": 3,
   "metadata": {},
   "outputs": [
    {
     "name": "stdout",
     "output_type": "stream",
     "text": [
      "(38751, 277)\n",
      "(72794, 277)\n",
      "X_train shape: (31000, 275)\n",
      "X_val shape: (7751, 275)\n",
      "y_train shape: (31000,)\n",
      "y_val shape: (7751,)\n"
     ]
    }
   ],
   "source": [
    "train_values = pd.read_csv('./data/train_test/train_patients.csv').values\n",
    "test_values = pd.read_csv('./data/train_test/test_patients.csv').values\n",
    "    \n",
    "print(train_values.shape)\n",
    "print(test_values.shape)\n",
    "\n",
    "# Separate the training and testing data, and one-hot encode Y:\n",
    "X_train = train_values[:,:-2]\n",
    "X_test = test_values[:,:-2]\n",
    "y_train = train_values[:,-2]\n",
    "y_test = test_values[:,-2]\n",
    "X_test1 = X_test.reshape(-1, X_train.shape[1], 1)\n",
    "y_test1=to_categorical(y_test)\n",
    "\n",
    "\n",
    "X_train, X_val, y_train, y_val = train_test_split(X_train, y_train, test_size=0.2, random_state=42, stratify=y_train)\n",
    "\n",
    "print(\"X_train shape:\", X_train.shape)\n",
    "print(\"X_val shape:\", X_val.shape)\n",
    "print(\"y_train shape:\", y_train.shape)\n",
    "print(\"y_val shape:\", y_val.shape)\n",
    "X_train1 = X_train.reshape(-1, X_train.shape[1], 1)\n",
    "y_train1=to_categorical(y_train)\n",
    "\n",
    "X_val1 = X_val.reshape(-1, X_train.shape[1], 1)\n",
    "y_val1=to_categorical(y_val)\n"
   ]
  },
  {
   "cell_type": "code",
   "execution_count": 4,
   "metadata": {},
   "outputs": [
    {
     "name": "stdout",
     "output_type": "stream",
     "text": [
      "Model: \"sequential\"\n",
      "_________________________________________________________________\n",
      " Layer (type)                Output Shape              Param #   \n",
      "=================================================================\n",
      " conv1d (Conv1D)             (None, 275, 396)          2376      \n",
      "                                                                 \n",
      " batch_normalization (Batch  (None, 275, 396)          1584      \n",
      " Normalization)                                                  \n",
      "                                                                 \n",
      " conv1d_1 (Conv1D)           (None, 275, 192)          532416    \n",
      "                                                                 \n",
      " batch_normalization_1 (Bat  (None, 275, 192)          768       \n",
      " chNormalization)                                                \n",
      "                                                                 \n",
      " conv1d_2 (Conv1D)           (None, 275, 88)           152152    \n",
      "                                                                 \n",
      " batch_normalization_2 (Bat  (None, 275, 88)           352       \n",
      " chNormalization)                                                \n",
      "                                                                 \n",
      " last_conv_layer (Conv1D)    (None, 275, 34)           32946     \n",
      "                                                                 \n",
      " max_pooling1d (MaxPooling1  (None, 137, 34)           0         \n",
      " D)                                                              \n",
      "                                                                 \n",
      " flatten (Flatten)           (None, 4658)              0         \n",
      "                                                                 \n",
      " dense (Dense)               (None, 30)                139770    \n",
      "                                                                 \n",
      " dense_1 (Dense)             (None, 20)                620       \n",
      "                                                                 \n",
      " dense_2 (Dense)             (None, 7)                 147       \n",
      "                                                                 \n",
      "=================================================================\n",
      "Total params: 863131 (3.29 MB)\n",
      "Trainable params: 861779 (3.29 MB)\n",
      "Non-trainable params: 1352 (5.28 KB)\n",
      "_________________________________________________________________\n"
     ]
    },
    {
     "name": "stderr",
     "output_type": "stream",
     "text": [
      "2024-03-26 19:27:36.836154: I external/local_xla/xla/stream_executor/cuda/cuda_executor.cc:887] could not open file to read NUMA node: /sys/bus/pci/devices/0000:01:00.0/numa_node\n",
      "Your kernel may have been built without NUMA support.\n",
      "2024-03-26 19:27:36.836217: I external/local_xla/xla/stream_executor/cuda/cuda_executor.cc:887] could not open file to read NUMA node: /sys/bus/pci/devices/0000:01:00.0/numa_node\n",
      "Your kernel may have been built without NUMA support.\n",
      "2024-03-26 19:27:36.836233: I external/local_xla/xla/stream_executor/cuda/cuda_executor.cc:887] could not open file to read NUMA node: /sys/bus/pci/devices/0000:01:00.0/numa_node\n",
      "Your kernel may have been built without NUMA support.\n",
      "2024-03-26 19:27:36.836338: I external/local_xla/xla/stream_executor/cuda/cuda_executor.cc:887] could not open file to read NUMA node: /sys/bus/pci/devices/0000:01:00.0/numa_node\n",
      "Your kernel may have been built without NUMA support.\n",
      "2024-03-26 19:27:36.836357: I external/local_xla/xla/stream_executor/cuda/cuda_executor.cc:887] could not open file to read NUMA node: /sys/bus/pci/devices/0000:01:00.0/numa_node\n",
      "Your kernel may have been built without NUMA support.\n",
      "2024-03-26 19:27:36.836369: I external/local_xla/xla/stream_executor/cuda/cuda_executor.cc:887] could not open file to read NUMA node: /sys/bus/pci/devices/0000:01:00.0/numa_node\n",
      "Your kernel may have been built without NUMA support.\n",
      "2024-03-26 19:27:36.836627: I external/local_xla/xla/stream_executor/cuda/cuda_executor.cc:887] could not open file to read NUMA node: /sys/bus/pci/devices/0000:01:00.0/numa_node\n",
      "Your kernel may have been built without NUMA support.\n",
      "2024-03-26 19:27:36.836640: I tensorflow/core/common_runtime/gpu/gpu_device.cc:2022] Could not identify NUMA node of platform GPU id 0, defaulting to 0.  Your kernel may not have been built with NUMA support.\n",
      "2024-03-26 19:27:36.836663: I external/local_xla/xla/stream_executor/cuda/cuda_executor.cc:887] could not open file to read NUMA node: /sys/bus/pci/devices/0000:01:00.0/numa_node\n",
      "Your kernel may have been built without NUMA support.\n",
      "2024-03-26 19:27:36.836676: I tensorflow/core/common_runtime/gpu/gpu_device.cc:1929] Created device /job:localhost/replica:0/task:0/device:GPU:0 with 5535 MB memory:  -> device: 0, name: NVIDIA GeForce RTX 4070 Laptop GPU, pci bus id: 0000:01:00.0, compute capability: 8.9\n"
     ]
    }
   ],
   "source": [
    "# Initialize the model\n",
    "cnnmodel = Sequential()\n",
    "\n",
    "# Ensure the input_shape parameter matches the shape of X_train1\n",
    "cnnmodel.add(Conv1D(396, 5, strides=1,padding='same', activation='relu', input_shape=(X_train1.shape[1],X_train1.shape[2])))\n",
    "cnnmodel.add(BatchNormalization())\n",
    "\n",
    "cnnmodel.add(Conv1D(192, 7, strides=1,padding='same', activation='relu'))\n",
    "\n",
    "cnnmodel.add(BatchNormalization())\n",
    "cnnmodel.add(Conv1D(88, 9, strides=1,padding='same', activation='relu'))\n",
    "cnnmodel.add(BatchNormalization())\n",
    "cnnmodel.add(Conv1D(34, 11, strides=1,padding='same', activation='relu', name = 'last_conv_layer'))\n",
    "cnnmodel.add(MaxPooling1D(pool_size=2, strides=2))\n",
    "\n",
    "# Flatten the tensor output from the convolutional part of the CNN\n",
    "cnnmodel.add(Flatten())\n",
    "\n",
    "# Add fully connected layers\n",
    "cnnmodel.add(Dense(30, activation='relu'))\n",
    "cnnmodel.add(Dense(20, activation='relu'))\n",
    "cnnmodel.add(Dense(7, activation='softmax'))  \n",
    "\n",
    "cnnmodel.summary()"
   ]
  },
  {
   "cell_type": "code",
   "execution_count": 7,
   "metadata": {},
   "outputs": [
    {
     "name": "stdout",
     "output_type": "stream",
     "text": [
      "Epoch 1/50\n"
     ]
    },
    {
     "name": "stderr",
     "output_type": "stream",
     "text": [
      "2024-03-26 19:27:43.960600: I external/local_xla/xla/stream_executor/cuda/cuda_dnn.cc:454] Loaded cuDNN version 8904\n",
      "2024-03-26 19:27:44.102112: I external/local_tsl/tsl/platform/default/subprocess.cc:304] Start cannot spawn child process: No such file or directory\n",
      "2024-03-26 19:27:44.656626: I external/local_tsl/tsl/platform/default/subprocess.cc:304] Start cannot spawn child process: No such file or directory\n",
      "2024-03-26 19:27:45.257180: I external/local_xla/xla/service/service.cc:168] XLA service 0x7f8e8d3421d0 initialized for platform CUDA (this does not guarantee that XLA will be used). Devices:\n",
      "2024-03-26 19:27:45.257223: I external/local_xla/xla/service/service.cc:176]   StreamExecutor device (0): NVIDIA GeForce RTX 4070 Laptop GPU, Compute Capability 8.9\n",
      "2024-03-26 19:27:45.261756: I tensorflow/compiler/mlir/tensorflow/utils/dump_mlir_util.cc:269] disabling MLIR crash reproducer, set env var `MLIR_CRASH_REPRODUCER_DIRECTORY` to enable.\n",
      "WARNING: All log messages before absl::InitializeLog() is called are written to STDERR\n",
      "I0000 00:00:1711481265.310543  102322 device_compiler.h:186] Compiled cluster using XLA!  This line is logged at most once for the lifetime of the process.\n"
     ]
    },
    {
     "name": "stdout",
     "output_type": "stream",
     "text": [
      "969/969 [==============================] - 17s 13ms/step - loss: 0.2431 - accuracy: 0.9269 - val_loss: 0.1314 - val_accuracy: 0.9587\n",
      "Epoch 2/50\n",
      "969/969 [==============================] - 12s 12ms/step - loss: 0.1085 - accuracy: 0.9669 - val_loss: 0.1082 - val_accuracy: 0.9663\n",
      "Epoch 3/50\n",
      "969/969 [==============================] - 12s 12ms/step - loss: 0.0850 - accuracy: 0.9735 - val_loss: 0.1011 - val_accuracy: 0.9715\n",
      "Epoch 4/50\n",
      "969/969 [==============================] - 12s 12ms/step - loss: 0.0635 - accuracy: 0.9795 - val_loss: 0.0695 - val_accuracy: 0.9799\n",
      "Epoch 5/50\n",
      "969/969 [==============================] - 12s 12ms/step - loss: 0.0513 - accuracy: 0.9831 - val_loss: 0.0848 - val_accuracy: 0.9781\n",
      "Epoch 6/50\n",
      "969/969 [==============================] - 12s 12ms/step - loss: 0.0460 - accuracy: 0.9854 - val_loss: 0.0671 - val_accuracy: 0.9799\n",
      "Epoch 7/50\n",
      "969/969 [==============================] - 12s 12ms/step - loss: 0.0372 - accuracy: 0.9879 - val_loss: 0.0857 - val_accuracy: 0.9757\n",
      "Epoch 8/50\n",
      "969/969 [==============================] - 12s 12ms/step - loss: 0.0291 - accuracy: 0.9905 - val_loss: 0.1357 - val_accuracy: 0.9650\n",
      "Epoch 9/50\n",
      "969/969 [==============================] - 12s 12ms/step - loss: 0.0340 - accuracy: 0.9894 - val_loss: 0.0684 - val_accuracy: 0.9814\n",
      "Epoch 10/50\n",
      "969/969 [==============================] - 12s 13ms/step - loss: 0.0233 - accuracy: 0.9925 - val_loss: 0.0858 - val_accuracy: 0.9785\n",
      "Epoch 11/50\n",
      "969/969 [==============================] - 13s 13ms/step - loss: 0.0181 - accuracy: 0.9947 - val_loss: 0.0837 - val_accuracy: 0.9836\n",
      "Epoch 12/50\n",
      "969/969 [==============================] - 13s 13ms/step - loss: 0.0195 - accuracy: 0.9938 - val_loss: 0.0631 - val_accuracy: 0.9877\n",
      "Epoch 13/50\n",
      "969/969 [==============================] - 13s 13ms/step - loss: 0.0237 - accuracy: 0.9932 - val_loss: 0.0704 - val_accuracy: 0.9866\n",
      "Epoch 14/50\n",
      "969/969 [==============================] - 13s 13ms/step - loss: 0.0195 - accuracy: 0.9938 - val_loss: 0.0668 - val_accuracy: 0.9849\n",
      "Epoch 15/50\n",
      "969/969 [==============================] - 12s 13ms/step - loss: 0.0169 - accuracy: 0.9946 - val_loss: 0.0819 - val_accuracy: 0.9834\n",
      "Epoch 16/50\n",
      "969/969 [==============================] - 12s 13ms/step - loss: 0.0139 - accuracy: 0.9956 - val_loss: 0.0653 - val_accuracy: 0.9865\n",
      "Epoch 17/50\n",
      "969/969 [==============================] - 12s 13ms/step - loss: 0.0116 - accuracy: 0.9967 - val_loss: 0.1139 - val_accuracy: 0.9796\n",
      "Epoch 18/50\n",
      "969/969 [==============================] - 12s 13ms/step - loss: 0.0143 - accuracy: 0.9955 - val_loss: 0.1297 - val_accuracy: 0.9843\n",
      "Epoch 19/50\n",
      "969/969 [==============================] - 12s 13ms/step - loss: 0.0141 - accuracy: 0.9963 - val_loss: 0.0754 - val_accuracy: 0.9841\n",
      "Epoch 20/50\n",
      "969/969 [==============================] - 12s 13ms/step - loss: 0.0092 - accuracy: 0.9974 - val_loss: 0.0933 - val_accuracy: 0.9840\n",
      "Epoch 21/50\n",
      "969/969 [==============================] - 13s 13ms/step - loss: 0.0145 - accuracy: 0.9959 - val_loss: 0.1129 - val_accuracy: 0.9845\n",
      "Epoch 22/50\n",
      "969/969 [==============================] - 13s 13ms/step - loss: 0.0126 - accuracy: 0.9966 - val_loss: 0.0719 - val_accuracy: 0.9885\n"
     ]
    }
   ],
   "source": [
    "cnnmodel.compile(optimizer=tf.keras.optimizers.Adam(learning_rate=0.001), loss='categorical_crossentropy', metrics=['accuracy'])\n",
    "early_stopping = tf.keras.callbacks.EarlyStopping(monitor='val_loss', patience=10, mode='min',min_delta=0.001, restore_best_weights=True)\n",
    "history = cnnmodel.fit(X_train1, y_train1, validation_data=(X_val1, y_val1), epochs=50,callbacks=[early_stopping], verbose=1)\n"
   ]
  },
  {
   "cell_type": "code",
   "execution_count": 8,
   "metadata": {},
   "outputs": [
    {
     "name": "stdout",
     "output_type": "stream",
     "text": [
      "[    0 58951  2493  6725  2923  1277   425]\n"
     ]
    }
   ],
   "source": [
    "class_counts = np.bincount(y_test.astype(int))\n",
    "print(class_counts)\n"
   ]
  },
  {
   "cell_type": "code",
   "execution_count": 9,
   "metadata": {},
   "outputs": [
    {
     "name": "stdout",
     "output_type": "stream",
     "text": [
      "2275/2275 [==============================] - 6s 3ms/step\n",
      "Confusion Matrix:\n",
      "[[58676     0    19    71   159    26]\n",
      " [    0  2492     1     0     0     0]\n",
      " [   39     0  6663     9    12     2]\n",
      " [   44     0     9  2854     2    14]\n",
      " [   64     0    10     1  1202     0]\n",
      " [    0     0     1     1     0   423]]\n",
      "F1 Score: 0.9934256327252254\n"
     ]
    }
   ],
   "source": [
    "from sklearn.metrics import confusion_matrix, f1_score\n",
    "\n",
    "# Predict the test data\n",
    "y_pred = cnnmodel.predict(X_test1)\n",
    "\n",
    "# Convert the predicted probabilities to class labels\n",
    "y_pred_labels = np.argmax(y_pred, axis=1)\n",
    "\n",
    "# Create the confusion matrix\n",
    "cm = confusion_matrix(y_test, y_pred_labels)\n",
    "print(\"Confusion Matrix:\")\n",
    "print(cm)\n",
    "\n",
    "# Calculate the F1 score\n",
    "f1 = f1_score(y_test, y_pred_labels, average='weighted')\n",
    "print(\"F1 Score:\", f1)\n",
    "\n",
    "\n"
   ]
  },
  {
   "cell_type": "code",
   "execution_count": 11,
   "metadata": {},
   "outputs": [],
   "source": [
    "cnnmodel.save('./models/cnnmodel_grad.h5')\n"
   ]
  },
  {
   "cell_type": "code",
   "execution_count": null,
   "metadata": {},
   "outputs": [],
   "source": []
  }
 ],
 "metadata": {
  "kernelspec": {
   "display_name": "Python 3",
   "language": "python",
   "name": "python3"
  },
  "language_info": {
   "codemirror_mode": {
    "name": "ipython",
    "version": 3
   },
   "file_extension": ".py",
   "mimetype": "text/x-python",
   "name": "python",
   "nbconvert_exporter": "python",
   "pygments_lexer": "ipython3",
   "version": "3.10.12"
  }
 },
 "nbformat": 4,
 "nbformat_minor": 2
}
