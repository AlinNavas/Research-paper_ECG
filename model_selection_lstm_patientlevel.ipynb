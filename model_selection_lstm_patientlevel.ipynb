{
 "cells": [
  {
   "cell_type": "code",
   "execution_count": 1,
   "metadata": {},
   "outputs": [
    {
     "name": "stderr",
     "output_type": "stream",
     "text": [
      "2024-03-21 13:09:12.438344: I tensorflow/core/util/port.cc:113] oneDNN custom operations are on. You may see slightly different numerical results due to floating-point round-off errors from different computation orders. To turn them off, set the environment variable `TF_ENABLE_ONEDNN_OPTS=0`.\n",
      "2024-03-21 13:09:12.463576: E external/local_xla/xla/stream_executor/cuda/cuda_dnn.cc:9261] Unable to register cuDNN factory: Attempting to register factory for plugin cuDNN when one has already been registered\n",
      "2024-03-21 13:09:12.463601: E external/local_xla/xla/stream_executor/cuda/cuda_fft.cc:607] Unable to register cuFFT factory: Attempting to register factory for plugin cuFFT when one has already been registered\n",
      "2024-03-21 13:09:12.464719: E external/local_xla/xla/stream_executor/cuda/cuda_blas.cc:1515] Unable to register cuBLAS factory: Attempting to register factory for plugin cuBLAS when one has already been registered\n",
      "2024-03-21 13:09:12.471226: I tensorflow/core/platform/cpu_feature_guard.cc:182] This TensorFlow binary is optimized to use available CPU instructions in performance-critical operations.\n",
      "To enable the following instructions: AVX2 AVX_VNNI FMA, in other operations, rebuild TensorFlow with the appropriate compiler flags.\n",
      "2024-03-21 13:09:12.967802: W tensorflow/compiler/tf2tensorrt/utils/py_utils.cc:38] TF-TRT Warning: Could not find TensorRT\n"
     ]
    }
   ],
   "source": [
    "import numpy as np\n",
    "import pickle\n",
    "import glob\n",
    "import matplotlib.pyplot as plt\n",
    "import pandas as pd\n",
    "from scipy import *\n",
    "import os\n",
    "import seaborn as sns\n",
    "import tensorflow as tf\n",
    "from tensorflow.keras.utils import to_categorical\n",
    "from tensorflow.keras.models import Sequential\n",
    "from tensorflow.keras.layers import Dense\n",
    "from sklearn.model_selection import train_test_split\n",
    "from sklearn import *\n",
    "from sklearn.metrics import *\n",
    "sns.set()\n",
    "import warnings\n",
    "warnings.filterwarnings(\"ignore\")\n",
    "length = 277"
   ]
  },
  {
   "cell_type": "code",
   "execution_count": 2,
   "metadata": {},
   "outputs": [
    {
     "name": "stdout",
     "output_type": "stream",
     "text": [
      "[name: \"/device:CPU:0\"\n",
      "device_type: \"CPU\"\n",
      "memory_limit: 268435456\n",
      "locality {\n",
      "}\n",
      "incarnation: 4464737719208833591\n",
      "xla_global_id: -1\n",
      ", name: \"/device:GPU:0\"\n",
      "device_type: \"GPU\"\n",
      "memory_limit: 2100822016\n",
      "locality {\n",
      "  bus_id: 1\n",
      "  links {\n",
      "  }\n",
      "}\n",
      "incarnation: 4509028172416448216\n",
      "physical_device_desc: \"device: 0, name: NVIDIA GeForce RTX 4070 Laptop GPU, pci bus id: 0000:01:00.0, compute capability: 8.9\"\n",
      "xla_global_id: 416903419\n",
      "]\n"
     ]
    },
    {
     "name": "stderr",
     "output_type": "stream",
     "text": [
      "2024-03-21 13:09:13.420207: I external/local_xla/xla/stream_executor/cuda/cuda_executor.cc:887] could not open file to read NUMA node: /sys/bus/pci/devices/0000:01:00.0/numa_node\n",
      "Your kernel may have been built without NUMA support.\n",
      "2024-03-21 13:09:13.450894: I external/local_xla/xla/stream_executor/cuda/cuda_executor.cc:887] could not open file to read NUMA node: /sys/bus/pci/devices/0000:01:00.0/numa_node\n",
      "Your kernel may have been built without NUMA support.\n",
      "2024-03-21 13:09:13.450932: I external/local_xla/xla/stream_executor/cuda/cuda_executor.cc:887] could not open file to read NUMA node: /sys/bus/pci/devices/0000:01:00.0/numa_node\n",
      "Your kernel may have been built without NUMA support.\n",
      "2024-03-21 13:09:14.170847: I external/local_xla/xla/stream_executor/cuda/cuda_executor.cc:887] could not open file to read NUMA node: /sys/bus/pci/devices/0000:01:00.0/numa_node\n",
      "Your kernel may have been built without NUMA support.\n",
      "2024-03-21 13:09:14.170894: I external/local_xla/xla/stream_executor/cuda/cuda_executor.cc:887] could not open file to read NUMA node: /sys/bus/pci/devices/0000:01:00.0/numa_node\n",
      "Your kernel may have been built without NUMA support.\n",
      "2024-03-21 13:09:14.170900: I tensorflow/core/common_runtime/gpu/gpu_device.cc:2022] Could not identify NUMA node of platform GPU id 0, defaulting to 0.  Your kernel may not have been built with NUMA support.\n",
      "2024-03-21 13:09:14.170924: I external/local_xla/xla/stream_executor/cuda/cuda_executor.cc:887] could not open file to read NUMA node: /sys/bus/pci/devices/0000:01:00.0/numa_node\n",
      "Your kernel may have been built without NUMA support.\n",
      "2024-03-21 13:09:14.170937: I tensorflow/core/common_runtime/gpu/gpu_device.cc:1929] Created device /device:GPU:0 with 2003 MB memory:  -> device: 0, name: NVIDIA GeForce RTX 4070 Laptop GPU, pci bus id: 0000:01:00.0, compute capability: 8.9\n"
     ]
    }
   ],
   "source": [
    "from tensorflow.python.client import device_lib\n",
    "print(device_lib.list_local_devices())"
   ]
  },
  {
   "cell_type": "code",
   "execution_count": 3,
   "metadata": {},
   "outputs": [
    {
     "name": "stdout",
     "output_type": "stream",
     "text": [
      "(38751, 277)\n",
      "(72794, 277)\n",
      "X_train shape: (27125, 275)\n",
      "X_val shape: (11626, 275)\n",
      "y_train shape: (27125,)\n",
      "y_val shape: (11626,)\n"
     ]
    }
   ],
   "source": [
    "train_values = pd.read_csv('./data/train_test/train_patients.csv').values\n",
    "test_values = pd.read_csv('./data/train_test/test_patients.csv').values\n",
    "    \n",
    "print(train_values.shape)\n",
    "print(test_values.shape)\n",
    "\n",
    "# Separate the training and testing data, and one-hot encode Y:\n",
    "X_train = train_values[:,:-2]\n",
    "X_test = test_values[:,:-2]\n",
    "y_train = train_values[:,-2]\n",
    "y_test = test_values[:,-2]\n",
    "X_test1 = X_test.reshape(-1, X_train.shape[1], 1)\n",
    "y_test1=to_categorical(y_test)\n",
    "\n",
    "\n",
    "X_train, X_val, y_train, y_val = train_test_split(X_train, y_train, test_size=0.3, random_state=42,stratify=y_train)\n",
    "\n",
    "print(\"X_train shape:\", X_train.shape)\n",
    "print(\"X_val shape:\", X_val.shape)\n",
    "print(\"y_train shape:\", y_train.shape)\n",
    "print(\"y_val shape:\", y_val.shape)\n",
    "X_train1 = X_train.reshape(-1, X_train.shape[1], 1)\n",
    "y_train1=to_categorical(y_train)\n",
    "\n",
    "X_val1 = X_val.reshape(-1, X_train.shape[1], 1)\n",
    "y_val1=to_categorical(y_val)\n"
   ]
  },
  {
   "cell_type": "code",
   "execution_count": 4,
   "metadata": {},
   "outputs": [
    {
     "name": "stderr",
     "output_type": "stream",
     "text": [
      "2024-03-21 13:09:15.927103: I external/local_xla/xla/stream_executor/cuda/cuda_executor.cc:887] could not open file to read NUMA node: /sys/bus/pci/devices/0000:01:00.0/numa_node\n",
      "Your kernel may have been built without NUMA support.\n",
      "2024-03-21 13:09:15.927182: I external/local_xla/xla/stream_executor/cuda/cuda_executor.cc:887] could not open file to read NUMA node: /sys/bus/pci/devices/0000:01:00.0/numa_node\n",
      "Your kernel may have been built without NUMA support.\n",
      "2024-03-21 13:09:15.927201: I external/local_xla/xla/stream_executor/cuda/cuda_executor.cc:887] could not open file to read NUMA node: /sys/bus/pci/devices/0000:01:00.0/numa_node\n",
      "Your kernel may have been built without NUMA support.\n",
      "2024-03-21 13:09:15.927311: I external/local_xla/xla/stream_executor/cuda/cuda_executor.cc:887] could not open file to read NUMA node: /sys/bus/pci/devices/0000:01:00.0/numa_node\n",
      "Your kernel may have been built without NUMA support.\n",
      "2024-03-21 13:09:15.927327: I external/local_xla/xla/stream_executor/cuda/cuda_executor.cc:887] could not open file to read NUMA node: /sys/bus/pci/devices/0000:01:00.0/numa_node\n",
      "Your kernel may have been built without NUMA support.\n",
      "2024-03-21 13:09:15.927340: I external/local_xla/xla/stream_executor/cuda/cuda_executor.cc:887] could not open file to read NUMA node: /sys/bus/pci/devices/0000:01:00.0/numa_node\n",
      "Your kernel may have been built without NUMA support.\n",
      "2024-03-21 13:09:15.927619: I external/local_xla/xla/stream_executor/cuda/cuda_executor.cc:887] could not open file to read NUMA node: /sys/bus/pci/devices/0000:01:00.0/numa_node\n",
      "Your kernel may have been built without NUMA support.\n",
      "2024-03-21 13:09:15.927629: I tensorflow/core/common_runtime/gpu/gpu_device.cc:2022] Could not identify NUMA node of platform GPU id 0, defaulting to 0.  Your kernel may not have been built with NUMA support.\n",
      "2024-03-21 13:09:15.927651: I external/local_xla/xla/stream_executor/cuda/cuda_executor.cc:887] could not open file to read NUMA node: /sys/bus/pci/devices/0000:01:00.0/numa_node\n",
      "Your kernel may have been built without NUMA support.\n",
      "2024-03-21 13:09:15.927715: I tensorflow/core/common_runtime/gpu/gpu_device.cc:1929] Created device /job:localhost/replica:0/task:0/device:GPU:0 with 2003 MB memory:  -> device: 0, name: NVIDIA GeForce RTX 4070 Laptop GPU, pci bus id: 0000:01:00.0, compute capability: 8.9\n",
      "2024-03-21 13:09:23.592199: I external/local_tsl/tsl/platform/default/subprocess.cc:304] Start cannot spawn child process: No such file or directory\n"
     ]
    },
    {
     "name": "stdout",
     "output_type": "stream",
     "text": [
      "Model: \"sequential\"\n",
      "_________________________________________________________________\n",
      " Layer (type)                Output Shape              Param #   \n",
      "=================================================================\n",
      " lstm (LSTM)                 (None, 275, 64)           16896     \n",
      "                                                                 \n",
      " lstm_1 (LSTM)               (None, 275, 64)           33024     \n",
      "                                                                 \n",
      " lstm_2 (LSTM)               (None, 275, 64)           33024     \n",
      "                                                                 \n",
      " last_lstm_layer (LSTM)      (None, 275, 64)           33024     \n",
      "                                                                 \n",
      " flatten (Flatten)           (None, 17600)             0         \n",
      "                                                                 \n",
      " dense (Dense)               (None, 7)                 123207    \n",
      "                                                                 \n",
      "=================================================================\n",
      "Total params: 239175 (934.28 KB)\n",
      "Trainable params: 239175 (934.28 KB)\n",
      "Non-trainable params: 0 (0.00 Byte)\n",
      "_________________________________________________________________\n"
     ]
    }
   ],
   "source": [
    "from keras.layers import LSTM, Dropout, Dense,Flatten\n",
    "from keras.optimizers import Nadam\n",
    "from keras.losses import categorical_crossentropy  \n",
    "from keras.utils import to_categorical\n",
    "from keras import backend as K\n",
    "\n",
    "def focal_loss(gamma=2.0):\n",
    "    def focal_loss_fixed(y_true, y_pred):\n",
    "        pt = y_pred * y_true + (1 - y_pred) * (1 - y_true)\n",
    "        loss = -K.pow(1 - pt, gamma) * K.log(pt)\n",
    "        return loss\n",
    "\n",
    "    return focal_loss_fixed\n",
    "\n",
    "\n",
    "# Initialize the model\n",
    "model = Sequential()\n",
    "\n",
    "model.add(LSTM(64, return_sequences=True, input_shape=(X_train1.shape[1],X_train1.shape[2])))\n",
    "model.add(LSTM(64, return_sequences=True))\n",
    "model.add(LSTM(64, return_sequences=True))\n",
    "model.add(LSTM(64, return_sequences=True, name = 'last_lstm_layer'))\n",
    "model.add(Flatten())\n",
    "# Add a Dense layer\n",
    "model.add(Dense(7, activation='softmax'))  # Assuming 10 classes for classification\n",
    "\n",
    "# Compile the model with focal loss\n",
    "model.compile(loss=focal_loss(gamma=2.0), optimizer=Nadam(), metrics=['accuracy'])\n",
    "model.summary()"
   ]
  },
  {
   "cell_type": "code",
   "execution_count": 5,
   "metadata": {},
   "outputs": [],
   "source": [
    "from sklearn.utils import class_weight\n",
    "class_weights = class_weight.compute_class_weight('balanced', classes=np.unique(y_train), y=y_train)\n"
   ]
  },
  {
   "cell_type": "code",
   "execution_count": 6,
   "metadata": {},
   "outputs": [
    {
     "data": {
      "text/plain": [
       "array([0.25926669, 2.33393564, 2.33273134, 2.33273134, 2.33393564,\n",
       "       2.33273134])"
      ]
     },
     "execution_count": 6,
     "metadata": {},
     "output_type": "execute_result"
    }
   ],
   "source": [
    "class_weights"
   ]
  },
  {
   "cell_type": "code",
   "execution_count": 7,
   "metadata": {},
   "outputs": [
    {
     "name": "stdout",
     "output_type": "stream",
     "text": [
      "Epoch 1/50\n"
     ]
    },
    {
     "name": "stderr",
     "output_type": "stream",
     "text": [
      "2024-03-21 13:09:26.235279: I external/local_xla/xla/stream_executor/cuda/cuda_dnn.cc:454] Loaded cuDNN version 8904\n",
      "2024-03-21 13:09:26.857391: I external/local_xla/xla/service/service.cc:168] XLA service 0x7f939c28aa50 initialized for platform CUDA (this does not guarantee that XLA will be used). Devices:\n",
      "2024-03-21 13:09:26.857431: I external/local_xla/xla/service/service.cc:176]   StreamExecutor device (0): NVIDIA GeForce RTX 4070 Laptop GPU, Compute Capability 8.9\n",
      "2024-03-21 13:09:26.864436: I tensorflow/compiler/mlir/tensorflow/utils/dump_mlir_util.cc:269] disabling MLIR crash reproducer, set env var `MLIR_CRASH_REPRODUCER_DIRECTORY` to enable.\n",
      "WARNING: All log messages before absl::InitializeLog() is called are written to STDERR\n",
      "I0000 00:00:1711026566.921973   36037 device_compiler.h:186] Compiled cluster using XLA!  This line is logged at most once for the lifetime of the process.\n"
     ]
    },
    {
     "name": "stdout",
     "output_type": "stream",
     "text": [
      "848/848 [==============================] - 62s 69ms/step - loss: 0.0278 - accuracy: 0.9018 - val_loss: 0.0157 - val_accuracy: 0.9471\n",
      "Epoch 2/50\n",
      "848/848 [==============================] - 67s 79ms/step - loss: 0.0137 - accuracy: 0.9495 - val_loss: 0.0106 - val_accuracy: 0.9610\n",
      "Epoch 3/50\n",
      "848/848 [==============================] - 66s 78ms/step - loss: 0.0101 - accuracy: 0.9611 - val_loss: 0.0091 - val_accuracy: 0.9646\n",
      "Epoch 4/50\n",
      "848/848 [==============================] - 60s 71ms/step - loss: 0.0085 - accuracy: 0.9671 - val_loss: 0.0088 - val_accuracy: 0.9675\n",
      "Epoch 5/50\n",
      "848/848 [==============================] - 66s 78ms/step - loss: 0.0071 - accuracy: 0.9721 - val_loss: 0.0073 - val_accuracy: 0.9718\n",
      "Epoch 6/50\n",
      "848/848 [==============================] - 59s 70ms/step - loss: 0.0061 - accuracy: 0.9747 - val_loss: 0.0068 - val_accuracy: 0.9741\n",
      "Epoch 7/50\n",
      "848/848 [==============================] - 54s 64ms/step - loss: 0.0056 - accuracy: 0.9777 - val_loss: 0.0070 - val_accuracy: 0.9768\n",
      "Epoch 8/50\n",
      "848/848 [==============================] - 56s 66ms/step - loss: 0.0049 - accuracy: 0.9802 - val_loss: 0.0065 - val_accuracy: 0.9775\n",
      "Epoch 9/50\n",
      "848/848 [==============================] - 59s 69ms/step - loss: 0.0044 - accuracy: 0.9816 - val_loss: 0.0061 - val_accuracy: 0.9770\n",
      "Epoch 10/50\n",
      "848/848 [==============================] - 63s 74ms/step - loss: 0.0040 - accuracy: 0.9832 - val_loss: 0.0069 - val_accuracy: 0.9769\n",
      "Epoch 11/50\n",
      "848/848 [==============================] - 63s 75ms/step - loss: 0.0037 - accuracy: 0.9844 - val_loss: 0.0060 - val_accuracy: 0.9787\n",
      "Epoch 12/50\n",
      "848/848 [==============================] - 59s 70ms/step - loss: 0.0034 - accuracy: 0.9858 - val_loss: 0.0049 - val_accuracy: 0.9828\n",
      "Epoch 13/50\n",
      "848/848 [==============================] - 59s 70ms/step - loss: 0.0032 - accuracy: 0.9877 - val_loss: 0.0047 - val_accuracy: 0.9837\n",
      "Epoch 14/50\n",
      "848/848 [==============================] - 56s 67ms/step - loss: 0.0030 - accuracy: 0.9879 - val_loss: 0.0097 - val_accuracy: 0.9693\n",
      "Epoch 15/50\n",
      "848/848 [==============================] - 67s 79ms/step - loss: 0.0026 - accuracy: 0.9891 - val_loss: 0.0059 - val_accuracy: 0.9814\n",
      "Epoch 16/50\n",
      "848/848 [==============================] - 62s 74ms/step - loss: 0.0026 - accuracy: 0.9891 - val_loss: 0.0052 - val_accuracy: 0.9831\n",
      "Epoch 17/50\n",
      "848/848 [==============================] - 58s 69ms/step - loss: 0.0021 - accuracy: 0.9913 - val_loss: 0.0054 - val_accuracy: 0.9836\n"
     ]
    }
   ],
   "source": [
    "\n",
    "early_stopping = tf.keras.callbacks.EarlyStopping(monitor='val_loss', patience=5, mode='min',min_delta=0.001, restore_best_weights=True)\n",
    "history = model.fit(X_train1, y_train1, validation_data=(X_val1, y_val1), epochs=50,callbacks=[early_stopping], verbose=1)\n",
    "\n",
    "\n"
   ]
  },
  {
   "cell_type": "code",
   "execution_count": 8,
   "metadata": {},
   "outputs": [
    {
     "name": "stdout",
     "output_type": "stream",
     "text": [
      "[    0 58951  2493  6725  2923  1277   425]\n"
     ]
    }
   ],
   "source": [
    "class_counts = np.bincount(y_test.astype(int))\n",
    "print(class_counts)\n"
   ]
  },
  {
   "cell_type": "code",
   "execution_count": 9,
   "metadata": {},
   "outputs": [
    {
     "name": "stdout",
     "output_type": "stream",
     "text": [
      "2275/2275 [==============================] - 65s 29ms/step\n",
      "Confusion Matrix:\n",
      "[[58427     0    21    66   342    95]\n",
      " [    0  2492     1     0     0     0]\n",
      " [   11     0  6698     3    10     3]\n",
      " [   65     0    13  2800    14    31]\n",
      " [   92     0     8     1  1174     2]\n",
      " [    2     0     0     2     0   421]]\n",
      "F1 Score: 0.9896530765044852\n"
     ]
    }
   ],
   "source": [
    "from sklearn.metrics import confusion_matrix, f1_score\n",
    "\n",
    "# Predict the test data\n",
    "y_pred = model.predict(X_test1)\n",
    "\n",
    "# Convert the predicted probabilities to class labels\n",
    "y_pred_labels = np.argmax(y_pred, axis=1)\n",
    "\n",
    "# Create the confusion matrix\n",
    "cm = confusion_matrix(y_test, y_pred_labels)\n",
    "print(\"Confusion Matrix:\")\n",
    "print(cm)\n",
    "\n",
    "# Calculate the F1 score\n",
    "f1 = f1_score(y_test, y_pred_labels, average='weighted')\n",
    "print(\"F1 Score:\", f1)\n",
    "\n",
    "\n"
   ]
  },
  {
   "cell_type": "code",
   "execution_count": 10,
   "metadata": {},
   "outputs": [],
   "source": [
    "model.save('./models/lstmmodel.h5')\n"
   ]
  },
  {
   "cell_type": "code",
   "execution_count": null,
   "metadata": {},
   "outputs": [],
   "source": []
  },
  {
   "cell_type": "code",
   "execution_count": null,
   "metadata": {},
   "outputs": [],
   "source": []
  }
 ],
 "metadata": {
  "kernelspec": {
   "display_name": "Python 3",
   "language": "python",
   "name": "python3"
  },
  "language_info": {
   "codemirror_mode": {
    "name": "ipython",
    "version": 3
   },
   "file_extension": ".py",
   "mimetype": "text/x-python",
   "name": "python",
   "nbconvert_exporter": "python",
   "pygments_lexer": "ipython3",
   "version": "3.10.12"
  }
 },
 "nbformat": 4,
 "nbformat_minor": 2
}
