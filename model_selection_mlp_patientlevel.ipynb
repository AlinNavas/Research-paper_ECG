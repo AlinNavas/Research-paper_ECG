{
 "cells": [
  {
   "cell_type": "code",
   "execution_count": 1,
   "metadata": {},
   "outputs": [
    {
     "name": "stderr",
     "output_type": "stream",
     "text": [
      "2024-03-26 19:10:46.005990: I tensorflow/core/util/port.cc:113] oneDNN custom operations are on. You may see slightly different numerical results due to floating-point round-off errors from different computation orders. To turn them off, set the environment variable `TF_ENABLE_ONEDNN_OPTS=0`.\n",
      "2024-03-26 19:10:46.038601: E external/local_xla/xla/stream_executor/cuda/cuda_dnn.cc:9261] Unable to register cuDNN factory: Attempting to register factory for plugin cuDNN when one has already been registered\n",
      "2024-03-26 19:10:46.038626: E external/local_xla/xla/stream_executor/cuda/cuda_fft.cc:607] Unable to register cuFFT factory: Attempting to register factory for plugin cuFFT when one has already been registered\n",
      "2024-03-26 19:10:46.039311: E external/local_xla/xla/stream_executor/cuda/cuda_blas.cc:1515] Unable to register cuBLAS factory: Attempting to register factory for plugin cuBLAS when one has already been registered\n",
      "2024-03-26 19:10:46.043688: I tensorflow/core/platform/cpu_feature_guard.cc:182] This TensorFlow binary is optimized to use available CPU instructions in performance-critical operations.\n",
      "To enable the following instructions: AVX2 AVX_VNNI FMA, in other operations, rebuild TensorFlow with the appropriate compiler flags.\n",
      "2024-03-26 19:10:46.621840: W tensorflow/compiler/tf2tensorrt/utils/py_utils.cc:38] TF-TRT Warning: Could not find TensorRT\n"
     ]
    }
   ],
   "source": [
    "import numpy as np\n",
    "import pickle\n",
    "import glob\n",
    "import matplotlib.pyplot as plt\n",
    "import pandas as pd\n",
    "from scipy import *\n",
    "import os\n",
    "import seaborn as sns\n",
    "import tensorflow as tf\n",
    "from tensorflow.keras.utils import to_categorical\n",
    "from tensorflow.keras.models import Sequential\n",
    "from tensorflow.keras.layers import Dense, Dropout\n",
    "from sklearn.model_selection import train_test_split\n",
    "from sklearn import *\n",
    "from sklearn.metrics import *\n",
    "sns.set()\n",
    "import warnings\n",
    "warnings.filterwarnings(\"ignore\")\n",
    "length = 277"
   ]
  },
  {
   "cell_type": "code",
   "execution_count": 2,
   "metadata": {},
   "outputs": [
    {
     "name": "stdout",
     "output_type": "stream",
     "text": [
      "[name: \"/device:CPU:0\"\n",
      "device_type: \"CPU\"\n",
      "memory_limit: 268435456\n",
      "locality {\n",
      "}\n",
      "incarnation: 18325623732082902229\n",
      "xla_global_id: -1\n",
      ", name: \"/device:GPU:0\"\n",
      "device_type: \"GPU\"\n",
      "memory_limit: 5803868160\n",
      "locality {\n",
      "  bus_id: 1\n",
      "  links {\n",
      "  }\n",
      "}\n",
      "incarnation: 18101141183903711527\n",
      "physical_device_desc: \"device: 0, name: NVIDIA GeForce RTX 4070 Laptop GPU, pci bus id: 0000:01:00.0, compute capability: 8.9\"\n",
      "xla_global_id: 416903419\n",
      "]\n"
     ]
    },
    {
     "name": "stderr",
     "output_type": "stream",
     "text": [
      "2024-03-26 19:10:47.094173: I external/local_xla/xla/stream_executor/cuda/cuda_executor.cc:887] could not open file to read NUMA node: /sys/bus/pci/devices/0000:01:00.0/numa_node\n",
      "Your kernel may have been built without NUMA support.\n",
      "2024-03-26 19:10:47.113562: I external/local_xla/xla/stream_executor/cuda/cuda_executor.cc:887] could not open file to read NUMA node: /sys/bus/pci/devices/0000:01:00.0/numa_node\n",
      "Your kernel may have been built without NUMA support.\n",
      "2024-03-26 19:10:47.113601: I external/local_xla/xla/stream_executor/cuda/cuda_executor.cc:887] could not open file to read NUMA node: /sys/bus/pci/devices/0000:01:00.0/numa_node\n",
      "Your kernel may have been built without NUMA support.\n",
      "2024-03-26 19:10:47.228306: I external/local_xla/xla/stream_executor/cuda/cuda_executor.cc:887] could not open file to read NUMA node: /sys/bus/pci/devices/0000:01:00.0/numa_node\n",
      "Your kernel may have been built without NUMA support.\n",
      "2024-03-26 19:10:47.228434: I external/local_xla/xla/stream_executor/cuda/cuda_executor.cc:887] could not open file to read NUMA node: /sys/bus/pci/devices/0000:01:00.0/numa_node\n",
      "Your kernel may have been built without NUMA support.\n",
      "2024-03-26 19:10:47.228441: I tensorflow/core/common_runtime/gpu/gpu_device.cc:2022] Could not identify NUMA node of platform GPU id 0, defaulting to 0.  Your kernel may not have been built with NUMA support.\n",
      "2024-03-26 19:10:47.228481: I external/local_xla/xla/stream_executor/cuda/cuda_executor.cc:887] could not open file to read NUMA node: /sys/bus/pci/devices/0000:01:00.0/numa_node\n",
      "Your kernel may have been built without NUMA support.\n",
      "2024-03-26 19:10:47.228495: I tensorflow/core/common_runtime/gpu/gpu_device.cc:1929] Created device /device:GPU:0 with 5535 MB memory:  -> device: 0, name: NVIDIA GeForce RTX 4070 Laptop GPU, pci bus id: 0000:01:00.0, compute capability: 8.9\n"
     ]
    }
   ],
   "source": [
    "from tensorflow.python.client import device_lib\n",
    "print(device_lib.list_local_devices())"
   ]
  },
  {
   "cell_type": "code",
   "execution_count": 3,
   "metadata": {},
   "outputs": [
    {
     "name": "stdout",
     "output_type": "stream",
     "text": [
      "(38751, 277)\n",
      "(72794, 277)\n",
      "X_train shape: (31000, 275)\n",
      "X_val shape: (7751, 275)\n",
      "y_train shape: (31000,)\n",
      "y_val shape: (7751,)\n"
     ]
    }
   ],
   "source": [
    "train_values = pd.read_csv('./data/train_test/train_patients.csv').values\n",
    "test_values = pd.read_csv('./data/train_test/test_patients.csv').values\n",
    "\n",
    "print(train_values.shape)\n",
    "print(test_values.shape)\n",
    "\n",
    "\n",
    "# Separate the training and testing data, and one-hot encode Y:\n",
    "X_train = train_values[:,:-2]\n",
    "X_test = test_values[:,:-2]\n",
    "y_train = train_values[:,-2]\n",
    "y_test = test_values[:,-2]\n",
    "X_test1 = X_test.reshape(-1, X_train.shape[1], 1)\n",
    "y_test1=to_categorical(y_test)\n",
    "\n",
    "\n",
    "X_train, X_val, y_train, y_val = train_test_split(X_train, y_train, test_size=0.2, random_state=42)\n",
    "\n",
    "print(\"X_train shape:\", X_train.shape)\n",
    "print(\"X_val shape:\", X_val.shape)\n",
    "print(\"y_train shape:\", y_train.shape)\n",
    "print(\"y_val shape:\", y_val.shape)\n",
    "X_train1 = X_train.reshape(-1, X_train.shape[1], 1)\n",
    "y_train1=to_categorical(y_train)\n",
    "\n",
    "X_val1 = X_val.reshape(-1, X_train.shape[1], 1)\n",
    "y_val1=to_categorical(y_val)\n"
   ]
  },
  {
   "cell_type": "code",
   "execution_count": 4,
   "metadata": {},
   "outputs": [
    {
     "name": "stdout",
     "output_type": "stream",
     "text": [
      "Model: \"sequential\"\n",
      "_________________________________________________________________\n",
      " Layer (type)                Output Shape              Param #   \n",
      "=================================================================\n",
      " dense (Dense)               (None, 275)               75900     \n",
      "                                                                 \n",
      " dense_1 (Dense)             (None, 50)                13800     \n",
      "                                                                 \n",
      " batch_normalization (Batch  (None, 50)                200       \n",
      " Normalization)                                                  \n",
      "                                                                 \n",
      " activation (Activation)     (None, 50)                0         \n",
      "                                                                 \n",
      " dense_2 (Dense)             (None, 150)               7650      \n",
      "                                                                 \n",
      " batch_normalization_1 (Bat  (None, 150)               600       \n",
      " chNormalization)                                                \n",
      "                                                                 \n",
      " activation_1 (Activation)   (None, 150)               0         \n",
      "                                                                 \n",
      " dense_3 (Dense)             (None, 900)               135900    \n",
      "                                                                 \n",
      " batch_normalization_2 (Bat  (None, 900)               3600      \n",
      " chNormalization)                                                \n",
      "                                                                 \n",
      " activation_2 (Activation)   (None, 900)               0         \n",
      "                                                                 \n",
      " dense_4 (Dense)             (None, 400)               360400    \n",
      "                                                                 \n",
      " batch_normalization_3 (Bat  (None, 400)               1600      \n",
      " chNormalization)                                                \n",
      "                                                                 \n",
      " activation_3 (Activation)   (None, 400)               0         \n",
      "                                                                 \n",
      " dense_5 (Dense)             (None, 7)                 2807      \n",
      "                                                                 \n",
      "=================================================================\n",
      "Total params: 602457 (2.30 MB)\n",
      "Trainable params: 599457 (2.29 MB)\n",
      "Non-trainable params: 3000 (11.72 KB)\n",
      "_________________________________________________________________\n"
     ]
    },
    {
     "name": "stderr",
     "output_type": "stream",
     "text": [
      "2024-03-26 19:10:49.041354: I external/local_xla/xla/stream_executor/cuda/cuda_executor.cc:887] could not open file to read NUMA node: /sys/bus/pci/devices/0000:01:00.0/numa_node\n",
      "Your kernel may have been built without NUMA support.\n",
      "2024-03-26 19:10:49.041432: I external/local_xla/xla/stream_executor/cuda/cuda_executor.cc:887] could not open file to read NUMA node: /sys/bus/pci/devices/0000:01:00.0/numa_node\n",
      "Your kernel may have been built without NUMA support.\n",
      "2024-03-26 19:10:49.041450: I external/local_xla/xla/stream_executor/cuda/cuda_executor.cc:887] could not open file to read NUMA node: /sys/bus/pci/devices/0000:01:00.0/numa_node\n",
      "Your kernel may have been built without NUMA support.\n",
      "2024-03-26 19:10:49.041575: I external/local_xla/xla/stream_executor/cuda/cuda_executor.cc:887] could not open file to read NUMA node: /sys/bus/pci/devices/0000:01:00.0/numa_node\n",
      "Your kernel may have been built without NUMA support.\n",
      "2024-03-26 19:10:49.041591: I external/local_xla/xla/stream_executor/cuda/cuda_executor.cc:887] could not open file to read NUMA node: /sys/bus/pci/devices/0000:01:00.0/numa_node\n",
      "Your kernel may have been built without NUMA support.\n",
      "2024-03-26 19:10:49.041604: I external/local_xla/xla/stream_executor/cuda/cuda_executor.cc:887] could not open file to read NUMA node: /sys/bus/pci/devices/0000:01:00.0/numa_node\n",
      "Your kernel may have been built without NUMA support.\n",
      "2024-03-26 19:10:49.041818: I external/local_xla/xla/stream_executor/cuda/cuda_executor.cc:887] could not open file to read NUMA node: /sys/bus/pci/devices/0000:01:00.0/numa_node\n",
      "Your kernel may have been built without NUMA support.\n",
      "2024-03-26 19:10:49.041847: I tensorflow/core/common_runtime/gpu/gpu_device.cc:2022] Could not identify NUMA node of platform GPU id 0, defaulting to 0.  Your kernel may not have been built with NUMA support.\n",
      "2024-03-26 19:10:49.041876: I external/local_xla/xla/stream_executor/cuda/cuda_executor.cc:887] could not open file to read NUMA node: /sys/bus/pci/devices/0000:01:00.0/numa_node\n",
      "Your kernel may have been built without NUMA support.\n",
      "2024-03-26 19:10:49.041888: I tensorflow/core/common_runtime/gpu/gpu_device.cc:1929] Created device /job:localhost/replica:0/task:0/device:GPU:0 with 5535 MB memory:  -> device: 0, name: NVIDIA GeForce RTX 4070 Laptop GPU, pci bus id: 0000:01:00.0, compute capability: 8.9\n"
     ]
    }
   ],
   "source": [
    "from tensorflow.keras.layers import Activation, BatchNormalization\n",
    "\n",
    "def mlpmodel():\n",
    "    mlpmodel = Sequential()\n",
    "    mlpmodel.add(Dense(275, input_shape=(X_train.shape[1],)))\n",
    "    mlpmodel.add(Dense(50))\n",
    "    mlpmodel.add(BatchNormalization())\n",
    "    mlpmodel.add(Activation('relu'))\n",
    "    mlpmodel.add(Dense(150))\n",
    "    mlpmodel.add(BatchNormalization())\n",
    "    mlpmodel.add(Activation('relu'))\n",
    "    mlpmodel.add(Dense(900))\n",
    "    mlpmodel.add(BatchNormalization())\n",
    "    mlpmodel.add(Activation('relu'))\n",
    "    mlpmodel.add(Dense(400))\n",
    "    mlpmodel.add(BatchNormalization())\n",
    "    mlpmodel.add(Activation('relu'))\n",
    "    mlpmodel.add(Dense(7, activation='softmax'))\n",
    "    \n",
    "    return mlpmodel\n",
    "\n",
    "mlp = mlpmodel()\n",
    "mlp.summary()"
   ]
  },
  {
   "cell_type": "code",
   "execution_count": 5,
   "metadata": {},
   "outputs": [],
   "source": [
    "from sklearn.utils import class_weight\n",
    "class_weights = class_weight.compute_class_weight('balanced', classes=np.unique(y_train), y=y_train)\n"
   ]
  },
  {
   "cell_type": "code",
   "execution_count": 6,
   "metadata": {},
   "outputs": [
    {
     "data": {
      "text/plain": [
       "array([0.25901974, 2.27306057, 2.33468896, 2.37438725, 2.32942591,\n",
       "       2.37766529])"
      ]
     },
     "execution_count": 6,
     "metadata": {},
     "output_type": "execute_result"
    }
   ],
   "source": [
    "class_weights"
   ]
  },
  {
   "cell_type": "code",
   "execution_count": 8,
   "metadata": {},
   "outputs": [],
   "source": [
    "import tensorflow.keras.backend as K\n",
    "\n",
    "K.clear_session()\n"
   ]
  },
  {
   "cell_type": "code",
   "execution_count": 9,
   "metadata": {},
   "outputs": [
    {
     "name": "stdout",
     "output_type": "stream",
     "text": [
      "Epoch 1/50\n",
      "969/969 [==============================] - 12s 11ms/step - loss: 0.1002 - accuracy: 0.9670 - val_loss: 0.0823 - val_accuracy: 0.9724\n",
      "Epoch 2/50\n",
      "969/969 [==============================] - 10s 11ms/step - loss: 0.0851 - accuracy: 0.9718 - val_loss: 0.0776 - val_accuracy: 0.9763\n",
      "Epoch 3/50\n",
      "969/969 [==============================] - 10s 11ms/step - loss: 0.0734 - accuracy: 0.9754 - val_loss: 0.0612 - val_accuracy: 0.9804\n",
      "Epoch 4/50\n",
      "969/969 [==============================] - 10s 11ms/step - loss: 0.0637 - accuracy: 0.9782 - val_loss: 0.0647 - val_accuracy: 0.9801\n",
      "Epoch 5/50\n",
      "969/969 [==============================] - 10s 11ms/step - loss: 0.0611 - accuracy: 0.9789 - val_loss: 0.0568 - val_accuracy: 0.9812\n",
      "Epoch 6/50\n",
      "969/969 [==============================] - 10s 10ms/step - loss: 0.0580 - accuracy: 0.9799 - val_loss: 0.0653 - val_accuracy: 0.9783\n",
      "Epoch 7/50\n",
      "969/969 [==============================] - 11s 11ms/step - loss: 0.0555 - accuracy: 0.9812 - val_loss: 0.0525 - val_accuracy: 0.9849\n",
      "Epoch 8/50\n",
      "969/969 [==============================] - 11s 11ms/step - loss: 0.0514 - accuracy: 0.9819 - val_loss: 0.0596 - val_accuracy: 0.9828\n",
      "Epoch 9/50\n",
      "969/969 [==============================] - 11s 11ms/step - loss: 0.0497 - accuracy: 0.9833 - val_loss: 0.0573 - val_accuracy: 0.9839\n",
      "Epoch 10/50\n",
      "969/969 [==============================] - 11s 11ms/step - loss: 0.0457 - accuracy: 0.9843 - val_loss: 0.0609 - val_accuracy: 0.9817\n",
      "Epoch 11/50\n",
      "969/969 [==============================] - 11s 11ms/step - loss: 0.0413 - accuracy: 0.9861 - val_loss: 0.0551 - val_accuracy: 0.9840\n",
      "Epoch 12/50\n",
      "969/969 [==============================] - 11s 11ms/step - loss: 0.0428 - accuracy: 0.9852 - val_loss: 0.0576 - val_accuracy: 0.9831\n",
      "Epoch 13/50\n",
      "969/969 [==============================] - 11s 11ms/step - loss: 0.0377 - accuracy: 0.9875 - val_loss: 0.0522 - val_accuracy: 0.9846\n",
      "Epoch 14/50\n",
      "969/969 [==============================] - 11s 11ms/step - loss: 0.0382 - accuracy: 0.9869 - val_loss: 0.0545 - val_accuracy: 0.9841\n",
      "Epoch 15/50\n",
      "969/969 [==============================] - 10s 11ms/step - loss: 0.0369 - accuracy: 0.9885 - val_loss: 0.0479 - val_accuracy: 0.9872\n",
      "Epoch 16/50\n",
      "969/969 [==============================] - 11s 11ms/step - loss: 0.0343 - accuracy: 0.9881 - val_loss: 0.0691 - val_accuracy: 0.9835\n",
      "Epoch 17/50\n",
      "969/969 [==============================] - 11s 12ms/step - loss: 0.0342 - accuracy: 0.9886 - val_loss: 0.0521 - val_accuracy: 0.9861\n",
      "Epoch 18/50\n",
      "969/969 [==============================] - 11s 11ms/step - loss: 0.0340 - accuracy: 0.9886 - val_loss: 0.0450 - val_accuracy: 0.9884\n",
      "Epoch 19/50\n",
      "969/969 [==============================] - 11s 11ms/step - loss: 0.0299 - accuracy: 0.9897 - val_loss: 0.0543 - val_accuracy: 0.9871\n",
      "Epoch 20/50\n",
      "969/969 [==============================] - 11s 11ms/step - loss: 0.0284 - accuracy: 0.9904 - val_loss: 0.0557 - val_accuracy: 0.9863\n",
      "Epoch 21/50\n",
      "969/969 [==============================] - 11s 11ms/step - loss: 0.0311 - accuracy: 0.9891 - val_loss: 0.0563 - val_accuracy: 0.9856\n",
      "Epoch 22/50\n",
      "969/969 [==============================] - 11s 11ms/step - loss: 0.0282 - accuracy: 0.9899 - val_loss: 0.0641 - val_accuracy: 0.9835\n",
      "Epoch 23/50\n",
      "969/969 [==============================] - 11s 11ms/step - loss: 0.0281 - accuracy: 0.9905 - val_loss: 0.0475 - val_accuracy: 0.9874\n",
      "Epoch 24/50\n",
      "969/969 [==============================] - 11s 11ms/step - loss: 0.0258 - accuracy: 0.9912 - val_loss: 0.0498 - val_accuracy: 0.9876\n",
      "Epoch 25/50\n",
      "969/969 [==============================] - 11s 11ms/step - loss: 0.0257 - accuracy: 0.9913 - val_loss: 0.0515 - val_accuracy: 0.9892\n",
      "Epoch 26/50\n",
      "969/969 [==============================] - 11s 11ms/step - loss: 0.0261 - accuracy: 0.9916 - val_loss: 0.0556 - val_accuracy: 0.9877\n",
      "Epoch 27/50\n",
      "969/969 [==============================] - 10s 10ms/step - loss: 0.0269 - accuracy: 0.9913 - val_loss: 0.0477 - val_accuracy: 0.9880\n",
      "Epoch 28/50\n",
      "969/969 [==============================] - 10s 10ms/step - loss: 0.0230 - accuracy: 0.9922 - val_loss: 0.0483 - val_accuracy: 0.9876\n"
     ]
    }
   ],
   "source": [
    "mlp.compile(optimizer=tf.keras.optimizers.Adam(learning_rate=0.001), loss='categorical_crossentropy', metrics=['accuracy'])\n",
    "early_stopping = tf.keras.callbacks.EarlyStopping(monitor='val_loss', patience=10, mode='min',min_delta=0.001, restore_best_weights=True)\n",
    "history = mlp.fit(X_train, y_train1, validation_data=(X_val1, y_val1), epochs=50,callbacks=[early_stopping], verbose=1)\n"
   ]
  },
  {
   "cell_type": "code",
   "execution_count": null,
   "metadata": {},
   "outputs": [
    {
     "name": "stdout",
     "output_type": "stream",
     "text": [
      "[    0 58951  2493  6725  2923  1277   425]\n"
     ]
    }
   ],
   "source": [
    "class_counts = np.bincount(y_test.astype(int))\n",
    "print(class_counts)\n"
   ]
  },
  {
   "cell_type": "code",
   "execution_count": 10,
   "metadata": {},
   "outputs": [
    {
     "name": "stdout",
     "output_type": "stream",
     "text": [
      "2275/2275 [==============================] - 4s 2ms/step\n",
      "Confusion Matrix:\n",
      "[[58477     2    12    93   301    66]\n",
      " [    1  2492     0     0     0     0]\n",
      " [   12     1  6677     9    22     4]\n",
      " [   25     3     0  2853    15    27]\n",
      " [   22     0     2     0  1253     0]\n",
      " [    1     0     0     0     0   424]]\n",
      "F1 Score: 0.9918433101708186\n"
     ]
    }
   ],
   "source": [
    "from sklearn.metrics import confusion_matrix, f1_score\n",
    "\n",
    "# Predict the test data\n",
    "y_pred = mlp.predict(X_test1)\n",
    "\n",
    "# Convert the predicted probabilities to class labels\n",
    "y_pred_labels = np.argmax(y_pred, axis=1)\n",
    "\n",
    "# Create the confusion matrix\n",
    "cm = confusion_matrix(y_test, y_pred_labels)\n",
    "print(\"Confusion Matrix:\")\n",
    "print(cm)\n",
    "\n",
    "# Calculate the F1 score\n",
    "f1 = f1_score(y_test, y_pred_labels, average='weighted')\n",
    "print(\"F1 Score:\", f1)\n",
    "\n",
    "\n"
   ]
  },
  {
   "cell_type": "code",
   "execution_count": 11,
   "metadata": {},
   "outputs": [],
   "source": [
    "mlp.save('./models/mlpmodel.h5')\n"
   ]
  }
 ],
 "metadata": {
  "kernelspec": {
   "display_name": "Python 3",
   "language": "python",
   "name": "python3"
  },
  "language_info": {
   "codemirror_mode": {
    "name": "ipython",
    "version": 3
   },
   "file_extension": ".py",
   "mimetype": "text/x-python",
   "name": "python",
   "nbconvert_exporter": "python",
   "pygments_lexer": "ipython3",
   "version": "3.10.12"
  }
 },
 "nbformat": 4,
 "nbformat_minor": 2
}
