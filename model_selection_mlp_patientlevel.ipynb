{
 "cells": [
  {
   "cell_type": "code",
   "execution_count": 1,
   "metadata": {},
   "outputs": [
    {
     "name": "stderr",
     "output_type": "stream",
     "text": [
      "2024-03-19 20:34:52.187753: I tensorflow/core/util/port.cc:113] oneDNN custom operations are on. You may see slightly different numerical results due to floating-point round-off errors from different computation orders. To turn them off, set the environment variable `TF_ENABLE_ONEDNN_OPTS=0`.\n",
      "2024-03-19 20:34:52.209946: E external/local_xla/xla/stream_executor/cuda/cuda_dnn.cc:9261] Unable to register cuDNN factory: Attempting to register factory for plugin cuDNN when one has already been registered\n",
      "2024-03-19 20:34:52.209962: E external/local_xla/xla/stream_executor/cuda/cuda_fft.cc:607] Unable to register cuFFT factory: Attempting to register factory for plugin cuFFT when one has already been registered\n",
      "2024-03-19 20:34:52.210675: E external/local_xla/xla/stream_executor/cuda/cuda_blas.cc:1515] Unable to register cuBLAS factory: Attempting to register factory for plugin cuBLAS when one has already been registered\n",
      "2024-03-19 20:34:52.215115: I tensorflow/core/platform/cpu_feature_guard.cc:182] This TensorFlow binary is optimized to use available CPU instructions in performance-critical operations.\n",
      "To enable the following instructions: AVX2 AVX_VNNI FMA, in other operations, rebuild TensorFlow with the appropriate compiler flags.\n",
      "2024-03-19 20:34:52.696827: W tensorflow/compiler/tf2tensorrt/utils/py_utils.cc:38] TF-TRT Warning: Could not find TensorRT\n"
     ]
    }
   ],
   "source": [
    "import numpy as np\n",
    "import pickle\n",
    "import glob\n",
    "import matplotlib.pyplot as plt\n",
    "import pandas as pd\n",
    "from scipy import *\n",
    "import os\n",
    "import seaborn as sns\n",
    "import tensorflow as tf\n",
    "from tensorflow.keras.utils import to_categorical\n",
    "from tensorflow.keras.models import Sequential\n",
    "from tensorflow.keras.layers import Dense, Dropout\n",
    "from sklearn.model_selection import train_test_split\n",
    "from sklearn import *\n",
    "from sklearn.metrics import *\n",
    "sns.set()\n",
    "import warnings\n",
    "warnings.filterwarnings(\"ignore\")\n",
    "length = 277"
   ]
  },
  {
   "cell_type": "code",
   "execution_count": 2,
   "metadata": {},
   "outputs": [
    {
     "name": "stdout",
     "output_type": "stream",
     "text": [
      "[name: \"/device:CPU:0\"\n",
      "device_type: \"CPU\"\n",
      "memory_limit: 268435456\n",
      "locality {\n",
      "}\n",
      "incarnation: 9572379679743641107\n",
      "xla_global_id: -1\n",
      ", name: \"/device:GPU:0\"\n",
      "device_type: \"GPU\"\n",
      "memory_limit: 5803868160\n",
      "locality {\n",
      "  bus_id: 1\n",
      "  links {\n",
      "  }\n",
      "}\n",
      "incarnation: 1589391405304624784\n",
      "physical_device_desc: \"device: 0, name: NVIDIA GeForce RTX 4070 Laptop GPU, pci bus id: 0000:01:00.0, compute capability: 8.9\"\n",
      "xla_global_id: 416903419\n",
      "]\n"
     ]
    },
    {
     "name": "stderr",
     "output_type": "stream",
     "text": [
      "2024-03-19 20:34:55.045851: I external/local_xla/xla/stream_executor/cuda/cuda_executor.cc:887] could not open file to read NUMA node: /sys/bus/pci/devices/0000:01:00.0/numa_node\n",
      "Your kernel may have been built without NUMA support.\n",
      "2024-03-19 20:34:55.174540: I external/local_xla/xla/stream_executor/cuda/cuda_executor.cc:887] could not open file to read NUMA node: /sys/bus/pci/devices/0000:01:00.0/numa_node\n",
      "Your kernel may have been built without NUMA support.\n",
      "2024-03-19 20:34:55.174581: I external/local_xla/xla/stream_executor/cuda/cuda_executor.cc:887] could not open file to read NUMA node: /sys/bus/pci/devices/0000:01:00.0/numa_node\n",
      "Your kernel may have been built without NUMA support.\n",
      "2024-03-19 20:34:55.461194: I external/local_xla/xla/stream_executor/cuda/cuda_executor.cc:887] could not open file to read NUMA node: /sys/bus/pci/devices/0000:01:00.0/numa_node\n",
      "Your kernel may have been built without NUMA support.\n",
      "2024-03-19 20:34:55.461289: I external/local_xla/xla/stream_executor/cuda/cuda_executor.cc:887] could not open file to read NUMA node: /sys/bus/pci/devices/0000:01:00.0/numa_node\n",
      "Your kernel may have been built without NUMA support.\n",
      "2024-03-19 20:34:55.461296: I tensorflow/core/common_runtime/gpu/gpu_device.cc:2022] Could not identify NUMA node of platform GPU id 0, defaulting to 0.  Your kernel may not have been built with NUMA support.\n",
      "2024-03-19 20:34:55.461332: I external/local_xla/xla/stream_executor/cuda/cuda_executor.cc:887] could not open file to read NUMA node: /sys/bus/pci/devices/0000:01:00.0/numa_node\n",
      "Your kernel may have been built without NUMA support.\n",
      "2024-03-19 20:34:55.461386: I tensorflow/core/common_runtime/gpu/gpu_device.cc:1929] Created device /device:GPU:0 with 5535 MB memory:  -> device: 0, name: NVIDIA GeForce RTX 4070 Laptop GPU, pci bus id: 0000:01:00.0, compute capability: 8.9\n"
     ]
    }
   ],
   "source": [
    "from tensorflow.python.client import device_lib\n",
    "print(device_lib.list_local_devices())"
   ]
  },
  {
   "cell_type": "code",
   "execution_count": 3,
   "metadata": {},
   "outputs": [
    {
     "name": "stdout",
     "output_type": "stream",
     "text": [
      "(38751, 277)\n",
      "(72794, 277)\n",
      "X_train shape: (31000, 275)\n",
      "X_val shape: (7751, 275)\n",
      "y_train shape: (31000,)\n",
      "y_val shape: (7751,)\n"
     ]
    }
   ],
   "source": [
    "train_values = pd.read_csv('./data/train_test/train_patients.csv').values\n",
    "test_values = pd.read_csv('./data/train_test/test_patients.csv').values\n",
    "\n",
    "print(train_values.shape)\n",
    "print(test_values.shape)\n",
    "\n",
    "\n",
    "# Separate the training and testing data, and one-hot encode Y:\n",
    "X_train = train_values[:,:-2]\n",
    "X_test = test_values[:,:-2]\n",
    "y_train = train_values[:,-2]\n",
    "y_test = test_values[:,-2]\n",
    "X_test1 = X_test.reshape(-1, X_train.shape[1], 1)\n",
    "y_test1=to_categorical(y_test)\n",
    "\n",
    "\n",
    "X_train, X_val, y_train, y_val = train_test_split(X_train, y_train, test_size=0.2, random_state=42)\n",
    "\n",
    "print(\"X_train shape:\", X_train.shape)\n",
    "print(\"X_val shape:\", X_val.shape)\n",
    "print(\"y_train shape:\", y_train.shape)\n",
    "print(\"y_val shape:\", y_val.shape)\n",
    "X_train1 = X_train.reshape(-1, X_train.shape[1], 1)\n",
    "y_train1=to_categorical(y_train)\n",
    "\n",
    "X_val1 = X_val.reshape(-1, X_train.shape[1], 1)\n",
    "y_val1=to_categorical(y_val)\n"
   ]
  },
  {
   "cell_type": "code",
   "execution_count": 4,
   "metadata": {},
   "outputs": [
    {
     "name": "stderr",
     "output_type": "stream",
     "text": [
      "2024-03-19 20:34:57.167211: I external/local_xla/xla/stream_executor/cuda/cuda_executor.cc:887] could not open file to read NUMA node: /sys/bus/pci/devices/0000:01:00.0/numa_node\n",
      "Your kernel may have been built without NUMA support.\n",
      "2024-03-19 20:34:57.167281: I external/local_xla/xla/stream_executor/cuda/cuda_executor.cc:887] could not open file to read NUMA node: /sys/bus/pci/devices/0000:01:00.0/numa_node\n",
      "Your kernel may have been built without NUMA support.\n",
      "2024-03-19 20:34:57.167298: I external/local_xla/xla/stream_executor/cuda/cuda_executor.cc:887] could not open file to read NUMA node: /sys/bus/pci/devices/0000:01:00.0/numa_node\n",
      "Your kernel may have been built without NUMA support.\n",
      "2024-03-19 20:34:57.167512: I external/local_xla/xla/stream_executor/cuda/cuda_executor.cc:887] could not open file to read NUMA node: /sys/bus/pci/devices/0000:01:00.0/numa_node\n",
      "Your kernel may have been built without NUMA support.\n",
      "2024-03-19 20:34:57.167532: I external/local_xla/xla/stream_executor/cuda/cuda_executor.cc:887] could not open file to read NUMA node: /sys/bus/pci/devices/0000:01:00.0/numa_node\n",
      "Your kernel may have been built without NUMA support.\n",
      "2024-03-19 20:34:57.167546: I external/local_xla/xla/stream_executor/cuda/cuda_executor.cc:887] could not open file to read NUMA node: /sys/bus/pci/devices/0000:01:00.0/numa_node\n",
      "Your kernel may have been built without NUMA support.\n",
      "2024-03-19 20:34:57.167828: I external/local_xla/xla/stream_executor/cuda/cuda_executor.cc:887] could not open file to read NUMA node: /sys/bus/pci/devices/0000:01:00.0/numa_node\n",
      "Your kernel may have been built without NUMA support.\n",
      "2024-03-19 20:34:57.167838: I tensorflow/core/common_runtime/gpu/gpu_device.cc:2022] Could not identify NUMA node of platform GPU id 0, defaulting to 0.  Your kernel may not have been built with NUMA support.\n",
      "2024-03-19 20:34:57.167862: I external/local_xla/xla/stream_executor/cuda/cuda_executor.cc:887] could not open file to read NUMA node: /sys/bus/pci/devices/0000:01:00.0/numa_node\n",
      "Your kernel may have been built without NUMA support.\n",
      "2024-03-19 20:34:57.167873: I tensorflow/core/common_runtime/gpu/gpu_device.cc:1929] Created device /job:localhost/replica:0/task:0/device:GPU:0 with 5535 MB memory:  -> device: 0, name: NVIDIA GeForce RTX 4070 Laptop GPU, pci bus id: 0000:01:00.0, compute capability: 8.9\n"
     ]
    },
    {
     "name": "stdout",
     "output_type": "stream",
     "text": [
      "Model: \"sequential\"\n",
      "_________________________________________________________________\n",
      " Layer (type)                Output Shape              Param #   \n",
      "=================================================================\n",
      " dense (Dense)               (None, 275)               75900     \n",
      "                                                                 \n",
      " dense_1 (Dense)             (None, 50)                13800     \n",
      "                                                                 \n",
      " batch_normalization (Batch  (None, 50)                200       \n",
      " Normalization)                                                  \n",
      "                                                                 \n",
      " activation (Activation)     (None, 50)                0         \n",
      "                                                                 \n",
      " dense_2 (Dense)             (None, 150)               7650      \n",
      "                                                                 \n",
      " batch_normalization_1 (Bat  (None, 150)               600       \n",
      " chNormalization)                                                \n",
      "                                                                 \n",
      " activation_1 (Activation)   (None, 150)               0         \n",
      "                                                                 \n",
      " dense_3 (Dense)             (None, 900)               135900    \n",
      "                                                                 \n",
      " batch_normalization_2 (Bat  (None, 900)               3600      \n",
      " chNormalization)                                                \n",
      "                                                                 \n",
      " activation_2 (Activation)   (None, 900)               0         \n",
      "                                                                 \n",
      " dense_4 (Dense)             (None, 400)               360400    \n",
      "                                                                 \n",
      " batch_normalization_3 (Bat  (None, 400)               1600      \n",
      " chNormalization)                                                \n",
      "                                                                 \n",
      " activation_3 (Activation)   (None, 400)               0         \n",
      "                                                                 \n",
      " dense_5 (Dense)             (None, 7)                 2807      \n",
      "                                                                 \n",
      "=================================================================\n",
      "Total params: 602457 (2.30 MB)\n",
      "Trainable params: 599457 (2.29 MB)\n",
      "Non-trainable params: 3000 (11.72 KB)\n",
      "_________________________________________________________________\n"
     ]
    }
   ],
   "source": [
    "from tensorflow.keras.layers import Activation, BatchNormalization\n",
    "\n",
    "def mlpmodel():\n",
    "    mlpmodel = Sequential()\n",
    "    mlpmodel.add(Dense(275, input_shape=(X_train.shape[1],)))\n",
    "    mlpmodel.add(Dense(50))\n",
    "    mlpmodel.add(BatchNormalization())\n",
    "    mlpmodel.add(Activation('relu'))\n",
    "    mlpmodel.add(Dense(150))\n",
    "    mlpmodel.add(BatchNormalization())\n",
    "    mlpmodel.add(Activation('relu'))\n",
    "    mlpmodel.add(Dense(900))\n",
    "    mlpmodel.add(BatchNormalization())\n",
    "    mlpmodel.add(Activation('relu'))\n",
    "    mlpmodel.add(Dense(400))\n",
    "    mlpmodel.add(BatchNormalization())\n",
    "    mlpmodel.add(Activation('relu'))\n",
    "    mlpmodel.add(Dense(7, activation='softmax'))\n",
    "    \n",
    "    return mlpmodel\n",
    "\n",
    "mlp = mlpmodel()\n",
    "mlp.summary()"
   ]
  },
  {
   "cell_type": "code",
   "execution_count": 5,
   "metadata": {},
   "outputs": [],
   "source": [
    "from sklearn.utils import class_weight\n",
    "class_weights = class_weight.compute_class_weight('balanced', classes=np.unique(y_train), y=y_train)\n"
   ]
  },
  {
   "cell_type": "code",
   "execution_count": 6,
   "metadata": {},
   "outputs": [
    {
     "data": {
      "text/plain": [
       "array([0.25901974, 2.27306057, 2.33468896, 2.37438725, 2.32942591,\n",
       "       2.37766529])"
      ]
     },
     "execution_count": 6,
     "metadata": {},
     "output_type": "execute_result"
    }
   ],
   "source": [
    "class_weights"
   ]
  },
  {
   "cell_type": "code",
   "execution_count": 7,
   "metadata": {},
   "outputs": [
    {
     "name": "stdout",
     "output_type": "stream",
     "text": [
      "Epoch 1/50\n"
     ]
    },
    {
     "name": "stderr",
     "output_type": "stream",
     "text": [
      "2024-03-19 20:34:58.478531: I external/local_tsl/tsl/platform/default/subprocess.cc:304] Start cannot spawn child process: No such file or directory\n",
      "2024-03-19 20:34:58.717055: I external/local_xla/xla/service/service.cc:168] XLA service 0x556549c51c80 initialized for platform CUDA (this does not guarantee that XLA will be used). Devices:\n",
      "2024-03-19 20:34:58.717084: I external/local_xla/xla/service/service.cc:176]   StreamExecutor device (0): NVIDIA GeForce RTX 4070 Laptop GPU, Compute Capability 8.9\n",
      "2024-03-19 20:34:58.730373: I tensorflow/compiler/mlir/tensorflow/utils/dump_mlir_util.cc:269] disabling MLIR crash reproducer, set env var `MLIR_CRASH_REPRODUCER_DIRECTORY` to enable.\n",
      "2024-03-19 20:34:58.756092: I external/local_xla/xla/stream_executor/cuda/cuda_dnn.cc:454] Loaded cuDNN version 8904\n",
      "WARNING: All log messages before absl::InitializeLog() is called are written to STDERR\n",
      "I0000 00:00:1710880498.809568  267198 device_compiler.h:186] Compiled cluster using XLA!  This line is logged at most once for the lifetime of the process.\n"
     ]
    },
    {
     "name": "stdout",
     "output_type": "stream",
     "text": [
      "969/969 [==============================] - 10s 8ms/step - loss: 0.2125 - accuracy: 0.9333 - val_loss: 0.1430 - val_accuracy: 0.9587\n",
      "Epoch 2/50\n",
      "969/969 [==============================] - 10s 10ms/step - loss: 0.1251 - accuracy: 0.9595 - val_loss: 0.1424 - val_accuracy: 0.9528\n",
      "Epoch 3/50\n",
      "969/969 [==============================] - 10s 11ms/step - loss: 0.1042 - accuracy: 0.9658 - val_loss: 0.0847 - val_accuracy: 0.9719\n",
      "Epoch 4/50\n",
      "969/969 [==============================] - 11s 11ms/step - loss: 0.0924 - accuracy: 0.9695 - val_loss: 0.0821 - val_accuracy: 0.9772\n",
      "Epoch 5/50\n",
      "969/969 [==============================] - 11s 11ms/step - loss: 0.0827 - accuracy: 0.9731 - val_loss: 0.0812 - val_accuracy: 0.9742\n",
      "Epoch 6/50\n",
      "969/969 [==============================] - 11s 12ms/step - loss: 0.0767 - accuracy: 0.9737 - val_loss: 0.0717 - val_accuracy: 0.9754\n",
      "Epoch 7/50\n",
      "969/969 [==============================] - 11s 12ms/step - loss: 0.0669 - accuracy: 0.9782 - val_loss: 0.1018 - val_accuracy: 0.9674\n",
      "Epoch 8/50\n",
      "969/969 [==============================] - 11s 11ms/step - loss: 0.0663 - accuracy: 0.9781 - val_loss: 0.0769 - val_accuracy: 0.9779\n",
      "Epoch 9/50\n",
      "969/969 [==============================] - 11s 12ms/step - loss: 0.0611 - accuracy: 0.9793 - val_loss: 0.0656 - val_accuracy: 0.9805\n",
      "Epoch 10/50\n",
      "969/969 [==============================] - 11s 12ms/step - loss: 0.0586 - accuracy: 0.9803 - val_loss: 0.0723 - val_accuracy: 0.9768\n",
      "Epoch 11/50\n",
      "969/969 [==============================] - 11s 11ms/step - loss: 0.0523 - accuracy: 0.9824 - val_loss: 0.0628 - val_accuracy: 0.9808\n",
      "Epoch 12/50\n",
      "969/969 [==============================] - 11s 12ms/step - loss: 0.0506 - accuracy: 0.9829 - val_loss: 0.0495 - val_accuracy: 0.9863\n",
      "Epoch 13/50\n",
      "969/969 [==============================] - 10s 11ms/step - loss: 0.0472 - accuracy: 0.9836 - val_loss: 0.0611 - val_accuracy: 0.9809\n",
      "Epoch 14/50\n",
      "969/969 [==============================] - 11s 11ms/step - loss: 0.0455 - accuracy: 0.9847 - val_loss: 0.0581 - val_accuracy: 0.9845\n",
      "Epoch 15/50\n",
      "969/969 [==============================] - 11s 11ms/step - loss: 0.0460 - accuracy: 0.9836 - val_loss: 0.0533 - val_accuracy: 0.9844\n",
      "Epoch 16/50\n",
      "969/969 [==============================] - 10s 10ms/step - loss: 0.0448 - accuracy: 0.9848 - val_loss: 0.0561 - val_accuracy: 0.9841\n",
      "Epoch 17/50\n",
      "969/969 [==============================] - 10s 10ms/step - loss: 0.0376 - accuracy: 0.9871 - val_loss: 0.0571 - val_accuracy: 0.9844\n",
      "Epoch 18/50\n",
      "969/969 [==============================] - 10s 10ms/step - loss: 0.0416 - accuracy: 0.9866 - val_loss: 0.0519 - val_accuracy: 0.9853\n",
      "Epoch 19/50\n",
      "969/969 [==============================] - 10s 11ms/step - loss: 0.0363 - accuracy: 0.9872 - val_loss: 0.0534 - val_accuracy: 0.9849\n",
      "Epoch 20/50\n",
      "969/969 [==============================] - 11s 11ms/step - loss: 0.0329 - accuracy: 0.9891 - val_loss: 0.0546 - val_accuracy: 0.9861\n",
      "Epoch 21/50\n",
      "969/969 [==============================] - 11s 11ms/step - loss: 0.0379 - accuracy: 0.9873 - val_loss: 0.0520 - val_accuracy: 0.9861\n",
      "Epoch 22/50\n",
      "969/969 [==============================] - 10s 11ms/step - loss: 0.0318 - accuracy: 0.9886 - val_loss: 0.0518 - val_accuracy: 0.9871\n"
     ]
    }
   ],
   "source": [
    "mlp.compile(optimizer=tf.keras.optimizers.Adam(learning_rate=0.001), loss='categorical_crossentropy', metrics=['accuracy'])\n",
    "early_stopping = tf.keras.callbacks.EarlyStopping(monitor='val_loss', patience=10, mode='min',min_delta=0.001, restore_best_weights=True)\n",
    "history = mlp.fit(X_train, y_train1, validation_data=(X_val, y_val1), epochs=50,callbacks=[early_stopping], verbose=1)\n"
   ]
  },
  {
   "cell_type": "code",
   "execution_count": 8,
   "metadata": {},
   "outputs": [
    {
     "name": "stdout",
     "output_type": "stream",
     "text": [
      "[    0 58951  2493  6725  2923  1277   425]\n"
     ]
    }
   ],
   "source": [
    "class_counts = np.bincount(y_test.astype(int))\n",
    "print(class_counts)\n"
   ]
  },
  {
   "cell_type": "code",
   "execution_count": 9,
   "metadata": {},
   "outputs": [
    {
     "name": "stdout",
     "output_type": "stream",
     "text": [
      "2275/2275 [==============================] - 4s 2ms/step\n",
      "Confusion Matrix:\n",
      "[[58446     2     4   115   303    81]\n",
      " [    0  2493     0     0     0     0]\n",
      " [   21     0  6614     5    80     5]\n",
      " [   57     1     3  2834     3    25]\n",
      " [   46     0     3     4  1224     0]\n",
      " [    2     0     0     7     0   416]]\n",
      "F1 Score: 0.9898900605088254\n"
     ]
    }
   ],
   "source": [
    "from sklearn.metrics import confusion_matrix, f1_score\n",
    "\n",
    "# Predict the test data\n",
    "y_pred = mlp.predict(X_test1)\n",
    "\n",
    "# Convert the predicted probabilities to class labels\n",
    "y_pred_labels = np.argmax(y_pred, axis=1)\n",
    "\n",
    "# Create the confusion matrix\n",
    "cm = confusion_matrix(y_test, y_pred_labels)\n",
    "print(\"Confusion Matrix:\")\n",
    "print(cm)\n",
    "\n",
    "# Calculate the F1 score\n",
    "f1 = f1_score(y_test, y_pred_labels, average='weighted')\n",
    "print(\"F1 Score:\", f1)\n",
    "\n",
    "\n"
   ]
  },
  {
   "cell_type": "code",
   "execution_count": null,
   "metadata": {},
   "outputs": [],
   "source": []
  },
  {
   "cell_type": "code",
   "execution_count": null,
   "metadata": {},
   "outputs": [],
   "source": []
  }
 ],
 "metadata": {
  "kernelspec": {
   "display_name": "Python 3",
   "language": "python",
   "name": "python3"
  },
  "language_info": {
   "codemirror_mode": {
    "name": "ipython",
    "version": 3
   },
   "file_extension": ".py",
   "mimetype": "text/x-python",
   "name": "python",
   "nbconvert_exporter": "python",
   "pygments_lexer": "ipython3",
   "version": "3.10.12"
  }
 },
 "nbformat": 4,
 "nbformat_minor": 2
}
