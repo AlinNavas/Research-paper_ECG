{
 "cells": [
  {
   "cell_type": "code",
   "execution_count": 10,
   "metadata": {},
   "outputs": [],
   "source": [
    "import glob\n",
    "import numpy as np\n",
    "import pandas as pd\n",
    "import tensorflow as tf\n",
    "from tensorflow.keras.layers import Activation, BatchNormalization\n",
    "\n",
    "from tensorflow.keras.utils import to_categorical\n",
    "from tensorflow.keras.models import Sequential\n",
    "from tensorflow.keras.layers import Dense, Dropout\n",
    "from sklearn.model_selection import train_test_split\n",
    "from sklearn import *\n",
    "from sklearn.metrics import *"
   ]
  },
  {
   "cell_type": "code",
   "execution_count": 11,
   "metadata": {},
   "outputs": [],
   "source": [
    "from sklearn.metrics import confusion_matrix, f1_score\n"
   ]
  },
  {
   "cell_type": "code",
   "execution_count": 12,
   "metadata": {},
   "outputs": [],
   "source": [
    "\n",
    "\n",
    "length = 277\n",
    "DS1_data=pd.read_csv('./data/train_test/DS1_data.csv',header=None).values\n",
    "DS2_data=pd.read_csv('./data/train_test/DS2_data.csv',header=None).values\n",
    "\n"
   ]
  },
  {
   "cell_type": "code",
   "execution_count": 13,
   "metadata": {},
   "outputs": [],
   "source": [
    "train_patients = DS1_data\n",
    "test_patients = DS2_data\n",
    "\n",
    "\n",
    "from sklearn.utils import resample\n",
    "\n",
    "N = train_patients[train_patients[:,-2]==1.0]\n",
    "L = train_patients[train_patients[:,-2]==2.0]\n",
    "R = train_patients[train_patients[:,-2]==3.0]\n",
    "V = train_patients[train_patients[:,-2]==4.0]\n",
    "A = train_patients[train_patients[:,-2]==5.0]\n",
    "F = train_patients[train_patients[:,-2]==6.0]\n",
    "\n",
    "\n",
    "seed=26\n",
    "np.random.seed(seed)\n",
    "def downsample(arr, n, seed):\n",
    "    downsampled = resample(arr,replace=False,n_samples=n, random_state=seed)\n",
    "    return downsampled\n",
    "  \n",
    "def upsample(arr, n, seed):\n",
    "    upsampled = resample(arr,replace=True,n_samples=n,random_state=seed)\n",
    "    return upsampled\n",
    "\n",
    "all_class = [N,L,R,V,A,F]\n",
    "abn_class = [L,R,V,A,F]"
   ]
  },
  {
   "cell_type": "code",
   "execution_count": 14,
   "metadata": {},
   "outputs": [
    {
     "data": {
      "text/plain": [
       "((58952, 277), (2493, 277), (6725, 277), (2923, 277), (1277, 277), (425, 277))"
      ]
     },
     "execution_count": 14,
     "metadata": {},
     "output_type": "execute_result"
    }
   ],
   "source": [
    "N.shape, L.shape, R.shape, V.shape, A.shape, F.shape,"
   ]
  },
  {
   "cell_type": "code",
   "execution_count": 15,
   "metadata": {},
   "outputs": [],
   "source": [
    "\n",
    "mean_val = np.mean([len(i) for i in abn_class], dtype= int)\n",
    "train_sampled = []\n",
    "\n",
    "for i in abn_class:\n",
    "    if i.shape[0]> mean_val:\n",
    "        i = downsample(i,mean_val,seed)\n",
    "    elif i.shape[0]< mean_val:\n",
    "        i = upsample(i, mean_val,seed)\n",
    "    train_sampled.append(i)\n",
    "    \n",
    "train_sampled = np.concatenate(train_sampled)\n",
    "\n"
   ]
  },
  {
   "cell_type": "code",
   "execution_count": 16,
   "metadata": {},
   "outputs": [],
   "source": [
    "downsampled_data = downsample(all_class[0],int(9 * mean_val),seed)\n",
    "train_sample = np.concatenate((train_sampled, downsampled_data), axis=0)\n",
    "np.random.shuffle(train_sample)\n",
    "train_sampled_all = train_sample"
   ]
  },
  {
   "cell_type": "code",
   "execution_count": 18,
   "metadata": {},
   "outputs": [],
   "source": [
    "\n",
    "Nm = train_sampled_all[train_sampled_all[:,-2]==1.0]\n",
    "Lm = train_sampled_all[train_sampled_all[:,-2]==2.0]\n",
    "Rm = train_sampled_all[train_sampled_all[:,-2]==3.0]\n",
    "Vm = train_sampled_all[train_sampled_all[:,-2]==4.0]\n",
    "Am = train_sampled_all[train_sampled_all[:,-2]==5.0]\n",
    "Fm = train_sampled_all[train_sampled_all[:,-2]==6.0]"
   ]
  },
  {
   "cell_type": "code",
   "execution_count": 19,
   "metadata": {},
   "outputs": [
    {
     "data": {
      "text/plain": [
       "((24912, 277),\n",
       " (2768, 277),\n",
       " (2768, 277),\n",
       " (2768, 277),\n",
       " (2768, 277),\n",
       " (2768, 277),\n",
       " (38752, 277))"
      ]
     },
     "execution_count": 19,
     "metadata": {},
     "output_type": "execute_result"
    }
   ],
   "source": [
    "Nm.shape, Lm.shape, Rm.shape, Vm.shape, Am.shape, Fm.shape, train_sampled_all.shape"
   ]
  },
  {
   "cell_type": "code",
   "execution_count": 20,
   "metadata": {},
   "outputs": [],
   "source": [
    "\n",
    "with open('./data/train_test/train_patients.csv', \"wb\") as fin:\n",
    "    np.savetxt(fin, train_sampled_all, delimiter=\",\", fmt='%f')\n",
    "\n",
    "with open('./data/train_test/test_patients.csv', \"wb\") as fin:\n",
    "    np.savetxt(fin, test_patients, delimiter=\",\", fmt='%f')"
   ]
  }
 ],
 "metadata": {
  "kernelspec": {
   "display_name": "base",
   "language": "python",
   "name": "python3"
  },
  "language_info": {
   "codemirror_mode": {
    "name": "ipython",
    "version": 3
   },
   "file_extension": ".py",
   "mimetype": "text/x-python",
   "name": "python",
   "nbconvert_exporter": "python",
   "pygments_lexer": "ipython3",
   "version": "3.10.12"
  }
 },
 "nbformat": 4,
 "nbformat_minor": 2
}
