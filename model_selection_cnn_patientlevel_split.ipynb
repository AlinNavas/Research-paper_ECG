{
 "cells": [
  {
   "cell_type": "code",
   "execution_count": 1,
   "metadata": {},
   "outputs": [
    {
     "name": "stderr",
     "output_type": "stream",
     "text": [
      "2024-03-19 21:57:17.898923: I tensorflow/core/util/port.cc:113] oneDNN custom operations are on. You may see slightly different numerical results due to floating-point round-off errors from different computation orders. To turn them off, set the environment variable `TF_ENABLE_ONEDNN_OPTS=0`.\n",
      "2024-03-19 21:57:17.952370: E external/local_xla/xla/stream_executor/cuda/cuda_dnn.cc:9261] Unable to register cuDNN factory: Attempting to register factory for plugin cuDNN when one has already been registered\n",
      "2024-03-19 21:57:17.952409: E external/local_xla/xla/stream_executor/cuda/cuda_fft.cc:607] Unable to register cuFFT factory: Attempting to register factory for plugin cuFFT when one has already been registered\n",
      "2024-03-19 21:57:17.954561: E external/local_xla/xla/stream_executor/cuda/cuda_blas.cc:1515] Unable to register cuBLAS factory: Attempting to register factory for plugin cuBLAS when one has already been registered\n",
      "2024-03-19 21:57:17.970685: I tensorflow/core/platform/cpu_feature_guard.cc:182] This TensorFlow binary is optimized to use available CPU instructions in performance-critical operations.\n",
      "To enable the following instructions: AVX2 AVX_VNNI FMA, in other operations, rebuild TensorFlow with the appropriate compiler flags.\n",
      "2024-03-19 21:57:18.614025: W tensorflow/compiler/tf2tensorrt/utils/py_utils.cc:38] TF-TRT Warning: Could not find TensorRT\n"
     ]
    }
   ],
   "source": [
    "import numpy as np\n",
    "import pickle\n",
    "import glob\n",
    "import matplotlib.pyplot as plt\n",
    "import pandas as pd\n",
    "from scipy import *\n",
    "import os\n",
    "import seaborn as sns\n",
    "import tensorflow as tf\n",
    "from tensorflow.keras.utils import to_categorical\n",
    "from tensorflow.keras.models import Sequential\n",
    "from tensorflow.keras.layers import Dense, Dropout,Conv1D,MaxPooling1D,Flatten\n",
    "from sklearn.model_selection import train_test_split\n",
    "from sklearn import *\n",
    "from sklearn.metrics import *\n",
    "sns.set()\n",
    "import warnings\n",
    "warnings.filterwarnings(\"ignore\")\n",
    "length = 277"
   ]
  },
  {
   "cell_type": "code",
   "execution_count": 2,
   "metadata": {},
   "outputs": [
    {
     "name": "stdout",
     "output_type": "stream",
     "text": [
      "[name: \"/device:CPU:0\"\n",
      "device_type: \"CPU\"\n",
      "memory_limit: 268435456\n",
      "locality {\n",
      "}\n",
      "incarnation: 6075727844423715116\n",
      "xla_global_id: -1\n",
      ", name: \"/device:GPU:0\"\n",
      "device_type: \"GPU\"\n",
      "memory_limit: 5803868160\n",
      "locality {\n",
      "  bus_id: 1\n",
      "  links {\n",
      "  }\n",
      "}\n",
      "incarnation: 4108286304210329175\n",
      "physical_device_desc: \"device: 0, name: NVIDIA GeForce RTX 4070 Laptop GPU, pci bus id: 0000:01:00.0, compute capability: 8.9\"\n",
      "xla_global_id: 416903419\n",
      "]\n"
     ]
    },
    {
     "name": "stderr",
     "output_type": "stream",
     "text": [
      "2024-03-19 21:57:20.981569: I external/local_xla/xla/stream_executor/cuda/cuda_executor.cc:887] could not open file to read NUMA node: /sys/bus/pci/devices/0000:01:00.0/numa_node\n",
      "Your kernel may have been built without NUMA support.\n",
      "2024-03-19 21:57:21.114377: I external/local_xla/xla/stream_executor/cuda/cuda_executor.cc:887] could not open file to read NUMA node: /sys/bus/pci/devices/0000:01:00.0/numa_node\n",
      "Your kernel may have been built without NUMA support.\n",
      "2024-03-19 21:57:21.114422: I external/local_xla/xla/stream_executor/cuda/cuda_executor.cc:887] could not open file to read NUMA node: /sys/bus/pci/devices/0000:01:00.0/numa_node\n",
      "Your kernel may have been built without NUMA support.\n",
      "2024-03-19 21:57:21.443885: I external/local_xla/xla/stream_executor/cuda/cuda_executor.cc:887] could not open file to read NUMA node: /sys/bus/pci/devices/0000:01:00.0/numa_node\n",
      "Your kernel may have been built without NUMA support.\n",
      "2024-03-19 21:57:21.443929: I external/local_xla/xla/stream_executor/cuda/cuda_executor.cc:887] could not open file to read NUMA node: /sys/bus/pci/devices/0000:01:00.0/numa_node\n",
      "Your kernel may have been built without NUMA support.\n",
      "2024-03-19 21:57:21.443934: I tensorflow/core/common_runtime/gpu/gpu_device.cc:2022] Could not identify NUMA node of platform GPU id 0, defaulting to 0.  Your kernel may not have been built with NUMA support.\n",
      "2024-03-19 21:57:21.443960: I external/local_xla/xla/stream_executor/cuda/cuda_executor.cc:887] could not open file to read NUMA node: /sys/bus/pci/devices/0000:01:00.0/numa_node\n",
      "Your kernel may have been built without NUMA support.\n",
      "2024-03-19 21:57:21.443980: I tensorflow/core/common_runtime/gpu/gpu_device.cc:1929] Created device /device:GPU:0 with 5535 MB memory:  -> device: 0, name: NVIDIA GeForce RTX 4070 Laptop GPU, pci bus id: 0000:01:00.0, compute capability: 8.9\n"
     ]
    }
   ],
   "source": [
    "from tensorflow.python.client import device_lib\n",
    "print(device_lib.list_local_devices())"
   ]
  },
  {
   "cell_type": "code",
   "execution_count": 3,
   "metadata": {},
   "outputs": [
    {
     "name": "stdout",
     "output_type": "stream",
     "text": [
      "Loading  ./data/train_test/train_patients.csv\n",
      "Loading  ./data/train_test/test_patients.csv\n",
      "(38752, 277)\n",
      "(72795, 277)\n",
      "X_train shape: (31001, 275)\n",
      "X_val shape: (7751, 275)\n",
      "y_train shape: (31001,)\n",
      "y_val shape: (7751,)\n"
     ]
    }
   ],
   "source": [
    "# Load the training and testing data:\n",
    "train_values = np.empty(shape=[0, length])\n",
    "test_values = np.empty(shape=[0, length])\n",
    "\n",
    "train_beats = glob.glob('./data/train_test/train_patients.csv')\n",
    "test_beats = glob.glob('./data/train_test/test_patients.csv')\n",
    "\n",
    "for j in train_beats:\n",
    "    print('Loading ', j)\n",
    "    csvrows = np.loadtxt(j, delimiter=',')\n",
    "    train_values = np.append(train_values, csvrows, axis=0)\n",
    "\n",
    "for j in test_beats:\n",
    "    print('Loading ', j)\n",
    "    csvrows = np.loadtxt(j, delimiter=',')\n",
    "    test_values = np.append(test_values, csvrows, axis=0)\n",
    "    \n",
    "print(train_values.shape)\n",
    "print(test_values.shape)\n",
    "\n",
    "# Separate the training and testing data, and one-hot encode Y:\n",
    "X_train = train_values[:,:-2]\n",
    "X_test = test_values[:,:-2]\n",
    "y_train = train_values[:,-2]\n",
    "y_test = test_values[:,-2]\n",
    "X_test1 = X_test.reshape(-1, X_train.shape[1], 1)\n",
    "y_test1=to_categorical(y_test)\n",
    "\n",
    "\n",
    "X_train, X_val, y_train, y_val = train_test_split(X_train, y_train, test_size=0.2, random_state=42, stratify=y_train)\n",
    "\n",
    "print(\"X_train shape:\", X_train.shape)\n",
    "print(\"X_val shape:\", X_val.shape)\n",
    "print(\"y_train shape:\", y_train.shape)\n",
    "print(\"y_val shape:\", y_val.shape)\n",
    "X_train1 = X_train.reshape(-1, X_train.shape[1], 1)\n",
    "y_train1=to_categorical(y_train)\n",
    "\n",
    "X_val1 = X_val.reshape(-1, X_train.shape[1], 1)\n",
    "y_val1=to_categorical(y_val)\n"
   ]
  },
  {
   "cell_type": "code",
   "execution_count": 4,
   "metadata": {},
   "outputs": [
    {
     "name": "stdout",
     "output_type": "stream",
     "text": [
      "Model: \"sequential\"\n",
      "_________________________________________________________________\n",
      " Layer (type)                Output Shape              Param #   \n",
      "=================================================================\n",
      " conv1d (Conv1D)             (None, 271, 396)          2376      \n",
      "                                                                 \n",
      " max_pooling1d (MaxPooling1  (None, 135, 396)          0         \n",
      " D)                                                              \n",
      "                                                                 \n",
      " conv1d_1 (Conv1D)           (None, 129, 192)          532416    \n",
      "                                                                 \n",
      " max_pooling1d_1 (MaxPoolin  (None, 64, 192)           0         \n",
      " g1D)                                                            \n",
      "                                                                 \n",
      " conv1d_2 (Conv1D)           (None, 56, 88)            152152    \n",
      "                                                                 \n",
      " max_pooling1d_2 (MaxPoolin  (None, 28, 88)            0         \n",
      " g1D)                                                            \n",
      "                                                                 \n",
      " conv1d_3 (Conv1D)           (None, 18, 34)            32946     \n",
      "                                                                 \n",
      " max_pooling1d_3 (MaxPoolin  (None, 9, 34)             0         \n",
      " g1D)                                                            \n",
      "                                                                 \n",
      " flatten (Flatten)           (None, 306)               0         \n",
      "                                                                 \n",
      " dense (Dense)               (None, 30)                9210      \n",
      "                                                                 \n",
      " dense_1 (Dense)             (None, 20)                620       \n",
      "                                                                 \n",
      " dense_2 (Dense)             (None, 7)                 147       \n",
      "                                                                 \n",
      "=================================================================\n",
      "Total params: 729867 (2.78 MB)\n",
      "Trainable params: 729867 (2.78 MB)\n",
      "Non-trainable params: 0 (0.00 Byte)\n",
      "_________________________________________________________________\n"
     ]
    },
    {
     "name": "stderr",
     "output_type": "stream",
     "text": [
      "2024-03-19 21:57:22.952209: I external/local_xla/xla/stream_executor/cuda/cuda_executor.cc:887] could not open file to read NUMA node: /sys/bus/pci/devices/0000:01:00.0/numa_node\n",
      "Your kernel may have been built without NUMA support.\n",
      "2024-03-19 21:57:22.952312: I external/local_xla/xla/stream_executor/cuda/cuda_executor.cc:887] could not open file to read NUMA node: /sys/bus/pci/devices/0000:01:00.0/numa_node\n",
      "Your kernel may have been built without NUMA support.\n",
      "2024-03-19 21:57:22.952347: I external/local_xla/xla/stream_executor/cuda/cuda_executor.cc:887] could not open file to read NUMA node: /sys/bus/pci/devices/0000:01:00.0/numa_node\n",
      "Your kernel may have been built without NUMA support.\n",
      "2024-03-19 21:57:22.952513: I external/local_xla/xla/stream_executor/cuda/cuda_executor.cc:887] could not open file to read NUMA node: /sys/bus/pci/devices/0000:01:00.0/numa_node\n",
      "Your kernel may have been built without NUMA support.\n",
      "2024-03-19 21:57:22.952542: I external/local_xla/xla/stream_executor/cuda/cuda_executor.cc:887] could not open file to read NUMA node: /sys/bus/pci/devices/0000:01:00.0/numa_node\n",
      "Your kernel may have been built without NUMA support.\n",
      "2024-03-19 21:57:22.952575: I external/local_xla/xla/stream_executor/cuda/cuda_executor.cc:887] could not open file to read NUMA node: /sys/bus/pci/devices/0000:01:00.0/numa_node\n",
      "Your kernel may have been built without NUMA support.\n",
      "2024-03-19 21:57:22.952814: I external/local_xla/xla/stream_executor/cuda/cuda_executor.cc:887] could not open file to read NUMA node: /sys/bus/pci/devices/0000:01:00.0/numa_node\n",
      "Your kernel may have been built without NUMA support.\n",
      "2024-03-19 21:57:22.952835: I tensorflow/core/common_runtime/gpu/gpu_device.cc:2022] Could not identify NUMA node of platform GPU id 0, defaulting to 0.  Your kernel may not have been built with NUMA support.\n",
      "2024-03-19 21:57:22.952888: I external/local_xla/xla/stream_executor/cuda/cuda_executor.cc:887] could not open file to read NUMA node: /sys/bus/pci/devices/0000:01:00.0/numa_node\n",
      "Your kernel may have been built without NUMA support.\n",
      "2024-03-19 21:57:22.952908: I tensorflow/core/common_runtime/gpu/gpu_device.cc:1929] Created device /job:localhost/replica:0/task:0/device:GPU:0 with 5535 MB memory:  -> device: 0, name: NVIDIA GeForce RTX 4070 Laptop GPU, pci bus id: 0000:01:00.0, compute capability: 8.9\n"
     ]
    }
   ],
   "source": [
    "# Initialize the model\n",
    "cnnmodel = Sequential()\n",
    "\n",
    "# Ensure the input_shape parameter matches the shape of X_train1\n",
    "cnnmodel.add(Conv1D(396, 5, strides=1, activation='relu', input_shape=(X_train1.shape[1],X_train1.shape[2])))\n",
    "cnnmodel.add(MaxPooling1D(pool_size=2, strides=2))\n",
    "\n",
    "cnnmodel.add(Conv1D(192, 7, strides=1, activation='relu'))\n",
    "\n",
    "cnnmodel.add(MaxPooling1D(pool_size=2, strides=2))\n",
    "cnnmodel.add(Conv1D(88, 9, strides=1, activation='relu'))\n",
    "cnnmodel.add(MaxPooling1D(pool_size=2, strides=2))\n",
    "cnnmodel.add(Conv1D(34, 11, strides=1, activation='relu'))\n",
    "cnnmodel.add(MaxPooling1D(pool_size=2, strides=2))\n",
    "\n",
    "# Flatten the tensor output from the convolutional part of the CNN\n",
    "cnnmodel.add(Flatten())\n",
    "\n",
    "# Add fully connected layers\n",
    "cnnmodel.add(Dense(30, activation='relu'))\n",
    "cnnmodel.add(Dense(20, activation='relu'))\n",
    "cnnmodel.add(Dense(7, activation='softmax'))  \n",
    "\n",
    "cnnmodel.summary()"
   ]
  },
  {
   "cell_type": "code",
   "execution_count": 5,
   "metadata": {},
   "outputs": [],
   "source": [
    "from sklearn.utils import class_weight\n",
    "class_weights = class_weight.compute_class_weight('balanced', classes=np.unique(y_train), y=y_train)\n"
   ]
  },
  {
   "cell_type": "code",
   "execution_count": 6,
   "metadata": {},
   "outputs": [
    {
     "data": {
      "text/plain": [
       "array([0.25926205, 2.33370973, 2.33265613, 2.33370973, 2.33370973,\n",
       "       2.33265613])"
      ]
     },
     "execution_count": 6,
     "metadata": {},
     "output_type": "execute_result"
    }
   ],
   "source": [
    "class_weights"
   ]
  },
  {
   "cell_type": "code",
   "execution_count": 7,
   "metadata": {},
   "outputs": [
    {
     "name": "stdout",
     "output_type": "stream",
     "text": [
      "Epoch 1/50\n"
     ]
    },
    {
     "name": "stderr",
     "output_type": "stream",
     "text": [
      "2024-03-19 21:57:23.938599: I external/local_xla/xla/stream_executor/cuda/cuda_dnn.cc:454] Loaded cuDNN version 8904\n",
      "2024-03-19 21:57:24.063779: I external/local_tsl/tsl/platform/default/subprocess.cc:304] Start cannot spawn child process: No such file or directory\n",
      "2024-03-19 21:57:24.293713: I external/local_tsl/tsl/platform/default/subprocess.cc:304] Start cannot spawn child process: No such file or directory\n",
      "2024-03-19 21:57:24.671878: I external/local_xla/xla/service/service.cc:168] XLA service 0x7f6e5cd179a0 initialized for platform CUDA (this does not guarantee that XLA will be used). Devices:\n",
      "2024-03-19 21:57:24.671910: I external/local_xla/xla/service/service.cc:176]   StreamExecutor device (0): NVIDIA GeForce RTX 4070 Laptop GPU, Compute Capability 8.9\n",
      "2024-03-19 21:57:24.675680: I tensorflow/compiler/mlir/tensorflow/utils/dump_mlir_util.cc:269] disabling MLIR crash reproducer, set env var `MLIR_CRASH_REPRODUCER_DIRECTORY` to enable.\n",
      "WARNING: All log messages before absl::InitializeLog() is called are written to STDERR\n",
      "I0000 00:00:1710885444.727435  316085 device_compiler.h:186] Compiled cluster using XLA!  This line is logged at most once for the lifetime of the process.\n"
     ]
    },
    {
     "name": "stdout",
     "output_type": "stream",
     "text": [
      "969/969 [==============================] - 11s 9ms/step - loss: 0.2857 - accuracy: 0.9123 - val_loss: 0.1664 - val_accuracy: 0.9489\n",
      "Epoch 2/50\n",
      "969/969 [==============================] - 7s 8ms/step - loss: 0.1101 - accuracy: 0.9669 - val_loss: 0.0837 - val_accuracy: 0.9760\n",
      "Epoch 3/50\n",
      "969/969 [==============================] - 7s 7ms/step - loss: 0.0758 - accuracy: 0.9766 - val_loss: 0.0677 - val_accuracy: 0.9795\n",
      "Epoch 4/50\n",
      "969/969 [==============================] - 7s 7ms/step - loss: 0.0608 - accuracy: 0.9801 - val_loss: 0.0631 - val_accuracy: 0.9822\n",
      "Epoch 5/50\n",
      "969/969 [==============================] - 7s 7ms/step - loss: 0.0523 - accuracy: 0.9838 - val_loss: 0.0633 - val_accuracy: 0.9790\n",
      "Epoch 6/50\n",
      "969/969 [==============================] - 7s 8ms/step - loss: 0.0435 - accuracy: 0.9859 - val_loss: 0.0569 - val_accuracy: 0.9816\n",
      "Epoch 7/50\n",
      "969/969 [==============================] - 24s 25ms/step - loss: 0.0338 - accuracy: 0.9891 - val_loss: 0.0494 - val_accuracy: 0.9857\n",
      "Epoch 8/50\n",
      "969/969 [==============================] - 18s 18ms/step - loss: 0.0297 - accuracy: 0.9900 - val_loss: 0.0485 - val_accuracy: 0.9843\n",
      "Epoch 9/50\n",
      "969/969 [==============================] - 7s 8ms/step - loss: 0.0323 - accuracy: 0.9894 - val_loss: 0.0440 - val_accuracy: 0.9871\n",
      "Epoch 10/50\n",
      "969/969 [==============================] - 7s 8ms/step - loss: 0.0277 - accuracy: 0.9915 - val_loss: 0.0421 - val_accuracy: 0.9862\n",
      "Epoch 11/50\n",
      "969/969 [==============================] - 7s 7ms/step - loss: 0.0265 - accuracy: 0.9919 - val_loss: 0.1023 - val_accuracy: 0.9752\n",
      "Epoch 12/50\n",
      "969/969 [==============================] - 7s 7ms/step - loss: 0.0212 - accuracy: 0.9935 - val_loss: 0.0474 - val_accuracy: 0.9850\n",
      "Epoch 13/50\n",
      "969/969 [==============================] - 8s 8ms/step - loss: 0.0196 - accuracy: 0.9941 - val_loss: 0.0460 - val_accuracy: 0.9894\n",
      "Epoch 14/50\n",
      "969/969 [==============================] - 8s 8ms/step - loss: 0.0186 - accuracy: 0.9945 - val_loss: 0.0424 - val_accuracy: 0.9893\n",
      "Epoch 15/50\n",
      "969/969 [==============================] - 8s 8ms/step - loss: 0.0176 - accuracy: 0.9945 - val_loss: 0.0481 - val_accuracy: 0.9868\n",
      "Epoch 16/50\n",
      "969/969 [==============================] - 8s 8ms/step - loss: 0.0189 - accuracy: 0.9943 - val_loss: 0.0430 - val_accuracy: 0.9888\n",
      "Epoch 17/50\n",
      "969/969 [==============================] - 8s 8ms/step - loss: 0.0160 - accuracy: 0.9951 - val_loss: 0.0543 - val_accuracy: 0.9871\n",
      "Epoch 18/50\n",
      "969/969 [==============================] - 8s 8ms/step - loss: 0.0172 - accuracy: 0.9951 - val_loss: 0.0604 - val_accuracy: 0.9866\n",
      "Epoch 19/50\n",
      "969/969 [==============================] - 8s 8ms/step - loss: 0.0131 - accuracy: 0.9962 - val_loss: 0.0485 - val_accuracy: 0.9877\n",
      "Epoch 20/50\n",
      "969/969 [==============================] - 8s 8ms/step - loss: 0.0124 - accuracy: 0.9962 - val_loss: 0.0596 - val_accuracy: 0.9858\n"
     ]
    }
   ],
   "source": [
    "cnnmodel.compile(optimizer=tf.keras.optimizers.Adam(learning_rate=0.001), loss='categorical_crossentropy', metrics=['accuracy'])\n",
    "early_stopping = tf.keras.callbacks.EarlyStopping(monitor='val_loss', patience=10, mode='min',min_delta=0.001, restore_best_weights=True)\n",
    "history = cnnmodel.fit(X_train1, y_train1, validation_data=(X_val, y_val1), epochs=50,callbacks=[early_stopping], verbose=1)\n"
   ]
  },
  {
   "cell_type": "code",
   "execution_count": 8,
   "metadata": {},
   "outputs": [
    {
     "name": "stdout",
     "output_type": "stream",
     "text": [
      "[    0 58952  2493  6725  2923  1277   425]\n"
     ]
    }
   ],
   "source": [
    "class_counts = np.bincount(y_test.astype(int))\n",
    "print(class_counts)\n"
   ]
  },
  {
   "cell_type": "code",
   "execution_count": 9,
   "metadata": {},
   "outputs": [
    {
     "name": "stdout",
     "output_type": "stream",
     "text": [
      "2275/2275 [==============================] - 5s 2ms/step\n",
      "Confusion Matrix:\n",
      "[[58560    11     8   161    80   132]\n",
      " [    0  2492     0     1     0     0]\n",
      " [   16     0  6647     6    50     6]\n",
      " [   27     1     8  2865     2    20]\n",
      " [   84     0     4     6  1182     1]\n",
      " [    0     0     2     3     0   420]]\n",
      "F1 Score: 0.9915758400785036\n"
     ]
    }
   ],
   "source": [
    "from sklearn.metrics import confusion_matrix, f1_score\n",
    "\n",
    "# Predict the test data\n",
    "y_pred = cnnmodel.predict(X_test1)\n",
    "\n",
    "# Convert the predicted probabilities to class labels\n",
    "y_pred_labels = np.argmax(y_pred, axis=1)\n",
    "\n",
    "# Create the confusion matrix\n",
    "cm = confusion_matrix(y_test, y_pred_labels)\n",
    "print(\"Confusion Matrix:\")\n",
    "print(cm)\n",
    "\n",
    "# Calculate the F1 score\n",
    "f1 = f1_score(y_test, y_pred_labels, average='weighted')\n",
    "print(\"F1 Score:\", f1)\n",
    "\n",
    "\n"
   ]
  },
  {
   "cell_type": "code",
   "execution_count": 10,
   "metadata": {},
   "outputs": [],
   "source": [
    "cnnmodel.save('./models/cnnmodel.h5')\n"
   ]
  },
  {
   "cell_type": "code",
   "execution_count": null,
   "metadata": {},
   "outputs": [],
   "source": []
  }
 ],
 "metadata": {
  "kernelspec": {
   "display_name": "Python 3",
   "language": "python",
   "name": "python3"
  },
  "language_info": {
   "codemirror_mode": {
    "name": "ipython",
    "version": 3
   },
   "file_extension": ".py",
   "mimetype": "text/x-python",
   "name": "python",
   "nbconvert_exporter": "python",
   "pygments_lexer": "ipython3",
   "version": "3.10.12"
  }
 },
 "nbformat": 4,
 "nbformat_minor": 2
}
