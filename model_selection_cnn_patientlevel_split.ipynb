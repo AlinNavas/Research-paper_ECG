{
 "cells": [
  {
   "cell_type": "code",
   "execution_count": 1,
   "metadata": {},
   "outputs": [
    {
     "name": "stderr",
     "output_type": "stream",
     "text": [
      "2024-03-26 19:17:24.235098: I tensorflow/core/util/port.cc:113] oneDNN custom operations are on. You may see slightly different numerical results due to floating-point round-off errors from different computation orders. To turn them off, set the environment variable `TF_ENABLE_ONEDNN_OPTS=0`.\n",
      "2024-03-26 19:17:24.257083: E external/local_xla/xla/stream_executor/cuda/cuda_dnn.cc:9261] Unable to register cuDNN factory: Attempting to register factory for plugin cuDNN when one has already been registered\n",
      "2024-03-26 19:17:24.257106: E external/local_xla/xla/stream_executor/cuda/cuda_fft.cc:607] Unable to register cuFFT factory: Attempting to register factory for plugin cuFFT when one has already been registered\n",
      "2024-03-26 19:17:24.257790: E external/local_xla/xla/stream_executor/cuda/cuda_blas.cc:1515] Unable to register cuBLAS factory: Attempting to register factory for plugin cuBLAS when one has already been registered\n",
      "2024-03-26 19:17:24.262320: I tensorflow/core/platform/cpu_feature_guard.cc:182] This TensorFlow binary is optimized to use available CPU instructions in performance-critical operations.\n",
      "To enable the following instructions: AVX2 AVX_VNNI FMA, in other operations, rebuild TensorFlow with the appropriate compiler flags.\n",
      "2024-03-26 19:17:24.754593: W tensorflow/compiler/tf2tensorrt/utils/py_utils.cc:38] TF-TRT Warning: Could not find TensorRT\n"
     ]
    }
   ],
   "source": [
    "import numpy as np\n",
    "import pickle\n",
    "import glob\n",
    "import matplotlib.pyplot as plt\n",
    "import pandas as pd\n",
    "from scipy import *\n",
    "import os\n",
    "import seaborn as sns\n",
    "import tensorflow as tf\n",
    "from tensorflow.keras.utils import to_categorical\n",
    "from tensorflow.keras.models import Sequential\n",
    "from tensorflow.keras.layers import Dense, Dropout,Conv1D,MaxPooling1D,Flatten\n",
    "from sklearn.model_selection import train_test_split\n",
    "from sklearn import *\n",
    "from sklearn.metrics import *\n",
    "sns.set()\n",
    "import warnings\n",
    "warnings.filterwarnings(\"ignore\")\n",
    "length = 277"
   ]
  },
  {
   "cell_type": "code",
   "execution_count": 2,
   "metadata": {},
   "outputs": [
    {
     "name": "stdout",
     "output_type": "stream",
     "text": [
      "[name: \"/device:CPU:0\"\n",
      "device_type: \"CPU\"\n",
      "memory_limit: 268435456\n",
      "locality {\n",
      "}\n",
      "incarnation: 14756675203812691423\n",
      "xla_global_id: -1\n",
      ", name: \"/device:GPU:0\"\n",
      "device_type: \"GPU\"\n",
      "memory_limit: 3681550336\n",
      "locality {\n",
      "  bus_id: 1\n",
      "  links {\n",
      "  }\n",
      "}\n",
      "incarnation: 13509646557237972255\n",
      "physical_device_desc: \"device: 0, name: NVIDIA GeForce RTX 4070 Laptop GPU, pci bus id: 0000:01:00.0, compute capability: 8.9\"\n",
      "xla_global_id: 416903419\n",
      "]\n"
     ]
    },
    {
     "name": "stderr",
     "output_type": "stream",
     "text": [
      "2024-03-26 19:17:25.179827: I external/local_xla/xla/stream_executor/cuda/cuda_executor.cc:887] could not open file to read NUMA node: /sys/bus/pci/devices/0000:01:00.0/numa_node\n",
      "Your kernel may have been built without NUMA support.\n",
      "2024-03-26 19:17:25.199387: I external/local_xla/xla/stream_executor/cuda/cuda_executor.cc:887] could not open file to read NUMA node: /sys/bus/pci/devices/0000:01:00.0/numa_node\n",
      "Your kernel may have been built without NUMA support.\n",
      "2024-03-26 19:17:25.199430: I external/local_xla/xla/stream_executor/cuda/cuda_executor.cc:887] could not open file to read NUMA node: /sys/bus/pci/devices/0000:01:00.0/numa_node\n",
      "Your kernel may have been built without NUMA support.\n",
      "2024-03-26 19:17:25.364128: I external/local_xla/xla/stream_executor/cuda/cuda_executor.cc:887] could not open file to read NUMA node: /sys/bus/pci/devices/0000:01:00.0/numa_node\n",
      "Your kernel may have been built without NUMA support.\n",
      "2024-03-26 19:17:25.364169: I external/local_xla/xla/stream_executor/cuda/cuda_executor.cc:887] could not open file to read NUMA node: /sys/bus/pci/devices/0000:01:00.0/numa_node\n",
      "Your kernel may have been built without NUMA support.\n",
      "2024-03-26 19:17:25.364174: I tensorflow/core/common_runtime/gpu/gpu_device.cc:2022] Could not identify NUMA node of platform GPU id 0, defaulting to 0.  Your kernel may not have been built with NUMA support.\n",
      "2024-03-26 19:17:25.364199: I external/local_xla/xla/stream_executor/cuda/cuda_executor.cc:887] could not open file to read NUMA node: /sys/bus/pci/devices/0000:01:00.0/numa_node\n",
      "Your kernel may have been built without NUMA support.\n",
      "2024-03-26 19:17:25.364213: I tensorflow/core/common_runtime/gpu/gpu_device.cc:1929] Created device /device:GPU:0 with 3511 MB memory:  -> device: 0, name: NVIDIA GeForce RTX 4070 Laptop GPU, pci bus id: 0000:01:00.0, compute capability: 8.9\n"
     ]
    }
   ],
   "source": [
    "from tensorflow.python.client import device_lib\n",
    "print(device_lib.list_local_devices())"
   ]
  },
  {
   "cell_type": "code",
   "execution_count": 3,
   "metadata": {},
   "outputs": [
    {
     "name": "stdout",
     "output_type": "stream",
     "text": [
      "(38751, 277)\n",
      "(72794, 277)\n",
      "X_train shape: (31000, 275)\n",
      "X_val shape: (7751, 275)\n",
      "y_train shape: (31000,)\n",
      "y_val shape: (7751,)\n"
     ]
    }
   ],
   "source": [
    "train_values = pd.read_csv('./data/train_test/train_patients.csv').values\n",
    "test_values = pd.read_csv('./data/train_test/test_patients.csv').values\n",
    "    \n",
    "print(train_values.shape)\n",
    "print(test_values.shape)\n",
    "\n",
    "# Separate the training and testing data, and one-hot encode Y:\n",
    "X_train = train_values[:,:-2]\n",
    "X_test = test_values[:,:-2]\n",
    "y_train = train_values[:,-2]\n",
    "y_test = test_values[:,-2]\n",
    "X_test1 = X_test.reshape(-1, X_train.shape[1], 1)\n",
    "y_test1=to_categorical(y_test)\n",
    "\n",
    "\n",
    "X_train, X_val, y_train, y_val = train_test_split(X_train, y_train, test_size=0.2, random_state=42, stratify=y_train)\n",
    "\n",
    "print(\"X_train shape:\", X_train.shape)\n",
    "print(\"X_val shape:\", X_val.shape)\n",
    "print(\"y_train shape:\", y_train.shape)\n",
    "print(\"y_val shape:\", y_val.shape)\n",
    "X_train1 = X_train.reshape(-1, X_train.shape[1], 1)\n",
    "y_train1=to_categorical(y_train)\n",
    "\n",
    "X_val1 = X_val.reshape(-1, X_train.shape[1], 1)\n",
    "y_val1=to_categorical(y_val)\n"
   ]
  },
  {
   "cell_type": "code",
   "execution_count": 4,
   "metadata": {},
   "outputs": [
    {
     "name": "stdout",
     "output_type": "stream",
     "text": [
      "Model: \"sequential\"\n",
      "_________________________________________________________________\n",
      " Layer (type)                Output Shape              Param #   \n",
      "=================================================================\n",
      " conv1d (Conv1D)             (None, 271, 396)          2376      \n",
      "                                                                 \n",
      " max_pooling1d (MaxPooling1  (None, 135, 396)          0         \n",
      " D)                                                              \n",
      "                                                                 \n",
      " conv1d_1 (Conv1D)           (None, 129, 192)          532416    \n",
      "                                                                 \n",
      " max_pooling1d_1 (MaxPoolin  (None, 64, 192)           0         \n",
      " g1D)                                                            \n",
      "                                                                 \n",
      " conv1d_2 (Conv1D)           (None, 56, 88)            152152    \n",
      "                                                                 \n",
      " max_pooling1d_2 (MaxPoolin  (None, 28, 88)            0         \n",
      " g1D)                                                            \n",
      "                                                                 \n",
      " last_conv_layer (Conv1D)    (None, 18, 34)            32946     \n",
      "                                                                 \n",
      " max_pooling1d_3 (MaxPoolin  (None, 9, 34)             0         \n",
      " g1D)                                                            \n",
      "                                                                 \n",
      " flatten (Flatten)           (None, 306)               0         \n",
      "                                                                 \n",
      " dense (Dense)               (None, 30)                9210      \n",
      "                                                                 \n",
      " dense_1 (Dense)             (None, 20)                620       \n",
      "                                                                 \n",
      " dense_2 (Dense)             (None, 7)                 147       \n",
      "                                                                 \n",
      "=================================================================\n",
      "Total params: 729867 (2.78 MB)\n",
      "Trainable params: 729867 (2.78 MB)\n",
      "Non-trainable params: 0 (0.00 Byte)\n",
      "_________________________________________________________________\n"
     ]
    },
    {
     "name": "stderr",
     "output_type": "stream",
     "text": [
      "2024-03-26 19:17:27.113522: I external/local_xla/xla/stream_executor/cuda/cuda_executor.cc:887] could not open file to read NUMA node: /sys/bus/pci/devices/0000:01:00.0/numa_node\n",
      "Your kernel may have been built without NUMA support.\n",
      "2024-03-26 19:17:27.113580: I external/local_xla/xla/stream_executor/cuda/cuda_executor.cc:887] could not open file to read NUMA node: /sys/bus/pci/devices/0000:01:00.0/numa_node\n",
      "Your kernel may have been built without NUMA support.\n",
      "2024-03-26 19:17:27.113596: I external/local_xla/xla/stream_executor/cuda/cuda_executor.cc:887] could not open file to read NUMA node: /sys/bus/pci/devices/0000:01:00.0/numa_node\n",
      "Your kernel may have been built without NUMA support.\n",
      "2024-03-26 19:17:27.113714: I external/local_xla/xla/stream_executor/cuda/cuda_executor.cc:887] could not open file to read NUMA node: /sys/bus/pci/devices/0000:01:00.0/numa_node\n",
      "Your kernel may have been built without NUMA support.\n",
      "2024-03-26 19:17:27.113730: I external/local_xla/xla/stream_executor/cuda/cuda_executor.cc:887] could not open file to read NUMA node: /sys/bus/pci/devices/0000:01:00.0/numa_node\n",
      "Your kernel may have been built without NUMA support.\n",
      "2024-03-26 19:17:27.113742: I external/local_xla/xla/stream_executor/cuda/cuda_executor.cc:887] could not open file to read NUMA node: /sys/bus/pci/devices/0000:01:00.0/numa_node\n",
      "Your kernel may have been built without NUMA support.\n",
      "2024-03-26 19:17:27.114082: I external/local_xla/xla/stream_executor/cuda/cuda_executor.cc:887] could not open file to read NUMA node: /sys/bus/pci/devices/0000:01:00.0/numa_node\n",
      "Your kernel may have been built without NUMA support.\n",
      "2024-03-26 19:17:27.114091: I tensorflow/core/common_runtime/gpu/gpu_device.cc:2022] Could not identify NUMA node of platform GPU id 0, defaulting to 0.  Your kernel may not have been built with NUMA support.\n",
      "2024-03-26 19:17:27.114108: I external/local_xla/xla/stream_executor/cuda/cuda_executor.cc:887] could not open file to read NUMA node: /sys/bus/pci/devices/0000:01:00.0/numa_node\n",
      "Your kernel may have been built without NUMA support.\n",
      "2024-03-26 19:17:27.114118: I tensorflow/core/common_runtime/gpu/gpu_device.cc:1929] Created device /job:localhost/replica:0/task:0/device:GPU:0 with 3511 MB memory:  -> device: 0, name: NVIDIA GeForce RTX 4070 Laptop GPU, pci bus id: 0000:01:00.0, compute capability: 8.9\n"
     ]
    }
   ],
   "source": [
    "# Initialize the model\n",
    "cnnmodel = Sequential()\n",
    "\n",
    "# Ensure the input_shape parameter matches the shape of X_train1\n",
    "cnnmodel.add(Conv1D(396, 5, strides=1, activation='relu', input_shape=(X_train1.shape[1],X_train1.shape[2])))\n",
    "cnnmodel.add(MaxPooling1D(pool_size=2, strides=2))\n",
    "\n",
    "cnnmodel.add(Conv1D(192, 7, strides=1, activation='relu'))\n",
    "\n",
    "cnnmodel.add(MaxPooling1D(pool_size=2, strides=2))\n",
    "cnnmodel.add(Conv1D(88, 9, strides=1, activation='relu'))\n",
    "cnnmodel.add(MaxPooling1D(pool_size=2, strides=2))\n",
    "cnnmodel.add(Conv1D(34, 11, strides=1, activation='relu', name = 'last_conv_layer'))\n",
    "cnnmodel.add(MaxPooling1D(pool_size=2, strides=2))\n",
    "\n",
    "# Flatten the tensor output from the convolutional part of the CNN\n",
    "cnnmodel.add(Flatten())\n",
    "\n",
    "# Add fully connected layers\n",
    "cnnmodel.add(Dense(30, activation='relu'))\n",
    "cnnmodel.add(Dense(20, activation='relu'))\n",
    "cnnmodel.add(Dense(7, activation='softmax'))  \n",
    "\n",
    "cnnmodel.summary()"
   ]
  },
  {
   "cell_type": "code",
   "execution_count": 5,
   "metadata": {},
   "outputs": [],
   "source": [
    "from sklearn.utils import class_weight\n",
    "class_weights = class_weight.compute_class_weight('balanced', classes=np.unique(y_train), y=y_train)\n"
   ]
  },
  {
   "cell_type": "code",
   "execution_count": 6,
   "metadata": {},
   "outputs": [
    {
     "data": {
      "text/plain": [
       "array([0.25926669, 2.33363445, 2.33258089, 2.33363445, 2.33363445,\n",
       "       2.33258089])"
      ]
     },
     "execution_count": 6,
     "metadata": {},
     "output_type": "execute_result"
    }
   ],
   "source": [
    "class_weights"
   ]
  },
  {
   "cell_type": "code",
   "execution_count": 7,
   "metadata": {},
   "outputs": [
    {
     "name": "stdout",
     "output_type": "stream",
     "text": [
      "Epoch 1/50\n"
     ]
    },
    {
     "name": "stderr",
     "output_type": "stream",
     "text": [
      "2024-03-26 19:17:32.228155: I external/local_xla/xla/stream_executor/cuda/cuda_dnn.cc:454] Loaded cuDNN version 8904\n",
      "2024-03-26 19:17:32.342677: I external/local_tsl/tsl/platform/default/subprocess.cc:304] Start cannot spawn child process: No such file or directory\n",
      "2024-03-26 19:17:32.639292: I external/local_tsl/tsl/platform/default/subprocess.cc:304] Start cannot spawn child process: No such file or directory\n",
      "2024-03-26 19:17:33.046104: I external/local_xla/xla/service/service.cc:168] XLA service 0x7f130cd31a20 initialized for platform CUDA (this does not guarantee that XLA will be used). Devices:\n",
      "2024-03-26 19:17:33.046132: I external/local_xla/xla/service/service.cc:176]   StreamExecutor device (0): NVIDIA GeForce RTX 4070 Laptop GPU, Compute Capability 8.9\n",
      "2024-03-26 19:17:33.050749: I tensorflow/compiler/mlir/tensorflow/utils/dump_mlir_util.cc:269] disabling MLIR crash reproducer, set env var `MLIR_CRASH_REPRODUCER_DIRECTORY` to enable.\n",
      "WARNING: All log messages before absl::InitializeLog() is called are written to STDERR\n",
      "I0000 00:00:1711480653.103191   96737 device_compiler.h:186] Compiled cluster using XLA!  This line is logged at most once for the lifetime of the process.\n"
     ]
    },
    {
     "name": "stdout",
     "output_type": "stream",
     "text": [
      "969/969 [==============================] - 11s 9ms/step - loss: 0.2888 - accuracy: 0.9101 - val_loss: 0.1235 - val_accuracy: 0.9630\n",
      "Epoch 2/50\n",
      "969/969 [==============================] - 7s 7ms/step - loss: 0.1163 - accuracy: 0.9643 - val_loss: 0.0915 - val_accuracy: 0.9734\n",
      "Epoch 3/50\n",
      "969/969 [==============================] - 7s 7ms/step - loss: 0.0813 - accuracy: 0.9734 - val_loss: 0.0698 - val_accuracy: 0.9766\n",
      "Epoch 4/50\n",
      "969/969 [==============================] - 7s 7ms/step - loss: 0.0665 - accuracy: 0.9788 - val_loss: 0.0654 - val_accuracy: 0.9786\n",
      "Epoch 5/50\n",
      "969/969 [==============================] - 7s 7ms/step - loss: 0.0512 - accuracy: 0.9835 - val_loss: 0.0631 - val_accuracy: 0.9794\n",
      "Epoch 6/50\n",
      "969/969 [==============================] - 7s 7ms/step - loss: 0.0465 - accuracy: 0.9850 - val_loss: 0.0779 - val_accuracy: 0.9751\n",
      "Epoch 7/50\n",
      "969/969 [==============================] - 7s 7ms/step - loss: 0.0408 - accuracy: 0.9874 - val_loss: 0.0568 - val_accuracy: 0.9818\n",
      "Epoch 8/50\n",
      "969/969 [==============================] - 7s 7ms/step - loss: 0.0339 - accuracy: 0.9892 - val_loss: 0.0561 - val_accuracy: 0.9826\n",
      "Epoch 9/50\n",
      "969/969 [==============================] - 7s 7ms/step - loss: 0.0301 - accuracy: 0.9906 - val_loss: 0.0429 - val_accuracy: 0.9876\n",
      "Epoch 10/50\n",
      "969/969 [==============================] - 7s 7ms/step - loss: 0.0264 - accuracy: 0.9918 - val_loss: 0.0862 - val_accuracy: 0.9759\n",
      "Epoch 11/50\n",
      "969/969 [==============================] - 7s 7ms/step - loss: 0.0338 - accuracy: 0.9892 - val_loss: 0.0390 - val_accuracy: 0.9894\n",
      "Epoch 12/50\n",
      "969/969 [==============================] - 7s 7ms/step - loss: 0.0195 - accuracy: 0.9941 - val_loss: 0.0498 - val_accuracy: 0.9861\n",
      "Epoch 13/50\n",
      "969/969 [==============================] - 7s 7ms/step - loss: 0.0227 - accuracy: 0.9928 - val_loss: 0.0364 - val_accuracy: 0.9881\n",
      "Epoch 14/50\n",
      "969/969 [==============================] - 7s 7ms/step - loss: 0.0199 - accuracy: 0.9937 - val_loss: 0.0399 - val_accuracy: 0.9884\n",
      "Epoch 15/50\n",
      "969/969 [==============================] - 7s 7ms/step - loss: 0.0201 - accuracy: 0.9938 - val_loss: 0.0675 - val_accuracy: 0.9837\n",
      "Epoch 16/50\n",
      "969/969 [==============================] - 7s 7ms/step - loss: 0.0214 - accuracy: 0.9937 - val_loss: 0.0553 - val_accuracy: 0.9845\n",
      "Epoch 17/50\n",
      "969/969 [==============================] - 7s 7ms/step - loss: 0.0154 - accuracy: 0.9953 - val_loss: 0.0460 - val_accuracy: 0.9898\n",
      "Epoch 18/50\n",
      "969/969 [==============================] - 7s 8ms/step - loss: 0.0183 - accuracy: 0.9943 - val_loss: 0.0592 - val_accuracy: 0.9841\n",
      "Epoch 19/50\n",
      "969/969 [==============================] - 8s 8ms/step - loss: 0.0134 - accuracy: 0.9960 - val_loss: 0.0375 - val_accuracy: 0.9910\n",
      "Epoch 20/50\n",
      "969/969 [==============================] - 8s 8ms/step - loss: 0.0180 - accuracy: 0.9945 - val_loss: 0.0460 - val_accuracy: 0.9880\n",
      "Epoch 21/50\n",
      "969/969 [==============================] - 8s 8ms/step - loss: 0.0106 - accuracy: 0.9965 - val_loss: 0.0566 - val_accuracy: 0.9880\n",
      "Epoch 22/50\n",
      "969/969 [==============================] - 8s 8ms/step - loss: 0.0122 - accuracy: 0.9964 - val_loss: 0.0801 - val_accuracy: 0.9870\n",
      "Epoch 23/50\n",
      "969/969 [==============================] - 8s 8ms/step - loss: 0.0181 - accuracy: 0.9949 - val_loss: 0.0637 - val_accuracy: 0.9863\n"
     ]
    }
   ],
   "source": [
    "cnnmodel.compile(optimizer=tf.keras.optimizers.Adam(learning_rate=0.001), loss='categorical_crossentropy', metrics=['accuracy'])\n",
    "early_stopping = tf.keras.callbacks.EarlyStopping(monitor='val_loss', patience=10, mode='min',min_delta=0.001, restore_best_weights=True)\n",
    "history = cnnmodel.fit(X_train1, y_train1, validation_data=(X_val1, y_val1), epochs=50,callbacks=[early_stopping], verbose=1)\n"
   ]
  },
  {
   "cell_type": "code",
   "execution_count": 8,
   "metadata": {},
   "outputs": [
    {
     "name": "stdout",
     "output_type": "stream",
     "text": [
      "[    0 58951  2493  6725  2923  1277   425]\n"
     ]
    }
   ],
   "source": [
    "class_counts = np.bincount(y_test.astype(int))\n",
    "print(class_counts)\n"
   ]
  },
  {
   "cell_type": "code",
   "execution_count": 9,
   "metadata": {},
   "outputs": [
    {
     "name": "stdout",
     "output_type": "stream",
     "text": [
      "2275/2275 [==============================] - 5s 2ms/step\n",
      "Confusion Matrix:\n",
      "[[58503     2    12   121   288    25]\n",
      " [    0  2492     0     1     0     0]\n",
      " [    9     0  6678     9    29     0]\n",
      " [   14     0     3  2889    11     6]\n",
      " [   25     0     2     1  1249     0]\n",
      " [    4     0     1     4     0   416]]\n",
      "F1 Score: 0.992482352480428\n"
     ]
    }
   ],
   "source": [
    "from sklearn.metrics import confusion_matrix, f1_score\n",
    "\n",
    "# Predict the test data\n",
    "y_pred = cnnmodel.predict(X_test1)\n",
    "\n",
    "# Convert the predicted probabilities to class labels\n",
    "y_pred_labels = np.argmax(y_pred, axis=1)\n",
    "\n",
    "# Create the confusion matrix\n",
    "cm = confusion_matrix(y_test, y_pred_labels)\n",
    "print(\"Confusion Matrix:\")\n",
    "print(cm)\n",
    "\n",
    "# Calculate the F1 score\n",
    "f1 = f1_score(y_test, y_pred_labels, average='weighted')\n",
    "print(\"F1 Score:\", f1)\n",
    "\n",
    "\n"
   ]
  },
  {
   "cell_type": "code",
   "execution_count": 10,
   "metadata": {},
   "outputs": [],
   "source": [
    "cnnmodel.save('./models/cnnmodel.h5')\n"
   ]
  },
  {
   "cell_type": "code",
   "execution_count": null,
   "metadata": {},
   "outputs": [],
   "source": []
  }
 ],
 "metadata": {
  "kernelspec": {
   "display_name": "Python 3",
   "language": "python",
   "name": "python3"
  },
  "language_info": {
   "codemirror_mode": {
    "name": "ipython",
    "version": 3
   },
   "file_extension": ".py",
   "mimetype": "text/x-python",
   "name": "python",
   "nbconvert_exporter": "python",
   "pygments_lexer": "ipython3",
   "version": "3.10.12"
  }
 },
 "nbformat": 4,
 "nbformat_minor": 2
}
