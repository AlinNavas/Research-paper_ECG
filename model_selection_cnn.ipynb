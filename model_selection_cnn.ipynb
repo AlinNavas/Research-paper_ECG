{
 "cells": [
  {
   "cell_type": "code",
   "execution_count": 1,
   "metadata": {},
   "outputs": [
    {
     "name": "stderr",
     "output_type": "stream",
     "text": [
      "2024-03-05 14:58:02.974477: I tensorflow/core/util/port.cc:113] oneDNN custom operations are on. You may see slightly different numerical results due to floating-point round-off errors from different computation orders. To turn them off, set the environment variable `TF_ENABLE_ONEDNN_OPTS=0`.\n",
      "2024-03-05 14:58:03.254289: E external/local_xla/xla/stream_executor/cuda/cuda_dnn.cc:9261] Unable to register cuDNN factory: Attempting to register factory for plugin cuDNN when one has already been registered\n",
      "2024-03-05 14:58:03.254320: E external/local_xla/xla/stream_executor/cuda/cuda_fft.cc:607] Unable to register cuFFT factory: Attempting to register factory for plugin cuFFT when one has already been registered\n",
      "2024-03-05 14:58:03.301790: E external/local_xla/xla/stream_executor/cuda/cuda_blas.cc:1515] Unable to register cuBLAS factory: Attempting to register factory for plugin cuBLAS when one has already been registered\n",
      "2024-03-05 14:58:03.406751: I tensorflow/core/platform/cpu_feature_guard.cc:182] This TensorFlow binary is optimized to use available CPU instructions in performance-critical operations.\n",
      "To enable the following instructions: AVX2 AVX_VNNI FMA, in other operations, rebuild TensorFlow with the appropriate compiler flags.\n",
      "2024-03-05 14:58:04.275615: W tensorflow/compiler/tf2tensorrt/utils/py_utils.cc:38] TF-TRT Warning: Could not find TensorRT\n"
     ]
    }
   ],
   "source": [
    "import numpy as np\n",
    "import pickle\n",
    "import glob\n",
    "import matplotlib.pyplot as plt\n",
    "import pandas as pd\n",
    "from scipy import *\n",
    "import os\n",
    "import seaborn as sns\n",
    "import tensorflow as tf\n",
    "from tensorflow.keras.utils import to_categorical\n",
    "from tensorflow.keras.models import Sequential\n",
    "from tensorflow.keras.layers import Dense, Dropout\n",
    "from sklearn.model_selection import train_test_split\n",
    "from sklearn import *\n",
    "from sklearn.metrics import *\n",
    "sns.set()\n",
    "import warnings\n",
    "warnings.filterwarnings(\"ignore\")\n",
    "length = 277"
   ]
  },
  {
   "cell_type": "code",
   "execution_count": 2,
   "metadata": {},
   "outputs": [
    {
     "name": "stdout",
     "output_type": "stream",
     "text": [
      "[name: \"/device:CPU:0\"\n",
      "device_type: \"CPU\"\n",
      "memory_limit: 268435456\n",
      "locality {\n",
      "}\n",
      "incarnation: 4673490079228234288\n",
      "xla_global_id: -1\n",
      ", name: \"/device:GPU:0\"\n",
      "device_type: \"GPU\"\n",
      "memory_limit: 5803868160\n",
      "locality {\n",
      "  bus_id: 1\n",
      "  links {\n",
      "  }\n",
      "}\n",
      "incarnation: 11274968909953342159\n",
      "physical_device_desc: \"device: 0, name: NVIDIA GeForce RTX 4070 Laptop GPU, pci bus id: 0000:01:00.0, compute capability: 8.9\"\n",
      "xla_global_id: 416903419\n",
      "]\n"
     ]
    },
    {
     "name": "stderr",
     "output_type": "stream",
     "text": [
      "2024-03-05 14:58:07.028798: I external/local_xla/xla/stream_executor/cuda/cuda_executor.cc:887] could not open file to read NUMA node: /sys/bus/pci/devices/0000:01:00.0/numa_node\n",
      "Your kernel may have been built without NUMA support.\n",
      "2024-03-05 14:58:07.195323: I external/local_xla/xla/stream_executor/cuda/cuda_executor.cc:887] could not open file to read NUMA node: /sys/bus/pci/devices/0000:01:00.0/numa_node\n",
      "Your kernel may have been built without NUMA support.\n",
      "2024-03-05 14:58:07.195367: I external/local_xla/xla/stream_executor/cuda/cuda_executor.cc:887] could not open file to read NUMA node: /sys/bus/pci/devices/0000:01:00.0/numa_node\n",
      "Your kernel may have been built without NUMA support.\n",
      "2024-03-05 14:58:07.412840: I external/local_xla/xla/stream_executor/cuda/cuda_executor.cc:887] could not open file to read NUMA node: /sys/bus/pci/devices/0000:01:00.0/numa_node\n",
      "Your kernel may have been built without NUMA support.\n",
      "2024-03-05 14:58:07.412898: I external/local_xla/xla/stream_executor/cuda/cuda_executor.cc:887] could not open file to read NUMA node: /sys/bus/pci/devices/0000:01:00.0/numa_node\n",
      "Your kernel may have been built without NUMA support.\n",
      "2024-03-05 14:58:07.412905: I tensorflow/core/common_runtime/gpu/gpu_device.cc:2022] Could not identify NUMA node of platform GPU id 0, defaulting to 0.  Your kernel may not have been built with NUMA support.\n",
      "2024-03-05 14:58:07.412935: I external/local_xla/xla/stream_executor/cuda/cuda_executor.cc:887] could not open file to read NUMA node: /sys/bus/pci/devices/0000:01:00.0/numa_node\n",
      "Your kernel may have been built without NUMA support.\n",
      "2024-03-05 14:58:07.412952: I tensorflow/core/common_runtime/gpu/gpu_device.cc:1929] Created device /device:GPU:0 with 5535 MB memory:  -> device: 0, name: NVIDIA GeForce RTX 4070 Laptop GPU, pci bus id: 0000:01:00.0, compute capability: 8.9\n"
     ]
    }
   ],
   "source": [
    "from tensorflow.python.client import device_lib\n",
    "print(device_lib.list_local_devices())"
   ]
  },
  {
   "cell_type": "code",
   "execution_count": 3,
   "metadata": {},
   "outputs": [
    {
     "name": "stdout",
     "output_type": "stream",
     "text": [
      "Loading  ./data/train_test/train_patients.csv\n",
      "Loading  ./data/train_test/test_patients.csv\n",
      "(200352, 277)\n",
      "(14482, 277)\n",
      "X_train shape: (160281, 275)\n",
      "X_val shape: (40071, 275)\n",
      "y_train shape: (160281,)\n",
      "y_val shape: (40071,)\n"
     ]
    }
   ],
   "source": [
    "# Load the training and testing data:\n",
    "train_values = np.empty(shape=[0, length])\n",
    "test_values = np.empty(shape=[0, length])\n",
    "\n",
    "train_beats = glob.glob('./data/train_test/train_patients.csv')\n",
    "test_beats = glob.glob('./data/train_test/test_patients.csv')\n",
    "\n",
    "for j in train_beats:\n",
    "    print('Loading ', j)\n",
    "    csvrows = np.loadtxt(j, delimiter=',')\n",
    "    train_values = np.append(train_values, csvrows, axis=0)\n",
    "\n",
    "for j in test_beats:\n",
    "    print('Loading ', j)\n",
    "    csvrows = np.loadtxt(j, delimiter=',')\n",
    "    test_values = np.append(test_values, csvrows, axis=0)\n",
    "    \n",
    "print(train_values.shape)\n",
    "print(test_values.shape)\n",
    "\n",
    "# Separate the training and testing data, and one-hot encode Y:\n",
    "X_train = train_values[:,:-2]\n",
    "X_test = test_values[:,:-2]\n",
    "y_train = train_values[:,-2]\n",
    "y_test = test_values[:,-2]\n",
    "X_test1 = X_test.reshape(-1, X_train.shape[1], 1)\n",
    "y_test1=to_categorical(y_test)\n",
    "\n",
    "\n",
    "X_train, X_val, y_train, y_val = train_test_split(X_train, y_train, test_size=0.2, random_state=42)\n",
    "\n",
    "print(\"X_train shape:\", X_train.shape)\n",
    "print(\"X_val shape:\", X_val.shape)\n",
    "print(\"y_train shape:\", y_train.shape)\n",
    "print(\"y_val shape:\", y_val.shape)\n",
    "X_train1 = X_train.reshape(-1, X_train.shape[1], 1)\n",
    "y_train1=to_categorical(y_train)\n",
    "\n",
    "X_val1 = X_val.reshape(-1, X_train.shape[1], 1)\n",
    "y_val1=to_categorical(y_val)\n"
   ]
  },
  {
   "cell_type": "code",
   "execution_count": 6,
   "metadata": {},
   "outputs": [
    {
     "name": "stdout",
     "output_type": "stream",
     "text": [
      "Model: \"sequential_2\"\n",
      "_________________________________________________________________\n",
      " Layer (type)                Output Shape              Param #   \n",
      "=================================================================\n",
      " conv1d (Conv1D)             (None, 271, 396)          2376      \n",
      "                                                                 \n",
      " max_pooling1d (MaxPooling1  (None, 135, 396)          0         \n",
      " D)                                                              \n",
      "                                                                 \n",
      " conv1d_1 (Conv1D)           (None, 129, 192)          532416    \n",
      "                                                                 \n",
      " max_pooling1d_1 (MaxPoolin  (None, 64, 192)           0         \n",
      " g1D)                                                            \n",
      "                                                                 \n",
      " conv1d_2 (Conv1D)           (None, 56, 88)            152152    \n",
      "                                                                 \n",
      " max_pooling1d_2 (MaxPoolin  (None, 28, 88)            0         \n",
      " g1D)                                                            \n",
      "                                                                 \n",
      " conv1d_3 (Conv1D)           (None, 18, 34)            32946     \n",
      "                                                                 \n",
      " max_pooling1d_3 (MaxPoolin  (None, 9, 34)             0         \n",
      " g1D)                                                            \n",
      "                                                                 \n",
      " flatten (Flatten)           (None, 306)               0         \n",
      "                                                                 \n",
      " dense (Dense)               (None, 30)                9210      \n",
      "                                                                 \n",
      " dense_1 (Dense)             (None, 20)                620       \n",
      "                                                                 \n",
      " dense_2 (Dense)             (None, 9)                 189       \n",
      "                                                                 \n",
      "=================================================================\n",
      "Total params: 729909 (2.78 MB)\n",
      "Trainable params: 729909 (2.78 MB)\n",
      "Non-trainable params: 0 (0.00 Byte)\n",
      "_________________________________________________________________\n"
     ]
    }
   ],
   "source": [
    "# Initialize the model\n",
    "cnnmodel = Sequential()\n",
    "\n",
    "# Ensure the input_shape parameter matches the shape of X_train1\n",
    "cnnmodel.add(Conv1D(396, 5, strides=1, activation='relu', input_shape=(X_train1.shape[1],X_train1.shape[2])))\n",
    "cnnmodel.add(MaxPooling1D(pool_size=2, strides=2))\n",
    "\n",
    "cnnmodel.add(Conv1D(192, 7, strides=1, activation='relu'))\n",
    "\n",
    "cnnmodel.add(MaxPooling1D(pool_size=2, strides=2))\n",
    "cnnmodel.add(Conv1D(88, 9, strides=1, activation='relu'))\n",
    "cnnmodel.add(MaxPooling1D(pool_size=2, strides=2))\n",
    "cnnmodel.add(Conv1D(34, 11, strides=1, activation='relu'))\n",
    "cnnmodel.add(MaxPooling1D(pool_size=2, strides=2))\n",
    "\n",
    "# Flatten the tensor output from the convolutional part of the CNN\n",
    "cnnmodel.add(Flatten())\n",
    "\n",
    "# Add fully connected layers\n",
    "cnnmodel.add(Dense(30, activation='relu'))\n",
    "cnnmodel.add(Dense(20, activation='relu'))\n",
    "cnnmodel.add(Dense(9, activation='softmax'))  \n",
    "\n",
    "cnnmodel.summary()"
   ]
  },
  {
   "cell_type": "code",
   "execution_count": 9,
   "metadata": {},
   "outputs": [],
   "source": [
    "from sklearn.utils import class_weight\n",
    "class_weights = class_weight.compute_class_weight('balanced', classes=np.unique(y_train), y=y_train)\n"
   ]
  },
  {
   "cell_type": "code",
   "execution_count": 10,
   "metadata": {},
   "outputs": [
    {
     "data": {
      "text/plain": [
       "array([0.99707002, 0.99975674, 1.00115556, 1.00250813, 1.00145581,\n",
       "       0.99920827, 0.99707002, 1.00180634])"
      ]
     },
     "execution_count": 10,
     "metadata": {},
     "output_type": "execute_result"
    }
   ],
   "source": [
    "class_weights"
   ]
  },
  {
   "cell_type": "code",
   "execution_count": 7,
   "metadata": {},
   "outputs": [
    {
     "name": "stdout",
     "output_type": "stream",
     "text": [
      "Epoch 1/50\n"
     ]
    },
    {
     "name": "stderr",
     "output_type": "stream",
     "text": [
      "2024-03-05 15:17:57.471594: I external/local_xla/xla/stream_executor/cuda/cuda_dnn.cc:454] Loaded cuDNN version 8904\n",
      "2024-03-05 15:17:57.859150: I external/local_tsl/tsl/platform/default/subprocess.cc:304] Start cannot spawn child process: No such file or directory\n",
      "2024-03-05 15:17:58.184060: I external/local_tsl/tsl/platform/default/subprocess.cc:304] Start cannot spawn child process: No such file or directory\n",
      "2024-03-05 15:17:58.593503: I external/local_xla/xla/service/service.cc:168] XLA service 0x7f704cd36dd0 initialized for platform CUDA (this does not guarantee that XLA will be used). Devices:\n",
      "2024-03-05 15:17:58.593529: I external/local_xla/xla/service/service.cc:176]   StreamExecutor device (0): NVIDIA GeForce RTX 4070 Laptop GPU, Compute Capability 8.9\n",
      "2024-03-05 15:17:58.605945: I tensorflow/compiler/mlir/tensorflow/utils/dump_mlir_util.cc:269] disabling MLIR crash reproducer, set env var `MLIR_CRASH_REPRODUCER_DIRECTORY` to enable.\n",
      "WARNING: All log messages before absl::InitializeLog() is called are written to STDERR\n",
      "I0000 00:00:1709651878.671294    4419 device_compiler.h:186] Compiled cluster using XLA!  This line is logged at most once for the lifetime of the process.\n"
     ]
    },
    {
     "name": "stdout",
     "output_type": "stream",
     "text": [
      "5009/5009 [==============================] - 38s 7ms/step - loss: 0.1816 - accuracy: 0.9405 - val_loss: 0.0917 - val_accuracy: 0.9701\n",
      "Epoch 2/50\n",
      "5009/5009 [==============================] - 34s 7ms/step - loss: 0.0679 - accuracy: 0.9779 - val_loss: 0.0522 - val_accuracy: 0.9836\n",
      "Epoch 3/50\n",
      "5009/5009 [==============================] - 35s 7ms/step - loss: 0.0481 - accuracy: 0.9846 - val_loss: 0.0524 - val_accuracy: 0.9843\n",
      "Epoch 4/50\n",
      "5009/5009 [==============================] - 34s 7ms/step - loss: 0.0379 - accuracy: 0.9878 - val_loss: 0.0389 - val_accuracy: 0.9891\n",
      "Epoch 5/50\n",
      "5009/5009 [==============================] - 37s 7ms/step - loss: 0.0319 - accuracy: 0.9901 - val_loss: 0.0301 - val_accuracy: 0.9917\n",
      "Epoch 6/50\n",
      "5009/5009 [==============================] - 35s 7ms/step - loss: 0.0289 - accuracy: 0.9909 - val_loss: 0.0456 - val_accuracy: 0.9852\n",
      "Epoch 7/50\n",
      "5009/5009 [==============================] - 36s 7ms/step - loss: 0.0255 - accuracy: 0.9922 - val_loss: 0.0291 - val_accuracy: 0.9920\n",
      "Epoch 8/50\n",
      "5009/5009 [==============================] - 36s 7ms/step - loss: 0.0210 - accuracy: 0.9935 - val_loss: 0.0312 - val_accuracy: 0.9910\n",
      "Epoch 9/50\n",
      "5009/5009 [==============================] - 37s 7ms/step - loss: 0.0197 - accuracy: 0.9942 - val_loss: 0.0251 - val_accuracy: 0.9935\n",
      "Epoch 10/50\n",
      "5009/5009 [==============================] - 35s 7ms/step - loss: 0.0198 - accuracy: 0.9943 - val_loss: 0.0257 - val_accuracy: 0.9945\n",
      "Epoch 11/50\n",
      "5009/5009 [==============================] - 37s 7ms/step - loss: 0.0179 - accuracy: 0.9949 - val_loss: 0.0461 - val_accuracy: 0.9877\n",
      "Epoch 12/50\n",
      "5009/5009 [==============================] - 35s 7ms/step - loss: 0.0161 - accuracy: 0.9955 - val_loss: 0.0309 - val_accuracy: 0.9931\n",
      "Epoch 13/50\n",
      "5009/5009 [==============================] - 37s 7ms/step - loss: 0.0162 - accuracy: 0.9954 - val_loss: 0.0239 - val_accuracy: 0.9942\n",
      "Epoch 14/50\n",
      "5009/5009 [==============================] - 33s 7ms/step - loss: 0.0147 - accuracy: 0.9957 - val_loss: 0.0181 - val_accuracy: 0.9961\n",
      "Epoch 15/50\n",
      "5009/5009 [==============================] - 36s 7ms/step - loss: 0.0148 - accuracy: 0.9960 - val_loss: 0.0237 - val_accuracy: 0.9949\n",
      "Epoch 16/50\n",
      "5009/5009 [==============================] - 35s 7ms/step - loss: 0.0128 - accuracy: 0.9963 - val_loss: 0.0210 - val_accuracy: 0.9955\n",
      "Epoch 17/50\n",
      "5009/5009 [==============================] - 38s 7ms/step - loss: 0.0134 - accuracy: 0.9965 - val_loss: 0.0253 - val_accuracy: 0.9953\n",
      "Epoch 18/50\n",
      "5009/5009 [==============================] - 39s 8ms/step - loss: 0.0127 - accuracy: 0.9967 - val_loss: 0.0268 - val_accuracy: 0.9932\n",
      "Epoch 19/50\n",
      "5009/5009 [==============================] - 40s 8ms/step - loss: 0.0124 - accuracy: 0.9968 - val_loss: 0.0229 - val_accuracy: 0.9964\n",
      "Epoch 20/50\n",
      "5009/5009 [==============================] - 38s 8ms/step - loss: 0.0117 - accuracy: 0.9968 - val_loss: 0.0314 - val_accuracy: 0.9946\n",
      "Epoch 21/50\n",
      "5009/5009 [==============================] - 37s 7ms/step - loss: 0.0124 - accuracy: 0.9970 - val_loss: 0.0237 - val_accuracy: 0.9972\n",
      "Epoch 22/50\n",
      "5009/5009 [==============================] - 37s 7ms/step - loss: 0.0111 - accuracy: 0.9972 - val_loss: 0.0239 - val_accuracy: 0.9954\n",
      "Epoch 23/50\n",
      "5009/5009 [==============================] - 40s 8ms/step - loss: 0.0107 - accuracy: 0.9972 - val_loss: 0.0195 - val_accuracy: 0.9973\n",
      "Epoch 24/50\n",
      "5009/5009 [==============================] - 41s 8ms/step - loss: 0.0122 - accuracy: 0.9971 - val_loss: 0.0278 - val_accuracy: 0.9962\n"
     ]
    }
   ],
   "source": [
    "cnnmodel.compile(optimizer=tf.keras.optimizers.Adam(learning_rate=0.001), loss='categorical_crossentropy', metrics=['accuracy'])\n",
    "early_stopping = tf.keras.callbacks.EarlyStopping(monitor='val_loss', patience=10, mode='min',min_delta=0.001, restore_best_weights=True)\n",
    "history = cnnmodel.fit(X_train1, y_train1, validation_data=(X_val, y_val1), epochs=50,callbacks=[early_stopping], verbose=1)\n"
   ]
  },
  {
   "cell_type": "code",
   "execution_count": 8,
   "metadata": {},
   "outputs": [
    {
     "name": "stdout",
     "output_type": "stream",
     "text": [
      "[   0 9363    0    0 1087    0  387 1138 2507]\n"
     ]
    }
   ],
   "source": [
    "class_counts = np.bincount(y_test.astype(int))\n",
    "print(class_counts)\n"
   ]
  },
  {
   "cell_type": "code",
   "execution_count": 10,
   "metadata": {},
   "outputs": [
    {
     "name": "stdout",
     "output_type": "stream",
     "text": [
      "453/453 [==============================] - 1s 3ms/step\n",
      "Confusion Matrix:\n",
      "[[9215   17   46   38   19   28    0]\n",
      " [   0    0    0    0    0    0    0]\n",
      " [   0    0 1084    0    3    0    0]\n",
      " [   0    0    0    0    0    0    0]\n",
      " [   0    0    0    0  387    0    0]\n",
      " [   0    0    0    0    0 1138    0]\n",
      " [   1    0    0    0    0   19 2487]]\n",
      "F1 Score: 0.9901343164390113\n"
     ]
    }
   ],
   "source": [
    "from sklearn.metrics import confusion_matrix, f1_score\n",
    "\n",
    "# Predict the test data\n",
    "y_pred = cnnmodel.predict(X_test1)\n",
    "\n",
    "# Convert the predicted probabilities to class labels\n",
    "y_pred_labels = np.argmax(y_pred, axis=1)\n",
    "\n",
    "# Create the confusion matrix\n",
    "cm = confusion_matrix(y_test, y_pred_labels)\n",
    "print(\"Confusion Matrix:\")\n",
    "print(cm)\n",
    "\n",
    "# Calculate the F1 score\n",
    "f1 = f1_score(y_test, y_pred_labels, average='weighted')\n",
    "print(\"F1 Score:\", f1)\n",
    "\n",
    "\n"
   ]
  },
  {
   "cell_type": "code",
   "execution_count": null,
   "metadata": {},
   "outputs": [],
   "source": []
  },
  {
   "cell_type": "code",
   "execution_count": null,
   "metadata": {},
   "outputs": [],
   "source": []
  }
 ],
 "metadata": {
  "kernelspec": {
   "display_name": "Python 3",
   "language": "python",
   "name": "python3"
  },
  "language_info": {
   "codemirror_mode": {
    "name": "ipython",
    "version": 3
   },
   "file_extension": ".py",
   "mimetype": "text/x-python",
   "name": "python",
   "nbconvert_exporter": "python",
   "pygments_lexer": "ipython3",
   "version": "3.10.12"
  }
 },
 "nbformat": 4,
 "nbformat_minor": 2
}
